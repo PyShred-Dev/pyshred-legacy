{
 "cells": [
  {
   "cell_type": "code",
   "execution_count": 20,
   "metadata": {},
   "outputs": [
    {
     "name": "stdout",
     "output_type": "stream",
     "text": [
      "The autoreload extension is already loaded. To reload it, use:\n",
      "  %reload_ext autoreload\n"
     ]
    }
   ],
   "source": [
    "import numpy as np\n",
    "import os\n",
    "import torch\n",
    "from misc.example_helper import *\n",
    "import importlib\n",
    "import processing\n",
    "import models\n",
    "%load_ext autoreload\n",
    "%autoreload 2\n",
    "importlib.reload(processing)\n",
    "importlib.reload(models)\n",
    "from processing.data_manager import SHREDDataManager\n",
    "from processing.parametric_data_manager import ParametricSHREDDataManager\n",
    "from models.shred_models import SHRED"
   ]
  },
  {
   "cell_type": "code",
   "execution_count": null,
   "metadata": {},
   "outputs": [
    {
     "name": "stdout",
     "output_type": "stream",
     "text": [
      "self.full_state_data flattened (2000, 65792)\n",
      "n_components 20\n",
      "V.shape (20, 65792)\n",
      "compressed full_state_data: (2000, 20)\n",
      "self.full_state_data pre transform (2000, 65792)\n",
      "transformed_data_std_scale (2000, 65792)\n",
      "transformed_data (2000, 20)\n",
      "Processed: Jex_3D.npz\n",
      "self.full_state_data flattened (2000, 65792)\n",
      "n_components 20\n",
      "V.shape (20, 65792)\n",
      "compressed full_state_data: (2000, 20)\n",
      "self.full_state_data pre transform (2000, 65792)\n",
      "transformed_data_std_scale (2000, 65792)\n",
      "transformed_data (2000, 20)\n",
      "Processed: Jey_3D.npz\n",
      "self.full_state_data flattened (2000, 65792)\n",
      "n_components 20\n",
      "V.shape (20, 65792)\n",
      "compressed full_state_data: (2000, 20)\n",
      "self.full_state_data pre transform (2000, 65792)\n",
      "transformed_data_std_scale (2000, 65792)\n",
      "transformed_data (2000, 20)\n",
      "Processed: Jez_3D.npz\n",
      "self.full_state_data flattened (2000, 65792)\n",
      "n_components 20\n",
      "V.shape (20, 65792)\n",
      "compressed full_state_data: (2000, 20)\n",
      "self.full_state_data pre transform (2000, 65792)\n",
      "transformed_data_std_scale (2000, 65792)\n",
      "transformed_data (2000, 20)\n",
      "Processed: ni_3D.npz\n"
     ]
    }
   ],
   "source": [
    "import os\n",
    "\n",
    "# Initialize SHREDDataManager\n",
    "manager = SHREDDataManager(\n",
    "    lags = 20,\n",
    "    train_size = 0.7,\n",
    "    val_size = 0.15,\n",
    "    test_size = 0.15,\n",
    "    scaling = \"minmax\",\n",
    "    compression = 20,\n",
    "    reconstructor=True,\n",
    "    time=np.arange(0, 2000),\n",
    "    forecastor=True)\n",
    "\n",
    "\n",
    "# Add data to manager (no sensors)\n",
    "input_folder = \"data4fields_npz\"\n",
    "for filename in os.listdir(input_folder):\n",
    "    if filename.endswith(\".npz\") and filename != 'ni_3D.npz':\n",
    "        file_path = os.path.join(input_folder, filename)\n",
    "        manager.add(\n",
    "            data=file_path,\n",
    "        )\n",
    "        print(f\"Processed: {filename}\")\n",
    "\n",
    "\n",
    "# Add data to manager (with sensors)\n",
    "ni_3D = np.load('data4fields_npz/ni_3D.npz')\n",
    "ni_3D = ni_3D[ni_3D.files[0]]\n",
    "mobile_sensors = [\n",
    "    perimeter_walk(height = ni_3D.shape[1], width = ni_3D.shape[2], timesteps = ni_3D.shape[0], clockwise=True),\n",
    "    perimeter_walk(height = ni_3D.shape[1], width = ni_3D.shape[2], timesteps = ni_3D.shape[0], clockwise=False)\n",
    "]\n",
    "manager.add(\n",
    "    data=ni_3D,\n",
    "    random_sensors=2,\n",
    "    stationary_sensors=[(7, 9), (0,0)],\n",
    "    mobile_sensors=mobile_sensors\n",
    ")\n"
   ]
  },
  {
   "cell_type": "code",
   "execution_count": 22,
   "metadata": {},
   "outputs": [
    {
     "name": "stdout",
     "output_type": "stream",
     "text": [
      "Data Shapes:\n",
      "Reconstructor Data\n",
      "train X: torch.Size([1400, 21, 6])\n",
      "train Y: torch.Size([1400, 80])\n",
      "valid X: torch.Size([300, 21, 6])\n",
      "valid Y: torch.Size([300, 80])\n",
      "test X: torch.Size([300, 21, 6])\n",
      "test Y: torch.Size([300, 80])\n",
      "Forecaster Data\n",
      "train X: torch.Size([1399, 21, 6])\n",
      "train Y: torch.Size([1399, 6])\n",
      "valid X: torch.Size([299, 21, 6])\n",
      "valid Y: torch.Size([299, 6])\n",
      "test X: torch.Size([299, 21, 6])\n",
      "test Y: torch.Size([299, 6])\n"
     ]
    }
   ],
   "source": [
    "# Get train/valid/test datasets\n",
    "train_set, valid_set, test_set = manager.preprocess()\n",
    "\n",
    "# Print dataset shapes\n",
    "print('Data Shapes:')\n",
    "print ('Reconstructor Data')\n",
    "print('train X:', train_set.reconstructor.X.shape)\n",
    "print('train Y:', train_set.reconstructor.Y.shape)\n",
    "print('valid X:', valid_set.reconstructor.X.shape)\n",
    "print('valid Y:', valid_set.reconstructor.Y.shape)\n",
    "print('test X:', test_set.reconstructor.X.shape)\n",
    "print('test Y:', test_set.reconstructor.Y.shape)\n",
    "\n",
    "\n",
    "print ('Forecaster Data')\n",
    "print('train X:', train_set.forecaster.X.shape)\n",
    "print('train Y:', train_set.forecaster.Y.shape)\n",
    "print('valid X:', valid_set.forecaster.X.shape)\n",
    "print('valid Y:', valid_set.forecaster.Y.shape)\n",
    "print('test X:', test_set.forecaster.X.shape)\n",
    "print('test Y:', test_set.forecaster.Y.shape)"
   ]
  },
  {
   "cell_type": "code",
   "execution_count": 23,
   "metadata": {},
   "outputs": [
    {
     "name": "stdout",
     "output_type": "stream",
     "text": [
      "Verify forecaster train set...\n",
      "tensor(True)\n",
      "Verify forecaster valid set...\n",
      "tensor(True)\n",
      "Verify forecaster test set...\n",
      "tensor(True)\n"
     ]
    }
   ],
   "source": [
    "# Verfiy forecaster data\n",
    "print(\"Verify forecaster train set...\")\n",
    "print(torch.all(train_set.forecaster.X[1:, -1, :] == train_set.forecaster.Y[:-1, :]))\n",
    "\n",
    "print(\"Verify forecaster valid set...\")\n",
    "print(torch.all(valid_set.forecaster.X[1:, -1, :] == valid_set.forecaster.Y[:-1, :]))\n",
    "\n",
    "print(\"Verify forecaster test set...\")\n",
    "print(torch.all(test_set.forecaster.X[1:, -1, :] == test_set.forecaster.Y[:-1, :]))\n"
   ]
  },
  {
   "cell_type": "code",
   "execution_count": null,
   "metadata": {},
   "outputs": [
    {
     "name": "stdout",
     "output_type": "stream",
     "text": [
      "Newest Version\n",
      "looking good\n",
      "looking good\n"
     ]
    }
   ],
   "source": [
    "# initialize SHRED\n",
    "shred = SHRED(sequence='LSTM', decoder='SDN')\n",
    "# fit SHRED\n",
    "shred.fit(train_set, valid_set, num_epochs=100)"
   ]
  },
  {
   "cell_type": "code",
   "execution_count": 25,
   "metadata": {},
   "outputs": [
    {
     "name": "stdout",
     "output_type": "stream",
     "text": [
      "Newest Version\n"
     ]
    },
    {
     "data": {
      "text/plain": [
       "(300, 6)"
      ]
     },
     "execution_count": 25,
     "metadata": {},
     "output_type": "execute_result"
    }
   ],
   "source": [
    "prediction = shred(test_set.reconstructor.X).detach().cpu().numpy()\n",
    "prediction.shape"
   ]
  },
  {
   "cell_type": "code",
   "execution_count": 28,
   "metadata": {},
   "outputs": [
    {
     "data": {
      "text/plain": [
       "array([[0.44964713, 0.49621034, 0.46844593, 0.41317737, 0.28430694,\n",
       "        0.24998127],\n",
       "       [0.43268353, 0.4855593 , 0.45093492, 0.40504658, 0.28789067,\n",
       "        0.22630996],\n",
       "       [0.43358487, 0.47830343, 0.44968498, 0.4001704 , 0.2755316 ,\n",
       "        0.23329918],\n",
       "       ...,\n",
       "       [0.454553  , 0.5167656 , 0.47648823, 0.41398188, 0.30312017,\n",
       "        0.254604  ],\n",
       "       [0.43435878, 0.4889119 , 0.45707515, 0.4088219 , 0.30662656,\n",
       "        0.21527702],\n",
       "       [0.43107188, 0.51079357, 0.45260632, 0.3956104 , 0.30799788,\n",
       "        0.23773687]], shape=(300, 6), dtype=float32)"
      ]
     },
     "execution_count": 28,
     "metadata": {},
     "output_type": "execute_result"
    }
   ],
   "source": [
    "prediction"
   ]
  },
  {
   "cell_type": "code",
   "execution_count": null,
   "metadata": {},
   "outputs": [],
   "source": [
    "# raw_sensor_measurements = #(ntime, nsensors)\n",
    "\n",
    "# manager.process()"
   ]
  }
 ],
 "metadata": {
  "kernelspec": {
   "display_name": "pyshred",
   "language": "python",
   "name": "python3"
  },
  "language_info": {
   "codemirror_mode": {
    "name": "ipython",
    "version": 3
   },
   "file_extension": ".py",
   "mimetype": "text/x-python",
   "name": "python",
   "nbconvert_exporter": "python",
   "pygments_lexer": "ipython3",
   "version": "3.10.16"
  }
 },
 "nbformat": 4,
 "nbformat_minor": 2
}
