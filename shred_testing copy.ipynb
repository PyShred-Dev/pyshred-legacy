{
 "cells": [
  {
   "cell_type": "code",
   "execution_count": 71,
   "metadata": {},
   "outputs": [
    {
     "name": "stdout",
     "output_type": "stream",
     "text": [
      "The autoreload extension is already loaded. To reload it, use:\n",
      "  %reload_ext autoreload\n"
     ]
    }
   ],
   "source": [
    "import numpy as np\n",
    "import os\n",
    "import torch\n",
    "from misc.example_helper import *\n",
    "import importlib\n",
    "import processing\n",
    "import models\n",
    "%load_ext autoreload\n",
    "%autoreload 2\n",
    "importlib.reload(processing)\n",
    "importlib.reload(models)\n",
    "from processing.data_manager import SHREDDataManager\n",
    "from processing.parametric_data_manager import ParametricSHREDDataManager\n",
    "from models.shred_models import SHRED\n",
    "from models.shred_models import evaluate\n",
    "import os\n"
   ]
  },
  {
   "cell_type": "code",
   "execution_count": 129,
   "metadata": {},
   "outputs": [
    {
     "name": "stdout",
     "output_type": "stream",
     "text": [
      "self.random_indices[\"train\"] [1170  873  617 ...  578 1947 1797]\n",
      "full_state_data_std_scaled [[ 4.30976052e+00  4.44095815e+00  4.38182420e+00 ...  4.45344336e+00\n",
      "   3.85123729e+00  3.95069582e+00]\n",
      " [ 3.75471217e+00  3.45825688e+00  3.87210918e+00 ...  3.60383155e+00\n",
      "   3.94922601e+00  3.77523108e+00]\n",
      " [ 3.29763163e+00  2.22609454e+00  1.99192786e+00 ...  2.73051545e+00\n",
      "   2.42985383e+00  1.23016115e+00]\n",
      " ...\n",
      " [-2.68888512e-01 -6.65562929e-02  3.01027629e-01 ...  1.33975956e+00\n",
      "   8.46093521e-01  1.33655837e+00]\n",
      " [-5.15176836e-04  1.46402166e-01  6.71817779e-01 ...  8.65049878e-01\n",
      "   3.97095755e-01  6.56311357e-01]\n",
      " [ 2.06339915e-01  5.99417091e-01  5.29654568e-01 ...  7.54637771e-01\n",
      "   5.93229481e-01  9.28349711e-01]]\n",
      "self.full_state_data pre transform (2000, 65792)\n",
      "transformed_data_std_scale (2000, 65792)\n",
      "transformed_data (2000, 1000)\n",
      "full_state_data_std_scaled [[ 4.04778707  4.15656717  4.07324084 ...  4.31877432  3.72084887\n",
      "   3.87836434]\n",
      " [ 3.53314664  3.2490844   3.6050398  ...  3.5138002   3.81320471\n",
      "   3.71071254]\n",
      " [ 3.10934188  2.11123497  1.87799073 ...  2.68636718  2.38117353\n",
      "   1.27896729]\n",
      " ...\n",
      " [-0.19753304 -0.00593041  0.32480666 ...  1.3686801   0.88845557\n",
      "   1.38062695]\n",
      " [ 0.05130253  0.19072766  0.66539763 ...  0.91891115  0.46526841\n",
      "   0.73066939]\n",
      " [ 0.24309842  0.60906764  0.53481297 ...  0.81429997  0.6501274\n",
      "   0.99059465]]\n",
      "self.full_state_data pre transform (2000, 65792)\n",
      "transformed_data_std_scale (2000, 65792)\n",
      "transformed_data (2000, 1000)\n"
     ]
    }
   ],
   "source": [
    "# Initialize SHREDDataManager\n",
    "manager = SHREDDataManager(\n",
    "    lags = 20,\n",
    "    train_size = 0.6,\n",
    "    val_size = 0.2,\n",
    "    test_size = 0.2,\n",
    "    scaling=True,\n",
    "    # scaling = False,\n",
    "    compression=1000,\n",
    "    time=np.arange(0, 2000),\n",
    "    method=\"all\"\n",
    ")\n",
    "\n",
    "input_folder = \"data4fields_npz\"\n",
    "filename = 'ni_3D.npz'\n",
    "\n",
    "file_path = os.path.join(input_folder, filename)\n",
    "ni_3D = np.load(file_path)\n",
    "ni_3D = ni_3D[ni_3D.files[0]]\n",
    "mobile_sensors = [\n",
    "    perimeter_walk(height = ni_3D.shape[1], width = ni_3D.shape[2], timesteps = ni_3D.shape[0], clockwise=True),\n",
    "    perimeter_walk(height = ni_3D.shape[1], width = ni_3D.shape[2], timesteps = ni_3D.shape[0], clockwise=False)\n",
    "]\n",
    "manager.add_field(\n",
    "    data=ni_3D,\n",
    "    random_sensors=3,\n",
    "    # stationary_sensors=[(7, 9), (0,0)],\n",
    "    # mobile_sensors=mobile_sensors,\n",
    "    id = str(os.path.splitext(filename)[0])\n",
    ")"
   ]
  },
  {
   "cell_type": "code",
   "execution_count": 130,
   "metadata": {},
   "outputs": [
    {
     "data": {
      "text/html": [
       "<div>\n",
       "<style scoped>\n",
       "    .dataframe tbody tr th:only-of-type {\n",
       "        vertical-align: middle;\n",
       "    }\n",
       "\n",
       "    .dataframe tbody tr th {\n",
       "        vertical-align: top;\n",
       "    }\n",
       "\n",
       "    .dataframe thead th {\n",
       "        text-align: right;\n",
       "    }\n",
       "</style>\n",
       "<table border=\"1\" class=\"dataframe\">\n",
       "  <thead>\n",
       "    <tr style=\"text-align: right;\">\n",
       "      <th></th>\n",
       "      <th>field id</th>\n",
       "      <th>sensor id</th>\n",
       "      <th>sensor type</th>\n",
       "      <th>location/trajectory</th>\n",
       "    </tr>\n",
       "  </thead>\n",
       "  <tbody>\n",
       "    <tr>\n",
       "      <th>0</th>\n",
       "      <td>ni_3D</td>\n",
       "      <td>ni_3D-0</td>\n",
       "      <td>stationary (randomly selected)</td>\n",
       "      <td>(113, 66)</td>\n",
       "    </tr>\n",
       "    <tr>\n",
       "      <th>1</th>\n",
       "      <td>ni_3D</td>\n",
       "      <td>ni_3D-1</td>\n",
       "      <td>stationary (randomly selected)</td>\n",
       "      <td>(18, 209)</td>\n",
       "    </tr>\n",
       "    <tr>\n",
       "      <th>2</th>\n",
       "      <td>ni_3D</td>\n",
       "      <td>ni_3D-2</td>\n",
       "      <td>stationary (randomly selected)</td>\n",
       "      <td>(34, 183)</td>\n",
       "    </tr>\n",
       "  </tbody>\n",
       "</table>\n",
       "</div>"
      ],
      "text/plain": [
       "  field id sensor id                     sensor type location/trajectory\n",
       "0    ni_3D   ni_3D-0  stationary (randomly selected)           (113, 66)\n",
       "1    ni_3D   ni_3D-1  stationary (randomly selected)           (18, 209)\n",
       "2    ni_3D   ni_3D-2  stationary (randomly selected)           (34, 183)"
      ]
     },
     "execution_count": 130,
     "metadata": {},
     "output_type": "execute_result"
    }
   ],
   "source": [
    "manager.input_summary"
   ]
  },
  {
   "cell_type": "code",
   "execution_count": 131,
   "metadata": {},
   "outputs": [
    {
     "data": {
      "text/html": [
       "<div>\n",
       "<style scoped>\n",
       "    .dataframe tbody tr th:only-of-type {\n",
       "        vertical-align: middle;\n",
       "    }\n",
       "\n",
       "    .dataframe tbody tr th {\n",
       "        vertical-align: top;\n",
       "    }\n",
       "\n",
       "    .dataframe thead th {\n",
       "        text-align: right;\n",
       "    }\n",
       "</style>\n",
       "<table border=\"1\" class=\"dataframe\">\n",
       "  <thead>\n",
       "    <tr style=\"text-align: right;\">\n",
       "      <th></th>\n",
       "      <th>time</th>\n",
       "      <th>ni_3D-0</th>\n",
       "      <th>ni_3D-1</th>\n",
       "      <th>ni_3D-2</th>\n",
       "    </tr>\n",
       "  </thead>\n",
       "  <tbody>\n",
       "    <tr>\n",
       "      <th>0</th>\n",
       "      <td>0</td>\n",
       "      <td>5.017400e+16</td>\n",
       "      <td>4.833600e+16</td>\n",
       "      <td>4.758400e+16</td>\n",
       "    </tr>\n",
       "    <tr>\n",
       "      <th>1</th>\n",
       "      <td>1</td>\n",
       "      <td>5.105000e+16</td>\n",
       "      <td>4.972500e+16</td>\n",
       "      <td>4.786500e+16</td>\n",
       "    </tr>\n",
       "    <tr>\n",
       "      <th>2</th>\n",
       "      <td>2</td>\n",
       "      <td>5.322400e+16</td>\n",
       "      <td>5.138600e+16</td>\n",
       "      <td>4.750200e+16</td>\n",
       "    </tr>\n",
       "    <tr>\n",
       "      <th>3</th>\n",
       "      <td>3</td>\n",
       "      <td>5.612900e+16</td>\n",
       "      <td>5.220400e+16</td>\n",
       "      <td>4.739200e+16</td>\n",
       "    </tr>\n",
       "    <tr>\n",
       "      <th>4</th>\n",
       "      <td>4</td>\n",
       "      <td>5.732000e+16</td>\n",
       "      <td>5.214700e+16</td>\n",
       "      <td>4.823800e+16</td>\n",
       "    </tr>\n",
       "    <tr>\n",
       "      <th>...</th>\n",
       "      <td>...</td>\n",
       "      <td>...</td>\n",
       "      <td>...</td>\n",
       "      <td>...</td>\n",
       "    </tr>\n",
       "    <tr>\n",
       "      <th>1995</th>\n",
       "      <td>1995</td>\n",
       "      <td>1.750600e+17</td>\n",
       "      <td>6.676100e+16</td>\n",
       "      <td>8.909800e+16</td>\n",
       "    </tr>\n",
       "    <tr>\n",
       "      <th>1996</th>\n",
       "      <td>1996</td>\n",
       "      <td>1.581400e+17</td>\n",
       "      <td>6.636200e+16</td>\n",
       "      <td>9.512100e+16</td>\n",
       "    </tr>\n",
       "    <tr>\n",
       "      <th>1997</th>\n",
       "      <td>1997</td>\n",
       "      <td>1.410100e+17</td>\n",
       "      <td>5.860100e+16</td>\n",
       "      <td>9.906000e+16</td>\n",
       "    </tr>\n",
       "    <tr>\n",
       "      <th>1998</th>\n",
       "      <td>1998</td>\n",
       "      <td>1.286100e+17</td>\n",
       "      <td>5.704300e+16</td>\n",
       "      <td>1.041700e+17</td>\n",
       "    </tr>\n",
       "    <tr>\n",
       "      <th>1999</th>\n",
       "      <td>1999</td>\n",
       "      <td>1.252900e+17</td>\n",
       "      <td>5.920300e+16</td>\n",
       "      <td>9.952700e+16</td>\n",
       "    </tr>\n",
       "  </tbody>\n",
       "</table>\n",
       "<p>2000 rows × 4 columns</p>\n",
       "</div>"
      ],
      "text/plain": [
       "      time       ni_3D-0       ni_3D-1       ni_3D-2\n",
       "0        0  5.017400e+16  4.833600e+16  4.758400e+16\n",
       "1        1  5.105000e+16  4.972500e+16  4.786500e+16\n",
       "2        2  5.322400e+16  5.138600e+16  4.750200e+16\n",
       "3        3  5.612900e+16  5.220400e+16  4.739200e+16\n",
       "4        4  5.732000e+16  5.214700e+16  4.823800e+16\n",
       "...    ...           ...           ...           ...\n",
       "1995  1995  1.750600e+17  6.676100e+16  8.909800e+16\n",
       "1996  1996  1.581400e+17  6.636200e+16  9.512100e+16\n",
       "1997  1997  1.410100e+17  5.860100e+16  9.906000e+16\n",
       "1998  1998  1.286100e+17  5.704300e+16  1.041700e+17\n",
       "1999  1999  1.252900e+17  5.920300e+16  9.952700e+16\n",
       "\n",
       "[2000 rows x 4 columns]"
      ]
     },
     "execution_count": 131,
     "metadata": {},
     "output_type": "execute_result"
    }
   ],
   "source": [
    "manager.sensor_measurements # always shows unscaled, raw sensor data"
   ]
  },
  {
   "cell_type": "code",
   "execution_count": null,
   "metadata": {},
   "outputs": [],
   "source": [
    "train_set, val_set, test_set = manager.preprocess()"
   ]
  },
  {
   "cell_type": "code",
   "execution_count": null,
   "metadata": {},
   "outputs": [
    {
     "data": {
      "text/plain": [
       "(1200, 1000)"
      ]
     },
     "execution_count": 133,
     "metadata": {},
     "output_type": "execute_result"
    }
   ],
   "source": [
    "ni_3D_train_DM = train_set.predictor_dataset.Y.numpy()\n",
    "ni_3D_train_DM.shape"
   ]
  },
  {
   "cell_type": "code",
   "execution_count": 134,
   "metadata": {},
   "outputs": [
    {
     "data": {
      "text/plain": [
       "(1200, 65792)"
      ]
     },
     "execution_count": 134,
     "metadata": {},
     "output_type": "execute_result"
    }
   ],
   "source": [
    "ni_3D_train = ni_3D[0:1200,:]\n",
    "ni_3D_train = ni_3D_train.reshape(ni_3D_train.shape[0], -1)\n",
    "ni_3D_train.shape"
   ]
  },
  {
   "cell_type": "code",
   "execution_count": 135,
   "metadata": {},
   "outputs": [
    {
     "data": {
      "text/plain": [
       "array([[1.        , 0.32971737, 0.49816957, ..., 0.5959017 , 0.39603755,\n",
       "        0.45326614],\n",
       "       [0.99520165, 0.33104098, 0.49803093, ..., 0.50374556, 0.45187616,\n",
       "        0.48809505],\n",
       "       [0.9889164 , 0.33421493, 0.49737728, ..., 0.32912353, 0.56991506,\n",
       "        0.56899697],\n",
       "       ...,\n",
       "       [0.01988333, 0.43880913, 0.4288136 , ..., 0.657122  , 0.348138  ,\n",
       "        0.55649877],\n",
       "       [0.02024428, 0.45084876, 0.3163485 , ..., 0.36948106, 0.5720663 ,\n",
       "        0.41384125],\n",
       "       [0.02063805, 0.46200365, 0.2547258 , ..., 0.52083355, 0.45105964,\n",
       "        0.54179835]], shape=(1200, 1000), dtype=float32)"
      ]
     },
     "execution_count": 135,
     "metadata": {},
     "output_type": "execute_result"
    }
   ],
   "source": [
    "ni_3D_train_DM"
   ]
  },
  {
   "cell_type": "code",
   "execution_count": 136,
   "metadata": {},
   "outputs": [
    {
     "data": {
      "text/plain": [
       "array([[5.6167e+16, 5.5958e+16, 5.5041e+16, ..., 5.6783e+16, 5.2811e+16,\n",
       "        5.4436e+16],\n",
       "       [5.2558e+16, 4.9793e+16, 5.1893e+16, ..., 5.1335e+16, 5.3438e+16,\n",
       "        5.3275e+16],\n",
       "       [4.9586e+16, 4.2063e+16, 4.0281e+16, ..., 4.5735e+16, 4.3716e+16,\n",
       "        3.6435e+16],\n",
       "       ...,\n",
       "       [3.1246e+16, 3.3379e+16, 3.1204e+16, ..., 3.3453e+16, 3.4206e+16,\n",
       "        4.0513e+16],\n",
       "       [3.5052e+16, 2.9534e+16, 2.9089e+16, ..., 3.6916e+16, 3.9387e+16,\n",
       "        3.8081e+16],\n",
       "       [3.5691e+16, 3.3199e+16, 3.0193e+16, ..., 3.9615e+16, 3.9410e+16,\n",
       "        3.4756e+16]], shape=(1200, 65792))"
      ]
     },
     "execution_count": 136,
     "metadata": {},
     "output_type": "execute_result"
    }
   ],
   "source": [
    "ni_3D_train"
   ]
  },
  {
   "cell_type": "code",
   "execution_count": null,
   "metadata": {},
   "outputs": [
    {
     "name": "stdout",
     "output_type": "stream",
     "text": [
      "method temporal_reconstructor\n",
      "(1200, 1000)\n",
      "unflattend\n"
     ]
    }
   ],
   "source": [
    "unscaled = manager.postprocess(data = ni_3D_train_DM, uncompress = True, unscale = True, method = 'predictor')"
   ]
  },
  {
   "cell_type": "code",
   "execution_count": 138,
   "metadata": {},
   "outputs": [
    {
     "data": {
      "text/plain": [
       "{'ni_3D': array([[[5.59927565e+16, 5.34564525e+16, 5.34796037e+16, ...,\n",
       "          4.63183236e+16, 5.39506443e+16, 5.13967644e+16],\n",
       "         [5.39037926e+16, 4.74510005e+16, 4.88397146e+16, ...,\n",
       "          4.67884634e+16, 5.18782235e+16, 5.77414788e+16],\n",
       "         [4.61161420e+16, 4.33364055e+16, 4.86440904e+16, ...,\n",
       "          4.69028210e+16, 4.63880198e+16, 4.82317363e+16],\n",
       "         ...,\n",
       "         [4.56427210e+16, 5.06695633e+16, 4.70886834e+16, ...,\n",
       "          4.64310046e+16, 5.06681616e+16, 5.48173315e+16],\n",
       "         [4.82035902e+16, 5.39040091e+16, 4.50532430e+16, ...,\n",
       "          5.02794265e+16, 4.92698895e+16, 5.35990303e+16],\n",
       "         [6.08653677e+16, 5.81077356e+16, 4.60167379e+16, ...,\n",
       "          5.53086565e+16, 5.33423474e+16, 5.26248297e+16]],\n",
       " \n",
       "        [[5.40104522e+16, 5.13057463e+16, 5.15229995e+16, ...,\n",
       "          4.53017242e+16, 5.21324515e+16, 5.10329637e+16],\n",
       "         [5.18070463e+16, 4.62382883e+16, 4.76753277e+16, ...,\n",
       "          4.58735955e+16, 5.01009877e+16, 5.57260216e+16],\n",
       "         [4.55183138e+16, 4.30376129e+16, 4.76593355e+16, ...,\n",
       "          4.60433499e+16, 4.58800930e+16, 4.78078947e+16],\n",
       "         ...,\n",
       "         [4.53636198e+16, 4.93044546e+16, 4.60020054e+16, ...,\n",
       "          4.56660766e+16, 4.94605196e+16, 5.35399534e+16],\n",
       "         [4.75065602e+16, 5.22484646e+16, 4.38289456e+16, ...,\n",
       "          4.85687932e+16, 4.84815792e+16, 5.24548605e+16],\n",
       "         [5.89271935e+16, 5.61037968e+16, 4.45966483e+16, ...,\n",
       "          5.32260649e+16, 5.19249093e+16, 5.10506325e+16]],\n",
       " \n",
       "        [[4.60744585e+16, 4.32026016e+16, 4.34379580e+16, ...,\n",
       "          4.10788980e+16, 4.44405641e+16, 4.63098936e+16],\n",
       "         [4.38648564e+16, 4.14395190e+16, 4.23218291e+16, ...,\n",
       "          4.20283057e+16, 4.30359999e+16, 4.63099962e+16],\n",
       "         [4.26624727e+16, 4.13370357e+16, 4.31132698e+16, ...,\n",
       "          4.21850210e+16, 4.32165948e+16, 4.45589936e+16],\n",
       "         ...,\n",
       "         [4.22848309e+16, 4.35426523e+16, 4.19010254e+16, ...,\n",
       "          4.20591413e+16, 4.41101476e+16, 4.76737487e+16],\n",
       "         [4.32907989e+16, 4.53484538e+16, 3.94719512e+16, ...,\n",
       "          4.19773346e+16, 4.38159157e+16, 4.64109373e+16],\n",
       "         [5.02213201e+16, 4.75740885e+16, 3.92545385e+16, ...,\n",
       "          4.47669166e+16, 4.49269258e+16, 4.36244938e+16]],\n",
       " \n",
       "        ...,\n",
       " \n",
       "        [[3.12995846e+16, 3.31975611e+16, 3.14993679e+16, ...,\n",
       "          2.87192100e+16, 2.78297347e+16, 3.36744683e+16],\n",
       "         [3.28029972e+16, 3.39917946e+16, 3.15173180e+16, ...,\n",
       "          2.96914500e+16, 3.00712640e+16, 3.66775576e+16],\n",
       "         [3.67251333e+16, 3.53771732e+16, 3.19511299e+16, ...,\n",
       "          3.19674002e+16, 3.40144264e+16, 3.72357997e+16],\n",
       "         ...,\n",
       "         [4.18273792e+16, 4.23302765e+16, 4.08269169e+16, ...,\n",
       "          4.01390543e+16, 4.03762172e+16, 4.24802972e+16],\n",
       "         [4.01292684e+16, 3.80703735e+16, 3.98952458e+16, ...,\n",
       "          3.62790808e+16, 3.61534079e+16, 4.01584843e+16],\n",
       "         [3.87612576e+16, 3.60614900e+16, 3.88866578e+16, ...,\n",
       "          3.37429969e+16, 3.41075726e+16, 4.00863840e+16]],\n",
       " \n",
       "        [[3.49202998e+16, 2.96211408e+16, 2.88243196e+16, ...,\n",
       "          3.10432093e+16, 3.32691468e+16, 3.63516074e+16],\n",
       "         [3.64076166e+16, 3.20854527e+16, 3.11616568e+16, ...,\n",
       "          3.39075950e+16, 3.46120043e+16, 3.65471191e+16],\n",
       "         [3.86591118e+16, 3.50284741e+16, 3.36651387e+16, ...,\n",
       "          3.68254638e+16, 3.70950915e+16, 3.84813545e+16],\n",
       "         ...,\n",
       "         [4.05806884e+16, 4.19158804e+16, 4.02105395e+16, ...,\n",
       "          4.18715727e+16, 4.23618332e+16, 4.23013395e+16],\n",
       "         [4.06537687e+16, 4.07603321e+16, 3.78800701e+16, ...,\n",
       "          3.86668058e+16, 4.25954156e+16, 4.16344950e+16],\n",
       "         [4.14946273e+16, 3.86818491e+16, 3.61242551e+16, ...,\n",
       "          3.66379888e+16, 3.94334572e+16, 3.84297113e+16]],\n",
       " \n",
       "        [[3.58085132e+16, 3.31893206e+16, 3.03268369e+16, ...,\n",
       "          3.40367824e+16, 3.18890468e+16, 3.15813126e+16],\n",
       "         [3.80403033e+16, 3.28348649e+16, 3.14669889e+16, ...,\n",
       "          3.59781632e+16, 3.42691669e+16, 3.32636401e+16],\n",
       "         [4.01089361e+16, 3.28388492e+16, 3.15967465e+16, ...,\n",
       "          3.88059643e+16, 3.66178273e+16, 3.41417073e+16],\n",
       "         ...,\n",
       "         [4.05709486e+16, 4.10882693e+16, 4.24168243e+16, ...,\n",
       "          4.19284943e+16, 4.30653575e+16, 4.31396880e+16],\n",
       "         [3.82273596e+16, 4.02385628e+16, 3.84814348e+16, ...,\n",
       "          4.03281123e+16, 3.97171728e+16, 3.67142947e+16],\n",
       "         [3.67707741e+16, 3.86289359e+16, 3.68789870e+16, ...,\n",
       "          3.97419675e+16, 3.94123193e+16, 3.45761129e+16]]],\n",
       "       shape=(1200, 257, 256))}"
      ]
     },
     "execution_count": 138,
     "metadata": {},
     "output_type": "execute_result"
    }
   ],
   "source": [
    "unscaled"
   ]
  },
  {
   "cell_type": "code",
   "execution_count": null,
   "metadata": {},
   "outputs": [
    {
     "data": {
      "text/plain": [
       "(1200, 1000)"
      ]
     },
     "execution_count": 139,
     "metadata": {},
     "output_type": "execute_result"
    }
   ],
   "source": [
    "ni_3D_train_DM = train_set.reconstructor_dataset.Y.numpy()\n",
    "ni_3D_train_DM.shape"
   ]
  },
  {
   "cell_type": "code",
   "execution_count": 140,
   "metadata": {},
   "outputs": [
    {
     "data": {
      "text/plain": [
       "(3, 65792)"
      ]
     },
     "execution_count": 140,
     "metadata": {},
     "output_type": "execute_result"
    }
   ],
   "source": [
    "# 956 1834 1044\n",
    "# 431  919 1611\n",
    "# 1170  873  617\n",
    "ni_3D_train = ni_3D[(1170, 873, 617),:]\n",
    "ni_3D_train = ni_3D_train.reshape(ni_3D_train.shape[0], -1)\n",
    "ni_3D_train.shape"
   ]
  },
  {
   "cell_type": "code",
   "execution_count": 141,
   "metadata": {},
   "outputs": [
    {
     "data": {
      "text/plain": [
       "array([[2.7722e+16, 2.4955e+16, 2.8830e+16, ..., 2.7285e+16, 3.1451e+16,\n",
       "        2.9047e+16],\n",
       "       [2.7264e+16, 2.5884e+16, 2.5925e+16, ..., 3.2112e+16, 3.1607e+16,\n",
       "        2.5713e+16],\n",
       "       [2.5821e+16, 2.2642e+16, 2.2391e+16, ..., 2.8047e+16, 2.7650e+16,\n",
       "        3.1628e+16]], shape=(3, 65792))"
      ]
     },
     "execution_count": 141,
     "metadata": {},
     "output_type": "execute_result"
    }
   ],
   "source": [
    "ni_3D_train"
   ]
  },
  {
   "cell_type": "code",
   "execution_count": null,
   "metadata": {},
   "outputs": [
    {
     "name": "stdout",
     "output_type": "stream",
     "text": [
      "method random_reconstructor\n",
      "(1200, 1000)\n",
      "unflattend\n"
     ]
    }
   ],
   "source": [
    "unscaled = manager.postprocess(data = ni_3D_train_DM, uncompress = True, unscale = True, method = 'reconstructor')"
   ]
  },
  {
   "cell_type": "code",
   "execution_count": 143,
   "metadata": {},
   "outputs": [
    {
     "data": {
      "text/plain": [
       "{'ni_3D': array([[[2.77463603e+16, 2.54470287e+16, 2.85210738e+16, ...,\n",
       "          2.39559350e+16, 2.61683955e+16, 2.61865888e+16],\n",
       "         [2.96648867e+16, 2.69116443e+16, 2.96741275e+16, ...,\n",
       "          2.48813065e+16, 2.66400835e+16, 2.70162214e+16],\n",
       "         [3.18599558e+16, 2.89159637e+16, 3.16433199e+16, ...,\n",
       "          2.76573642e+16, 2.90974320e+16, 3.05756841e+16],\n",
       "         ...,\n",
       "         [3.76768219e+16, 3.86570955e+16, 3.93153323e+16, ...,\n",
       "          3.31221176e+16, 3.71268795e+16, 3.71201734e+16],\n",
       "         [3.63483074e+16, 3.81060921e+16, 3.59008234e+16, ...,\n",
       "          2.86096708e+16, 3.36892581e+16, 3.27650893e+16],\n",
       "         [3.59235186e+16, 3.77807775e+16, 3.40745015e+16, ...,\n",
       "          2.75989579e+16, 3.23954116e+16, 3.03344493e+16]],\n",
       " \n",
       "        [[2.73758094e+16, 2.54272491e+16, 2.56967842e+16, ...,\n",
       "          2.46809761e+16, 2.35403240e+16, 2.55230528e+16],\n",
       "         [2.86964225e+16, 2.56332933e+16, 2.65666478e+16, ...,\n",
       "          2.65718922e+16, 2.44597338e+16, 2.55692587e+16],\n",
       "         [2.88955479e+16, 2.69994029e+16, 2.96582201e+16, ...,\n",
       "          2.82709401e+16, 2.46495387e+16, 2.49571155e+16],\n",
       "         ...,\n",
       "         [2.91830357e+16, 3.26912573e+16, 3.37673111e+16, ...,\n",
       "          3.96021356e+16, 3.55965652e+16, 3.36141923e+16],\n",
       "         [3.06209099e+16, 3.26109788e+16, 3.24037592e+16, ...,\n",
       "          3.44339216e+16, 3.31078067e+16, 2.97755265e+16],\n",
       "         [3.17902318e+16, 3.17582551e+16, 3.03210449e+16, ...,\n",
       "          3.22979805e+16, 3.16219566e+16, 2.61219970e+16]],\n",
       " \n",
       "        [[2.61156926e+16, 2.32681029e+16, 2.23034760e+16, ...,\n",
       "          2.14930344e+16, 2.38915037e+16, 2.29098450e+16],\n",
       "         [2.56081938e+16, 2.35819098e+16, 2.41286415e+16, ...,\n",
       "          2.13599513e+16, 2.38077428e+16, 2.37533356e+16],\n",
       "         [2.77131470e+16, 2.63166049e+16, 2.63190206e+16, ...,\n",
       "          2.33083885e+16, 2.55263037e+16, 2.54016588e+16],\n",
       "         ...,\n",
       "         [3.83417748e+16, 3.87670192e+16, 4.02062669e+16, ...,\n",
       "          2.96177944e+16, 3.12275816e+16, 3.19440399e+16],\n",
       "         [3.36919614e+16, 3.79112101e+16, 3.60033558e+16, ...,\n",
       "          2.89143118e+16, 2.98415800e+16, 3.12662508e+16],\n",
       "         [3.00230423e+16, 3.61602622e+16, 3.35589745e+16, ...,\n",
       "          2.80687148e+16, 2.81215694e+16, 3.16705374e+16]],\n",
       " \n",
       "        ...,\n",
       " \n",
       "        [[2.36086388e+16, 2.58172885e+16, 2.78618018e+16, ...,\n",
       "          2.37495551e+16, 2.36188120e+16, 2.58493001e+16],\n",
       "         [2.34949345e+16, 2.59487258e+16, 3.03434639e+16, ...,\n",
       "          2.53795742e+16, 2.54719655e+16, 2.67708316e+16],\n",
       "         [2.50642482e+16, 2.73322590e+16, 3.26011162e+16, ...,\n",
       "          2.71046584e+16, 2.60452241e+16, 2.82428376e+16],\n",
       "         ...,\n",
       "         [2.91699374e+16, 2.84751301e+16, 2.58358317e+16, ...,\n",
       "          3.07679314e+16, 2.89520488e+16, 2.75071067e+16],\n",
       "         [2.69315436e+16, 2.71348093e+16, 2.69061789e+16, ...,\n",
       "          2.83577709e+16, 2.85880471e+16, 2.75699793e+16],\n",
       "         [2.55304509e+16, 2.66361876e+16, 2.58039834e+16, ...,\n",
       "          2.69557066e+16, 2.81201768e+16, 2.48589675e+16]],\n",
       " \n",
       "        [[2.24390372e+16, 2.52445468e+16, 2.32410157e+16, ...,\n",
       "          2.54385549e+16, 2.56733411e+16, 2.77578968e+16],\n",
       "         [2.25941698e+16, 2.56723123e+16, 2.41123401e+16, ...,\n",
       "          2.68020359e+16, 2.70690397e+16, 2.96143967e+16],\n",
       "         [2.32498421e+16, 2.54824216e+16, 2.63303524e+16, ...,\n",
       "          2.99101401e+16, 2.79953717e+16, 2.99529156e+16],\n",
       "         ...,\n",
       "         [4.04531570e+16, 3.92519236e+16, 3.68446062e+16, ...,\n",
       "          3.67976506e+16, 3.63649588e+16, 3.71362425e+16],\n",
       "         [3.63331450e+16, 3.66948183e+16, 3.44167545e+16, ...,\n",
       "          3.36674078e+16, 3.26972594e+16, 3.28080341e+16],\n",
       "         [3.56521045e+16, 3.67455296e+16, 3.39209569e+16, ...,\n",
       "          3.27696447e+16, 3.11837330e+16, 3.34028827e+16]],\n",
       " \n",
       "        [[2.85968997e+16, 2.74631358e+16, 2.88094305e+16, ...,\n",
       "          2.84062400e+16, 2.76106020e+16, 2.81557127e+16],\n",
       "         [2.97167886e+16, 2.98751629e+16, 2.89503793e+16, ...,\n",
       "          2.91064764e+16, 2.76153606e+16, 2.94218394e+16],\n",
       "         [3.06276148e+16, 3.27242720e+16, 3.15509159e+16, ...,\n",
       "          3.13215409e+16, 2.86160911e+16, 2.98190844e+16],\n",
       "         ...,\n",
       "         [3.59978499e+16, 3.35297174e+16, 3.08372060e+16, ...,\n",
       "          4.12973948e+16, 3.85689136e+16, 3.58905149e+16],\n",
       "         [3.53973591e+16, 3.10724413e+16, 2.96441659e+16, ...,\n",
       "          3.92881469e+16, 3.49509047e+16, 3.25894897e+16],\n",
       "         [3.46666988e+16, 3.19327860e+16, 2.80637915e+16, ...,\n",
       "          3.76335592e+16, 3.35313921e+16, 3.06771408e+16]]],\n",
       "       shape=(1200, 257, 256))}"
      ]
     },
     "execution_count": 143,
     "metadata": {},
     "output_type": "execute_result"
    }
   ],
   "source": [
    "unscaled"
   ]
  },
  {
   "cell_type": "code",
   "execution_count": null,
   "metadata": {},
   "outputs": [
    {
     "name": "stdout",
     "output_type": "stream",
     "text": [
      "Newest Version\n",
      "input_size 3\n",
      "output_size 65792\n",
      "self._sequence_model_random_reconstructor.output_size 64\n",
      "\n",
      "Fitting Random Reconstructor...\n"
     ]
    },
    {
     "name": "stderr",
     "output_type": "stream",
     "text": [
      "\n",
      "\u001b[A\n",
      "\u001b[A\n",
      "\u001b[A\n",
      "\u001b[A\n",
      "\u001b[A\n",
      "\u001b[A\n",
      "\u001b[A\n",
      "\u001b[A\n",
      "\u001b[A\n",
      "\u001b[A\n",
      "\u001b[A\n",
      "\u001b[A\n",
      "\u001b[A\n",
      "\u001b[A\n",
      "\u001b[A\n",
      "\u001b[A\n",
      "\u001b[A\n",
      "\u001b[A\n",
      "\u001b[A\n",
      "\u001b[A\n",
      "\u001b[A\n",
      "\u001b[A\n",
      "\u001b[A\n",
      "\u001b[A\n",
      "\u001b[A\n",
      "\u001b[A\n",
      "\u001b[A\n",
      "\u001b[A\n",
      "\u001b[A\n",
      "\u001b[A\n",
      "\u001b[A\n",
      "\u001b[A\n",
      "\u001b[A\n",
      "\u001b[A\n",
      "\u001b[A\n",
      "\u001b[A\n",
      "\u001b[A\n",
      "\u001b[A\n",
      "\u001b[A\n",
      "Epoch 1/50: 100%|██████████| 19/19 [00:03<00:00,  5.68batch/s, loss=0.12, L2=0.619, val_loss=0.0295, val_L2=0.334]\n",
      "\n",
      "\u001b[A\n",
      "\u001b[A\n",
      "\u001b[A\n",
      "\u001b[A\n",
      "\u001b[A\n",
      "\u001b[A\n",
      "\u001b[A\n",
      "\u001b[A\n",
      "\u001b[A\n",
      "\u001b[A\n",
      "\u001b[A\n",
      "\u001b[A\n",
      "\u001b[A\n",
      "\u001b[A\n",
      "\u001b[A\n",
      "\u001b[A\n",
      "\u001b[A\n",
      "\u001b[A\n",
      "\u001b[A\n",
      "\u001b[A\n",
      "\u001b[A\n",
      "\u001b[A\n",
      "\u001b[A\n",
      "\u001b[A\n",
      "\u001b[A\n",
      "\u001b[A\n",
      "\u001b[A\n",
      "\u001b[A\n",
      "\u001b[A\n",
      "\u001b[A\n",
      "\u001b[A\n",
      "\u001b[A\n",
      "\u001b[A\n",
      "\u001b[A\n",
      "\u001b[A\n",
      "\u001b[A\n",
      "\u001b[A\n",
      "\u001b[A\n",
      "\u001b[A\n",
      "Epoch 2/50: 100%|██████████| 19/19 [00:03<00:00,  5.76batch/s, loss=0.0296, L2=0.332, val_loss=0.0259, val_L2=0.312]\n",
      "\n",
      "\u001b[A\n",
      "\u001b[A\n",
      "\u001b[A"
     ]
    },
    {
     "ename": "KeyboardInterrupt",
     "evalue": "",
     "output_type": "error",
     "traceback": [
      "\u001b[1;31m---------------------------------------------------------------------------\u001b[0m",
      "\u001b[1;31mKeyboardInterrupt\u001b[0m                         Traceback (most recent call last)",
      "Cell \u001b[1;32mIn[63], line 4\u001b[0m\n\u001b[0;32m      2\u001b[0m shred \u001b[38;5;241m=\u001b[39m SHRED(sequence\u001b[38;5;241m=\u001b[39m\u001b[38;5;124m'\u001b[39m\u001b[38;5;124mLSTM\u001b[39m\u001b[38;5;124m'\u001b[39m, decoder\u001b[38;5;241m=\u001b[39m\u001b[38;5;124m'\u001b[39m\u001b[38;5;124mSDN\u001b[39m\u001b[38;5;124m'\u001b[39m)\n\u001b[0;32m      3\u001b[0m \u001b[38;5;66;03m# fit SHRED\u001b[39;00m\n\u001b[1;32m----> 4\u001b[0m valid_errors \u001b[38;5;241m=\u001b[39m \u001b[43mshred\u001b[49m\u001b[38;5;241;43m.\u001b[39;49m\u001b[43mfit\u001b[49m\u001b[43m(\u001b[49m\u001b[43mtrain_set\u001b[49m\u001b[43m,\u001b[49m\u001b[43m \u001b[49m\u001b[43mvalid_set\u001b[49m\u001b[43m,\u001b[49m\u001b[43m \u001b[49m\u001b[43mnum_epochs\u001b[49m\u001b[38;5;241;43m=\u001b[39;49m\u001b[38;5;241;43m50\u001b[39;49m\u001b[43m,\u001b[49m\u001b[43m \u001b[49m\u001b[43mpatience\u001b[49m\u001b[38;5;241;43m=\u001b[39;49m\u001b[38;5;241;43m20\u001b[39;49m\u001b[43m,\u001b[49m\u001b[43m \u001b[49m\u001b[43mverbose\u001b[49m\u001b[38;5;241;43m=\u001b[39;49m\u001b[38;5;28;43;01mTrue\u001b[39;49;00m\u001b[43m)\u001b[49m\n",
      "File \u001b[1;32mc:\\Users\\David\\OneDrive - UW\\2024_2025\\GoodPySHRED\\PyShred\\models\\shred_models\\shred\\models.py:360\u001b[0m, in \u001b[0;36mSHRED.fit\u001b[1;34m(self, train_dataset, valid_dataset, batch_size, num_epochs, lr, verbose, patience)\u001b[0m\n\u001b[0;32m    358\u001b[0m     \u001b[38;5;28mself\u001b[39m\u001b[38;5;241m.\u001b[39mrandom_reconstructor \u001b[38;5;241m=\u001b[39m RECONSTRUCTOR(sequence\u001b[38;5;241m=\u001b[39m\u001b[38;5;28mself\u001b[39m\u001b[38;5;241m.\u001b[39m_sequence_model_random_reconstructor,decoder\u001b[38;5;241m=\u001b[39m\u001b[38;5;28mself\u001b[39m\u001b[38;5;241m.\u001b[39m_decoder_model_random_reconstructor)\n\u001b[0;32m    359\u001b[0m     \u001b[38;5;28mprint\u001b[39m(\u001b[38;5;124m\"\u001b[39m\u001b[38;5;130;01m\\n\u001b[39;00m\u001b[38;5;124mFitting Random Reconstructor...\u001b[39m\u001b[38;5;124m\"\u001b[39m)\n\u001b[1;32m--> 360\u001b[0m     \u001b[38;5;28mself\u001b[39m\u001b[38;5;241m.\u001b[39mrandom_reconstructor_validation_errors \u001b[38;5;241m=\u001b[39m \u001b[38;5;28;43mself\u001b[39;49m\u001b[38;5;241;43m.\u001b[39;49m\u001b[43mrandom_reconstructor\u001b[49m\u001b[38;5;241;43m.\u001b[39;49m\u001b[43mfit\u001b[49m\u001b[43m(\u001b[49m\u001b[43mmodel\u001b[49m\u001b[43m \u001b[49m\u001b[38;5;241;43m=\u001b[39;49m\u001b[43m \u001b[49m\u001b[38;5;28;43mself\u001b[39;49m\u001b[38;5;241;43m.\u001b[39;49m\u001b[43mrandom_reconstructor\u001b[49m\u001b[43m,\u001b[49m\u001b[43m \u001b[49m\u001b[43mtrain_dataset\u001b[49m\u001b[43m \u001b[49m\u001b[38;5;241;43m=\u001b[39;49m\u001b[43m \u001b[49m\u001b[43mtrain_set\u001b[49m\u001b[43m,\u001b[49m\u001b[43m \u001b[49m\u001b[43mvalid_dataset\u001b[49m\u001b[43m \u001b[49m\u001b[38;5;241;43m=\u001b[39;49m\u001b[43m \u001b[49m\u001b[43mvalid_set\u001b[49m\u001b[43m,\u001b[49m\n\u001b[0;32m    361\u001b[0m \u001b[43m                                                        \u001b[49m\u001b[43mnum_sensors\u001b[49m\u001b[43m \u001b[49m\u001b[38;5;241;43m=\u001b[39;49m\u001b[43m \u001b[49m\u001b[43minput_size\u001b[49m\u001b[43m,\u001b[49m\u001b[43m \u001b[49m\u001b[43moutput_size\u001b[49m\u001b[43m \u001b[49m\u001b[38;5;241;43m=\u001b[39;49m\u001b[43m \u001b[49m\u001b[43moutput_size\u001b[49m\n\u001b[0;32m    362\u001b[0m \u001b[43m                            \u001b[49m\u001b[43m,\u001b[49m\u001b[43m \u001b[49m\u001b[43mbatch_size\u001b[49m\u001b[43m \u001b[49m\u001b[38;5;241;43m=\u001b[39;49m\u001b[43m \u001b[49m\u001b[43mbatch_size\u001b[49m\u001b[43m,\u001b[49m\u001b[43m \u001b[49m\u001b[43mnum_epochs\u001b[49m\u001b[43m \u001b[49m\u001b[38;5;241;43m=\u001b[39;49m\u001b[43m \u001b[49m\u001b[43mnum_epochs\u001b[49m\u001b[43m,\u001b[49m\u001b[43m \u001b[49m\u001b[43mlr\u001b[49m\u001b[43m \u001b[49m\u001b[38;5;241;43m=\u001b[39;49m\u001b[43m \u001b[49m\u001b[43mlr\u001b[49m\u001b[43m,\u001b[49m\u001b[43m \u001b[49m\u001b[43mverbose\u001b[49m\u001b[43m \u001b[49m\u001b[38;5;241;43m=\u001b[39;49m\u001b[43m \u001b[49m\u001b[43mverbose\u001b[49m\u001b[43m,\u001b[49m\u001b[43m \u001b[49m\u001b[43mpatience\u001b[49m\u001b[43m \u001b[49m\u001b[38;5;241;43m=\u001b[39;49m\u001b[43m \u001b[49m\u001b[43mpatience\u001b[49m\u001b[43m)\u001b[49m\n\u001b[0;32m    365\u001b[0m \u001b[38;5;66;03m########################################### SHRED TEMPORAL RECONSTRUCTOR #################################################\u001b[39;00m\n\u001b[0;32m    366\u001b[0m \u001b[38;5;28;01mif\u001b[39;00m train_dataset\u001b[38;5;241m.\u001b[39mtemporal_reconstructor_dataset \u001b[38;5;129;01mis\u001b[39;00m \u001b[38;5;129;01mnot\u001b[39;00m \u001b[38;5;28;01mNone\u001b[39;00m:\n",
      "File \u001b[1;32mc:\\Users\\David\\OneDrive - UW\\2024_2025\\GoodPySHRED\\PyShred\\models\\shred_models\\reconstructor\\reconstructor.py:102\u001b[0m, in \u001b[0;36mRECONSTRUCTOR.fit\u001b[1;34m(self, model, train_dataset, valid_dataset, num_sensors, output_size, batch_size, num_epochs, lr, verbose, patience)\u001b[0m\n\u001b[0;32m    100\u001b[0m loss \u001b[38;5;241m=\u001b[39m criterion(outputs, target)\n\u001b[0;32m    101\u001b[0m loss\u001b[38;5;241m.\u001b[39mbackward()\n\u001b[1;32m--> 102\u001b[0m \u001b[43moptimizer\u001b[49m\u001b[38;5;241;43m.\u001b[39;49m\u001b[43mstep\u001b[49m\u001b[43m(\u001b[49m\u001b[43m)\u001b[49m\n\u001b[0;32m    103\u001b[0m running_loss \u001b[38;5;241m+\u001b[39m\u001b[38;5;241m=\u001b[39m loss\u001b[38;5;241m.\u001b[39mitem()\n\u001b[0;32m    104\u001b[0m train_error \u001b[38;5;241m=\u001b[39m torch\u001b[38;5;241m.\u001b[39mlinalg\u001b[38;5;241m.\u001b[39mnorm(outputs \u001b[38;5;241m-\u001b[39m target) \u001b[38;5;241m/\u001b[39m torch\u001b[38;5;241m.\u001b[39mlinalg\u001b[38;5;241m.\u001b[39mnorm(target)\n",
      "File \u001b[1;32mc:\\Tools\\MiniConda\\envs\\pyshred\\lib\\site-packages\\torch\\optim\\optimizer.py:487\u001b[0m, in \u001b[0;36mOptimizer.profile_hook_step.<locals>.wrapper\u001b[1;34m(*args, **kwargs)\u001b[0m\n\u001b[0;32m    482\u001b[0m         \u001b[38;5;28;01melse\u001b[39;00m:\n\u001b[0;32m    483\u001b[0m             \u001b[38;5;28;01mraise\u001b[39;00m \u001b[38;5;167;01mRuntimeError\u001b[39;00m(\n\u001b[0;32m    484\u001b[0m                 \u001b[38;5;124mf\u001b[39m\u001b[38;5;124m\"\u001b[39m\u001b[38;5;132;01m{\u001b[39;00mfunc\u001b[38;5;132;01m}\u001b[39;00m\u001b[38;5;124m must return None or a tuple of (new_args, new_kwargs), but got \u001b[39m\u001b[38;5;132;01m{\u001b[39;00mresult\u001b[38;5;132;01m}\u001b[39;00m\u001b[38;5;124m.\u001b[39m\u001b[38;5;124m\"\u001b[39m\n\u001b[0;32m    485\u001b[0m             )\n\u001b[1;32m--> 487\u001b[0m out \u001b[38;5;241m=\u001b[39m func(\u001b[38;5;241m*\u001b[39margs, \u001b[38;5;241m*\u001b[39m\u001b[38;5;241m*\u001b[39mkwargs)\n\u001b[0;32m    488\u001b[0m \u001b[38;5;28mself\u001b[39m\u001b[38;5;241m.\u001b[39m_optimizer_step_code()\n\u001b[0;32m    490\u001b[0m \u001b[38;5;66;03m# call optimizer step post hooks\u001b[39;00m\n",
      "File \u001b[1;32mc:\\Tools\\MiniConda\\envs\\pyshred\\lib\\site-packages\\torch\\optim\\optimizer.py:91\u001b[0m, in \u001b[0;36m_use_grad_for_differentiable.<locals>._use_grad\u001b[1;34m(self, *args, **kwargs)\u001b[0m\n\u001b[0;32m     89\u001b[0m     torch\u001b[38;5;241m.\u001b[39mset_grad_enabled(\u001b[38;5;28mself\u001b[39m\u001b[38;5;241m.\u001b[39mdefaults[\u001b[38;5;124m\"\u001b[39m\u001b[38;5;124mdifferentiable\u001b[39m\u001b[38;5;124m\"\u001b[39m])\n\u001b[0;32m     90\u001b[0m     torch\u001b[38;5;241m.\u001b[39m_dynamo\u001b[38;5;241m.\u001b[39mgraph_break()\n\u001b[1;32m---> 91\u001b[0m     ret \u001b[38;5;241m=\u001b[39m func(\u001b[38;5;28mself\u001b[39m, \u001b[38;5;241m*\u001b[39margs, \u001b[38;5;241m*\u001b[39m\u001b[38;5;241m*\u001b[39mkwargs)\n\u001b[0;32m     92\u001b[0m \u001b[38;5;28;01mfinally\u001b[39;00m:\n\u001b[0;32m     93\u001b[0m     torch\u001b[38;5;241m.\u001b[39m_dynamo\u001b[38;5;241m.\u001b[39mgraph_break()\n",
      "File \u001b[1;32mc:\\Tools\\MiniConda\\envs\\pyshred\\lib\\site-packages\\torch\\optim\\adam.py:223\u001b[0m, in \u001b[0;36mAdam.step\u001b[1;34m(self, closure)\u001b[0m\n\u001b[0;32m    211\u001b[0m     beta1, beta2 \u001b[38;5;241m=\u001b[39m group[\u001b[38;5;124m\"\u001b[39m\u001b[38;5;124mbetas\u001b[39m\u001b[38;5;124m\"\u001b[39m]\n\u001b[0;32m    213\u001b[0m     has_complex \u001b[38;5;241m=\u001b[39m \u001b[38;5;28mself\u001b[39m\u001b[38;5;241m.\u001b[39m_init_group(\n\u001b[0;32m    214\u001b[0m         group,\n\u001b[0;32m    215\u001b[0m         params_with_grad,\n\u001b[1;32m   (...)\u001b[0m\n\u001b[0;32m    220\u001b[0m         state_steps,\n\u001b[0;32m    221\u001b[0m     )\n\u001b[1;32m--> 223\u001b[0m     \u001b[43madam\u001b[49m\u001b[43m(\u001b[49m\n\u001b[0;32m    224\u001b[0m \u001b[43m        \u001b[49m\u001b[43mparams_with_grad\u001b[49m\u001b[43m,\u001b[49m\n\u001b[0;32m    225\u001b[0m \u001b[43m        \u001b[49m\u001b[43mgrads\u001b[49m\u001b[43m,\u001b[49m\n\u001b[0;32m    226\u001b[0m \u001b[43m        \u001b[49m\u001b[43mexp_avgs\u001b[49m\u001b[43m,\u001b[49m\n\u001b[0;32m    227\u001b[0m \u001b[43m        \u001b[49m\u001b[43mexp_avg_sqs\u001b[49m\u001b[43m,\u001b[49m\n\u001b[0;32m    228\u001b[0m \u001b[43m        \u001b[49m\u001b[43mmax_exp_avg_sqs\u001b[49m\u001b[43m,\u001b[49m\n\u001b[0;32m    229\u001b[0m \u001b[43m        \u001b[49m\u001b[43mstate_steps\u001b[49m\u001b[43m,\u001b[49m\n\u001b[0;32m    230\u001b[0m \u001b[43m        \u001b[49m\u001b[43mamsgrad\u001b[49m\u001b[38;5;241;43m=\u001b[39;49m\u001b[43mgroup\u001b[49m\u001b[43m[\u001b[49m\u001b[38;5;124;43m\"\u001b[39;49m\u001b[38;5;124;43mamsgrad\u001b[39;49m\u001b[38;5;124;43m\"\u001b[39;49m\u001b[43m]\u001b[49m\u001b[43m,\u001b[49m\n\u001b[0;32m    231\u001b[0m \u001b[43m        \u001b[49m\u001b[43mhas_complex\u001b[49m\u001b[38;5;241;43m=\u001b[39;49m\u001b[43mhas_complex\u001b[49m\u001b[43m,\u001b[49m\n\u001b[0;32m    232\u001b[0m \u001b[43m        \u001b[49m\u001b[43mbeta1\u001b[49m\u001b[38;5;241;43m=\u001b[39;49m\u001b[43mbeta1\u001b[49m\u001b[43m,\u001b[49m\n\u001b[0;32m    233\u001b[0m \u001b[43m        \u001b[49m\u001b[43mbeta2\u001b[49m\u001b[38;5;241;43m=\u001b[39;49m\u001b[43mbeta2\u001b[49m\u001b[43m,\u001b[49m\n\u001b[0;32m    234\u001b[0m \u001b[43m        \u001b[49m\u001b[43mlr\u001b[49m\u001b[38;5;241;43m=\u001b[39;49m\u001b[43mgroup\u001b[49m\u001b[43m[\u001b[49m\u001b[38;5;124;43m\"\u001b[39;49m\u001b[38;5;124;43mlr\u001b[39;49m\u001b[38;5;124;43m\"\u001b[39;49m\u001b[43m]\u001b[49m\u001b[43m,\u001b[49m\n\u001b[0;32m    235\u001b[0m \u001b[43m        \u001b[49m\u001b[43mweight_decay\u001b[49m\u001b[38;5;241;43m=\u001b[39;49m\u001b[43mgroup\u001b[49m\u001b[43m[\u001b[49m\u001b[38;5;124;43m\"\u001b[39;49m\u001b[38;5;124;43mweight_decay\u001b[39;49m\u001b[38;5;124;43m\"\u001b[39;49m\u001b[43m]\u001b[49m\u001b[43m,\u001b[49m\n\u001b[0;32m    236\u001b[0m \u001b[43m        \u001b[49m\u001b[43meps\u001b[49m\u001b[38;5;241;43m=\u001b[39;49m\u001b[43mgroup\u001b[49m\u001b[43m[\u001b[49m\u001b[38;5;124;43m\"\u001b[39;49m\u001b[38;5;124;43meps\u001b[39;49m\u001b[38;5;124;43m\"\u001b[39;49m\u001b[43m]\u001b[49m\u001b[43m,\u001b[49m\n\u001b[0;32m    237\u001b[0m \u001b[43m        \u001b[49m\u001b[43mmaximize\u001b[49m\u001b[38;5;241;43m=\u001b[39;49m\u001b[43mgroup\u001b[49m\u001b[43m[\u001b[49m\u001b[38;5;124;43m\"\u001b[39;49m\u001b[38;5;124;43mmaximize\u001b[39;49m\u001b[38;5;124;43m\"\u001b[39;49m\u001b[43m]\u001b[49m\u001b[43m,\u001b[49m\n\u001b[0;32m    238\u001b[0m \u001b[43m        \u001b[49m\u001b[43mforeach\u001b[49m\u001b[38;5;241;43m=\u001b[39;49m\u001b[43mgroup\u001b[49m\u001b[43m[\u001b[49m\u001b[38;5;124;43m\"\u001b[39;49m\u001b[38;5;124;43mforeach\u001b[39;49m\u001b[38;5;124;43m\"\u001b[39;49m\u001b[43m]\u001b[49m\u001b[43m,\u001b[49m\n\u001b[0;32m    239\u001b[0m \u001b[43m        \u001b[49m\u001b[43mcapturable\u001b[49m\u001b[38;5;241;43m=\u001b[39;49m\u001b[43mgroup\u001b[49m\u001b[43m[\u001b[49m\u001b[38;5;124;43m\"\u001b[39;49m\u001b[38;5;124;43mcapturable\u001b[39;49m\u001b[38;5;124;43m\"\u001b[39;49m\u001b[43m]\u001b[49m\u001b[43m,\u001b[49m\n\u001b[0;32m    240\u001b[0m \u001b[43m        \u001b[49m\u001b[43mdifferentiable\u001b[49m\u001b[38;5;241;43m=\u001b[39;49m\u001b[43mgroup\u001b[49m\u001b[43m[\u001b[49m\u001b[38;5;124;43m\"\u001b[39;49m\u001b[38;5;124;43mdifferentiable\u001b[39;49m\u001b[38;5;124;43m\"\u001b[39;49m\u001b[43m]\u001b[49m\u001b[43m,\u001b[49m\n\u001b[0;32m    241\u001b[0m \u001b[43m        \u001b[49m\u001b[43mfused\u001b[49m\u001b[38;5;241;43m=\u001b[39;49m\u001b[43mgroup\u001b[49m\u001b[43m[\u001b[49m\u001b[38;5;124;43m\"\u001b[39;49m\u001b[38;5;124;43mfused\u001b[39;49m\u001b[38;5;124;43m\"\u001b[39;49m\u001b[43m]\u001b[49m\u001b[43m,\u001b[49m\n\u001b[0;32m    242\u001b[0m \u001b[43m        \u001b[49m\u001b[43mgrad_scale\u001b[49m\u001b[38;5;241;43m=\u001b[39;49m\u001b[38;5;28;43mgetattr\u001b[39;49m\u001b[43m(\u001b[49m\u001b[38;5;28;43mself\u001b[39;49m\u001b[43m,\u001b[49m\u001b[43m \u001b[49m\u001b[38;5;124;43m\"\u001b[39;49m\u001b[38;5;124;43mgrad_scale\u001b[39;49m\u001b[38;5;124;43m\"\u001b[39;49m\u001b[43m,\u001b[49m\u001b[43m \u001b[49m\u001b[38;5;28;43;01mNone\u001b[39;49;00m\u001b[43m)\u001b[49m\u001b[43m,\u001b[49m\n\u001b[0;32m    243\u001b[0m \u001b[43m        \u001b[49m\u001b[43mfound_inf\u001b[49m\u001b[38;5;241;43m=\u001b[39;49m\u001b[38;5;28;43mgetattr\u001b[39;49m\u001b[43m(\u001b[49m\u001b[38;5;28;43mself\u001b[39;49m\u001b[43m,\u001b[49m\u001b[43m \u001b[49m\u001b[38;5;124;43m\"\u001b[39;49m\u001b[38;5;124;43mfound_inf\u001b[39;49m\u001b[38;5;124;43m\"\u001b[39;49m\u001b[43m,\u001b[49m\u001b[43m \u001b[49m\u001b[38;5;28;43;01mNone\u001b[39;49;00m\u001b[43m)\u001b[49m\u001b[43m,\u001b[49m\n\u001b[0;32m    244\u001b[0m \u001b[43m    \u001b[49m\u001b[43m)\u001b[49m\n\u001b[0;32m    246\u001b[0m \u001b[38;5;28;01mreturn\u001b[39;00m loss\n",
      "File \u001b[1;32mc:\\Tools\\MiniConda\\envs\\pyshred\\lib\\site-packages\\torch\\optim\\optimizer.py:154\u001b[0m, in \u001b[0;36m_disable_dynamo_if_unsupported.<locals>.wrapper.<locals>.maybe_fallback\u001b[1;34m(*args, **kwargs)\u001b[0m\n\u001b[0;32m    152\u001b[0m     \u001b[38;5;28;01mreturn\u001b[39;00m disabled_func(\u001b[38;5;241m*\u001b[39margs, \u001b[38;5;241m*\u001b[39m\u001b[38;5;241m*\u001b[39mkwargs)\n\u001b[0;32m    153\u001b[0m \u001b[38;5;28;01melse\u001b[39;00m:\n\u001b[1;32m--> 154\u001b[0m     \u001b[38;5;28;01mreturn\u001b[39;00m func(\u001b[38;5;241m*\u001b[39margs, \u001b[38;5;241m*\u001b[39m\u001b[38;5;241m*\u001b[39mkwargs)\n",
      "File \u001b[1;32mc:\\Tools\\MiniConda\\envs\\pyshred\\lib\\site-packages\\torch\\optim\\adam.py:784\u001b[0m, in \u001b[0;36madam\u001b[1;34m(params, grads, exp_avgs, exp_avg_sqs, max_exp_avg_sqs, state_steps, foreach, capturable, differentiable, fused, grad_scale, found_inf, has_complex, amsgrad, beta1, beta2, lr, weight_decay, eps, maximize)\u001b[0m\n\u001b[0;32m    781\u001b[0m \u001b[38;5;28;01melse\u001b[39;00m:\n\u001b[0;32m    782\u001b[0m     func \u001b[38;5;241m=\u001b[39m _single_tensor_adam\n\u001b[1;32m--> 784\u001b[0m \u001b[43mfunc\u001b[49m\u001b[43m(\u001b[49m\n\u001b[0;32m    785\u001b[0m \u001b[43m    \u001b[49m\u001b[43mparams\u001b[49m\u001b[43m,\u001b[49m\n\u001b[0;32m    786\u001b[0m \u001b[43m    \u001b[49m\u001b[43mgrads\u001b[49m\u001b[43m,\u001b[49m\n\u001b[0;32m    787\u001b[0m \u001b[43m    \u001b[49m\u001b[43mexp_avgs\u001b[49m\u001b[43m,\u001b[49m\n\u001b[0;32m    788\u001b[0m \u001b[43m    \u001b[49m\u001b[43mexp_avg_sqs\u001b[49m\u001b[43m,\u001b[49m\n\u001b[0;32m    789\u001b[0m \u001b[43m    \u001b[49m\u001b[43mmax_exp_avg_sqs\u001b[49m\u001b[43m,\u001b[49m\n\u001b[0;32m    790\u001b[0m \u001b[43m    \u001b[49m\u001b[43mstate_steps\u001b[49m\u001b[43m,\u001b[49m\n\u001b[0;32m    791\u001b[0m \u001b[43m    \u001b[49m\u001b[43mamsgrad\u001b[49m\u001b[38;5;241;43m=\u001b[39;49m\u001b[43mamsgrad\u001b[49m\u001b[43m,\u001b[49m\n\u001b[0;32m    792\u001b[0m \u001b[43m    \u001b[49m\u001b[43mhas_complex\u001b[49m\u001b[38;5;241;43m=\u001b[39;49m\u001b[43mhas_complex\u001b[49m\u001b[43m,\u001b[49m\n\u001b[0;32m    793\u001b[0m \u001b[43m    \u001b[49m\u001b[43mbeta1\u001b[49m\u001b[38;5;241;43m=\u001b[39;49m\u001b[43mbeta1\u001b[49m\u001b[43m,\u001b[49m\n\u001b[0;32m    794\u001b[0m \u001b[43m    \u001b[49m\u001b[43mbeta2\u001b[49m\u001b[38;5;241;43m=\u001b[39;49m\u001b[43mbeta2\u001b[49m\u001b[43m,\u001b[49m\n\u001b[0;32m    795\u001b[0m \u001b[43m    \u001b[49m\u001b[43mlr\u001b[49m\u001b[38;5;241;43m=\u001b[39;49m\u001b[43mlr\u001b[49m\u001b[43m,\u001b[49m\n\u001b[0;32m    796\u001b[0m \u001b[43m    \u001b[49m\u001b[43mweight_decay\u001b[49m\u001b[38;5;241;43m=\u001b[39;49m\u001b[43mweight_decay\u001b[49m\u001b[43m,\u001b[49m\n\u001b[0;32m    797\u001b[0m \u001b[43m    \u001b[49m\u001b[43meps\u001b[49m\u001b[38;5;241;43m=\u001b[39;49m\u001b[43meps\u001b[49m\u001b[43m,\u001b[49m\n\u001b[0;32m    798\u001b[0m \u001b[43m    \u001b[49m\u001b[43mmaximize\u001b[49m\u001b[38;5;241;43m=\u001b[39;49m\u001b[43mmaximize\u001b[49m\u001b[43m,\u001b[49m\n\u001b[0;32m    799\u001b[0m \u001b[43m    \u001b[49m\u001b[43mcapturable\u001b[49m\u001b[38;5;241;43m=\u001b[39;49m\u001b[43mcapturable\u001b[49m\u001b[43m,\u001b[49m\n\u001b[0;32m    800\u001b[0m \u001b[43m    \u001b[49m\u001b[43mdifferentiable\u001b[49m\u001b[38;5;241;43m=\u001b[39;49m\u001b[43mdifferentiable\u001b[49m\u001b[43m,\u001b[49m\n\u001b[0;32m    801\u001b[0m \u001b[43m    \u001b[49m\u001b[43mgrad_scale\u001b[49m\u001b[38;5;241;43m=\u001b[39;49m\u001b[43mgrad_scale\u001b[49m\u001b[43m,\u001b[49m\n\u001b[0;32m    802\u001b[0m \u001b[43m    \u001b[49m\u001b[43mfound_inf\u001b[49m\u001b[38;5;241;43m=\u001b[39;49m\u001b[43mfound_inf\u001b[49m\u001b[43m,\u001b[49m\n\u001b[0;32m    803\u001b[0m \u001b[43m\u001b[49m\u001b[43m)\u001b[49m\n",
      "File \u001b[1;32mc:\\Tools\\MiniConda\\envs\\pyshred\\lib\\site-packages\\torch\\optim\\adam.py:430\u001b[0m, in \u001b[0;36m_single_tensor_adam\u001b[1;34m(params, grads, exp_avgs, exp_avg_sqs, max_exp_avg_sqs, state_steps, grad_scale, found_inf, amsgrad, has_complex, beta1, beta2, lr, weight_decay, eps, maximize, capturable, differentiable)\u001b[0m\n\u001b[0;32m    428\u001b[0m         denom \u001b[38;5;241m=\u001b[39m (max_exp_avg_sqs[i]\u001b[38;5;241m.\u001b[39msqrt() \u001b[38;5;241m/\u001b[39m bias_correction2_sqrt)\u001b[38;5;241m.\u001b[39madd_(eps)\n\u001b[0;32m    429\u001b[0m     \u001b[38;5;28;01melse\u001b[39;00m:\n\u001b[1;32m--> 430\u001b[0m         denom \u001b[38;5;241m=\u001b[39m \u001b[43m(\u001b[49m\u001b[43mexp_avg_sq\u001b[49m\u001b[38;5;241;43m.\u001b[39;49m\u001b[43msqrt\u001b[49m\u001b[43m(\u001b[49m\u001b[43m)\u001b[49m\u001b[43m \u001b[49m\u001b[38;5;241;43m/\u001b[39;49m\u001b[43m \u001b[49m\u001b[43mbias_correction2_sqrt\u001b[49m\u001b[43m)\u001b[49m\u001b[38;5;241;43m.\u001b[39;49m\u001b[43madd_\u001b[49m\u001b[43m(\u001b[49m\u001b[43meps\u001b[49m\u001b[43m)\u001b[49m\n\u001b[0;32m    432\u001b[0m     param\u001b[38;5;241m.\u001b[39maddcdiv_(exp_avg, denom, value\u001b[38;5;241m=\u001b[39m\u001b[38;5;241m-\u001b[39mstep_size)\n\u001b[0;32m    434\u001b[0m \u001b[38;5;66;03m# Lastly, switch back to complex view\u001b[39;00m\n",
      "\u001b[1;31mKeyboardInterrupt\u001b[0m: "
     ]
    }
   ],
   "source": [
    "# initialize SHRED\n",
    "shred = SHRED(sequence='LSTM', decoder='SDN')\n",
    "# fit SHRED\n",
    "val_errors = shred.fit(train_set, val_set, num_epochs=50, patience=20, verbose=True)"
   ]
  },
  {
   "cell_type": "code",
   "execution_count": null,
   "metadata": {},
   "outputs": [],
   "source": []
  }
 ],
 "metadata": {
  "kernelspec": {
   "display_name": "pyshred",
   "language": "python",
   "name": "python3"
  },
  "language_info": {
   "codemirror_mode": {
    "name": "ipython",
    "version": 3
   },
   "file_extension": ".py",
   "mimetype": "text/x-python",
   "name": "python",
   "nbconvert_exporter": "python",
   "pygments_lexer": "ipython3",
   "version": "3.10.16"
  }
 },
 "nbformat": 4,
 "nbformat_minor": 2
}
