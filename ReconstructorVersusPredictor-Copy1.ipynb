{
 "cells": [
  {
   "cell_type": "code",
   "execution_count": 46,
   "id": "559e9c1d-504b-495b-ae70-27af4c356c49",
   "metadata": {},
   "outputs": [
    {
     "name": "stdout",
     "output_type": "stream",
     "text": [
      "The autoreload extension is already loaded. To reload it, use:\n",
      "  %reload_ext autoreload\n"
     ]
    }
   ],
   "source": [
    "import numpy as np\n",
    "import os\n",
    "import torch\n",
    "from misc.example_helper import *\n",
    "import importlib\n",
    "import processing\n",
    "import models\n",
    "%load_ext autoreload\n",
    "%autoreload 2\n",
    "importlib.reload(processing)\n",
    "importlib.reload(models)\n",
    "from processing.data_manager import SHREDDataManager\n",
    "from processing.parametric_data_manager import ParametricSHREDDataManager\n",
    "from models.shred_models import SHRED\n",
    "from models.shred_models import evaluate"
   ]
  },
  {
   "cell_type": "code",
   "execution_count": 49,
   "id": "94160d66-1da6-49c8-87af-ad236a3711cc",
   "metadata": {},
   "outputs": [
    {
     "name": "stdout",
     "output_type": "stream",
     "text": [
      "(1900, 257, 256)\n"
     ]
    }
   ],
   "source": [
    "train_size = 0.9\n",
    "val_size = 0.05\n",
    "test_size = 0.05\n",
    "\n",
    "# Initialize SHREDDataManager\n",
    "manager = SHREDDataManager(\n",
    "    lags = 20,\n",
    "    train_size = train_size,\n",
    "    val_size = val_size,\n",
    "    test_size = test_size,\n",
    "    compression = 200,\n",
    "    scaling = True,\n",
    "    time=np.arange(0, 1900),\n",
    "    method=\"reconstruct\"\n",
    ")\n",
    "\n",
    "\n",
    "# Add data to manager (no sensors)\n",
    "input_folder = \"data14fields_npz\"\n",
    "\n",
    "# Add data to manager (with sensors)\n",
    "filename = 'ni_3D.npz'\n",
    "file_path = os.path.join(input_folder, filename)\n",
    "ni_3D = np.load(file_path)\n",
    "ni_3D = ni_3D[ni_3D.files[0]]\n",
    "\n",
    "ntimesteps = ni_3D.shape[0]\n",
    "ni_3D_reconstruction_train_for_prediction = ni_3D[:-int(ntimesteps*test_size)]\n",
    "print(ni_3D_reconstruction_train_for_prediction.shape)\n",
    "\n",
    "\n",
    "manager.add_field(\n",
    "    data=ni_3D_reconstruction_train_for_prediction,\n",
    "    stationary_sensors=[(29, 201), (76, 26), (11, 247)],\n",
    "    id = str(os.path.splitext(filename)[0])\n",
    ")\n"
   ]
  },
  {
   "cell_type": "code",
   "execution_count": 50,
   "id": "064a8357-b7d0-4e21-a598-0a65b6976ccb",
   "metadata": {},
   "outputs": [
    {
     "data": {
      "text/html": [
       "<div>\n",
       "<style scoped>\n",
       "    .dataframe tbody tr th:only-of-type {\n",
       "        vertical-align: middle;\n",
       "    }\n",
       "\n",
       "    .dataframe tbody tr th {\n",
       "        vertical-align: top;\n",
       "    }\n",
       "\n",
       "    .dataframe thead th {\n",
       "        text-align: right;\n",
       "    }\n",
       "</style>\n",
       "<table border=\"1\" class=\"dataframe\">\n",
       "  <thead>\n",
       "    <tr style=\"text-align: right;\">\n",
       "      <th></th>\n",
       "      <th>field id</th>\n",
       "      <th>sensor id</th>\n",
       "      <th>sensor type</th>\n",
       "      <th>location/trajectory</th>\n",
       "    </tr>\n",
       "  </thead>\n",
       "  <tbody>\n",
       "    <tr>\n",
       "      <th>0</th>\n",
       "      <td>ni_3D</td>\n",
       "      <td>ni_3D-0</td>\n",
       "      <td>stationary (user selected)</td>\n",
       "      <td>(29, 201)</td>\n",
       "    </tr>\n",
       "    <tr>\n",
       "      <th>1</th>\n",
       "      <td>ni_3D</td>\n",
       "      <td>ni_3D-1</td>\n",
       "      <td>stationary (user selected)</td>\n",
       "      <td>(76, 26)</td>\n",
       "    </tr>\n",
       "    <tr>\n",
       "      <th>2</th>\n",
       "      <td>ni_3D</td>\n",
       "      <td>ni_3D-2</td>\n",
       "      <td>stationary (user selected)</td>\n",
       "      <td>(11, 247)</td>\n",
       "    </tr>\n",
       "  </tbody>\n",
       "</table>\n",
       "</div>"
      ],
      "text/plain": [
       "  field id sensor id                 sensor type location/trajectory\n",
       "0    ni_3D   ni_3D-0  stationary (user selected)           (29, 201)\n",
       "1    ni_3D   ni_3D-1  stationary (user selected)            (76, 26)\n",
       "2    ni_3D   ni_3D-2  stationary (user selected)           (11, 247)"
      ]
     },
     "execution_count": 50,
     "metadata": {},
     "output_type": "execute_result"
    }
   ],
   "source": [
    "manager.input_summary"
   ]
  },
  {
   "cell_type": "code",
   "execution_count": 51,
   "id": "81e4403a-8566-438a-8171-f1937cd81715",
   "metadata": {},
   "outputs": [
    {
     "data": {
      "text/html": [
       "<div>\n",
       "<style scoped>\n",
       "    .dataframe tbody tr th:only-of-type {\n",
       "        vertical-align: middle;\n",
       "    }\n",
       "\n",
       "    .dataframe tbody tr th {\n",
       "        vertical-align: top;\n",
       "    }\n",
       "\n",
       "    .dataframe thead th {\n",
       "        text-align: right;\n",
       "    }\n",
       "</style>\n",
       "<table border=\"1\" class=\"dataframe\">\n",
       "  <thead>\n",
       "    <tr style=\"text-align: right;\">\n",
       "      <th></th>\n",
       "      <th>time</th>\n",
       "      <th>ni_3D-0</th>\n",
       "      <th>ni_3D-1</th>\n",
       "      <th>ni_3D-2</th>\n",
       "    </tr>\n",
       "  </thead>\n",
       "  <tbody>\n",
       "    <tr>\n",
       "      <th>0</th>\n",
       "      <td>0</td>\n",
       "      <td>5.263100e+16</td>\n",
       "      <td>5.625600e+16</td>\n",
       "      <td>5.009700e+16</td>\n",
       "    </tr>\n",
       "    <tr>\n",
       "      <th>1</th>\n",
       "      <td>1</td>\n",
       "      <td>5.315000e+16</td>\n",
       "      <td>5.802500e+16</td>\n",
       "      <td>5.040600e+16</td>\n",
       "    </tr>\n",
       "    <tr>\n",
       "      <th>2</th>\n",
       "      <td>2</td>\n",
       "      <td>5.405600e+16</td>\n",
       "      <td>5.980300e+16</td>\n",
       "      <td>4.995000e+16</td>\n",
       "    </tr>\n",
       "    <tr>\n",
       "      <th>3</th>\n",
       "      <td>3</td>\n",
       "      <td>5.479300e+16</td>\n",
       "      <td>5.928200e+16</td>\n",
       "      <td>4.755900e+16</td>\n",
       "    </tr>\n",
       "    <tr>\n",
       "      <th>4</th>\n",
       "      <td>4</td>\n",
       "      <td>5.432100e+16</td>\n",
       "      <td>5.721300e+16</td>\n",
       "      <td>4.576400e+16</td>\n",
       "    </tr>\n",
       "    <tr>\n",
       "      <th>...</th>\n",
       "      <td>...</td>\n",
       "      <td>...</td>\n",
       "      <td>...</td>\n",
       "      <td>...</td>\n",
       "    </tr>\n",
       "    <tr>\n",
       "      <th>1895</th>\n",
       "      <td>1895</td>\n",
       "      <td>7.886800e+16</td>\n",
       "      <td>1.061800e+17</td>\n",
       "      <td>6.299500e+16</td>\n",
       "    </tr>\n",
       "    <tr>\n",
       "      <th>1896</th>\n",
       "      <td>1896</td>\n",
       "      <td>7.676800e+16</td>\n",
       "      <td>1.102500e+17</td>\n",
       "      <td>5.421400e+16</td>\n",
       "    </tr>\n",
       "    <tr>\n",
       "      <th>1897</th>\n",
       "      <td>1897</td>\n",
       "      <td>7.432300e+16</td>\n",
       "      <td>1.165700e+17</td>\n",
       "      <td>4.766400e+16</td>\n",
       "    </tr>\n",
       "    <tr>\n",
       "      <th>1898</th>\n",
       "      <td>1898</td>\n",
       "      <td>7.760600e+16</td>\n",
       "      <td>1.178000e+17</td>\n",
       "      <td>4.605400e+16</td>\n",
       "    </tr>\n",
       "    <tr>\n",
       "      <th>1899</th>\n",
       "      <td>1899</td>\n",
       "      <td>6.637900e+16</td>\n",
       "      <td>1.219700e+17</td>\n",
       "      <td>4.420100e+16</td>\n",
       "    </tr>\n",
       "  </tbody>\n",
       "</table>\n",
       "<p>1900 rows × 4 columns</p>\n",
       "</div>"
      ],
      "text/plain": [
       "      time       ni_3D-0       ni_3D-1       ni_3D-2\n",
       "0        0  5.263100e+16  5.625600e+16  5.009700e+16\n",
       "1        1  5.315000e+16  5.802500e+16  5.040600e+16\n",
       "2        2  5.405600e+16  5.980300e+16  4.995000e+16\n",
       "3        3  5.479300e+16  5.928200e+16  4.755900e+16\n",
       "4        4  5.432100e+16  5.721300e+16  4.576400e+16\n",
       "...    ...           ...           ...           ...\n",
       "1895  1895  7.886800e+16  1.061800e+17  6.299500e+16\n",
       "1896  1896  7.676800e+16  1.102500e+17  5.421400e+16\n",
       "1897  1897  7.432300e+16  1.165700e+17  4.766400e+16\n",
       "1898  1898  7.760600e+16  1.178000e+17  4.605400e+16\n",
       "1899  1899  6.637900e+16  1.219700e+17  4.420100e+16\n",
       "\n",
       "[1900 rows x 4 columns]"
      ]
     },
     "execution_count": 51,
     "metadata": {},
     "output_type": "execute_result"
    }
   ],
   "source": [
    "manager.sensor_measurements"
   ]
  },
  {
   "cell_type": "code",
   "execution_count": 52,
   "id": "b61b1652-c2df-4d97-ab2f-94a5b62a2f6c",
   "metadata": {},
   "outputs": [
    {
     "name": "stdout",
     "output_type": "stream",
     "text": [
      "Data Shapes:\n",
      "Reconstructor Data\n",
      "train X: torch.Size([1710, 21, 3])\n",
      "train Y: torch.Size([1710, 200])\n",
      "val X: torch.Size([95, 21, 3])\n",
      "val Y: torch.Size([95, 200])\n",
      "test X: torch.Size([95, 21, 3])\n",
      "test Y: torch.Size([95, 200])\n"
     ]
    }
   ],
   "source": [
    "# Get train/val/test datasets\n",
    "train_set, val_set, test_set = manager.preprocess()\n",
    "\n",
    "# Print dataset shapes\n",
    "print('Data Shapes:')\n",
    "print ('Reconstructor Data')\n",
    "print('train X:', train_set.reconstructor_dataset.X.shape)\n",
    "print('train Y:', train_set.reconstructor_dataset.Y.shape)\n",
    "print('val X:', val_set.reconstructor_dataset.X.shape)\n",
    "print('val Y:', val_set.reconstructor_dataset.Y.shape)\n",
    "print('test X:', test_set.reconstructor_dataset.X.shape)\n",
    "print('test Y:', test_set.reconstructor_dataset.Y.shape)"
   ]
  },
  {
   "cell_type": "code",
   "execution_count": 53,
   "id": "a80de142-a66a-4659-871e-7a70a6455a77",
   "metadata": {
    "scrolled": true
   },
   "outputs": [
    {
     "name": "stdout",
     "output_type": "stream",
     "text": [
      "\n",
      "Fitting Reconstructor...\n"
     ]
    },
    {
     "data": {
      "application/vnd.jupyter.widget-view+json": {
       "model_id": "087c8a4430c14042906e0043a37e3903",
       "version_major": 2,
       "version_minor": 0
      },
      "text/plain": [
       "Epoch 1/2000:   0%|          | 0/27 [00:00<?, ?batch/s]"
      ]
     },
     "metadata": {},
     "output_type": "display_data"
    },
    {
     "data": {
      "application/vnd.jupyter.widget-view+json": {
       "model_id": "5306589ea892493290d8097ca9304ceb",
       "version_major": 2,
       "version_minor": 0
      },
      "text/plain": [
       "Epoch 2/2000:   0%|          | 0/27 [00:00<?, ?batch/s]"
      ]
     },
     "metadata": {},
     "output_type": "display_data"
    },
    {
     "data": {
      "application/vnd.jupyter.widget-view+json": {
       "model_id": "6906651903b34091b641c03815905706",
       "version_major": 2,
       "version_minor": 0
      },
      "text/plain": [
       "Epoch 3/2000:   0%|          | 0/27 [00:00<?, ?batch/s]"
      ]
     },
     "metadata": {},
     "output_type": "display_data"
    },
    {
     "data": {
      "application/vnd.jupyter.widget-view+json": {
       "model_id": "1547e6ae1b7e45d593e49d4b8050cdce",
       "version_major": 2,
       "version_minor": 0
      },
      "text/plain": [
       "Epoch 4/2000:   0%|          | 0/27 [00:00<?, ?batch/s]"
      ]
     },
     "metadata": {},
     "output_type": "display_data"
    },
    {
     "data": {
      "application/vnd.jupyter.widget-view+json": {
       "model_id": "62cad129a8a04707a1bd769861a691af",
       "version_major": 2,
       "version_minor": 0
      },
      "text/plain": [
       "Epoch 5/2000:   0%|          | 0/27 [00:00<?, ?batch/s]"
      ]
     },
     "metadata": {},
     "output_type": "display_data"
    },
    {
     "data": {
      "application/vnd.jupyter.widget-view+json": {
       "model_id": "699c8321ab3a430e9cc03f4376e1495f",
       "version_major": 2,
       "version_minor": 0
      },
      "text/plain": [
       "Epoch 6/2000:   0%|          | 0/27 [00:00<?, ?batch/s]"
      ]
     },
     "metadata": {},
     "output_type": "display_data"
    },
    {
     "data": {
      "application/vnd.jupyter.widget-view+json": {
       "model_id": "c92516770ee94b3289e1218112c4f5ef",
       "version_major": 2,
       "version_minor": 0
      },
      "text/plain": [
       "Epoch 7/2000:   0%|          | 0/27 [00:00<?, ?batch/s]"
      ]
     },
     "metadata": {},
     "output_type": "display_data"
    },
    {
     "data": {
      "application/vnd.jupyter.widget-view+json": {
       "model_id": "733ec9614d1c46bc835c8824bdca102e",
       "version_major": 2,
       "version_minor": 0
      },
      "text/plain": [
       "Epoch 8/2000:   0%|          | 0/27 [00:00<?, ?batch/s]"
      ]
     },
     "metadata": {},
     "output_type": "display_data"
    },
    {
     "data": {
      "application/vnd.jupyter.widget-view+json": {
       "model_id": "0e680758b90748469bff99ce05c8171d",
       "version_major": 2,
       "version_minor": 0
      },
      "text/plain": [
       "Epoch 9/2000:   0%|          | 0/27 [00:00<?, ?batch/s]"
      ]
     },
     "metadata": {},
     "output_type": "display_data"
    },
    {
     "data": {
      "application/vnd.jupyter.widget-view+json": {
       "model_id": "5ed417e0cb4f45e6b302c0f24486ac1b",
       "version_major": 2,
       "version_minor": 0
      },
      "text/plain": [
       "Epoch 10/2000:   0%|          | 0/27 [00:00<?, ?batch/s]"
      ]
     },
     "metadata": {},
     "output_type": "display_data"
    },
    {
     "data": {
      "application/vnd.jupyter.widget-view+json": {
       "model_id": "0ab94639b524423d8faf45608718b159",
       "version_major": 2,
       "version_minor": 0
      },
      "text/plain": [
       "Epoch 11/2000:   0%|          | 0/27 [00:00<?, ?batch/s]"
      ]
     },
     "metadata": {},
     "output_type": "display_data"
    },
    {
     "data": {
      "application/vnd.jupyter.widget-view+json": {
       "model_id": "756423d81b014496a16b7cac163a122e",
       "version_major": 2,
       "version_minor": 0
      },
      "text/plain": [
       "Epoch 12/2000:   0%|          | 0/27 [00:00<?, ?batch/s]"
      ]
     },
     "metadata": {},
     "output_type": "display_data"
    },
    {
     "data": {
      "application/vnd.jupyter.widget-view+json": {
       "model_id": "0ee1238b381c471c882a14645f92303e",
       "version_major": 2,
       "version_minor": 0
      },
      "text/plain": [
       "Epoch 13/2000:   0%|          | 0/27 [00:00<?, ?batch/s]"
      ]
     },
     "metadata": {},
     "output_type": "display_data"
    },
    {
     "data": {
      "application/vnd.jupyter.widget-view+json": {
       "model_id": "978f2fa32d9d4da9aa2ce4055d015a17",
       "version_major": 2,
       "version_minor": 0
      },
      "text/plain": [
       "Epoch 14/2000:   0%|          | 0/27 [00:00<?, ?batch/s]"
      ]
     },
     "metadata": {},
     "output_type": "display_data"
    },
    {
     "data": {
      "application/vnd.jupyter.widget-view+json": {
       "model_id": "584ec67130364070ac1949f9060fa47e",
       "version_major": 2,
       "version_minor": 0
      },
      "text/plain": [
       "Epoch 15/2000:   0%|          | 0/27 [00:00<?, ?batch/s]"
      ]
     },
     "metadata": {},
     "output_type": "display_data"
    },
    {
     "data": {
      "application/vnd.jupyter.widget-view+json": {
       "model_id": "3c3b7c55b56149ff83f1742432811c87",
       "version_major": 2,
       "version_minor": 0
      },
      "text/plain": [
       "Epoch 16/2000:   0%|          | 0/27 [00:00<?, ?batch/s]"
      ]
     },
     "metadata": {},
     "output_type": "display_data"
    },
    {
     "data": {
      "application/vnd.jupyter.widget-view+json": {
       "model_id": "7bba6a4ec677416d871fc0312d13cb72",
       "version_major": 2,
       "version_minor": 0
      },
      "text/plain": [
       "Epoch 17/2000:   0%|          | 0/27 [00:00<?, ?batch/s]"
      ]
     },
     "metadata": {},
     "output_type": "display_data"
    },
    {
     "data": {
      "application/vnd.jupyter.widget-view+json": {
       "model_id": "77748b2e64ff4dfc869356ebc438832f",
       "version_major": 2,
       "version_minor": 0
      },
      "text/plain": [
       "Epoch 18/2000:   0%|          | 0/27 [00:00<?, ?batch/s]"
      ]
     },
     "metadata": {},
     "output_type": "display_data"
    },
    {
     "data": {
      "application/vnd.jupyter.widget-view+json": {
       "model_id": "712781f68906438a80b7dfc7899df540",
       "version_major": 2,
       "version_minor": 0
      },
      "text/plain": [
       "Epoch 19/2000:   0%|          | 0/27 [00:00<?, ?batch/s]"
      ]
     },
     "metadata": {},
     "output_type": "display_data"
    },
    {
     "data": {
      "application/vnd.jupyter.widget-view+json": {
       "model_id": "e576e884c02a4cff834d7d66b1c13be6",
       "version_major": 2,
       "version_minor": 0
      },
      "text/plain": [
       "Epoch 20/2000:   0%|          | 0/27 [00:00<?, ?batch/s]"
      ]
     },
     "metadata": {},
     "output_type": "display_data"
    },
    {
     "data": {
      "application/vnd.jupyter.widget-view+json": {
       "model_id": "a0d1a12fcc6d499cbf739bdfe1caa25b",
       "version_major": 2,
       "version_minor": 0
      },
      "text/plain": [
       "Epoch 21/2000:   0%|          | 0/27 [00:00<?, ?batch/s]"
      ]
     },
     "metadata": {},
     "output_type": "display_data"
    },
    {
     "data": {
      "application/vnd.jupyter.widget-view+json": {
       "model_id": "6fbc3dbde2204cb1b01bfd59b05007b6",
       "version_major": 2,
       "version_minor": 0
      },
      "text/plain": [
       "Epoch 22/2000:   0%|          | 0/27 [00:00<?, ?batch/s]"
      ]
     },
     "metadata": {},
     "output_type": "display_data"
    },
    {
     "data": {
      "application/vnd.jupyter.widget-view+json": {
       "model_id": "2092abacdb6648069c50a5638faaa436",
       "version_major": 2,
       "version_minor": 0
      },
      "text/plain": [
       "Epoch 23/2000:   0%|          | 0/27 [00:00<?, ?batch/s]"
      ]
     },
     "metadata": {},
     "output_type": "display_data"
    },
    {
     "data": {
      "application/vnd.jupyter.widget-view+json": {
       "model_id": "0e7d16df293843d58d957a38f4a2c057",
       "version_major": 2,
       "version_minor": 0
      },
      "text/plain": [
       "Epoch 24/2000:   0%|          | 0/27 [00:00<?, ?batch/s]"
      ]
     },
     "metadata": {},
     "output_type": "display_data"
    },
    {
     "data": {
      "application/vnd.jupyter.widget-view+json": {
       "model_id": "a21b980dd89a4867b2b3e7abdae4d89e",
       "version_major": 2,
       "version_minor": 0
      },
      "text/plain": [
       "Epoch 25/2000:   0%|          | 0/27 [00:00<?, ?batch/s]"
      ]
     },
     "metadata": {},
     "output_type": "display_data"
    },
    {
     "data": {
      "application/vnd.jupyter.widget-view+json": {
       "model_id": "57039a04992f412a860da350d82ad375",
       "version_major": 2,
       "version_minor": 0
      },
      "text/plain": [
       "Epoch 26/2000:   0%|          | 0/27 [00:00<?, ?batch/s]"
      ]
     },
     "metadata": {},
     "output_type": "display_data"
    },
    {
     "data": {
      "application/vnd.jupyter.widget-view+json": {
       "model_id": "d994939a03fd4f87aeb50ea3ba8612b9",
       "version_major": 2,
       "version_minor": 0
      },
      "text/plain": [
       "Epoch 27/2000:   0%|          | 0/27 [00:00<?, ?batch/s]"
      ]
     },
     "metadata": {},
     "output_type": "display_data"
    },
    {
     "data": {
      "application/vnd.jupyter.widget-view+json": {
       "model_id": "d8e592965a354daea8c2b4ed511342d8",
       "version_major": 2,
       "version_minor": 0
      },
      "text/plain": [
       "Epoch 28/2000:   0%|          | 0/27 [00:00<?, ?batch/s]"
      ]
     },
     "metadata": {},
     "output_type": "display_data"
    },
    {
     "data": {
      "application/vnd.jupyter.widget-view+json": {
       "model_id": "77e9c1b8353a4404b60834fc30c24363",
       "version_major": 2,
       "version_minor": 0
      },
      "text/plain": [
       "Epoch 29/2000:   0%|          | 0/27 [00:00<?, ?batch/s]"
      ]
     },
     "metadata": {},
     "output_type": "display_data"
    },
    {
     "data": {
      "application/vnd.jupyter.widget-view+json": {
       "model_id": "af611c29bf6c42709229eb457bafc7c7",
       "version_major": 2,
       "version_minor": 0
      },
      "text/plain": [
       "Epoch 30/2000:   0%|          | 0/27 [00:00<?, ?batch/s]"
      ]
     },
     "metadata": {},
     "output_type": "display_data"
    },
    {
     "data": {
      "application/vnd.jupyter.widget-view+json": {
       "model_id": "2f0d5ccc228c4e32b08df946d98bf6ba",
       "version_major": 2,
       "version_minor": 0
      },
      "text/plain": [
       "Epoch 31/2000:   0%|          | 0/27 [00:00<?, ?batch/s]"
      ]
     },
     "metadata": {},
     "output_type": "display_data"
    },
    {
     "data": {
      "application/vnd.jupyter.widget-view+json": {
       "model_id": "6100a022fde948e3b1d8d44e3a19e83c",
       "version_major": 2,
       "version_minor": 0
      },
      "text/plain": [
       "Epoch 32/2000:   0%|          | 0/27 [00:00<?, ?batch/s]"
      ]
     },
     "metadata": {},
     "output_type": "display_data"
    },
    {
     "data": {
      "application/vnd.jupyter.widget-view+json": {
       "model_id": "665546dbf54342db807ffbd0bedfa002",
       "version_major": 2,
       "version_minor": 0
      },
      "text/plain": [
       "Epoch 33/2000:   0%|          | 0/27 [00:00<?, ?batch/s]"
      ]
     },
     "metadata": {},
     "output_type": "display_data"
    },
    {
     "data": {
      "application/vnd.jupyter.widget-view+json": {
       "model_id": "0d3e3fba58924b2c91acf9ad6798e558",
       "version_major": 2,
       "version_minor": 0
      },
      "text/plain": [
       "Epoch 34/2000:   0%|          | 0/27 [00:00<?, ?batch/s]"
      ]
     },
     "metadata": {},
     "output_type": "display_data"
    },
    {
     "data": {
      "application/vnd.jupyter.widget-view+json": {
       "model_id": "122b973b34504b4196b18d0b4c1c551f",
       "version_major": 2,
       "version_minor": 0
      },
      "text/plain": [
       "Epoch 35/2000:   0%|          | 0/27 [00:00<?, ?batch/s]"
      ]
     },
     "metadata": {},
     "output_type": "display_data"
    },
    {
     "data": {
      "application/vnd.jupyter.widget-view+json": {
       "model_id": "189f34d308e04dcba2e8ae56629cbe84",
       "version_major": 2,
       "version_minor": 0
      },
      "text/plain": [
       "Epoch 36/2000:   0%|          | 0/27 [00:00<?, ?batch/s]"
      ]
     },
     "metadata": {},
     "output_type": "display_data"
    },
    {
     "data": {
      "application/vnd.jupyter.widget-view+json": {
       "model_id": "935716a341a64588a5c3dfbbced25ee4",
       "version_major": 2,
       "version_minor": 0
      },
      "text/plain": [
       "Epoch 37/2000:   0%|          | 0/27 [00:00<?, ?batch/s]"
      ]
     },
     "metadata": {},
     "output_type": "display_data"
    },
    {
     "name": "stderr",
     "output_type": "stream",
     "text": [
      "IOPub message rate exceeded.\n",
      "The Jupyter server will temporarily stop sending output\n",
      "to the client in order to avoid crashing it.\n",
      "To change this limit, set the config variable\n",
      "`--ServerApp.iopub_msg_rate_limit`.\n",
      "\n",
      "Current values:\n",
      "ServerApp.iopub_msg_rate_limit=1000.0 (msgs/sec)\n",
      "ServerApp.rate_limit_window=3.0 (secs)\n",
      "\n"
     ]
    },
    {
     "data": {
      "application/vnd.jupyter.widget-view+json": {
       "model_id": "a94062719a6543e4b2170449fe8ce4db",
       "version_major": 2,
       "version_minor": 0
      },
      "text/plain": [
       "Epoch 45/2000:   0%|          | 0/27 [00:00<?, ?batch/s]"
      ]
     },
     "metadata": {},
     "output_type": "display_data"
    },
    {
     "data": {
      "application/vnd.jupyter.widget-view+json": {
       "model_id": "05fb4d2420364359a440efad12c161e2",
       "version_major": 2,
       "version_minor": 0
      },
      "text/plain": [
       "Epoch 46/2000:   0%|          | 0/27 [00:00<?, ?batch/s]"
      ]
     },
     "metadata": {},
     "output_type": "display_data"
    },
    {
     "data": {
      "application/vnd.jupyter.widget-view+json": {
       "model_id": "4d436cd0dfc244ddb03ae4e1d1825cf1",
       "version_major": 2,
       "version_minor": 0
      },
      "text/plain": [
       "Epoch 47/2000:   0%|          | 0/27 [00:00<?, ?batch/s]"
      ]
     },
     "metadata": {},
     "output_type": "display_data"
    },
    {
     "data": {
      "application/vnd.jupyter.widget-view+json": {
       "model_id": "83e0f9c5755c439a8365a81e01f3b280",
       "version_major": 2,
       "version_minor": 0
      },
      "text/plain": [
       "Epoch 48/2000:   0%|          | 0/27 [00:00<?, ?batch/s]"
      ]
     },
     "metadata": {},
     "output_type": "display_data"
    },
    {
     "data": {
      "application/vnd.jupyter.widget-view+json": {
       "model_id": "684b9b8acfb54b92a79e886a834dd2b0",
       "version_major": 2,
       "version_minor": 0
      },
      "text/plain": [
       "Epoch 49/2000:   0%|          | 0/27 [00:00<?, ?batch/s]"
      ]
     },
     "metadata": {},
     "output_type": "display_data"
    },
    {
     "data": {
      "application/vnd.jupyter.widget-view+json": {
       "model_id": "fe9e2a98a483498cb2aa8d4bcc8608ce",
       "version_major": 2,
       "version_minor": 0
      },
      "text/plain": [
       "Epoch 50/2000:   0%|          | 0/27 [00:00<?, ?batch/s]"
      ]
     },
     "metadata": {},
     "output_type": "display_data"
    },
    {
     "data": {
      "application/vnd.jupyter.widget-view+json": {
       "model_id": "d42be773f4514a5cb32494f7ce4603d6",
       "version_major": 2,
       "version_minor": 0
      },
      "text/plain": [
       "Epoch 51/2000:   0%|          | 0/27 [00:00<?, ?batch/s]"
      ]
     },
     "metadata": {},
     "output_type": "display_data"
    },
    {
     "data": {
      "application/vnd.jupyter.widget-view+json": {
       "model_id": "37a8df3a4bc2490eb877a78116ac68f9",
       "version_major": 2,
       "version_minor": 0
      },
      "text/plain": [
       "Epoch 52/2000:   0%|          | 0/27 [00:00<?, ?batch/s]"
      ]
     },
     "metadata": {},
     "output_type": "display_data"
    },
    {
     "data": {
      "application/vnd.jupyter.widget-view+json": {
       "model_id": "9011e11b17c545628286a0ed43aaa0e4",
       "version_major": 2,
       "version_minor": 0
      },
      "text/plain": [
       "Epoch 53/2000:   0%|          | 0/27 [00:00<?, ?batch/s]"
      ]
     },
     "metadata": {},
     "output_type": "display_data"
    },
    {
     "data": {
      "application/vnd.jupyter.widget-view+json": {
       "model_id": "ff71d3e63bee460897780f89a16015de",
       "version_major": 2,
       "version_minor": 0
      },
      "text/plain": [
       "Epoch 54/2000:   0%|          | 0/27 [00:00<?, ?batch/s]"
      ]
     },
     "metadata": {},
     "output_type": "display_data"
    },
    {
     "data": {
      "application/vnd.jupyter.widget-view+json": {
       "model_id": "e3906a59291b46ec9abb81651d6f838f",
       "version_major": 2,
       "version_minor": 0
      },
      "text/plain": [
       "Epoch 55/2000:   0%|          | 0/27 [00:00<?, ?batch/s]"
      ]
     },
     "metadata": {},
     "output_type": "display_data"
    },
    {
     "data": {
      "application/vnd.jupyter.widget-view+json": {
       "model_id": "19e36f529322443783b8e7a138d06233",
       "version_major": 2,
       "version_minor": 0
      },
      "text/plain": [
       "Epoch 56/2000:   0%|          | 0/27 [00:00<?, ?batch/s]"
      ]
     },
     "metadata": {},
     "output_type": "display_data"
    },
    {
     "data": {
      "application/vnd.jupyter.widget-view+json": {
       "model_id": "3795c79ada734885a93ce3ef42e14ff0",
       "version_major": 2,
       "version_minor": 0
      },
      "text/plain": [
       "Epoch 57/2000:   0%|          | 0/27 [00:00<?, ?batch/s]"
      ]
     },
     "metadata": {},
     "output_type": "display_data"
    },
    {
     "data": {
      "application/vnd.jupyter.widget-view+json": {
       "model_id": "adde4ee09ca64c05b59ad057c637143d",
       "version_major": 2,
       "version_minor": 0
      },
      "text/plain": [
       "Epoch 58/2000:   0%|          | 0/27 [00:00<?, ?batch/s]"
      ]
     },
     "metadata": {},
     "output_type": "display_data"
    },
    {
     "data": {
      "application/vnd.jupyter.widget-view+json": {
       "model_id": "919e64ac44e945109316cd347ab86312",
       "version_major": 2,
       "version_minor": 0
      },
      "text/plain": [
       "Epoch 59/2000:   0%|          | 0/27 [00:00<?, ?batch/s]"
      ]
     },
     "metadata": {},
     "output_type": "display_data"
    },
    {
     "data": {
      "application/vnd.jupyter.widget-view+json": {
       "model_id": "bbd4fa4ddb9d45d8a7ef76cf35af8874",
       "version_major": 2,
       "version_minor": 0
      },
      "text/plain": [
       "Epoch 60/2000:   0%|          | 0/27 [00:00<?, ?batch/s]"
      ]
     },
     "metadata": {},
     "output_type": "display_data"
    },
    {
     "data": {
      "application/vnd.jupyter.widget-view+json": {
       "model_id": "926c7e973fad461ba7c7266f58ed4915",
       "version_major": 2,
       "version_minor": 0
      },
      "text/plain": [
       "Epoch 61/2000:   0%|          | 0/27 [00:00<?, ?batch/s]"
      ]
     },
     "metadata": {},
     "output_type": "display_data"
    },
    {
     "data": {
      "application/vnd.jupyter.widget-view+json": {
       "model_id": "77c37f6d11fb4c68a72b9f2b67aeb114",
       "version_major": 2,
       "version_minor": 0
      },
      "text/plain": [
       "Epoch 62/2000:   0%|          | 0/27 [00:00<?, ?batch/s]"
      ]
     },
     "metadata": {},
     "output_type": "display_data"
    },
    {
     "data": {
      "application/vnd.jupyter.widget-view+json": {
       "model_id": "7071a86357254cbc9536919a358eb407",
       "version_major": 2,
       "version_minor": 0
      },
      "text/plain": [
       "Epoch 63/2000:   0%|          | 0/27 [00:00<?, ?batch/s]"
      ]
     },
     "metadata": {},
     "output_type": "display_data"
    },
    {
     "data": {
      "application/vnd.jupyter.widget-view+json": {
       "model_id": "66319728c8df4462b3ed200cce8868fb",
       "version_major": 2,
       "version_minor": 0
      },
      "text/plain": [
       "Epoch 64/2000:   0%|          | 0/27 [00:00<?, ?batch/s]"
      ]
     },
     "metadata": {},
     "output_type": "display_data"
    },
    {
     "data": {
      "application/vnd.jupyter.widget-view+json": {
       "model_id": "3fd695140c5e4f32b8fca4b7f62cbed0",
       "version_major": 2,
       "version_minor": 0
      },
      "text/plain": [
       "Epoch 65/2000:   0%|          | 0/27 [00:00<?, ?batch/s]"
      ]
     },
     "metadata": {},
     "output_type": "display_data"
    },
    {
     "data": {
      "application/vnd.jupyter.widget-view+json": {
       "model_id": "0378ff951f484e428d14bbeb3f117d07",
       "version_major": 2,
       "version_minor": 0
      },
      "text/plain": [
       "Epoch 66/2000:   0%|          | 0/27 [00:00<?, ?batch/s]"
      ]
     },
     "metadata": {},
     "output_type": "display_data"
    },
    {
     "data": {
      "application/vnd.jupyter.widget-view+json": {
       "model_id": "6290e9caf21b46d0bdf874ca1be7b161",
       "version_major": 2,
       "version_minor": 0
      },
      "text/plain": [
       "Epoch 67/2000:   0%|          | 0/27 [00:00<?, ?batch/s]"
      ]
     },
     "metadata": {},
     "output_type": "display_data"
    },
    {
     "data": {
      "application/vnd.jupyter.widget-view+json": {
       "model_id": "834eea74351a4fdf91408c80e53d68c8",
       "version_major": 2,
       "version_minor": 0
      },
      "text/plain": [
       "Epoch 68/2000:   0%|          | 0/27 [00:00<?, ?batch/s]"
      ]
     },
     "metadata": {},
     "output_type": "display_data"
    },
    {
     "data": {
      "application/vnd.jupyter.widget-view+json": {
       "model_id": "bd020c530c8644a098a03c8f2aff26d8",
       "version_major": 2,
       "version_minor": 0
      },
      "text/plain": [
       "Epoch 69/2000:   0%|          | 0/27 [00:00<?, ?batch/s]"
      ]
     },
     "metadata": {},
     "output_type": "display_data"
    },
    {
     "data": {
      "application/vnd.jupyter.widget-view+json": {
       "model_id": "9e2b33a819e949ea850290549ebbe946",
       "version_major": 2,
       "version_minor": 0
      },
      "text/plain": [
       "Epoch 70/2000:   0%|          | 0/27 [00:00<?, ?batch/s]"
      ]
     },
     "metadata": {},
     "output_type": "display_data"
    },
    {
     "data": {
      "application/vnd.jupyter.widget-view+json": {
       "model_id": "5c98d6d4ff61494aa67a342a337203e5",
       "version_major": 2,
       "version_minor": 0
      },
      "text/plain": [
       "Epoch 71/2000:   0%|          | 0/27 [00:00<?, ?batch/s]"
      ]
     },
     "metadata": {},
     "output_type": "display_data"
    },
    {
     "data": {
      "application/vnd.jupyter.widget-view+json": {
       "model_id": "c19fdaec3bf647b28a339cc8e17ef68e",
       "version_major": 2,
       "version_minor": 0
      },
      "text/plain": [
       "Epoch 72/2000:   0%|          | 0/27 [00:00<?, ?batch/s]"
      ]
     },
     "metadata": {},
     "output_type": "display_data"
    },
    {
     "data": {
      "application/vnd.jupyter.widget-view+json": {
       "model_id": "f35c5a33aee8459c83fc330947344de9",
       "version_major": 2,
       "version_minor": 0
      },
      "text/plain": [
       "Epoch 73/2000:   0%|          | 0/27 [00:00<?, ?batch/s]"
      ]
     },
     "metadata": {},
     "output_type": "display_data"
    },
    {
     "data": {
      "application/vnd.jupyter.widget-view+json": {
       "model_id": "09f98c104c024df48124a674f0e91c1b",
       "version_major": 2,
       "version_minor": 0
      },
      "text/plain": [
       "Epoch 74/2000:   0%|          | 0/27 [00:00<?, ?batch/s]"
      ]
     },
     "metadata": {},
     "output_type": "display_data"
    },
    {
     "data": {
      "application/vnd.jupyter.widget-view+json": {
       "model_id": "c5efc92c53624d6798242577147e4407",
       "version_major": 2,
       "version_minor": 0
      },
      "text/plain": [
       "Epoch 75/2000:   0%|          | 0/27 [00:00<?, ?batch/s]"
      ]
     },
     "metadata": {},
     "output_type": "display_data"
    },
    {
     "data": {
      "application/vnd.jupyter.widget-view+json": {
       "model_id": "b7c7837df716417eaa98309708a3b104",
       "version_major": 2,
       "version_minor": 0
      },
      "text/plain": [
       "Epoch 76/2000:   0%|          | 0/27 [00:00<?, ?batch/s]"
      ]
     },
     "metadata": {},
     "output_type": "display_data"
    },
    {
     "data": {
      "application/vnd.jupyter.widget-view+json": {
       "model_id": "12525a0f5cd84c45a8dff207436afefe",
       "version_major": 2,
       "version_minor": 0
      },
      "text/plain": [
       "Epoch 77/2000:   0%|          | 0/27 [00:00<?, ?batch/s]"
      ]
     },
     "metadata": {},
     "output_type": "display_data"
    },
    {
     "data": {
      "application/vnd.jupyter.widget-view+json": {
       "model_id": "b16b74c6b1524a58a5dfdbc6ce66f354",
       "version_major": 2,
       "version_minor": 0
      },
      "text/plain": [
       "Epoch 78/2000:   0%|          | 0/27 [00:00<?, ?batch/s]"
      ]
     },
     "metadata": {},
     "output_type": "display_data"
    },
    {
     "data": {
      "application/vnd.jupyter.widget-view+json": {
       "model_id": "334f3005193944c7aa455f5c682a69cd",
       "version_major": 2,
       "version_minor": 0
      },
      "text/plain": [
       "Epoch 79/2000:   0%|          | 0/27 [00:00<?, ?batch/s]"
      ]
     },
     "metadata": {},
     "output_type": "display_data"
    },
    {
     "name": "stderr",
     "output_type": "stream",
     "text": [
      "IOPub message rate exceeded.\n",
      "The Jupyter server will temporarily stop sending output\n",
      "to the client in order to avoid crashing it.\n",
      "To change this limit, set the config variable\n",
      "`--ServerApp.iopub_msg_rate_limit`.\n",
      "\n",
      "Current values:\n",
      "ServerApp.iopub_msg_rate_limit=1000.0 (msgs/sec)\n",
      "ServerApp.rate_limit_window=3.0 (secs)\n",
      "\n"
     ]
    },
    {
     "data": {
      "application/vnd.jupyter.widget-view+json": {
       "model_id": "e024dc82882e4c90bb140aa9bb32381e",
       "version_major": 2,
       "version_minor": 0
      },
      "text/plain": [
       "Epoch 87/2000:   0%|          | 0/27 [00:00<?, ?batch/s]"
      ]
     },
     "metadata": {},
     "output_type": "display_data"
    },
    {
     "data": {
      "application/vnd.jupyter.widget-view+json": {
       "model_id": "cea5d1b5e050447b9d85a272c09c9688",
       "version_major": 2,
       "version_minor": 0
      },
      "text/plain": [
       "Epoch 88/2000:   0%|          | 0/27 [00:00<?, ?batch/s]"
      ]
     },
     "metadata": {},
     "output_type": "display_data"
    },
    {
     "data": {
      "application/vnd.jupyter.widget-view+json": {
       "model_id": "bf87721b552d41b699ce8e57c10c3e45",
       "version_major": 2,
       "version_minor": 0
      },
      "text/plain": [
       "Epoch 89/2000:   0%|          | 0/27 [00:00<?, ?batch/s]"
      ]
     },
     "metadata": {},
     "output_type": "display_data"
    },
    {
     "data": {
      "application/vnd.jupyter.widget-view+json": {
       "model_id": "2fb8d1be5f454957bc53c5d80e450456",
       "version_major": 2,
       "version_minor": 0
      },
      "text/plain": [
       "Epoch 90/2000:   0%|          | 0/27 [00:00<?, ?batch/s]"
      ]
     },
     "metadata": {},
     "output_type": "display_data"
    },
    {
     "data": {
      "application/vnd.jupyter.widget-view+json": {
       "model_id": "363790d61dd44f359aaeb52fb5679db5",
       "version_major": 2,
       "version_minor": 0
      },
      "text/plain": [
       "Epoch 91/2000:   0%|          | 0/27 [00:00<?, ?batch/s]"
      ]
     },
     "metadata": {},
     "output_type": "display_data"
    },
    {
     "data": {
      "application/vnd.jupyter.widget-view+json": {
       "model_id": "991ab55e81734fe7b532def6c3cfa8d8",
       "version_major": 2,
       "version_minor": 0
      },
      "text/plain": [
       "Epoch 92/2000:   0%|          | 0/27 [00:00<?, ?batch/s]"
      ]
     },
     "metadata": {},
     "output_type": "display_data"
    },
    {
     "data": {
      "application/vnd.jupyter.widget-view+json": {
       "model_id": "865dfc26fb3a41d78784bcab33c51673",
       "version_major": 2,
       "version_minor": 0
      },
      "text/plain": [
       "Epoch 93/2000:   0%|          | 0/27 [00:00<?, ?batch/s]"
      ]
     },
     "metadata": {},
     "output_type": "display_data"
    },
    {
     "data": {
      "application/vnd.jupyter.widget-view+json": {
       "model_id": "cdd73c6edc704f0b9c0ddeff34dfc3d4",
       "version_major": 2,
       "version_minor": 0
      },
      "text/plain": [
       "Epoch 94/2000:   0%|          | 0/27 [00:00<?, ?batch/s]"
      ]
     },
     "metadata": {},
     "output_type": "display_data"
    },
    {
     "data": {
      "application/vnd.jupyter.widget-view+json": {
       "model_id": "642d2ffb21974b18af2784dda7afb930",
       "version_major": 2,
       "version_minor": 0
      },
      "text/plain": [
       "Epoch 95/2000:   0%|          | 0/27 [00:00<?, ?batch/s]"
      ]
     },
     "metadata": {},
     "output_type": "display_data"
    },
    {
     "data": {
      "application/vnd.jupyter.widget-view+json": {
       "model_id": "2db7f3d21ea749e495e2102324317c63",
       "version_major": 2,
       "version_minor": 0
      },
      "text/plain": [
       "Epoch 96/2000:   0%|          | 0/27 [00:00<?, ?batch/s]"
      ]
     },
     "metadata": {},
     "output_type": "display_data"
    },
    {
     "data": {
      "application/vnd.jupyter.widget-view+json": {
       "model_id": "b3b9c19c858e45ea9cbe4929a4c6ea01",
       "version_major": 2,
       "version_minor": 0
      },
      "text/plain": [
       "Epoch 97/2000:   0%|          | 0/27 [00:00<?, ?batch/s]"
      ]
     },
     "metadata": {},
     "output_type": "display_data"
    },
    {
     "data": {
      "application/vnd.jupyter.widget-view+json": {
       "model_id": "e61eb949c8f9413d93268812813251ac",
       "version_major": 2,
       "version_minor": 0
      },
      "text/plain": [
       "Epoch 98/2000:   0%|          | 0/27 [00:00<?, ?batch/s]"
      ]
     },
     "metadata": {},
     "output_type": "display_data"
    },
    {
     "data": {
      "application/vnd.jupyter.widget-view+json": {
       "model_id": "6d28075d81994552843a68f5eee8882a",
       "version_major": 2,
       "version_minor": 0
      },
      "text/plain": [
       "Epoch 99/2000:   0%|          | 0/27 [00:00<?, ?batch/s]"
      ]
     },
     "metadata": {},
     "output_type": "display_data"
    },
    {
     "data": {
      "application/vnd.jupyter.widget-view+json": {
       "model_id": "9e67caec93044b50b226f58a998f362b",
       "version_major": 2,
       "version_minor": 0
      },
      "text/plain": [
       "Epoch 100/2000:   0%|          | 0/27 [00:00<?, ?batch/s]"
      ]
     },
     "metadata": {},
     "output_type": "display_data"
    },
    {
     "data": {
      "application/vnd.jupyter.widget-view+json": {
       "model_id": "9a5e3a89e05742069e61bc17a409b1cf",
       "version_major": 2,
       "version_minor": 0
      },
      "text/plain": [
       "Epoch 101/2000:   0%|          | 0/27 [00:00<?, ?batch/s]"
      ]
     },
     "metadata": {},
     "output_type": "display_data"
    },
    {
     "data": {
      "application/vnd.jupyter.widget-view+json": {
       "model_id": "2efe99c7281747a3b39259f4437eae69",
       "version_major": 2,
       "version_minor": 0
      },
      "text/plain": [
       "Epoch 102/2000:   0%|          | 0/27 [00:00<?, ?batch/s]"
      ]
     },
     "metadata": {},
     "output_type": "display_data"
    },
    {
     "data": {
      "application/vnd.jupyter.widget-view+json": {
       "model_id": "85a839d02e554ead851e41eb3934c6ab",
       "version_major": 2,
       "version_minor": 0
      },
      "text/plain": [
       "Epoch 103/2000:   0%|          | 0/27 [00:00<?, ?batch/s]"
      ]
     },
     "metadata": {},
     "output_type": "display_data"
    },
    {
     "data": {
      "application/vnd.jupyter.widget-view+json": {
       "model_id": "f2568290a8674c37bdd957da5122cc1e",
       "version_major": 2,
       "version_minor": 0
      },
      "text/plain": [
       "Epoch 104/2000:   0%|          | 0/27 [00:00<?, ?batch/s]"
      ]
     },
     "metadata": {},
     "output_type": "display_data"
    },
    {
     "data": {
      "application/vnd.jupyter.widget-view+json": {
       "model_id": "ca42ecd22e8745d2b702217efb3cca93",
       "version_major": 2,
       "version_minor": 0
      },
      "text/plain": [
       "Epoch 105/2000:   0%|          | 0/27 [00:00<?, ?batch/s]"
      ]
     },
     "metadata": {},
     "output_type": "display_data"
    },
    {
     "data": {
      "application/vnd.jupyter.widget-view+json": {
       "model_id": "55c4a0eb897346a588158f1edf51c5cf",
       "version_major": 2,
       "version_minor": 0
      },
      "text/plain": [
       "Epoch 106/2000:   0%|          | 0/27 [00:00<?, ?batch/s]"
      ]
     },
     "metadata": {},
     "output_type": "display_data"
    },
    {
     "data": {
      "application/vnd.jupyter.widget-view+json": {
       "model_id": "47b4119cbf184782a6daba032d8f28bd",
       "version_major": 2,
       "version_minor": 0
      },
      "text/plain": [
       "Epoch 107/2000:   0%|          | 0/27 [00:00<?, ?batch/s]"
      ]
     },
     "metadata": {},
     "output_type": "display_data"
    },
    {
     "data": {
      "application/vnd.jupyter.widget-view+json": {
       "model_id": "ea54545e519c4d9db66bbbcaae060e15",
       "version_major": 2,
       "version_minor": 0
      },
      "text/plain": [
       "Epoch 108/2000:   0%|          | 0/27 [00:00<?, ?batch/s]"
      ]
     },
     "metadata": {},
     "output_type": "display_data"
    },
    {
     "data": {
      "application/vnd.jupyter.widget-view+json": {
       "model_id": "60348c854c0b4e16bbf6e4d151a8c89e",
       "version_major": 2,
       "version_minor": 0
      },
      "text/plain": [
       "Epoch 109/2000:   0%|          | 0/27 [00:00<?, ?batch/s]"
      ]
     },
     "metadata": {},
     "output_type": "display_data"
    },
    {
     "data": {
      "application/vnd.jupyter.widget-view+json": {
       "model_id": "e76de32743ab4b959cdfd08ff160a2ea",
       "version_major": 2,
       "version_minor": 0
      },
      "text/plain": [
       "Epoch 110/2000:   0%|          | 0/27 [00:00<?, ?batch/s]"
      ]
     },
     "metadata": {},
     "output_type": "display_data"
    },
    {
     "data": {
      "application/vnd.jupyter.widget-view+json": {
       "model_id": "a1c68e8162f54335b094bf55aaaf3373",
       "version_major": 2,
       "version_minor": 0
      },
      "text/plain": [
       "Epoch 111/2000:   0%|          | 0/27 [00:00<?, ?batch/s]"
      ]
     },
     "metadata": {},
     "output_type": "display_data"
    },
    {
     "data": {
      "application/vnd.jupyter.widget-view+json": {
       "model_id": "aaeb05600e934b2493d9a9480f384bd8",
       "version_major": 2,
       "version_minor": 0
      },
      "text/plain": [
       "Epoch 112/2000:   0%|          | 0/27 [00:00<?, ?batch/s]"
      ]
     },
     "metadata": {},
     "output_type": "display_data"
    },
    {
     "data": {
      "application/vnd.jupyter.widget-view+json": {
       "model_id": "64d42754f62142eca53409778cd9e9f0",
       "version_major": 2,
       "version_minor": 0
      },
      "text/plain": [
       "Epoch 113/2000:   0%|          | 0/27 [00:00<?, ?batch/s]"
      ]
     },
     "metadata": {},
     "output_type": "display_data"
    },
    {
     "data": {
      "application/vnd.jupyter.widget-view+json": {
       "model_id": "7e692e8b63a44222b142b8b6894143c0",
       "version_major": 2,
       "version_minor": 0
      },
      "text/plain": [
       "Epoch 114/2000:   0%|          | 0/27 [00:00<?, ?batch/s]"
      ]
     },
     "metadata": {},
     "output_type": "display_data"
    },
    {
     "data": {
      "application/vnd.jupyter.widget-view+json": {
       "model_id": "3cdd33b6a06248cfb8e78e4f39e93936",
       "version_major": 2,
       "version_minor": 0
      },
      "text/plain": [
       "Epoch 115/2000:   0%|          | 0/27 [00:00<?, ?batch/s]"
      ]
     },
     "metadata": {},
     "output_type": "display_data"
    },
    {
     "data": {
      "application/vnd.jupyter.widget-view+json": {
       "model_id": "b78c4bcdf6aa4c5fae03c28e9bcbbf24",
       "version_major": 2,
       "version_minor": 0
      },
      "text/plain": [
       "Epoch 116/2000:   0%|          | 0/27 [00:00<?, ?batch/s]"
      ]
     },
     "metadata": {},
     "output_type": "display_data"
    },
    {
     "data": {
      "application/vnd.jupyter.widget-view+json": {
       "model_id": "5bc8c2a6dc1447f48c7750608f81cb88",
       "version_major": 2,
       "version_minor": 0
      },
      "text/plain": [
       "Epoch 117/2000:   0%|          | 0/27 [00:00<?, ?batch/s]"
      ]
     },
     "metadata": {},
     "output_type": "display_data"
    },
    {
     "data": {
      "application/vnd.jupyter.widget-view+json": {
       "model_id": "7a4fc0707887477c82492690f9114461",
       "version_major": 2,
       "version_minor": 0
      },
      "text/plain": [
       "Epoch 118/2000:   0%|          | 0/27 [00:00<?, ?batch/s]"
      ]
     },
     "metadata": {},
     "output_type": "display_data"
    },
    {
     "data": {
      "application/vnd.jupyter.widget-view+json": {
       "model_id": "97df195917784c14877d0cf647118a13",
       "version_major": 2,
       "version_minor": 0
      },
      "text/plain": [
       "Epoch 119/2000:   0%|          | 0/27 [00:00<?, ?batch/s]"
      ]
     },
     "metadata": {},
     "output_type": "display_data"
    },
    {
     "data": {
      "application/vnd.jupyter.widget-view+json": {
       "model_id": "ef392ebd31234c20b4cd94d3c58fdc3b",
       "version_major": 2,
       "version_minor": 0
      },
      "text/plain": [
       "Epoch 120/2000:   0%|          | 0/27 [00:00<?, ?batch/s]"
      ]
     },
     "metadata": {},
     "output_type": "display_data"
    },
    {
     "name": "stderr",
     "output_type": "stream",
     "text": [
      "IOPub message rate exceeded.\n",
      "The Jupyter server will temporarily stop sending output\n",
      "to the client in order to avoid crashing it.\n",
      "To change this limit, set the config variable\n",
      "`--ServerApp.iopub_msg_rate_limit`.\n",
      "\n",
      "Current values:\n",
      "ServerApp.iopub_msg_rate_limit=1000.0 (msgs/sec)\n",
      "ServerApp.rate_limit_window=3.0 (secs)\n",
      "\n"
     ]
    },
    {
     "data": {
      "application/vnd.jupyter.widget-view+json": {
       "model_id": "7eb55e10e21c4554a4a3e887fcf9e608",
       "version_major": 2,
       "version_minor": 0
      },
      "text/plain": [
       "Epoch 129/2000:   0%|          | 0/27 [00:00<?, ?batch/s]"
      ]
     },
     "metadata": {},
     "output_type": "display_data"
    },
    {
     "data": {
      "application/vnd.jupyter.widget-view+json": {
       "model_id": "d40cc75c330740f6b66d57572ec28c74",
       "version_major": 2,
       "version_minor": 0
      },
      "text/plain": [
       "Epoch 130/2000:   0%|          | 0/27 [00:00<?, ?batch/s]"
      ]
     },
     "metadata": {},
     "output_type": "display_data"
    },
    {
     "data": {
      "application/vnd.jupyter.widget-view+json": {
       "model_id": "c42c5ff745d04e7695ef85b6818dd3cd",
       "version_major": 2,
       "version_minor": 0
      },
      "text/plain": [
       "Epoch 131/2000:   0%|          | 0/27 [00:00<?, ?batch/s]"
      ]
     },
     "metadata": {},
     "output_type": "display_data"
    },
    {
     "data": {
      "application/vnd.jupyter.widget-view+json": {
       "model_id": "5b8d5a15191b463aaf60690ce2d63ae8",
       "version_major": 2,
       "version_minor": 0
      },
      "text/plain": [
       "Epoch 132/2000:   0%|          | 0/27 [00:00<?, ?batch/s]"
      ]
     },
     "metadata": {},
     "output_type": "display_data"
    },
    {
     "data": {
      "application/vnd.jupyter.widget-view+json": {
       "model_id": "f8f85c7b6a6142d3a73bfe61b995518d",
       "version_major": 2,
       "version_minor": 0
      },
      "text/plain": [
       "Epoch 133/2000:   0%|          | 0/27 [00:00<?, ?batch/s]"
      ]
     },
     "metadata": {},
     "output_type": "display_data"
    },
    {
     "data": {
      "application/vnd.jupyter.widget-view+json": {
       "model_id": "22c00bd1e402452ba359f53d99f79b89",
       "version_major": 2,
       "version_minor": 0
      },
      "text/plain": [
       "Epoch 134/2000:   0%|          | 0/27 [00:00<?, ?batch/s]"
      ]
     },
     "metadata": {},
     "output_type": "display_data"
    },
    {
     "data": {
      "application/vnd.jupyter.widget-view+json": {
       "model_id": "1a4e41f575fe48eebc9ea2d6723f0992",
       "version_major": 2,
       "version_minor": 0
      },
      "text/plain": [
       "Epoch 135/2000:   0%|          | 0/27 [00:00<?, ?batch/s]"
      ]
     },
     "metadata": {},
     "output_type": "display_data"
    },
    {
     "data": {
      "application/vnd.jupyter.widget-view+json": {
       "model_id": "163022d26b31470faa4defc2c8d7d9f5",
       "version_major": 2,
       "version_minor": 0
      },
      "text/plain": [
       "Epoch 136/2000:   0%|          | 0/27 [00:00<?, ?batch/s]"
      ]
     },
     "metadata": {},
     "output_type": "display_data"
    },
    {
     "data": {
      "application/vnd.jupyter.widget-view+json": {
       "model_id": "6f5f8df738ec4469b2982bad003e6451",
       "version_major": 2,
       "version_minor": 0
      },
      "text/plain": [
       "Epoch 137/2000:   0%|          | 0/27 [00:00<?, ?batch/s]"
      ]
     },
     "metadata": {},
     "output_type": "display_data"
    },
    {
     "data": {
      "application/vnd.jupyter.widget-view+json": {
       "model_id": "3df7e984bce54b5c8314e40c9c5af45f",
       "version_major": 2,
       "version_minor": 0
      },
      "text/plain": [
       "Epoch 138/2000:   0%|          | 0/27 [00:00<?, ?batch/s]"
      ]
     },
     "metadata": {},
     "output_type": "display_data"
    },
    {
     "data": {
      "application/vnd.jupyter.widget-view+json": {
       "model_id": "48787585e9d14657a2b0445df46e6625",
       "version_major": 2,
       "version_minor": 0
      },
      "text/plain": [
       "Epoch 139/2000:   0%|          | 0/27 [00:00<?, ?batch/s]"
      ]
     },
     "metadata": {},
     "output_type": "display_data"
    },
    {
     "data": {
      "application/vnd.jupyter.widget-view+json": {
       "model_id": "8595cd0f36074de7bdf0cabeaa96326b",
       "version_major": 2,
       "version_minor": 0
      },
      "text/plain": [
       "Epoch 140/2000:   0%|          | 0/27 [00:00<?, ?batch/s]"
      ]
     },
     "metadata": {},
     "output_type": "display_data"
    },
    {
     "data": {
      "application/vnd.jupyter.widget-view+json": {
       "model_id": "70b64313b98f49b4832708171e646266",
       "version_major": 2,
       "version_minor": 0
      },
      "text/plain": [
       "Epoch 141/2000:   0%|          | 0/27 [00:00<?, ?batch/s]"
      ]
     },
     "metadata": {},
     "output_type": "display_data"
    },
    {
     "data": {
      "application/vnd.jupyter.widget-view+json": {
       "model_id": "41d88951656f498c81324f0d917634e3",
       "version_major": 2,
       "version_minor": 0
      },
      "text/plain": [
       "Epoch 142/2000:   0%|          | 0/27 [00:00<?, ?batch/s]"
      ]
     },
     "metadata": {},
     "output_type": "display_data"
    },
    {
     "data": {
      "application/vnd.jupyter.widget-view+json": {
       "model_id": "4c881053b5b347efb132270b1ac91c96",
       "version_major": 2,
       "version_minor": 0
      },
      "text/plain": [
       "Epoch 143/2000:   0%|          | 0/27 [00:00<?, ?batch/s]"
      ]
     },
     "metadata": {},
     "output_type": "display_data"
    },
    {
     "data": {
      "application/vnd.jupyter.widget-view+json": {
       "model_id": "59e619fbb8b746c2894fe4e6aeb3ce9b",
       "version_major": 2,
       "version_minor": 0
      },
      "text/plain": [
       "Epoch 144/2000:   0%|          | 0/27 [00:00<?, ?batch/s]"
      ]
     },
     "metadata": {},
     "output_type": "display_data"
    },
    {
     "data": {
      "application/vnd.jupyter.widget-view+json": {
       "model_id": "c2b92b476e444b10a5a0d6f1a3f5a022",
       "version_major": 2,
       "version_minor": 0
      },
      "text/plain": [
       "Epoch 145/2000:   0%|          | 0/27 [00:00<?, ?batch/s]"
      ]
     },
     "metadata": {},
     "output_type": "display_data"
    },
    {
     "data": {
      "application/vnd.jupyter.widget-view+json": {
       "model_id": "656d32726aa1412bbd0d2eb4706f9747",
       "version_major": 2,
       "version_minor": 0
      },
      "text/plain": [
       "Epoch 146/2000:   0%|          | 0/27 [00:00<?, ?batch/s]"
      ]
     },
     "metadata": {},
     "output_type": "display_data"
    },
    {
     "data": {
      "application/vnd.jupyter.widget-view+json": {
       "model_id": "60948620d1584f0a814269bcfe53c237",
       "version_major": 2,
       "version_minor": 0
      },
      "text/plain": [
       "Epoch 147/2000:   0%|          | 0/27 [00:00<?, ?batch/s]"
      ]
     },
     "metadata": {},
     "output_type": "display_data"
    },
    {
     "data": {
      "application/vnd.jupyter.widget-view+json": {
       "model_id": "fc54809308244b8b85ebb0215c070502",
       "version_major": 2,
       "version_minor": 0
      },
      "text/plain": [
       "Epoch 148/2000:   0%|          | 0/27 [00:00<?, ?batch/s]"
      ]
     },
     "metadata": {},
     "output_type": "display_data"
    },
    {
     "data": {
      "application/vnd.jupyter.widget-view+json": {
       "model_id": "f1ac50b7ebab45d78ff89e351f0dd295",
       "version_major": 2,
       "version_minor": 0
      },
      "text/plain": [
       "Epoch 149/2000:   0%|          | 0/27 [00:00<?, ?batch/s]"
      ]
     },
     "metadata": {},
     "output_type": "display_data"
    },
    {
     "data": {
      "application/vnd.jupyter.widget-view+json": {
       "model_id": "775e1527a8f14c0b97fb05e25804a230",
       "version_major": 2,
       "version_minor": 0
      },
      "text/plain": [
       "Epoch 150/2000:   0%|          | 0/27 [00:00<?, ?batch/s]"
      ]
     },
     "metadata": {},
     "output_type": "display_data"
    },
    {
     "data": {
      "application/vnd.jupyter.widget-view+json": {
       "model_id": "89c19266ffe34859b01ac33ba883dde8",
       "version_major": 2,
       "version_minor": 0
      },
      "text/plain": [
       "Epoch 151/2000:   0%|          | 0/27 [00:00<?, ?batch/s]"
      ]
     },
     "metadata": {},
     "output_type": "display_data"
    },
    {
     "data": {
      "application/vnd.jupyter.widget-view+json": {
       "model_id": "a7e49a03e6684045ae0617167bfc8565",
       "version_major": 2,
       "version_minor": 0
      },
      "text/plain": [
       "Epoch 152/2000:   0%|          | 0/27 [00:00<?, ?batch/s]"
      ]
     },
     "metadata": {},
     "output_type": "display_data"
    },
    {
     "data": {
      "application/vnd.jupyter.widget-view+json": {
       "model_id": "d7ff4ef103b441a7af419f1bdd481115",
       "version_major": 2,
       "version_minor": 0
      },
      "text/plain": [
       "Epoch 153/2000:   0%|          | 0/27 [00:00<?, ?batch/s]"
      ]
     },
     "metadata": {},
     "output_type": "display_data"
    },
    {
     "data": {
      "application/vnd.jupyter.widget-view+json": {
       "model_id": "e89a0dca5ee74cd8be1eab0a82aa0f5e",
       "version_major": 2,
       "version_minor": 0
      },
      "text/plain": [
       "Epoch 154/2000:   0%|          | 0/27 [00:00<?, ?batch/s]"
      ]
     },
     "metadata": {},
     "output_type": "display_data"
    },
    {
     "data": {
      "application/vnd.jupyter.widget-view+json": {
       "model_id": "9e8cd42fd8394a73a3bff2caa6203fdf",
       "version_major": 2,
       "version_minor": 0
      },
      "text/plain": [
       "Epoch 155/2000:   0%|          | 0/27 [00:00<?, ?batch/s]"
      ]
     },
     "metadata": {},
     "output_type": "display_data"
    },
    {
     "data": {
      "application/vnd.jupyter.widget-view+json": {
       "model_id": "088b4f78e9fc4ff487364859296290ad",
       "version_major": 2,
       "version_minor": 0
      },
      "text/plain": [
       "Epoch 156/2000:   0%|          | 0/27 [00:00<?, ?batch/s]"
      ]
     },
     "metadata": {},
     "output_type": "display_data"
    },
    {
     "data": {
      "application/vnd.jupyter.widget-view+json": {
       "model_id": "a085b0a9e3d54082b431a7ecea4b3737",
       "version_major": 2,
       "version_minor": 0
      },
      "text/plain": [
       "Epoch 157/2000:   0%|          | 0/27 [00:00<?, ?batch/s]"
      ]
     },
     "metadata": {},
     "output_type": "display_data"
    },
    {
     "data": {
      "application/vnd.jupyter.widget-view+json": {
       "model_id": "b43219b4cac843758f62ef7c05e450f7",
       "version_major": 2,
       "version_minor": 0
      },
      "text/plain": [
       "Epoch 158/2000:   0%|          | 0/27 [00:00<?, ?batch/s]"
      ]
     },
     "metadata": {},
     "output_type": "display_data"
    },
    {
     "data": {
      "application/vnd.jupyter.widget-view+json": {
       "model_id": "2394a31ed8a043b7baf809ec79bf0b17",
       "version_major": 2,
       "version_minor": 0
      },
      "text/plain": [
       "Epoch 159/2000:   0%|          | 0/27 [00:00<?, ?batch/s]"
      ]
     },
     "metadata": {},
     "output_type": "display_data"
    },
    {
     "data": {
      "application/vnd.jupyter.widget-view+json": {
       "model_id": "e5db4193bd01422a9ff5375cbb0fadaf",
       "version_major": 2,
       "version_minor": 0
      },
      "text/plain": [
       "Epoch 160/2000:   0%|          | 0/27 [00:00<?, ?batch/s]"
      ]
     },
     "metadata": {},
     "output_type": "display_data"
    },
    {
     "data": {
      "application/vnd.jupyter.widget-view+json": {
       "model_id": "7209de05ed304810b3b107f3bf4a6890",
       "version_major": 2,
       "version_minor": 0
      },
      "text/plain": [
       "Epoch 161/2000:   0%|          | 0/27 [00:00<?, ?batch/s]"
      ]
     },
     "metadata": {},
     "output_type": "display_data"
    },
    {
     "data": {
      "application/vnd.jupyter.widget-view+json": {
       "model_id": "f632abd9d79c4a589037f350e571ce15",
       "version_major": 2,
       "version_minor": 0
      },
      "text/plain": [
       "Epoch 162/2000:   0%|          | 0/27 [00:00<?, ?batch/s]"
      ]
     },
     "metadata": {},
     "output_type": "display_data"
    },
    {
     "data": {
      "application/vnd.jupyter.widget-view+json": {
       "model_id": "b659984b06a04a52882e0137d340e5cd",
       "version_major": 2,
       "version_minor": 0
      },
      "text/plain": [
       "Epoch 163/2000:   0%|          | 0/27 [00:00<?, ?batch/s]"
      ]
     },
     "metadata": {},
     "output_type": "display_data"
    },
    {
     "data": {
      "application/vnd.jupyter.widget-view+json": {
       "model_id": "0bd0ab5691b04276be0e3cae21ecf272",
       "version_major": 2,
       "version_minor": 0
      },
      "text/plain": [
       "Epoch 164/2000:   0%|          | 0/27 [00:00<?, ?batch/s]"
      ]
     },
     "metadata": {},
     "output_type": "display_data"
    },
    {
     "data": {
      "application/vnd.jupyter.widget-view+json": {
       "model_id": "88769e2586854d2abaae2e689cf723fc",
       "version_major": 2,
       "version_minor": 0
      },
      "text/plain": [
       "Epoch 165/2000:   0%|          | 0/27 [00:00<?, ?batch/s]"
      ]
     },
     "metadata": {},
     "output_type": "display_data"
    },
    {
     "name": "stderr",
     "output_type": "stream",
     "text": [
      "IOPub message rate exceeded.\n",
      "The Jupyter server will temporarily stop sending output\n",
      "to the client in order to avoid crashing it.\n",
      "To change this limit, set the config variable\n",
      "`--ServerApp.iopub_msg_rate_limit`.\n",
      "\n",
      "Current values:\n",
      "ServerApp.iopub_msg_rate_limit=1000.0 (msgs/sec)\n",
      "ServerApp.rate_limit_window=3.0 (secs)\n",
      "\n"
     ]
    },
    {
     "data": {
      "application/vnd.jupyter.widget-view+json": {
       "model_id": "c06a6545fa7a4663a086567ee93835cc",
       "version_major": 2,
       "version_minor": 0
      },
      "text/plain": [
       "Epoch 174/2000:   0%|          | 0/27 [00:00<?, ?batch/s]"
      ]
     },
     "metadata": {},
     "output_type": "display_data"
    },
    {
     "data": {
      "application/vnd.jupyter.widget-view+json": {
       "model_id": "ccdf14e797b343618190d547e5322763",
       "version_major": 2,
       "version_minor": 0
      },
      "text/plain": [
       "Epoch 175/2000:   0%|          | 0/27 [00:00<?, ?batch/s]"
      ]
     },
     "metadata": {},
     "output_type": "display_data"
    },
    {
     "data": {
      "application/vnd.jupyter.widget-view+json": {
       "model_id": "d8017968c6ba43c6b438de2dff5fe0e7",
       "version_major": 2,
       "version_minor": 0
      },
      "text/plain": [
       "Epoch 176/2000:   0%|          | 0/27 [00:00<?, ?batch/s]"
      ]
     },
     "metadata": {},
     "output_type": "display_data"
    },
    {
     "data": {
      "application/vnd.jupyter.widget-view+json": {
       "model_id": "939ed3865b474acab912e05cf087e88b",
       "version_major": 2,
       "version_minor": 0
      },
      "text/plain": [
       "Epoch 177/2000:   0%|          | 0/27 [00:00<?, ?batch/s]"
      ]
     },
     "metadata": {},
     "output_type": "display_data"
    },
    {
     "data": {
      "application/vnd.jupyter.widget-view+json": {
       "model_id": "d5662d589d4048ce90b0a4167c654fe1",
       "version_major": 2,
       "version_minor": 0
      },
      "text/plain": [
       "Epoch 178/2000:   0%|          | 0/27 [00:00<?, ?batch/s]"
      ]
     },
     "metadata": {},
     "output_type": "display_data"
    },
    {
     "data": {
      "application/vnd.jupyter.widget-view+json": {
       "model_id": "602f6b4e9f544fc9a86d2767dc5b6dbf",
       "version_major": 2,
       "version_minor": 0
      },
      "text/plain": [
       "Epoch 179/2000:   0%|          | 0/27 [00:00<?, ?batch/s]"
      ]
     },
     "metadata": {},
     "output_type": "display_data"
    },
    {
     "data": {
      "application/vnd.jupyter.widget-view+json": {
       "model_id": "f2131d35b927467c8f5d3b0843c08ae8",
       "version_major": 2,
       "version_minor": 0
      },
      "text/plain": [
       "Epoch 180/2000:   0%|          | 0/27 [00:00<?, ?batch/s]"
      ]
     },
     "metadata": {},
     "output_type": "display_data"
    },
    {
     "data": {
      "application/vnd.jupyter.widget-view+json": {
       "model_id": "51a71bd7fd3d4be089f8b660c37ca8bf",
       "version_major": 2,
       "version_minor": 0
      },
      "text/plain": [
       "Epoch 181/2000:   0%|          | 0/27 [00:00<?, ?batch/s]"
      ]
     },
     "metadata": {},
     "output_type": "display_data"
    },
    {
     "data": {
      "application/vnd.jupyter.widget-view+json": {
       "model_id": "e35035039e4647ee8b9c2835000f6868",
       "version_major": 2,
       "version_minor": 0
      },
      "text/plain": [
       "Epoch 182/2000:   0%|          | 0/27 [00:00<?, ?batch/s]"
      ]
     },
     "metadata": {},
     "output_type": "display_data"
    },
    {
     "data": {
      "application/vnd.jupyter.widget-view+json": {
       "model_id": "3ed889ee3f434bb68ce8353f07a946fe",
       "version_major": 2,
       "version_minor": 0
      },
      "text/plain": [
       "Epoch 183/2000:   0%|          | 0/27 [00:00<?, ?batch/s]"
      ]
     },
     "metadata": {},
     "output_type": "display_data"
    },
    {
     "data": {
      "application/vnd.jupyter.widget-view+json": {
       "model_id": "31c570a383554f3785a69c814da0f667",
       "version_major": 2,
       "version_minor": 0
      },
      "text/plain": [
       "Epoch 184/2000:   0%|          | 0/27 [00:00<?, ?batch/s]"
      ]
     },
     "metadata": {},
     "output_type": "display_data"
    },
    {
     "data": {
      "application/vnd.jupyter.widget-view+json": {
       "model_id": "23bd90932e0d4ef99f787d9ba6ae1bd7",
       "version_major": 2,
       "version_minor": 0
      },
      "text/plain": [
       "Epoch 185/2000:   0%|          | 0/27 [00:00<?, ?batch/s]"
      ]
     },
     "metadata": {},
     "output_type": "display_data"
    },
    {
     "data": {
      "application/vnd.jupyter.widget-view+json": {
       "model_id": "e29eeae1d613403abcb5938c612316d5",
       "version_major": 2,
       "version_minor": 0
      },
      "text/plain": [
       "Epoch 186/2000:   0%|          | 0/27 [00:00<?, ?batch/s]"
      ]
     },
     "metadata": {},
     "output_type": "display_data"
    },
    {
     "data": {
      "application/vnd.jupyter.widget-view+json": {
       "model_id": "85a1356384d84ca098875346c13a174b",
       "version_major": 2,
       "version_minor": 0
      },
      "text/plain": [
       "Epoch 187/2000:   0%|          | 0/27 [00:00<?, ?batch/s]"
      ]
     },
     "metadata": {},
     "output_type": "display_data"
    },
    {
     "data": {
      "application/vnd.jupyter.widget-view+json": {
       "model_id": "835cca2ef1844938b99a5e20a1bfab38",
       "version_major": 2,
       "version_minor": 0
      },
      "text/plain": [
       "Epoch 188/2000:   0%|          | 0/27 [00:00<?, ?batch/s]"
      ]
     },
     "metadata": {},
     "output_type": "display_data"
    },
    {
     "data": {
      "application/vnd.jupyter.widget-view+json": {
       "model_id": "38b9a49bac674382ae7430e4115961cb",
       "version_major": 2,
       "version_minor": 0
      },
      "text/plain": [
       "Epoch 189/2000:   0%|          | 0/27 [00:00<?, ?batch/s]"
      ]
     },
     "metadata": {},
     "output_type": "display_data"
    },
    {
     "data": {
      "application/vnd.jupyter.widget-view+json": {
       "model_id": "03c5ac28cf3d42498475ae3446639edf",
       "version_major": 2,
       "version_minor": 0
      },
      "text/plain": [
       "Epoch 190/2000:   0%|          | 0/27 [00:00<?, ?batch/s]"
      ]
     },
     "metadata": {},
     "output_type": "display_data"
    },
    {
     "data": {
      "application/vnd.jupyter.widget-view+json": {
       "model_id": "f3bb97ef10f748018273451f0cb4180b",
       "version_major": 2,
       "version_minor": 0
      },
      "text/plain": [
       "Epoch 191/2000:   0%|          | 0/27 [00:00<?, ?batch/s]"
      ]
     },
     "metadata": {},
     "output_type": "display_data"
    },
    {
     "data": {
      "application/vnd.jupyter.widget-view+json": {
       "model_id": "e3a9eb7047cd416995ad35f155afacdb",
       "version_major": 2,
       "version_minor": 0
      },
      "text/plain": [
       "Epoch 192/2000:   0%|          | 0/27 [00:00<?, ?batch/s]"
      ]
     },
     "metadata": {},
     "output_type": "display_data"
    },
    {
     "data": {
      "application/vnd.jupyter.widget-view+json": {
       "model_id": "10fb96cc22ba4c03bfb29074c59e277c",
       "version_major": 2,
       "version_minor": 0
      },
      "text/plain": [
       "Epoch 193/2000:   0%|          | 0/27 [00:00<?, ?batch/s]"
      ]
     },
     "metadata": {},
     "output_type": "display_data"
    },
    {
     "data": {
      "application/vnd.jupyter.widget-view+json": {
       "model_id": "048efc5ac8d941ccad58ee8fb4e893c6",
       "version_major": 2,
       "version_minor": 0
      },
      "text/plain": [
       "Epoch 194/2000:   0%|          | 0/27 [00:00<?, ?batch/s]"
      ]
     },
     "metadata": {},
     "output_type": "display_data"
    },
    {
     "data": {
      "application/vnd.jupyter.widget-view+json": {
       "model_id": "ac3f3b6203734fa286c06a8130dcc827",
       "version_major": 2,
       "version_minor": 0
      },
      "text/plain": [
       "Epoch 195/2000:   0%|          | 0/27 [00:00<?, ?batch/s]"
      ]
     },
     "metadata": {},
     "output_type": "display_data"
    },
    {
     "data": {
      "application/vnd.jupyter.widget-view+json": {
       "model_id": "daf982ce6ee3445191abd040aab3dd90",
       "version_major": 2,
       "version_minor": 0
      },
      "text/plain": [
       "Epoch 196/2000:   0%|          | 0/27 [00:00<?, ?batch/s]"
      ]
     },
     "metadata": {},
     "output_type": "display_data"
    },
    {
     "data": {
      "application/vnd.jupyter.widget-view+json": {
       "model_id": "d026036b5b4d42e5a6dd3a46becd74b2",
       "version_major": 2,
       "version_minor": 0
      },
      "text/plain": [
       "Epoch 197/2000:   0%|          | 0/27 [00:00<?, ?batch/s]"
      ]
     },
     "metadata": {},
     "output_type": "display_data"
    },
    {
     "data": {
      "application/vnd.jupyter.widget-view+json": {
       "model_id": "9d375c9f89974a3885c5ef10651287ba",
       "version_major": 2,
       "version_minor": 0
      },
      "text/plain": [
       "Epoch 198/2000:   0%|          | 0/27 [00:00<?, ?batch/s]"
      ]
     },
     "metadata": {},
     "output_type": "display_data"
    },
    {
     "data": {
      "application/vnd.jupyter.widget-view+json": {
       "model_id": "21062afb83fd426bbc382d4677236e22",
       "version_major": 2,
       "version_minor": 0
      },
      "text/plain": [
       "Epoch 199/2000:   0%|          | 0/27 [00:00<?, ?batch/s]"
      ]
     },
     "metadata": {},
     "output_type": "display_data"
    },
    {
     "data": {
      "application/vnd.jupyter.widget-view+json": {
       "model_id": "7ddd07528bfb444e8b0f48d4e13f002a",
       "version_major": 2,
       "version_minor": 0
      },
      "text/plain": [
       "Epoch 200/2000:   0%|          | 0/27 [00:00<?, ?batch/s]"
      ]
     },
     "metadata": {},
     "output_type": "display_data"
    },
    {
     "data": {
      "application/vnd.jupyter.widget-view+json": {
       "model_id": "3f5e4dad8b904ab8a559b1c4d8b1cb59",
       "version_major": 2,
       "version_minor": 0
      },
      "text/plain": [
       "Epoch 201/2000:   0%|          | 0/27 [00:00<?, ?batch/s]"
      ]
     },
     "metadata": {},
     "output_type": "display_data"
    },
    {
     "data": {
      "application/vnd.jupyter.widget-view+json": {
       "model_id": "a421c4038901482391d0dae4d1dc630e",
       "version_major": 2,
       "version_minor": 0
      },
      "text/plain": [
       "Epoch 202/2000:   0%|          | 0/27 [00:00<?, ?batch/s]"
      ]
     },
     "metadata": {},
     "output_type": "display_data"
    },
    {
     "data": {
      "application/vnd.jupyter.widget-view+json": {
       "model_id": "fbc73eb4246b402c83bc1a671d95ed09",
       "version_major": 2,
       "version_minor": 0
      },
      "text/plain": [
       "Epoch 203/2000:   0%|          | 0/27 [00:00<?, ?batch/s]"
      ]
     },
     "metadata": {},
     "output_type": "display_data"
    },
    {
     "data": {
      "application/vnd.jupyter.widget-view+json": {
       "model_id": "384190aecde64378b597d90cbfa7bb20",
       "version_major": 2,
       "version_minor": 0
      },
      "text/plain": [
       "Epoch 204/2000:   0%|          | 0/27 [00:00<?, ?batch/s]"
      ]
     },
     "metadata": {},
     "output_type": "display_data"
    },
    {
     "data": {
      "application/vnd.jupyter.widget-view+json": {
       "model_id": "8a9c8fe8e682446899c8c920799ad846",
       "version_major": 2,
       "version_minor": 0
      },
      "text/plain": [
       "Epoch 205/2000:   0%|          | 0/27 [00:00<?, ?batch/s]"
      ]
     },
     "metadata": {},
     "output_type": "display_data"
    },
    {
     "data": {
      "application/vnd.jupyter.widget-view+json": {
       "model_id": "48e9ce8c5ea245f39d8fba7cffdec32c",
       "version_major": 2,
       "version_minor": 0
      },
      "text/plain": [
       "Epoch 206/2000:   0%|          | 0/27 [00:00<?, ?batch/s]"
      ]
     },
     "metadata": {},
     "output_type": "display_data"
    },
    {
     "data": {
      "application/vnd.jupyter.widget-view+json": {
       "model_id": "0a187bcd718e4e7ba000789a271fa78d",
       "version_major": 2,
       "version_minor": 0
      },
      "text/plain": [
       "Epoch 207/2000:   0%|          | 0/27 [00:00<?, ?batch/s]"
      ]
     },
     "metadata": {},
     "output_type": "display_data"
    },
    {
     "name": "stderr",
     "output_type": "stream",
     "text": [
      "IOPub message rate exceeded.\n",
      "The Jupyter server will temporarily stop sending output\n",
      "to the client in order to avoid crashing it.\n",
      "To change this limit, set the config variable\n",
      "`--ServerApp.iopub_msg_rate_limit`.\n",
      "\n",
      "Current values:\n",
      "ServerApp.iopub_msg_rate_limit=1000.0 (msgs/sec)\n",
      "ServerApp.rate_limit_window=3.0 (secs)\n",
      "\n"
     ]
    },
    {
     "data": {
      "application/vnd.jupyter.widget-view+json": {
       "model_id": "1f982f89219b4c8f8ac5d78f64b49f75",
       "version_major": 2,
       "version_minor": 0
      },
      "text/plain": [
       "Epoch 212/2000:   0%|          | 0/27 [00:00<?, ?batch/s]"
      ]
     },
     "metadata": {},
     "output_type": "display_data"
    },
    {
     "data": {
      "application/vnd.jupyter.widget-view+json": {
       "model_id": "253135ec4ee44575ba1f158ccf5814f8",
       "version_major": 2,
       "version_minor": 0
      },
      "text/plain": [
       "Epoch 213/2000:   0%|          | 0/27 [00:00<?, ?batch/s]"
      ]
     },
     "metadata": {},
     "output_type": "display_data"
    },
    {
     "data": {
      "application/vnd.jupyter.widget-view+json": {
       "model_id": "bbc72aa1f82240289fdfc8889f555dea",
       "version_major": 2,
       "version_minor": 0
      },
      "text/plain": [
       "Epoch 214/2000:   0%|          | 0/27 [00:00<?, ?batch/s]"
      ]
     },
     "metadata": {},
     "output_type": "display_data"
    },
    {
     "data": {
      "application/vnd.jupyter.widget-view+json": {
       "model_id": "a9473aa41967407c8932931a8a9f465c",
       "version_major": 2,
       "version_minor": 0
      },
      "text/plain": [
       "Epoch 215/2000:   0%|          | 0/27 [00:00<?, ?batch/s]"
      ]
     },
     "metadata": {},
     "output_type": "display_data"
    },
    {
     "data": {
      "application/vnd.jupyter.widget-view+json": {
       "model_id": "276d8f3966be45d18a12646544285ae9",
       "version_major": 2,
       "version_minor": 0
      },
      "text/plain": [
       "Epoch 216/2000:   0%|          | 0/27 [00:00<?, ?batch/s]"
      ]
     },
     "metadata": {},
     "output_type": "display_data"
    },
    {
     "data": {
      "application/vnd.jupyter.widget-view+json": {
       "model_id": "a49f622a3a494d1f8b622a7570a37f17",
       "version_major": 2,
       "version_minor": 0
      },
      "text/plain": [
       "Epoch 217/2000:   0%|          | 0/27 [00:00<?, ?batch/s]"
      ]
     },
     "metadata": {},
     "output_type": "display_data"
    },
    {
     "data": {
      "application/vnd.jupyter.widget-view+json": {
       "model_id": "b53f21f3e16d4a0bae9f07a3ebee1d33",
       "version_major": 2,
       "version_minor": 0
      },
      "text/plain": [
       "Epoch 218/2000:   0%|          | 0/27 [00:00<?, ?batch/s]"
      ]
     },
     "metadata": {},
     "output_type": "display_data"
    },
    {
     "data": {
      "application/vnd.jupyter.widget-view+json": {
       "model_id": "8a976468f4b6448aa0cac4100512c3d4",
       "version_major": 2,
       "version_minor": 0
      },
      "text/plain": [
       "Epoch 219/2000:   0%|          | 0/27 [00:00<?, ?batch/s]"
      ]
     },
     "metadata": {},
     "output_type": "display_data"
    },
    {
     "data": {
      "application/vnd.jupyter.widget-view+json": {
       "model_id": "961d8ab883424bdab114ec91e6a444cf",
       "version_major": 2,
       "version_minor": 0
      },
      "text/plain": [
       "Epoch 220/2000:   0%|          | 0/27 [00:00<?, ?batch/s]"
      ]
     },
     "metadata": {},
     "output_type": "display_data"
    },
    {
     "data": {
      "application/vnd.jupyter.widget-view+json": {
       "model_id": "c2692553075349c1b938f138c105f515",
       "version_major": 2,
       "version_minor": 0
      },
      "text/plain": [
       "Epoch 221/2000:   0%|          | 0/27 [00:00<?, ?batch/s]"
      ]
     },
     "metadata": {},
     "output_type": "display_data"
    },
    {
     "data": {
      "application/vnd.jupyter.widget-view+json": {
       "model_id": "247b4f0d23c943309df1a4007eed4d2e",
       "version_major": 2,
       "version_minor": 0
      },
      "text/plain": [
       "Epoch 222/2000:   0%|          | 0/27 [00:00<?, ?batch/s]"
      ]
     },
     "metadata": {},
     "output_type": "display_data"
    },
    {
     "data": {
      "application/vnd.jupyter.widget-view+json": {
       "model_id": "b9bcbb748e214b13855fef6115d75947",
       "version_major": 2,
       "version_minor": 0
      },
      "text/plain": [
       "Epoch 223/2000:   0%|          | 0/27 [00:00<?, ?batch/s]"
      ]
     },
     "metadata": {},
     "output_type": "display_data"
    },
    {
     "data": {
      "application/vnd.jupyter.widget-view+json": {
       "model_id": "fb8c5b4915d4477db77066bb9d5ddb29",
       "version_major": 2,
       "version_minor": 0
      },
      "text/plain": [
       "Epoch 224/2000:   0%|          | 0/27 [00:00<?, ?batch/s]"
      ]
     },
     "metadata": {},
     "output_type": "display_data"
    },
    {
     "data": {
      "application/vnd.jupyter.widget-view+json": {
       "model_id": "ba36359205044745a3d390ecfab4ebff",
       "version_major": 2,
       "version_minor": 0
      },
      "text/plain": [
       "Epoch 225/2000:   0%|          | 0/27 [00:00<?, ?batch/s]"
      ]
     },
     "metadata": {},
     "output_type": "display_data"
    },
    {
     "data": {
      "application/vnd.jupyter.widget-view+json": {
       "model_id": "77c28fbc8a824dc7b2596be04291b3a8",
       "version_major": 2,
       "version_minor": 0
      },
      "text/plain": [
       "Epoch 226/2000:   0%|          | 0/27 [00:00<?, ?batch/s]"
      ]
     },
     "metadata": {},
     "output_type": "display_data"
    },
    {
     "data": {
      "application/vnd.jupyter.widget-view+json": {
       "model_id": "1bd370f48e4c4ccdac099dab8dcbd77d",
       "version_major": 2,
       "version_minor": 0
      },
      "text/plain": [
       "Epoch 227/2000:   0%|          | 0/27 [00:00<?, ?batch/s]"
      ]
     },
     "metadata": {},
     "output_type": "display_data"
    },
    {
     "data": {
      "application/vnd.jupyter.widget-view+json": {
       "model_id": "fb29fa92b9db42f1a7570ec3aa73749d",
       "version_major": 2,
       "version_minor": 0
      },
      "text/plain": [
       "Epoch 228/2000:   0%|          | 0/27 [00:00<?, ?batch/s]"
      ]
     },
     "metadata": {},
     "output_type": "display_data"
    },
    {
     "data": {
      "application/vnd.jupyter.widget-view+json": {
       "model_id": "6e6648d7f6984ba59eea51c199566972",
       "version_major": 2,
       "version_minor": 0
      },
      "text/plain": [
       "Epoch 229/2000:   0%|          | 0/27 [00:00<?, ?batch/s]"
      ]
     },
     "metadata": {},
     "output_type": "display_data"
    },
    {
     "data": {
      "application/vnd.jupyter.widget-view+json": {
       "model_id": "6fac4bc3f9d14a1c84b989fed123d04d",
       "version_major": 2,
       "version_minor": 0
      },
      "text/plain": [
       "Epoch 230/2000:   0%|          | 0/27 [00:00<?, ?batch/s]"
      ]
     },
     "metadata": {},
     "output_type": "display_data"
    },
    {
     "data": {
      "application/vnd.jupyter.widget-view+json": {
       "model_id": "5d6966f1bb4741e88e8e961620bfd3e1",
       "version_major": 2,
       "version_minor": 0
      },
      "text/plain": [
       "Epoch 231/2000:   0%|          | 0/27 [00:00<?, ?batch/s]"
      ]
     },
     "metadata": {},
     "output_type": "display_data"
    },
    {
     "data": {
      "application/vnd.jupyter.widget-view+json": {
       "model_id": "d923f218d22b43bfa0ad0a9b95bab0c4",
       "version_major": 2,
       "version_minor": 0
      },
      "text/plain": [
       "Epoch 232/2000:   0%|          | 0/27 [00:00<?, ?batch/s]"
      ]
     },
     "metadata": {},
     "output_type": "display_data"
    },
    {
     "data": {
      "application/vnd.jupyter.widget-view+json": {
       "model_id": "b92c55374cf4441287fde8b48ddc7443",
       "version_major": 2,
       "version_minor": 0
      },
      "text/plain": [
       "Epoch 233/2000:   0%|          | 0/27 [00:00<?, ?batch/s]"
      ]
     },
     "metadata": {},
     "output_type": "display_data"
    },
    {
     "data": {
      "application/vnd.jupyter.widget-view+json": {
       "model_id": "8af4cf43902a4557ad414fb9d15a954c",
       "version_major": 2,
       "version_minor": 0
      },
      "text/plain": [
       "Epoch 234/2000:   0%|          | 0/27 [00:00<?, ?batch/s]"
      ]
     },
     "metadata": {},
     "output_type": "display_data"
    },
    {
     "data": {
      "application/vnd.jupyter.widget-view+json": {
       "model_id": "edb61bafcca54beab95a6fa9e4c17cd8",
       "version_major": 2,
       "version_minor": 0
      },
      "text/plain": [
       "Epoch 235/2000:   0%|          | 0/27 [00:00<?, ?batch/s]"
      ]
     },
     "metadata": {},
     "output_type": "display_data"
    },
    {
     "data": {
      "application/vnd.jupyter.widget-view+json": {
       "model_id": "024d6633bfb84a0a9855417713ae2ab5",
       "version_major": 2,
       "version_minor": 0
      },
      "text/plain": [
       "Epoch 236/2000:   0%|          | 0/27 [00:00<?, ?batch/s]"
      ]
     },
     "metadata": {},
     "output_type": "display_data"
    },
    {
     "data": {
      "application/vnd.jupyter.widget-view+json": {
       "model_id": "66f212da697341aaa98a7236b3fb81f3",
       "version_major": 2,
       "version_minor": 0
      },
      "text/plain": [
       "Epoch 237/2000:   0%|          | 0/27 [00:00<?, ?batch/s]"
      ]
     },
     "metadata": {},
     "output_type": "display_data"
    },
    {
     "data": {
      "application/vnd.jupyter.widget-view+json": {
       "model_id": "c0f8b2bf85f343a996cd070a04fbbfa7",
       "version_major": 2,
       "version_minor": 0
      },
      "text/plain": [
       "Epoch 238/2000:   0%|          | 0/27 [00:00<?, ?batch/s]"
      ]
     },
     "metadata": {},
     "output_type": "display_data"
    },
    {
     "data": {
      "application/vnd.jupyter.widget-view+json": {
       "model_id": "dc5ead51ef4641178b7a502310b159b8",
       "version_major": 2,
       "version_minor": 0
      },
      "text/plain": [
       "Epoch 239/2000:   0%|          | 0/27 [00:00<?, ?batch/s]"
      ]
     },
     "metadata": {},
     "output_type": "display_data"
    },
    {
     "data": {
      "application/vnd.jupyter.widget-view+json": {
       "model_id": "8c11406e6ebd4938956cf33bf803ed97",
       "version_major": 2,
       "version_minor": 0
      },
      "text/plain": [
       "Epoch 240/2000:   0%|          | 0/27 [00:00<?, ?batch/s]"
      ]
     },
     "metadata": {},
     "output_type": "display_data"
    },
    {
     "data": {
      "application/vnd.jupyter.widget-view+json": {
       "model_id": "242a23840e5f4543be4781c0f7d3ce22",
       "version_major": 2,
       "version_minor": 0
      },
      "text/plain": [
       "Epoch 241/2000:   0%|          | 0/27 [00:00<?, ?batch/s]"
      ]
     },
     "metadata": {},
     "output_type": "display_data"
    },
    {
     "data": {
      "application/vnd.jupyter.widget-view+json": {
       "model_id": "b31c2dd254644e25819757f123fab7bb",
       "version_major": 2,
       "version_minor": 0
      },
      "text/plain": [
       "Epoch 242/2000:   0%|          | 0/27 [00:00<?, ?batch/s]"
      ]
     },
     "metadata": {},
     "output_type": "display_data"
    },
    {
     "data": {
      "application/vnd.jupyter.widget-view+json": {
       "model_id": "ac24d785657b4086892252938419a9d5",
       "version_major": 2,
       "version_minor": 0
      },
      "text/plain": [
       "Epoch 243/2000:   0%|          | 0/27 [00:00<?, ?batch/s]"
      ]
     },
     "metadata": {},
     "output_type": "display_data"
    },
    {
     "data": {
      "application/vnd.jupyter.widget-view+json": {
       "model_id": "b9e46176d10d4a25afab369b41a47959",
       "version_major": 2,
       "version_minor": 0
      },
      "text/plain": [
       "Epoch 244/2000:   0%|          | 0/27 [00:00<?, ?batch/s]"
      ]
     },
     "metadata": {},
     "output_type": "display_data"
    },
    {
     "data": {
      "application/vnd.jupyter.widget-view+json": {
       "model_id": "924ac070e1ca440380c76c52d1bc85a0",
       "version_major": 2,
       "version_minor": 0
      },
      "text/plain": [
       "Epoch 245/2000:   0%|          | 0/27 [00:00<?, ?batch/s]"
      ]
     },
     "metadata": {},
     "output_type": "display_data"
    },
    {
     "data": {
      "application/vnd.jupyter.widget-view+json": {
       "model_id": "bef895f9d5104c0a98a3a459de7040f9",
       "version_major": 2,
       "version_minor": 0
      },
      "text/plain": [
       "Epoch 246/2000:   0%|          | 0/27 [00:00<?, ?batch/s]"
      ]
     },
     "metadata": {},
     "output_type": "display_data"
    },
    {
     "name": "stderr",
     "output_type": "stream",
     "text": [
      "IOPub message rate exceeded.\n",
      "The Jupyter server will temporarily stop sending output\n",
      "to the client in order to avoid crashing it.\n",
      "To change this limit, set the config variable\n",
      "`--ServerApp.iopub_msg_rate_limit`.\n",
      "\n",
      "Current values:\n",
      "ServerApp.iopub_msg_rate_limit=1000.0 (msgs/sec)\n",
      "ServerApp.rate_limit_window=3.0 (secs)\n",
      "\n"
     ]
    },
    {
     "data": {
      "application/vnd.jupyter.widget-view+json": {
       "model_id": "7bb01301dd8b486d8e555bd8cbbd55df",
       "version_major": 2,
       "version_minor": 0
      },
      "text/plain": [
       "Epoch 254/2000:   0%|          | 0/27 [00:00<?, ?batch/s]"
      ]
     },
     "metadata": {},
     "output_type": "display_data"
    },
    {
     "data": {
      "application/vnd.jupyter.widget-view+json": {
       "model_id": "9ea75ef07cb749caafe672816e6518a7",
       "version_major": 2,
       "version_minor": 0
      },
      "text/plain": [
       "Epoch 255/2000:   0%|          | 0/27 [00:00<?, ?batch/s]"
      ]
     },
     "metadata": {},
     "output_type": "display_data"
    },
    {
     "data": {
      "application/vnd.jupyter.widget-view+json": {
       "model_id": "6979c2b3ed0e47d880b471b73c2e6f50",
       "version_major": 2,
       "version_minor": 0
      },
      "text/plain": [
       "Epoch 256/2000:   0%|          | 0/27 [00:00<?, ?batch/s]"
      ]
     },
     "metadata": {},
     "output_type": "display_data"
    },
    {
     "data": {
      "application/vnd.jupyter.widget-view+json": {
       "model_id": "769efa7f29c84804b4e4e61c60dc3532",
       "version_major": 2,
       "version_minor": 0
      },
      "text/plain": [
       "Epoch 257/2000:   0%|          | 0/27 [00:00<?, ?batch/s]"
      ]
     },
     "metadata": {},
     "output_type": "display_data"
    },
    {
     "data": {
      "application/vnd.jupyter.widget-view+json": {
       "model_id": "49377e8e81ab4f0ba8a1eeeda4075930",
       "version_major": 2,
       "version_minor": 0
      },
      "text/plain": [
       "Epoch 258/2000:   0%|          | 0/27 [00:00<?, ?batch/s]"
      ]
     },
     "metadata": {},
     "output_type": "display_data"
    },
    {
     "data": {
      "application/vnd.jupyter.widget-view+json": {
       "model_id": "fbf342b740254b73a8dabc60199fdbe0",
       "version_major": 2,
       "version_minor": 0
      },
      "text/plain": [
       "Epoch 259/2000:   0%|          | 0/27 [00:00<?, ?batch/s]"
      ]
     },
     "metadata": {},
     "output_type": "display_data"
    },
    {
     "data": {
      "application/vnd.jupyter.widget-view+json": {
       "model_id": "16b285dbfe8745c584043baf0274195d",
       "version_major": 2,
       "version_minor": 0
      },
      "text/plain": [
       "Epoch 260/2000:   0%|          | 0/27 [00:00<?, ?batch/s]"
      ]
     },
     "metadata": {},
     "output_type": "display_data"
    },
    {
     "data": {
      "application/vnd.jupyter.widget-view+json": {
       "model_id": "dd7f42053d55400a997f12007720c50f",
       "version_major": 2,
       "version_minor": 0
      },
      "text/plain": [
       "Epoch 261/2000:   0%|          | 0/27 [00:00<?, ?batch/s]"
      ]
     },
     "metadata": {},
     "output_type": "display_data"
    },
    {
     "data": {
      "application/vnd.jupyter.widget-view+json": {
       "model_id": "1de26ff3f038458d8cd5ed304d06bc1d",
       "version_major": 2,
       "version_minor": 0
      },
      "text/plain": [
       "Epoch 262/2000:   0%|          | 0/27 [00:00<?, ?batch/s]"
      ]
     },
     "metadata": {},
     "output_type": "display_data"
    },
    {
     "data": {
      "application/vnd.jupyter.widget-view+json": {
       "model_id": "48acecff8b214e738a3c593b9ae7f853",
       "version_major": 2,
       "version_minor": 0
      },
      "text/plain": [
       "Epoch 263/2000:   0%|          | 0/27 [00:00<?, ?batch/s]"
      ]
     },
     "metadata": {},
     "output_type": "display_data"
    },
    {
     "data": {
      "application/vnd.jupyter.widget-view+json": {
       "model_id": "90113570fab147bf92d760ee400289db",
       "version_major": 2,
       "version_minor": 0
      },
      "text/plain": [
       "Epoch 264/2000:   0%|          | 0/27 [00:00<?, ?batch/s]"
      ]
     },
     "metadata": {},
     "output_type": "display_data"
    },
    {
     "data": {
      "application/vnd.jupyter.widget-view+json": {
       "model_id": "8fcc7637c4eb4a33afb28f17a82bc397",
       "version_major": 2,
       "version_minor": 0
      },
      "text/plain": [
       "Epoch 265/2000:   0%|          | 0/27 [00:00<?, ?batch/s]"
      ]
     },
     "metadata": {},
     "output_type": "display_data"
    },
    {
     "data": {
      "application/vnd.jupyter.widget-view+json": {
       "model_id": "f0208167a3ba4263abfc727022e8d5d7",
       "version_major": 2,
       "version_minor": 0
      },
      "text/plain": [
       "Epoch 266/2000:   0%|          | 0/27 [00:00<?, ?batch/s]"
      ]
     },
     "metadata": {},
     "output_type": "display_data"
    },
    {
     "data": {
      "application/vnd.jupyter.widget-view+json": {
       "model_id": "dc537db134b841ddb733b421850860f4",
       "version_major": 2,
       "version_minor": 0
      },
      "text/plain": [
       "Epoch 267/2000:   0%|          | 0/27 [00:00<?, ?batch/s]"
      ]
     },
     "metadata": {},
     "output_type": "display_data"
    },
    {
     "data": {
      "application/vnd.jupyter.widget-view+json": {
       "model_id": "ce65619375b7456facab2384212f9233",
       "version_major": 2,
       "version_minor": 0
      },
      "text/plain": [
       "Epoch 268/2000:   0%|          | 0/27 [00:00<?, ?batch/s]"
      ]
     },
     "metadata": {},
     "output_type": "display_data"
    },
    {
     "data": {
      "application/vnd.jupyter.widget-view+json": {
       "model_id": "6fccc6bb9b5d498ebda0d46c4aa8729e",
       "version_major": 2,
       "version_minor": 0
      },
      "text/plain": [
       "Epoch 269/2000:   0%|          | 0/27 [00:00<?, ?batch/s]"
      ]
     },
     "metadata": {},
     "output_type": "display_data"
    },
    {
     "data": {
      "application/vnd.jupyter.widget-view+json": {
       "model_id": "d49d3b0f1aa847ec969408266faba9bd",
       "version_major": 2,
       "version_minor": 0
      },
      "text/plain": [
       "Epoch 270/2000:   0%|          | 0/27 [00:00<?, ?batch/s]"
      ]
     },
     "metadata": {},
     "output_type": "display_data"
    },
    {
     "data": {
      "application/vnd.jupyter.widget-view+json": {
       "model_id": "849d1bbcb3dc4bf9936cd5d7c109e564",
       "version_major": 2,
       "version_minor": 0
      },
      "text/plain": [
       "Epoch 271/2000:   0%|          | 0/27 [00:00<?, ?batch/s]"
      ]
     },
     "metadata": {},
     "output_type": "display_data"
    },
    {
     "data": {
      "application/vnd.jupyter.widget-view+json": {
       "model_id": "4c8ad4d8cb804c9fae054fbda4c65cd4",
       "version_major": 2,
       "version_minor": 0
      },
      "text/plain": [
       "Epoch 272/2000:   0%|          | 0/27 [00:00<?, ?batch/s]"
      ]
     },
     "metadata": {},
     "output_type": "display_data"
    },
    {
     "data": {
      "application/vnd.jupyter.widget-view+json": {
       "model_id": "26c521736c3e4ef08aa3a1e0cca76c38",
       "version_major": 2,
       "version_minor": 0
      },
      "text/plain": [
       "Epoch 273/2000:   0%|          | 0/27 [00:00<?, ?batch/s]"
      ]
     },
     "metadata": {},
     "output_type": "display_data"
    },
    {
     "data": {
      "application/vnd.jupyter.widget-view+json": {
       "model_id": "d9be6b8c2c684cca90bdf4d428e07b2c",
       "version_major": 2,
       "version_minor": 0
      },
      "text/plain": [
       "Epoch 274/2000:   0%|          | 0/27 [00:00<?, ?batch/s]"
      ]
     },
     "metadata": {},
     "output_type": "display_data"
    },
    {
     "data": {
      "application/vnd.jupyter.widget-view+json": {
       "model_id": "9325aae19d564805a0b2bfcfb9e244f3",
       "version_major": 2,
       "version_minor": 0
      },
      "text/plain": [
       "Epoch 275/2000:   0%|          | 0/27 [00:00<?, ?batch/s]"
      ]
     },
     "metadata": {},
     "output_type": "display_data"
    },
    {
     "data": {
      "application/vnd.jupyter.widget-view+json": {
       "model_id": "56cd274f166f4d5489d0737b5d4a1dab",
       "version_major": 2,
       "version_minor": 0
      },
      "text/plain": [
       "Epoch 276/2000:   0%|          | 0/27 [00:00<?, ?batch/s]"
      ]
     },
     "metadata": {},
     "output_type": "display_data"
    },
    {
     "data": {
      "application/vnd.jupyter.widget-view+json": {
       "model_id": "def3395870574438a7512c6a956ade0d",
       "version_major": 2,
       "version_minor": 0
      },
      "text/plain": [
       "Epoch 277/2000:   0%|          | 0/27 [00:00<?, ?batch/s]"
      ]
     },
     "metadata": {},
     "output_type": "display_data"
    },
    {
     "data": {
      "application/vnd.jupyter.widget-view+json": {
       "model_id": "c54ea0bad73f48938efb355030424087",
       "version_major": 2,
       "version_minor": 0
      },
      "text/plain": [
       "Epoch 278/2000:   0%|          | 0/27 [00:00<?, ?batch/s]"
      ]
     },
     "metadata": {},
     "output_type": "display_data"
    },
    {
     "data": {
      "application/vnd.jupyter.widget-view+json": {
       "model_id": "d80ac6ce278c4453afa81db754a6eb45",
       "version_major": 2,
       "version_minor": 0
      },
      "text/plain": [
       "Epoch 279/2000:   0%|          | 0/27 [00:00<?, ?batch/s]"
      ]
     },
     "metadata": {},
     "output_type": "display_data"
    },
    {
     "data": {
      "application/vnd.jupyter.widget-view+json": {
       "model_id": "22eccea645ef4882b4e980462d9cc4c5",
       "version_major": 2,
       "version_minor": 0
      },
      "text/plain": [
       "Epoch 280/2000:   0%|          | 0/27 [00:00<?, ?batch/s]"
      ]
     },
     "metadata": {},
     "output_type": "display_data"
    },
    {
     "data": {
      "application/vnd.jupyter.widget-view+json": {
       "model_id": "38021660ddb741cbbe5d32cdd3225ef6",
       "version_major": 2,
       "version_minor": 0
      },
      "text/plain": [
       "Epoch 281/2000:   0%|          | 0/27 [00:00<?, ?batch/s]"
      ]
     },
     "metadata": {},
     "output_type": "display_data"
    },
    {
     "data": {
      "application/vnd.jupyter.widget-view+json": {
       "model_id": "030782af583a40dfaa1d818d399f70d9",
       "version_major": 2,
       "version_minor": 0
      },
      "text/plain": [
       "Epoch 282/2000:   0%|          | 0/27 [00:00<?, ?batch/s]"
      ]
     },
     "metadata": {},
     "output_type": "display_data"
    },
    {
     "data": {
      "application/vnd.jupyter.widget-view+json": {
       "model_id": "9749f0f8ebe24ff98348bc95cb74a75d",
       "version_major": 2,
       "version_minor": 0
      },
      "text/plain": [
       "Epoch 283/2000:   0%|          | 0/27 [00:00<?, ?batch/s]"
      ]
     },
     "metadata": {},
     "output_type": "display_data"
    },
    {
     "data": {
      "application/vnd.jupyter.widget-view+json": {
       "model_id": "37dee052664e4088b622693cd37e2b4a",
       "version_major": 2,
       "version_minor": 0
      },
      "text/plain": [
       "Epoch 284/2000:   0%|          | 0/27 [00:00<?, ?batch/s]"
      ]
     },
     "metadata": {},
     "output_type": "display_data"
    },
    {
     "data": {
      "application/vnd.jupyter.widget-view+json": {
       "model_id": "d76b9f72f5f348bfb12302fe7fada3ae",
       "version_major": 2,
       "version_minor": 0
      },
      "text/plain": [
       "Epoch 285/2000:   0%|          | 0/27 [00:00<?, ?batch/s]"
      ]
     },
     "metadata": {},
     "output_type": "display_data"
    },
    {
     "data": {
      "application/vnd.jupyter.widget-view+json": {
       "model_id": "38c7ef8b9f67492db7c17f431cd73613",
       "version_major": 2,
       "version_minor": 0
      },
      "text/plain": [
       "Epoch 286/2000:   0%|          | 0/27 [00:00<?, ?batch/s]"
      ]
     },
     "metadata": {},
     "output_type": "display_data"
    },
    {
     "data": {
      "application/vnd.jupyter.widget-view+json": {
       "model_id": "d5ef08c5e5b945dab53ca1ab52be94d5",
       "version_major": 2,
       "version_minor": 0
      },
      "text/plain": [
       "Epoch 287/2000:   0%|          | 0/27 [00:00<?, ?batch/s]"
      ]
     },
     "metadata": {},
     "output_type": "display_data"
    },
    {
     "data": {
      "application/vnd.jupyter.widget-view+json": {
       "model_id": "3a418a8eaf4e496e9915aca26b496477",
       "version_major": 2,
       "version_minor": 0
      },
      "text/plain": [
       "Epoch 288/2000:   0%|          | 0/27 [00:00<?, ?batch/s]"
      ]
     },
     "metadata": {},
     "output_type": "display_data"
    },
    {
     "data": {
      "application/vnd.jupyter.widget-view+json": {
       "model_id": "a4623e0fbe394a35b9e49adfa675afe6",
       "version_major": 2,
       "version_minor": 0
      },
      "text/plain": [
       "Epoch 289/2000:   0%|          | 0/27 [00:00<?, ?batch/s]"
      ]
     },
     "metadata": {},
     "output_type": "display_data"
    },
    {
     "data": {
      "application/vnd.jupyter.widget-view+json": {
       "model_id": "b613f3a43a2143dcb370f943554f7f1d",
       "version_major": 2,
       "version_minor": 0
      },
      "text/plain": [
       "Epoch 290/2000:   0%|          | 0/27 [00:00<?, ?batch/s]"
      ]
     },
     "metadata": {},
     "output_type": "display_data"
    },
    {
     "data": {
      "application/vnd.jupyter.widget-view+json": {
       "model_id": "63e4b3cfe44a463b9d447627ac7d2a8b",
       "version_major": 2,
       "version_minor": 0
      },
      "text/plain": [
       "Epoch 291/2000:   0%|          | 0/27 [00:00<?, ?batch/s]"
      ]
     },
     "metadata": {},
     "output_type": "display_data"
    },
    {
     "data": {
      "application/vnd.jupyter.widget-view+json": {
       "model_id": "b09962faea434fbba465bd193ee27023",
       "version_major": 2,
       "version_minor": 0
      },
      "text/plain": [
       "Epoch 292/2000:   0%|          | 0/27 [00:00<?, ?batch/s]"
      ]
     },
     "metadata": {},
     "output_type": "display_data"
    },
    {
     "data": {
      "application/vnd.jupyter.widget-view+json": {
       "model_id": "3010704bc01842d09bd186f99fd0024a",
       "version_major": 2,
       "version_minor": 0
      },
      "text/plain": [
       "Epoch 293/2000:   0%|          | 0/27 [00:00<?, ?batch/s]"
      ]
     },
     "metadata": {},
     "output_type": "display_data"
    },
    {
     "data": {
      "application/vnd.jupyter.widget-view+json": {
       "model_id": "b39c94f7ffb74f859d2ec6fdf6c1798b",
       "version_major": 2,
       "version_minor": 0
      },
      "text/plain": [
       "Epoch 294/2000:   0%|          | 0/27 [00:00<?, ?batch/s]"
      ]
     },
     "metadata": {},
     "output_type": "display_data"
    },
    {
     "data": {
      "application/vnd.jupyter.widget-view+json": {
       "model_id": "0d85394ae8bd4676a45ee71e476c7d6c",
       "version_major": 2,
       "version_minor": 0
      },
      "text/plain": [
       "Epoch 295/2000:   0%|          | 0/27 [00:00<?, ?batch/s]"
      ]
     },
     "metadata": {},
     "output_type": "display_data"
    },
    {
     "data": {
      "application/vnd.jupyter.widget-view+json": {
       "model_id": "0462fcd503c240bb9d5e81b040a89c13",
       "version_major": 2,
       "version_minor": 0
      },
      "text/plain": [
       "Epoch 296/2000:   0%|          | 0/27 [00:00<?, ?batch/s]"
      ]
     },
     "metadata": {},
     "output_type": "display_data"
    },
    {
     "data": {
      "application/vnd.jupyter.widget-view+json": {
       "model_id": "520abd02d9894ae194fb1679f6b14fe3",
       "version_major": 2,
       "version_minor": 0
      },
      "text/plain": [
       "Epoch 297/2000:   0%|          | 0/27 [00:00<?, ?batch/s]"
      ]
     },
     "metadata": {},
     "output_type": "display_data"
    },
    {
     "data": {
      "application/vnd.jupyter.widget-view+json": {
       "model_id": "c116a2d01f614a68ac86ecac9b138fb5",
       "version_major": 2,
       "version_minor": 0
      },
      "text/plain": [
       "Epoch 298/2000:   0%|          | 0/27 [00:00<?, ?batch/s]"
      ]
     },
     "metadata": {},
     "output_type": "display_data"
    },
    {
     "data": {
      "application/vnd.jupyter.widget-view+json": {
       "model_id": "baa5f43fd9a54e6bbf9041646255f557",
       "version_major": 2,
       "version_minor": 0
      },
      "text/plain": [
       "Epoch 299/2000:   0%|          | 0/27 [00:00<?, ?batch/s]"
      ]
     },
     "metadata": {},
     "output_type": "display_data"
    },
    {
     "data": {
      "application/vnd.jupyter.widget-view+json": {
       "model_id": "0b7f5564419147bb913d2c659820dd78",
       "version_major": 2,
       "version_minor": 0
      },
      "text/plain": [
       "Epoch 300/2000:   0%|          | 0/27 [00:00<?, ?batch/s]"
      ]
     },
     "metadata": {},
     "output_type": "display_data"
    },
    {
     "data": {
      "application/vnd.jupyter.widget-view+json": {
       "model_id": "2ff2f38aec394f09aedbf465545a89d0",
       "version_major": 2,
       "version_minor": 0
      },
      "text/plain": [
       "Epoch 301/2000:   0%|          | 0/27 [00:00<?, ?batch/s]"
      ]
     },
     "metadata": {},
     "output_type": "display_data"
    },
    {
     "data": {
      "application/vnd.jupyter.widget-view+json": {
       "model_id": "94c8c2e2c86d4cb8a01ad6f607d7e56a",
       "version_major": 2,
       "version_minor": 0
      },
      "text/plain": [
       "Epoch 302/2000:   0%|          | 0/27 [00:00<?, ?batch/s]"
      ]
     },
     "metadata": {},
     "output_type": "display_data"
    },
    {
     "data": {
      "application/vnd.jupyter.widget-view+json": {
       "model_id": "f2e2e0a178e3469fb7b1aaf4361cb5f4",
       "version_major": 2,
       "version_minor": 0
      },
      "text/plain": [
       "Epoch 303/2000:   0%|          | 0/27 [00:00<?, ?batch/s]"
      ]
     },
     "metadata": {},
     "output_type": "display_data"
    },
    {
     "data": {
      "application/vnd.jupyter.widget-view+json": {
       "model_id": "d3e59c4746c0495bb652b40d392f72d4",
       "version_major": 2,
       "version_minor": 0
      },
      "text/plain": [
       "Epoch 304/2000:   0%|          | 0/27 [00:00<?, ?batch/s]"
      ]
     },
     "metadata": {},
     "output_type": "display_data"
    },
    {
     "data": {
      "application/vnd.jupyter.widget-view+json": {
       "model_id": "d24cdeace1d9458cafb508a4f4c3b8f1",
       "version_major": 2,
       "version_minor": 0
      },
      "text/plain": [
       "Epoch 305/2000:   0%|          | 0/27 [00:00<?, ?batch/s]"
      ]
     },
     "metadata": {},
     "output_type": "display_data"
    },
    {
     "data": {
      "application/vnd.jupyter.widget-view+json": {
       "model_id": "1edf286992d3423599995b67b0048cc5",
       "version_major": 2,
       "version_minor": 0
      },
      "text/plain": [
       "Epoch 306/2000:   0%|          | 0/27 [00:00<?, ?batch/s]"
      ]
     },
     "metadata": {},
     "output_type": "display_data"
    },
    {
     "data": {
      "application/vnd.jupyter.widget-view+json": {
       "model_id": "40fdedee6101458e88640c259d773b1f",
       "version_major": 2,
       "version_minor": 0
      },
      "text/plain": [
       "Epoch 307/2000:   0%|          | 0/27 [00:00<?, ?batch/s]"
      ]
     },
     "metadata": {},
     "output_type": "display_data"
    },
    {
     "data": {
      "application/vnd.jupyter.widget-view+json": {
       "model_id": "18987ec4b74442cb82d074b494a5e5c3",
       "version_major": 2,
       "version_minor": 0
      },
      "text/plain": [
       "Epoch 308/2000:   0%|          | 0/27 [00:00<?, ?batch/s]"
      ]
     },
     "metadata": {},
     "output_type": "display_data"
    },
    {
     "data": {
      "application/vnd.jupyter.widget-view+json": {
       "model_id": "95f606fe7f9342e4a9eb95f472c76de1",
       "version_major": 2,
       "version_minor": 0
      },
      "text/plain": [
       "Epoch 309/2000:   0%|          | 0/27 [00:00<?, ?batch/s]"
      ]
     },
     "metadata": {},
     "output_type": "display_data"
    },
    {
     "data": {
      "application/vnd.jupyter.widget-view+json": {
       "model_id": "8fa227148a774eafaa9d580fc2495fdb",
       "version_major": 2,
       "version_minor": 0
      },
      "text/plain": [
       "Epoch 310/2000:   0%|          | 0/27 [00:00<?, ?batch/s]"
      ]
     },
     "metadata": {},
     "output_type": "display_data"
    },
    {
     "data": {
      "application/vnd.jupyter.widget-view+json": {
       "model_id": "b602d79d830a4acab39e10e75a1ac131",
       "version_major": 2,
       "version_minor": 0
      },
      "text/plain": [
       "Epoch 311/2000:   0%|          | 0/27 [00:00<?, ?batch/s]"
      ]
     },
     "metadata": {},
     "output_type": "display_data"
    },
    {
     "data": {
      "application/vnd.jupyter.widget-view+json": {
       "model_id": "5cc5af67f0404fd9a07b0f1923e03ff1",
       "version_major": 2,
       "version_minor": 0
      },
      "text/plain": [
       "Epoch 312/2000:   0%|          | 0/27 [00:00<?, ?batch/s]"
      ]
     },
     "metadata": {},
     "output_type": "display_data"
    },
    {
     "data": {
      "application/vnd.jupyter.widget-view+json": {
       "model_id": "6453318e3a444b09a6b74d4eda1d712c",
       "version_major": 2,
       "version_minor": 0
      },
      "text/plain": [
       "Epoch 313/2000:   0%|          | 0/27 [00:00<?, ?batch/s]"
      ]
     },
     "metadata": {},
     "output_type": "display_data"
    },
    {
     "data": {
      "application/vnd.jupyter.widget-view+json": {
       "model_id": "b2cfd642bfae4fc9898c852993d5e49a",
       "version_major": 2,
       "version_minor": 0
      },
      "text/plain": [
       "Epoch 314/2000:   0%|          | 0/27 [00:00<?, ?batch/s]"
      ]
     },
     "metadata": {},
     "output_type": "display_data"
    },
    {
     "data": {
      "application/vnd.jupyter.widget-view+json": {
       "model_id": "4ea1655cfa284cbc9f3293cf674c7654",
       "version_major": 2,
       "version_minor": 0
      },
      "text/plain": [
       "Epoch 315/2000:   0%|          | 0/27 [00:00<?, ?batch/s]"
      ]
     },
     "metadata": {},
     "output_type": "display_data"
    },
    {
     "data": {
      "application/vnd.jupyter.widget-view+json": {
       "model_id": "25a4fd6de4f04b869a6410c643e23a93",
       "version_major": 2,
       "version_minor": 0
      },
      "text/plain": [
       "Epoch 316/2000:   0%|          | 0/27 [00:00<?, ?batch/s]"
      ]
     },
     "metadata": {},
     "output_type": "display_data"
    },
    {
     "data": {
      "application/vnd.jupyter.widget-view+json": {
       "model_id": "0c2c6a04d47b4a439230b9343f58de36",
       "version_major": 2,
       "version_minor": 0
      },
      "text/plain": [
       "Epoch 317/2000:   0%|          | 0/27 [00:00<?, ?batch/s]"
      ]
     },
     "metadata": {},
     "output_type": "display_data"
    },
    {
     "data": {
      "application/vnd.jupyter.widget-view+json": {
       "model_id": "ed3c71c0a1454024a91a12082c55d62a",
       "version_major": 2,
       "version_minor": 0
      },
      "text/plain": [
       "Epoch 318/2000:   0%|          | 0/27 [00:00<?, ?batch/s]"
      ]
     },
     "metadata": {},
     "output_type": "display_data"
    },
    {
     "data": {
      "application/vnd.jupyter.widget-view+json": {
       "model_id": "5d05bde1144c4e0a98e3742605cd7b1e",
       "version_major": 2,
       "version_minor": 0
      },
      "text/plain": [
       "Epoch 319/2000:   0%|          | 0/27 [00:00<?, ?batch/s]"
      ]
     },
     "metadata": {},
     "output_type": "display_data"
    },
    {
     "data": {
      "application/vnd.jupyter.widget-view+json": {
       "model_id": "46230790f22b4f278130ca2e28adc219",
       "version_major": 2,
       "version_minor": 0
      },
      "text/plain": [
       "Epoch 320/2000:   0%|          | 0/27 [00:00<?, ?batch/s]"
      ]
     },
     "metadata": {},
     "output_type": "display_data"
    },
    {
     "data": {
      "application/vnd.jupyter.widget-view+json": {
       "model_id": "8d6def32ffcd45fcb1145fe9007864fd",
       "version_major": 2,
       "version_minor": 0
      },
      "text/plain": [
       "Epoch 321/2000:   0%|          | 0/27 [00:00<?, ?batch/s]"
      ]
     },
     "metadata": {},
     "output_type": "display_data"
    },
    {
     "data": {
      "application/vnd.jupyter.widget-view+json": {
       "model_id": "b159aa2b86974aac9ba3ddc3ab67a46d",
       "version_major": 2,
       "version_minor": 0
      },
      "text/plain": [
       "Epoch 322/2000:   0%|          | 0/27 [00:00<?, ?batch/s]"
      ]
     },
     "metadata": {},
     "output_type": "display_data"
    },
    {
     "data": {
      "application/vnd.jupyter.widget-view+json": {
       "model_id": "55635359147e427fada66b3f2520c5e4",
       "version_major": 2,
       "version_minor": 0
      },
      "text/plain": [
       "Epoch 323/2000:   0%|          | 0/27 [00:00<?, ?batch/s]"
      ]
     },
     "metadata": {},
     "output_type": "display_data"
    },
    {
     "data": {
      "application/vnd.jupyter.widget-view+json": {
       "model_id": "e094c13028444d3288b45eb8f69d4078",
       "version_major": 2,
       "version_minor": 0
      },
      "text/plain": [
       "Epoch 324/2000:   0%|          | 0/27 [00:00<?, ?batch/s]"
      ]
     },
     "metadata": {},
     "output_type": "display_data"
    },
    {
     "data": {
      "application/vnd.jupyter.widget-view+json": {
       "model_id": "00485af5de9e4991827f5f9e30a7ac0e",
       "version_major": 2,
       "version_minor": 0
      },
      "text/plain": [
       "Epoch 325/2000:   0%|          | 0/27 [00:00<?, ?batch/s]"
      ]
     },
     "metadata": {},
     "output_type": "display_data"
    },
    {
     "name": "stderr",
     "output_type": "stream",
     "text": [
      "IOPub message rate exceeded.\n",
      "The Jupyter server will temporarily stop sending output\n",
      "to the client in order to avoid crashing it.\n",
      "To change this limit, set the config variable\n",
      "`--ServerApp.iopub_msg_rate_limit`.\n",
      "\n",
      "Current values:\n",
      "ServerApp.iopub_msg_rate_limit=1000.0 (msgs/sec)\n",
      "ServerApp.rate_limit_window=3.0 (secs)\n",
      "\n"
     ]
    },
    {
     "data": {
      "application/vnd.jupyter.widget-view+json": {
       "model_id": "c7f9b8c3d6f240bf8b4abbea690c8c9d",
       "version_major": 2,
       "version_minor": 0
      },
      "text/plain": [
       "Epoch 333/2000:   0%|          | 0/27 [00:00<?, ?batch/s]"
      ]
     },
     "metadata": {},
     "output_type": "display_data"
    },
    {
     "data": {
      "application/vnd.jupyter.widget-view+json": {
       "model_id": "bd0aa1ba64594e14a769ccd2cae7b62f",
       "version_major": 2,
       "version_minor": 0
      },
      "text/plain": [
       "Epoch 334/2000:   0%|          | 0/27 [00:00<?, ?batch/s]"
      ]
     },
     "metadata": {},
     "output_type": "display_data"
    },
    {
     "data": {
      "application/vnd.jupyter.widget-view+json": {
       "model_id": "15d2e14b8e3149c392b77448b57c2373",
       "version_major": 2,
       "version_minor": 0
      },
      "text/plain": [
       "Epoch 335/2000:   0%|          | 0/27 [00:00<?, ?batch/s]"
      ]
     },
     "metadata": {},
     "output_type": "display_data"
    },
    {
     "data": {
      "application/vnd.jupyter.widget-view+json": {
       "model_id": "4fe5f1cba7064207bba6d00247d0d46b",
       "version_major": 2,
       "version_minor": 0
      },
      "text/plain": [
       "Epoch 336/2000:   0%|          | 0/27 [00:00<?, ?batch/s]"
      ]
     },
     "metadata": {},
     "output_type": "display_data"
    },
    {
     "data": {
      "application/vnd.jupyter.widget-view+json": {
       "model_id": "11e5e807b04c45838f398359efaf3a4b",
       "version_major": 2,
       "version_minor": 0
      },
      "text/plain": [
       "Epoch 337/2000:   0%|          | 0/27 [00:00<?, ?batch/s]"
      ]
     },
     "metadata": {},
     "output_type": "display_data"
    },
    {
     "data": {
      "application/vnd.jupyter.widget-view+json": {
       "model_id": "aef173ef80a040da9250f23af6bfd595",
       "version_major": 2,
       "version_minor": 0
      },
      "text/plain": [
       "Epoch 338/2000:   0%|          | 0/27 [00:00<?, ?batch/s]"
      ]
     },
     "metadata": {},
     "output_type": "display_data"
    },
    {
     "data": {
      "application/vnd.jupyter.widget-view+json": {
       "model_id": "e62ee344639f4b7f9933bcb5e1439d24",
       "version_major": 2,
       "version_minor": 0
      },
      "text/plain": [
       "Epoch 339/2000:   0%|          | 0/27 [00:00<?, ?batch/s]"
      ]
     },
     "metadata": {},
     "output_type": "display_data"
    },
    {
     "data": {
      "application/vnd.jupyter.widget-view+json": {
       "model_id": "04f5741ca7b9403da9b24acba8cdfb09",
       "version_major": 2,
       "version_minor": 0
      },
      "text/plain": [
       "Epoch 340/2000:   0%|          | 0/27 [00:00<?, ?batch/s]"
      ]
     },
     "metadata": {},
     "output_type": "display_data"
    },
    {
     "data": {
      "application/vnd.jupyter.widget-view+json": {
       "model_id": "9bc0fbb23fe343a89d4d8eb5c57580ce",
       "version_major": 2,
       "version_minor": 0
      },
      "text/plain": [
       "Epoch 341/2000:   0%|          | 0/27 [00:00<?, ?batch/s]"
      ]
     },
     "metadata": {},
     "output_type": "display_data"
    },
    {
     "data": {
      "application/vnd.jupyter.widget-view+json": {
       "model_id": "838958fb289447f6b798e6515e07db0b",
       "version_major": 2,
       "version_minor": 0
      },
      "text/plain": [
       "Epoch 342/2000:   0%|          | 0/27 [00:00<?, ?batch/s]"
      ]
     },
     "metadata": {},
     "output_type": "display_data"
    },
    {
     "data": {
      "application/vnd.jupyter.widget-view+json": {
       "model_id": "3e9d8365c4d24b42af2bb8a039000399",
       "version_major": 2,
       "version_minor": 0
      },
      "text/plain": [
       "Epoch 343/2000:   0%|          | 0/27 [00:00<?, ?batch/s]"
      ]
     },
     "metadata": {},
     "output_type": "display_data"
    },
    {
     "data": {
      "application/vnd.jupyter.widget-view+json": {
       "model_id": "1de552ea4994434ead74d632f841f179",
       "version_major": 2,
       "version_minor": 0
      },
      "text/plain": [
       "Epoch 344/2000:   0%|          | 0/27 [00:00<?, ?batch/s]"
      ]
     },
     "metadata": {},
     "output_type": "display_data"
    },
    {
     "data": {
      "application/vnd.jupyter.widget-view+json": {
       "model_id": "a79fdc3d5d9b43d0bae32cc68ec89cff",
       "version_major": 2,
       "version_minor": 0
      },
      "text/plain": [
       "Epoch 345/2000:   0%|          | 0/27 [00:00<?, ?batch/s]"
      ]
     },
     "metadata": {},
     "output_type": "display_data"
    },
    {
     "data": {
      "application/vnd.jupyter.widget-view+json": {
       "model_id": "1a5c80a07ab949e1bb7fe44824b6c98c",
       "version_major": 2,
       "version_minor": 0
      },
      "text/plain": [
       "Epoch 346/2000:   0%|          | 0/27 [00:00<?, ?batch/s]"
      ]
     },
     "metadata": {},
     "output_type": "display_data"
    },
    {
     "data": {
      "application/vnd.jupyter.widget-view+json": {
       "model_id": "fbb98c1f185145fd8fa11de831852de0",
       "version_major": 2,
       "version_minor": 0
      },
      "text/plain": [
       "Epoch 347/2000:   0%|          | 0/27 [00:00<?, ?batch/s]"
      ]
     },
     "metadata": {},
     "output_type": "display_data"
    },
    {
     "data": {
      "application/vnd.jupyter.widget-view+json": {
       "model_id": "16eda677169049d08689e89556ddc38b",
       "version_major": 2,
       "version_minor": 0
      },
      "text/plain": [
       "Epoch 348/2000:   0%|          | 0/27 [00:00<?, ?batch/s]"
      ]
     },
     "metadata": {},
     "output_type": "display_data"
    },
    {
     "data": {
      "application/vnd.jupyter.widget-view+json": {
       "model_id": "2751a55af65e443794bb76a777b93d1e",
       "version_major": 2,
       "version_minor": 0
      },
      "text/plain": [
       "Epoch 349/2000:   0%|          | 0/27 [00:00<?, ?batch/s]"
      ]
     },
     "metadata": {},
     "output_type": "display_data"
    },
    {
     "data": {
      "application/vnd.jupyter.widget-view+json": {
       "model_id": "cf770c0cac2143cb8c9e69c4241b5e6b",
       "version_major": 2,
       "version_minor": 0
      },
      "text/plain": [
       "Epoch 350/2000:   0%|          | 0/27 [00:00<?, ?batch/s]"
      ]
     },
     "metadata": {},
     "output_type": "display_data"
    },
    {
     "data": {
      "application/vnd.jupyter.widget-view+json": {
       "model_id": "dfefa59b6b0646b084a107b82a70ef2d",
       "version_major": 2,
       "version_minor": 0
      },
      "text/plain": [
       "Epoch 351/2000:   0%|          | 0/27 [00:00<?, ?batch/s]"
      ]
     },
     "metadata": {},
     "output_type": "display_data"
    },
    {
     "data": {
      "application/vnd.jupyter.widget-view+json": {
       "model_id": "5950c3ac0fbc4faaae199b90088842c3",
       "version_major": 2,
       "version_minor": 0
      },
      "text/plain": [
       "Epoch 352/2000:   0%|          | 0/27 [00:00<?, ?batch/s]"
      ]
     },
     "metadata": {},
     "output_type": "display_data"
    },
    {
     "data": {
      "application/vnd.jupyter.widget-view+json": {
       "model_id": "6deb3abf5eea4d309f7c71bde4ce28d9",
       "version_major": 2,
       "version_minor": 0
      },
      "text/plain": [
       "Epoch 353/2000:   0%|          | 0/27 [00:00<?, ?batch/s]"
      ]
     },
     "metadata": {},
     "output_type": "display_data"
    },
    {
     "data": {
      "application/vnd.jupyter.widget-view+json": {
       "model_id": "a3bbeeb6b41848aeaee83338d6919f17",
       "version_major": 2,
       "version_minor": 0
      },
      "text/plain": [
       "Epoch 354/2000:   0%|          | 0/27 [00:00<?, ?batch/s]"
      ]
     },
     "metadata": {},
     "output_type": "display_data"
    },
    {
     "data": {
      "application/vnd.jupyter.widget-view+json": {
       "model_id": "0c45d4d68c974b419f2c82e035c29d1b",
       "version_major": 2,
       "version_minor": 0
      },
      "text/plain": [
       "Epoch 355/2000:   0%|          | 0/27 [00:00<?, ?batch/s]"
      ]
     },
     "metadata": {},
     "output_type": "display_data"
    },
    {
     "data": {
      "application/vnd.jupyter.widget-view+json": {
       "model_id": "64c4c26aacac4f4da1c8610cc8b5d66c",
       "version_major": 2,
       "version_minor": 0
      },
      "text/plain": [
       "Epoch 356/2000:   0%|          | 0/27 [00:00<?, ?batch/s]"
      ]
     },
     "metadata": {},
     "output_type": "display_data"
    },
    {
     "data": {
      "application/vnd.jupyter.widget-view+json": {
       "model_id": "4538aeea51764da5a74a98bae33bbb80",
       "version_major": 2,
       "version_minor": 0
      },
      "text/plain": [
       "Epoch 357/2000:   0%|          | 0/27 [00:00<?, ?batch/s]"
      ]
     },
     "metadata": {},
     "output_type": "display_data"
    },
    {
     "data": {
      "application/vnd.jupyter.widget-view+json": {
       "model_id": "6e35cdf9484340808842948b53c1bd0f",
       "version_major": 2,
       "version_minor": 0
      },
      "text/plain": [
       "Epoch 358/2000:   0%|          | 0/27 [00:00<?, ?batch/s]"
      ]
     },
     "metadata": {},
     "output_type": "display_data"
    },
    {
     "data": {
      "application/vnd.jupyter.widget-view+json": {
       "model_id": "7bdcf197fb814f3e95eeead3c2a9d5a3",
       "version_major": 2,
       "version_minor": 0
      },
      "text/plain": [
       "Epoch 359/2000:   0%|          | 0/27 [00:00<?, ?batch/s]"
      ]
     },
     "metadata": {},
     "output_type": "display_data"
    },
    {
     "data": {
      "application/vnd.jupyter.widget-view+json": {
       "model_id": "75a1c6f52dd1402f838d4542831699d6",
       "version_major": 2,
       "version_minor": 0
      },
      "text/plain": [
       "Epoch 360/2000:   0%|          | 0/27 [00:00<?, ?batch/s]"
      ]
     },
     "metadata": {},
     "output_type": "display_data"
    },
    {
     "data": {
      "application/vnd.jupyter.widget-view+json": {
       "model_id": "0f631fad019a472b96b311f745311f4a",
       "version_major": 2,
       "version_minor": 0
      },
      "text/plain": [
       "Epoch 361/2000:   0%|          | 0/27 [00:00<?, ?batch/s]"
      ]
     },
     "metadata": {},
     "output_type": "display_data"
    },
    {
     "data": {
      "application/vnd.jupyter.widget-view+json": {
       "model_id": "e92b435c120e48ca93fa13c32ce3eb3a",
       "version_major": 2,
       "version_minor": 0
      },
      "text/plain": [
       "Epoch 362/2000:   0%|          | 0/27 [00:00<?, ?batch/s]"
      ]
     },
     "metadata": {},
     "output_type": "display_data"
    },
    {
     "data": {
      "application/vnd.jupyter.widget-view+json": {
       "model_id": "9ad6102784fe470ca4c17ab14860c0ce",
       "version_major": 2,
       "version_minor": 0
      },
      "text/plain": [
       "Epoch 363/2000:   0%|          | 0/27 [00:00<?, ?batch/s]"
      ]
     },
     "metadata": {},
     "output_type": "display_data"
    },
    {
     "data": {
      "application/vnd.jupyter.widget-view+json": {
       "model_id": "dc976181af7143b686e4c1ca47ac6de4",
       "version_major": 2,
       "version_minor": 0
      },
      "text/plain": [
       "Epoch 364/2000:   0%|          | 0/27 [00:00<?, ?batch/s]"
      ]
     },
     "metadata": {},
     "output_type": "display_data"
    },
    {
     "data": {
      "application/vnd.jupyter.widget-view+json": {
       "model_id": "b85b47d324fc41d59e0799444d135a9f",
       "version_major": 2,
       "version_minor": 0
      },
      "text/plain": [
       "Epoch 365/2000:   0%|          | 0/27 [00:00<?, ?batch/s]"
      ]
     },
     "metadata": {},
     "output_type": "display_data"
    },
    {
     "data": {
      "application/vnd.jupyter.widget-view+json": {
       "model_id": "00c74057381d458ebc34622661cdd54c",
       "version_major": 2,
       "version_minor": 0
      },
      "text/plain": [
       "Epoch 366/2000:   0%|          | 0/27 [00:00<?, ?batch/s]"
      ]
     },
     "metadata": {},
     "output_type": "display_data"
    },
    {
     "name": "stderr",
     "output_type": "stream",
     "text": [
      "IOPub message rate exceeded.\n",
      "The Jupyter server will temporarily stop sending output\n",
      "to the client in order to avoid crashing it.\n",
      "To change this limit, set the config variable\n",
      "`--ServerApp.iopub_msg_rate_limit`.\n",
      "\n",
      "Current values:\n",
      "ServerApp.iopub_msg_rate_limit=1000.0 (msgs/sec)\n",
      "ServerApp.rate_limit_window=3.0 (secs)\n",
      "\n"
     ]
    },
    {
     "data": {
      "application/vnd.jupyter.widget-view+json": {
       "model_id": "0237d7ca419c41b1832b4f31191ccb0b",
       "version_major": 2,
       "version_minor": 0
      },
      "text/plain": [
       "Epoch 374/2000:   0%|          | 0/27 [00:00<?, ?batch/s]"
      ]
     },
     "metadata": {},
     "output_type": "display_data"
    },
    {
     "data": {
      "application/vnd.jupyter.widget-view+json": {
       "model_id": "4123ea3b08364bf3a94a760c576bb8f9",
       "version_major": 2,
       "version_minor": 0
      },
      "text/plain": [
       "Epoch 375/2000:   0%|          | 0/27 [00:00<?, ?batch/s]"
      ]
     },
     "metadata": {},
     "output_type": "display_data"
    },
    {
     "data": {
      "application/vnd.jupyter.widget-view+json": {
       "model_id": "9e42d82bb20e4ff4bf9ad251d8dc6b06",
       "version_major": 2,
       "version_minor": 0
      },
      "text/plain": [
       "Epoch 376/2000:   0%|          | 0/27 [00:00<?, ?batch/s]"
      ]
     },
     "metadata": {},
     "output_type": "display_data"
    },
    {
     "data": {
      "application/vnd.jupyter.widget-view+json": {
       "model_id": "4c7060c01b6c41dbb0f72ffd65738790",
       "version_major": 2,
       "version_minor": 0
      },
      "text/plain": [
       "Epoch 377/2000:   0%|          | 0/27 [00:00<?, ?batch/s]"
      ]
     },
     "metadata": {},
     "output_type": "display_data"
    },
    {
     "data": {
      "application/vnd.jupyter.widget-view+json": {
       "model_id": "ee861bc299a0479a8bfde7a7ab8f59fa",
       "version_major": 2,
       "version_minor": 0
      },
      "text/plain": [
       "Epoch 378/2000:   0%|          | 0/27 [00:00<?, ?batch/s]"
      ]
     },
     "metadata": {},
     "output_type": "display_data"
    },
    {
     "data": {
      "application/vnd.jupyter.widget-view+json": {
       "model_id": "e435397c56054e02b0625691cfd0b57c",
       "version_major": 2,
       "version_minor": 0
      },
      "text/plain": [
       "Epoch 379/2000:   0%|          | 0/27 [00:00<?, ?batch/s]"
      ]
     },
     "metadata": {},
     "output_type": "display_data"
    },
    {
     "data": {
      "application/vnd.jupyter.widget-view+json": {
       "model_id": "53fc2bf823e54eaebd6071bb4be1c2df",
       "version_major": 2,
       "version_minor": 0
      },
      "text/plain": [
       "Epoch 380/2000:   0%|          | 0/27 [00:00<?, ?batch/s]"
      ]
     },
     "metadata": {},
     "output_type": "display_data"
    },
    {
     "data": {
      "application/vnd.jupyter.widget-view+json": {
       "model_id": "fda6a69cc833485a9a68d581deeda051",
       "version_major": 2,
       "version_minor": 0
      },
      "text/plain": [
       "Epoch 381/2000:   0%|          | 0/27 [00:00<?, ?batch/s]"
      ]
     },
     "metadata": {},
     "output_type": "display_data"
    },
    {
     "data": {
      "application/vnd.jupyter.widget-view+json": {
       "model_id": "0d8242b92d1b41b98dc022f8f8f01b8b",
       "version_major": 2,
       "version_minor": 0
      },
      "text/plain": [
       "Epoch 382/2000:   0%|          | 0/27 [00:00<?, ?batch/s]"
      ]
     },
     "metadata": {},
     "output_type": "display_data"
    },
    {
     "data": {
      "application/vnd.jupyter.widget-view+json": {
       "model_id": "422289c2d3f14ac1ac2a2f43310b8dea",
       "version_major": 2,
       "version_minor": 0
      },
      "text/plain": [
       "Epoch 383/2000:   0%|          | 0/27 [00:00<?, ?batch/s]"
      ]
     },
     "metadata": {},
     "output_type": "display_data"
    },
    {
     "data": {
      "application/vnd.jupyter.widget-view+json": {
       "model_id": "57d2224ab0e449d9a0b967a1dabef345",
       "version_major": 2,
       "version_minor": 0
      },
      "text/plain": [
       "Epoch 384/2000:   0%|          | 0/27 [00:00<?, ?batch/s]"
      ]
     },
     "metadata": {},
     "output_type": "display_data"
    },
    {
     "data": {
      "application/vnd.jupyter.widget-view+json": {
       "model_id": "e6e3a059d8b943888afdcbc40e232e2e",
       "version_major": 2,
       "version_minor": 0
      },
      "text/plain": [
       "Epoch 385/2000:   0%|          | 0/27 [00:00<?, ?batch/s]"
      ]
     },
     "metadata": {},
     "output_type": "display_data"
    },
    {
     "data": {
      "application/vnd.jupyter.widget-view+json": {
       "model_id": "7976b6a45dc64a0d99e2578317b7a5dc",
       "version_major": 2,
       "version_minor": 0
      },
      "text/plain": [
       "Epoch 386/2000:   0%|          | 0/27 [00:00<?, ?batch/s]"
      ]
     },
     "metadata": {},
     "output_type": "display_data"
    },
    {
     "data": {
      "application/vnd.jupyter.widget-view+json": {
       "model_id": "1b0307299c7d416aa13c973661864c83",
       "version_major": 2,
       "version_minor": 0
      },
      "text/plain": [
       "Epoch 387/2000:   0%|          | 0/27 [00:00<?, ?batch/s]"
      ]
     },
     "metadata": {},
     "output_type": "display_data"
    },
    {
     "data": {
      "application/vnd.jupyter.widget-view+json": {
       "model_id": "eafea4f49fa94dd5ad0b6ff547973a93",
       "version_major": 2,
       "version_minor": 0
      },
      "text/plain": [
       "Epoch 388/2000:   0%|          | 0/27 [00:00<?, ?batch/s]"
      ]
     },
     "metadata": {},
     "output_type": "display_data"
    },
    {
     "data": {
      "application/vnd.jupyter.widget-view+json": {
       "model_id": "f70b287669604da18ab65aeeba39a333",
       "version_major": 2,
       "version_minor": 0
      },
      "text/plain": [
       "Epoch 389/2000:   0%|          | 0/27 [00:00<?, ?batch/s]"
      ]
     },
     "metadata": {},
     "output_type": "display_data"
    },
    {
     "data": {
      "application/vnd.jupyter.widget-view+json": {
       "model_id": "a2a9566ba99a4d7d8fc2407a2267184d",
       "version_major": 2,
       "version_minor": 0
      },
      "text/plain": [
       "Epoch 390/2000:   0%|          | 0/27 [00:00<?, ?batch/s]"
      ]
     },
     "metadata": {},
     "output_type": "display_data"
    },
    {
     "data": {
      "application/vnd.jupyter.widget-view+json": {
       "model_id": "5b3e77fd061b46309595da7c1887392f",
       "version_major": 2,
       "version_minor": 0
      },
      "text/plain": [
       "Epoch 391/2000:   0%|          | 0/27 [00:00<?, ?batch/s]"
      ]
     },
     "metadata": {},
     "output_type": "display_data"
    },
    {
     "data": {
      "application/vnd.jupyter.widget-view+json": {
       "model_id": "ec726325263c46cf8aa689a9654d9006",
       "version_major": 2,
       "version_minor": 0
      },
      "text/plain": [
       "Epoch 392/2000:   0%|          | 0/27 [00:00<?, ?batch/s]"
      ]
     },
     "metadata": {},
     "output_type": "display_data"
    },
    {
     "data": {
      "application/vnd.jupyter.widget-view+json": {
       "model_id": "7dee58139c1c4565bbf866aad1f12071",
       "version_major": 2,
       "version_minor": 0
      },
      "text/plain": [
       "Epoch 393/2000:   0%|          | 0/27 [00:00<?, ?batch/s]"
      ]
     },
     "metadata": {},
     "output_type": "display_data"
    },
    {
     "data": {
      "application/vnd.jupyter.widget-view+json": {
       "model_id": "7a73421452754ee499f01d6fe02f8936",
       "version_major": 2,
       "version_minor": 0
      },
      "text/plain": [
       "Epoch 394/2000:   0%|          | 0/27 [00:00<?, ?batch/s]"
      ]
     },
     "metadata": {},
     "output_type": "display_data"
    },
    {
     "data": {
      "application/vnd.jupyter.widget-view+json": {
       "model_id": "02b84edcf5e34580b169c7c309bdf919",
       "version_major": 2,
       "version_minor": 0
      },
      "text/plain": [
       "Epoch 395/2000:   0%|          | 0/27 [00:00<?, ?batch/s]"
      ]
     },
     "metadata": {},
     "output_type": "display_data"
    },
    {
     "data": {
      "application/vnd.jupyter.widget-view+json": {
       "model_id": "fe65af52d974472a93586209f85430ee",
       "version_major": 2,
       "version_minor": 0
      },
      "text/plain": [
       "Epoch 396/2000:   0%|          | 0/27 [00:00<?, ?batch/s]"
      ]
     },
     "metadata": {},
     "output_type": "display_data"
    },
    {
     "data": {
      "application/vnd.jupyter.widget-view+json": {
       "model_id": "35fbdb645d424ad39fe4c528cbae01ea",
       "version_major": 2,
       "version_minor": 0
      },
      "text/plain": [
       "Epoch 397/2000:   0%|          | 0/27 [00:00<?, ?batch/s]"
      ]
     },
     "metadata": {},
     "output_type": "display_data"
    },
    {
     "data": {
      "application/vnd.jupyter.widget-view+json": {
       "model_id": "a34437b159f945e49c26826f46f9d329",
       "version_major": 2,
       "version_minor": 0
      },
      "text/plain": [
       "Epoch 398/2000:   0%|          | 0/27 [00:00<?, ?batch/s]"
      ]
     },
     "metadata": {},
     "output_type": "display_data"
    },
    {
     "data": {
      "application/vnd.jupyter.widget-view+json": {
       "model_id": "de2090b42cc94fce8fcbbe4c1e3026a0",
       "version_major": 2,
       "version_minor": 0
      },
      "text/plain": [
       "Epoch 399/2000:   0%|          | 0/27 [00:00<?, ?batch/s]"
      ]
     },
     "metadata": {},
     "output_type": "display_data"
    },
    {
     "data": {
      "application/vnd.jupyter.widget-view+json": {
       "model_id": "f74f375c013f4dab99f0f2fe81e53297",
       "version_major": 2,
       "version_minor": 0
      },
      "text/plain": [
       "Epoch 400/2000:   0%|          | 0/27 [00:00<?, ?batch/s]"
      ]
     },
     "metadata": {},
     "output_type": "display_data"
    },
    {
     "data": {
      "application/vnd.jupyter.widget-view+json": {
       "model_id": "d1f2a1751a1f4524a8f91e518e3546b2",
       "version_major": 2,
       "version_minor": 0
      },
      "text/plain": [
       "Epoch 401/2000:   0%|          | 0/27 [00:00<?, ?batch/s]"
      ]
     },
     "metadata": {},
     "output_type": "display_data"
    },
    {
     "data": {
      "application/vnd.jupyter.widget-view+json": {
       "model_id": "7b2d184ba42046ce897193080c99dc63",
       "version_major": 2,
       "version_minor": 0
      },
      "text/plain": [
       "Epoch 402/2000:   0%|          | 0/27 [00:00<?, ?batch/s]"
      ]
     },
     "metadata": {},
     "output_type": "display_data"
    },
    {
     "data": {
      "application/vnd.jupyter.widget-view+json": {
       "model_id": "3c0baa62ebd14bfd93af9220226cb3ab",
       "version_major": 2,
       "version_minor": 0
      },
      "text/plain": [
       "Epoch 403/2000:   0%|          | 0/27 [00:00<?, ?batch/s]"
      ]
     },
     "metadata": {},
     "output_type": "display_data"
    },
    {
     "data": {
      "application/vnd.jupyter.widget-view+json": {
       "model_id": "581f2501bd1b43f1a1f386fedd8a5ee8",
       "version_major": 2,
       "version_minor": 0
      },
      "text/plain": [
       "Epoch 404/2000:   0%|          | 0/27 [00:00<?, ?batch/s]"
      ]
     },
     "metadata": {},
     "output_type": "display_data"
    },
    {
     "data": {
      "application/vnd.jupyter.widget-view+json": {
       "model_id": "cee77ebc0f194c7f9913b80e31270cd3",
       "version_major": 2,
       "version_minor": 0
      },
      "text/plain": [
       "Epoch 405/2000:   0%|          | 0/27 [00:00<?, ?batch/s]"
      ]
     },
     "metadata": {},
     "output_type": "display_data"
    },
    {
     "data": {
      "application/vnd.jupyter.widget-view+json": {
       "model_id": "6c97956d743643d18934952b39b37b72",
       "version_major": 2,
       "version_minor": 0
      },
      "text/plain": [
       "Epoch 406/2000:   0%|          | 0/27 [00:00<?, ?batch/s]"
      ]
     },
     "metadata": {},
     "output_type": "display_data"
    },
    {
     "data": {
      "application/vnd.jupyter.widget-view+json": {
       "model_id": "ed537553e22c47b09e2a14d4e2c55e2b",
       "version_major": 2,
       "version_minor": 0
      },
      "text/plain": [
       "Epoch 407/2000:   0%|          | 0/27 [00:00<?, ?batch/s]"
      ]
     },
     "metadata": {},
     "output_type": "display_data"
    },
    {
     "name": "stderr",
     "output_type": "stream",
     "text": [
      "IOPub message rate exceeded.\n",
      "The Jupyter server will temporarily stop sending output\n",
      "to the client in order to avoid crashing it.\n",
      "To change this limit, set the config variable\n",
      "`--ServerApp.iopub_msg_rate_limit`.\n",
      "\n",
      "Current values:\n",
      "ServerApp.iopub_msg_rate_limit=1000.0 (msgs/sec)\n",
      "ServerApp.rate_limit_window=3.0 (secs)\n",
      "\n"
     ]
    },
    {
     "data": {
      "application/vnd.jupyter.widget-view+json": {
       "model_id": "9d24e8906f4c4bdcbbe14c9b6424c3f8",
       "version_major": 2,
       "version_minor": 0
      },
      "text/plain": [
       "Epoch 416/2000:   0%|          | 0/27 [00:00<?, ?batch/s]"
      ]
     },
     "metadata": {},
     "output_type": "display_data"
    },
    {
     "data": {
      "application/vnd.jupyter.widget-view+json": {
       "model_id": "34e262d5695e494fb84a84e4c4c7efc3",
       "version_major": 2,
       "version_minor": 0
      },
      "text/plain": [
       "Epoch 417/2000:   0%|          | 0/27 [00:00<?, ?batch/s]"
      ]
     },
     "metadata": {},
     "output_type": "display_data"
    },
    {
     "data": {
      "application/vnd.jupyter.widget-view+json": {
       "model_id": "d0c9d3113c444d22ba7abd75be9730b5",
       "version_major": 2,
       "version_minor": 0
      },
      "text/plain": [
       "Epoch 418/2000:   0%|          | 0/27 [00:00<?, ?batch/s]"
      ]
     },
     "metadata": {},
     "output_type": "display_data"
    },
    {
     "data": {
      "application/vnd.jupyter.widget-view+json": {
       "model_id": "d59aaf657f0e44d5b5c3e302e9a2a7fb",
       "version_major": 2,
       "version_minor": 0
      },
      "text/plain": [
       "Epoch 419/2000:   0%|          | 0/27 [00:00<?, ?batch/s]"
      ]
     },
     "metadata": {},
     "output_type": "display_data"
    },
    {
     "data": {
      "application/vnd.jupyter.widget-view+json": {
       "model_id": "a2830ef9bdec435480da38fc7e942c4d",
       "version_major": 2,
       "version_minor": 0
      },
      "text/plain": [
       "Epoch 420/2000:   0%|          | 0/27 [00:00<?, ?batch/s]"
      ]
     },
     "metadata": {},
     "output_type": "display_data"
    },
    {
     "data": {
      "application/vnd.jupyter.widget-view+json": {
       "model_id": "758206033644409285f9c849f9d7ba9b",
       "version_major": 2,
       "version_minor": 0
      },
      "text/plain": [
       "Epoch 421/2000:   0%|          | 0/27 [00:00<?, ?batch/s]"
      ]
     },
     "metadata": {},
     "output_type": "display_data"
    },
    {
     "data": {
      "application/vnd.jupyter.widget-view+json": {
       "model_id": "0447600262544a028d60bd777c26a021",
       "version_major": 2,
       "version_minor": 0
      },
      "text/plain": [
       "Epoch 422/2000:   0%|          | 0/27 [00:00<?, ?batch/s]"
      ]
     },
     "metadata": {},
     "output_type": "display_data"
    },
    {
     "data": {
      "application/vnd.jupyter.widget-view+json": {
       "model_id": "4cf33abe8fc64219b0df5ed8761018dc",
       "version_major": 2,
       "version_minor": 0
      },
      "text/plain": [
       "Epoch 423/2000:   0%|          | 0/27 [00:00<?, ?batch/s]"
      ]
     },
     "metadata": {},
     "output_type": "display_data"
    },
    {
     "data": {
      "application/vnd.jupyter.widget-view+json": {
       "model_id": "1aa0603ce2fa4077aef2a5f288dcbf7a",
       "version_major": 2,
       "version_minor": 0
      },
      "text/plain": [
       "Epoch 424/2000:   0%|          | 0/27 [00:00<?, ?batch/s]"
      ]
     },
     "metadata": {},
     "output_type": "display_data"
    },
    {
     "data": {
      "application/vnd.jupyter.widget-view+json": {
       "model_id": "12c315aeaefb4178b5cfa7660f4a1708",
       "version_major": 2,
       "version_minor": 0
      },
      "text/plain": [
       "Epoch 425/2000:   0%|          | 0/27 [00:00<?, ?batch/s]"
      ]
     },
     "metadata": {},
     "output_type": "display_data"
    },
    {
     "data": {
      "application/vnd.jupyter.widget-view+json": {
       "model_id": "66e2e60494c84974bc3512834e165c31",
       "version_major": 2,
       "version_minor": 0
      },
      "text/plain": [
       "Epoch 426/2000:   0%|          | 0/27 [00:00<?, ?batch/s]"
      ]
     },
     "metadata": {},
     "output_type": "display_data"
    },
    {
     "data": {
      "application/vnd.jupyter.widget-view+json": {
       "model_id": "7d85498d47854a209fcb8611a99fd8f8",
       "version_major": 2,
       "version_minor": 0
      },
      "text/plain": [
       "Epoch 427/2000:   0%|          | 0/27 [00:00<?, ?batch/s]"
      ]
     },
     "metadata": {},
     "output_type": "display_data"
    },
    {
     "data": {
      "application/vnd.jupyter.widget-view+json": {
       "model_id": "8e7d43fa6e66408aac984cf48a457a58",
       "version_major": 2,
       "version_minor": 0
      },
      "text/plain": [
       "Epoch 428/2000:   0%|          | 0/27 [00:00<?, ?batch/s]"
      ]
     },
     "metadata": {},
     "output_type": "display_data"
    },
    {
     "data": {
      "application/vnd.jupyter.widget-view+json": {
       "model_id": "8ac8188227af4a6a868d29471b1a5699",
       "version_major": 2,
       "version_minor": 0
      },
      "text/plain": [
       "Epoch 429/2000:   0%|          | 0/27 [00:00<?, ?batch/s]"
      ]
     },
     "metadata": {},
     "output_type": "display_data"
    },
    {
     "data": {
      "application/vnd.jupyter.widget-view+json": {
       "model_id": "5e3d04f16b7d402bba818b1f38723b30",
       "version_major": 2,
       "version_minor": 0
      },
      "text/plain": [
       "Epoch 430/2000:   0%|          | 0/27 [00:00<?, ?batch/s]"
      ]
     },
     "metadata": {},
     "output_type": "display_data"
    },
    {
     "data": {
      "application/vnd.jupyter.widget-view+json": {
       "model_id": "eb112605fdcd440b8fb739c0cc0905a9",
       "version_major": 2,
       "version_minor": 0
      },
      "text/plain": [
       "Epoch 431/2000:   0%|          | 0/27 [00:00<?, ?batch/s]"
      ]
     },
     "metadata": {},
     "output_type": "display_data"
    },
    {
     "data": {
      "application/vnd.jupyter.widget-view+json": {
       "model_id": "b7457b64fced45df8af72b6310f02dd2",
       "version_major": 2,
       "version_minor": 0
      },
      "text/plain": [
       "Epoch 432/2000:   0%|          | 0/27 [00:00<?, ?batch/s]"
      ]
     },
     "metadata": {},
     "output_type": "display_data"
    },
    {
     "data": {
      "application/vnd.jupyter.widget-view+json": {
       "model_id": "b4e167830baa42af9707aa9b5688a553",
       "version_major": 2,
       "version_minor": 0
      },
      "text/plain": [
       "Epoch 433/2000:   0%|          | 0/27 [00:00<?, ?batch/s]"
      ]
     },
     "metadata": {},
     "output_type": "display_data"
    },
    {
     "data": {
      "application/vnd.jupyter.widget-view+json": {
       "model_id": "89ac680dfb8b430d867fa80816d26f53",
       "version_major": 2,
       "version_minor": 0
      },
      "text/plain": [
       "Epoch 434/2000:   0%|          | 0/27 [00:00<?, ?batch/s]"
      ]
     },
     "metadata": {},
     "output_type": "display_data"
    },
    {
     "data": {
      "application/vnd.jupyter.widget-view+json": {
       "model_id": "5d83f5df8eb44bd88ef5043fa63d439e",
       "version_major": 2,
       "version_minor": 0
      },
      "text/plain": [
       "Epoch 435/2000:   0%|          | 0/27 [00:00<?, ?batch/s]"
      ]
     },
     "metadata": {},
     "output_type": "display_data"
    },
    {
     "data": {
      "application/vnd.jupyter.widget-view+json": {
       "model_id": "6203918e37b24740bc3da9ebb40eca6f",
       "version_major": 2,
       "version_minor": 0
      },
      "text/plain": [
       "Epoch 436/2000:   0%|          | 0/27 [00:00<?, ?batch/s]"
      ]
     },
     "metadata": {},
     "output_type": "display_data"
    },
    {
     "data": {
      "application/vnd.jupyter.widget-view+json": {
       "model_id": "88b8b2427eab461b95b08c9e1850d2ab",
       "version_major": 2,
       "version_minor": 0
      },
      "text/plain": [
       "Epoch 437/2000:   0%|          | 0/27 [00:00<?, ?batch/s]"
      ]
     },
     "metadata": {},
     "output_type": "display_data"
    },
    {
     "data": {
      "application/vnd.jupyter.widget-view+json": {
       "model_id": "30105de098324c7ebe22f914428ebcd0",
       "version_major": 2,
       "version_minor": 0
      },
      "text/plain": [
       "Epoch 438/2000:   0%|          | 0/27 [00:00<?, ?batch/s]"
      ]
     },
     "metadata": {},
     "output_type": "display_data"
    },
    {
     "data": {
      "application/vnd.jupyter.widget-view+json": {
       "model_id": "7bda6ed7281e4c1cb6b80d6fe00a5e01",
       "version_major": 2,
       "version_minor": 0
      },
      "text/plain": [
       "Epoch 439/2000:   0%|          | 0/27 [00:00<?, ?batch/s]"
      ]
     },
     "metadata": {},
     "output_type": "display_data"
    },
    {
     "data": {
      "application/vnd.jupyter.widget-view+json": {
       "model_id": "f0888018de92412695bbd59e34e5fd6f",
       "version_major": 2,
       "version_minor": 0
      },
      "text/plain": [
       "Epoch 440/2000:   0%|          | 0/27 [00:00<?, ?batch/s]"
      ]
     },
     "metadata": {},
     "output_type": "display_data"
    },
    {
     "data": {
      "application/vnd.jupyter.widget-view+json": {
       "model_id": "52ca3a13af9243a1ababa1b7c2955cd8",
       "version_major": 2,
       "version_minor": 0
      },
      "text/plain": [
       "Epoch 441/2000:   0%|          | 0/27 [00:00<?, ?batch/s]"
      ]
     },
     "metadata": {},
     "output_type": "display_data"
    },
    {
     "data": {
      "application/vnd.jupyter.widget-view+json": {
       "model_id": "a7167ac5dbc44f2baa5421a14eff32cc",
       "version_major": 2,
       "version_minor": 0
      },
      "text/plain": [
       "Epoch 442/2000:   0%|          | 0/27 [00:00<?, ?batch/s]"
      ]
     },
     "metadata": {},
     "output_type": "display_data"
    },
    {
     "data": {
      "application/vnd.jupyter.widget-view+json": {
       "model_id": "26c2ecc22e8f484b97a68063d14607a7",
       "version_major": 2,
       "version_minor": 0
      },
      "text/plain": [
       "Epoch 443/2000:   0%|          | 0/27 [00:00<?, ?batch/s]"
      ]
     },
     "metadata": {},
     "output_type": "display_data"
    },
    {
     "data": {
      "application/vnd.jupyter.widget-view+json": {
       "model_id": "8a6229a663fb4f7b972fcf778d9a4160",
       "version_major": 2,
       "version_minor": 0
      },
      "text/plain": [
       "Epoch 444/2000:   0%|          | 0/27 [00:00<?, ?batch/s]"
      ]
     },
     "metadata": {},
     "output_type": "display_data"
    },
    {
     "data": {
      "application/vnd.jupyter.widget-view+json": {
       "model_id": "26c0dc15de4847d2bf0e5dd1eafb87fc",
       "version_major": 2,
       "version_minor": 0
      },
      "text/plain": [
       "Epoch 445/2000:   0%|          | 0/27 [00:00<?, ?batch/s]"
      ]
     },
     "metadata": {},
     "output_type": "display_data"
    },
    {
     "data": {
      "application/vnd.jupyter.widget-view+json": {
       "model_id": "8e0bc54a954143efa4fccd96a4a4a442",
       "version_major": 2,
       "version_minor": 0
      },
      "text/plain": [
       "Epoch 446/2000:   0%|          | 0/27 [00:00<?, ?batch/s]"
      ]
     },
     "metadata": {},
     "output_type": "display_data"
    },
    {
     "data": {
      "application/vnd.jupyter.widget-view+json": {
       "model_id": "1eef6cf6cbcc438b91d1afac6a10ea16",
       "version_major": 2,
       "version_minor": 0
      },
      "text/plain": [
       "Epoch 447/2000:   0%|          | 0/27 [00:00<?, ?batch/s]"
      ]
     },
     "metadata": {},
     "output_type": "display_data"
    },
    {
     "data": {
      "application/vnd.jupyter.widget-view+json": {
       "model_id": "c2483509654a4a4985a8e771a2f3b86f",
       "version_major": 2,
       "version_minor": 0
      },
      "text/plain": [
       "Epoch 448/2000:   0%|          | 0/27 [00:00<?, ?batch/s]"
      ]
     },
     "metadata": {},
     "output_type": "display_data"
    },
    {
     "data": {
      "application/vnd.jupyter.widget-view+json": {
       "model_id": "f7a58bbafaf5433c9e12eb3c7ab56bc6",
       "version_major": 2,
       "version_minor": 0
      },
      "text/plain": [
       "Epoch 449/2000:   0%|          | 0/27 [00:00<?, ?batch/s]"
      ]
     },
     "metadata": {},
     "output_type": "display_data"
    },
    {
     "name": "stderr",
     "output_type": "stream",
     "text": [
      "IOPub message rate exceeded.\n",
      "The Jupyter server will temporarily stop sending output\n",
      "to the client in order to avoid crashing it.\n",
      "To change this limit, set the config variable\n",
      "`--ServerApp.iopub_msg_rate_limit`.\n",
      "\n",
      "Current values:\n",
      "ServerApp.iopub_msg_rate_limit=1000.0 (msgs/sec)\n",
      "ServerApp.rate_limit_window=3.0 (secs)\n",
      "\n"
     ]
    },
    {
     "data": {
      "application/vnd.jupyter.widget-view+json": {
       "model_id": "5341b2cbdea74290ba8c689375bba051",
       "version_major": 2,
       "version_minor": 0
      },
      "text/plain": [
       "Epoch 458/2000:   0%|          | 0/27 [00:00<?, ?batch/s]"
      ]
     },
     "metadata": {},
     "output_type": "display_data"
    },
    {
     "data": {
      "application/vnd.jupyter.widget-view+json": {
       "model_id": "df1727ce39e94bb98f3172aa5585e8db",
       "version_major": 2,
       "version_minor": 0
      },
      "text/plain": [
       "Epoch 459/2000:   0%|          | 0/27 [00:00<?, ?batch/s]"
      ]
     },
     "metadata": {},
     "output_type": "display_data"
    },
    {
     "data": {
      "application/vnd.jupyter.widget-view+json": {
       "model_id": "43d74583dd2546b1a4ae771e3f21990d",
       "version_major": 2,
       "version_minor": 0
      },
      "text/plain": [
       "Epoch 460/2000:   0%|          | 0/27 [00:00<?, ?batch/s]"
      ]
     },
     "metadata": {},
     "output_type": "display_data"
    },
    {
     "data": {
      "application/vnd.jupyter.widget-view+json": {
       "model_id": "36d9605d74d94a948eb950149ab96a0f",
       "version_major": 2,
       "version_minor": 0
      },
      "text/plain": [
       "Epoch 461/2000:   0%|          | 0/27 [00:00<?, ?batch/s]"
      ]
     },
     "metadata": {},
     "output_type": "display_data"
    },
    {
     "data": {
      "application/vnd.jupyter.widget-view+json": {
       "model_id": "dcbe75b11f3a498691c7e412817623e2",
       "version_major": 2,
       "version_minor": 0
      },
      "text/plain": [
       "Epoch 462/2000:   0%|          | 0/27 [00:00<?, ?batch/s]"
      ]
     },
     "metadata": {},
     "output_type": "display_data"
    },
    {
     "data": {
      "application/vnd.jupyter.widget-view+json": {
       "model_id": "3a31f12842db425eaaf9bb912252dc66",
       "version_major": 2,
       "version_minor": 0
      },
      "text/plain": [
       "Epoch 463/2000:   0%|          | 0/27 [00:00<?, ?batch/s]"
      ]
     },
     "metadata": {},
     "output_type": "display_data"
    },
    {
     "data": {
      "application/vnd.jupyter.widget-view+json": {
       "model_id": "3edc8c542feb411c9f37b9b30179f006",
       "version_major": 2,
       "version_minor": 0
      },
      "text/plain": [
       "Epoch 464/2000:   0%|          | 0/27 [00:00<?, ?batch/s]"
      ]
     },
     "metadata": {},
     "output_type": "display_data"
    },
    {
     "data": {
      "application/vnd.jupyter.widget-view+json": {
       "model_id": "fa72ed890cea45c4b53c725b0a80fea0",
       "version_major": 2,
       "version_minor": 0
      },
      "text/plain": [
       "Epoch 465/2000:   0%|          | 0/27 [00:00<?, ?batch/s]"
      ]
     },
     "metadata": {},
     "output_type": "display_data"
    },
    {
     "data": {
      "application/vnd.jupyter.widget-view+json": {
       "model_id": "0ca416b3f8b04b3cad6a6e05b227a8a8",
       "version_major": 2,
       "version_minor": 0
      },
      "text/plain": [
       "Epoch 466/2000:   0%|          | 0/27 [00:00<?, ?batch/s]"
      ]
     },
     "metadata": {},
     "output_type": "display_data"
    },
    {
     "data": {
      "application/vnd.jupyter.widget-view+json": {
       "model_id": "a6ca0ac59e7f48709befe36638128b3b",
       "version_major": 2,
       "version_minor": 0
      },
      "text/plain": [
       "Epoch 467/2000:   0%|          | 0/27 [00:00<?, ?batch/s]"
      ]
     },
     "metadata": {},
     "output_type": "display_data"
    },
    {
     "data": {
      "application/vnd.jupyter.widget-view+json": {
       "model_id": "0b16839a4821478ea283c6eff33cc02e",
       "version_major": 2,
       "version_minor": 0
      },
      "text/plain": [
       "Epoch 468/2000:   0%|          | 0/27 [00:00<?, ?batch/s]"
      ]
     },
     "metadata": {},
     "output_type": "display_data"
    },
    {
     "data": {
      "application/vnd.jupyter.widget-view+json": {
       "model_id": "97bd704e06e7448f9e0a2c47bfd1e9cd",
       "version_major": 2,
       "version_minor": 0
      },
      "text/plain": [
       "Epoch 469/2000:   0%|          | 0/27 [00:00<?, ?batch/s]"
      ]
     },
     "metadata": {},
     "output_type": "display_data"
    },
    {
     "data": {
      "application/vnd.jupyter.widget-view+json": {
       "model_id": "9ca93972d07d45359098fe0c7e44edfc",
       "version_major": 2,
       "version_minor": 0
      },
      "text/plain": [
       "Epoch 470/2000:   0%|          | 0/27 [00:00<?, ?batch/s]"
      ]
     },
     "metadata": {},
     "output_type": "display_data"
    },
    {
     "data": {
      "application/vnd.jupyter.widget-view+json": {
       "model_id": "db7f492e2de94c798d6c57d385a21ebe",
       "version_major": 2,
       "version_minor": 0
      },
      "text/plain": [
       "Epoch 471/2000:   0%|          | 0/27 [00:00<?, ?batch/s]"
      ]
     },
     "metadata": {},
     "output_type": "display_data"
    },
    {
     "data": {
      "application/vnd.jupyter.widget-view+json": {
       "model_id": "63f5fe14c5cb41d49d494f5b2feef5f3",
       "version_major": 2,
       "version_minor": 0
      },
      "text/plain": [
       "Epoch 472/2000:   0%|          | 0/27 [00:00<?, ?batch/s]"
      ]
     },
     "metadata": {},
     "output_type": "display_data"
    },
    {
     "data": {
      "application/vnd.jupyter.widget-view+json": {
       "model_id": "b4a3cae6b8b64d53a519c0f1c42613a1",
       "version_major": 2,
       "version_minor": 0
      },
      "text/plain": [
       "Epoch 473/2000:   0%|          | 0/27 [00:00<?, ?batch/s]"
      ]
     },
     "metadata": {},
     "output_type": "display_data"
    },
    {
     "data": {
      "application/vnd.jupyter.widget-view+json": {
       "model_id": "56571ec579bb4289b6c565a40a66ac9d",
       "version_major": 2,
       "version_minor": 0
      },
      "text/plain": [
       "Epoch 474/2000:   0%|          | 0/27 [00:00<?, ?batch/s]"
      ]
     },
     "metadata": {},
     "output_type": "display_data"
    },
    {
     "data": {
      "application/vnd.jupyter.widget-view+json": {
       "model_id": "55095c0a502f44b9b581cd0b8a47256a",
       "version_major": 2,
       "version_minor": 0
      },
      "text/plain": [
       "Epoch 475/2000:   0%|          | 0/27 [00:00<?, ?batch/s]"
      ]
     },
     "metadata": {},
     "output_type": "display_data"
    },
    {
     "data": {
      "application/vnd.jupyter.widget-view+json": {
       "model_id": "5dc382c9d5ff4e6eb81d778a53b4a2b0",
       "version_major": 2,
       "version_minor": 0
      },
      "text/plain": [
       "Epoch 476/2000:   0%|          | 0/27 [00:00<?, ?batch/s]"
      ]
     },
     "metadata": {},
     "output_type": "display_data"
    },
    {
     "data": {
      "application/vnd.jupyter.widget-view+json": {
       "model_id": "f165122f57914015a0c9428ec7b84214",
       "version_major": 2,
       "version_minor": 0
      },
      "text/plain": [
       "Epoch 477/2000:   0%|          | 0/27 [00:00<?, ?batch/s]"
      ]
     },
     "metadata": {},
     "output_type": "display_data"
    },
    {
     "data": {
      "application/vnd.jupyter.widget-view+json": {
       "model_id": "d4c3489d20d8476b9acad78e572cc84a",
       "version_major": 2,
       "version_minor": 0
      },
      "text/plain": [
       "Epoch 478/2000:   0%|          | 0/27 [00:00<?, ?batch/s]"
      ]
     },
     "metadata": {},
     "output_type": "display_data"
    },
    {
     "data": {
      "application/vnd.jupyter.widget-view+json": {
       "model_id": "9c5b718dc65448a3b11067aecc743911",
       "version_major": 2,
       "version_minor": 0
      },
      "text/plain": [
       "Epoch 479/2000:   0%|          | 0/27 [00:00<?, ?batch/s]"
      ]
     },
     "metadata": {},
     "output_type": "display_data"
    },
    {
     "data": {
      "application/vnd.jupyter.widget-view+json": {
       "model_id": "39b171e7a5d743938c5d6ae3fa011821",
       "version_major": 2,
       "version_minor": 0
      },
      "text/plain": [
       "Epoch 480/2000:   0%|          | 0/27 [00:00<?, ?batch/s]"
      ]
     },
     "metadata": {},
     "output_type": "display_data"
    },
    {
     "data": {
      "application/vnd.jupyter.widget-view+json": {
       "model_id": "31b71f0ae3bf43b9a7eaa764d6563d05",
       "version_major": 2,
       "version_minor": 0
      },
      "text/plain": [
       "Epoch 481/2000:   0%|          | 0/27 [00:00<?, ?batch/s]"
      ]
     },
     "metadata": {},
     "output_type": "display_data"
    },
    {
     "data": {
      "application/vnd.jupyter.widget-view+json": {
       "model_id": "17293517036646fc96e680b485cc50a6",
       "version_major": 2,
       "version_minor": 0
      },
      "text/plain": [
       "Epoch 482/2000:   0%|          | 0/27 [00:00<?, ?batch/s]"
      ]
     },
     "metadata": {},
     "output_type": "display_data"
    },
    {
     "data": {
      "application/vnd.jupyter.widget-view+json": {
       "model_id": "9de57b0507494a91a4ccde43c21a192c",
       "version_major": 2,
       "version_minor": 0
      },
      "text/plain": [
       "Epoch 483/2000:   0%|          | 0/27 [00:00<?, ?batch/s]"
      ]
     },
     "metadata": {},
     "output_type": "display_data"
    },
    {
     "data": {
      "application/vnd.jupyter.widget-view+json": {
       "model_id": "78c33f6dbdf24fb18e1e4b66ee66119f",
       "version_major": 2,
       "version_minor": 0
      },
      "text/plain": [
       "Epoch 484/2000:   0%|          | 0/27 [00:00<?, ?batch/s]"
      ]
     },
     "metadata": {},
     "output_type": "display_data"
    },
    {
     "data": {
      "application/vnd.jupyter.widget-view+json": {
       "model_id": "a556d87bd60e4c23a32e780f13b7dff9",
       "version_major": 2,
       "version_minor": 0
      },
      "text/plain": [
       "Epoch 485/2000:   0%|          | 0/27 [00:00<?, ?batch/s]"
      ]
     },
     "metadata": {},
     "output_type": "display_data"
    },
    {
     "data": {
      "application/vnd.jupyter.widget-view+json": {
       "model_id": "91e6548f9aa9441fa400f9604465aa24",
       "version_major": 2,
       "version_minor": 0
      },
      "text/plain": [
       "Epoch 486/2000:   0%|          | 0/27 [00:00<?, ?batch/s]"
      ]
     },
     "metadata": {},
     "output_type": "display_data"
    },
    {
     "data": {
      "application/vnd.jupyter.widget-view+json": {
       "model_id": "9257e5715d4c410ea70befc16cea21d0",
       "version_major": 2,
       "version_minor": 0
      },
      "text/plain": [
       "Epoch 487/2000:   0%|          | 0/27 [00:00<?, ?batch/s]"
      ]
     },
     "metadata": {},
     "output_type": "display_data"
    },
    {
     "data": {
      "application/vnd.jupyter.widget-view+json": {
       "model_id": "f44f209c9aa84a3cae8f1b9db23e1c7c",
       "version_major": 2,
       "version_minor": 0
      },
      "text/plain": [
       "Epoch 488/2000:   0%|          | 0/27 [00:00<?, ?batch/s]"
      ]
     },
     "metadata": {},
     "output_type": "display_data"
    },
    {
     "data": {
      "application/vnd.jupyter.widget-view+json": {
       "model_id": "efc878eb2093479c84b44a64ef1d0918",
       "version_major": 2,
       "version_minor": 0
      },
      "text/plain": [
       "Epoch 489/2000:   0%|          | 0/27 [00:00<?, ?batch/s]"
      ]
     },
     "metadata": {},
     "output_type": "display_data"
    },
    {
     "data": {
      "application/vnd.jupyter.widget-view+json": {
       "model_id": "280dfc47d5d9409ab6ce5c4810c31109",
       "version_major": 2,
       "version_minor": 0
      },
      "text/plain": [
       "Epoch 490/2000:   0%|          | 0/27 [00:00<?, ?batch/s]"
      ]
     },
     "metadata": {},
     "output_type": "display_data"
    },
    {
     "data": {
      "application/vnd.jupyter.widget-view+json": {
       "model_id": "e59885794b384ee2a0bf2d4d067e68fb",
       "version_major": 2,
       "version_minor": 0
      },
      "text/plain": [
       "Epoch 491/2000:   0%|          | 0/27 [00:00<?, ?batch/s]"
      ]
     },
     "metadata": {},
     "output_type": "display_data"
    },
    {
     "name": "stderr",
     "output_type": "stream",
     "text": [
      "IOPub message rate exceeded.\n",
      "The Jupyter server will temporarily stop sending output\n",
      "to the client in order to avoid crashing it.\n",
      "To change this limit, set the config variable\n",
      "`--ServerApp.iopub_msg_rate_limit`.\n",
      "\n",
      "Current values:\n",
      "ServerApp.iopub_msg_rate_limit=1000.0 (msgs/sec)\n",
      "ServerApp.rate_limit_window=3.0 (secs)\n",
      "\n"
     ]
    },
    {
     "data": {
      "application/vnd.jupyter.widget-view+json": {
       "model_id": "706c96e8b24540a7b0257c0c42328090",
       "version_major": 2,
       "version_minor": 0
      },
      "text/plain": [
       "Epoch 499/2000:   0%|          | 0/27 [00:00<?, ?batch/s]"
      ]
     },
     "metadata": {},
     "output_type": "display_data"
    },
    {
     "data": {
      "application/vnd.jupyter.widget-view+json": {
       "model_id": "1c1eb5f703364971bf6b9fc34ccc8e91",
       "version_major": 2,
       "version_minor": 0
      },
      "text/plain": [
       "Epoch 500/2000:   0%|          | 0/27 [00:00<?, ?batch/s]"
      ]
     },
     "metadata": {},
     "output_type": "display_data"
    },
    {
     "data": {
      "application/vnd.jupyter.widget-view+json": {
       "model_id": "fb30f24f1f014dfebab185d5f2bea456",
       "version_major": 2,
       "version_minor": 0
      },
      "text/plain": [
       "Epoch 501/2000:   0%|          | 0/27 [00:00<?, ?batch/s]"
      ]
     },
     "metadata": {},
     "output_type": "display_data"
    },
    {
     "data": {
      "application/vnd.jupyter.widget-view+json": {
       "model_id": "5831ce5ce4c44eb08bc3c560a93ce3e6",
       "version_major": 2,
       "version_minor": 0
      },
      "text/plain": [
       "Epoch 502/2000:   0%|          | 0/27 [00:00<?, ?batch/s]"
      ]
     },
     "metadata": {},
     "output_type": "display_data"
    },
    {
     "data": {
      "application/vnd.jupyter.widget-view+json": {
       "model_id": "cf1b1485fe3241bb85adff999352f486",
       "version_major": 2,
       "version_minor": 0
      },
      "text/plain": [
       "Epoch 503/2000:   0%|          | 0/27 [00:00<?, ?batch/s]"
      ]
     },
     "metadata": {},
     "output_type": "display_data"
    },
    {
     "data": {
      "application/vnd.jupyter.widget-view+json": {
       "model_id": "5193f9673d1b45b294eaba12c09711cf",
       "version_major": 2,
       "version_minor": 0
      },
      "text/plain": [
       "Epoch 504/2000:   0%|          | 0/27 [00:00<?, ?batch/s]"
      ]
     },
     "metadata": {},
     "output_type": "display_data"
    },
    {
     "data": {
      "application/vnd.jupyter.widget-view+json": {
       "model_id": "8a748b91d7fc4b9b83dde9b7f9444b1a",
       "version_major": 2,
       "version_minor": 0
      },
      "text/plain": [
       "Epoch 505/2000:   0%|          | 0/27 [00:00<?, ?batch/s]"
      ]
     },
     "metadata": {},
     "output_type": "display_data"
    },
    {
     "data": {
      "application/vnd.jupyter.widget-view+json": {
       "model_id": "6af9a6ef2ac146729c25cccd629a1f68",
       "version_major": 2,
       "version_minor": 0
      },
      "text/plain": [
       "Epoch 506/2000:   0%|          | 0/27 [00:00<?, ?batch/s]"
      ]
     },
     "metadata": {},
     "output_type": "display_data"
    },
    {
     "data": {
      "application/vnd.jupyter.widget-view+json": {
       "model_id": "05ec958839034a6ebd9fd77a739702c5",
       "version_major": 2,
       "version_minor": 0
      },
      "text/plain": [
       "Epoch 507/2000:   0%|          | 0/27 [00:00<?, ?batch/s]"
      ]
     },
     "metadata": {},
     "output_type": "display_data"
    },
    {
     "data": {
      "application/vnd.jupyter.widget-view+json": {
       "model_id": "d3d802614238484fa6d8fbc0d93b14c2",
       "version_major": 2,
       "version_minor": 0
      },
      "text/plain": [
       "Epoch 508/2000:   0%|          | 0/27 [00:00<?, ?batch/s]"
      ]
     },
     "metadata": {},
     "output_type": "display_data"
    },
    {
     "data": {
      "application/vnd.jupyter.widget-view+json": {
       "model_id": "2c9512899a65406fb2bb03cdfe4fe830",
       "version_major": 2,
       "version_minor": 0
      },
      "text/plain": [
       "Epoch 509/2000:   0%|          | 0/27 [00:00<?, ?batch/s]"
      ]
     },
     "metadata": {},
     "output_type": "display_data"
    },
    {
     "data": {
      "application/vnd.jupyter.widget-view+json": {
       "model_id": "0f5a9260e332466198d699f46025287a",
       "version_major": 2,
       "version_minor": 0
      },
      "text/plain": [
       "Epoch 510/2000:   0%|          | 0/27 [00:00<?, ?batch/s]"
      ]
     },
     "metadata": {},
     "output_type": "display_data"
    },
    {
     "data": {
      "application/vnd.jupyter.widget-view+json": {
       "model_id": "70799e289bda4698a4eb23c235e3e4be",
       "version_major": 2,
       "version_minor": 0
      },
      "text/plain": [
       "Epoch 511/2000:   0%|          | 0/27 [00:00<?, ?batch/s]"
      ]
     },
     "metadata": {},
     "output_type": "display_data"
    },
    {
     "data": {
      "application/vnd.jupyter.widget-view+json": {
       "model_id": "2b0e859211f14385a3d5a3ccf1f97681",
       "version_major": 2,
       "version_minor": 0
      },
      "text/plain": [
       "Epoch 512/2000:   0%|          | 0/27 [00:00<?, ?batch/s]"
      ]
     },
     "metadata": {},
     "output_type": "display_data"
    },
    {
     "data": {
      "application/vnd.jupyter.widget-view+json": {
       "model_id": "24050f87fa584c4f82f1d1170da8758c",
       "version_major": 2,
       "version_minor": 0
      },
      "text/plain": [
       "Epoch 513/2000:   0%|          | 0/27 [00:00<?, ?batch/s]"
      ]
     },
     "metadata": {},
     "output_type": "display_data"
    },
    {
     "data": {
      "application/vnd.jupyter.widget-view+json": {
       "model_id": "44ffa490d73d4c57b6f54d05f88bcd21",
       "version_major": 2,
       "version_minor": 0
      },
      "text/plain": [
       "Epoch 514/2000:   0%|          | 0/27 [00:00<?, ?batch/s]"
      ]
     },
     "metadata": {},
     "output_type": "display_data"
    },
    {
     "data": {
      "application/vnd.jupyter.widget-view+json": {
       "model_id": "8339139c9aeb47a7923a5addd1099650",
       "version_major": 2,
       "version_minor": 0
      },
      "text/plain": [
       "Epoch 515/2000:   0%|          | 0/27 [00:00<?, ?batch/s]"
      ]
     },
     "metadata": {},
     "output_type": "display_data"
    },
    {
     "data": {
      "application/vnd.jupyter.widget-view+json": {
       "model_id": "7af1fcc4329249ed9b34f418ff692787",
       "version_major": 2,
       "version_minor": 0
      },
      "text/plain": [
       "Epoch 516/2000:   0%|          | 0/27 [00:00<?, ?batch/s]"
      ]
     },
     "metadata": {},
     "output_type": "display_data"
    },
    {
     "data": {
      "application/vnd.jupyter.widget-view+json": {
       "model_id": "2fe1a050d5684e698986ab294e2959ac",
       "version_major": 2,
       "version_minor": 0
      },
      "text/plain": [
       "Epoch 517/2000:   0%|          | 0/27 [00:00<?, ?batch/s]"
      ]
     },
     "metadata": {},
     "output_type": "display_data"
    },
    {
     "data": {
      "application/vnd.jupyter.widget-view+json": {
       "model_id": "290a08d5b88a471fa6f6598a55e0b0ce",
       "version_major": 2,
       "version_minor": 0
      },
      "text/plain": [
       "Epoch 518/2000:   0%|          | 0/27 [00:00<?, ?batch/s]"
      ]
     },
     "metadata": {},
     "output_type": "display_data"
    },
    {
     "data": {
      "application/vnd.jupyter.widget-view+json": {
       "model_id": "e066436b37644c718859a0adfa14e7d5",
       "version_major": 2,
       "version_minor": 0
      },
      "text/plain": [
       "Epoch 519/2000:   0%|          | 0/27 [00:00<?, ?batch/s]"
      ]
     },
     "metadata": {},
     "output_type": "display_data"
    },
    {
     "data": {
      "application/vnd.jupyter.widget-view+json": {
       "model_id": "c81ab113128842ff90e83451dbb9809c",
       "version_major": 2,
       "version_minor": 0
      },
      "text/plain": [
       "Epoch 520/2000:   0%|          | 0/27 [00:00<?, ?batch/s]"
      ]
     },
     "metadata": {},
     "output_type": "display_data"
    },
    {
     "data": {
      "application/vnd.jupyter.widget-view+json": {
       "model_id": "5601b828d4c647728142c1d290047de5",
       "version_major": 2,
       "version_minor": 0
      },
      "text/plain": [
       "Epoch 521/2000:   0%|          | 0/27 [00:00<?, ?batch/s]"
      ]
     },
     "metadata": {},
     "output_type": "display_data"
    },
    {
     "data": {
      "application/vnd.jupyter.widget-view+json": {
       "model_id": "c43c2093ea7f46c4a91171eb8315e424",
       "version_major": 2,
       "version_minor": 0
      },
      "text/plain": [
       "Epoch 522/2000:   0%|          | 0/27 [00:00<?, ?batch/s]"
      ]
     },
     "metadata": {},
     "output_type": "display_data"
    },
    {
     "data": {
      "application/vnd.jupyter.widget-view+json": {
       "model_id": "64ad5bd253884faa8bd741f63f4e455b",
       "version_major": 2,
       "version_minor": 0
      },
      "text/plain": [
       "Epoch 523/2000:   0%|          | 0/27 [00:00<?, ?batch/s]"
      ]
     },
     "metadata": {},
     "output_type": "display_data"
    },
    {
     "data": {
      "application/vnd.jupyter.widget-view+json": {
       "model_id": "ec8c7c05826144c5a15139bc3c68b984",
       "version_major": 2,
       "version_minor": 0
      },
      "text/plain": [
       "Epoch 524/2000:   0%|          | 0/27 [00:00<?, ?batch/s]"
      ]
     },
     "metadata": {},
     "output_type": "display_data"
    },
    {
     "data": {
      "application/vnd.jupyter.widget-view+json": {
       "model_id": "184c98ddbc364d48a13bd7bf0a4a7157",
       "version_major": 2,
       "version_minor": 0
      },
      "text/plain": [
       "Epoch 525/2000:   0%|          | 0/27 [00:00<?, ?batch/s]"
      ]
     },
     "metadata": {},
     "output_type": "display_data"
    },
    {
     "data": {
      "application/vnd.jupyter.widget-view+json": {
       "model_id": "6c542173b18343d18d23ab9dcc89a281",
       "version_major": 2,
       "version_minor": 0
      },
      "text/plain": [
       "Epoch 526/2000:   0%|          | 0/27 [00:00<?, ?batch/s]"
      ]
     },
     "metadata": {},
     "output_type": "display_data"
    },
    {
     "data": {
      "application/vnd.jupyter.widget-view+json": {
       "model_id": "3cf7f4177acd4786bee3383088bd5f83",
       "version_major": 2,
       "version_minor": 0
      },
      "text/plain": [
       "Epoch 527/2000:   0%|          | 0/27 [00:00<?, ?batch/s]"
      ]
     },
     "metadata": {},
     "output_type": "display_data"
    },
    {
     "data": {
      "application/vnd.jupyter.widget-view+json": {
       "model_id": "dc9c21b3f2394185b85d6aba6c91725d",
       "version_major": 2,
       "version_minor": 0
      },
      "text/plain": [
       "Epoch 528/2000:   0%|          | 0/27 [00:00<?, ?batch/s]"
      ]
     },
     "metadata": {},
     "output_type": "display_data"
    },
    {
     "data": {
      "application/vnd.jupyter.widget-view+json": {
       "model_id": "eb6eff1d0cff494285098b301ddc989c",
       "version_major": 2,
       "version_minor": 0
      },
      "text/plain": [
       "Epoch 529/2000:   0%|          | 0/27 [00:00<?, ?batch/s]"
      ]
     },
     "metadata": {},
     "output_type": "display_data"
    },
    {
     "data": {
      "application/vnd.jupyter.widget-view+json": {
       "model_id": "75009f8a302347b3b319715a345c9d0c",
       "version_major": 2,
       "version_minor": 0
      },
      "text/plain": [
       "Epoch 530/2000:   0%|          | 0/27 [00:00<?, ?batch/s]"
      ]
     },
     "metadata": {},
     "output_type": "display_data"
    },
    {
     "data": {
      "application/vnd.jupyter.widget-view+json": {
       "model_id": "eeb9df775b8548b48ed964cd30a6f98a",
       "version_major": 2,
       "version_minor": 0
      },
      "text/plain": [
       "Epoch 531/2000:   0%|          | 0/27 [00:00<?, ?batch/s]"
      ]
     },
     "metadata": {},
     "output_type": "display_data"
    },
    {
     "data": {
      "application/vnd.jupyter.widget-view+json": {
       "model_id": "b4a13d3bf43a45039461c7a495d9f8f1",
       "version_major": 2,
       "version_minor": 0
      },
      "text/plain": [
       "Epoch 532/2000:   0%|          | 0/27 [00:00<?, ?batch/s]"
      ]
     },
     "metadata": {},
     "output_type": "display_data"
    },
    {
     "data": {
      "application/vnd.jupyter.widget-view+json": {
       "model_id": "3c0850987476485d8aee2521b36748b4",
       "version_major": 2,
       "version_minor": 0
      },
      "text/plain": [
       "Epoch 533/2000:   0%|          | 0/27 [00:00<?, ?batch/s]"
      ]
     },
     "metadata": {},
     "output_type": "display_data"
    },
    {
     "data": {
      "application/vnd.jupyter.widget-view+json": {
       "model_id": "dc66ae6cf7644c219893963ee34cc2f8",
       "version_major": 2,
       "version_minor": 0
      },
      "text/plain": [
       "Epoch 534/2000:   0%|          | 0/27 [00:00<?, ?batch/s]"
      ]
     },
     "metadata": {},
     "output_type": "display_data"
    },
    {
     "data": {
      "application/vnd.jupyter.widget-view+json": {
       "model_id": "3dc909f52a6e40beb192b988c76ae223",
       "version_major": 2,
       "version_minor": 0
      },
      "text/plain": [
       "Epoch 535/2000:   0%|          | 0/27 [00:00<?, ?batch/s]"
      ]
     },
     "metadata": {},
     "output_type": "display_data"
    },
    {
     "data": {
      "application/vnd.jupyter.widget-view+json": {
       "model_id": "ae16d406ca6841778795372c7e323c63",
       "version_major": 2,
       "version_minor": 0
      },
      "text/plain": [
       "Epoch 536/2000:   0%|          | 0/27 [00:00<?, ?batch/s]"
      ]
     },
     "metadata": {},
     "output_type": "display_data"
    },
    {
     "data": {
      "application/vnd.jupyter.widget-view+json": {
       "model_id": "3541860008704d9b9cc771c7fbaed8a1",
       "version_major": 2,
       "version_minor": 0
      },
      "text/plain": [
       "Epoch 537/2000:   0%|          | 0/27 [00:00<?, ?batch/s]"
      ]
     },
     "metadata": {},
     "output_type": "display_data"
    },
    {
     "data": {
      "application/vnd.jupyter.widget-view+json": {
       "model_id": "28fc5b00606f4ec5a134b87c019d0198",
       "version_major": 2,
       "version_minor": 0
      },
      "text/plain": [
       "Epoch 538/2000:   0%|          | 0/27 [00:00<?, ?batch/s]"
      ]
     },
     "metadata": {},
     "output_type": "display_data"
    },
    {
     "data": {
      "application/vnd.jupyter.widget-view+json": {
       "model_id": "100d3cd02c114a5799d8697ed2d667f5",
       "version_major": 2,
       "version_minor": 0
      },
      "text/plain": [
       "Epoch 539/2000:   0%|          | 0/27 [00:00<?, ?batch/s]"
      ]
     },
     "metadata": {},
     "output_type": "display_data"
    },
    {
     "data": {
      "application/vnd.jupyter.widget-view+json": {
       "model_id": "a92c4a20585443829770aedd61adf46e",
       "version_major": 2,
       "version_minor": 0
      },
      "text/plain": [
       "Epoch 540/2000:   0%|          | 0/27 [00:00<?, ?batch/s]"
      ]
     },
     "metadata": {},
     "output_type": "display_data"
    },
    {
     "data": {
      "application/vnd.jupyter.widget-view+json": {
       "model_id": "4889961e59ec4121a4e7b41fa5b7fc7e",
       "version_major": 2,
       "version_minor": 0
      },
      "text/plain": [
       "Epoch 541/2000:   0%|          | 0/27 [00:00<?, ?batch/s]"
      ]
     },
     "metadata": {},
     "output_type": "display_data"
    },
    {
     "data": {
      "application/vnd.jupyter.widget-view+json": {
       "model_id": "eb454e79105a4025854d033db2b18044",
       "version_major": 2,
       "version_minor": 0
      },
      "text/plain": [
       "Epoch 542/2000:   0%|          | 0/27 [00:00<?, ?batch/s]"
      ]
     },
     "metadata": {},
     "output_type": "display_data"
    },
    {
     "data": {
      "application/vnd.jupyter.widget-view+json": {
       "model_id": "ba4847654f00491b9b7372032358e79f",
       "version_major": 2,
       "version_minor": 0
      },
      "text/plain": [
       "Epoch 543/2000:   0%|          | 0/27 [00:00<?, ?batch/s]"
      ]
     },
     "metadata": {},
     "output_type": "display_data"
    },
    {
     "data": {
      "application/vnd.jupyter.widget-view+json": {
       "model_id": "2431452bde1947aeb023840dd7fa935c",
       "version_major": 2,
       "version_minor": 0
      },
      "text/plain": [
       "Epoch 544/2000:   0%|          | 0/27 [00:00<?, ?batch/s]"
      ]
     },
     "metadata": {},
     "output_type": "display_data"
    },
    {
     "data": {
      "application/vnd.jupyter.widget-view+json": {
       "model_id": "a0ca1a7373fb4fcf81ca219ac968c46e",
       "version_major": 2,
       "version_minor": 0
      },
      "text/plain": [
       "Epoch 545/2000:   0%|          | 0/27 [00:00<?, ?batch/s]"
      ]
     },
     "metadata": {},
     "output_type": "display_data"
    },
    {
     "data": {
      "application/vnd.jupyter.widget-view+json": {
       "model_id": "e24c2f07c78443f09a5c4be2811816c8",
       "version_major": 2,
       "version_minor": 0
      },
      "text/plain": [
       "Epoch 546/2000:   0%|          | 0/27 [00:00<?, ?batch/s]"
      ]
     },
     "metadata": {},
     "output_type": "display_data"
    },
    {
     "data": {
      "application/vnd.jupyter.widget-view+json": {
       "model_id": "f6ec6ad68a0b453b813fc26adeac9ad9",
       "version_major": 2,
       "version_minor": 0
      },
      "text/plain": [
       "Epoch 547/2000:   0%|          | 0/27 [00:00<?, ?batch/s]"
      ]
     },
     "metadata": {},
     "output_type": "display_data"
    },
    {
     "data": {
      "application/vnd.jupyter.widget-view+json": {
       "model_id": "38a75cea169f4c7ab2d58146c3dd886b",
       "version_major": 2,
       "version_minor": 0
      },
      "text/plain": [
       "Epoch 548/2000:   0%|          | 0/27 [00:00<?, ?batch/s]"
      ]
     },
     "metadata": {},
     "output_type": "display_data"
    },
    {
     "name": "stderr",
     "output_type": "stream",
     "text": [
      "IOPub message rate exceeded.\n",
      "The Jupyter server will temporarily stop sending output\n",
      "to the client in order to avoid crashing it.\n",
      "To change this limit, set the config variable\n",
      "`--ServerApp.iopub_msg_rate_limit`.\n",
      "\n",
      "Current values:\n",
      "ServerApp.iopub_msg_rate_limit=1000.0 (msgs/sec)\n",
      "ServerApp.rate_limit_window=3.0 (secs)\n",
      "\n"
     ]
    },
    {
     "data": {
      "application/vnd.jupyter.widget-view+json": {
       "model_id": "4fd7d4a013c142ad9e86b8b768ea2b7f",
       "version_major": 2,
       "version_minor": 0
      },
      "text/plain": [
       "Epoch 556/2000:   0%|          | 0/27 [00:00<?, ?batch/s]"
      ]
     },
     "metadata": {},
     "output_type": "display_data"
    },
    {
     "data": {
      "application/vnd.jupyter.widget-view+json": {
       "model_id": "83aa130d15bc48418b11534d86fbffec",
       "version_major": 2,
       "version_minor": 0
      },
      "text/plain": [
       "Epoch 557/2000:   0%|          | 0/27 [00:00<?, ?batch/s]"
      ]
     },
     "metadata": {},
     "output_type": "display_data"
    },
    {
     "data": {
      "application/vnd.jupyter.widget-view+json": {
       "model_id": "99456556f4b049348d90739f6ad5a78e",
       "version_major": 2,
       "version_minor": 0
      },
      "text/plain": [
       "Epoch 558/2000:   0%|          | 0/27 [00:00<?, ?batch/s]"
      ]
     },
     "metadata": {},
     "output_type": "display_data"
    },
    {
     "data": {
      "application/vnd.jupyter.widget-view+json": {
       "model_id": "a707a6088b4145d3ad8b6bfd3f617f6d",
       "version_major": 2,
       "version_minor": 0
      },
      "text/plain": [
       "Epoch 559/2000:   0%|          | 0/27 [00:00<?, ?batch/s]"
      ]
     },
     "metadata": {},
     "output_type": "display_data"
    },
    {
     "data": {
      "application/vnd.jupyter.widget-view+json": {
       "model_id": "6e379fae98f24dbab48301623606e393",
       "version_major": 2,
       "version_minor": 0
      },
      "text/plain": [
       "Epoch 560/2000:   0%|          | 0/27 [00:00<?, ?batch/s]"
      ]
     },
     "metadata": {},
     "output_type": "display_data"
    },
    {
     "data": {
      "application/vnd.jupyter.widget-view+json": {
       "model_id": "6b45d2229aad4d9dae9af2db46f63fd6",
       "version_major": 2,
       "version_minor": 0
      },
      "text/plain": [
       "Epoch 561/2000:   0%|          | 0/27 [00:00<?, ?batch/s]"
      ]
     },
     "metadata": {},
     "output_type": "display_data"
    },
    {
     "data": {
      "application/vnd.jupyter.widget-view+json": {
       "model_id": "7de0fd658ad84111a5a681f1066a9c81",
       "version_major": 2,
       "version_minor": 0
      },
      "text/plain": [
       "Epoch 562/2000:   0%|          | 0/27 [00:00<?, ?batch/s]"
      ]
     },
     "metadata": {},
     "output_type": "display_data"
    },
    {
     "data": {
      "application/vnd.jupyter.widget-view+json": {
       "model_id": "5167f7684af54532ad6637ffe6b88167",
       "version_major": 2,
       "version_minor": 0
      },
      "text/plain": [
       "Epoch 563/2000:   0%|          | 0/27 [00:00<?, ?batch/s]"
      ]
     },
     "metadata": {},
     "output_type": "display_data"
    },
    {
     "data": {
      "application/vnd.jupyter.widget-view+json": {
       "model_id": "7879969d29c74889a82ffa500f3104f7",
       "version_major": 2,
       "version_minor": 0
      },
      "text/plain": [
       "Epoch 564/2000:   0%|          | 0/27 [00:00<?, ?batch/s]"
      ]
     },
     "metadata": {},
     "output_type": "display_data"
    },
    {
     "data": {
      "application/vnd.jupyter.widget-view+json": {
       "model_id": "12e35193b4324f309d5135254002cf27",
       "version_major": 2,
       "version_minor": 0
      },
      "text/plain": [
       "Epoch 565/2000:   0%|          | 0/27 [00:00<?, ?batch/s]"
      ]
     },
     "metadata": {},
     "output_type": "display_data"
    },
    {
     "data": {
      "application/vnd.jupyter.widget-view+json": {
       "model_id": "3a872a6982df4338a05084d28d88d47e",
       "version_major": 2,
       "version_minor": 0
      },
      "text/plain": [
       "Epoch 566/2000:   0%|          | 0/27 [00:00<?, ?batch/s]"
      ]
     },
     "metadata": {},
     "output_type": "display_data"
    },
    {
     "data": {
      "application/vnd.jupyter.widget-view+json": {
       "model_id": "6c84097c464d459abe3881b5953f1dd8",
       "version_major": 2,
       "version_minor": 0
      },
      "text/plain": [
       "Epoch 567/2000:   0%|          | 0/27 [00:00<?, ?batch/s]"
      ]
     },
     "metadata": {},
     "output_type": "display_data"
    },
    {
     "data": {
      "application/vnd.jupyter.widget-view+json": {
       "model_id": "47ee7d44cd8c48f8879b7d5a7aa457ca",
       "version_major": 2,
       "version_minor": 0
      },
      "text/plain": [
       "Epoch 568/2000:   0%|          | 0/27 [00:00<?, ?batch/s]"
      ]
     },
     "metadata": {},
     "output_type": "display_data"
    },
    {
     "data": {
      "application/vnd.jupyter.widget-view+json": {
       "model_id": "9634dd42331043e087ced3cb62f9f5dd",
       "version_major": 2,
       "version_minor": 0
      },
      "text/plain": [
       "Epoch 569/2000:   0%|          | 0/27 [00:00<?, ?batch/s]"
      ]
     },
     "metadata": {},
     "output_type": "display_data"
    },
    {
     "data": {
      "application/vnd.jupyter.widget-view+json": {
       "model_id": "08e53cc5f3a14f60920fb419de0fc28f",
       "version_major": 2,
       "version_minor": 0
      },
      "text/plain": [
       "Epoch 570/2000:   0%|          | 0/27 [00:00<?, ?batch/s]"
      ]
     },
     "metadata": {},
     "output_type": "display_data"
    },
    {
     "data": {
      "application/vnd.jupyter.widget-view+json": {
       "model_id": "5be487b9092f46ccaeb95f662e246998",
       "version_major": 2,
       "version_minor": 0
      },
      "text/plain": [
       "Epoch 571/2000:   0%|          | 0/27 [00:00<?, ?batch/s]"
      ]
     },
     "metadata": {},
     "output_type": "display_data"
    },
    {
     "data": {
      "application/vnd.jupyter.widget-view+json": {
       "model_id": "f213608278a3495683fec2a326c4884c",
       "version_major": 2,
       "version_minor": 0
      },
      "text/plain": [
       "Epoch 572/2000:   0%|          | 0/27 [00:00<?, ?batch/s]"
      ]
     },
     "metadata": {},
     "output_type": "display_data"
    },
    {
     "data": {
      "application/vnd.jupyter.widget-view+json": {
       "model_id": "3c5603a5523548cf8445cf500ab2ecad",
       "version_major": 2,
       "version_minor": 0
      },
      "text/plain": [
       "Epoch 573/2000:   0%|          | 0/27 [00:00<?, ?batch/s]"
      ]
     },
     "metadata": {},
     "output_type": "display_data"
    },
    {
     "data": {
      "application/vnd.jupyter.widget-view+json": {
       "model_id": "d7761a465ba84f7a9f2f66b49d2ac2da",
       "version_major": 2,
       "version_minor": 0
      },
      "text/plain": [
       "Epoch 574/2000:   0%|          | 0/27 [00:00<?, ?batch/s]"
      ]
     },
     "metadata": {},
     "output_type": "display_data"
    },
    {
     "data": {
      "application/vnd.jupyter.widget-view+json": {
       "model_id": "d7c3d4ebcc7d41ce8556d2b3fcecbbd4",
       "version_major": 2,
       "version_minor": 0
      },
      "text/plain": [
       "Epoch 575/2000:   0%|          | 0/27 [00:00<?, ?batch/s]"
      ]
     },
     "metadata": {},
     "output_type": "display_data"
    },
    {
     "data": {
      "application/vnd.jupyter.widget-view+json": {
       "model_id": "66ab8b67988845b29a42b585a8f97c47",
       "version_major": 2,
       "version_minor": 0
      },
      "text/plain": [
       "Epoch 576/2000:   0%|          | 0/27 [00:00<?, ?batch/s]"
      ]
     },
     "metadata": {},
     "output_type": "display_data"
    },
    {
     "data": {
      "application/vnd.jupyter.widget-view+json": {
       "model_id": "f8db3f1cc7ae4631b344f2809657c7a8",
       "version_major": 2,
       "version_minor": 0
      },
      "text/plain": [
       "Epoch 577/2000:   0%|          | 0/27 [00:00<?, ?batch/s]"
      ]
     },
     "metadata": {},
     "output_type": "display_data"
    },
    {
     "data": {
      "application/vnd.jupyter.widget-view+json": {
       "model_id": "97c8cf5867a04583b723634daac097b3",
       "version_major": 2,
       "version_minor": 0
      },
      "text/plain": [
       "Epoch 578/2000:   0%|          | 0/27 [00:00<?, ?batch/s]"
      ]
     },
     "metadata": {},
     "output_type": "display_data"
    },
    {
     "data": {
      "application/vnd.jupyter.widget-view+json": {
       "model_id": "fee27420616342f8bd89e443fd1af353",
       "version_major": 2,
       "version_minor": 0
      },
      "text/plain": [
       "Epoch 579/2000:   0%|          | 0/27 [00:00<?, ?batch/s]"
      ]
     },
     "metadata": {},
     "output_type": "display_data"
    },
    {
     "data": {
      "application/vnd.jupyter.widget-view+json": {
       "model_id": "4a8d60137956478b9bb34225d710eedc",
       "version_major": 2,
       "version_minor": 0
      },
      "text/plain": [
       "Epoch 580/2000:   0%|          | 0/27 [00:00<?, ?batch/s]"
      ]
     },
     "metadata": {},
     "output_type": "display_data"
    },
    {
     "data": {
      "application/vnd.jupyter.widget-view+json": {
       "model_id": "d095fcba6731461cb1a608029440f099",
       "version_major": 2,
       "version_minor": 0
      },
      "text/plain": [
       "Epoch 581/2000:   0%|          | 0/27 [00:00<?, ?batch/s]"
      ]
     },
     "metadata": {},
     "output_type": "display_data"
    },
    {
     "data": {
      "application/vnd.jupyter.widget-view+json": {
       "model_id": "c105e5629b5b4e76a8771ea08830d805",
       "version_major": 2,
       "version_minor": 0
      },
      "text/plain": [
       "Epoch 582/2000:   0%|          | 0/27 [00:00<?, ?batch/s]"
      ]
     },
     "metadata": {},
     "output_type": "display_data"
    },
    {
     "data": {
      "application/vnd.jupyter.widget-view+json": {
       "model_id": "7604e52e16c74756a13623387f2fb30c",
       "version_major": 2,
       "version_minor": 0
      },
      "text/plain": [
       "Epoch 583/2000:   0%|          | 0/27 [00:00<?, ?batch/s]"
      ]
     },
     "metadata": {},
     "output_type": "display_data"
    },
    {
     "data": {
      "application/vnd.jupyter.widget-view+json": {
       "model_id": "28aeee4eca42478b80c290cf70119129",
       "version_major": 2,
       "version_minor": 0
      },
      "text/plain": [
       "Epoch 584/2000:   0%|          | 0/27 [00:00<?, ?batch/s]"
      ]
     },
     "metadata": {},
     "output_type": "display_data"
    },
    {
     "data": {
      "application/vnd.jupyter.widget-view+json": {
       "model_id": "45cfe376cbd3417b998313b6b6433957",
       "version_major": 2,
       "version_minor": 0
      },
      "text/plain": [
       "Epoch 585/2000:   0%|          | 0/27 [00:00<?, ?batch/s]"
      ]
     },
     "metadata": {},
     "output_type": "display_data"
    },
    {
     "data": {
      "application/vnd.jupyter.widget-view+json": {
       "model_id": "1c3ef5d8d2564c6a8a08ebe6ee46bfb0",
       "version_major": 2,
       "version_minor": 0
      },
      "text/plain": [
       "Epoch 586/2000:   0%|          | 0/27 [00:00<?, ?batch/s]"
      ]
     },
     "metadata": {},
     "output_type": "display_data"
    },
    {
     "data": {
      "application/vnd.jupyter.widget-view+json": {
       "model_id": "ff1df8926e5a4080a97a450b3f77ce84",
       "version_major": 2,
       "version_minor": 0
      },
      "text/plain": [
       "Epoch 587/2000:   0%|          | 0/27 [00:00<?, ?batch/s]"
      ]
     },
     "metadata": {},
     "output_type": "display_data"
    },
    {
     "data": {
      "application/vnd.jupyter.widget-view+json": {
       "model_id": "5c211b55a5ff4b94a0fa300543fcab70",
       "version_major": 2,
       "version_minor": 0
      },
      "text/plain": [
       "Epoch 588/2000:   0%|          | 0/27 [00:00<?, ?batch/s]"
      ]
     },
     "metadata": {},
     "output_type": "display_data"
    },
    {
     "data": {
      "application/vnd.jupyter.widget-view+json": {
       "model_id": "412e5b99223449a4afe90b56a19584d6",
       "version_major": 2,
       "version_minor": 0
      },
      "text/plain": [
       "Epoch 589/2000:   0%|          | 0/27 [00:00<?, ?batch/s]"
      ]
     },
     "metadata": {},
     "output_type": "display_data"
    },
    {
     "data": {
      "application/vnd.jupyter.widget-view+json": {
       "model_id": "d1d391d098844e3fb89d7b05a9dfb260",
       "version_major": 2,
       "version_minor": 0
      },
      "text/plain": [
       "Epoch 590/2000:   0%|          | 0/27 [00:00<?, ?batch/s]"
      ]
     },
     "metadata": {},
     "output_type": "display_data"
    },
    {
     "name": "stderr",
     "output_type": "stream",
     "text": [
      "IOPub message rate exceeded.\n",
      "The Jupyter server will temporarily stop sending output\n",
      "to the client in order to avoid crashing it.\n",
      "To change this limit, set the config variable\n",
      "`--ServerApp.iopub_msg_rate_limit`.\n",
      "\n",
      "Current values:\n",
      "ServerApp.iopub_msg_rate_limit=1000.0 (msgs/sec)\n",
      "ServerApp.rate_limit_window=3.0 (secs)\n",
      "\n"
     ]
    },
    {
     "data": {
      "application/vnd.jupyter.widget-view+json": {
       "model_id": "76879b182be541c5a01458a4cb27a2c9",
       "version_major": 2,
       "version_minor": 0
      },
      "text/plain": [
       "Epoch 599/2000:   0%|          | 0/27 [00:00<?, ?batch/s]"
      ]
     },
     "metadata": {},
     "output_type": "display_data"
    },
    {
     "data": {
      "application/vnd.jupyter.widget-view+json": {
       "model_id": "ea4a464716034465afbdba7f2c55341a",
       "version_major": 2,
       "version_minor": 0
      },
      "text/plain": [
       "Epoch 600/2000:   0%|          | 0/27 [00:00<?, ?batch/s]"
      ]
     },
     "metadata": {},
     "output_type": "display_data"
    },
    {
     "data": {
      "application/vnd.jupyter.widget-view+json": {
       "model_id": "182221cf12aa4f889c42678cc17f547a",
       "version_major": 2,
       "version_minor": 0
      },
      "text/plain": [
       "Epoch 601/2000:   0%|          | 0/27 [00:00<?, ?batch/s]"
      ]
     },
     "metadata": {},
     "output_type": "display_data"
    },
    {
     "data": {
      "application/vnd.jupyter.widget-view+json": {
       "model_id": "820d27dcab0244f7bbd4f29d5a67397c",
       "version_major": 2,
       "version_minor": 0
      },
      "text/plain": [
       "Epoch 602/2000:   0%|          | 0/27 [00:00<?, ?batch/s]"
      ]
     },
     "metadata": {},
     "output_type": "display_data"
    },
    {
     "data": {
      "application/vnd.jupyter.widget-view+json": {
       "model_id": "414ac6c83dad40e1b1214249a3928fc9",
       "version_major": 2,
       "version_minor": 0
      },
      "text/plain": [
       "Epoch 603/2000:   0%|          | 0/27 [00:00<?, ?batch/s]"
      ]
     },
     "metadata": {},
     "output_type": "display_data"
    },
    {
     "data": {
      "application/vnd.jupyter.widget-view+json": {
       "model_id": "6ee116b86edc4205afe44d988569a1ce",
       "version_major": 2,
       "version_minor": 0
      },
      "text/plain": [
       "Epoch 604/2000:   0%|          | 0/27 [00:00<?, ?batch/s]"
      ]
     },
     "metadata": {},
     "output_type": "display_data"
    },
    {
     "data": {
      "application/vnd.jupyter.widget-view+json": {
       "model_id": "c40643dd03b845a48b19d0152c9f69d2",
       "version_major": 2,
       "version_minor": 0
      },
      "text/plain": [
       "Epoch 605/2000:   0%|          | 0/27 [00:00<?, ?batch/s]"
      ]
     },
     "metadata": {},
     "output_type": "display_data"
    },
    {
     "data": {
      "application/vnd.jupyter.widget-view+json": {
       "model_id": "e4bdc4c9aa4146e2b675c6ec14aba985",
       "version_major": 2,
       "version_minor": 0
      },
      "text/plain": [
       "Epoch 606/2000:   0%|          | 0/27 [00:00<?, ?batch/s]"
      ]
     },
     "metadata": {},
     "output_type": "display_data"
    },
    {
     "data": {
      "application/vnd.jupyter.widget-view+json": {
       "model_id": "8b057a205af94db391f1ab54bc9f0249",
       "version_major": 2,
       "version_minor": 0
      },
      "text/plain": [
       "Epoch 607/2000:   0%|          | 0/27 [00:00<?, ?batch/s]"
      ]
     },
     "metadata": {},
     "output_type": "display_data"
    },
    {
     "data": {
      "application/vnd.jupyter.widget-view+json": {
       "model_id": "82d09c78fbed420e93577cfc1286b72f",
       "version_major": 2,
       "version_minor": 0
      },
      "text/plain": [
       "Epoch 608/2000:   0%|          | 0/27 [00:00<?, ?batch/s]"
      ]
     },
     "metadata": {},
     "output_type": "display_data"
    },
    {
     "data": {
      "application/vnd.jupyter.widget-view+json": {
       "model_id": "e3f8d6f98e3147a4ab67f280c72a4850",
       "version_major": 2,
       "version_minor": 0
      },
      "text/plain": [
       "Epoch 609/2000:   0%|          | 0/27 [00:00<?, ?batch/s]"
      ]
     },
     "metadata": {},
     "output_type": "display_data"
    },
    {
     "data": {
      "application/vnd.jupyter.widget-view+json": {
       "model_id": "7421ba24b91845d2a7d05d1b19a19062",
       "version_major": 2,
       "version_minor": 0
      },
      "text/plain": [
       "Epoch 610/2000:   0%|          | 0/27 [00:00<?, ?batch/s]"
      ]
     },
     "metadata": {},
     "output_type": "display_data"
    },
    {
     "data": {
      "application/vnd.jupyter.widget-view+json": {
       "model_id": "844bace940c149c0a8f62b74a82ecfcc",
       "version_major": 2,
       "version_minor": 0
      },
      "text/plain": [
       "Epoch 611/2000:   0%|          | 0/27 [00:00<?, ?batch/s]"
      ]
     },
     "metadata": {},
     "output_type": "display_data"
    },
    {
     "data": {
      "application/vnd.jupyter.widget-view+json": {
       "model_id": "c1fe05c155c84530986c97dd26656b38",
       "version_major": 2,
       "version_minor": 0
      },
      "text/plain": [
       "Epoch 612/2000:   0%|          | 0/27 [00:00<?, ?batch/s]"
      ]
     },
     "metadata": {},
     "output_type": "display_data"
    },
    {
     "data": {
      "application/vnd.jupyter.widget-view+json": {
       "model_id": "7113f3b65f854bc3a4855ff900b81217",
       "version_major": 2,
       "version_minor": 0
      },
      "text/plain": [
       "Epoch 613/2000:   0%|          | 0/27 [00:00<?, ?batch/s]"
      ]
     },
     "metadata": {},
     "output_type": "display_data"
    },
    {
     "data": {
      "application/vnd.jupyter.widget-view+json": {
       "model_id": "40157aa04733432b8f05ad5e487a9452",
       "version_major": 2,
       "version_minor": 0
      },
      "text/plain": [
       "Epoch 614/2000:   0%|          | 0/27 [00:00<?, ?batch/s]"
      ]
     },
     "metadata": {},
     "output_type": "display_data"
    },
    {
     "data": {
      "application/vnd.jupyter.widget-view+json": {
       "model_id": "2c878ae559df48b990b23b7ab4334abf",
       "version_major": 2,
       "version_minor": 0
      },
      "text/plain": [
       "Epoch 615/2000:   0%|          | 0/27 [00:00<?, ?batch/s]"
      ]
     },
     "metadata": {},
     "output_type": "display_data"
    },
    {
     "data": {
      "application/vnd.jupyter.widget-view+json": {
       "model_id": "9561d9f494a34b2a8a0b51e5f0b257bc",
       "version_major": 2,
       "version_minor": 0
      },
      "text/plain": [
       "Epoch 616/2000:   0%|          | 0/27 [00:00<?, ?batch/s]"
      ]
     },
     "metadata": {},
     "output_type": "display_data"
    },
    {
     "data": {
      "application/vnd.jupyter.widget-view+json": {
       "model_id": "51cb8c4612f54aec8e4d37c710b3deef",
       "version_major": 2,
       "version_minor": 0
      },
      "text/plain": [
       "Epoch 617/2000:   0%|          | 0/27 [00:00<?, ?batch/s]"
      ]
     },
     "metadata": {},
     "output_type": "display_data"
    },
    {
     "data": {
      "application/vnd.jupyter.widget-view+json": {
       "model_id": "5bebbde6ef15417cae3cdfbc7a51c815",
       "version_major": 2,
       "version_minor": 0
      },
      "text/plain": [
       "Epoch 618/2000:   0%|          | 0/27 [00:00<?, ?batch/s]"
      ]
     },
     "metadata": {},
     "output_type": "display_data"
    },
    {
     "data": {
      "application/vnd.jupyter.widget-view+json": {
       "model_id": "66b18b183f204943b313ee9f67d70590",
       "version_major": 2,
       "version_minor": 0
      },
      "text/plain": [
       "Epoch 619/2000:   0%|          | 0/27 [00:00<?, ?batch/s]"
      ]
     },
     "metadata": {},
     "output_type": "display_data"
    },
    {
     "data": {
      "application/vnd.jupyter.widget-view+json": {
       "model_id": "53d6084d2faa43f8b08e212bab7655ab",
       "version_major": 2,
       "version_minor": 0
      },
      "text/plain": [
       "Epoch 620/2000:   0%|          | 0/27 [00:00<?, ?batch/s]"
      ]
     },
     "metadata": {},
     "output_type": "display_data"
    },
    {
     "data": {
      "application/vnd.jupyter.widget-view+json": {
       "model_id": "383a14a661e348bc88be848e0d30be7d",
       "version_major": 2,
       "version_minor": 0
      },
      "text/plain": [
       "Epoch 621/2000:   0%|          | 0/27 [00:00<?, ?batch/s]"
      ]
     },
     "metadata": {},
     "output_type": "display_data"
    },
    {
     "data": {
      "application/vnd.jupyter.widget-view+json": {
       "model_id": "a96f30b956c44afd84f182ac9681663f",
       "version_major": 2,
       "version_minor": 0
      },
      "text/plain": [
       "Epoch 622/2000:   0%|          | 0/27 [00:00<?, ?batch/s]"
      ]
     },
     "metadata": {},
     "output_type": "display_data"
    },
    {
     "data": {
      "application/vnd.jupyter.widget-view+json": {
       "model_id": "b528d4d789514767960e6d4ac530ae35",
       "version_major": 2,
       "version_minor": 0
      },
      "text/plain": [
       "Epoch 623/2000:   0%|          | 0/27 [00:00<?, ?batch/s]"
      ]
     },
     "metadata": {},
     "output_type": "display_data"
    },
    {
     "data": {
      "application/vnd.jupyter.widget-view+json": {
       "model_id": "140551a568c14260bacad47eea9ed3b8",
       "version_major": 2,
       "version_minor": 0
      },
      "text/plain": [
       "Epoch 624/2000:   0%|          | 0/27 [00:00<?, ?batch/s]"
      ]
     },
     "metadata": {},
     "output_type": "display_data"
    },
    {
     "data": {
      "application/vnd.jupyter.widget-view+json": {
       "model_id": "11562f50caf8436aac3b00e0b6686562",
       "version_major": 2,
       "version_minor": 0
      },
      "text/plain": [
       "Epoch 625/2000:   0%|          | 0/27 [00:00<?, ?batch/s]"
      ]
     },
     "metadata": {},
     "output_type": "display_data"
    },
    {
     "data": {
      "application/vnd.jupyter.widget-view+json": {
       "model_id": "462c15f201ca4768aa9fe97570cc9fd2",
       "version_major": 2,
       "version_minor": 0
      },
      "text/plain": [
       "Epoch 626/2000:   0%|          | 0/27 [00:00<?, ?batch/s]"
      ]
     },
     "metadata": {},
     "output_type": "display_data"
    },
    {
     "data": {
      "application/vnd.jupyter.widget-view+json": {
       "model_id": "4c654a5b74194c8fbd6dbe1fd2fea9c6",
       "version_major": 2,
       "version_minor": 0
      },
      "text/plain": [
       "Epoch 627/2000:   0%|          | 0/27 [00:00<?, ?batch/s]"
      ]
     },
     "metadata": {},
     "output_type": "display_data"
    },
    {
     "data": {
      "application/vnd.jupyter.widget-view+json": {
       "model_id": "b056291e375141aebe01454fbab4312e",
       "version_major": 2,
       "version_minor": 0
      },
      "text/plain": [
       "Epoch 628/2000:   0%|          | 0/27 [00:00<?, ?batch/s]"
      ]
     },
     "metadata": {},
     "output_type": "display_data"
    },
    {
     "data": {
      "application/vnd.jupyter.widget-view+json": {
       "model_id": "69ab531926864a409e57b8acfbea1493",
       "version_major": 2,
       "version_minor": 0
      },
      "text/plain": [
       "Epoch 629/2000:   0%|          | 0/27 [00:00<?, ?batch/s]"
      ]
     },
     "metadata": {},
     "output_type": "display_data"
    },
    {
     "data": {
      "application/vnd.jupyter.widget-view+json": {
       "model_id": "3da1153e44f041d6883cef7d699b2cd6",
       "version_major": 2,
       "version_minor": 0
      },
      "text/plain": [
       "Epoch 630/2000:   0%|          | 0/27 [00:00<?, ?batch/s]"
      ]
     },
     "metadata": {},
     "output_type": "display_data"
    },
    {
     "data": {
      "application/vnd.jupyter.widget-view+json": {
       "model_id": "8f20bfd805b746aa96962c57137eea29",
       "version_major": 2,
       "version_minor": 0
      },
      "text/plain": [
       "Epoch 631/2000:   0%|          | 0/27 [00:00<?, ?batch/s]"
      ]
     },
     "metadata": {},
     "output_type": "display_data"
    },
    {
     "data": {
      "application/vnd.jupyter.widget-view+json": {
       "model_id": "bf6ef06864e742e59d45571e7b4cb6b5",
       "version_major": 2,
       "version_minor": 0
      },
      "text/plain": [
       "Epoch 632/2000:   0%|          | 0/27 [00:00<?, ?batch/s]"
      ]
     },
     "metadata": {},
     "output_type": "display_data"
    },
    {
     "name": "stderr",
     "output_type": "stream",
     "text": [
      "IOPub message rate exceeded.\n",
      "The Jupyter server will temporarily stop sending output\n",
      "to the client in order to avoid crashing it.\n",
      "To change this limit, set the config variable\n",
      "`--ServerApp.iopub_msg_rate_limit`.\n",
      "\n",
      "Current values:\n",
      "ServerApp.iopub_msg_rate_limit=1000.0 (msgs/sec)\n",
      "ServerApp.rate_limit_window=3.0 (secs)\n",
      "\n"
     ]
    },
    {
     "data": {
      "application/vnd.jupyter.widget-view+json": {
       "model_id": "fcdd6d54bbcb4b8eacfd96be23b9ac8c",
       "version_major": 2,
       "version_minor": 0
      },
      "text/plain": [
       "Epoch 639/2000:   0%|          | 0/27 [00:00<?, ?batch/s]"
      ]
     },
     "metadata": {},
     "output_type": "display_data"
    },
    {
     "data": {
      "application/vnd.jupyter.widget-view+json": {
       "model_id": "613af3ccefff4a3aa69ce8ad1ae07251",
       "version_major": 2,
       "version_minor": 0
      },
      "text/plain": [
       "Epoch 640/2000:   0%|          | 0/27 [00:00<?, ?batch/s]"
      ]
     },
     "metadata": {},
     "output_type": "display_data"
    },
    {
     "data": {
      "application/vnd.jupyter.widget-view+json": {
       "model_id": "a34f1afdd28f448ba420c842b206ec49",
       "version_major": 2,
       "version_minor": 0
      },
      "text/plain": [
       "Epoch 641/2000:   0%|          | 0/27 [00:00<?, ?batch/s]"
      ]
     },
     "metadata": {},
     "output_type": "display_data"
    },
    {
     "data": {
      "application/vnd.jupyter.widget-view+json": {
       "model_id": "d67982169ca745c889c558b94d236508",
       "version_major": 2,
       "version_minor": 0
      },
      "text/plain": [
       "Epoch 642/2000:   0%|          | 0/27 [00:00<?, ?batch/s]"
      ]
     },
     "metadata": {},
     "output_type": "display_data"
    },
    {
     "data": {
      "application/vnd.jupyter.widget-view+json": {
       "model_id": "80bd5f038b404728ba5f533f9476cea4",
       "version_major": 2,
       "version_minor": 0
      },
      "text/plain": [
       "Epoch 643/2000:   0%|          | 0/27 [00:00<?, ?batch/s]"
      ]
     },
     "metadata": {},
     "output_type": "display_data"
    },
    {
     "data": {
      "application/vnd.jupyter.widget-view+json": {
       "model_id": "42eade954cc04ff89649737fa426b1d9",
       "version_major": 2,
       "version_minor": 0
      },
      "text/plain": [
       "Epoch 644/2000:   0%|          | 0/27 [00:00<?, ?batch/s]"
      ]
     },
     "metadata": {},
     "output_type": "display_data"
    },
    {
     "data": {
      "application/vnd.jupyter.widget-view+json": {
       "model_id": "faa256a3ce334bf2b1b29091aed14540",
       "version_major": 2,
       "version_minor": 0
      },
      "text/plain": [
       "Epoch 645/2000:   0%|          | 0/27 [00:00<?, ?batch/s]"
      ]
     },
     "metadata": {},
     "output_type": "display_data"
    },
    {
     "data": {
      "application/vnd.jupyter.widget-view+json": {
       "model_id": "11b545aa65e14a2ca1e26120f92cc010",
       "version_major": 2,
       "version_minor": 0
      },
      "text/plain": [
       "Epoch 646/2000:   0%|          | 0/27 [00:00<?, ?batch/s]"
      ]
     },
     "metadata": {},
     "output_type": "display_data"
    },
    {
     "data": {
      "application/vnd.jupyter.widget-view+json": {
       "model_id": "6f6ec7a3ad9d40648d72788fd8ddf679",
       "version_major": 2,
       "version_minor": 0
      },
      "text/plain": [
       "Epoch 647/2000:   0%|          | 0/27 [00:00<?, ?batch/s]"
      ]
     },
     "metadata": {},
     "output_type": "display_data"
    },
    {
     "data": {
      "application/vnd.jupyter.widget-view+json": {
       "model_id": "1f5209f37e48495a82fe11cbdf54a4e4",
       "version_major": 2,
       "version_minor": 0
      },
      "text/plain": [
       "Epoch 648/2000:   0%|          | 0/27 [00:00<?, ?batch/s]"
      ]
     },
     "metadata": {},
     "output_type": "display_data"
    },
    {
     "data": {
      "application/vnd.jupyter.widget-view+json": {
       "model_id": "189b5d1fdb5b45eeafd3b38e17348886",
       "version_major": 2,
       "version_minor": 0
      },
      "text/plain": [
       "Epoch 649/2000:   0%|          | 0/27 [00:00<?, ?batch/s]"
      ]
     },
     "metadata": {},
     "output_type": "display_data"
    },
    {
     "data": {
      "application/vnd.jupyter.widget-view+json": {
       "model_id": "f922dd50cc01496da7231b33bd170902",
       "version_major": 2,
       "version_minor": 0
      },
      "text/plain": [
       "Epoch 650/2000:   0%|          | 0/27 [00:00<?, ?batch/s]"
      ]
     },
     "metadata": {},
     "output_type": "display_data"
    },
    {
     "data": {
      "application/vnd.jupyter.widget-view+json": {
       "model_id": "a09a0058d139423b9e4be03382d12fda",
       "version_major": 2,
       "version_minor": 0
      },
      "text/plain": [
       "Epoch 651/2000:   0%|          | 0/27 [00:00<?, ?batch/s]"
      ]
     },
     "metadata": {},
     "output_type": "display_data"
    },
    {
     "data": {
      "application/vnd.jupyter.widget-view+json": {
       "model_id": "be1d99e1a63742429c58be99e6c0d5b8",
       "version_major": 2,
       "version_minor": 0
      },
      "text/plain": [
       "Epoch 652/2000:   0%|          | 0/27 [00:00<?, ?batch/s]"
      ]
     },
     "metadata": {},
     "output_type": "display_data"
    },
    {
     "data": {
      "application/vnd.jupyter.widget-view+json": {
       "model_id": "349e528135e44e30850a541b03835707",
       "version_major": 2,
       "version_minor": 0
      },
      "text/plain": [
       "Epoch 653/2000:   0%|          | 0/27 [00:00<?, ?batch/s]"
      ]
     },
     "metadata": {},
     "output_type": "display_data"
    },
    {
     "data": {
      "application/vnd.jupyter.widget-view+json": {
       "model_id": "39dac9c6c7b14e6f9860fc76b972f21b",
       "version_major": 2,
       "version_minor": 0
      },
      "text/plain": [
       "Epoch 654/2000:   0%|          | 0/27 [00:00<?, ?batch/s]"
      ]
     },
     "metadata": {},
     "output_type": "display_data"
    },
    {
     "data": {
      "application/vnd.jupyter.widget-view+json": {
       "model_id": "82bf252a974f42c2ae13499cf600aa9d",
       "version_major": 2,
       "version_minor": 0
      },
      "text/plain": [
       "Epoch 655/2000:   0%|          | 0/27 [00:00<?, ?batch/s]"
      ]
     },
     "metadata": {},
     "output_type": "display_data"
    },
    {
     "data": {
      "application/vnd.jupyter.widget-view+json": {
       "model_id": "7760ba3c01e846ccb77ab33491e0266f",
       "version_major": 2,
       "version_minor": 0
      },
      "text/plain": [
       "Epoch 656/2000:   0%|          | 0/27 [00:00<?, ?batch/s]"
      ]
     },
     "metadata": {},
     "output_type": "display_data"
    },
    {
     "data": {
      "application/vnd.jupyter.widget-view+json": {
       "model_id": "fc5b73c695304f7ab2efebc94b59c89c",
       "version_major": 2,
       "version_minor": 0
      },
      "text/plain": [
       "Epoch 657/2000:   0%|          | 0/27 [00:00<?, ?batch/s]"
      ]
     },
     "metadata": {},
     "output_type": "display_data"
    },
    {
     "data": {
      "application/vnd.jupyter.widget-view+json": {
       "model_id": "fbf3822260174f2fa2bd9e6d5a5249a6",
       "version_major": 2,
       "version_minor": 0
      },
      "text/plain": [
       "Epoch 658/2000:   0%|          | 0/27 [00:00<?, ?batch/s]"
      ]
     },
     "metadata": {},
     "output_type": "display_data"
    },
    {
     "data": {
      "application/vnd.jupyter.widget-view+json": {
       "model_id": "de19305114504bddbe59a99e250578bd",
       "version_major": 2,
       "version_minor": 0
      },
      "text/plain": [
       "Epoch 659/2000:   0%|          | 0/27 [00:00<?, ?batch/s]"
      ]
     },
     "metadata": {},
     "output_type": "display_data"
    },
    {
     "data": {
      "application/vnd.jupyter.widget-view+json": {
       "model_id": "751237ad513b4027b65793f0d41a00e2",
       "version_major": 2,
       "version_minor": 0
      },
      "text/plain": [
       "Epoch 660/2000:   0%|          | 0/27 [00:00<?, ?batch/s]"
      ]
     },
     "metadata": {},
     "output_type": "display_data"
    },
    {
     "data": {
      "application/vnd.jupyter.widget-view+json": {
       "model_id": "41d50b1363dd46a78acb8d4eec28ac82",
       "version_major": 2,
       "version_minor": 0
      },
      "text/plain": [
       "Epoch 661/2000:   0%|          | 0/27 [00:00<?, ?batch/s]"
      ]
     },
     "metadata": {},
     "output_type": "display_data"
    },
    {
     "data": {
      "application/vnd.jupyter.widget-view+json": {
       "model_id": "efc0f2ef6edb4e0e879f4d1cf6ced901",
       "version_major": 2,
       "version_minor": 0
      },
      "text/plain": [
       "Epoch 662/2000:   0%|          | 0/27 [00:00<?, ?batch/s]"
      ]
     },
     "metadata": {},
     "output_type": "display_data"
    },
    {
     "data": {
      "application/vnd.jupyter.widget-view+json": {
       "model_id": "b5f10bd672a143a9827672be94382f9f",
       "version_major": 2,
       "version_minor": 0
      },
      "text/plain": [
       "Epoch 663/2000:   0%|          | 0/27 [00:00<?, ?batch/s]"
      ]
     },
     "metadata": {},
     "output_type": "display_data"
    },
    {
     "data": {
      "application/vnd.jupyter.widget-view+json": {
       "model_id": "32085d02badd4fe8a000a0dcdbc84d5b",
       "version_major": 2,
       "version_minor": 0
      },
      "text/plain": [
       "Epoch 664/2000:   0%|          | 0/27 [00:00<?, ?batch/s]"
      ]
     },
     "metadata": {},
     "output_type": "display_data"
    },
    {
     "data": {
      "application/vnd.jupyter.widget-view+json": {
       "model_id": "dbb13d39d3b74759838714a79b35769d",
       "version_major": 2,
       "version_minor": 0
      },
      "text/plain": [
       "Epoch 665/2000:   0%|          | 0/27 [00:00<?, ?batch/s]"
      ]
     },
     "metadata": {},
     "output_type": "display_data"
    },
    {
     "data": {
      "application/vnd.jupyter.widget-view+json": {
       "model_id": "ad54fb31d0bd463c9f831499434b012a",
       "version_major": 2,
       "version_minor": 0
      },
      "text/plain": [
       "Epoch 666/2000:   0%|          | 0/27 [00:00<?, ?batch/s]"
      ]
     },
     "metadata": {},
     "output_type": "display_data"
    },
    {
     "data": {
      "application/vnd.jupyter.widget-view+json": {
       "model_id": "779c6dcd1b404cafab53bae8904f3adf",
       "version_major": 2,
       "version_minor": 0
      },
      "text/plain": [
       "Epoch 667/2000:   0%|          | 0/27 [00:00<?, ?batch/s]"
      ]
     },
     "metadata": {},
     "output_type": "display_data"
    },
    {
     "data": {
      "application/vnd.jupyter.widget-view+json": {
       "model_id": "2eaaccf3547f40b485c809ac5ab2dbf3",
       "version_major": 2,
       "version_minor": 0
      },
      "text/plain": [
       "Epoch 668/2000:   0%|          | 0/27 [00:00<?, ?batch/s]"
      ]
     },
     "metadata": {},
     "output_type": "display_data"
    },
    {
     "data": {
      "application/vnd.jupyter.widget-view+json": {
       "model_id": "76fda8e3964c4847807ec73c06e78018",
       "version_major": 2,
       "version_minor": 0
      },
      "text/plain": [
       "Epoch 669/2000:   0%|          | 0/27 [00:00<?, ?batch/s]"
      ]
     },
     "metadata": {},
     "output_type": "display_data"
    },
    {
     "data": {
      "application/vnd.jupyter.widget-view+json": {
       "model_id": "073010bbfd224073a13d7fa34fb190c7",
       "version_major": 2,
       "version_minor": 0
      },
      "text/plain": [
       "Epoch 670/2000:   0%|          | 0/27 [00:00<?, ?batch/s]"
      ]
     },
     "metadata": {},
     "output_type": "display_data"
    },
    {
     "data": {
      "application/vnd.jupyter.widget-view+json": {
       "model_id": "2516991ad35d4626a6e0a945dd6c649d",
       "version_major": 2,
       "version_minor": 0
      },
      "text/plain": [
       "Epoch 671/2000:   0%|          | 0/27 [00:00<?, ?batch/s]"
      ]
     },
     "metadata": {},
     "output_type": "display_data"
    },
    {
     "data": {
      "application/vnd.jupyter.widget-view+json": {
       "model_id": "ec5fb225ca644ec283ed7b652da2f79d",
       "version_major": 2,
       "version_minor": 0
      },
      "text/plain": [
       "Epoch 672/2000:   0%|          | 0/27 [00:00<?, ?batch/s]"
      ]
     },
     "metadata": {},
     "output_type": "display_data"
    },
    {
     "data": {
      "application/vnd.jupyter.widget-view+json": {
       "model_id": "1e7c046f056d4f50ac1293e4043c2637",
       "version_major": 2,
       "version_minor": 0
      },
      "text/plain": [
       "Epoch 673/2000:   0%|          | 0/27 [00:00<?, ?batch/s]"
      ]
     },
     "metadata": {},
     "output_type": "display_data"
    },
    {
     "name": "stderr",
     "output_type": "stream",
     "text": [
      "IOPub message rate exceeded.\n",
      "The Jupyter server will temporarily stop sending output\n",
      "to the client in order to avoid crashing it.\n",
      "To change this limit, set the config variable\n",
      "`--ServerApp.iopub_msg_rate_limit`.\n",
      "\n",
      "Current values:\n",
      "ServerApp.iopub_msg_rate_limit=1000.0 (msgs/sec)\n",
      "ServerApp.rate_limit_window=3.0 (secs)\n",
      "\n"
     ]
    },
    {
     "data": {
      "application/vnd.jupyter.widget-view+json": {
       "model_id": "33ab7cd02b944b4597fcdfd2a71625bf",
       "version_major": 2,
       "version_minor": 0
      },
      "text/plain": [
       "Epoch 681/2000:   0%|          | 0/27 [00:00<?, ?batch/s]"
      ]
     },
     "metadata": {},
     "output_type": "display_data"
    },
    {
     "data": {
      "application/vnd.jupyter.widget-view+json": {
       "model_id": "4873d2e0281e43169ca649ce74f1ebaa",
       "version_major": 2,
       "version_minor": 0
      },
      "text/plain": [
       "Epoch 682/2000:   0%|          | 0/27 [00:00<?, ?batch/s]"
      ]
     },
     "metadata": {},
     "output_type": "display_data"
    },
    {
     "data": {
      "application/vnd.jupyter.widget-view+json": {
       "model_id": "f4009e93952c4ed486aee784ff2471b2",
       "version_major": 2,
       "version_minor": 0
      },
      "text/plain": [
       "Epoch 683/2000:   0%|          | 0/27 [00:00<?, ?batch/s]"
      ]
     },
     "metadata": {},
     "output_type": "display_data"
    },
    {
     "data": {
      "application/vnd.jupyter.widget-view+json": {
       "model_id": "5fd8a8d1aa0640138c3f58fdf1f70d6d",
       "version_major": 2,
       "version_minor": 0
      },
      "text/plain": [
       "Epoch 684/2000:   0%|          | 0/27 [00:00<?, ?batch/s]"
      ]
     },
     "metadata": {},
     "output_type": "display_data"
    },
    {
     "data": {
      "application/vnd.jupyter.widget-view+json": {
       "model_id": "cf116631db63481cacad491386cba233",
       "version_major": 2,
       "version_minor": 0
      },
      "text/plain": [
       "Epoch 685/2000:   0%|          | 0/27 [00:00<?, ?batch/s]"
      ]
     },
     "metadata": {},
     "output_type": "display_data"
    },
    {
     "data": {
      "application/vnd.jupyter.widget-view+json": {
       "model_id": "bd376aa286a24362ac46f8786b8c15c3",
       "version_major": 2,
       "version_minor": 0
      },
      "text/plain": [
       "Epoch 686/2000:   0%|          | 0/27 [00:00<?, ?batch/s]"
      ]
     },
     "metadata": {},
     "output_type": "display_data"
    },
    {
     "data": {
      "application/vnd.jupyter.widget-view+json": {
       "model_id": "53ec42ee72f649f0bdc01952c214ecc3",
       "version_major": 2,
       "version_minor": 0
      },
      "text/plain": [
       "Epoch 687/2000:   0%|          | 0/27 [00:00<?, ?batch/s]"
      ]
     },
     "metadata": {},
     "output_type": "display_data"
    },
    {
     "data": {
      "application/vnd.jupyter.widget-view+json": {
       "model_id": "0600a5711a374e2b87ca046459240d15",
       "version_major": 2,
       "version_minor": 0
      },
      "text/plain": [
       "Epoch 688/2000:   0%|          | 0/27 [00:00<?, ?batch/s]"
      ]
     },
     "metadata": {},
     "output_type": "display_data"
    },
    {
     "data": {
      "application/vnd.jupyter.widget-view+json": {
       "model_id": "c09aae1c9b204220b357cce0b03e6508",
       "version_major": 2,
       "version_minor": 0
      },
      "text/plain": [
       "Epoch 689/2000:   0%|          | 0/27 [00:00<?, ?batch/s]"
      ]
     },
     "metadata": {},
     "output_type": "display_data"
    },
    {
     "data": {
      "application/vnd.jupyter.widget-view+json": {
       "model_id": "70cc4298b00741a0af168e9f7b402441",
       "version_major": 2,
       "version_minor": 0
      },
      "text/plain": [
       "Epoch 690/2000:   0%|          | 0/27 [00:00<?, ?batch/s]"
      ]
     },
     "metadata": {},
     "output_type": "display_data"
    },
    {
     "data": {
      "application/vnd.jupyter.widget-view+json": {
       "model_id": "04b0a260c04243fc9e0ac09820f7f2ca",
       "version_major": 2,
       "version_minor": 0
      },
      "text/plain": [
       "Epoch 691/2000:   0%|          | 0/27 [00:00<?, ?batch/s]"
      ]
     },
     "metadata": {},
     "output_type": "display_data"
    },
    {
     "data": {
      "application/vnd.jupyter.widget-view+json": {
       "model_id": "3abb6758e83d4c0987e5a529095bb8da",
       "version_major": 2,
       "version_minor": 0
      },
      "text/plain": [
       "Epoch 692/2000:   0%|          | 0/27 [00:00<?, ?batch/s]"
      ]
     },
     "metadata": {},
     "output_type": "display_data"
    },
    {
     "data": {
      "application/vnd.jupyter.widget-view+json": {
       "model_id": "6b7171dad9124380b2f6ad9545e905db",
       "version_major": 2,
       "version_minor": 0
      },
      "text/plain": [
       "Epoch 693/2000:   0%|          | 0/27 [00:00<?, ?batch/s]"
      ]
     },
     "metadata": {},
     "output_type": "display_data"
    },
    {
     "data": {
      "application/vnd.jupyter.widget-view+json": {
       "model_id": "e0bdb0566caf4c40810ccee117251e61",
       "version_major": 2,
       "version_minor": 0
      },
      "text/plain": [
       "Epoch 694/2000:   0%|          | 0/27 [00:00<?, ?batch/s]"
      ]
     },
     "metadata": {},
     "output_type": "display_data"
    },
    {
     "data": {
      "application/vnd.jupyter.widget-view+json": {
       "model_id": "e99b385eb5584c2da1c9c5371b2adcc9",
       "version_major": 2,
       "version_minor": 0
      },
      "text/plain": [
       "Epoch 695/2000:   0%|          | 0/27 [00:00<?, ?batch/s]"
      ]
     },
     "metadata": {},
     "output_type": "display_data"
    },
    {
     "data": {
      "application/vnd.jupyter.widget-view+json": {
       "model_id": "213d2a769dd24de89d12e2c9a30015a9",
       "version_major": 2,
       "version_minor": 0
      },
      "text/plain": [
       "Epoch 696/2000:   0%|          | 0/27 [00:00<?, ?batch/s]"
      ]
     },
     "metadata": {},
     "output_type": "display_data"
    },
    {
     "data": {
      "application/vnd.jupyter.widget-view+json": {
       "model_id": "a33c448c180f441e9c261be3e41a9e5f",
       "version_major": 2,
       "version_minor": 0
      },
      "text/plain": [
       "Epoch 697/2000:   0%|          | 0/27 [00:00<?, ?batch/s]"
      ]
     },
     "metadata": {},
     "output_type": "display_data"
    },
    {
     "data": {
      "application/vnd.jupyter.widget-view+json": {
       "model_id": "50af85b101c940d899d39bf587803b58",
       "version_major": 2,
       "version_minor": 0
      },
      "text/plain": [
       "Epoch 698/2000:   0%|          | 0/27 [00:00<?, ?batch/s]"
      ]
     },
     "metadata": {},
     "output_type": "display_data"
    },
    {
     "data": {
      "application/vnd.jupyter.widget-view+json": {
       "model_id": "a508de224bf448eea61c2a717cfec347",
       "version_major": 2,
       "version_minor": 0
      },
      "text/plain": [
       "Epoch 699/2000:   0%|          | 0/27 [00:00<?, ?batch/s]"
      ]
     },
     "metadata": {},
     "output_type": "display_data"
    },
    {
     "data": {
      "application/vnd.jupyter.widget-view+json": {
       "model_id": "7faecbb040bd460abbb201c7fda2d9ba",
       "version_major": 2,
       "version_minor": 0
      },
      "text/plain": [
       "Epoch 700/2000:   0%|          | 0/27 [00:00<?, ?batch/s]"
      ]
     },
     "metadata": {},
     "output_type": "display_data"
    },
    {
     "data": {
      "application/vnd.jupyter.widget-view+json": {
       "model_id": "697605f3d9aa4e21b4b43934ca96d081",
       "version_major": 2,
       "version_minor": 0
      },
      "text/plain": [
       "Epoch 701/2000:   0%|          | 0/27 [00:00<?, ?batch/s]"
      ]
     },
     "metadata": {},
     "output_type": "display_data"
    },
    {
     "data": {
      "application/vnd.jupyter.widget-view+json": {
       "model_id": "d6e13c0e2b4847b49bfd84fffa92a7cf",
       "version_major": 2,
       "version_minor": 0
      },
      "text/plain": [
       "Epoch 702/2000:   0%|          | 0/27 [00:00<?, ?batch/s]"
      ]
     },
     "metadata": {},
     "output_type": "display_data"
    },
    {
     "data": {
      "application/vnd.jupyter.widget-view+json": {
       "model_id": "2c6549c93f4d4baaa3863b956d20866c",
       "version_major": 2,
       "version_minor": 0
      },
      "text/plain": [
       "Epoch 703/2000:   0%|          | 0/27 [00:00<?, ?batch/s]"
      ]
     },
     "metadata": {},
     "output_type": "display_data"
    },
    {
     "data": {
      "application/vnd.jupyter.widget-view+json": {
       "model_id": "7db7646b5a1b4741938673e5d684941a",
       "version_major": 2,
       "version_minor": 0
      },
      "text/plain": [
       "Epoch 704/2000:   0%|          | 0/27 [00:00<?, ?batch/s]"
      ]
     },
     "metadata": {},
     "output_type": "display_data"
    },
    {
     "data": {
      "application/vnd.jupyter.widget-view+json": {
       "model_id": "2ac3716f7a0e44dda5bd32851f7914d6",
       "version_major": 2,
       "version_minor": 0
      },
      "text/plain": [
       "Epoch 705/2000:   0%|          | 0/27 [00:00<?, ?batch/s]"
      ]
     },
     "metadata": {},
     "output_type": "display_data"
    },
    {
     "data": {
      "application/vnd.jupyter.widget-view+json": {
       "model_id": "96746942cb97419a8f89e6a4122d6dac",
       "version_major": 2,
       "version_minor": 0
      },
      "text/plain": [
       "Epoch 706/2000:   0%|          | 0/27 [00:00<?, ?batch/s]"
      ]
     },
     "metadata": {},
     "output_type": "display_data"
    },
    {
     "data": {
      "application/vnd.jupyter.widget-view+json": {
       "model_id": "ad1d27d92fc444bdbefb58ad0be99097",
       "version_major": 2,
       "version_minor": 0
      },
      "text/plain": [
       "Epoch 707/2000:   0%|          | 0/27 [00:00<?, ?batch/s]"
      ]
     },
     "metadata": {},
     "output_type": "display_data"
    },
    {
     "data": {
      "application/vnd.jupyter.widget-view+json": {
       "model_id": "f1be463128f24975b5c471fbdfa75197",
       "version_major": 2,
       "version_minor": 0
      },
      "text/plain": [
       "Epoch 708/2000:   0%|          | 0/27 [00:00<?, ?batch/s]"
      ]
     },
     "metadata": {},
     "output_type": "display_data"
    },
    {
     "data": {
      "application/vnd.jupyter.widget-view+json": {
       "model_id": "6c4c2a48a9b54b37b28f3afe411a8c98",
       "version_major": 2,
       "version_minor": 0
      },
      "text/plain": [
       "Epoch 709/2000:   0%|          | 0/27 [00:00<?, ?batch/s]"
      ]
     },
     "metadata": {},
     "output_type": "display_data"
    },
    {
     "data": {
      "application/vnd.jupyter.widget-view+json": {
       "model_id": "2609dadc6a05427ca536855cbc886e97",
       "version_major": 2,
       "version_minor": 0
      },
      "text/plain": [
       "Epoch 710/2000:   0%|          | 0/27 [00:00<?, ?batch/s]"
      ]
     },
     "metadata": {},
     "output_type": "display_data"
    },
    {
     "data": {
      "application/vnd.jupyter.widget-view+json": {
       "model_id": "edcd0d2789be449e9fb216561667b8f0",
       "version_major": 2,
       "version_minor": 0
      },
      "text/plain": [
       "Epoch 711/2000:   0%|          | 0/27 [00:00<?, ?batch/s]"
      ]
     },
     "metadata": {},
     "output_type": "display_data"
    },
    {
     "data": {
      "application/vnd.jupyter.widget-view+json": {
       "model_id": "2d7de6028b5b49739a944710e07359f8",
       "version_major": 2,
       "version_minor": 0
      },
      "text/plain": [
       "Epoch 712/2000:   0%|          | 0/27 [00:00<?, ?batch/s]"
      ]
     },
     "metadata": {},
     "output_type": "display_data"
    },
    {
     "data": {
      "application/vnd.jupyter.widget-view+json": {
       "model_id": "39bbc085e5c148a8aba6c528b8fd7136",
       "version_major": 2,
       "version_minor": 0
      },
      "text/plain": [
       "Epoch 713/2000:   0%|          | 0/27 [00:00<?, ?batch/s]"
      ]
     },
     "metadata": {},
     "output_type": "display_data"
    },
    {
     "data": {
      "application/vnd.jupyter.widget-view+json": {
       "model_id": "819d3dc9a9404886b2aa761190d28d96",
       "version_major": 2,
       "version_minor": 0
      },
      "text/plain": [
       "Epoch 714/2000:   0%|          | 0/27 [00:00<?, ?batch/s]"
      ]
     },
     "metadata": {},
     "output_type": "display_data"
    },
    {
     "data": {
      "application/vnd.jupyter.widget-view+json": {
       "model_id": "e59a59077e224910916576ef7265bf3d",
       "version_major": 2,
       "version_minor": 0
      },
      "text/plain": [
       "Epoch 715/2000:   0%|          | 0/27 [00:00<?, ?batch/s]"
      ]
     },
     "metadata": {},
     "output_type": "display_data"
    },
    {
     "data": {
      "application/vnd.jupyter.widget-view+json": {
       "model_id": "a9d543bb153e4f4b956b98d8d5cc26d6",
       "version_major": 2,
       "version_minor": 0
      },
      "text/plain": [
       "Epoch 716/2000:   0%|          | 0/27 [00:00<?, ?batch/s]"
      ]
     },
     "metadata": {},
     "output_type": "display_data"
    },
    {
     "data": {
      "application/vnd.jupyter.widget-view+json": {
       "model_id": "3d99cbb96ba9432cb5f74d6827c8299c",
       "version_major": 2,
       "version_minor": 0
      },
      "text/plain": [
       "Epoch 717/2000:   0%|          | 0/27 [00:00<?, ?batch/s]"
      ]
     },
     "metadata": {},
     "output_type": "display_data"
    },
    {
     "data": {
      "application/vnd.jupyter.widget-view+json": {
       "model_id": "e7871d2edfe644449b22e9d503fabc52",
       "version_major": 2,
       "version_minor": 0
      },
      "text/plain": [
       "Epoch 718/2000:   0%|          | 0/27 [00:00<?, ?batch/s]"
      ]
     },
     "metadata": {},
     "output_type": "display_data"
    },
    {
     "data": {
      "application/vnd.jupyter.widget-view+json": {
       "model_id": "6862beb3c21a47549aaee9ea00317416",
       "version_major": 2,
       "version_minor": 0
      },
      "text/plain": [
       "Epoch 719/2000:   0%|          | 0/27 [00:00<?, ?batch/s]"
      ]
     },
     "metadata": {},
     "output_type": "display_data"
    },
    {
     "data": {
      "application/vnd.jupyter.widget-view+json": {
       "model_id": "f15e5af515e4402b9f89a9eb4585bfc4",
       "version_major": 2,
       "version_minor": 0
      },
      "text/plain": [
       "Epoch 720/2000:   0%|          | 0/27 [00:00<?, ?batch/s]"
      ]
     },
     "metadata": {},
     "output_type": "display_data"
    },
    {
     "data": {
      "application/vnd.jupyter.widget-view+json": {
       "model_id": "f3c737b675194ec383910ac39c80391b",
       "version_major": 2,
       "version_minor": 0
      },
      "text/plain": [
       "Epoch 721/2000:   0%|          | 0/27 [00:00<?, ?batch/s]"
      ]
     },
     "metadata": {},
     "output_type": "display_data"
    },
    {
     "data": {
      "application/vnd.jupyter.widget-view+json": {
       "model_id": "bf17886ef49c41588b2db94a96cdbb9d",
       "version_major": 2,
       "version_minor": 0
      },
      "text/plain": [
       "Epoch 722/2000:   0%|          | 0/27 [00:00<?, ?batch/s]"
      ]
     },
     "metadata": {},
     "output_type": "display_data"
    },
    {
     "data": {
      "application/vnd.jupyter.widget-view+json": {
       "model_id": "9dd72b6aac954b17a2355ea918d354f7",
       "version_major": 2,
       "version_minor": 0
      },
      "text/plain": [
       "Epoch 723/2000:   0%|          | 0/27 [00:00<?, ?batch/s]"
      ]
     },
     "metadata": {},
     "output_type": "display_data"
    },
    {
     "data": {
      "application/vnd.jupyter.widget-view+json": {
       "model_id": "2cdbe6b75f314f9282d2daf8a7db7300",
       "version_major": 2,
       "version_minor": 0
      },
      "text/plain": [
       "Epoch 724/2000:   0%|          | 0/27 [00:00<?, ?batch/s]"
      ]
     },
     "metadata": {},
     "output_type": "display_data"
    },
    {
     "data": {
      "application/vnd.jupyter.widget-view+json": {
       "model_id": "2846edf2c02547e6bdec8f6729c37ed5",
       "version_major": 2,
       "version_minor": 0
      },
      "text/plain": [
       "Epoch 725/2000:   0%|          | 0/27 [00:00<?, ?batch/s]"
      ]
     },
     "metadata": {},
     "output_type": "display_data"
    },
    {
     "data": {
      "application/vnd.jupyter.widget-view+json": {
       "model_id": "6f5923aab8e445d9908e8e265a369e84",
       "version_major": 2,
       "version_minor": 0
      },
      "text/plain": [
       "Epoch 726/2000:   0%|          | 0/27 [00:00<?, ?batch/s]"
      ]
     },
     "metadata": {},
     "output_type": "display_data"
    },
    {
     "data": {
      "application/vnd.jupyter.widget-view+json": {
       "model_id": "c5bd3468d70a40628af35844c0cbeb8c",
       "version_major": 2,
       "version_minor": 0
      },
      "text/plain": [
       "Epoch 727/2000:   0%|          | 0/27 [00:00<?, ?batch/s]"
      ]
     },
     "metadata": {},
     "output_type": "display_data"
    },
    {
     "data": {
      "application/vnd.jupyter.widget-view+json": {
       "model_id": "bdea5f3eb1044ab1aafe8461f6972b38",
       "version_major": 2,
       "version_minor": 0
      },
      "text/plain": [
       "Epoch 728/2000:   0%|          | 0/27 [00:00<?, ?batch/s]"
      ]
     },
     "metadata": {},
     "output_type": "display_data"
    },
    {
     "data": {
      "application/vnd.jupyter.widget-view+json": {
       "model_id": "9d69dbbc830a46e4a2cb2b19d5d54f1e",
       "version_major": 2,
       "version_minor": 0
      },
      "text/plain": [
       "Epoch 729/2000:   0%|          | 0/27 [00:00<?, ?batch/s]"
      ]
     },
     "metadata": {},
     "output_type": "display_data"
    },
    {
     "data": {
      "application/vnd.jupyter.widget-view+json": {
       "model_id": "a10e62ce978e41799728a9444f1922eb",
       "version_major": 2,
       "version_minor": 0
      },
      "text/plain": [
       "Epoch 730/2000:   0%|          | 0/27 [00:00<?, ?batch/s]"
      ]
     },
     "metadata": {},
     "output_type": "display_data"
    },
    {
     "data": {
      "application/vnd.jupyter.widget-view+json": {
       "model_id": "daab293094de49ada610b870c0647e9d",
       "version_major": 2,
       "version_minor": 0
      },
      "text/plain": [
       "Epoch 731/2000:   0%|          | 0/27 [00:00<?, ?batch/s]"
      ]
     },
     "metadata": {},
     "output_type": "display_data"
    },
    {
     "data": {
      "application/vnd.jupyter.widget-view+json": {
       "model_id": "e6adfd22feeb4341b23e30905d5a78db",
       "version_major": 2,
       "version_minor": 0
      },
      "text/plain": [
       "Epoch 732/2000:   0%|          | 0/27 [00:00<?, ?batch/s]"
      ]
     },
     "metadata": {},
     "output_type": "display_data"
    },
    {
     "data": {
      "application/vnd.jupyter.widget-view+json": {
       "model_id": "eb8a3841773b441983a46ff66b1ea7e8",
       "version_major": 2,
       "version_minor": 0
      },
      "text/plain": [
       "Epoch 733/2000:   0%|          | 0/27 [00:00<?, ?batch/s]"
      ]
     },
     "metadata": {},
     "output_type": "display_data"
    },
    {
     "data": {
      "application/vnd.jupyter.widget-view+json": {
       "model_id": "e2ce590f59ef45d6bae890f20d1082da",
       "version_major": 2,
       "version_minor": 0
      },
      "text/plain": [
       "Epoch 734/2000:   0%|          | 0/27 [00:00<?, ?batch/s]"
      ]
     },
     "metadata": {},
     "output_type": "display_data"
    },
    {
     "data": {
      "application/vnd.jupyter.widget-view+json": {
       "model_id": "9b6c611e5a67443592e0623365ae4df8",
       "version_major": 2,
       "version_minor": 0
      },
      "text/plain": [
       "Epoch 735/2000:   0%|          | 0/27 [00:00<?, ?batch/s]"
      ]
     },
     "metadata": {},
     "output_type": "display_data"
    },
    {
     "data": {
      "application/vnd.jupyter.widget-view+json": {
       "model_id": "bf765d9cee6845a782e1b2b904d9ff58",
       "version_major": 2,
       "version_minor": 0
      },
      "text/plain": [
       "Epoch 736/2000:   0%|          | 0/27 [00:00<?, ?batch/s]"
      ]
     },
     "metadata": {},
     "output_type": "display_data"
    },
    {
     "data": {
      "application/vnd.jupyter.widget-view+json": {
       "model_id": "ed28baa4baae4dd8b8346b7dcc53e89b",
       "version_major": 2,
       "version_minor": 0
      },
      "text/plain": [
       "Epoch 737/2000:   0%|          | 0/27 [00:00<?, ?batch/s]"
      ]
     },
     "metadata": {},
     "output_type": "display_data"
    },
    {
     "data": {
      "application/vnd.jupyter.widget-view+json": {
       "model_id": "4ef60db8afdc4268ae3713cc323d7e72",
       "version_major": 2,
       "version_minor": 0
      },
      "text/plain": [
       "Epoch 738/2000:   0%|          | 0/27 [00:00<?, ?batch/s]"
      ]
     },
     "metadata": {},
     "output_type": "display_data"
    },
    {
     "data": {
      "application/vnd.jupyter.widget-view+json": {
       "model_id": "52b9206dfc894d79b1497c42962730f5",
       "version_major": 2,
       "version_minor": 0
      },
      "text/plain": [
       "Epoch 739/2000:   0%|          | 0/27 [00:00<?, ?batch/s]"
      ]
     },
     "metadata": {},
     "output_type": "display_data"
    },
    {
     "data": {
      "application/vnd.jupyter.widget-view+json": {
       "model_id": "4310d4d2b33b4a40a91e0a4cbe203743",
       "version_major": 2,
       "version_minor": 0
      },
      "text/plain": [
       "Epoch 740/2000:   0%|          | 0/27 [00:00<?, ?batch/s]"
      ]
     },
     "metadata": {},
     "output_type": "display_data"
    },
    {
     "data": {
      "application/vnd.jupyter.widget-view+json": {
       "model_id": "420e635aeaee49a3989aeb1915fa3b6e",
       "version_major": 2,
       "version_minor": 0
      },
      "text/plain": [
       "Epoch 741/2000:   0%|          | 0/27 [00:00<?, ?batch/s]"
      ]
     },
     "metadata": {},
     "output_type": "display_data"
    },
    {
     "data": {
      "application/vnd.jupyter.widget-view+json": {
       "model_id": "5f9c801b2c5049418e7c790cc136caf9",
       "version_major": 2,
       "version_minor": 0
      },
      "text/plain": [
       "Epoch 742/2000:   0%|          | 0/27 [00:00<?, ?batch/s]"
      ]
     },
     "metadata": {},
     "output_type": "display_data"
    },
    {
     "data": {
      "application/vnd.jupyter.widget-view+json": {
       "model_id": "27b72a9237fb484aaa3da68bf784a052",
       "version_major": 2,
       "version_minor": 0
      },
      "text/plain": [
       "Epoch 743/2000:   0%|          | 0/27 [00:00<?, ?batch/s]"
      ]
     },
     "metadata": {},
     "output_type": "display_data"
    },
    {
     "data": {
      "application/vnd.jupyter.widget-view+json": {
       "model_id": "b0394956dfb14f9587a87b42f1cfdb04",
       "version_major": 2,
       "version_minor": 0
      },
      "text/plain": [
       "Epoch 744/2000:   0%|          | 0/27 [00:00<?, ?batch/s]"
      ]
     },
     "metadata": {},
     "output_type": "display_data"
    },
    {
     "data": {
      "application/vnd.jupyter.widget-view+json": {
       "model_id": "4f275299eefc4af6a74f96532fc3fff4",
       "version_major": 2,
       "version_minor": 0
      },
      "text/plain": [
       "Epoch 745/2000:   0%|          | 0/27 [00:00<?, ?batch/s]"
      ]
     },
     "metadata": {},
     "output_type": "display_data"
    },
    {
     "data": {
      "application/vnd.jupyter.widget-view+json": {
       "model_id": "0ec63068cde146109af9f96516ee33c2",
       "version_major": 2,
       "version_minor": 0
      },
      "text/plain": [
       "Epoch 746/2000:   0%|          | 0/27 [00:00<?, ?batch/s]"
      ]
     },
     "metadata": {},
     "output_type": "display_data"
    },
    {
     "data": {
      "application/vnd.jupyter.widget-view+json": {
       "model_id": "0a835ad06b5445ef8e168142479f7acf",
       "version_major": 2,
       "version_minor": 0
      },
      "text/plain": [
       "Epoch 747/2000:   0%|          | 0/27 [00:00<?, ?batch/s]"
      ]
     },
     "metadata": {},
     "output_type": "display_data"
    },
    {
     "data": {
      "application/vnd.jupyter.widget-view+json": {
       "model_id": "2ed58e9750f2487197001fa2d7abb04a",
       "version_major": 2,
       "version_minor": 0
      },
      "text/plain": [
       "Epoch 748/2000:   0%|          | 0/27 [00:00<?, ?batch/s]"
      ]
     },
     "metadata": {},
     "output_type": "display_data"
    },
    {
     "data": {
      "application/vnd.jupyter.widget-view+json": {
       "model_id": "463eca18f076476ca41428dc6e5f8007",
       "version_major": 2,
       "version_minor": 0
      },
      "text/plain": [
       "Epoch 749/2000:   0%|          | 0/27 [00:00<?, ?batch/s]"
      ]
     },
     "metadata": {},
     "output_type": "display_data"
    },
    {
     "data": {
      "application/vnd.jupyter.widget-view+json": {
       "model_id": "7f964eed1d274fbd871a7bf070ef4c61",
       "version_major": 2,
       "version_minor": 0
      },
      "text/plain": [
       "Epoch 750/2000:   0%|          | 0/27 [00:00<?, ?batch/s]"
      ]
     },
     "metadata": {},
     "output_type": "display_data"
    },
    {
     "data": {
      "application/vnd.jupyter.widget-view+json": {
       "model_id": "d4143b0d97d749e1a975ca2fae7e1dab",
       "version_major": 2,
       "version_minor": 0
      },
      "text/plain": [
       "Epoch 751/2000:   0%|          | 0/27 [00:00<?, ?batch/s]"
      ]
     },
     "metadata": {},
     "output_type": "display_data"
    },
    {
     "data": {
      "application/vnd.jupyter.widget-view+json": {
       "model_id": "75733c5d305b46c9b004938b430c002c",
       "version_major": 2,
       "version_minor": 0
      },
      "text/plain": [
       "Epoch 752/2000:   0%|          | 0/27 [00:00<?, ?batch/s]"
      ]
     },
     "metadata": {},
     "output_type": "display_data"
    },
    {
     "data": {
      "application/vnd.jupyter.widget-view+json": {
       "model_id": "74ccb75fb6664bce966853704000787f",
       "version_major": 2,
       "version_minor": 0
      },
      "text/plain": [
       "Epoch 753/2000:   0%|          | 0/27 [00:00<?, ?batch/s]"
      ]
     },
     "metadata": {},
     "output_type": "display_data"
    },
    {
     "data": {
      "application/vnd.jupyter.widget-view+json": {
       "model_id": "5efb8b25448547999d570941e76f8b8b",
       "version_major": 2,
       "version_minor": 0
      },
      "text/plain": [
       "Epoch 754/2000:   0%|          | 0/27 [00:00<?, ?batch/s]"
      ]
     },
     "metadata": {},
     "output_type": "display_data"
    },
    {
     "data": {
      "application/vnd.jupyter.widget-view+json": {
       "model_id": "7d5a79df9c894ec4886b195fbe1a06fb",
       "version_major": 2,
       "version_minor": 0
      },
      "text/plain": [
       "Epoch 755/2000:   0%|          | 0/27 [00:00<?, ?batch/s]"
      ]
     },
     "metadata": {},
     "output_type": "display_data"
    },
    {
     "data": {
      "application/vnd.jupyter.widget-view+json": {
       "model_id": "c9db66a75dcb476985cc90871636387e",
       "version_major": 2,
       "version_minor": 0
      },
      "text/plain": [
       "Epoch 756/2000:   0%|          | 0/27 [00:00<?, ?batch/s]"
      ]
     },
     "metadata": {},
     "output_type": "display_data"
    },
    {
     "data": {
      "application/vnd.jupyter.widget-view+json": {
       "model_id": "0d83d3baa6794cb6b8edc54a9dafe0d7",
       "version_major": 2,
       "version_minor": 0
      },
      "text/plain": [
       "Epoch 757/2000:   0%|          | 0/27 [00:00<?, ?batch/s]"
      ]
     },
     "metadata": {},
     "output_type": "display_data"
    },
    {
     "data": {
      "application/vnd.jupyter.widget-view+json": {
       "model_id": "1a028a7f10cf48bea6ea462b0bbee46d",
       "version_major": 2,
       "version_minor": 0
      },
      "text/plain": [
       "Epoch 758/2000:   0%|          | 0/27 [00:00<?, ?batch/s]"
      ]
     },
     "metadata": {},
     "output_type": "display_data"
    },
    {
     "data": {
      "application/vnd.jupyter.widget-view+json": {
       "model_id": "4815139428df42b7a25ae6765b4f53d8",
       "version_major": 2,
       "version_minor": 0
      },
      "text/plain": [
       "Epoch 759/2000:   0%|          | 0/27 [00:00<?, ?batch/s]"
      ]
     },
     "metadata": {},
     "output_type": "display_data"
    },
    {
     "data": {
      "application/vnd.jupyter.widget-view+json": {
       "model_id": "8aec6fff16fe4d698d8acb6e06d7095a",
       "version_major": 2,
       "version_minor": 0
      },
      "text/plain": [
       "Epoch 760/2000:   0%|          | 0/27 [00:00<?, ?batch/s]"
      ]
     },
     "metadata": {},
     "output_type": "display_data"
    },
    {
     "data": {
      "application/vnd.jupyter.widget-view+json": {
       "model_id": "0560302824c34156b5fa1963406868cb",
       "version_major": 2,
       "version_minor": 0
      },
      "text/plain": [
       "Epoch 761/2000:   0%|          | 0/27 [00:00<?, ?batch/s]"
      ]
     },
     "metadata": {},
     "output_type": "display_data"
    },
    {
     "data": {
      "application/vnd.jupyter.widget-view+json": {
       "model_id": "86573caef30049309e169c14c45fdd61",
       "version_major": 2,
       "version_minor": 0
      },
      "text/plain": [
       "Epoch 762/2000:   0%|          | 0/27 [00:00<?, ?batch/s]"
      ]
     },
     "metadata": {},
     "output_type": "display_data"
    },
    {
     "data": {
      "application/vnd.jupyter.widget-view+json": {
       "model_id": "43dac336933c458691f746cf17eb2b56",
       "version_major": 2,
       "version_minor": 0
      },
      "text/plain": [
       "Epoch 763/2000:   0%|          | 0/27 [00:00<?, ?batch/s]"
      ]
     },
     "metadata": {},
     "output_type": "display_data"
    },
    {
     "data": {
      "application/vnd.jupyter.widget-view+json": {
       "model_id": "539777be3c1f4a1f822225eb8923f013",
       "version_major": 2,
       "version_minor": 0
      },
      "text/plain": [
       "Epoch 764/2000:   0%|          | 0/27 [00:00<?, ?batch/s]"
      ]
     },
     "metadata": {},
     "output_type": "display_data"
    },
    {
     "data": {
      "application/vnd.jupyter.widget-view+json": {
       "model_id": "cb83bea9266a4efc87d68496434471a7",
       "version_major": 2,
       "version_minor": 0
      },
      "text/plain": [
       "Epoch 765/2000:   0%|          | 0/27 [00:00<?, ?batch/s]"
      ]
     },
     "metadata": {},
     "output_type": "display_data"
    },
    {
     "data": {
      "application/vnd.jupyter.widget-view+json": {
       "model_id": "9b9ed36ecd6e476ba6db77f50a06efdf",
       "version_major": 2,
       "version_minor": 0
      },
      "text/plain": [
       "Epoch 766/2000:   0%|          | 0/27 [00:00<?, ?batch/s]"
      ]
     },
     "metadata": {},
     "output_type": "display_data"
    },
    {
     "data": {
      "application/vnd.jupyter.widget-view+json": {
       "model_id": "2d69db2321304f4aaafd6956ed0a95a0",
       "version_major": 2,
       "version_minor": 0
      },
      "text/plain": [
       "Epoch 767/2000:   0%|          | 0/27 [00:00<?, ?batch/s]"
      ]
     },
     "metadata": {},
     "output_type": "display_data"
    },
    {
     "data": {
      "application/vnd.jupyter.widget-view+json": {
       "model_id": "086327f7b7c64c4b818076c975eb4acb",
       "version_major": 2,
       "version_minor": 0
      },
      "text/plain": [
       "Epoch 768/2000:   0%|          | 0/27 [00:00<?, ?batch/s]"
      ]
     },
     "metadata": {},
     "output_type": "display_data"
    },
    {
     "data": {
      "application/vnd.jupyter.widget-view+json": {
       "model_id": "b8ba1d9ffa2044c1a5945a1f2a2b263c",
       "version_major": 2,
       "version_minor": 0
      },
      "text/plain": [
       "Epoch 769/2000:   0%|          | 0/27 [00:00<?, ?batch/s]"
      ]
     },
     "metadata": {},
     "output_type": "display_data"
    },
    {
     "data": {
      "application/vnd.jupyter.widget-view+json": {
       "model_id": "1562199d3ca4478d99262b27b5d01e1a",
       "version_major": 2,
       "version_minor": 0
      },
      "text/plain": [
       "Epoch 770/2000:   0%|          | 0/27 [00:00<?, ?batch/s]"
      ]
     },
     "metadata": {},
     "output_type": "display_data"
    },
    {
     "data": {
      "application/vnd.jupyter.widget-view+json": {
       "model_id": "834637cc91ae4ad0a3fe9c6215a97211",
       "version_major": 2,
       "version_minor": 0
      },
      "text/plain": [
       "Epoch 771/2000:   0%|          | 0/27 [00:00<?, ?batch/s]"
      ]
     },
     "metadata": {},
     "output_type": "display_data"
    },
    {
     "data": {
      "application/vnd.jupyter.widget-view+json": {
       "model_id": "1ad232b07359461a9579f54eb4520de7",
       "version_major": 2,
       "version_minor": 0
      },
      "text/plain": [
       "Epoch 772/2000:   0%|          | 0/27 [00:00<?, ?batch/s]"
      ]
     },
     "metadata": {},
     "output_type": "display_data"
    },
    {
     "data": {
      "application/vnd.jupyter.widget-view+json": {
       "model_id": "00528f3d350943528bbf0c56f9623920",
       "version_major": 2,
       "version_minor": 0
      },
      "text/plain": [
       "Epoch 773/2000:   0%|          | 0/27 [00:00<?, ?batch/s]"
      ]
     },
     "metadata": {},
     "output_type": "display_data"
    },
    {
     "data": {
      "application/vnd.jupyter.widget-view+json": {
       "model_id": "216dddce73e24f30bd7e6df7ab53d8d3",
       "version_major": 2,
       "version_minor": 0
      },
      "text/plain": [
       "Epoch 774/2000:   0%|          | 0/27 [00:00<?, ?batch/s]"
      ]
     },
     "metadata": {},
     "output_type": "display_data"
    },
    {
     "data": {
      "application/vnd.jupyter.widget-view+json": {
       "model_id": "df433c825d0a4dc38b8c69f2aac5827e",
       "version_major": 2,
       "version_minor": 0
      },
      "text/plain": [
       "Epoch 775/2000:   0%|          | 0/27 [00:00<?, ?batch/s]"
      ]
     },
     "metadata": {},
     "output_type": "display_data"
    },
    {
     "data": {
      "application/vnd.jupyter.widget-view+json": {
       "model_id": "3293034576624811983db240e6d1f2ba",
       "version_major": 2,
       "version_minor": 0
      },
      "text/plain": [
       "Epoch 776/2000:   0%|          | 0/27 [00:00<?, ?batch/s]"
      ]
     },
     "metadata": {},
     "output_type": "display_data"
    },
    {
     "data": {
      "application/vnd.jupyter.widget-view+json": {
       "model_id": "560a703f4a734af8ba1287771535721e",
       "version_major": 2,
       "version_minor": 0
      },
      "text/plain": [
       "Epoch 777/2000:   0%|          | 0/27 [00:00<?, ?batch/s]"
      ]
     },
     "metadata": {},
     "output_type": "display_data"
    },
    {
     "data": {
      "application/vnd.jupyter.widget-view+json": {
       "model_id": "7fb4d213ae1a4aaf9f32758f48d2363b",
       "version_major": 2,
       "version_minor": 0
      },
      "text/plain": [
       "Epoch 778/2000:   0%|          | 0/27 [00:00<?, ?batch/s]"
      ]
     },
     "metadata": {},
     "output_type": "display_data"
    },
    {
     "data": {
      "application/vnd.jupyter.widget-view+json": {
       "model_id": "940c9fcdf7b84a758cb5bb8762fd5203",
       "version_major": 2,
       "version_minor": 0
      },
      "text/plain": [
       "Epoch 779/2000:   0%|          | 0/27 [00:00<?, ?batch/s]"
      ]
     },
     "metadata": {},
     "output_type": "display_data"
    },
    {
     "data": {
      "application/vnd.jupyter.widget-view+json": {
       "model_id": "4096978dd1f04e82bce39dc2144569da",
       "version_major": 2,
       "version_minor": 0
      },
      "text/plain": [
       "Epoch 780/2000:   0%|          | 0/27 [00:00<?, ?batch/s]"
      ]
     },
     "metadata": {},
     "output_type": "display_data"
    },
    {
     "data": {
      "application/vnd.jupyter.widget-view+json": {
       "model_id": "fa9ea39b377a456f8b47d753a0a08ff1",
       "version_major": 2,
       "version_minor": 0
      },
      "text/plain": [
       "Epoch 781/2000:   0%|          | 0/27 [00:00<?, ?batch/s]"
      ]
     },
     "metadata": {},
     "output_type": "display_data"
    },
    {
     "data": {
      "application/vnd.jupyter.widget-view+json": {
       "model_id": "c164b4acc95842b38d6bf55a6bf83ed1",
       "version_major": 2,
       "version_minor": 0
      },
      "text/plain": [
       "Epoch 782/2000:   0%|          | 0/27 [00:00<?, ?batch/s]"
      ]
     },
     "metadata": {},
     "output_type": "display_data"
    },
    {
     "data": {
      "application/vnd.jupyter.widget-view+json": {
       "model_id": "df3fe4b228124bde8af694d73ae8c216",
       "version_major": 2,
       "version_minor": 0
      },
      "text/plain": [
       "Epoch 783/2000:   0%|          | 0/27 [00:00<?, ?batch/s]"
      ]
     },
     "metadata": {},
     "output_type": "display_data"
    },
    {
     "data": {
      "application/vnd.jupyter.widget-view+json": {
       "model_id": "8763b03975ae4e13b06d74b86dc3b4df",
       "version_major": 2,
       "version_minor": 0
      },
      "text/plain": [
       "Epoch 784/2000:   0%|          | 0/27 [00:00<?, ?batch/s]"
      ]
     },
     "metadata": {},
     "output_type": "display_data"
    },
    {
     "data": {
      "application/vnd.jupyter.widget-view+json": {
       "model_id": "d8ebbda5abe74e2b9cc14eac4ac5483d",
       "version_major": 2,
       "version_minor": 0
      },
      "text/plain": [
       "Epoch 785/2000:   0%|          | 0/27 [00:00<?, ?batch/s]"
      ]
     },
     "metadata": {},
     "output_type": "display_data"
    },
    {
     "data": {
      "application/vnd.jupyter.widget-view+json": {
       "model_id": "09eb7bede194477991f5f14bcc348c4b",
       "version_major": 2,
       "version_minor": 0
      },
      "text/plain": [
       "Epoch 786/2000:   0%|          | 0/27 [00:00<?, ?batch/s]"
      ]
     },
     "metadata": {},
     "output_type": "display_data"
    },
    {
     "data": {
      "application/vnd.jupyter.widget-view+json": {
       "model_id": "50aed961b26f4bdf9b3682494590796a",
       "version_major": 2,
       "version_minor": 0
      },
      "text/plain": [
       "Epoch 787/2000:   0%|          | 0/27 [00:00<?, ?batch/s]"
      ]
     },
     "metadata": {},
     "output_type": "display_data"
    },
    {
     "data": {
      "application/vnd.jupyter.widget-view+json": {
       "model_id": "c49ef065fa9e4d8db1759e0c23168876",
       "version_major": 2,
       "version_minor": 0
      },
      "text/plain": [
       "Epoch 788/2000:   0%|          | 0/27 [00:00<?, ?batch/s]"
      ]
     },
     "metadata": {},
     "output_type": "display_data"
    },
    {
     "data": {
      "application/vnd.jupyter.widget-view+json": {
       "model_id": "175646b80b274c93a39a8af60e65a981",
       "version_major": 2,
       "version_minor": 0
      },
      "text/plain": [
       "Epoch 789/2000:   0%|          | 0/27 [00:00<?, ?batch/s]"
      ]
     },
     "metadata": {},
     "output_type": "display_data"
    },
    {
     "data": {
      "application/vnd.jupyter.widget-view+json": {
       "model_id": "31082e5787f34c3fa0a578993467354b",
       "version_major": 2,
       "version_minor": 0
      },
      "text/plain": [
       "Epoch 790/2000:   0%|          | 0/27 [00:00<?, ?batch/s]"
      ]
     },
     "metadata": {},
     "output_type": "display_data"
    },
    {
     "data": {
      "application/vnd.jupyter.widget-view+json": {
       "model_id": "28c3a713e79e463fbec32c0743e94450",
       "version_major": 2,
       "version_minor": 0
      },
      "text/plain": [
       "Epoch 791/2000:   0%|          | 0/27 [00:00<?, ?batch/s]"
      ]
     },
     "metadata": {},
     "output_type": "display_data"
    },
    {
     "data": {
      "application/vnd.jupyter.widget-view+json": {
       "model_id": "28697211fb2441a9b8614eb0148ce44b",
       "version_major": 2,
       "version_minor": 0
      },
      "text/plain": [
       "Epoch 792/2000:   0%|          | 0/27 [00:00<?, ?batch/s]"
      ]
     },
     "metadata": {},
     "output_type": "display_data"
    },
    {
     "data": {
      "application/vnd.jupyter.widget-view+json": {
       "model_id": "5286890c3a2e461b8256548902515bfd",
       "version_major": 2,
       "version_minor": 0
      },
      "text/plain": [
       "Epoch 793/2000:   0%|          | 0/27 [00:00<?, ?batch/s]"
      ]
     },
     "metadata": {},
     "output_type": "display_data"
    },
    {
     "data": {
      "application/vnd.jupyter.widget-view+json": {
       "model_id": "218afd73eade45599d2396461d96ae62",
       "version_major": 2,
       "version_minor": 0
      },
      "text/plain": [
       "Epoch 794/2000:   0%|          | 0/27 [00:00<?, ?batch/s]"
      ]
     },
     "metadata": {},
     "output_type": "display_data"
    },
    {
     "data": {
      "application/vnd.jupyter.widget-view+json": {
       "model_id": "875c8516e7e443678a57bb9c410ef453",
       "version_major": 2,
       "version_minor": 0
      },
      "text/plain": [
       "Epoch 795/2000:   0%|          | 0/27 [00:00<?, ?batch/s]"
      ]
     },
     "metadata": {},
     "output_type": "display_data"
    },
    {
     "data": {
      "application/vnd.jupyter.widget-view+json": {
       "model_id": "f114415d2169443eac1106341cb9f75c",
       "version_major": 2,
       "version_minor": 0
      },
      "text/plain": [
       "Epoch 796/2000:   0%|          | 0/27 [00:00<?, ?batch/s]"
      ]
     },
     "metadata": {},
     "output_type": "display_data"
    },
    {
     "data": {
      "application/vnd.jupyter.widget-view+json": {
       "model_id": "7f15e5334517467d8df56db31c2b5006",
       "version_major": 2,
       "version_minor": 0
      },
      "text/plain": [
       "Epoch 797/2000:   0%|          | 0/27 [00:00<?, ?batch/s]"
      ]
     },
     "metadata": {},
     "output_type": "display_data"
    },
    {
     "data": {
      "application/vnd.jupyter.widget-view+json": {
       "model_id": "bd0c05167f9c4115929addb55b8ed2d7",
       "version_major": 2,
       "version_minor": 0
      },
      "text/plain": [
       "Epoch 798/2000:   0%|          | 0/27 [00:00<?, ?batch/s]"
      ]
     },
     "metadata": {},
     "output_type": "display_data"
    },
    {
     "data": {
      "application/vnd.jupyter.widget-view+json": {
       "model_id": "abfd2d8b0aaa416ab07bac6b00688e51",
       "version_major": 2,
       "version_minor": 0
      },
      "text/plain": [
       "Epoch 799/2000:   0%|          | 0/27 [00:00<?, ?batch/s]"
      ]
     },
     "metadata": {},
     "output_type": "display_data"
    },
    {
     "data": {
      "application/vnd.jupyter.widget-view+json": {
       "model_id": "c25cd7ef7c3c499fa5de9b52f9a1e2a4",
       "version_major": 2,
       "version_minor": 0
      },
      "text/plain": [
       "Epoch 800/2000:   0%|          | 0/27 [00:00<?, ?batch/s]"
      ]
     },
     "metadata": {},
     "output_type": "display_data"
    },
    {
     "data": {
      "application/vnd.jupyter.widget-view+json": {
       "model_id": "4c5046e9077746deb207ef3c38d44954",
       "version_major": 2,
       "version_minor": 0
      },
      "text/plain": [
       "Epoch 801/2000:   0%|          | 0/27 [00:00<?, ?batch/s]"
      ]
     },
     "metadata": {},
     "output_type": "display_data"
    },
    {
     "data": {
      "application/vnd.jupyter.widget-view+json": {
       "model_id": "0cbde527b6da444dba9adf4e073e1738",
       "version_major": 2,
       "version_minor": 0
      },
      "text/plain": [
       "Epoch 802/2000:   0%|          | 0/27 [00:00<?, ?batch/s]"
      ]
     },
     "metadata": {},
     "output_type": "display_data"
    },
    {
     "data": {
      "application/vnd.jupyter.widget-view+json": {
       "model_id": "a59c097d2889497dac638ced67444b6b",
       "version_major": 2,
       "version_minor": 0
      },
      "text/plain": [
       "Epoch 803/2000:   0%|          | 0/27 [00:00<?, ?batch/s]"
      ]
     },
     "metadata": {},
     "output_type": "display_data"
    },
    {
     "data": {
      "application/vnd.jupyter.widget-view+json": {
       "model_id": "b3c90cd72fc34033af4cdcccf60c2298",
       "version_major": 2,
       "version_minor": 0
      },
      "text/plain": [
       "Epoch 804/2000:   0%|          | 0/27 [00:00<?, ?batch/s]"
      ]
     },
     "metadata": {},
     "output_type": "display_data"
    },
    {
     "data": {
      "application/vnd.jupyter.widget-view+json": {
       "model_id": "ba090c0a16d9475faa965702083f8f40",
       "version_major": 2,
       "version_minor": 0
      },
      "text/plain": [
       "Epoch 805/2000:   0%|          | 0/27 [00:00<?, ?batch/s]"
      ]
     },
     "metadata": {},
     "output_type": "display_data"
    },
    {
     "data": {
      "application/vnd.jupyter.widget-view+json": {
       "model_id": "c9208075abf941e8ba909964e2e76fb2",
       "version_major": 2,
       "version_minor": 0
      },
      "text/plain": [
       "Epoch 806/2000:   0%|          | 0/27 [00:00<?, ?batch/s]"
      ]
     },
     "metadata": {},
     "output_type": "display_data"
    },
    {
     "data": {
      "application/vnd.jupyter.widget-view+json": {
       "model_id": "5117c8643fd543e28edef0382da5c0e5",
       "version_major": 2,
       "version_minor": 0
      },
      "text/plain": [
       "Epoch 807/2000:   0%|          | 0/27 [00:00<?, ?batch/s]"
      ]
     },
     "metadata": {},
     "output_type": "display_data"
    },
    {
     "data": {
      "application/vnd.jupyter.widget-view+json": {
       "model_id": "81d37e173e3e454f989409e2898a78f6",
       "version_major": 2,
       "version_minor": 0
      },
      "text/plain": [
       "Epoch 808/2000:   0%|          | 0/27 [00:00<?, ?batch/s]"
      ]
     },
     "metadata": {},
     "output_type": "display_data"
    },
    {
     "data": {
      "application/vnd.jupyter.widget-view+json": {
       "model_id": "469f6bee8bd64a0d96c9f458bb8f567b",
       "version_major": 2,
       "version_minor": 0
      },
      "text/plain": [
       "Epoch 809/2000:   0%|          | 0/27 [00:00<?, ?batch/s]"
      ]
     },
     "metadata": {},
     "output_type": "display_data"
    },
    {
     "data": {
      "application/vnd.jupyter.widget-view+json": {
       "model_id": "cc5d8a6f840f480a91c318d7ed2c9158",
       "version_major": 2,
       "version_minor": 0
      },
      "text/plain": [
       "Epoch 810/2000:   0%|          | 0/27 [00:00<?, ?batch/s]"
      ]
     },
     "metadata": {},
     "output_type": "display_data"
    },
    {
     "data": {
      "application/vnd.jupyter.widget-view+json": {
       "model_id": "873e3db4164b4875aef4b9bce9289180",
       "version_major": 2,
       "version_minor": 0
      },
      "text/plain": [
       "Epoch 811/2000:   0%|          | 0/27 [00:00<?, ?batch/s]"
      ]
     },
     "metadata": {},
     "output_type": "display_data"
    },
    {
     "data": {
      "application/vnd.jupyter.widget-view+json": {
       "model_id": "52be952ed81b420bac51642c4669b4ec",
       "version_major": 2,
       "version_minor": 0
      },
      "text/plain": [
       "Epoch 812/2000:   0%|          | 0/27 [00:00<?, ?batch/s]"
      ]
     },
     "metadata": {},
     "output_type": "display_data"
    },
    {
     "data": {
      "application/vnd.jupyter.widget-view+json": {
       "model_id": "3856b7bd69eb454d8be867184da58673",
       "version_major": 2,
       "version_minor": 0
      },
      "text/plain": [
       "Epoch 813/2000:   0%|          | 0/27 [00:00<?, ?batch/s]"
      ]
     },
     "metadata": {},
     "output_type": "display_data"
    },
    {
     "data": {
      "application/vnd.jupyter.widget-view+json": {
       "model_id": "2b14bca3b50441afa8e546a089958828",
       "version_major": 2,
       "version_minor": 0
      },
      "text/plain": [
       "Epoch 814/2000:   0%|          | 0/27 [00:00<?, ?batch/s]"
      ]
     },
     "metadata": {},
     "output_type": "display_data"
    },
    {
     "data": {
      "application/vnd.jupyter.widget-view+json": {
       "model_id": "1a288df7d88c4dad9cd48abb451c8019",
       "version_major": 2,
       "version_minor": 0
      },
      "text/plain": [
       "Epoch 815/2000:   0%|          | 0/27 [00:00<?, ?batch/s]"
      ]
     },
     "metadata": {},
     "output_type": "display_data"
    },
    {
     "data": {
      "application/vnd.jupyter.widget-view+json": {
       "model_id": "dfcdc140397b4b8784ed627d9e127e45",
       "version_major": 2,
       "version_minor": 0
      },
      "text/plain": [
       "Epoch 816/2000:   0%|          | 0/27 [00:00<?, ?batch/s]"
      ]
     },
     "metadata": {},
     "output_type": "display_data"
    },
    {
     "data": {
      "application/vnd.jupyter.widget-view+json": {
       "model_id": "b7e4d450a2884b04becad90ac33abc39",
       "version_major": 2,
       "version_minor": 0
      },
      "text/plain": [
       "Epoch 817/2000:   0%|          | 0/27 [00:00<?, ?batch/s]"
      ]
     },
     "metadata": {},
     "output_type": "display_data"
    },
    {
     "data": {
      "application/vnd.jupyter.widget-view+json": {
       "model_id": "cac6bc22fe744201b79e70a81f225b7b",
       "version_major": 2,
       "version_minor": 0
      },
      "text/plain": [
       "Epoch 818/2000:   0%|          | 0/27 [00:00<?, ?batch/s]"
      ]
     },
     "metadata": {},
     "output_type": "display_data"
    },
    {
     "data": {
      "application/vnd.jupyter.widget-view+json": {
       "model_id": "1d5cd71f817240b0a5c67d6f67b2bc01",
       "version_major": 2,
       "version_minor": 0
      },
      "text/plain": [
       "Epoch 819/2000:   0%|          | 0/27 [00:00<?, ?batch/s]"
      ]
     },
     "metadata": {},
     "output_type": "display_data"
    },
    {
     "data": {
      "application/vnd.jupyter.widget-view+json": {
       "model_id": "748e85c04cb34de4a2cf36559d8808f0",
       "version_major": 2,
       "version_minor": 0
      },
      "text/plain": [
       "Epoch 820/2000:   0%|          | 0/27 [00:00<?, ?batch/s]"
      ]
     },
     "metadata": {},
     "output_type": "display_data"
    },
    {
     "data": {
      "application/vnd.jupyter.widget-view+json": {
       "model_id": "eabb09412252441493f58e592f577f75",
       "version_major": 2,
       "version_minor": 0
      },
      "text/plain": [
       "Epoch 821/2000:   0%|          | 0/27 [00:00<?, ?batch/s]"
      ]
     },
     "metadata": {},
     "output_type": "display_data"
    },
    {
     "data": {
      "application/vnd.jupyter.widget-view+json": {
       "model_id": "e26a486e105a41ae94a5a7026c44a7ab",
       "version_major": 2,
       "version_minor": 0
      },
      "text/plain": [
       "Epoch 822/2000:   0%|          | 0/27 [00:00<?, ?batch/s]"
      ]
     },
     "metadata": {},
     "output_type": "display_data"
    },
    {
     "name": "stderr",
     "output_type": "stream",
     "text": [
      "IOPub message rate exceeded.\n",
      "The Jupyter server will temporarily stop sending output\n",
      "to the client in order to avoid crashing it.\n",
      "To change this limit, set the config variable\n",
      "`--ServerApp.iopub_msg_rate_limit`.\n",
      "\n",
      "Current values:\n",
      "ServerApp.iopub_msg_rate_limit=1000.0 (msgs/sec)\n",
      "ServerApp.rate_limit_window=3.0 (secs)\n",
      "\n"
     ]
    },
    {
     "data": {
      "application/vnd.jupyter.widget-view+json": {
       "model_id": "9ef203135a6145f2a6c30e10eddd8465",
       "version_major": 2,
       "version_minor": 0
      },
      "text/plain": [
       "Epoch 830/2000:   0%|          | 0/27 [00:00<?, ?batch/s]"
      ]
     },
     "metadata": {},
     "output_type": "display_data"
    },
    {
     "data": {
      "application/vnd.jupyter.widget-view+json": {
       "model_id": "d411d752aef34e239fca8a5dbb8082fa",
       "version_major": 2,
       "version_minor": 0
      },
      "text/plain": [
       "Epoch 831/2000:   0%|          | 0/27 [00:00<?, ?batch/s]"
      ]
     },
     "metadata": {},
     "output_type": "display_data"
    },
    {
     "data": {
      "application/vnd.jupyter.widget-view+json": {
       "model_id": "1ba76dbedb35492b8cc118dcfbfb8f70",
       "version_major": 2,
       "version_minor": 0
      },
      "text/plain": [
       "Epoch 832/2000:   0%|          | 0/27 [00:00<?, ?batch/s]"
      ]
     },
     "metadata": {},
     "output_type": "display_data"
    },
    {
     "data": {
      "application/vnd.jupyter.widget-view+json": {
       "model_id": "89a360bf01ea4753a16c01a854b0baec",
       "version_major": 2,
       "version_minor": 0
      },
      "text/plain": [
       "Epoch 833/2000:   0%|          | 0/27 [00:00<?, ?batch/s]"
      ]
     },
     "metadata": {},
     "output_type": "display_data"
    },
    {
     "data": {
      "application/vnd.jupyter.widget-view+json": {
       "model_id": "6c2bace5885d433791d3bf026b8e62ac",
       "version_major": 2,
       "version_minor": 0
      },
      "text/plain": [
       "Epoch 834/2000:   0%|          | 0/27 [00:00<?, ?batch/s]"
      ]
     },
     "metadata": {},
     "output_type": "display_data"
    },
    {
     "data": {
      "application/vnd.jupyter.widget-view+json": {
       "model_id": "dd5ba26cad5c4046aa97e6490dd51d08",
       "version_major": 2,
       "version_minor": 0
      },
      "text/plain": [
       "Epoch 835/2000:   0%|          | 0/27 [00:00<?, ?batch/s]"
      ]
     },
     "metadata": {},
     "output_type": "display_data"
    },
    {
     "data": {
      "application/vnd.jupyter.widget-view+json": {
       "model_id": "5eb2af60d6604675ac7a35e95d4e08d4",
       "version_major": 2,
       "version_minor": 0
      },
      "text/plain": [
       "Epoch 836/2000:   0%|          | 0/27 [00:00<?, ?batch/s]"
      ]
     },
     "metadata": {},
     "output_type": "display_data"
    },
    {
     "data": {
      "application/vnd.jupyter.widget-view+json": {
       "model_id": "75f8869bec9643a2b7dd8e5c86d2f469",
       "version_major": 2,
       "version_minor": 0
      },
      "text/plain": [
       "Epoch 837/2000:   0%|          | 0/27 [00:00<?, ?batch/s]"
      ]
     },
     "metadata": {},
     "output_type": "display_data"
    },
    {
     "data": {
      "application/vnd.jupyter.widget-view+json": {
       "model_id": "7e7ab5e7fbe64c14bfff4fedb350bca2",
       "version_major": 2,
       "version_minor": 0
      },
      "text/plain": [
       "Epoch 838/2000:   0%|          | 0/27 [00:00<?, ?batch/s]"
      ]
     },
     "metadata": {},
     "output_type": "display_data"
    },
    {
     "data": {
      "application/vnd.jupyter.widget-view+json": {
       "model_id": "defa3d2f9e62403ea35bf6af7fb5fcfe",
       "version_major": 2,
       "version_minor": 0
      },
      "text/plain": [
       "Epoch 839/2000:   0%|          | 0/27 [00:00<?, ?batch/s]"
      ]
     },
     "metadata": {},
     "output_type": "display_data"
    },
    {
     "data": {
      "application/vnd.jupyter.widget-view+json": {
       "model_id": "29c677a3779b4e2faf4ce9995767108e",
       "version_major": 2,
       "version_minor": 0
      },
      "text/plain": [
       "Epoch 840/2000:   0%|          | 0/27 [00:00<?, ?batch/s]"
      ]
     },
     "metadata": {},
     "output_type": "display_data"
    },
    {
     "data": {
      "application/vnd.jupyter.widget-view+json": {
       "model_id": "97e55ffd99ec4ee6ad70298a77ebdf0c",
       "version_major": 2,
       "version_minor": 0
      },
      "text/plain": [
       "Epoch 841/2000:   0%|          | 0/27 [00:00<?, ?batch/s]"
      ]
     },
     "metadata": {},
     "output_type": "display_data"
    },
    {
     "data": {
      "application/vnd.jupyter.widget-view+json": {
       "model_id": "0388baf7c3444b669bf3d3353ff746a1",
       "version_major": 2,
       "version_minor": 0
      },
      "text/plain": [
       "Epoch 842/2000:   0%|          | 0/27 [00:00<?, ?batch/s]"
      ]
     },
     "metadata": {},
     "output_type": "display_data"
    },
    {
     "data": {
      "application/vnd.jupyter.widget-view+json": {
       "model_id": "b155799cedc04755a42bf5a6083564b8",
       "version_major": 2,
       "version_minor": 0
      },
      "text/plain": [
       "Epoch 843/2000:   0%|          | 0/27 [00:00<?, ?batch/s]"
      ]
     },
     "metadata": {},
     "output_type": "display_data"
    },
    {
     "data": {
      "application/vnd.jupyter.widget-view+json": {
       "model_id": "2d4eb3b872be4ed999ce13f887e74a90",
       "version_major": 2,
       "version_minor": 0
      },
      "text/plain": [
       "Epoch 844/2000:   0%|          | 0/27 [00:00<?, ?batch/s]"
      ]
     },
     "metadata": {},
     "output_type": "display_data"
    },
    {
     "data": {
      "application/vnd.jupyter.widget-view+json": {
       "model_id": "2c1784da904948b8915e0e22b9037bc8",
       "version_major": 2,
       "version_minor": 0
      },
      "text/plain": [
       "Epoch 845/2000:   0%|          | 0/27 [00:00<?, ?batch/s]"
      ]
     },
     "metadata": {},
     "output_type": "display_data"
    },
    {
     "data": {
      "application/vnd.jupyter.widget-view+json": {
       "model_id": "117acdf56df5460ca2d7d721316238f5",
       "version_major": 2,
       "version_minor": 0
      },
      "text/plain": [
       "Epoch 846/2000:   0%|          | 0/27 [00:00<?, ?batch/s]"
      ]
     },
     "metadata": {},
     "output_type": "display_data"
    },
    {
     "data": {
      "application/vnd.jupyter.widget-view+json": {
       "model_id": "9dda677a7f464d1e9490756b2fd31611",
       "version_major": 2,
       "version_minor": 0
      },
      "text/plain": [
       "Epoch 847/2000:   0%|          | 0/27 [00:00<?, ?batch/s]"
      ]
     },
     "metadata": {},
     "output_type": "display_data"
    },
    {
     "data": {
      "application/vnd.jupyter.widget-view+json": {
       "model_id": "0b33d23de455424d9edf6ac861f9b014",
       "version_major": 2,
       "version_minor": 0
      },
      "text/plain": [
       "Epoch 848/2000:   0%|          | 0/27 [00:00<?, ?batch/s]"
      ]
     },
     "metadata": {},
     "output_type": "display_data"
    },
    {
     "data": {
      "application/vnd.jupyter.widget-view+json": {
       "model_id": "828e3740b2b249fa968fb3295626c5ba",
       "version_major": 2,
       "version_minor": 0
      },
      "text/plain": [
       "Epoch 849/2000:   0%|          | 0/27 [00:00<?, ?batch/s]"
      ]
     },
     "metadata": {},
     "output_type": "display_data"
    },
    {
     "data": {
      "application/vnd.jupyter.widget-view+json": {
       "model_id": "89becc4ecc104641aaa7c521be261346",
       "version_major": 2,
       "version_minor": 0
      },
      "text/plain": [
       "Epoch 850/2000:   0%|          | 0/27 [00:00<?, ?batch/s]"
      ]
     },
     "metadata": {},
     "output_type": "display_data"
    },
    {
     "data": {
      "application/vnd.jupyter.widget-view+json": {
       "model_id": "b54333be48d24b75a4aac45ba9ca63fc",
       "version_major": 2,
       "version_minor": 0
      },
      "text/plain": [
       "Epoch 851/2000:   0%|          | 0/27 [00:00<?, ?batch/s]"
      ]
     },
     "metadata": {},
     "output_type": "display_data"
    },
    {
     "data": {
      "application/vnd.jupyter.widget-view+json": {
       "model_id": "14ea887ef3c84c84b180398500a9072f",
       "version_major": 2,
       "version_minor": 0
      },
      "text/plain": [
       "Epoch 852/2000:   0%|          | 0/27 [00:00<?, ?batch/s]"
      ]
     },
     "metadata": {},
     "output_type": "display_data"
    },
    {
     "data": {
      "application/vnd.jupyter.widget-view+json": {
       "model_id": "daae25135a7044a1acd2c7f6299060ab",
       "version_major": 2,
       "version_minor": 0
      },
      "text/plain": [
       "Epoch 853/2000:   0%|          | 0/27 [00:00<?, ?batch/s]"
      ]
     },
     "metadata": {},
     "output_type": "display_data"
    },
    {
     "data": {
      "application/vnd.jupyter.widget-view+json": {
       "model_id": "03eda7dc5d694bc187d0112715818a2f",
       "version_major": 2,
       "version_minor": 0
      },
      "text/plain": [
       "Epoch 854/2000:   0%|          | 0/27 [00:00<?, ?batch/s]"
      ]
     },
     "metadata": {},
     "output_type": "display_data"
    },
    {
     "data": {
      "application/vnd.jupyter.widget-view+json": {
       "model_id": "8e8f7b4325fe44d58cb244f47ea81699",
       "version_major": 2,
       "version_minor": 0
      },
      "text/plain": [
       "Epoch 855/2000:   0%|          | 0/27 [00:00<?, ?batch/s]"
      ]
     },
     "metadata": {},
     "output_type": "display_data"
    },
    {
     "data": {
      "application/vnd.jupyter.widget-view+json": {
       "model_id": "375fab79f7fc4d0582accbbcbe6b0040",
       "version_major": 2,
       "version_minor": 0
      },
      "text/plain": [
       "Epoch 856/2000:   0%|          | 0/27 [00:00<?, ?batch/s]"
      ]
     },
     "metadata": {},
     "output_type": "display_data"
    },
    {
     "data": {
      "application/vnd.jupyter.widget-view+json": {
       "model_id": "2facbabf3f1a4b99970ffeb96f4dfa41",
       "version_major": 2,
       "version_minor": 0
      },
      "text/plain": [
       "Epoch 857/2000:   0%|          | 0/27 [00:00<?, ?batch/s]"
      ]
     },
     "metadata": {},
     "output_type": "display_data"
    },
    {
     "data": {
      "application/vnd.jupyter.widget-view+json": {
       "model_id": "7aef69a845dc45f88ff14d92aaac50f6",
       "version_major": 2,
       "version_minor": 0
      },
      "text/plain": [
       "Epoch 858/2000:   0%|          | 0/27 [00:00<?, ?batch/s]"
      ]
     },
     "metadata": {},
     "output_type": "display_data"
    },
    {
     "data": {
      "application/vnd.jupyter.widget-view+json": {
       "model_id": "a31c09f8728b4d4cb3f8b045224b4c43",
       "version_major": 2,
       "version_minor": 0
      },
      "text/plain": [
       "Epoch 859/2000:   0%|          | 0/27 [00:00<?, ?batch/s]"
      ]
     },
     "metadata": {},
     "output_type": "display_data"
    },
    {
     "data": {
      "application/vnd.jupyter.widget-view+json": {
       "model_id": "554529269ec5476794e2381d3d12444b",
       "version_major": 2,
       "version_minor": 0
      },
      "text/plain": [
       "Epoch 860/2000:   0%|          | 0/27 [00:00<?, ?batch/s]"
      ]
     },
     "metadata": {},
     "output_type": "display_data"
    },
    {
     "data": {
      "application/vnd.jupyter.widget-view+json": {
       "model_id": "7d36f96b12164c1f99274fab343a58e8",
       "version_major": 2,
       "version_minor": 0
      },
      "text/plain": [
       "Epoch 861/2000:   0%|          | 0/27 [00:00<?, ?batch/s]"
      ]
     },
     "metadata": {},
     "output_type": "display_data"
    },
    {
     "data": {
      "application/vnd.jupyter.widget-view+json": {
       "model_id": "89fe6efcc47645a1be285439f92b4a04",
       "version_major": 2,
       "version_minor": 0
      },
      "text/plain": [
       "Epoch 862/2000:   0%|          | 0/27 [00:00<?, ?batch/s]"
      ]
     },
     "metadata": {},
     "output_type": "display_data"
    },
    {
     "data": {
      "application/vnd.jupyter.widget-view+json": {
       "model_id": "e416544d73894d6a8f7104a6cbed5ca0",
       "version_major": 2,
       "version_minor": 0
      },
      "text/plain": [
       "Epoch 863/2000:   0%|          | 0/27 [00:00<?, ?batch/s]"
      ]
     },
     "metadata": {},
     "output_type": "display_data"
    },
    {
     "name": "stderr",
     "output_type": "stream",
     "text": [
      "IOPub message rate exceeded.\n",
      "The Jupyter server will temporarily stop sending output\n",
      "to the client in order to avoid crashing it.\n",
      "To change this limit, set the config variable\n",
      "`--ServerApp.iopub_msg_rate_limit`.\n",
      "\n",
      "Current values:\n",
      "ServerApp.iopub_msg_rate_limit=1000.0 (msgs/sec)\n",
      "ServerApp.rate_limit_window=3.0 (secs)\n",
      "\n"
     ]
    },
    {
     "data": {
      "application/vnd.jupyter.widget-view+json": {
       "model_id": "4ac61c01b8aa4047988ef36a25d140d9",
       "version_major": 2,
       "version_minor": 0
      },
      "text/plain": [
       "Epoch 872/2000:   0%|          | 0/27 [00:00<?, ?batch/s]"
      ]
     },
     "metadata": {},
     "output_type": "display_data"
    },
    {
     "data": {
      "application/vnd.jupyter.widget-view+json": {
       "model_id": "539d12e5976c40d08895467a583f9408",
       "version_major": 2,
       "version_minor": 0
      },
      "text/plain": [
       "Epoch 873/2000:   0%|          | 0/27 [00:00<?, ?batch/s]"
      ]
     },
     "metadata": {},
     "output_type": "display_data"
    },
    {
     "data": {
      "application/vnd.jupyter.widget-view+json": {
       "model_id": "6646591ee656488d89be5b0bf34c86ed",
       "version_major": 2,
       "version_minor": 0
      },
      "text/plain": [
       "Epoch 874/2000:   0%|          | 0/27 [00:00<?, ?batch/s]"
      ]
     },
     "metadata": {},
     "output_type": "display_data"
    },
    {
     "data": {
      "application/vnd.jupyter.widget-view+json": {
       "model_id": "78c0287fb62740a2ae8d54ae91ede839",
       "version_major": 2,
       "version_minor": 0
      },
      "text/plain": [
       "Epoch 875/2000:   0%|          | 0/27 [00:00<?, ?batch/s]"
      ]
     },
     "metadata": {},
     "output_type": "display_data"
    },
    {
     "data": {
      "application/vnd.jupyter.widget-view+json": {
       "model_id": "ba064f6836134a268e635ad1d9ca9428",
       "version_major": 2,
       "version_minor": 0
      },
      "text/plain": [
       "Epoch 876/2000:   0%|          | 0/27 [00:00<?, ?batch/s]"
      ]
     },
     "metadata": {},
     "output_type": "display_data"
    },
    {
     "data": {
      "application/vnd.jupyter.widget-view+json": {
       "model_id": "0aae0d0059534f26b931ac1446bf4a03",
       "version_major": 2,
       "version_minor": 0
      },
      "text/plain": [
       "Epoch 877/2000:   0%|          | 0/27 [00:00<?, ?batch/s]"
      ]
     },
     "metadata": {},
     "output_type": "display_data"
    },
    {
     "data": {
      "application/vnd.jupyter.widget-view+json": {
       "model_id": "69b2cac983394240b609e4d49b1f585c",
       "version_major": 2,
       "version_minor": 0
      },
      "text/plain": [
       "Epoch 878/2000:   0%|          | 0/27 [00:00<?, ?batch/s]"
      ]
     },
     "metadata": {},
     "output_type": "display_data"
    },
    {
     "data": {
      "application/vnd.jupyter.widget-view+json": {
       "model_id": "259d76d201954c7582609b80733e5412",
       "version_major": 2,
       "version_minor": 0
      },
      "text/plain": [
       "Epoch 879/2000:   0%|          | 0/27 [00:00<?, ?batch/s]"
      ]
     },
     "metadata": {},
     "output_type": "display_data"
    },
    {
     "data": {
      "application/vnd.jupyter.widget-view+json": {
       "model_id": "e26cc0a3e1a54888a446a83396487d1b",
       "version_major": 2,
       "version_minor": 0
      },
      "text/plain": [
       "Epoch 880/2000:   0%|          | 0/27 [00:00<?, ?batch/s]"
      ]
     },
     "metadata": {},
     "output_type": "display_data"
    },
    {
     "data": {
      "application/vnd.jupyter.widget-view+json": {
       "model_id": "41618536161e4771851c173e345c8e45",
       "version_major": 2,
       "version_minor": 0
      },
      "text/plain": [
       "Epoch 881/2000:   0%|          | 0/27 [00:00<?, ?batch/s]"
      ]
     },
     "metadata": {},
     "output_type": "display_data"
    },
    {
     "data": {
      "application/vnd.jupyter.widget-view+json": {
       "model_id": "f34b1da0484b4b50b077b2dcc490390f",
       "version_major": 2,
       "version_minor": 0
      },
      "text/plain": [
       "Epoch 882/2000:   0%|          | 0/27 [00:00<?, ?batch/s]"
      ]
     },
     "metadata": {},
     "output_type": "display_data"
    },
    {
     "data": {
      "application/vnd.jupyter.widget-view+json": {
       "model_id": "a5a01e902c0642c1bb2f34f8cc02cb58",
       "version_major": 2,
       "version_minor": 0
      },
      "text/plain": [
       "Epoch 883/2000:   0%|          | 0/27 [00:00<?, ?batch/s]"
      ]
     },
     "metadata": {},
     "output_type": "display_data"
    },
    {
     "data": {
      "application/vnd.jupyter.widget-view+json": {
       "model_id": "f3fdf7e4dc4b44a091e21ce59bc91656",
       "version_major": 2,
       "version_minor": 0
      },
      "text/plain": [
       "Epoch 884/2000:   0%|          | 0/27 [00:00<?, ?batch/s]"
      ]
     },
     "metadata": {},
     "output_type": "display_data"
    },
    {
     "data": {
      "application/vnd.jupyter.widget-view+json": {
       "model_id": "0554ac5dc01142659050f469764800e7",
       "version_major": 2,
       "version_minor": 0
      },
      "text/plain": [
       "Epoch 885/2000:   0%|          | 0/27 [00:00<?, ?batch/s]"
      ]
     },
     "metadata": {},
     "output_type": "display_data"
    },
    {
     "data": {
      "application/vnd.jupyter.widget-view+json": {
       "model_id": "6ec46366bac743a0986327f21ed884a0",
       "version_major": 2,
       "version_minor": 0
      },
      "text/plain": [
       "Epoch 886/2000:   0%|          | 0/27 [00:00<?, ?batch/s]"
      ]
     },
     "metadata": {},
     "output_type": "display_data"
    },
    {
     "data": {
      "application/vnd.jupyter.widget-view+json": {
       "model_id": "df3382a3ed0d4fb7adfd598b471ca70d",
       "version_major": 2,
       "version_minor": 0
      },
      "text/plain": [
       "Epoch 887/2000:   0%|          | 0/27 [00:00<?, ?batch/s]"
      ]
     },
     "metadata": {},
     "output_type": "display_data"
    },
    {
     "data": {
      "application/vnd.jupyter.widget-view+json": {
       "model_id": "cb5786912e374eddbbf560fac81bd7c6",
       "version_major": 2,
       "version_minor": 0
      },
      "text/plain": [
       "Epoch 888/2000:   0%|          | 0/27 [00:00<?, ?batch/s]"
      ]
     },
     "metadata": {},
     "output_type": "display_data"
    },
    {
     "data": {
      "application/vnd.jupyter.widget-view+json": {
       "model_id": "84c17090ca8b44f08906d7a5495b7d70",
       "version_major": 2,
       "version_minor": 0
      },
      "text/plain": [
       "Epoch 889/2000:   0%|          | 0/27 [00:00<?, ?batch/s]"
      ]
     },
     "metadata": {},
     "output_type": "display_data"
    },
    {
     "data": {
      "application/vnd.jupyter.widget-view+json": {
       "model_id": "58691fc6e88d405699589d946fe8544c",
       "version_major": 2,
       "version_minor": 0
      },
      "text/plain": [
       "Epoch 890/2000:   0%|          | 0/27 [00:00<?, ?batch/s]"
      ]
     },
     "metadata": {},
     "output_type": "display_data"
    },
    {
     "data": {
      "application/vnd.jupyter.widget-view+json": {
       "model_id": "a9b4108fd84d4e3291f77cd165eed7de",
       "version_major": 2,
       "version_minor": 0
      },
      "text/plain": [
       "Epoch 891/2000:   0%|          | 0/27 [00:00<?, ?batch/s]"
      ]
     },
     "metadata": {},
     "output_type": "display_data"
    },
    {
     "data": {
      "application/vnd.jupyter.widget-view+json": {
       "model_id": "0e7d3b6323fb455ab7f84594e44de302",
       "version_major": 2,
       "version_minor": 0
      },
      "text/plain": [
       "Epoch 892/2000:   0%|          | 0/27 [00:00<?, ?batch/s]"
      ]
     },
     "metadata": {},
     "output_type": "display_data"
    },
    {
     "data": {
      "application/vnd.jupyter.widget-view+json": {
       "model_id": "4573a917030642ba878a1e33f6366235",
       "version_major": 2,
       "version_minor": 0
      },
      "text/plain": [
       "Epoch 893/2000:   0%|          | 0/27 [00:00<?, ?batch/s]"
      ]
     },
     "metadata": {},
     "output_type": "display_data"
    },
    {
     "data": {
      "application/vnd.jupyter.widget-view+json": {
       "model_id": "7f463437bac84ec494f67dad8ca9790a",
       "version_major": 2,
       "version_minor": 0
      },
      "text/plain": [
       "Epoch 894/2000:   0%|          | 0/27 [00:00<?, ?batch/s]"
      ]
     },
     "metadata": {},
     "output_type": "display_data"
    },
    {
     "data": {
      "application/vnd.jupyter.widget-view+json": {
       "model_id": "0c7c164b1b564ce886678f95f6323185",
       "version_major": 2,
       "version_minor": 0
      },
      "text/plain": [
       "Epoch 895/2000:   0%|          | 0/27 [00:00<?, ?batch/s]"
      ]
     },
     "metadata": {},
     "output_type": "display_data"
    },
    {
     "data": {
      "application/vnd.jupyter.widget-view+json": {
       "model_id": "4df8adf176e34dc184d0aca4c7b43f75",
       "version_major": 2,
       "version_minor": 0
      },
      "text/plain": [
       "Epoch 896/2000:   0%|          | 0/27 [00:00<?, ?batch/s]"
      ]
     },
     "metadata": {},
     "output_type": "display_data"
    },
    {
     "data": {
      "application/vnd.jupyter.widget-view+json": {
       "model_id": "170e7f1b4dd64e02839424a78186ec51",
       "version_major": 2,
       "version_minor": 0
      },
      "text/plain": [
       "Epoch 897/2000:   0%|          | 0/27 [00:00<?, ?batch/s]"
      ]
     },
     "metadata": {},
     "output_type": "display_data"
    },
    {
     "data": {
      "application/vnd.jupyter.widget-view+json": {
       "model_id": "5e31d779146c46ec8600b060bf350cc7",
       "version_major": 2,
       "version_minor": 0
      },
      "text/plain": [
       "Epoch 898/2000:   0%|          | 0/27 [00:00<?, ?batch/s]"
      ]
     },
     "metadata": {},
     "output_type": "display_data"
    },
    {
     "data": {
      "application/vnd.jupyter.widget-view+json": {
       "model_id": "fe65a48beaf04ff585fa345d63b23667",
       "version_major": 2,
       "version_minor": 0
      },
      "text/plain": [
       "Epoch 899/2000:   0%|          | 0/27 [00:00<?, ?batch/s]"
      ]
     },
     "metadata": {},
     "output_type": "display_data"
    },
    {
     "data": {
      "application/vnd.jupyter.widget-view+json": {
       "model_id": "bbc7d42169554800a51385ffd5da8541",
       "version_major": 2,
       "version_minor": 0
      },
      "text/plain": [
       "Epoch 900/2000:   0%|          | 0/27 [00:00<?, ?batch/s]"
      ]
     },
     "metadata": {},
     "output_type": "display_data"
    },
    {
     "data": {
      "application/vnd.jupyter.widget-view+json": {
       "model_id": "b2e79dd49d084440a05a56d55b87dbde",
       "version_major": 2,
       "version_minor": 0
      },
      "text/plain": [
       "Epoch 901/2000:   0%|          | 0/27 [00:00<?, ?batch/s]"
      ]
     },
     "metadata": {},
     "output_type": "display_data"
    },
    {
     "data": {
      "application/vnd.jupyter.widget-view+json": {
       "model_id": "282281b0c8dc46c9bb26bc693fd97c0d",
       "version_major": 2,
       "version_minor": 0
      },
      "text/plain": [
       "Epoch 902/2000:   0%|          | 0/27 [00:00<?, ?batch/s]"
      ]
     },
     "metadata": {},
     "output_type": "display_data"
    },
    {
     "data": {
      "application/vnd.jupyter.widget-view+json": {
       "model_id": "cc67b62508c143cb9abd45c90a9cdc4c",
       "version_major": 2,
       "version_minor": 0
      },
      "text/plain": [
       "Epoch 903/2000:   0%|          | 0/27 [00:00<?, ?batch/s]"
      ]
     },
     "metadata": {},
     "output_type": "display_data"
    },
    {
     "data": {
      "application/vnd.jupyter.widget-view+json": {
       "model_id": "c6e3e3423e18443cabb1b3aa130c9a95",
       "version_major": 2,
       "version_minor": 0
      },
      "text/plain": [
       "Epoch 904/2000:   0%|          | 0/27 [00:00<?, ?batch/s]"
      ]
     },
     "metadata": {},
     "output_type": "display_data"
    },
    {
     "data": {
      "application/vnd.jupyter.widget-view+json": {
       "model_id": "9e9e9b9de9794eb2888c36da87ca840d",
       "version_major": 2,
       "version_minor": 0
      },
      "text/plain": [
       "Epoch 905/2000:   0%|          | 0/27 [00:00<?, ?batch/s]"
      ]
     },
     "metadata": {},
     "output_type": "display_data"
    },
    {
     "name": "stderr",
     "output_type": "stream",
     "text": [
      "IOPub message rate exceeded.\n",
      "The Jupyter server will temporarily stop sending output\n",
      "to the client in order to avoid crashing it.\n",
      "To change this limit, set the config variable\n",
      "`--ServerApp.iopub_msg_rate_limit`.\n",
      "\n",
      "Current values:\n",
      "ServerApp.iopub_msg_rate_limit=1000.0 (msgs/sec)\n",
      "ServerApp.rate_limit_window=3.0 (secs)\n",
      "\n"
     ]
    },
    {
     "data": {
      "application/vnd.jupyter.widget-view+json": {
       "model_id": "11c2baedea294c0182dcb9cb06ec1b93",
       "version_major": 2,
       "version_minor": 0
      },
      "text/plain": [
       "Epoch 913/2000:   0%|          | 0/27 [00:00<?, ?batch/s]"
      ]
     },
     "metadata": {},
     "output_type": "display_data"
    },
    {
     "data": {
      "application/vnd.jupyter.widget-view+json": {
       "model_id": "b1450243a7d24ce9a93768bc570aa2a4",
       "version_major": 2,
       "version_minor": 0
      },
      "text/plain": [
       "Epoch 914/2000:   0%|          | 0/27 [00:00<?, ?batch/s]"
      ]
     },
     "metadata": {},
     "output_type": "display_data"
    },
    {
     "data": {
      "application/vnd.jupyter.widget-view+json": {
       "model_id": "f523c3a5d73841b59671bfe265a81811",
       "version_major": 2,
       "version_minor": 0
      },
      "text/plain": [
       "Epoch 915/2000:   0%|          | 0/27 [00:00<?, ?batch/s]"
      ]
     },
     "metadata": {},
     "output_type": "display_data"
    },
    {
     "data": {
      "application/vnd.jupyter.widget-view+json": {
       "model_id": "73ee05431b7c49878cb77a933642f7a0",
       "version_major": 2,
       "version_minor": 0
      },
      "text/plain": [
       "Epoch 916/2000:   0%|          | 0/27 [00:00<?, ?batch/s]"
      ]
     },
     "metadata": {},
     "output_type": "display_data"
    },
    {
     "data": {
      "application/vnd.jupyter.widget-view+json": {
       "model_id": "79e10b5f34454b6aa1363628a2091ddd",
       "version_major": 2,
       "version_minor": 0
      },
      "text/plain": [
       "Epoch 917/2000:   0%|          | 0/27 [00:00<?, ?batch/s]"
      ]
     },
     "metadata": {},
     "output_type": "display_data"
    },
    {
     "data": {
      "application/vnd.jupyter.widget-view+json": {
       "model_id": "3eee32ac226c423e850c44da5b32b8a0",
       "version_major": 2,
       "version_minor": 0
      },
      "text/plain": [
       "Epoch 918/2000:   0%|          | 0/27 [00:00<?, ?batch/s]"
      ]
     },
     "metadata": {},
     "output_type": "display_data"
    },
    {
     "data": {
      "application/vnd.jupyter.widget-view+json": {
       "model_id": "5aa2ce4c8b3042048b4518f7211f42f9",
       "version_major": 2,
       "version_minor": 0
      },
      "text/plain": [
       "Epoch 919/2000:   0%|          | 0/27 [00:00<?, ?batch/s]"
      ]
     },
     "metadata": {},
     "output_type": "display_data"
    },
    {
     "data": {
      "application/vnd.jupyter.widget-view+json": {
       "model_id": "b2921ba2ba124ff7947562ec1532c1d8",
       "version_major": 2,
       "version_minor": 0
      },
      "text/plain": [
       "Epoch 920/2000:   0%|          | 0/27 [00:00<?, ?batch/s]"
      ]
     },
     "metadata": {},
     "output_type": "display_data"
    },
    {
     "data": {
      "application/vnd.jupyter.widget-view+json": {
       "model_id": "a5062ce5521e46d8b65a71abb64b144b",
       "version_major": 2,
       "version_minor": 0
      },
      "text/plain": [
       "Epoch 921/2000:   0%|          | 0/27 [00:00<?, ?batch/s]"
      ]
     },
     "metadata": {},
     "output_type": "display_data"
    },
    {
     "data": {
      "application/vnd.jupyter.widget-view+json": {
       "model_id": "c1a6c49b0af24c71a2758f6005979014",
       "version_major": 2,
       "version_minor": 0
      },
      "text/plain": [
       "Epoch 922/2000:   0%|          | 0/27 [00:00<?, ?batch/s]"
      ]
     },
     "metadata": {},
     "output_type": "display_data"
    },
    {
     "data": {
      "application/vnd.jupyter.widget-view+json": {
       "model_id": "5433b589de1e4f22a7fb4758d98cbf45",
       "version_major": 2,
       "version_minor": 0
      },
      "text/plain": [
       "Epoch 923/2000:   0%|          | 0/27 [00:00<?, ?batch/s]"
      ]
     },
     "metadata": {},
     "output_type": "display_data"
    },
    {
     "data": {
      "application/vnd.jupyter.widget-view+json": {
       "model_id": "64b9ad6fae0642d59ba6e4b1e8bc6c4d",
       "version_major": 2,
       "version_minor": 0
      },
      "text/plain": [
       "Epoch 924/2000:   0%|          | 0/27 [00:00<?, ?batch/s]"
      ]
     },
     "metadata": {},
     "output_type": "display_data"
    },
    {
     "data": {
      "application/vnd.jupyter.widget-view+json": {
       "model_id": "ff60dd17b9b84932bb01aa7a25d7fccc",
       "version_major": 2,
       "version_minor": 0
      },
      "text/plain": [
       "Epoch 925/2000:   0%|          | 0/27 [00:00<?, ?batch/s]"
      ]
     },
     "metadata": {},
     "output_type": "display_data"
    },
    {
     "data": {
      "application/vnd.jupyter.widget-view+json": {
       "model_id": "57c8f680c0534ad597f00c6e0ed8cf25",
       "version_major": 2,
       "version_minor": 0
      },
      "text/plain": [
       "Epoch 926/2000:   0%|          | 0/27 [00:00<?, ?batch/s]"
      ]
     },
     "metadata": {},
     "output_type": "display_data"
    },
    {
     "data": {
      "application/vnd.jupyter.widget-view+json": {
       "model_id": "fb8eeb31e00944ac99793789af0095fe",
       "version_major": 2,
       "version_minor": 0
      },
      "text/plain": [
       "Epoch 927/2000:   0%|          | 0/27 [00:00<?, ?batch/s]"
      ]
     },
     "metadata": {},
     "output_type": "display_data"
    },
    {
     "data": {
      "application/vnd.jupyter.widget-view+json": {
       "model_id": "94c172d97d834d3d8ae40cdab268cf5a",
       "version_major": 2,
       "version_minor": 0
      },
      "text/plain": [
       "Epoch 928/2000:   0%|          | 0/27 [00:00<?, ?batch/s]"
      ]
     },
     "metadata": {},
     "output_type": "display_data"
    },
    {
     "data": {
      "application/vnd.jupyter.widget-view+json": {
       "model_id": "e1e3a7aa7d364990b1d4fd5d3afb613f",
       "version_major": 2,
       "version_minor": 0
      },
      "text/plain": [
       "Epoch 929/2000:   0%|          | 0/27 [00:00<?, ?batch/s]"
      ]
     },
     "metadata": {},
     "output_type": "display_data"
    },
    {
     "data": {
      "application/vnd.jupyter.widget-view+json": {
       "model_id": "ebbd348606c84abda4186d5f9377d536",
       "version_major": 2,
       "version_minor": 0
      },
      "text/plain": [
       "Epoch 930/2000:   0%|          | 0/27 [00:00<?, ?batch/s]"
      ]
     },
     "metadata": {},
     "output_type": "display_data"
    },
    {
     "data": {
      "application/vnd.jupyter.widget-view+json": {
       "model_id": "dad45c56996a4ae29fdc236d68c49155",
       "version_major": 2,
       "version_minor": 0
      },
      "text/plain": [
       "Epoch 931/2000:   0%|          | 0/27 [00:00<?, ?batch/s]"
      ]
     },
     "metadata": {},
     "output_type": "display_data"
    },
    {
     "data": {
      "application/vnd.jupyter.widget-view+json": {
       "model_id": "5003bb76d6274562b02a5ea1ff0b86b8",
       "version_major": 2,
       "version_minor": 0
      },
      "text/plain": [
       "Epoch 932/2000:   0%|          | 0/27 [00:00<?, ?batch/s]"
      ]
     },
     "metadata": {},
     "output_type": "display_data"
    },
    {
     "data": {
      "application/vnd.jupyter.widget-view+json": {
       "model_id": "68ca8d89fd3a493b9451ecfcb1fdb3aa",
       "version_major": 2,
       "version_minor": 0
      },
      "text/plain": [
       "Epoch 933/2000:   0%|          | 0/27 [00:00<?, ?batch/s]"
      ]
     },
     "metadata": {},
     "output_type": "display_data"
    },
    {
     "data": {
      "application/vnd.jupyter.widget-view+json": {
       "model_id": "3bc8f0c53ab548eda80c558b195cfcfb",
       "version_major": 2,
       "version_minor": 0
      },
      "text/plain": [
       "Epoch 934/2000:   0%|          | 0/27 [00:00<?, ?batch/s]"
      ]
     },
     "metadata": {},
     "output_type": "display_data"
    },
    {
     "data": {
      "application/vnd.jupyter.widget-view+json": {
       "model_id": "dd1b11e8d4ed419c93e98b039c35a4e8",
       "version_major": 2,
       "version_minor": 0
      },
      "text/plain": [
       "Epoch 935/2000:   0%|          | 0/27 [00:00<?, ?batch/s]"
      ]
     },
     "metadata": {},
     "output_type": "display_data"
    },
    {
     "data": {
      "application/vnd.jupyter.widget-view+json": {
       "model_id": "629425e1d61c49428f345a4ee66f8e22",
       "version_major": 2,
       "version_minor": 0
      },
      "text/plain": [
       "Epoch 936/2000:   0%|          | 0/27 [00:00<?, ?batch/s]"
      ]
     },
     "metadata": {},
     "output_type": "display_data"
    },
    {
     "data": {
      "application/vnd.jupyter.widget-view+json": {
       "model_id": "7493ecf59cd54805b893ffed6996d462",
       "version_major": 2,
       "version_minor": 0
      },
      "text/plain": [
       "Epoch 937/2000:   0%|          | 0/27 [00:00<?, ?batch/s]"
      ]
     },
     "metadata": {},
     "output_type": "display_data"
    },
    {
     "data": {
      "application/vnd.jupyter.widget-view+json": {
       "model_id": "34521f6aacb440888ff0921ce9a28b5c",
       "version_major": 2,
       "version_minor": 0
      },
      "text/plain": [
       "Epoch 938/2000:   0%|          | 0/27 [00:00<?, ?batch/s]"
      ]
     },
     "metadata": {},
     "output_type": "display_data"
    },
    {
     "data": {
      "application/vnd.jupyter.widget-view+json": {
       "model_id": "0238d5f3710043ca93057d099f4fcae5",
       "version_major": 2,
       "version_minor": 0
      },
      "text/plain": [
       "Epoch 939/2000:   0%|          | 0/27 [00:00<?, ?batch/s]"
      ]
     },
     "metadata": {},
     "output_type": "display_data"
    },
    {
     "data": {
      "application/vnd.jupyter.widget-view+json": {
       "model_id": "65c82e22a7564da0970fa2247924ba92",
       "version_major": 2,
       "version_minor": 0
      },
      "text/plain": [
       "Epoch 940/2000:   0%|          | 0/27 [00:00<?, ?batch/s]"
      ]
     },
     "metadata": {},
     "output_type": "display_data"
    },
    {
     "data": {
      "application/vnd.jupyter.widget-view+json": {
       "model_id": "23ba1249eca24cc7a4f7706b38893f3e",
       "version_major": 2,
       "version_minor": 0
      },
      "text/plain": [
       "Epoch 941/2000:   0%|          | 0/27 [00:00<?, ?batch/s]"
      ]
     },
     "metadata": {},
     "output_type": "display_data"
    },
    {
     "data": {
      "application/vnd.jupyter.widget-view+json": {
       "model_id": "a527f7a447bc41b4a76ff8c0e7141ceb",
       "version_major": 2,
       "version_minor": 0
      },
      "text/plain": [
       "Epoch 942/2000:   0%|          | 0/27 [00:00<?, ?batch/s]"
      ]
     },
     "metadata": {},
     "output_type": "display_data"
    },
    {
     "data": {
      "application/vnd.jupyter.widget-view+json": {
       "model_id": "8bd7d6554a7b426f8f5833c87e0b661c",
       "version_major": 2,
       "version_minor": 0
      },
      "text/plain": [
       "Epoch 943/2000:   0%|          | 0/27 [00:00<?, ?batch/s]"
      ]
     },
     "metadata": {},
     "output_type": "display_data"
    },
    {
     "data": {
      "application/vnd.jupyter.widget-view+json": {
       "model_id": "c0b1685db4d441cb81214edcd6556522",
       "version_major": 2,
       "version_minor": 0
      },
      "text/plain": [
       "Epoch 944/2000:   0%|          | 0/27 [00:00<?, ?batch/s]"
      ]
     },
     "metadata": {},
     "output_type": "display_data"
    },
    {
     "data": {
      "application/vnd.jupyter.widget-view+json": {
       "model_id": "d6b1ee7187eb4ab9989207f0e30bcaf3",
       "version_major": 2,
       "version_minor": 0
      },
      "text/plain": [
       "Epoch 945/2000:   0%|          | 0/27 [00:00<?, ?batch/s]"
      ]
     },
     "metadata": {},
     "output_type": "display_data"
    },
    {
     "data": {
      "application/vnd.jupyter.widget-view+json": {
       "model_id": "3abcc6b3dd1e40d8a527cf971170c800",
       "version_major": 2,
       "version_minor": 0
      },
      "text/plain": [
       "Epoch 946/2000:   0%|          | 0/27 [00:00<?, ?batch/s]"
      ]
     },
     "metadata": {},
     "output_type": "display_data"
    },
    {
     "name": "stderr",
     "output_type": "stream",
     "text": [
      "IOPub message rate exceeded.\n",
      "The Jupyter server will temporarily stop sending output\n",
      "to the client in order to avoid crashing it.\n",
      "To change this limit, set the config variable\n",
      "`--ServerApp.iopub_msg_rate_limit`.\n",
      "\n",
      "Current values:\n",
      "ServerApp.iopub_msg_rate_limit=1000.0 (msgs/sec)\n",
      "ServerApp.rate_limit_window=3.0 (secs)\n",
      "\n"
     ]
    },
    {
     "data": {
      "application/vnd.jupyter.widget-view+json": {
       "model_id": "c7636b4db8294ceb9c527ddbb6f1c1d7",
       "version_major": 2,
       "version_minor": 0
      },
      "text/plain": [
       "Epoch 955/2000:   0%|          | 0/27 [00:00<?, ?batch/s]"
      ]
     },
     "metadata": {},
     "output_type": "display_data"
    },
    {
     "data": {
      "application/vnd.jupyter.widget-view+json": {
       "model_id": "b69a85bd0d5145dbb3d7b77121bcb8a1",
       "version_major": 2,
       "version_minor": 0
      },
      "text/plain": [
       "Epoch 956/2000:   0%|          | 0/27 [00:00<?, ?batch/s]"
      ]
     },
     "metadata": {},
     "output_type": "display_data"
    },
    {
     "data": {
      "application/vnd.jupyter.widget-view+json": {
       "model_id": "5c09b89d31784ae4adbc6ce688bbc893",
       "version_major": 2,
       "version_minor": 0
      },
      "text/plain": [
       "Epoch 957/2000:   0%|          | 0/27 [00:00<?, ?batch/s]"
      ]
     },
     "metadata": {},
     "output_type": "display_data"
    },
    {
     "data": {
      "application/vnd.jupyter.widget-view+json": {
       "model_id": "3aa2bb458e03499bb16f37f731919f07",
       "version_major": 2,
       "version_minor": 0
      },
      "text/plain": [
       "Epoch 958/2000:   0%|          | 0/27 [00:00<?, ?batch/s]"
      ]
     },
     "metadata": {},
     "output_type": "display_data"
    },
    {
     "data": {
      "application/vnd.jupyter.widget-view+json": {
       "model_id": "ec7e5629dc164e12ac5cb267d3369584",
       "version_major": 2,
       "version_minor": 0
      },
      "text/plain": [
       "Epoch 959/2000:   0%|          | 0/27 [00:00<?, ?batch/s]"
      ]
     },
     "metadata": {},
     "output_type": "display_data"
    },
    {
     "data": {
      "application/vnd.jupyter.widget-view+json": {
       "model_id": "9ec406d9637f49ae97251a4d7a404111",
       "version_major": 2,
       "version_minor": 0
      },
      "text/plain": [
       "Epoch 960/2000:   0%|          | 0/27 [00:00<?, ?batch/s]"
      ]
     },
     "metadata": {},
     "output_type": "display_data"
    },
    {
     "data": {
      "application/vnd.jupyter.widget-view+json": {
       "model_id": "99069437054740029a3d639f5f2a819c",
       "version_major": 2,
       "version_minor": 0
      },
      "text/plain": [
       "Epoch 961/2000:   0%|          | 0/27 [00:00<?, ?batch/s]"
      ]
     },
     "metadata": {},
     "output_type": "display_data"
    },
    {
     "data": {
      "application/vnd.jupyter.widget-view+json": {
       "model_id": "31793c815b60468d8738a20ed88efd45",
       "version_major": 2,
       "version_minor": 0
      },
      "text/plain": [
       "Epoch 962/2000:   0%|          | 0/27 [00:00<?, ?batch/s]"
      ]
     },
     "metadata": {},
     "output_type": "display_data"
    },
    {
     "data": {
      "application/vnd.jupyter.widget-view+json": {
       "model_id": "89f48caf4a214b9e8f140bf67676d7f1",
       "version_major": 2,
       "version_minor": 0
      },
      "text/plain": [
       "Epoch 963/2000:   0%|          | 0/27 [00:00<?, ?batch/s]"
      ]
     },
     "metadata": {},
     "output_type": "display_data"
    },
    {
     "data": {
      "application/vnd.jupyter.widget-view+json": {
       "model_id": "87bfe64053f748cdbf64b4146b27ea51",
       "version_major": 2,
       "version_minor": 0
      },
      "text/plain": [
       "Epoch 964/2000:   0%|          | 0/27 [00:00<?, ?batch/s]"
      ]
     },
     "metadata": {},
     "output_type": "display_data"
    },
    {
     "data": {
      "application/vnd.jupyter.widget-view+json": {
       "model_id": "f47c733d00a948e6b097f34ca3ef3a61",
       "version_major": 2,
       "version_minor": 0
      },
      "text/plain": [
       "Epoch 965/2000:   0%|          | 0/27 [00:00<?, ?batch/s]"
      ]
     },
     "metadata": {},
     "output_type": "display_data"
    },
    {
     "data": {
      "application/vnd.jupyter.widget-view+json": {
       "model_id": "33876ccb00474078ae7d3b0fbbb63738",
       "version_major": 2,
       "version_minor": 0
      },
      "text/plain": [
       "Epoch 966/2000:   0%|          | 0/27 [00:00<?, ?batch/s]"
      ]
     },
     "metadata": {},
     "output_type": "display_data"
    },
    {
     "data": {
      "application/vnd.jupyter.widget-view+json": {
       "model_id": "b6285549392f4364bfd83f1a1434a3c8",
       "version_major": 2,
       "version_minor": 0
      },
      "text/plain": [
       "Epoch 967/2000:   0%|          | 0/27 [00:00<?, ?batch/s]"
      ]
     },
     "metadata": {},
     "output_type": "display_data"
    },
    {
     "data": {
      "application/vnd.jupyter.widget-view+json": {
       "model_id": "16f1baf14d1f4bb591b56445b0c24c83",
       "version_major": 2,
       "version_minor": 0
      },
      "text/plain": [
       "Epoch 968/2000:   0%|          | 0/27 [00:00<?, ?batch/s]"
      ]
     },
     "metadata": {},
     "output_type": "display_data"
    },
    {
     "data": {
      "application/vnd.jupyter.widget-view+json": {
       "model_id": "6317b996a45f49ba96dc6dd23e175f82",
       "version_major": 2,
       "version_minor": 0
      },
      "text/plain": [
       "Epoch 969/2000:   0%|          | 0/27 [00:00<?, ?batch/s]"
      ]
     },
     "metadata": {},
     "output_type": "display_data"
    },
    {
     "data": {
      "application/vnd.jupyter.widget-view+json": {
       "model_id": "484f749347ab41209a32e9a18bdf9183",
       "version_major": 2,
       "version_minor": 0
      },
      "text/plain": [
       "Epoch 970/2000:   0%|          | 0/27 [00:00<?, ?batch/s]"
      ]
     },
     "metadata": {},
     "output_type": "display_data"
    },
    {
     "data": {
      "application/vnd.jupyter.widget-view+json": {
       "model_id": "a141b6cbc5c34760bc5348ed52c5f7a9",
       "version_major": 2,
       "version_minor": 0
      },
      "text/plain": [
       "Epoch 971/2000:   0%|          | 0/27 [00:00<?, ?batch/s]"
      ]
     },
     "metadata": {},
     "output_type": "display_data"
    },
    {
     "data": {
      "application/vnd.jupyter.widget-view+json": {
       "model_id": "181974fb28b64f048d7e3d09813169d8",
       "version_major": 2,
       "version_minor": 0
      },
      "text/plain": [
       "Epoch 972/2000:   0%|          | 0/27 [00:00<?, ?batch/s]"
      ]
     },
     "metadata": {},
     "output_type": "display_data"
    },
    {
     "data": {
      "application/vnd.jupyter.widget-view+json": {
       "model_id": "bf68ba72dd464788a53e8d864a81a5a7",
       "version_major": 2,
       "version_minor": 0
      },
      "text/plain": [
       "Epoch 973/2000:   0%|          | 0/27 [00:00<?, ?batch/s]"
      ]
     },
     "metadata": {},
     "output_type": "display_data"
    },
    {
     "data": {
      "application/vnd.jupyter.widget-view+json": {
       "model_id": "faf799d62de84d178223735588aef092",
       "version_major": 2,
       "version_minor": 0
      },
      "text/plain": [
       "Epoch 974/2000:   0%|          | 0/27 [00:00<?, ?batch/s]"
      ]
     },
     "metadata": {},
     "output_type": "display_data"
    },
    {
     "data": {
      "application/vnd.jupyter.widget-view+json": {
       "model_id": "e43ae0ed8dff4d329df6ef86196102dd",
       "version_major": 2,
       "version_minor": 0
      },
      "text/plain": [
       "Epoch 975/2000:   0%|          | 0/27 [00:00<?, ?batch/s]"
      ]
     },
     "metadata": {},
     "output_type": "display_data"
    },
    {
     "data": {
      "application/vnd.jupyter.widget-view+json": {
       "model_id": "e1625779a3db488cbc4a7f0cbc0b23df",
       "version_major": 2,
       "version_minor": 0
      },
      "text/plain": [
       "Epoch 976/2000:   0%|          | 0/27 [00:00<?, ?batch/s]"
      ]
     },
     "metadata": {},
     "output_type": "display_data"
    },
    {
     "data": {
      "application/vnd.jupyter.widget-view+json": {
       "model_id": "45337401cc134c47895fc554422e4f19",
       "version_major": 2,
       "version_minor": 0
      },
      "text/plain": [
       "Epoch 977/2000:   0%|          | 0/27 [00:00<?, ?batch/s]"
      ]
     },
     "metadata": {},
     "output_type": "display_data"
    },
    {
     "data": {
      "application/vnd.jupyter.widget-view+json": {
       "model_id": "124243d1c1c9454bb35d4a1386189b8b",
       "version_major": 2,
       "version_minor": 0
      },
      "text/plain": [
       "Epoch 978/2000:   0%|          | 0/27 [00:00<?, ?batch/s]"
      ]
     },
     "metadata": {},
     "output_type": "display_data"
    },
    {
     "data": {
      "application/vnd.jupyter.widget-view+json": {
       "model_id": "7f4ceec2f01f4d24a00bbb284003e388",
       "version_major": 2,
       "version_minor": 0
      },
      "text/plain": [
       "Epoch 979/2000:   0%|          | 0/27 [00:00<?, ?batch/s]"
      ]
     },
     "metadata": {},
     "output_type": "display_data"
    },
    {
     "data": {
      "application/vnd.jupyter.widget-view+json": {
       "model_id": "583677d057114e47a12a00d9fc3c8e73",
       "version_major": 2,
       "version_minor": 0
      },
      "text/plain": [
       "Epoch 980/2000:   0%|          | 0/27 [00:00<?, ?batch/s]"
      ]
     },
     "metadata": {},
     "output_type": "display_data"
    },
    {
     "data": {
      "application/vnd.jupyter.widget-view+json": {
       "model_id": "ea0aa19fed5842baa672caab61522eac",
       "version_major": 2,
       "version_minor": 0
      },
      "text/plain": [
       "Epoch 981/2000:   0%|          | 0/27 [00:00<?, ?batch/s]"
      ]
     },
     "metadata": {},
     "output_type": "display_data"
    },
    {
     "data": {
      "application/vnd.jupyter.widget-view+json": {
       "model_id": "910da3c79a1b4cf4ab76986a72857baa",
       "version_major": 2,
       "version_minor": 0
      },
      "text/plain": [
       "Epoch 982/2000:   0%|          | 0/27 [00:00<?, ?batch/s]"
      ]
     },
     "metadata": {},
     "output_type": "display_data"
    },
    {
     "data": {
      "application/vnd.jupyter.widget-view+json": {
       "model_id": "8e5a829a447247cd8ce0a17d9a98d211",
       "version_major": 2,
       "version_minor": 0
      },
      "text/plain": [
       "Epoch 983/2000:   0%|          | 0/27 [00:00<?, ?batch/s]"
      ]
     },
     "metadata": {},
     "output_type": "display_data"
    },
    {
     "data": {
      "application/vnd.jupyter.widget-view+json": {
       "model_id": "dadc4d40263b4eadb20a8cef71f3302b",
       "version_major": 2,
       "version_minor": 0
      },
      "text/plain": [
       "Epoch 984/2000:   0%|          | 0/27 [00:00<?, ?batch/s]"
      ]
     },
     "metadata": {},
     "output_type": "display_data"
    },
    {
     "data": {
      "application/vnd.jupyter.widget-view+json": {
       "model_id": "46a17437074f4ac2a50a75f5e68467a5",
       "version_major": 2,
       "version_minor": 0
      },
      "text/plain": [
       "Epoch 985/2000:   0%|          | 0/27 [00:00<?, ?batch/s]"
      ]
     },
     "metadata": {},
     "output_type": "display_data"
    },
    {
     "data": {
      "application/vnd.jupyter.widget-view+json": {
       "model_id": "1d377876fe2843158343f97bc8f39c6a",
       "version_major": 2,
       "version_minor": 0
      },
      "text/plain": [
       "Epoch 986/2000:   0%|          | 0/27 [00:00<?, ?batch/s]"
      ]
     },
     "metadata": {},
     "output_type": "display_data"
    },
    {
     "data": {
      "application/vnd.jupyter.widget-view+json": {
       "model_id": "7b6101a2c27e4c2199f4a07773b273ae",
       "version_major": 2,
       "version_minor": 0
      },
      "text/plain": [
       "Epoch 987/2000:   0%|          | 0/27 [00:00<?, ?batch/s]"
      ]
     },
     "metadata": {},
     "output_type": "display_data"
    },
    {
     "data": {
      "application/vnd.jupyter.widget-view+json": {
       "model_id": "a25a89f8f5bd4299b1e139fd8cdf765c",
       "version_major": 2,
       "version_minor": 0
      },
      "text/plain": [
       "Epoch 988/2000:   0%|          | 0/27 [00:00<?, ?batch/s]"
      ]
     },
     "metadata": {},
     "output_type": "display_data"
    },
    {
     "name": "stderr",
     "output_type": "stream",
     "text": [
      "IOPub message rate exceeded.\n",
      "The Jupyter server will temporarily stop sending output\n",
      "to the client in order to avoid crashing it.\n",
      "To change this limit, set the config variable\n",
      "`--ServerApp.iopub_msg_rate_limit`.\n",
      "\n",
      "Current values:\n",
      "ServerApp.iopub_msg_rate_limit=1000.0 (msgs/sec)\n",
      "ServerApp.rate_limit_window=3.0 (secs)\n",
      "\n"
     ]
    },
    {
     "data": {
      "application/vnd.jupyter.widget-view+json": {
       "model_id": "ad269518cfc04609b2c8c4bd11af4165",
       "version_major": 2,
       "version_minor": 0
      },
      "text/plain": [
       "Epoch 997/2000:   0%|          | 0/27 [00:00<?, ?batch/s]"
      ]
     },
     "metadata": {},
     "output_type": "display_data"
    },
    {
     "data": {
      "application/vnd.jupyter.widget-view+json": {
       "model_id": "d60da765c5bc4c2a9f1582cd1b68592e",
       "version_major": 2,
       "version_minor": 0
      },
      "text/plain": [
       "Epoch 998/2000:   0%|          | 0/27 [00:00<?, ?batch/s]"
      ]
     },
     "metadata": {},
     "output_type": "display_data"
    },
    {
     "data": {
      "application/vnd.jupyter.widget-view+json": {
       "model_id": "a32448034aaf476a8f040c94645635dd",
       "version_major": 2,
       "version_minor": 0
      },
      "text/plain": [
       "Epoch 999/2000:   0%|          | 0/27 [00:00<?, ?batch/s]"
      ]
     },
     "metadata": {},
     "output_type": "display_data"
    },
    {
     "data": {
      "application/vnd.jupyter.widget-view+json": {
       "model_id": "0c60c8ccc5804b69be8292cf2b6db9be",
       "version_major": 2,
       "version_minor": 0
      },
      "text/plain": [
       "Epoch 1000/2000:   0%|          | 0/27 [00:00<?, ?batch/s]"
      ]
     },
     "metadata": {},
     "output_type": "display_data"
    },
    {
     "data": {
      "application/vnd.jupyter.widget-view+json": {
       "model_id": "d5e4390746d5456c99ce02afe707b596",
       "version_major": 2,
       "version_minor": 0
      },
      "text/plain": [
       "Epoch 1001/2000:   0%|          | 0/27 [00:00<?, ?batch/s]"
      ]
     },
     "metadata": {},
     "output_type": "display_data"
    },
    {
     "data": {
      "application/vnd.jupyter.widget-view+json": {
       "model_id": "f5e7accaacb548169349593f051e2ee9",
       "version_major": 2,
       "version_minor": 0
      },
      "text/plain": [
       "Epoch 1002/2000:   0%|          | 0/27 [00:00<?, ?batch/s]"
      ]
     },
     "metadata": {},
     "output_type": "display_data"
    },
    {
     "data": {
      "application/vnd.jupyter.widget-view+json": {
       "model_id": "cfa2973892c94347add8ec46f9cff350",
       "version_major": 2,
       "version_minor": 0
      },
      "text/plain": [
       "Epoch 1003/2000:   0%|          | 0/27 [00:00<?, ?batch/s]"
      ]
     },
     "metadata": {},
     "output_type": "display_data"
    },
    {
     "data": {
      "application/vnd.jupyter.widget-view+json": {
       "model_id": "fe75550ba9094cc19f78cbdcba0ffd0a",
       "version_major": 2,
       "version_minor": 0
      },
      "text/plain": [
       "Epoch 1004/2000:   0%|          | 0/27 [00:00<?, ?batch/s]"
      ]
     },
     "metadata": {},
     "output_type": "display_data"
    },
    {
     "data": {
      "application/vnd.jupyter.widget-view+json": {
       "model_id": "951f857c32fe4886a8a0fdfe1ac497e5",
       "version_major": 2,
       "version_minor": 0
      },
      "text/plain": [
       "Epoch 1005/2000:   0%|          | 0/27 [00:00<?, ?batch/s]"
      ]
     },
     "metadata": {},
     "output_type": "display_data"
    },
    {
     "data": {
      "application/vnd.jupyter.widget-view+json": {
       "model_id": "15c3957d35fa480a8d3ef37c3650a57b",
       "version_major": 2,
       "version_minor": 0
      },
      "text/plain": [
       "Epoch 1006/2000:   0%|          | 0/27 [00:00<?, ?batch/s]"
      ]
     },
     "metadata": {},
     "output_type": "display_data"
    },
    {
     "data": {
      "application/vnd.jupyter.widget-view+json": {
       "model_id": "6a9710b2e24d4c0b865f459d54b121bb",
       "version_major": 2,
       "version_minor": 0
      },
      "text/plain": [
       "Epoch 1007/2000:   0%|          | 0/27 [00:00<?, ?batch/s]"
      ]
     },
     "metadata": {},
     "output_type": "display_data"
    },
    {
     "data": {
      "application/vnd.jupyter.widget-view+json": {
       "model_id": "485d13a85b1a4d94aad1ab645f6fc390",
       "version_major": 2,
       "version_minor": 0
      },
      "text/plain": [
       "Epoch 1008/2000:   0%|          | 0/27 [00:00<?, ?batch/s]"
      ]
     },
     "metadata": {},
     "output_type": "display_data"
    },
    {
     "data": {
      "application/vnd.jupyter.widget-view+json": {
       "model_id": "6963bd0e49d3497a84f5f396b773e0b7",
       "version_major": 2,
       "version_minor": 0
      },
      "text/plain": [
       "Epoch 1009/2000:   0%|          | 0/27 [00:00<?, ?batch/s]"
      ]
     },
     "metadata": {},
     "output_type": "display_data"
    },
    {
     "data": {
      "application/vnd.jupyter.widget-view+json": {
       "model_id": "208503bb775e4fc1be9702d9f8dea4db",
       "version_major": 2,
       "version_minor": 0
      },
      "text/plain": [
       "Epoch 1010/2000:   0%|          | 0/27 [00:00<?, ?batch/s]"
      ]
     },
     "metadata": {},
     "output_type": "display_data"
    },
    {
     "data": {
      "application/vnd.jupyter.widget-view+json": {
       "model_id": "8b55ae1ba7e940e5bb5f3e55bf6ab261",
       "version_major": 2,
       "version_minor": 0
      },
      "text/plain": [
       "Epoch 1011/2000:   0%|          | 0/27 [00:00<?, ?batch/s]"
      ]
     },
     "metadata": {},
     "output_type": "display_data"
    },
    {
     "data": {
      "application/vnd.jupyter.widget-view+json": {
       "model_id": "60fcf1b5c3c34db0b07a0c9259d38b4f",
       "version_major": 2,
       "version_minor": 0
      },
      "text/plain": [
       "Epoch 1012/2000:   0%|          | 0/27 [00:00<?, ?batch/s]"
      ]
     },
     "metadata": {},
     "output_type": "display_data"
    },
    {
     "data": {
      "application/vnd.jupyter.widget-view+json": {
       "model_id": "a7799806a6af4336bd70342d8c637bae",
       "version_major": 2,
       "version_minor": 0
      },
      "text/plain": [
       "Epoch 1013/2000:   0%|          | 0/27 [00:00<?, ?batch/s]"
      ]
     },
     "metadata": {},
     "output_type": "display_data"
    },
    {
     "data": {
      "application/vnd.jupyter.widget-view+json": {
       "model_id": "c980a7beed424453af71fa7bca4e8549",
       "version_major": 2,
       "version_minor": 0
      },
      "text/plain": [
       "Epoch 1014/2000:   0%|          | 0/27 [00:00<?, ?batch/s]"
      ]
     },
     "metadata": {},
     "output_type": "display_data"
    },
    {
     "data": {
      "application/vnd.jupyter.widget-view+json": {
       "model_id": "4833e5083ae74450929b4f31611b29b9",
       "version_major": 2,
       "version_minor": 0
      },
      "text/plain": [
       "Epoch 1015/2000:   0%|          | 0/27 [00:00<?, ?batch/s]"
      ]
     },
     "metadata": {},
     "output_type": "display_data"
    },
    {
     "data": {
      "application/vnd.jupyter.widget-view+json": {
       "model_id": "ba2103057d7c48dd8d91320dad6b90f1",
       "version_major": 2,
       "version_minor": 0
      },
      "text/plain": [
       "Epoch 1016/2000:   0%|          | 0/27 [00:00<?, ?batch/s]"
      ]
     },
     "metadata": {},
     "output_type": "display_data"
    },
    {
     "data": {
      "application/vnd.jupyter.widget-view+json": {
       "model_id": "25ca6163d0724983848a8e243fb004be",
       "version_major": 2,
       "version_minor": 0
      },
      "text/plain": [
       "Epoch 1017/2000:   0%|          | 0/27 [00:00<?, ?batch/s]"
      ]
     },
     "metadata": {},
     "output_type": "display_data"
    },
    {
     "data": {
      "application/vnd.jupyter.widget-view+json": {
       "model_id": "51ad389ca395472cbc8e2b2cfa79308e",
       "version_major": 2,
       "version_minor": 0
      },
      "text/plain": [
       "Epoch 1018/2000:   0%|          | 0/27 [00:00<?, ?batch/s]"
      ]
     },
     "metadata": {},
     "output_type": "display_data"
    },
    {
     "data": {
      "application/vnd.jupyter.widget-view+json": {
       "model_id": "b9e4723d9a5948d6b881fee355285f0b",
       "version_major": 2,
       "version_minor": 0
      },
      "text/plain": [
       "Epoch 1019/2000:   0%|          | 0/27 [00:00<?, ?batch/s]"
      ]
     },
     "metadata": {},
     "output_type": "display_data"
    },
    {
     "data": {
      "application/vnd.jupyter.widget-view+json": {
       "model_id": "a106882c912b460b9324f3f793d88913",
       "version_major": 2,
       "version_minor": 0
      },
      "text/plain": [
       "Epoch 1020/2000:   0%|          | 0/27 [00:00<?, ?batch/s]"
      ]
     },
     "metadata": {},
     "output_type": "display_data"
    },
    {
     "data": {
      "application/vnd.jupyter.widget-view+json": {
       "model_id": "0d7b5187248b4b038c339b06aab616ae",
       "version_major": 2,
       "version_minor": 0
      },
      "text/plain": [
       "Epoch 1021/2000:   0%|          | 0/27 [00:00<?, ?batch/s]"
      ]
     },
     "metadata": {},
     "output_type": "display_data"
    },
    {
     "data": {
      "application/vnd.jupyter.widget-view+json": {
       "model_id": "46ab5b9586cb4f34a3f002609ba917b0",
       "version_major": 2,
       "version_minor": 0
      },
      "text/plain": [
       "Epoch 1022/2000:   0%|          | 0/27 [00:00<?, ?batch/s]"
      ]
     },
     "metadata": {},
     "output_type": "display_data"
    },
    {
     "data": {
      "application/vnd.jupyter.widget-view+json": {
       "model_id": "1070e1bc1f824661bfc40f0babfc4290",
       "version_major": 2,
       "version_minor": 0
      },
      "text/plain": [
       "Epoch 1023/2000:   0%|          | 0/27 [00:00<?, ?batch/s]"
      ]
     },
     "metadata": {},
     "output_type": "display_data"
    },
    {
     "data": {
      "application/vnd.jupyter.widget-view+json": {
       "model_id": "5ac164a1b59843258cbc3bf771e92f84",
       "version_major": 2,
       "version_minor": 0
      },
      "text/plain": [
       "Epoch 1024/2000:   0%|          | 0/27 [00:00<?, ?batch/s]"
      ]
     },
     "metadata": {},
     "output_type": "display_data"
    },
    {
     "data": {
      "application/vnd.jupyter.widget-view+json": {
       "model_id": "3d5e033deb3c4b679df3a640ee3f2266",
       "version_major": 2,
       "version_minor": 0
      },
      "text/plain": [
       "Epoch 1025/2000:   0%|          | 0/27 [00:00<?, ?batch/s]"
      ]
     },
     "metadata": {},
     "output_type": "display_data"
    },
    {
     "data": {
      "application/vnd.jupyter.widget-view+json": {
       "model_id": "282dc5dbc58843de844311b36da62f35",
       "version_major": 2,
       "version_minor": 0
      },
      "text/plain": [
       "Epoch 1026/2000:   0%|          | 0/27 [00:00<?, ?batch/s]"
      ]
     },
     "metadata": {},
     "output_type": "display_data"
    },
    {
     "data": {
      "application/vnd.jupyter.widget-view+json": {
       "model_id": "053ca04d935743d49b57221d86ba1b7e",
       "version_major": 2,
       "version_minor": 0
      },
      "text/plain": [
       "Epoch 1027/2000:   0%|          | 0/27 [00:00<?, ?batch/s]"
      ]
     },
     "metadata": {},
     "output_type": "display_data"
    },
    {
     "data": {
      "application/vnd.jupyter.widget-view+json": {
       "model_id": "b8b09bb0420945a29efb75cd7d42d8ae",
       "version_major": 2,
       "version_minor": 0
      },
      "text/plain": [
       "Epoch 1028/2000:   0%|          | 0/27 [00:00<?, ?batch/s]"
      ]
     },
     "metadata": {},
     "output_type": "display_data"
    },
    {
     "data": {
      "application/vnd.jupyter.widget-view+json": {
       "model_id": "4eb927adb2c54cdea975c5ec3b9d2a40",
       "version_major": 2,
       "version_minor": 0
      },
      "text/plain": [
       "Epoch 1029/2000:   0%|          | 0/27 [00:00<?, ?batch/s]"
      ]
     },
     "metadata": {},
     "output_type": "display_data"
    },
    {
     "data": {
      "application/vnd.jupyter.widget-view+json": {
       "model_id": "004595c1718041aea651108d275c93e6",
       "version_major": 2,
       "version_minor": 0
      },
      "text/plain": [
       "Epoch 1030/2000:   0%|          | 0/27 [00:00<?, ?batch/s]"
      ]
     },
     "metadata": {},
     "output_type": "display_data"
    },
    {
     "name": "stderr",
     "output_type": "stream",
     "text": [
      "IOPub message rate exceeded.\n",
      "The Jupyter server will temporarily stop sending output\n",
      "to the client in order to avoid crashing it.\n",
      "To change this limit, set the config variable\n",
      "`--ServerApp.iopub_msg_rate_limit`.\n",
      "\n",
      "Current values:\n",
      "ServerApp.iopub_msg_rate_limit=1000.0 (msgs/sec)\n",
      "ServerApp.rate_limit_window=3.0 (secs)\n",
      "\n"
     ]
    },
    {
     "data": {
      "application/vnd.jupyter.widget-view+json": {
       "model_id": "7612520d6b9c4eaaa4b26e1ca999ca00",
       "version_major": 2,
       "version_minor": 0
      },
      "text/plain": [
       "Epoch 1038/2000:   0%|          | 0/27 [00:00<?, ?batch/s]"
      ]
     },
     "metadata": {},
     "output_type": "display_data"
    },
    {
     "data": {
      "application/vnd.jupyter.widget-view+json": {
       "model_id": "0e34208490ab49449e404a8f6b20f12b",
       "version_major": 2,
       "version_minor": 0
      },
      "text/plain": [
       "Epoch 1039/2000:   0%|          | 0/27 [00:00<?, ?batch/s]"
      ]
     },
     "metadata": {},
     "output_type": "display_data"
    },
    {
     "data": {
      "application/vnd.jupyter.widget-view+json": {
       "model_id": "a39669afcfe14802aa54d6bcaf8ce743",
       "version_major": 2,
       "version_minor": 0
      },
      "text/plain": [
       "Epoch 1040/2000:   0%|          | 0/27 [00:00<?, ?batch/s]"
      ]
     },
     "metadata": {},
     "output_type": "display_data"
    },
    {
     "data": {
      "application/vnd.jupyter.widget-view+json": {
       "model_id": "b02530d47eb24c7284afd921d1525e99",
       "version_major": 2,
       "version_minor": 0
      },
      "text/plain": [
       "Epoch 1041/2000:   0%|          | 0/27 [00:00<?, ?batch/s]"
      ]
     },
     "metadata": {},
     "output_type": "display_data"
    },
    {
     "data": {
      "application/vnd.jupyter.widget-view+json": {
       "model_id": "bda94b0287cf45ea85ba08896f9a1ae6",
       "version_major": 2,
       "version_minor": 0
      },
      "text/plain": [
       "Epoch 1042/2000:   0%|          | 0/27 [00:00<?, ?batch/s]"
      ]
     },
     "metadata": {},
     "output_type": "display_data"
    },
    {
     "data": {
      "application/vnd.jupyter.widget-view+json": {
       "model_id": "460d1d32dfec419580fcb995fdc178f1",
       "version_major": 2,
       "version_minor": 0
      },
      "text/plain": [
       "Epoch 1043/2000:   0%|          | 0/27 [00:00<?, ?batch/s]"
      ]
     },
     "metadata": {},
     "output_type": "display_data"
    },
    {
     "data": {
      "application/vnd.jupyter.widget-view+json": {
       "model_id": "328b79c0acb04270aa23cc1a65d332d8",
       "version_major": 2,
       "version_minor": 0
      },
      "text/plain": [
       "Epoch 1044/2000:   0%|          | 0/27 [00:00<?, ?batch/s]"
      ]
     },
     "metadata": {},
     "output_type": "display_data"
    },
    {
     "data": {
      "application/vnd.jupyter.widget-view+json": {
       "model_id": "b69e6ce3f2704126acc1fae37f85c18d",
       "version_major": 2,
       "version_minor": 0
      },
      "text/plain": [
       "Epoch 1045/2000:   0%|          | 0/27 [00:00<?, ?batch/s]"
      ]
     },
     "metadata": {},
     "output_type": "display_data"
    },
    {
     "data": {
      "application/vnd.jupyter.widget-view+json": {
       "model_id": "38b5adb10ffc41a18d58f6479a3ff9e7",
       "version_major": 2,
       "version_minor": 0
      },
      "text/plain": [
       "Epoch 1046/2000:   0%|          | 0/27 [00:00<?, ?batch/s]"
      ]
     },
     "metadata": {},
     "output_type": "display_data"
    },
    {
     "data": {
      "application/vnd.jupyter.widget-view+json": {
       "model_id": "d9159e64401d4cc8bf28c5238574f10e",
       "version_major": 2,
       "version_minor": 0
      },
      "text/plain": [
       "Epoch 1047/2000:   0%|          | 0/27 [00:00<?, ?batch/s]"
      ]
     },
     "metadata": {},
     "output_type": "display_data"
    },
    {
     "data": {
      "application/vnd.jupyter.widget-view+json": {
       "model_id": "61562f2d7e4c45738f27ade673138236",
       "version_major": 2,
       "version_minor": 0
      },
      "text/plain": [
       "Epoch 1048/2000:   0%|          | 0/27 [00:00<?, ?batch/s]"
      ]
     },
     "metadata": {},
     "output_type": "display_data"
    },
    {
     "data": {
      "application/vnd.jupyter.widget-view+json": {
       "model_id": "29fc6f7f06614ab3ace90b763d1117e5",
       "version_major": 2,
       "version_minor": 0
      },
      "text/plain": [
       "Epoch 1049/2000:   0%|          | 0/27 [00:00<?, ?batch/s]"
      ]
     },
     "metadata": {},
     "output_type": "display_data"
    },
    {
     "data": {
      "application/vnd.jupyter.widget-view+json": {
       "model_id": "602b74ce430f468a831420e54458d883",
       "version_major": 2,
       "version_minor": 0
      },
      "text/plain": [
       "Epoch 1050/2000:   0%|          | 0/27 [00:00<?, ?batch/s]"
      ]
     },
     "metadata": {},
     "output_type": "display_data"
    },
    {
     "data": {
      "application/vnd.jupyter.widget-view+json": {
       "model_id": "10352925b02a4fc080f771af412d9aa6",
       "version_major": 2,
       "version_minor": 0
      },
      "text/plain": [
       "Epoch 1051/2000:   0%|          | 0/27 [00:00<?, ?batch/s]"
      ]
     },
     "metadata": {},
     "output_type": "display_data"
    },
    {
     "data": {
      "application/vnd.jupyter.widget-view+json": {
       "model_id": "19c3f7427e42439e94a46fc144079c0e",
       "version_major": 2,
       "version_minor": 0
      },
      "text/plain": [
       "Epoch 1052/2000:   0%|          | 0/27 [00:00<?, ?batch/s]"
      ]
     },
     "metadata": {},
     "output_type": "display_data"
    },
    {
     "data": {
      "application/vnd.jupyter.widget-view+json": {
       "model_id": "15fed33649eb4060b52a39fb33a56f7d",
       "version_major": 2,
       "version_minor": 0
      },
      "text/plain": [
       "Epoch 1053/2000:   0%|          | 0/27 [00:00<?, ?batch/s]"
      ]
     },
     "metadata": {},
     "output_type": "display_data"
    },
    {
     "data": {
      "application/vnd.jupyter.widget-view+json": {
       "model_id": "b4dafc7895ac4068af41a01075852869",
       "version_major": 2,
       "version_minor": 0
      },
      "text/plain": [
       "Epoch 1054/2000:   0%|          | 0/27 [00:00<?, ?batch/s]"
      ]
     },
     "metadata": {},
     "output_type": "display_data"
    },
    {
     "data": {
      "application/vnd.jupyter.widget-view+json": {
       "model_id": "8a153a449a96491d9e3a97a6d10158ee",
       "version_major": 2,
       "version_minor": 0
      },
      "text/plain": [
       "Epoch 1055/2000:   0%|          | 0/27 [00:00<?, ?batch/s]"
      ]
     },
     "metadata": {},
     "output_type": "display_data"
    },
    {
     "data": {
      "application/vnd.jupyter.widget-view+json": {
       "model_id": "20980aeba77f42cdb9d3fa02a1950c85",
       "version_major": 2,
       "version_minor": 0
      },
      "text/plain": [
       "Epoch 1056/2000:   0%|          | 0/27 [00:00<?, ?batch/s]"
      ]
     },
     "metadata": {},
     "output_type": "display_data"
    },
    {
     "data": {
      "application/vnd.jupyter.widget-view+json": {
       "model_id": "6633c919b9cb4ab5be9e2ef7b9c67ca5",
       "version_major": 2,
       "version_minor": 0
      },
      "text/plain": [
       "Epoch 1057/2000:   0%|          | 0/27 [00:00<?, ?batch/s]"
      ]
     },
     "metadata": {},
     "output_type": "display_data"
    },
    {
     "data": {
      "application/vnd.jupyter.widget-view+json": {
       "model_id": "13a303037d61474b9593c4e198593808",
       "version_major": 2,
       "version_minor": 0
      },
      "text/plain": [
       "Epoch 1058/2000:   0%|          | 0/27 [00:00<?, ?batch/s]"
      ]
     },
     "metadata": {},
     "output_type": "display_data"
    },
    {
     "data": {
      "application/vnd.jupyter.widget-view+json": {
       "model_id": "3b53ea293ab643389629ec23172a751b",
       "version_major": 2,
       "version_minor": 0
      },
      "text/plain": [
       "Epoch 1059/2000:   0%|          | 0/27 [00:00<?, ?batch/s]"
      ]
     },
     "metadata": {},
     "output_type": "display_data"
    },
    {
     "data": {
      "application/vnd.jupyter.widget-view+json": {
       "model_id": "1761b7d1f3c345c4859e17415153aa78",
       "version_major": 2,
       "version_minor": 0
      },
      "text/plain": [
       "Epoch 1060/2000:   0%|          | 0/27 [00:00<?, ?batch/s]"
      ]
     },
     "metadata": {},
     "output_type": "display_data"
    },
    {
     "data": {
      "application/vnd.jupyter.widget-view+json": {
       "model_id": "a87fefc95de3449f99261d10e6ff186b",
       "version_major": 2,
       "version_minor": 0
      },
      "text/plain": [
       "Epoch 1061/2000:   0%|          | 0/27 [00:00<?, ?batch/s]"
      ]
     },
     "metadata": {},
     "output_type": "display_data"
    },
    {
     "data": {
      "application/vnd.jupyter.widget-view+json": {
       "model_id": "1f5dcd474a694351a65ff70a943d4d0c",
       "version_major": 2,
       "version_minor": 0
      },
      "text/plain": [
       "Epoch 1062/2000:   0%|          | 0/27 [00:00<?, ?batch/s]"
      ]
     },
     "metadata": {},
     "output_type": "display_data"
    },
    {
     "data": {
      "application/vnd.jupyter.widget-view+json": {
       "model_id": "6a70073601ca491ab4ee1bef5980cd2c",
       "version_major": 2,
       "version_minor": 0
      },
      "text/plain": [
       "Epoch 1063/2000:   0%|          | 0/27 [00:00<?, ?batch/s]"
      ]
     },
     "metadata": {},
     "output_type": "display_data"
    },
    {
     "data": {
      "application/vnd.jupyter.widget-view+json": {
       "model_id": "f4325e75b3c341e19560e9820c86d5cc",
       "version_major": 2,
       "version_minor": 0
      },
      "text/plain": [
       "Epoch 1064/2000:   0%|          | 0/27 [00:00<?, ?batch/s]"
      ]
     },
     "metadata": {},
     "output_type": "display_data"
    },
    {
     "data": {
      "application/vnd.jupyter.widget-view+json": {
       "model_id": "b20fc12149484882b6e665f34172f58e",
       "version_major": 2,
       "version_minor": 0
      },
      "text/plain": [
       "Epoch 1065/2000:   0%|          | 0/27 [00:00<?, ?batch/s]"
      ]
     },
     "metadata": {},
     "output_type": "display_data"
    },
    {
     "data": {
      "application/vnd.jupyter.widget-view+json": {
       "model_id": "b74ab202077d427d920a7696942e7cdd",
       "version_major": 2,
       "version_minor": 0
      },
      "text/plain": [
       "Epoch 1066/2000:   0%|          | 0/27 [00:00<?, ?batch/s]"
      ]
     },
     "metadata": {},
     "output_type": "display_data"
    },
    {
     "data": {
      "application/vnd.jupyter.widget-view+json": {
       "model_id": "8fe19eda739c4af6870fb5866b8f606a",
       "version_major": 2,
       "version_minor": 0
      },
      "text/plain": [
       "Epoch 1067/2000:   0%|          | 0/27 [00:00<?, ?batch/s]"
      ]
     },
     "metadata": {},
     "output_type": "display_data"
    },
    {
     "data": {
      "application/vnd.jupyter.widget-view+json": {
       "model_id": "42789dc6f38e4faba97d99cc7d4ccb0e",
       "version_major": 2,
       "version_minor": 0
      },
      "text/plain": [
       "Epoch 1068/2000:   0%|          | 0/27 [00:00<?, ?batch/s]"
      ]
     },
     "metadata": {},
     "output_type": "display_data"
    },
    {
     "data": {
      "application/vnd.jupyter.widget-view+json": {
       "model_id": "eb573c352e924401b305c99c1c65360a",
       "version_major": 2,
       "version_minor": 0
      },
      "text/plain": [
       "Epoch 1069/2000:   0%|          | 0/27 [00:00<?, ?batch/s]"
      ]
     },
     "metadata": {},
     "output_type": "display_data"
    },
    {
     "data": {
      "application/vnd.jupyter.widget-view+json": {
       "model_id": "debfa39d0dc34e0fa1583046fca6e8f5",
       "version_major": 2,
       "version_minor": 0
      },
      "text/plain": [
       "Epoch 1070/2000:   0%|          | 0/27 [00:00<?, ?batch/s]"
      ]
     },
     "metadata": {},
     "output_type": "display_data"
    },
    {
     "data": {
      "application/vnd.jupyter.widget-view+json": {
       "model_id": "bb8f0790cf1c47b3bce7e9db49aa4f1c",
       "version_major": 2,
       "version_minor": 0
      },
      "text/plain": [
       "Epoch 1071/2000:   0%|          | 0/27 [00:00<?, ?batch/s]"
      ]
     },
     "metadata": {},
     "output_type": "display_data"
    },
    {
     "name": "stdout",
     "output_type": "stream",
     "text": [
      "Early stopping triggered: patience threshold reached.\n"
     ]
    }
   ],
   "source": [
    "num_epochs = 2000\n",
    "# initialize SHRED\n",
    "shred = SHRED(sequence='LSTM', decoder='SDN')\n",
    "# fit SHRED\n",
    "val_errors = shred.fit(train_set, val_set, num_epochs=num_epochs, patience=100, verbose=True)"
   ]
  },
  {
   "cell_type": "code",
   "execution_count": 54,
   "id": "794ae0e6-09fa-4843-9bba-7d2b9aed848e",
   "metadata": {},
   "outputs": [
    {
     "data": {
      "text/html": [
       "<div>\n",
       "<style scoped>\n",
       "    .dataframe tbody tr th:only-of-type {\n",
       "        vertical-align: middle;\n",
       "    }\n",
       "\n",
       "    .dataframe tbody tr th {\n",
       "        vertical-align: top;\n",
       "    }\n",
       "\n",
       "    .dataframe thead th {\n",
       "        text-align: right;\n",
       "    }\n",
       "</style>\n",
       "<table border=\"1\" class=\"dataframe\">\n",
       "  <thead>\n",
       "    <tr style=\"text-align: right;\">\n",
       "      <th></th>\n",
       "      <th>ni_3D</th>\n",
       "    </tr>\n",
       "  </thead>\n",
       "  <tbody>\n",
       "    <tr>\n",
       "      <th>reconstruction</th>\n",
       "      <td>0.069192</td>\n",
       "    </tr>\n",
       "  </tbody>\n",
       "</table>\n",
       "</div>"
      ],
      "text/plain": [
       "                   ni_3D\n",
       "reconstruction  0.069192"
      ]
     },
     "execution_count": 54,
     "metadata": {},
     "output_type": "execute_result"
    }
   ],
   "source": [
    "evaluate(shred = shred, test_dataset=test_set, data_manager=manager, uncompress=True, unscale = True)"
   ]
  },
  {
   "cell_type": "code",
   "execution_count": 55,
   "id": "f23bee3f-5623-4fab-9850-66fd5d8388b9",
   "metadata": {},
   "outputs": [],
   "source": [
    "# Initialize SHREDDataManager\n",
    "manager2 = SHREDDataManager(\n",
    "    lags = 20,\n",
    "    train_size = train_size,\n",
    "    val_size = val_size,\n",
    "    test_size = test_size,\n",
    "    compression = 200,\n",
    "    scaling = True,\n",
    "    time=np.arange(0, 2000),\n",
    "    method=\"all\"\n",
    ")\n",
    "\n",
    "manager2.add_field(\n",
    "    data=ni_3D,\n",
    "    stationary_sensors=[(29, 201), (76, 26), (11, 247)],\n",
    "    id = str(os.path.splitext(filename)[0])\n",
    ")\n"
   ]
  },
  {
   "cell_type": "code",
   "execution_count": 56,
   "id": "0f1a5880-aa66-4a34-8db6-368df3c3c653",
   "metadata": {},
   "outputs": [
    {
     "data": {
      "text/html": [
       "<div>\n",
       "<style scoped>\n",
       "    .dataframe tbody tr th:only-of-type {\n",
       "        vertical-align: middle;\n",
       "    }\n",
       "\n",
       "    .dataframe tbody tr th {\n",
       "        vertical-align: top;\n",
       "    }\n",
       "\n",
       "    .dataframe thead th {\n",
       "        text-align: right;\n",
       "    }\n",
       "</style>\n",
       "<table border=\"1\" class=\"dataframe\">\n",
       "  <thead>\n",
       "    <tr style=\"text-align: right;\">\n",
       "      <th></th>\n",
       "      <th>field id</th>\n",
       "      <th>sensor id</th>\n",
       "      <th>sensor type</th>\n",
       "      <th>location/trajectory</th>\n",
       "    </tr>\n",
       "  </thead>\n",
       "  <tbody>\n",
       "    <tr>\n",
       "      <th>0</th>\n",
       "      <td>ni_3D</td>\n",
       "      <td>ni_3D-0</td>\n",
       "      <td>stationary (user selected)</td>\n",
       "      <td>(29, 201)</td>\n",
       "    </tr>\n",
       "    <tr>\n",
       "      <th>1</th>\n",
       "      <td>ni_3D</td>\n",
       "      <td>ni_3D-1</td>\n",
       "      <td>stationary (user selected)</td>\n",
       "      <td>(76, 26)</td>\n",
       "    </tr>\n",
       "    <tr>\n",
       "      <th>2</th>\n",
       "      <td>ni_3D</td>\n",
       "      <td>ni_3D-2</td>\n",
       "      <td>stationary (user selected)</td>\n",
       "      <td>(11, 247)</td>\n",
       "    </tr>\n",
       "  </tbody>\n",
       "</table>\n",
       "</div>"
      ],
      "text/plain": [
       "  field id sensor id                 sensor type location/trajectory\n",
       "0    ni_3D   ni_3D-0  stationary (user selected)           (29, 201)\n",
       "1    ni_3D   ni_3D-1  stationary (user selected)            (76, 26)\n",
       "2    ni_3D   ni_3D-2  stationary (user selected)           (11, 247)"
      ]
     },
     "execution_count": 56,
     "metadata": {},
     "output_type": "execute_result"
    }
   ],
   "source": [
    "manager2.input_summary"
   ]
  },
  {
   "cell_type": "code",
   "execution_count": 57,
   "id": "83f2f215-f34b-4fb7-9ea6-f5d09de5b055",
   "metadata": {},
   "outputs": [
    {
     "data": {
      "text/html": [
       "<div>\n",
       "<style scoped>\n",
       "    .dataframe tbody tr th:only-of-type {\n",
       "        vertical-align: middle;\n",
       "    }\n",
       "\n",
       "    .dataframe tbody tr th {\n",
       "        vertical-align: top;\n",
       "    }\n",
       "\n",
       "    .dataframe thead th {\n",
       "        text-align: right;\n",
       "    }\n",
       "</style>\n",
       "<table border=\"1\" class=\"dataframe\">\n",
       "  <thead>\n",
       "    <tr style=\"text-align: right;\">\n",
       "      <th></th>\n",
       "      <th>time</th>\n",
       "      <th>ni_3D-0</th>\n",
       "      <th>ni_3D-1</th>\n",
       "      <th>ni_3D-2</th>\n",
       "    </tr>\n",
       "  </thead>\n",
       "  <tbody>\n",
       "    <tr>\n",
       "      <th>0</th>\n",
       "      <td>0</td>\n",
       "      <td>5.263100e+16</td>\n",
       "      <td>5.625600e+16</td>\n",
       "      <td>5.009700e+16</td>\n",
       "    </tr>\n",
       "    <tr>\n",
       "      <th>1</th>\n",
       "      <td>1</td>\n",
       "      <td>5.315000e+16</td>\n",
       "      <td>5.802500e+16</td>\n",
       "      <td>5.040600e+16</td>\n",
       "    </tr>\n",
       "    <tr>\n",
       "      <th>2</th>\n",
       "      <td>2</td>\n",
       "      <td>5.405600e+16</td>\n",
       "      <td>5.980300e+16</td>\n",
       "      <td>4.995000e+16</td>\n",
       "    </tr>\n",
       "    <tr>\n",
       "      <th>3</th>\n",
       "      <td>3</td>\n",
       "      <td>5.479300e+16</td>\n",
       "      <td>5.928200e+16</td>\n",
       "      <td>4.755900e+16</td>\n",
       "    </tr>\n",
       "    <tr>\n",
       "      <th>4</th>\n",
       "      <td>4</td>\n",
       "      <td>5.432100e+16</td>\n",
       "      <td>5.721300e+16</td>\n",
       "      <td>4.576400e+16</td>\n",
       "    </tr>\n",
       "    <tr>\n",
       "      <th>...</th>\n",
       "      <td>...</td>\n",
       "      <td>...</td>\n",
       "      <td>...</td>\n",
       "      <td>...</td>\n",
       "    </tr>\n",
       "    <tr>\n",
       "      <th>1995</th>\n",
       "      <td>1995</td>\n",
       "      <td>7.625200e+16</td>\n",
       "      <td>1.036000e+17</td>\n",
       "      <td>4.160500e+16</td>\n",
       "    </tr>\n",
       "    <tr>\n",
       "      <th>1996</th>\n",
       "      <td>1996</td>\n",
       "      <td>7.924100e+16</td>\n",
       "      <td>1.044900e+17</td>\n",
       "      <td>4.053400e+16</td>\n",
       "    </tr>\n",
       "    <tr>\n",
       "      <th>1997</th>\n",
       "      <td>1997</td>\n",
       "      <td>8.920600e+16</td>\n",
       "      <td>1.165200e+17</td>\n",
       "      <td>4.258400e+16</td>\n",
       "    </tr>\n",
       "    <tr>\n",
       "      <th>1998</th>\n",
       "      <td>1998</td>\n",
       "      <td>8.696500e+16</td>\n",
       "      <td>1.371100e+17</td>\n",
       "      <td>4.459300e+16</td>\n",
       "    </tr>\n",
       "    <tr>\n",
       "      <th>1999</th>\n",
       "      <td>1999</td>\n",
       "      <td>8.219100e+16</td>\n",
       "      <td>1.574200e+17</td>\n",
       "      <td>4.736400e+16</td>\n",
       "    </tr>\n",
       "  </tbody>\n",
       "</table>\n",
       "<p>2000 rows × 4 columns</p>\n",
       "</div>"
      ],
      "text/plain": [
       "      time       ni_3D-0       ni_3D-1       ni_3D-2\n",
       "0        0  5.263100e+16  5.625600e+16  5.009700e+16\n",
       "1        1  5.315000e+16  5.802500e+16  5.040600e+16\n",
       "2        2  5.405600e+16  5.980300e+16  4.995000e+16\n",
       "3        3  5.479300e+16  5.928200e+16  4.755900e+16\n",
       "4        4  5.432100e+16  5.721300e+16  4.576400e+16\n",
       "...    ...           ...           ...           ...\n",
       "1995  1995  7.625200e+16  1.036000e+17  4.160500e+16\n",
       "1996  1996  7.924100e+16  1.044900e+17  4.053400e+16\n",
       "1997  1997  8.920600e+16  1.165200e+17  4.258400e+16\n",
       "1998  1998  8.696500e+16  1.371100e+17  4.459300e+16\n",
       "1999  1999  8.219100e+16  1.574200e+17  4.736400e+16\n",
       "\n",
       "[2000 rows x 4 columns]"
      ]
     },
     "execution_count": 57,
     "metadata": {},
     "output_type": "execute_result"
    }
   ],
   "source": [
    "manager2.sensor_measurements"
   ]
  },
  {
   "cell_type": "code",
   "execution_count": 58,
   "id": "d87ed14a-0325-409a-8c27-6d8310d6d603",
   "metadata": {},
   "outputs": [
    {
     "name": "stdout",
     "output_type": "stream",
     "text": [
      "Data Shapes:\n",
      "Reconstructor Data\n",
      "train X: torch.Size([1800, 21, 3])\n",
      "train Y: torch.Size([1800, 200])\n",
      "val X: torch.Size([100, 21, 3])\n",
      "val Y: torch.Size([100, 200])\n",
      "test X: torch.Size([100, 21, 3])\n",
      "test Y: torch.Size([100, 200])\n",
      "Predictor Data\n",
      "train X: torch.Size([1800, 21, 3])\n",
      "train Y: torch.Size([1800, 200])\n",
      "val X: torch.Size([100, 21, 3])\n",
      "val Y: torch.Size([100, 200])\n",
      "test X: torch.Size([100, 21, 3])\n",
      "test Y: torch.Size([100, 200])\n",
      "Sensor Forecaster Data\n",
      "train X: torch.Size([1800, 21, 3])\n",
      "train Y: torch.Size([1800, 3])\n",
      "val X: torch.Size([100, 21, 3])\n",
      "val Y: torch.Size([100, 3])\n",
      "test X: torch.Size([100, 21, 3])\n",
      "test Y: torch.Size([100, 3])\n"
     ]
    }
   ],
   "source": [
    "# Get train/val/test datasets\n",
    "train_set_2, val_set_2, test_set_2 = manager2.preprocess()\n",
    "\n",
    "# Print dataset shapes\n",
    "print('Data Shapes:')\n",
    "print ('Reconstructor Data')\n",
    "print('train X:', train_set_2.reconstructor_dataset.X.shape)\n",
    "print('train Y:', train_set_2.reconstructor_dataset.Y.shape)\n",
    "print('val X:', val_set_2.reconstructor_dataset.X.shape)\n",
    "print('val Y:', val_set_2.reconstructor_dataset.Y.shape)\n",
    "print('test X:', test_set_2.reconstructor_dataset.X.shape)\n",
    "print('test Y:', test_set_2.reconstructor_dataset.Y.shape)\n",
    "\n",
    "print ('Predictor Data')\n",
    "print('train X:', train_set_2.predictor_dataset.X.shape)\n",
    "print('train Y:', train_set_2.predictor_dataset.Y.shape)\n",
    "print('val X:', val_set_2.predictor_dataset.X.shape)\n",
    "print('val Y:', val_set_2.predictor_dataset.Y.shape)\n",
    "print('test X:', test_set_2.predictor_dataset.X.shape)\n",
    "print('test Y:', test_set_2.predictor_dataset.Y.shape)\n",
    "\n",
    "print ('Sensor Forecaster Data')\n",
    "print('train X:', train_set_2.sensor_forecaster_dataset.X.shape)\n",
    "print('train Y:', train_set_2.sensor_forecaster_dataset.Y.shape)\n",
    "print('val X:', val_set_2.sensor_forecaster_dataset.X.shape)\n",
    "print('val Y:', val_set_2.sensor_forecaster_dataset.Y.shape)\n",
    "print('test X:', test_set_2.sensor_forecaster_dataset.X.shape)\n",
    "print('test Y:', test_set_2.sensor_forecaster_dataset.Y.shape)"
   ]
  },
  {
   "cell_type": "code",
   "execution_count": 59,
   "id": "de25bcea-c1e4-4019-8b62-3b14a0ce30e0",
   "metadata": {},
   "outputs": [
    {
     "name": "stdout",
     "output_type": "stream",
     "text": [
      "\n",
      "Fitting Reconstructor...\n"
     ]
    },
    {
     "data": {
      "application/vnd.jupyter.widget-view+json": {
       "model_id": "3f398f9998c4495984a35fa6d4f848d7",
       "version_major": 2,
       "version_minor": 0
      },
      "text/plain": [
       "Epoch 1/2000:   0%|          | 0/29 [00:00<?, ?batch/s]"
      ]
     },
     "metadata": {},
     "output_type": "display_data"
    },
    {
     "data": {
      "application/vnd.jupyter.widget-view+json": {
       "model_id": "527a4ed821af4908adadf7f1990026c6",
       "version_major": 2,
       "version_minor": 0
      },
      "text/plain": [
       "Epoch 2/2000:   0%|          | 0/29 [00:00<?, ?batch/s]"
      ]
     },
     "metadata": {},
     "output_type": "display_data"
    },
    {
     "data": {
      "application/vnd.jupyter.widget-view+json": {
       "model_id": "655d315f7cb04cd7a582ff39b4bb511d",
       "version_major": 2,
       "version_minor": 0
      },
      "text/plain": [
       "Epoch 3/2000:   0%|          | 0/29 [00:00<?, ?batch/s]"
      ]
     },
     "metadata": {},
     "output_type": "display_data"
    },
    {
     "data": {
      "application/vnd.jupyter.widget-view+json": {
       "model_id": "811baa5b9bcf492e86db9c6d47a7c57d",
       "version_major": 2,
       "version_minor": 0
      },
      "text/plain": [
       "Epoch 4/2000:   0%|          | 0/29 [00:00<?, ?batch/s]"
      ]
     },
     "metadata": {},
     "output_type": "display_data"
    },
    {
     "data": {
      "application/vnd.jupyter.widget-view+json": {
       "model_id": "ae9948be961a44d19915732c9fd1475e",
       "version_major": 2,
       "version_minor": 0
      },
      "text/plain": [
       "Epoch 5/2000:   0%|          | 0/29 [00:00<?, ?batch/s]"
      ]
     },
     "metadata": {},
     "output_type": "display_data"
    },
    {
     "data": {
      "application/vnd.jupyter.widget-view+json": {
       "model_id": "9acafe6b00e4404a86d4a8f8ea6ed6d7",
       "version_major": 2,
       "version_minor": 0
      },
      "text/plain": [
       "Epoch 6/2000:   0%|          | 0/29 [00:00<?, ?batch/s]"
      ]
     },
     "metadata": {},
     "output_type": "display_data"
    },
    {
     "data": {
      "application/vnd.jupyter.widget-view+json": {
       "model_id": "6f2c572a81d54441b43bf19d5a2ca64a",
       "version_major": 2,
       "version_minor": 0
      },
      "text/plain": [
       "Epoch 7/2000:   0%|          | 0/29 [00:00<?, ?batch/s]"
      ]
     },
     "metadata": {},
     "output_type": "display_data"
    },
    {
     "data": {
      "application/vnd.jupyter.widget-view+json": {
       "model_id": "28e5c61ecff94626aabedcc98d2332e7",
       "version_major": 2,
       "version_minor": 0
      },
      "text/plain": [
       "Epoch 8/2000:   0%|          | 0/29 [00:00<?, ?batch/s]"
      ]
     },
     "metadata": {},
     "output_type": "display_data"
    },
    {
     "data": {
      "application/vnd.jupyter.widget-view+json": {
       "model_id": "0cd6745d5f0d4836bd32c859c43c52e8",
       "version_major": 2,
       "version_minor": 0
      },
      "text/plain": [
       "Epoch 9/2000:   0%|          | 0/29 [00:00<?, ?batch/s]"
      ]
     },
     "metadata": {},
     "output_type": "display_data"
    },
    {
     "data": {
      "application/vnd.jupyter.widget-view+json": {
       "model_id": "98a3e12e1482441883b64a154197eea2",
       "version_major": 2,
       "version_minor": 0
      },
      "text/plain": [
       "Epoch 10/2000:   0%|          | 0/29 [00:00<?, ?batch/s]"
      ]
     },
     "metadata": {},
     "output_type": "display_data"
    },
    {
     "data": {
      "application/vnd.jupyter.widget-view+json": {
       "model_id": "3afb5402e833485eb7a2cd6f6396cd81",
       "version_major": 2,
       "version_minor": 0
      },
      "text/plain": [
       "Epoch 11/2000:   0%|          | 0/29 [00:00<?, ?batch/s]"
      ]
     },
     "metadata": {},
     "output_type": "display_data"
    },
    {
     "data": {
      "application/vnd.jupyter.widget-view+json": {
       "model_id": "cde1640d1b244531a399dabd635d4851",
       "version_major": 2,
       "version_minor": 0
      },
      "text/plain": [
       "Epoch 12/2000:   0%|          | 0/29 [00:00<?, ?batch/s]"
      ]
     },
     "metadata": {},
     "output_type": "display_data"
    },
    {
     "data": {
      "application/vnd.jupyter.widget-view+json": {
       "model_id": "e9b4e76f7d384835b7a344f19573cde5",
       "version_major": 2,
       "version_minor": 0
      },
      "text/plain": [
       "Epoch 13/2000:   0%|          | 0/29 [00:00<?, ?batch/s]"
      ]
     },
     "metadata": {},
     "output_type": "display_data"
    },
    {
     "data": {
      "application/vnd.jupyter.widget-view+json": {
       "model_id": "0865778cd6a1418aae0382fd4ccad89d",
       "version_major": 2,
       "version_minor": 0
      },
      "text/plain": [
       "Epoch 14/2000:   0%|          | 0/29 [00:00<?, ?batch/s]"
      ]
     },
     "metadata": {},
     "output_type": "display_data"
    },
    {
     "data": {
      "application/vnd.jupyter.widget-view+json": {
       "model_id": "42e95df07f9d4d8393d7c4d374542cd9",
       "version_major": 2,
       "version_minor": 0
      },
      "text/plain": [
       "Epoch 15/2000:   0%|          | 0/29 [00:00<?, ?batch/s]"
      ]
     },
     "metadata": {},
     "output_type": "display_data"
    },
    {
     "data": {
      "application/vnd.jupyter.widget-view+json": {
       "model_id": "c4f4cd608efe47b1b53ef19392084fd3",
       "version_major": 2,
       "version_minor": 0
      },
      "text/plain": [
       "Epoch 16/2000:   0%|          | 0/29 [00:00<?, ?batch/s]"
      ]
     },
     "metadata": {},
     "output_type": "display_data"
    },
    {
     "data": {
      "application/vnd.jupyter.widget-view+json": {
       "model_id": "943a879d243f4a9197a03be08f47c921",
       "version_major": 2,
       "version_minor": 0
      },
      "text/plain": [
       "Epoch 17/2000:   0%|          | 0/29 [00:00<?, ?batch/s]"
      ]
     },
     "metadata": {},
     "output_type": "display_data"
    },
    {
     "data": {
      "application/vnd.jupyter.widget-view+json": {
       "model_id": "4c66f0976f7e437794869766a18658eb",
       "version_major": 2,
       "version_minor": 0
      },
      "text/plain": [
       "Epoch 18/2000:   0%|          | 0/29 [00:00<?, ?batch/s]"
      ]
     },
     "metadata": {},
     "output_type": "display_data"
    },
    {
     "data": {
      "application/vnd.jupyter.widget-view+json": {
       "model_id": "5b32c913296143259135cccc9c2716cb",
       "version_major": 2,
       "version_minor": 0
      },
      "text/plain": [
       "Epoch 19/2000:   0%|          | 0/29 [00:00<?, ?batch/s]"
      ]
     },
     "metadata": {},
     "output_type": "display_data"
    },
    {
     "data": {
      "application/vnd.jupyter.widget-view+json": {
       "model_id": "64b32e252ee946c288bea07ad9094af4",
       "version_major": 2,
       "version_minor": 0
      },
      "text/plain": [
       "Epoch 20/2000:   0%|          | 0/29 [00:00<?, ?batch/s]"
      ]
     },
     "metadata": {},
     "output_type": "display_data"
    },
    {
     "data": {
      "application/vnd.jupyter.widget-view+json": {
       "model_id": "418438f1cc4842dca84e218271697860",
       "version_major": 2,
       "version_minor": 0
      },
      "text/plain": [
       "Epoch 21/2000:   0%|          | 0/29 [00:00<?, ?batch/s]"
      ]
     },
     "metadata": {},
     "output_type": "display_data"
    },
    {
     "data": {
      "application/vnd.jupyter.widget-view+json": {
       "model_id": "cb9b4fef1bc34e7c8d52c73900c7b58e",
       "version_major": 2,
       "version_minor": 0
      },
      "text/plain": [
       "Epoch 22/2000:   0%|          | 0/29 [00:00<?, ?batch/s]"
      ]
     },
     "metadata": {},
     "output_type": "display_data"
    },
    {
     "data": {
      "application/vnd.jupyter.widget-view+json": {
       "model_id": "12d2bc1150524432b05ff20274fa9adb",
       "version_major": 2,
       "version_minor": 0
      },
      "text/plain": [
       "Epoch 23/2000:   0%|          | 0/29 [00:00<?, ?batch/s]"
      ]
     },
     "metadata": {},
     "output_type": "display_data"
    },
    {
     "data": {
      "application/vnd.jupyter.widget-view+json": {
       "model_id": "f4671b4732f74c08ab1fe385d40e8005",
       "version_major": 2,
       "version_minor": 0
      },
      "text/plain": [
       "Epoch 24/2000:   0%|          | 0/29 [00:00<?, ?batch/s]"
      ]
     },
     "metadata": {},
     "output_type": "display_data"
    },
    {
     "data": {
      "application/vnd.jupyter.widget-view+json": {
       "model_id": "0b06f9c1e4034d8c9f0e0f29cbb33e13",
       "version_major": 2,
       "version_minor": 0
      },
      "text/plain": [
       "Epoch 25/2000:   0%|          | 0/29 [00:00<?, ?batch/s]"
      ]
     },
     "metadata": {},
     "output_type": "display_data"
    },
    {
     "data": {
      "application/vnd.jupyter.widget-view+json": {
       "model_id": "68d662f469ca450099f39c8bc3a1b56c",
       "version_major": 2,
       "version_minor": 0
      },
      "text/plain": [
       "Epoch 26/2000:   0%|          | 0/29 [00:00<?, ?batch/s]"
      ]
     },
     "metadata": {},
     "output_type": "display_data"
    },
    {
     "data": {
      "application/vnd.jupyter.widget-view+json": {
       "model_id": "8afc10e5cd9f463d823c424ba00613b6",
       "version_major": 2,
       "version_minor": 0
      },
      "text/plain": [
       "Epoch 27/2000:   0%|          | 0/29 [00:00<?, ?batch/s]"
      ]
     },
     "metadata": {},
     "output_type": "display_data"
    },
    {
     "data": {
      "application/vnd.jupyter.widget-view+json": {
       "model_id": "c84cfa097779442399c56f3e2ad96451",
       "version_major": 2,
       "version_minor": 0
      },
      "text/plain": [
       "Epoch 28/2000:   0%|          | 0/29 [00:00<?, ?batch/s]"
      ]
     },
     "metadata": {},
     "output_type": "display_data"
    },
    {
     "data": {
      "application/vnd.jupyter.widget-view+json": {
       "model_id": "a03f11e18af7469d928473785359bfb7",
       "version_major": 2,
       "version_minor": 0
      },
      "text/plain": [
       "Epoch 29/2000:   0%|          | 0/29 [00:00<?, ?batch/s]"
      ]
     },
     "metadata": {},
     "output_type": "display_data"
    },
    {
     "data": {
      "application/vnd.jupyter.widget-view+json": {
       "model_id": "5f6684319551445ba54a03a0e7072ce3",
       "version_major": 2,
       "version_minor": 0
      },
      "text/plain": [
       "Epoch 30/2000:   0%|          | 0/29 [00:00<?, ?batch/s]"
      ]
     },
     "metadata": {},
     "output_type": "display_data"
    },
    {
     "data": {
      "application/vnd.jupyter.widget-view+json": {
       "model_id": "7bfef1161b704ed6ad911329fbc99d00",
       "version_major": 2,
       "version_minor": 0
      },
      "text/plain": [
       "Epoch 31/2000:   0%|          | 0/29 [00:00<?, ?batch/s]"
      ]
     },
     "metadata": {},
     "output_type": "display_data"
    },
    {
     "data": {
      "application/vnd.jupyter.widget-view+json": {
       "model_id": "40eced83a45e464fadaf40bfe00975a9",
       "version_major": 2,
       "version_minor": 0
      },
      "text/plain": [
       "Epoch 32/2000:   0%|          | 0/29 [00:00<?, ?batch/s]"
      ]
     },
     "metadata": {},
     "output_type": "display_data"
    },
    {
     "data": {
      "application/vnd.jupyter.widget-view+json": {
       "model_id": "0d4a91a7d870468980a235d684bbae10",
       "version_major": 2,
       "version_minor": 0
      },
      "text/plain": [
       "Epoch 33/2000:   0%|          | 0/29 [00:00<?, ?batch/s]"
      ]
     },
     "metadata": {},
     "output_type": "display_data"
    },
    {
     "data": {
      "application/vnd.jupyter.widget-view+json": {
       "model_id": "176f1533d579427b99b7f8d5d115e431",
       "version_major": 2,
       "version_minor": 0
      },
      "text/plain": [
       "Epoch 34/2000:   0%|          | 0/29 [00:00<?, ?batch/s]"
      ]
     },
     "metadata": {},
     "output_type": "display_data"
    },
    {
     "data": {
      "application/vnd.jupyter.widget-view+json": {
       "model_id": "af85982089ab4fb4bff800c5ca369414",
       "version_major": 2,
       "version_minor": 0
      },
      "text/plain": [
       "Epoch 35/2000:   0%|          | 0/29 [00:00<?, ?batch/s]"
      ]
     },
     "metadata": {},
     "output_type": "display_data"
    },
    {
     "data": {
      "application/vnd.jupyter.widget-view+json": {
       "model_id": "26cb8d2dc1654f96966c284ba5937079",
       "version_major": 2,
       "version_minor": 0
      },
      "text/plain": [
       "Epoch 36/2000:   0%|          | 0/29 [00:00<?, ?batch/s]"
      ]
     },
     "metadata": {},
     "output_type": "display_data"
    },
    {
     "data": {
      "application/vnd.jupyter.widget-view+json": {
       "model_id": "70c6667dca6a4551b50f9cde0576d089",
       "version_major": 2,
       "version_minor": 0
      },
      "text/plain": [
       "Epoch 37/2000:   0%|          | 0/29 [00:00<?, ?batch/s]"
      ]
     },
     "metadata": {},
     "output_type": "display_data"
    },
    {
     "data": {
      "application/vnd.jupyter.widget-view+json": {
       "model_id": "6763178b91bc4023b41cddd294e4d139",
       "version_major": 2,
       "version_minor": 0
      },
      "text/plain": [
       "Epoch 38/2000:   0%|          | 0/29 [00:00<?, ?batch/s]"
      ]
     },
     "metadata": {},
     "output_type": "display_data"
    },
    {
     "name": "stderr",
     "output_type": "stream",
     "text": [
      "IOPub message rate exceeded.\n",
      "The Jupyter server will temporarily stop sending output\n",
      "to the client in order to avoid crashing it.\n",
      "To change this limit, set the config variable\n",
      "`--ServerApp.iopub_msg_rate_limit`.\n",
      "\n",
      "Current values:\n",
      "ServerApp.iopub_msg_rate_limit=1000.0 (msgs/sec)\n",
      "ServerApp.rate_limit_window=3.0 (secs)\n",
      "\n"
     ]
    },
    {
     "data": {
      "application/vnd.jupyter.widget-view+json": {
       "model_id": "6a0730188090434381ba2617cabd032a",
       "version_major": 2,
       "version_minor": 0
      },
      "text/plain": [
       "Epoch 46/2000:   0%|          | 0/29 [00:00<?, ?batch/s]"
      ]
     },
     "metadata": {},
     "output_type": "display_data"
    },
    {
     "data": {
      "application/vnd.jupyter.widget-view+json": {
       "model_id": "c1b2d0830bef4cc7883ce761245725bc",
       "version_major": 2,
       "version_minor": 0
      },
      "text/plain": [
       "Epoch 47/2000:   0%|          | 0/29 [00:00<?, ?batch/s]"
      ]
     },
     "metadata": {},
     "output_type": "display_data"
    },
    {
     "data": {
      "application/vnd.jupyter.widget-view+json": {
       "model_id": "6903d431cfaa4112b205919eb97e2188",
       "version_major": 2,
       "version_minor": 0
      },
      "text/plain": [
       "Epoch 48/2000:   0%|          | 0/29 [00:00<?, ?batch/s]"
      ]
     },
     "metadata": {},
     "output_type": "display_data"
    },
    {
     "data": {
      "application/vnd.jupyter.widget-view+json": {
       "model_id": "0489b3ec690b4914b6b843456c616cc5",
       "version_major": 2,
       "version_minor": 0
      },
      "text/plain": [
       "Epoch 49/2000:   0%|          | 0/29 [00:00<?, ?batch/s]"
      ]
     },
     "metadata": {},
     "output_type": "display_data"
    },
    {
     "data": {
      "application/vnd.jupyter.widget-view+json": {
       "model_id": "c765fcdf6ec54408b5080aeb4b8961a0",
       "version_major": 2,
       "version_minor": 0
      },
      "text/plain": [
       "Epoch 50/2000:   0%|          | 0/29 [00:00<?, ?batch/s]"
      ]
     },
     "metadata": {},
     "output_type": "display_data"
    },
    {
     "data": {
      "application/vnd.jupyter.widget-view+json": {
       "model_id": "cd21460e7e62452fb6f4892a8825c4ec",
       "version_major": 2,
       "version_minor": 0
      },
      "text/plain": [
       "Epoch 51/2000:   0%|          | 0/29 [00:00<?, ?batch/s]"
      ]
     },
     "metadata": {},
     "output_type": "display_data"
    },
    {
     "data": {
      "application/vnd.jupyter.widget-view+json": {
       "model_id": "f7dfa51e79f642f5b2c307a0278996cf",
       "version_major": 2,
       "version_minor": 0
      },
      "text/plain": [
       "Epoch 52/2000:   0%|          | 0/29 [00:00<?, ?batch/s]"
      ]
     },
     "metadata": {},
     "output_type": "display_data"
    },
    {
     "data": {
      "application/vnd.jupyter.widget-view+json": {
       "model_id": "a01402ee30cf4b3b8c338559b58749a2",
       "version_major": 2,
       "version_minor": 0
      },
      "text/plain": [
       "Epoch 53/2000:   0%|          | 0/29 [00:00<?, ?batch/s]"
      ]
     },
     "metadata": {},
     "output_type": "display_data"
    },
    {
     "data": {
      "application/vnd.jupyter.widget-view+json": {
       "model_id": "3d18b74be33d4ec3bf9b5967f52e1594",
       "version_major": 2,
       "version_minor": 0
      },
      "text/plain": [
       "Epoch 54/2000:   0%|          | 0/29 [00:00<?, ?batch/s]"
      ]
     },
     "metadata": {},
     "output_type": "display_data"
    },
    {
     "data": {
      "application/vnd.jupyter.widget-view+json": {
       "model_id": "0464a5a0b80b4b3d872bff601a10a25a",
       "version_major": 2,
       "version_minor": 0
      },
      "text/plain": [
       "Epoch 55/2000:   0%|          | 0/29 [00:00<?, ?batch/s]"
      ]
     },
     "metadata": {},
     "output_type": "display_data"
    },
    {
     "data": {
      "application/vnd.jupyter.widget-view+json": {
       "model_id": "6a0e7058e18244a6bb6edb4fd59d732e",
       "version_major": 2,
       "version_minor": 0
      },
      "text/plain": [
       "Epoch 56/2000:   0%|          | 0/29 [00:00<?, ?batch/s]"
      ]
     },
     "metadata": {},
     "output_type": "display_data"
    },
    {
     "data": {
      "application/vnd.jupyter.widget-view+json": {
       "model_id": "c1792a3588b6485283c1e7010f3bf673",
       "version_major": 2,
       "version_minor": 0
      },
      "text/plain": [
       "Epoch 57/2000:   0%|          | 0/29 [00:00<?, ?batch/s]"
      ]
     },
     "metadata": {},
     "output_type": "display_data"
    },
    {
     "data": {
      "application/vnd.jupyter.widget-view+json": {
       "model_id": "89ca956ba74a4cffa3a42acdff7a5c18",
       "version_major": 2,
       "version_minor": 0
      },
      "text/plain": [
       "Epoch 58/2000:   0%|          | 0/29 [00:00<?, ?batch/s]"
      ]
     },
     "metadata": {},
     "output_type": "display_data"
    },
    {
     "data": {
      "application/vnd.jupyter.widget-view+json": {
       "model_id": "692e3227059f4cbba495b10c767239c0",
       "version_major": 2,
       "version_minor": 0
      },
      "text/plain": [
       "Epoch 59/2000:   0%|          | 0/29 [00:00<?, ?batch/s]"
      ]
     },
     "metadata": {},
     "output_type": "display_data"
    },
    {
     "data": {
      "application/vnd.jupyter.widget-view+json": {
       "model_id": "18abb7c86f9248eaabc6dc41b400c05a",
       "version_major": 2,
       "version_minor": 0
      },
      "text/plain": [
       "Epoch 60/2000:   0%|          | 0/29 [00:00<?, ?batch/s]"
      ]
     },
     "metadata": {},
     "output_type": "display_data"
    },
    {
     "data": {
      "application/vnd.jupyter.widget-view+json": {
       "model_id": "042b914b187142e08c55b34747ecd40a",
       "version_major": 2,
       "version_minor": 0
      },
      "text/plain": [
       "Epoch 61/2000:   0%|          | 0/29 [00:00<?, ?batch/s]"
      ]
     },
     "metadata": {},
     "output_type": "display_data"
    },
    {
     "data": {
      "application/vnd.jupyter.widget-view+json": {
       "model_id": "3abcfe7c15a7414cb16c7d235750a426",
       "version_major": 2,
       "version_minor": 0
      },
      "text/plain": [
       "Epoch 62/2000:   0%|          | 0/29 [00:00<?, ?batch/s]"
      ]
     },
     "metadata": {},
     "output_type": "display_data"
    },
    {
     "data": {
      "application/vnd.jupyter.widget-view+json": {
       "model_id": "85d171ac38b7452b8379eb288d3a3733",
       "version_major": 2,
       "version_minor": 0
      },
      "text/plain": [
       "Epoch 63/2000:   0%|          | 0/29 [00:00<?, ?batch/s]"
      ]
     },
     "metadata": {},
     "output_type": "display_data"
    },
    {
     "data": {
      "application/vnd.jupyter.widget-view+json": {
       "model_id": "5d4ea0cf3c8f452ab0c0d9ca6482e5bf",
       "version_major": 2,
       "version_minor": 0
      },
      "text/plain": [
       "Epoch 64/2000:   0%|          | 0/29 [00:00<?, ?batch/s]"
      ]
     },
     "metadata": {},
     "output_type": "display_data"
    },
    {
     "data": {
      "application/vnd.jupyter.widget-view+json": {
       "model_id": "0ccf858b33d844d18bddf8e298957f96",
       "version_major": 2,
       "version_minor": 0
      },
      "text/plain": [
       "Epoch 65/2000:   0%|          | 0/29 [00:00<?, ?batch/s]"
      ]
     },
     "metadata": {},
     "output_type": "display_data"
    },
    {
     "data": {
      "application/vnd.jupyter.widget-view+json": {
       "model_id": "900aad651f3142428da1772dcdce3930",
       "version_major": 2,
       "version_minor": 0
      },
      "text/plain": [
       "Epoch 66/2000:   0%|          | 0/29 [00:00<?, ?batch/s]"
      ]
     },
     "metadata": {},
     "output_type": "display_data"
    },
    {
     "data": {
      "application/vnd.jupyter.widget-view+json": {
       "model_id": "bf23353b64fb42ab8e48e5b1b05adcc3",
       "version_major": 2,
       "version_minor": 0
      },
      "text/plain": [
       "Epoch 67/2000:   0%|          | 0/29 [00:00<?, ?batch/s]"
      ]
     },
     "metadata": {},
     "output_type": "display_data"
    },
    {
     "data": {
      "application/vnd.jupyter.widget-view+json": {
       "model_id": "66c49b7951834bfbb506f5e69eea9ee9",
       "version_major": 2,
       "version_minor": 0
      },
      "text/plain": [
       "Epoch 68/2000:   0%|          | 0/29 [00:00<?, ?batch/s]"
      ]
     },
     "metadata": {},
     "output_type": "display_data"
    },
    {
     "data": {
      "application/vnd.jupyter.widget-view+json": {
       "model_id": "e67c77af5f52447488b60b1d2e081da9",
       "version_major": 2,
       "version_minor": 0
      },
      "text/plain": [
       "Epoch 69/2000:   0%|          | 0/29 [00:00<?, ?batch/s]"
      ]
     },
     "metadata": {},
     "output_type": "display_data"
    },
    {
     "data": {
      "application/vnd.jupyter.widget-view+json": {
       "model_id": "87049c0905cc40699ba336e0287788ee",
       "version_major": 2,
       "version_minor": 0
      },
      "text/plain": [
       "Epoch 70/2000:   0%|          | 0/29 [00:00<?, ?batch/s]"
      ]
     },
     "metadata": {},
     "output_type": "display_data"
    },
    {
     "data": {
      "application/vnd.jupyter.widget-view+json": {
       "model_id": "2d811d13b1144c1592049cff9fb78852",
       "version_major": 2,
       "version_minor": 0
      },
      "text/plain": [
       "Epoch 71/2000:   0%|          | 0/29 [00:00<?, ?batch/s]"
      ]
     },
     "metadata": {},
     "output_type": "display_data"
    },
    {
     "data": {
      "application/vnd.jupyter.widget-view+json": {
       "model_id": "d1ce6485714f49d0bd697bf9fe7a0d16",
       "version_major": 2,
       "version_minor": 0
      },
      "text/plain": [
       "Epoch 72/2000:   0%|          | 0/29 [00:00<?, ?batch/s]"
      ]
     },
     "metadata": {},
     "output_type": "display_data"
    },
    {
     "data": {
      "application/vnd.jupyter.widget-view+json": {
       "model_id": "67e2fe4cdbe141d79203aabe6f53e0d2",
       "version_major": 2,
       "version_minor": 0
      },
      "text/plain": [
       "Epoch 73/2000:   0%|          | 0/29 [00:00<?, ?batch/s]"
      ]
     },
     "metadata": {},
     "output_type": "display_data"
    },
    {
     "data": {
      "application/vnd.jupyter.widget-view+json": {
       "model_id": "0f50a51302814f79a51c0e190338d067",
       "version_major": 2,
       "version_minor": 0
      },
      "text/plain": [
       "Epoch 74/2000:   0%|          | 0/29 [00:00<?, ?batch/s]"
      ]
     },
     "metadata": {},
     "output_type": "display_data"
    },
    {
     "data": {
      "application/vnd.jupyter.widget-view+json": {
       "model_id": "380772138d104b4b9a1055f54c3d59d3",
       "version_major": 2,
       "version_minor": 0
      },
      "text/plain": [
       "Epoch 75/2000:   0%|          | 0/29 [00:00<?, ?batch/s]"
      ]
     },
     "metadata": {},
     "output_type": "display_data"
    },
    {
     "data": {
      "application/vnd.jupyter.widget-view+json": {
       "model_id": "b12fdcba1fea4c928060fc4ffe50a83b",
       "version_major": 2,
       "version_minor": 0
      },
      "text/plain": [
       "Epoch 76/2000:   0%|          | 0/29 [00:00<?, ?batch/s]"
      ]
     },
     "metadata": {},
     "output_type": "display_data"
    },
    {
     "data": {
      "application/vnd.jupyter.widget-view+json": {
       "model_id": "4fa7f86e2742418ea1f90eeae1d071a8",
       "version_major": 2,
       "version_minor": 0
      },
      "text/plain": [
       "Epoch 77/2000:   0%|          | 0/29 [00:00<?, ?batch/s]"
      ]
     },
     "metadata": {},
     "output_type": "display_data"
    },
    {
     "data": {
      "application/vnd.jupyter.widget-view+json": {
       "model_id": "998cba6e1146493d87cc746dfa39d233",
       "version_major": 2,
       "version_minor": 0
      },
      "text/plain": [
       "Epoch 78/2000:   0%|          | 0/29 [00:00<?, ?batch/s]"
      ]
     },
     "metadata": {},
     "output_type": "display_data"
    },
    {
     "data": {
      "application/vnd.jupyter.widget-view+json": {
       "model_id": "fd6689ecadef4bd0947d83d025c20f7b",
       "version_major": 2,
       "version_minor": 0
      },
      "text/plain": [
       "Epoch 79/2000:   0%|          | 0/29 [00:00<?, ?batch/s]"
      ]
     },
     "metadata": {},
     "output_type": "display_data"
    },
    {
     "name": "stderr",
     "output_type": "stream",
     "text": [
      "IOPub message rate exceeded.\n",
      "The Jupyter server will temporarily stop sending output\n",
      "to the client in order to avoid crashing it.\n",
      "To change this limit, set the config variable\n",
      "`--ServerApp.iopub_msg_rate_limit`.\n",
      "\n",
      "Current values:\n",
      "ServerApp.iopub_msg_rate_limit=1000.0 (msgs/sec)\n",
      "ServerApp.rate_limit_window=3.0 (secs)\n",
      "\n"
     ]
    },
    {
     "data": {
      "application/vnd.jupyter.widget-view+json": {
       "model_id": "a03e901b294f4eca81a9312612d96e57",
       "version_major": 2,
       "version_minor": 0
      },
      "text/plain": [
       "Epoch 87/2000:   0%|          | 0/29 [00:00<?, ?batch/s]"
      ]
     },
     "metadata": {},
     "output_type": "display_data"
    },
    {
     "data": {
      "application/vnd.jupyter.widget-view+json": {
       "model_id": "1132ee7aa76547c8a858cbbc0eec167d",
       "version_major": 2,
       "version_minor": 0
      },
      "text/plain": [
       "Epoch 88/2000:   0%|          | 0/29 [00:00<?, ?batch/s]"
      ]
     },
     "metadata": {},
     "output_type": "display_data"
    },
    {
     "data": {
      "application/vnd.jupyter.widget-view+json": {
       "model_id": "589d66ce14a4468794243ae38eeb2492",
       "version_major": 2,
       "version_minor": 0
      },
      "text/plain": [
       "Epoch 89/2000:   0%|          | 0/29 [00:00<?, ?batch/s]"
      ]
     },
     "metadata": {},
     "output_type": "display_data"
    },
    {
     "data": {
      "application/vnd.jupyter.widget-view+json": {
       "model_id": "f9f9af2c03854239a988abc9a5c9a5fb",
       "version_major": 2,
       "version_minor": 0
      },
      "text/plain": [
       "Epoch 90/2000:   0%|          | 0/29 [00:00<?, ?batch/s]"
      ]
     },
     "metadata": {},
     "output_type": "display_data"
    },
    {
     "data": {
      "application/vnd.jupyter.widget-view+json": {
       "model_id": "a09eb9ca8ffd4f88938527b28d02887d",
       "version_major": 2,
       "version_minor": 0
      },
      "text/plain": [
       "Epoch 91/2000:   0%|          | 0/29 [00:00<?, ?batch/s]"
      ]
     },
     "metadata": {},
     "output_type": "display_data"
    },
    {
     "data": {
      "application/vnd.jupyter.widget-view+json": {
       "model_id": "802e5a20b8364db8a87e52ce30c921de",
       "version_major": 2,
       "version_minor": 0
      },
      "text/plain": [
       "Epoch 92/2000:   0%|          | 0/29 [00:00<?, ?batch/s]"
      ]
     },
     "metadata": {},
     "output_type": "display_data"
    },
    {
     "data": {
      "application/vnd.jupyter.widget-view+json": {
       "model_id": "e640a8bfec4f43fb81c08ae9c9939530",
       "version_major": 2,
       "version_minor": 0
      },
      "text/plain": [
       "Epoch 93/2000:   0%|          | 0/29 [00:00<?, ?batch/s]"
      ]
     },
     "metadata": {},
     "output_type": "display_data"
    },
    {
     "data": {
      "application/vnd.jupyter.widget-view+json": {
       "model_id": "a2fbc5dc97754c79abd66a7152f6a728",
       "version_major": 2,
       "version_minor": 0
      },
      "text/plain": [
       "Epoch 94/2000:   0%|          | 0/29 [00:00<?, ?batch/s]"
      ]
     },
     "metadata": {},
     "output_type": "display_data"
    },
    {
     "data": {
      "application/vnd.jupyter.widget-view+json": {
       "model_id": "383b567be5804263aa784dda42eeef8e",
       "version_major": 2,
       "version_minor": 0
      },
      "text/plain": [
       "Epoch 95/2000:   0%|          | 0/29 [00:00<?, ?batch/s]"
      ]
     },
     "metadata": {},
     "output_type": "display_data"
    },
    {
     "data": {
      "application/vnd.jupyter.widget-view+json": {
       "model_id": "9a37f15f86fe4756af6171ffa5d0dbd3",
       "version_major": 2,
       "version_minor": 0
      },
      "text/plain": [
       "Epoch 96/2000:   0%|          | 0/29 [00:00<?, ?batch/s]"
      ]
     },
     "metadata": {},
     "output_type": "display_data"
    },
    {
     "data": {
      "application/vnd.jupyter.widget-view+json": {
       "model_id": "36df16dccc604cd788e25c77d8993f41",
       "version_major": 2,
       "version_minor": 0
      },
      "text/plain": [
       "Epoch 97/2000:   0%|          | 0/29 [00:00<?, ?batch/s]"
      ]
     },
     "metadata": {},
     "output_type": "display_data"
    },
    {
     "data": {
      "application/vnd.jupyter.widget-view+json": {
       "model_id": "9c63ed0d79714bb79df7db3476b8d3cc",
       "version_major": 2,
       "version_minor": 0
      },
      "text/plain": [
       "Epoch 98/2000:   0%|          | 0/29 [00:00<?, ?batch/s]"
      ]
     },
     "metadata": {},
     "output_type": "display_data"
    },
    {
     "data": {
      "application/vnd.jupyter.widget-view+json": {
       "model_id": "7c82cc46f816439c88aacc261a4644e4",
       "version_major": 2,
       "version_minor": 0
      },
      "text/plain": [
       "Epoch 99/2000:   0%|          | 0/29 [00:00<?, ?batch/s]"
      ]
     },
     "metadata": {},
     "output_type": "display_data"
    },
    {
     "data": {
      "application/vnd.jupyter.widget-view+json": {
       "model_id": "811f3beee6544e5cbb7466618014b4c8",
       "version_major": 2,
       "version_minor": 0
      },
      "text/plain": [
       "Epoch 100/2000:   0%|          | 0/29 [00:00<?, ?batch/s]"
      ]
     },
     "metadata": {},
     "output_type": "display_data"
    },
    {
     "data": {
      "application/vnd.jupyter.widget-view+json": {
       "model_id": "516dcb73a71a47efbf6e7eea1fec9a11",
       "version_major": 2,
       "version_minor": 0
      },
      "text/plain": [
       "Epoch 101/2000:   0%|          | 0/29 [00:00<?, ?batch/s]"
      ]
     },
     "metadata": {},
     "output_type": "display_data"
    },
    {
     "data": {
      "application/vnd.jupyter.widget-view+json": {
       "model_id": "628b065aad3846f18dce6460b00be3ab",
       "version_major": 2,
       "version_minor": 0
      },
      "text/plain": [
       "Epoch 102/2000:   0%|          | 0/29 [00:00<?, ?batch/s]"
      ]
     },
     "metadata": {},
     "output_type": "display_data"
    },
    {
     "data": {
      "application/vnd.jupyter.widget-view+json": {
       "model_id": "a0c7dffa414448db8d3a6b4f3453227a",
       "version_major": 2,
       "version_minor": 0
      },
      "text/plain": [
       "Epoch 103/2000:   0%|          | 0/29 [00:00<?, ?batch/s]"
      ]
     },
     "metadata": {},
     "output_type": "display_data"
    },
    {
     "data": {
      "application/vnd.jupyter.widget-view+json": {
       "model_id": "f5cfecf934604107bdf2b8a2c5b26fb8",
       "version_major": 2,
       "version_minor": 0
      },
      "text/plain": [
       "Epoch 104/2000:   0%|          | 0/29 [00:00<?, ?batch/s]"
      ]
     },
     "metadata": {},
     "output_type": "display_data"
    },
    {
     "data": {
      "application/vnd.jupyter.widget-view+json": {
       "model_id": "fca9deaf87124120b8d0b4e5483fc371",
       "version_major": 2,
       "version_minor": 0
      },
      "text/plain": [
       "Epoch 105/2000:   0%|          | 0/29 [00:00<?, ?batch/s]"
      ]
     },
     "metadata": {},
     "output_type": "display_data"
    },
    {
     "data": {
      "application/vnd.jupyter.widget-view+json": {
       "model_id": "36d817188e194ab789a44f43cb7be4bd",
       "version_major": 2,
       "version_minor": 0
      },
      "text/plain": [
       "Epoch 106/2000:   0%|          | 0/29 [00:00<?, ?batch/s]"
      ]
     },
     "metadata": {},
     "output_type": "display_data"
    },
    {
     "data": {
      "application/vnd.jupyter.widget-view+json": {
       "model_id": "4f16da31c631428b8d6037af964370ea",
       "version_major": 2,
       "version_minor": 0
      },
      "text/plain": [
       "Epoch 107/2000:   0%|          | 0/29 [00:00<?, ?batch/s]"
      ]
     },
     "metadata": {},
     "output_type": "display_data"
    },
    {
     "data": {
      "application/vnd.jupyter.widget-view+json": {
       "model_id": "fb5b7ed02fae4ca4b8c0237a21b481e2",
       "version_major": 2,
       "version_minor": 0
      },
      "text/plain": [
       "Epoch 108/2000:   0%|          | 0/29 [00:00<?, ?batch/s]"
      ]
     },
     "metadata": {},
     "output_type": "display_data"
    },
    {
     "data": {
      "application/vnd.jupyter.widget-view+json": {
       "model_id": "131713715e744e378c354ba73906a55e",
       "version_major": 2,
       "version_minor": 0
      },
      "text/plain": [
       "Epoch 109/2000:   0%|          | 0/29 [00:00<?, ?batch/s]"
      ]
     },
     "metadata": {},
     "output_type": "display_data"
    },
    {
     "data": {
      "application/vnd.jupyter.widget-view+json": {
       "model_id": "4527a01b20fb490fad4d99aa4d722d61",
       "version_major": 2,
       "version_minor": 0
      },
      "text/plain": [
       "Epoch 110/2000:   0%|          | 0/29 [00:00<?, ?batch/s]"
      ]
     },
     "metadata": {},
     "output_type": "display_data"
    },
    {
     "data": {
      "application/vnd.jupyter.widget-view+json": {
       "model_id": "096de4db0df14e3989de9fba46fe89f3",
       "version_major": 2,
       "version_minor": 0
      },
      "text/plain": [
       "Epoch 111/2000:   0%|          | 0/29 [00:00<?, ?batch/s]"
      ]
     },
     "metadata": {},
     "output_type": "display_data"
    },
    {
     "data": {
      "application/vnd.jupyter.widget-view+json": {
       "model_id": "146f298432f542bc9eb5b2ed40c66964",
       "version_major": 2,
       "version_minor": 0
      },
      "text/plain": [
       "Epoch 112/2000:   0%|          | 0/29 [00:00<?, ?batch/s]"
      ]
     },
     "metadata": {},
     "output_type": "display_data"
    },
    {
     "data": {
      "application/vnd.jupyter.widget-view+json": {
       "model_id": "1639ae90cfe040c499615ab804439594",
       "version_major": 2,
       "version_minor": 0
      },
      "text/plain": [
       "Epoch 113/2000:   0%|          | 0/29 [00:00<?, ?batch/s]"
      ]
     },
     "metadata": {},
     "output_type": "display_data"
    },
    {
     "data": {
      "application/vnd.jupyter.widget-view+json": {
       "model_id": "dad333be942c49c19c378f6ae0671803",
       "version_major": 2,
       "version_minor": 0
      },
      "text/plain": [
       "Epoch 114/2000:   0%|          | 0/29 [00:00<?, ?batch/s]"
      ]
     },
     "metadata": {},
     "output_type": "display_data"
    },
    {
     "data": {
      "application/vnd.jupyter.widget-view+json": {
       "model_id": "839753e4aa574feb893cc86057cb448f",
       "version_major": 2,
       "version_minor": 0
      },
      "text/plain": [
       "Epoch 115/2000:   0%|          | 0/29 [00:00<?, ?batch/s]"
      ]
     },
     "metadata": {},
     "output_type": "display_data"
    },
    {
     "data": {
      "application/vnd.jupyter.widget-view+json": {
       "model_id": "8200a52b4f544738ba71e27b65c6ef71",
       "version_major": 2,
       "version_minor": 0
      },
      "text/plain": [
       "Epoch 116/2000:   0%|          | 0/29 [00:00<?, ?batch/s]"
      ]
     },
     "metadata": {},
     "output_type": "display_data"
    },
    {
     "data": {
      "application/vnd.jupyter.widget-view+json": {
       "model_id": "22172c367ee3406187be1439bc04de7c",
       "version_major": 2,
       "version_minor": 0
      },
      "text/plain": [
       "Epoch 117/2000:   0%|          | 0/29 [00:00<?, ?batch/s]"
      ]
     },
     "metadata": {},
     "output_type": "display_data"
    },
    {
     "name": "stderr",
     "output_type": "stream",
     "text": [
      "IOPub message rate exceeded.\n",
      "The Jupyter server will temporarily stop sending output\n",
      "to the client in order to avoid crashing it.\n",
      "To change this limit, set the config variable\n",
      "`--ServerApp.iopub_msg_rate_limit`.\n",
      "\n",
      "Current values:\n",
      "ServerApp.iopub_msg_rate_limit=1000.0 (msgs/sec)\n",
      "ServerApp.rate_limit_window=3.0 (secs)\n",
      "\n"
     ]
    },
    {
     "data": {
      "application/vnd.jupyter.widget-view+json": {
       "model_id": "9bc17c0584a3413680671dcd5b8f47db",
       "version_major": 2,
       "version_minor": 0
      },
      "text/plain": [
       "Epoch 126/2000:   0%|          | 0/29 [00:00<?, ?batch/s]"
      ]
     },
     "metadata": {},
     "output_type": "display_data"
    },
    {
     "data": {
      "application/vnd.jupyter.widget-view+json": {
       "model_id": "d2463e3478ae4f119026999ddc685fd9",
       "version_major": 2,
       "version_minor": 0
      },
      "text/plain": [
       "Epoch 127/2000:   0%|          | 0/29 [00:00<?, ?batch/s]"
      ]
     },
     "metadata": {},
     "output_type": "display_data"
    },
    {
     "data": {
      "application/vnd.jupyter.widget-view+json": {
       "model_id": "3dd8b6461f014c76b587b3839c83872c",
       "version_major": 2,
       "version_minor": 0
      },
      "text/plain": [
       "Epoch 128/2000:   0%|          | 0/29 [00:00<?, ?batch/s]"
      ]
     },
     "metadata": {},
     "output_type": "display_data"
    },
    {
     "data": {
      "application/vnd.jupyter.widget-view+json": {
       "model_id": "f30af4b110454d5bb2b3ce02e5504295",
       "version_major": 2,
       "version_minor": 0
      },
      "text/plain": [
       "Epoch 129/2000:   0%|          | 0/29 [00:00<?, ?batch/s]"
      ]
     },
     "metadata": {},
     "output_type": "display_data"
    },
    {
     "data": {
      "application/vnd.jupyter.widget-view+json": {
       "model_id": "4ca3f4f6c76546eb93166f90b63fc38a",
       "version_major": 2,
       "version_minor": 0
      },
      "text/plain": [
       "Epoch 130/2000:   0%|          | 0/29 [00:00<?, ?batch/s]"
      ]
     },
     "metadata": {},
     "output_type": "display_data"
    },
    {
     "data": {
      "application/vnd.jupyter.widget-view+json": {
       "model_id": "1ed484c44c924928bb891575a1cf66bb",
       "version_major": 2,
       "version_minor": 0
      },
      "text/plain": [
       "Epoch 131/2000:   0%|          | 0/29 [00:00<?, ?batch/s]"
      ]
     },
     "metadata": {},
     "output_type": "display_data"
    },
    {
     "data": {
      "application/vnd.jupyter.widget-view+json": {
       "model_id": "19156742cb7b453d8e690b0b617f1c27",
       "version_major": 2,
       "version_minor": 0
      },
      "text/plain": [
       "Epoch 132/2000:   0%|          | 0/29 [00:00<?, ?batch/s]"
      ]
     },
     "metadata": {},
     "output_type": "display_data"
    },
    {
     "data": {
      "application/vnd.jupyter.widget-view+json": {
       "model_id": "b8fafb4bb02749c285d164c5ec5ed500",
       "version_major": 2,
       "version_minor": 0
      },
      "text/plain": [
       "Epoch 133/2000:   0%|          | 0/29 [00:00<?, ?batch/s]"
      ]
     },
     "metadata": {},
     "output_type": "display_data"
    },
    {
     "data": {
      "application/vnd.jupyter.widget-view+json": {
       "model_id": "f2a3ebafeabe419d8a670912d3c9e1d1",
       "version_major": 2,
       "version_minor": 0
      },
      "text/plain": [
       "Epoch 134/2000:   0%|          | 0/29 [00:00<?, ?batch/s]"
      ]
     },
     "metadata": {},
     "output_type": "display_data"
    },
    {
     "data": {
      "application/vnd.jupyter.widget-view+json": {
       "model_id": "8526adcc3dea4df988649914c06ceee7",
       "version_major": 2,
       "version_minor": 0
      },
      "text/plain": [
       "Epoch 135/2000:   0%|          | 0/29 [00:00<?, ?batch/s]"
      ]
     },
     "metadata": {},
     "output_type": "display_data"
    },
    {
     "data": {
      "application/vnd.jupyter.widget-view+json": {
       "model_id": "504d4d05515443f5b810420b22844f85",
       "version_major": 2,
       "version_minor": 0
      },
      "text/plain": [
       "Epoch 136/2000:   0%|          | 0/29 [00:00<?, ?batch/s]"
      ]
     },
     "metadata": {},
     "output_type": "display_data"
    },
    {
     "data": {
      "application/vnd.jupyter.widget-view+json": {
       "model_id": "fe1935863a75407a933b8ac9b682314f",
       "version_major": 2,
       "version_minor": 0
      },
      "text/plain": [
       "Epoch 137/2000:   0%|          | 0/29 [00:00<?, ?batch/s]"
      ]
     },
     "metadata": {},
     "output_type": "display_data"
    },
    {
     "data": {
      "application/vnd.jupyter.widget-view+json": {
       "model_id": "6271f2034a3043c9b180aec449bbf4d3",
       "version_major": 2,
       "version_minor": 0
      },
      "text/plain": [
       "Epoch 138/2000:   0%|          | 0/29 [00:00<?, ?batch/s]"
      ]
     },
     "metadata": {},
     "output_type": "display_data"
    },
    {
     "data": {
      "application/vnd.jupyter.widget-view+json": {
       "model_id": "0eb2fa5d9b244ccfa1a12a4f3c1b7706",
       "version_major": 2,
       "version_minor": 0
      },
      "text/plain": [
       "Epoch 139/2000:   0%|          | 0/29 [00:00<?, ?batch/s]"
      ]
     },
     "metadata": {},
     "output_type": "display_data"
    },
    {
     "data": {
      "application/vnd.jupyter.widget-view+json": {
       "model_id": "6b7681727f7a43b0af59f3ca822fa525",
       "version_major": 2,
       "version_minor": 0
      },
      "text/plain": [
       "Epoch 140/2000:   0%|          | 0/29 [00:00<?, ?batch/s]"
      ]
     },
     "metadata": {},
     "output_type": "display_data"
    },
    {
     "data": {
      "application/vnd.jupyter.widget-view+json": {
       "model_id": "6c68a4cd14b04dffa28f1a896167b31c",
       "version_major": 2,
       "version_minor": 0
      },
      "text/plain": [
       "Epoch 141/2000:   0%|          | 0/29 [00:00<?, ?batch/s]"
      ]
     },
     "metadata": {},
     "output_type": "display_data"
    },
    {
     "data": {
      "application/vnd.jupyter.widget-view+json": {
       "model_id": "1c8006d5b60841fabedea96f13d725dc",
       "version_major": 2,
       "version_minor": 0
      },
      "text/plain": [
       "Epoch 142/2000:   0%|          | 0/29 [00:00<?, ?batch/s]"
      ]
     },
     "metadata": {},
     "output_type": "display_data"
    },
    {
     "data": {
      "application/vnd.jupyter.widget-view+json": {
       "model_id": "a6886a07067b4e459e8fd8d55ff14a12",
       "version_major": 2,
       "version_minor": 0
      },
      "text/plain": [
       "Epoch 143/2000:   0%|          | 0/29 [00:00<?, ?batch/s]"
      ]
     },
     "metadata": {},
     "output_type": "display_data"
    },
    {
     "data": {
      "application/vnd.jupyter.widget-view+json": {
       "model_id": "f9b6837fe317479e9c304c619ad3a60e",
       "version_major": 2,
       "version_minor": 0
      },
      "text/plain": [
       "Epoch 144/2000:   0%|          | 0/29 [00:00<?, ?batch/s]"
      ]
     },
     "metadata": {},
     "output_type": "display_data"
    },
    {
     "data": {
      "application/vnd.jupyter.widget-view+json": {
       "model_id": "9579d9311bfc4e1ba4495fe491123a36",
       "version_major": 2,
       "version_minor": 0
      },
      "text/plain": [
       "Epoch 145/2000:   0%|          | 0/29 [00:00<?, ?batch/s]"
      ]
     },
     "metadata": {},
     "output_type": "display_data"
    },
    {
     "data": {
      "application/vnd.jupyter.widget-view+json": {
       "model_id": "190e7204c3644cf791549c49ce122102",
       "version_major": 2,
       "version_minor": 0
      },
      "text/plain": [
       "Epoch 146/2000:   0%|          | 0/29 [00:00<?, ?batch/s]"
      ]
     },
     "metadata": {},
     "output_type": "display_data"
    },
    {
     "data": {
      "application/vnd.jupyter.widget-view+json": {
       "model_id": "4210a4421e464f52a56ce332ed6c3203",
       "version_major": 2,
       "version_minor": 0
      },
      "text/plain": [
       "Epoch 147/2000:   0%|          | 0/29 [00:00<?, ?batch/s]"
      ]
     },
     "metadata": {},
     "output_type": "display_data"
    },
    {
     "data": {
      "application/vnd.jupyter.widget-view+json": {
       "model_id": "06f4438d316d49e68cab8e24568a552e",
       "version_major": 2,
       "version_minor": 0
      },
      "text/plain": [
       "Epoch 148/2000:   0%|          | 0/29 [00:00<?, ?batch/s]"
      ]
     },
     "metadata": {},
     "output_type": "display_data"
    },
    {
     "data": {
      "application/vnd.jupyter.widget-view+json": {
       "model_id": "e4ff6900d2f946cfab9a2e71a0f1307a",
       "version_major": 2,
       "version_minor": 0
      },
      "text/plain": [
       "Epoch 149/2000:   0%|          | 0/29 [00:00<?, ?batch/s]"
      ]
     },
     "metadata": {},
     "output_type": "display_data"
    },
    {
     "data": {
      "application/vnd.jupyter.widget-view+json": {
       "model_id": "c5e9d332f6154782b69d586b9c89dcaa",
       "version_major": 2,
       "version_minor": 0
      },
      "text/plain": [
       "Epoch 150/2000:   0%|          | 0/29 [00:00<?, ?batch/s]"
      ]
     },
     "metadata": {},
     "output_type": "display_data"
    },
    {
     "data": {
      "application/vnd.jupyter.widget-view+json": {
       "model_id": "991da5e70e044d3788c6bc2b9e75c7ee",
       "version_major": 2,
       "version_minor": 0
      },
      "text/plain": [
       "Epoch 151/2000:   0%|          | 0/29 [00:00<?, ?batch/s]"
      ]
     },
     "metadata": {},
     "output_type": "display_data"
    },
    {
     "data": {
      "application/vnd.jupyter.widget-view+json": {
       "model_id": "fe3c2325407d499aa1f0942a79984853",
       "version_major": 2,
       "version_minor": 0
      },
      "text/plain": [
       "Epoch 152/2000:   0%|          | 0/29 [00:00<?, ?batch/s]"
      ]
     },
     "metadata": {},
     "output_type": "display_data"
    },
    {
     "data": {
      "application/vnd.jupyter.widget-view+json": {
       "model_id": "c5cd351770bd48c7bb5a9c3b72eb38f6",
       "version_major": 2,
       "version_minor": 0
      },
      "text/plain": [
       "Epoch 153/2000:   0%|          | 0/29 [00:00<?, ?batch/s]"
      ]
     },
     "metadata": {},
     "output_type": "display_data"
    },
    {
     "data": {
      "application/vnd.jupyter.widget-view+json": {
       "model_id": "598820f29a7d4c7f8cf1bf17f6baa97c",
       "version_major": 2,
       "version_minor": 0
      },
      "text/plain": [
       "Epoch 154/2000:   0%|          | 0/29 [00:00<?, ?batch/s]"
      ]
     },
     "metadata": {},
     "output_type": "display_data"
    },
    {
     "data": {
      "application/vnd.jupyter.widget-view+json": {
       "model_id": "0790dccc62cd40e3bdad8a78c2d59aed",
       "version_major": 2,
       "version_minor": 0
      },
      "text/plain": [
       "Epoch 155/2000:   0%|          | 0/29 [00:00<?, ?batch/s]"
      ]
     },
     "metadata": {},
     "output_type": "display_data"
    },
    {
     "data": {
      "application/vnd.jupyter.widget-view+json": {
       "model_id": "ad8298c018274f9992f9eef945ab0162",
       "version_major": 2,
       "version_minor": 0
      },
      "text/plain": [
       "Epoch 156/2000:   0%|          | 0/29 [00:00<?, ?batch/s]"
      ]
     },
     "metadata": {},
     "output_type": "display_data"
    },
    {
     "data": {
      "application/vnd.jupyter.widget-view+json": {
       "model_id": "3d10fe62c19e42b69e44e99dfc006705",
       "version_major": 2,
       "version_minor": 0
      },
      "text/plain": [
       "Epoch 157/2000:   0%|          | 0/29 [00:00<?, ?batch/s]"
      ]
     },
     "metadata": {},
     "output_type": "display_data"
    },
    {
     "name": "stderr",
     "output_type": "stream",
     "text": [
      "IOPub message rate exceeded.\n",
      "The Jupyter server will temporarily stop sending output\n",
      "to the client in order to avoid crashing it.\n",
      "To change this limit, set the config variable\n",
      "`--ServerApp.iopub_msg_rate_limit`.\n",
      "\n",
      "Current values:\n",
      "ServerApp.iopub_msg_rate_limit=1000.0 (msgs/sec)\n",
      "ServerApp.rate_limit_window=3.0 (secs)\n",
      "\n"
     ]
    },
    {
     "data": {
      "application/vnd.jupyter.widget-view+json": {
       "model_id": "06b48380f2dd46ada1d21acbb5e39115",
       "version_major": 2,
       "version_minor": 0
      },
      "text/plain": [
       "Epoch 166/2000:   0%|          | 0/29 [00:00<?, ?batch/s]"
      ]
     },
     "metadata": {},
     "output_type": "display_data"
    },
    {
     "data": {
      "application/vnd.jupyter.widget-view+json": {
       "model_id": "bc644a5161fa41d982b70f36f3dd62b3",
       "version_major": 2,
       "version_minor": 0
      },
      "text/plain": [
       "Epoch 167/2000:   0%|          | 0/29 [00:00<?, ?batch/s]"
      ]
     },
     "metadata": {},
     "output_type": "display_data"
    },
    {
     "data": {
      "application/vnd.jupyter.widget-view+json": {
       "model_id": "ee99707a2405435c92df58383e765542",
       "version_major": 2,
       "version_minor": 0
      },
      "text/plain": [
       "Epoch 168/2000:   0%|          | 0/29 [00:00<?, ?batch/s]"
      ]
     },
     "metadata": {},
     "output_type": "display_data"
    },
    {
     "data": {
      "application/vnd.jupyter.widget-view+json": {
       "model_id": "8f9323d368a74c0989f9181a71cd25c6",
       "version_major": 2,
       "version_minor": 0
      },
      "text/plain": [
       "Epoch 169/2000:   0%|          | 0/29 [00:00<?, ?batch/s]"
      ]
     },
     "metadata": {},
     "output_type": "display_data"
    },
    {
     "data": {
      "application/vnd.jupyter.widget-view+json": {
       "model_id": "f94b16b8da9b4f8589b7cec0013a8e08",
       "version_major": 2,
       "version_minor": 0
      },
      "text/plain": [
       "Epoch 170/2000:   0%|          | 0/29 [00:00<?, ?batch/s]"
      ]
     },
     "metadata": {},
     "output_type": "display_data"
    },
    {
     "data": {
      "application/vnd.jupyter.widget-view+json": {
       "model_id": "858699f22700403f8515f22e3bba7965",
       "version_major": 2,
       "version_minor": 0
      },
      "text/plain": [
       "Epoch 171/2000:   0%|          | 0/29 [00:00<?, ?batch/s]"
      ]
     },
     "metadata": {},
     "output_type": "display_data"
    },
    {
     "data": {
      "application/vnd.jupyter.widget-view+json": {
       "model_id": "67437383f466401f8706e3600268bdc4",
       "version_major": 2,
       "version_minor": 0
      },
      "text/plain": [
       "Epoch 172/2000:   0%|          | 0/29 [00:00<?, ?batch/s]"
      ]
     },
     "metadata": {},
     "output_type": "display_data"
    },
    {
     "data": {
      "application/vnd.jupyter.widget-view+json": {
       "model_id": "5180f99341404641afa32abf50e259c3",
       "version_major": 2,
       "version_minor": 0
      },
      "text/plain": [
       "Epoch 173/2000:   0%|          | 0/29 [00:00<?, ?batch/s]"
      ]
     },
     "metadata": {},
     "output_type": "display_data"
    },
    {
     "data": {
      "application/vnd.jupyter.widget-view+json": {
       "model_id": "804055249bea493d8c8f83d5c95eb1d0",
       "version_major": 2,
       "version_minor": 0
      },
      "text/plain": [
       "Epoch 174/2000:   0%|          | 0/29 [00:00<?, ?batch/s]"
      ]
     },
     "metadata": {},
     "output_type": "display_data"
    },
    {
     "data": {
      "application/vnd.jupyter.widget-view+json": {
       "model_id": "5ecd6e36e0aa431583eda4b5c9ee9242",
       "version_major": 2,
       "version_minor": 0
      },
      "text/plain": [
       "Epoch 175/2000:   0%|          | 0/29 [00:00<?, ?batch/s]"
      ]
     },
     "metadata": {},
     "output_type": "display_data"
    },
    {
     "data": {
      "application/vnd.jupyter.widget-view+json": {
       "model_id": "078983b30286466d909289874780ad8c",
       "version_major": 2,
       "version_minor": 0
      },
      "text/plain": [
       "Epoch 176/2000:   0%|          | 0/29 [00:00<?, ?batch/s]"
      ]
     },
     "metadata": {},
     "output_type": "display_data"
    },
    {
     "data": {
      "application/vnd.jupyter.widget-view+json": {
       "model_id": "98f9f973f9a0408b885c306c68260dda",
       "version_major": 2,
       "version_minor": 0
      },
      "text/plain": [
       "Epoch 177/2000:   0%|          | 0/29 [00:00<?, ?batch/s]"
      ]
     },
     "metadata": {},
     "output_type": "display_data"
    },
    {
     "data": {
      "application/vnd.jupyter.widget-view+json": {
       "model_id": "6d832537bfc54d91844d66b5864e6ef4",
       "version_major": 2,
       "version_minor": 0
      },
      "text/plain": [
       "Epoch 178/2000:   0%|          | 0/29 [00:00<?, ?batch/s]"
      ]
     },
     "metadata": {},
     "output_type": "display_data"
    },
    {
     "data": {
      "application/vnd.jupyter.widget-view+json": {
       "model_id": "007f242663bd4f57b2983e602f57342a",
       "version_major": 2,
       "version_minor": 0
      },
      "text/plain": [
       "Epoch 179/2000:   0%|          | 0/29 [00:00<?, ?batch/s]"
      ]
     },
     "metadata": {},
     "output_type": "display_data"
    },
    {
     "data": {
      "application/vnd.jupyter.widget-view+json": {
       "model_id": "8372def3bd7a4397a22993810bb90ab4",
       "version_major": 2,
       "version_minor": 0
      },
      "text/plain": [
       "Epoch 180/2000:   0%|          | 0/29 [00:00<?, ?batch/s]"
      ]
     },
     "metadata": {},
     "output_type": "display_data"
    },
    {
     "data": {
      "application/vnd.jupyter.widget-view+json": {
       "model_id": "cb4a1386e25a48dcafafbdafa9e39fa1",
       "version_major": 2,
       "version_minor": 0
      },
      "text/plain": [
       "Epoch 181/2000:   0%|          | 0/29 [00:00<?, ?batch/s]"
      ]
     },
     "metadata": {},
     "output_type": "display_data"
    },
    {
     "data": {
      "application/vnd.jupyter.widget-view+json": {
       "model_id": "ce4edcbe1bc14cec8587675a6355e6dc",
       "version_major": 2,
       "version_minor": 0
      },
      "text/plain": [
       "Epoch 182/2000:   0%|          | 0/29 [00:00<?, ?batch/s]"
      ]
     },
     "metadata": {},
     "output_type": "display_data"
    },
    {
     "data": {
      "application/vnd.jupyter.widget-view+json": {
       "model_id": "dcea3bf9e8724f308ff5f9210aaee6cd",
       "version_major": 2,
       "version_minor": 0
      },
      "text/plain": [
       "Epoch 183/2000:   0%|          | 0/29 [00:00<?, ?batch/s]"
      ]
     },
     "metadata": {},
     "output_type": "display_data"
    },
    {
     "data": {
      "application/vnd.jupyter.widget-view+json": {
       "model_id": "a08d5094d9134670b2e24af7874592b8",
       "version_major": 2,
       "version_minor": 0
      },
      "text/plain": [
       "Epoch 184/2000:   0%|          | 0/29 [00:00<?, ?batch/s]"
      ]
     },
     "metadata": {},
     "output_type": "display_data"
    },
    {
     "data": {
      "application/vnd.jupyter.widget-view+json": {
       "model_id": "0dbdc1df7a174f569138e622bf96309a",
       "version_major": 2,
       "version_minor": 0
      },
      "text/plain": [
       "Epoch 185/2000:   0%|          | 0/29 [00:00<?, ?batch/s]"
      ]
     },
     "metadata": {},
     "output_type": "display_data"
    },
    {
     "data": {
      "application/vnd.jupyter.widget-view+json": {
       "model_id": "b31ef47767f940a394267c5720bd15ab",
       "version_major": 2,
       "version_minor": 0
      },
      "text/plain": [
       "Epoch 186/2000:   0%|          | 0/29 [00:00<?, ?batch/s]"
      ]
     },
     "metadata": {},
     "output_type": "display_data"
    },
    {
     "data": {
      "application/vnd.jupyter.widget-view+json": {
       "model_id": "1a98584365f64945a3ef52c285d6eb3c",
       "version_major": 2,
       "version_minor": 0
      },
      "text/plain": [
       "Epoch 187/2000:   0%|          | 0/29 [00:00<?, ?batch/s]"
      ]
     },
     "metadata": {},
     "output_type": "display_data"
    },
    {
     "data": {
      "application/vnd.jupyter.widget-view+json": {
       "model_id": "bac53e3d7f894d8ca6a7800bb1106bf2",
       "version_major": 2,
       "version_minor": 0
      },
      "text/plain": [
       "Epoch 188/2000:   0%|          | 0/29 [00:00<?, ?batch/s]"
      ]
     },
     "metadata": {},
     "output_type": "display_data"
    },
    {
     "data": {
      "application/vnd.jupyter.widget-view+json": {
       "model_id": "ccf0538bb6054f06aa7578ea1f24f957",
       "version_major": 2,
       "version_minor": 0
      },
      "text/plain": [
       "Epoch 189/2000:   0%|          | 0/29 [00:00<?, ?batch/s]"
      ]
     },
     "metadata": {},
     "output_type": "display_data"
    },
    {
     "data": {
      "application/vnd.jupyter.widget-view+json": {
       "model_id": "a06cd9815c554d75aa8c33c424be2d5d",
       "version_major": 2,
       "version_minor": 0
      },
      "text/plain": [
       "Epoch 190/2000:   0%|          | 0/29 [00:00<?, ?batch/s]"
      ]
     },
     "metadata": {},
     "output_type": "display_data"
    },
    {
     "data": {
      "application/vnd.jupyter.widget-view+json": {
       "model_id": "b3a95733bf9f471faa66fa90a4a1b8ea",
       "version_major": 2,
       "version_minor": 0
      },
      "text/plain": [
       "Epoch 191/2000:   0%|          | 0/29 [00:00<?, ?batch/s]"
      ]
     },
     "metadata": {},
     "output_type": "display_data"
    },
    {
     "data": {
      "application/vnd.jupyter.widget-view+json": {
       "model_id": "ee31f701c313490083048ee995310e40",
       "version_major": 2,
       "version_minor": 0
      },
      "text/plain": [
       "Epoch 192/2000:   0%|          | 0/29 [00:00<?, ?batch/s]"
      ]
     },
     "metadata": {},
     "output_type": "display_data"
    },
    {
     "data": {
      "application/vnd.jupyter.widget-view+json": {
       "model_id": "8a25f26511c646009c93c924a6a522e4",
       "version_major": 2,
       "version_minor": 0
      },
      "text/plain": [
       "Epoch 193/2000:   0%|          | 0/29 [00:00<?, ?batch/s]"
      ]
     },
     "metadata": {},
     "output_type": "display_data"
    },
    {
     "data": {
      "application/vnd.jupyter.widget-view+json": {
       "model_id": "644dc14dae534f7abc769970d1659568",
       "version_major": 2,
       "version_minor": 0
      },
      "text/plain": [
       "Epoch 194/2000:   0%|          | 0/29 [00:00<?, ?batch/s]"
      ]
     },
     "metadata": {},
     "output_type": "display_data"
    },
    {
     "data": {
      "application/vnd.jupyter.widget-view+json": {
       "model_id": "eab83e80284f4139bf80ef4665647a9f",
       "version_major": 2,
       "version_minor": 0
      },
      "text/plain": [
       "Epoch 195/2000:   0%|          | 0/29 [00:00<?, ?batch/s]"
      ]
     },
     "metadata": {},
     "output_type": "display_data"
    },
    {
     "data": {
      "application/vnd.jupyter.widget-view+json": {
       "model_id": "82d9418b10a84d72b59220ebec921e64",
       "version_major": 2,
       "version_minor": 0
      },
      "text/plain": [
       "Epoch 196/2000:   0%|          | 0/29 [00:00<?, ?batch/s]"
      ]
     },
     "metadata": {},
     "output_type": "display_data"
    },
    {
     "data": {
      "application/vnd.jupyter.widget-view+json": {
       "model_id": "0853b0c7b9ca41bfa93f446c2ddb4f29",
       "version_major": 2,
       "version_minor": 0
      },
      "text/plain": [
       "Epoch 197/2000:   0%|          | 0/29 [00:00<?, ?batch/s]"
      ]
     },
     "metadata": {},
     "output_type": "display_data"
    },
    {
     "name": "stderr",
     "output_type": "stream",
     "text": [
      "IOPub message rate exceeded.\n",
      "The Jupyter server will temporarily stop sending output\n",
      "to the client in order to avoid crashing it.\n",
      "To change this limit, set the config variable\n",
      "`--ServerApp.iopub_msg_rate_limit`.\n",
      "\n",
      "Current values:\n",
      "ServerApp.iopub_msg_rate_limit=1000.0 (msgs/sec)\n",
      "ServerApp.rate_limit_window=3.0 (secs)\n",
      "\n"
     ]
    },
    {
     "data": {
      "application/vnd.jupyter.widget-view+json": {
       "model_id": "dbf9c5de323a4deab92da8c9762f98c8",
       "version_major": 2,
       "version_minor": 0
      },
      "text/plain": [
       "Epoch 205/2000:   0%|          | 0/29 [00:00<?, ?batch/s]"
      ]
     },
     "metadata": {},
     "output_type": "display_data"
    },
    {
     "data": {
      "application/vnd.jupyter.widget-view+json": {
       "model_id": "c1955cac3ab041c486352974f9903743",
       "version_major": 2,
       "version_minor": 0
      },
      "text/plain": [
       "Epoch 206/2000:   0%|          | 0/29 [00:00<?, ?batch/s]"
      ]
     },
     "metadata": {},
     "output_type": "display_data"
    },
    {
     "data": {
      "application/vnd.jupyter.widget-view+json": {
       "model_id": "cfc69b42177443fda3974c973a9c4b7e",
       "version_major": 2,
       "version_minor": 0
      },
      "text/plain": [
       "Epoch 207/2000:   0%|          | 0/29 [00:00<?, ?batch/s]"
      ]
     },
     "metadata": {},
     "output_type": "display_data"
    },
    {
     "data": {
      "application/vnd.jupyter.widget-view+json": {
       "model_id": "f64bb953e9f64c80aa356121d821c4d5",
       "version_major": 2,
       "version_minor": 0
      },
      "text/plain": [
       "Epoch 208/2000:   0%|          | 0/29 [00:00<?, ?batch/s]"
      ]
     },
     "metadata": {},
     "output_type": "display_data"
    },
    {
     "data": {
      "application/vnd.jupyter.widget-view+json": {
       "model_id": "254bf35bf21646d887e07704642d2a5e",
       "version_major": 2,
       "version_minor": 0
      },
      "text/plain": [
       "Epoch 209/2000:   0%|          | 0/29 [00:00<?, ?batch/s]"
      ]
     },
     "metadata": {},
     "output_type": "display_data"
    },
    {
     "data": {
      "application/vnd.jupyter.widget-view+json": {
       "model_id": "a110ef3a293d4a98a152c8f789a66b76",
       "version_major": 2,
       "version_minor": 0
      },
      "text/plain": [
       "Epoch 210/2000:   0%|          | 0/29 [00:00<?, ?batch/s]"
      ]
     },
     "metadata": {},
     "output_type": "display_data"
    },
    {
     "data": {
      "application/vnd.jupyter.widget-view+json": {
       "model_id": "7962a639f82041b18755e31073138026",
       "version_major": 2,
       "version_minor": 0
      },
      "text/plain": [
       "Epoch 211/2000:   0%|          | 0/29 [00:00<?, ?batch/s]"
      ]
     },
     "metadata": {},
     "output_type": "display_data"
    },
    {
     "data": {
      "application/vnd.jupyter.widget-view+json": {
       "model_id": "c86ea9453b6543829554e248fcf9b5c9",
       "version_major": 2,
       "version_minor": 0
      },
      "text/plain": [
       "Epoch 212/2000:   0%|          | 0/29 [00:00<?, ?batch/s]"
      ]
     },
     "metadata": {},
     "output_type": "display_data"
    },
    {
     "data": {
      "application/vnd.jupyter.widget-view+json": {
       "model_id": "aad6edea214f4714947143d5a2059d78",
       "version_major": 2,
       "version_minor": 0
      },
      "text/plain": [
       "Epoch 213/2000:   0%|          | 0/29 [00:00<?, ?batch/s]"
      ]
     },
     "metadata": {},
     "output_type": "display_data"
    },
    {
     "data": {
      "application/vnd.jupyter.widget-view+json": {
       "model_id": "ab5ee73d8c5b4151a3d10b24acc9e207",
       "version_major": 2,
       "version_minor": 0
      },
      "text/plain": [
       "Epoch 214/2000:   0%|          | 0/29 [00:00<?, ?batch/s]"
      ]
     },
     "metadata": {},
     "output_type": "display_data"
    },
    {
     "data": {
      "application/vnd.jupyter.widget-view+json": {
       "model_id": "db341e35bcaa4cf98d831c3234977458",
       "version_major": 2,
       "version_minor": 0
      },
      "text/plain": [
       "Epoch 215/2000:   0%|          | 0/29 [00:00<?, ?batch/s]"
      ]
     },
     "metadata": {},
     "output_type": "display_data"
    },
    {
     "data": {
      "application/vnd.jupyter.widget-view+json": {
       "model_id": "4f819c987bfd466dacaba2afb466c36d",
       "version_major": 2,
       "version_minor": 0
      },
      "text/plain": [
       "Epoch 216/2000:   0%|          | 0/29 [00:00<?, ?batch/s]"
      ]
     },
     "metadata": {},
     "output_type": "display_data"
    },
    {
     "data": {
      "application/vnd.jupyter.widget-view+json": {
       "model_id": "35475104eff945a48bd9389f3e78f1fc",
       "version_major": 2,
       "version_minor": 0
      },
      "text/plain": [
       "Epoch 217/2000:   0%|          | 0/29 [00:00<?, ?batch/s]"
      ]
     },
     "metadata": {},
     "output_type": "display_data"
    },
    {
     "data": {
      "application/vnd.jupyter.widget-view+json": {
       "model_id": "759b50d71e24427ea4c843deb610e31f",
       "version_major": 2,
       "version_minor": 0
      },
      "text/plain": [
       "Epoch 218/2000:   0%|          | 0/29 [00:00<?, ?batch/s]"
      ]
     },
     "metadata": {},
     "output_type": "display_data"
    },
    {
     "data": {
      "application/vnd.jupyter.widget-view+json": {
       "model_id": "3035fd61f1144092b4a7e677698a991c",
       "version_major": 2,
       "version_minor": 0
      },
      "text/plain": [
       "Epoch 219/2000:   0%|          | 0/29 [00:00<?, ?batch/s]"
      ]
     },
     "metadata": {},
     "output_type": "display_data"
    },
    {
     "data": {
      "application/vnd.jupyter.widget-view+json": {
       "model_id": "c170ba130db04ce288507e17bc099779",
       "version_major": 2,
       "version_minor": 0
      },
      "text/plain": [
       "Epoch 220/2000:   0%|          | 0/29 [00:00<?, ?batch/s]"
      ]
     },
     "metadata": {},
     "output_type": "display_data"
    },
    {
     "data": {
      "application/vnd.jupyter.widget-view+json": {
       "model_id": "e174a66b26f840d3adf6cabdc336eccc",
       "version_major": 2,
       "version_minor": 0
      },
      "text/plain": [
       "Epoch 221/2000:   0%|          | 0/29 [00:00<?, ?batch/s]"
      ]
     },
     "metadata": {},
     "output_type": "display_data"
    },
    {
     "data": {
      "application/vnd.jupyter.widget-view+json": {
       "model_id": "face61576f9b498c9fe6ecab46b50dd0",
       "version_major": 2,
       "version_minor": 0
      },
      "text/plain": [
       "Epoch 222/2000:   0%|          | 0/29 [00:00<?, ?batch/s]"
      ]
     },
     "metadata": {},
     "output_type": "display_data"
    },
    {
     "data": {
      "application/vnd.jupyter.widget-view+json": {
       "model_id": "a65ab03c7e65461781919c8d7786180f",
       "version_major": 2,
       "version_minor": 0
      },
      "text/plain": [
       "Epoch 223/2000:   0%|          | 0/29 [00:00<?, ?batch/s]"
      ]
     },
     "metadata": {},
     "output_type": "display_data"
    },
    {
     "data": {
      "application/vnd.jupyter.widget-view+json": {
       "model_id": "5c0f8bac8a55481a83909957afaafec5",
       "version_major": 2,
       "version_minor": 0
      },
      "text/plain": [
       "Epoch 224/2000:   0%|          | 0/29 [00:00<?, ?batch/s]"
      ]
     },
     "metadata": {},
     "output_type": "display_data"
    },
    {
     "data": {
      "application/vnd.jupyter.widget-view+json": {
       "model_id": "0a0604eb25f84106a4395f828272c699",
       "version_major": 2,
       "version_minor": 0
      },
      "text/plain": [
       "Epoch 225/2000:   0%|          | 0/29 [00:00<?, ?batch/s]"
      ]
     },
     "metadata": {},
     "output_type": "display_data"
    },
    {
     "data": {
      "application/vnd.jupyter.widget-view+json": {
       "model_id": "e985823ffa0f43cea6ddf75372276036",
       "version_major": 2,
       "version_minor": 0
      },
      "text/plain": [
       "Epoch 226/2000:   0%|          | 0/29 [00:00<?, ?batch/s]"
      ]
     },
     "metadata": {},
     "output_type": "display_data"
    },
    {
     "data": {
      "application/vnd.jupyter.widget-view+json": {
       "model_id": "a97a327b8dc144009b9cb2fea14217f5",
       "version_major": 2,
       "version_minor": 0
      },
      "text/plain": [
       "Epoch 227/2000:   0%|          | 0/29 [00:00<?, ?batch/s]"
      ]
     },
     "metadata": {},
     "output_type": "display_data"
    },
    {
     "data": {
      "application/vnd.jupyter.widget-view+json": {
       "model_id": "2ea933b6003848598a120bd1b48b09c5",
       "version_major": 2,
       "version_minor": 0
      },
      "text/plain": [
       "Epoch 228/2000:   0%|          | 0/29 [00:00<?, ?batch/s]"
      ]
     },
     "metadata": {},
     "output_type": "display_data"
    },
    {
     "data": {
      "application/vnd.jupyter.widget-view+json": {
       "model_id": "2c08be4021c44d08830d16d7f3470789",
       "version_major": 2,
       "version_minor": 0
      },
      "text/plain": [
       "Epoch 229/2000:   0%|          | 0/29 [00:00<?, ?batch/s]"
      ]
     },
     "metadata": {},
     "output_type": "display_data"
    },
    {
     "data": {
      "application/vnd.jupyter.widget-view+json": {
       "model_id": "fea7f3279fa14b0da3d23c65d76d8884",
       "version_major": 2,
       "version_minor": 0
      },
      "text/plain": [
       "Epoch 230/2000:   0%|          | 0/29 [00:00<?, ?batch/s]"
      ]
     },
     "metadata": {},
     "output_type": "display_data"
    },
    {
     "data": {
      "application/vnd.jupyter.widget-view+json": {
       "model_id": "c6d0dfc0282641c293d0c0b990de34b5",
       "version_major": 2,
       "version_minor": 0
      },
      "text/plain": [
       "Epoch 231/2000:   0%|          | 0/29 [00:00<?, ?batch/s]"
      ]
     },
     "metadata": {},
     "output_type": "display_data"
    },
    {
     "data": {
      "application/vnd.jupyter.widget-view+json": {
       "model_id": "2a9961001b834a8b872e53e5b68f8d7e",
       "version_major": 2,
       "version_minor": 0
      },
      "text/plain": [
       "Epoch 232/2000:   0%|          | 0/29 [00:00<?, ?batch/s]"
      ]
     },
     "metadata": {},
     "output_type": "display_data"
    },
    {
     "data": {
      "application/vnd.jupyter.widget-view+json": {
       "model_id": "6c8c28e0ee7941ae9ef58bc9ca4ad5cf",
       "version_major": 2,
       "version_minor": 0
      },
      "text/plain": [
       "Epoch 233/2000:   0%|          | 0/29 [00:00<?, ?batch/s]"
      ]
     },
     "metadata": {},
     "output_type": "display_data"
    },
    {
     "data": {
      "application/vnd.jupyter.widget-view+json": {
       "model_id": "8552a09e29e449c596d15cb1636f20af",
       "version_major": 2,
       "version_minor": 0
      },
      "text/plain": [
       "Epoch 234/2000:   0%|          | 0/29 [00:00<?, ?batch/s]"
      ]
     },
     "metadata": {},
     "output_type": "display_data"
    },
    {
     "data": {
      "application/vnd.jupyter.widget-view+json": {
       "model_id": "d10502e9769943d795a5937f2a25fe8b",
       "version_major": 2,
       "version_minor": 0
      },
      "text/plain": [
       "Epoch 235/2000:   0%|          | 0/29 [00:00<?, ?batch/s]"
      ]
     },
     "metadata": {},
     "output_type": "display_data"
    },
    {
     "data": {
      "application/vnd.jupyter.widget-view+json": {
       "model_id": "29e6536403204ffc97566d686ac52faf",
       "version_major": 2,
       "version_minor": 0
      },
      "text/plain": [
       "Epoch 236/2000:   0%|          | 0/29 [00:00<?, ?batch/s]"
      ]
     },
     "metadata": {},
     "output_type": "display_data"
    },
    {
     "name": "stderr",
     "output_type": "stream",
     "text": [
      "IOPub message rate exceeded.\n",
      "The Jupyter server will temporarily stop sending output\n",
      "to the client in order to avoid crashing it.\n",
      "To change this limit, set the config variable\n",
      "`--ServerApp.iopub_msg_rate_limit`.\n",
      "\n",
      "Current values:\n",
      "ServerApp.iopub_msg_rate_limit=1000.0 (msgs/sec)\n",
      "ServerApp.rate_limit_window=3.0 (secs)\n",
      "\n"
     ]
    },
    {
     "data": {
      "application/vnd.jupyter.widget-view+json": {
       "model_id": "0a9fc79ddbdb485aace3bc4165fcd7a7",
       "version_major": 2,
       "version_minor": 0
      },
      "text/plain": [
       "Epoch 244/2000:   0%|          | 0/29 [00:00<?, ?batch/s]"
      ]
     },
     "metadata": {},
     "output_type": "display_data"
    },
    {
     "data": {
      "application/vnd.jupyter.widget-view+json": {
       "model_id": "673761cb6b4f4a728e2bdb055b1a0ba8",
       "version_major": 2,
       "version_minor": 0
      },
      "text/plain": [
       "Epoch 245/2000:   0%|          | 0/29 [00:00<?, ?batch/s]"
      ]
     },
     "metadata": {},
     "output_type": "display_data"
    },
    {
     "data": {
      "application/vnd.jupyter.widget-view+json": {
       "model_id": "48e984cc8bb74af4b2122f211df18aa1",
       "version_major": 2,
       "version_minor": 0
      },
      "text/plain": [
       "Epoch 246/2000:   0%|          | 0/29 [00:00<?, ?batch/s]"
      ]
     },
     "metadata": {},
     "output_type": "display_data"
    },
    {
     "data": {
      "application/vnd.jupyter.widget-view+json": {
       "model_id": "f4d43abdea584f66896f6dbb76c5797d",
       "version_major": 2,
       "version_minor": 0
      },
      "text/plain": [
       "Epoch 247/2000:   0%|          | 0/29 [00:00<?, ?batch/s]"
      ]
     },
     "metadata": {},
     "output_type": "display_data"
    },
    {
     "data": {
      "application/vnd.jupyter.widget-view+json": {
       "model_id": "4cb17b017130473f9c95bd331c2a999f",
       "version_major": 2,
       "version_minor": 0
      },
      "text/plain": [
       "Epoch 248/2000:   0%|          | 0/29 [00:00<?, ?batch/s]"
      ]
     },
     "metadata": {},
     "output_type": "display_data"
    },
    {
     "data": {
      "application/vnd.jupyter.widget-view+json": {
       "model_id": "42c7dd7fb4d04d8186c1e615038fc17a",
       "version_major": 2,
       "version_minor": 0
      },
      "text/plain": [
       "Epoch 249/2000:   0%|          | 0/29 [00:00<?, ?batch/s]"
      ]
     },
     "metadata": {},
     "output_type": "display_data"
    },
    {
     "data": {
      "application/vnd.jupyter.widget-view+json": {
       "model_id": "8a604e65bb6a460c9fc177554d66cba8",
       "version_major": 2,
       "version_minor": 0
      },
      "text/plain": [
       "Epoch 250/2000:   0%|          | 0/29 [00:00<?, ?batch/s]"
      ]
     },
     "metadata": {},
     "output_type": "display_data"
    },
    {
     "data": {
      "application/vnd.jupyter.widget-view+json": {
       "model_id": "658a7ffbb6874d56bde5a0f9e27e4431",
       "version_major": 2,
       "version_minor": 0
      },
      "text/plain": [
       "Epoch 251/2000:   0%|          | 0/29 [00:00<?, ?batch/s]"
      ]
     },
     "metadata": {},
     "output_type": "display_data"
    },
    {
     "data": {
      "application/vnd.jupyter.widget-view+json": {
       "model_id": "bf1cb5f282b748669a91b556c2988c45",
       "version_major": 2,
       "version_minor": 0
      },
      "text/plain": [
       "Epoch 252/2000:   0%|          | 0/29 [00:00<?, ?batch/s]"
      ]
     },
     "metadata": {},
     "output_type": "display_data"
    },
    {
     "data": {
      "application/vnd.jupyter.widget-view+json": {
       "model_id": "786b9ed3c35549b38499647c671cd355",
       "version_major": 2,
       "version_minor": 0
      },
      "text/plain": [
       "Epoch 253/2000:   0%|          | 0/29 [00:00<?, ?batch/s]"
      ]
     },
     "metadata": {},
     "output_type": "display_data"
    },
    {
     "data": {
      "application/vnd.jupyter.widget-view+json": {
       "model_id": "0ad6c5a31b114cdbac99cbddb0756518",
       "version_major": 2,
       "version_minor": 0
      },
      "text/plain": [
       "Epoch 254/2000:   0%|          | 0/29 [00:00<?, ?batch/s]"
      ]
     },
     "metadata": {},
     "output_type": "display_data"
    },
    {
     "data": {
      "application/vnd.jupyter.widget-view+json": {
       "model_id": "31341d1c2fea43f484f0e0299c5aacbc",
       "version_major": 2,
       "version_minor": 0
      },
      "text/plain": [
       "Epoch 255/2000:   0%|          | 0/29 [00:00<?, ?batch/s]"
      ]
     },
     "metadata": {},
     "output_type": "display_data"
    },
    {
     "data": {
      "application/vnd.jupyter.widget-view+json": {
       "model_id": "5c788e7e028d440db5bcb813cac90303",
       "version_major": 2,
       "version_minor": 0
      },
      "text/plain": [
       "Epoch 256/2000:   0%|          | 0/29 [00:00<?, ?batch/s]"
      ]
     },
     "metadata": {},
     "output_type": "display_data"
    },
    {
     "data": {
      "application/vnd.jupyter.widget-view+json": {
       "model_id": "cfd9125c824a4561828c452b98f67c57",
       "version_major": 2,
       "version_minor": 0
      },
      "text/plain": [
       "Epoch 257/2000:   0%|          | 0/29 [00:00<?, ?batch/s]"
      ]
     },
     "metadata": {},
     "output_type": "display_data"
    },
    {
     "data": {
      "application/vnd.jupyter.widget-view+json": {
       "model_id": "c3cfaa48f0834d34863325623aaefee0",
       "version_major": 2,
       "version_minor": 0
      },
      "text/plain": [
       "Epoch 258/2000:   0%|          | 0/29 [00:00<?, ?batch/s]"
      ]
     },
     "metadata": {},
     "output_type": "display_data"
    },
    {
     "data": {
      "application/vnd.jupyter.widget-view+json": {
       "model_id": "b892e3f50ceb4a688e5d1c8ab1dc3cb4",
       "version_major": 2,
       "version_minor": 0
      },
      "text/plain": [
       "Epoch 259/2000:   0%|          | 0/29 [00:00<?, ?batch/s]"
      ]
     },
     "metadata": {},
     "output_type": "display_data"
    },
    {
     "data": {
      "application/vnd.jupyter.widget-view+json": {
       "model_id": "0ad580da09984ad4abc3e609490b0423",
       "version_major": 2,
       "version_minor": 0
      },
      "text/plain": [
       "Epoch 260/2000:   0%|          | 0/29 [00:00<?, ?batch/s]"
      ]
     },
     "metadata": {},
     "output_type": "display_data"
    },
    {
     "data": {
      "application/vnd.jupyter.widget-view+json": {
       "model_id": "a80099ae30b94ca19585fe3168857854",
       "version_major": 2,
       "version_minor": 0
      },
      "text/plain": [
       "Epoch 261/2000:   0%|          | 0/29 [00:00<?, ?batch/s]"
      ]
     },
     "metadata": {},
     "output_type": "display_data"
    },
    {
     "data": {
      "application/vnd.jupyter.widget-view+json": {
       "model_id": "ba1af133ed6749bd99d4c7336b5a48f7",
       "version_major": 2,
       "version_minor": 0
      },
      "text/plain": [
       "Epoch 262/2000:   0%|          | 0/29 [00:00<?, ?batch/s]"
      ]
     },
     "metadata": {},
     "output_type": "display_data"
    },
    {
     "data": {
      "application/vnd.jupyter.widget-view+json": {
       "model_id": "6c2bcf86cd554596a83ea508748f63f4",
       "version_major": 2,
       "version_minor": 0
      },
      "text/plain": [
       "Epoch 263/2000:   0%|          | 0/29 [00:00<?, ?batch/s]"
      ]
     },
     "metadata": {},
     "output_type": "display_data"
    },
    {
     "data": {
      "application/vnd.jupyter.widget-view+json": {
       "model_id": "4a13ef7facf9498e9df1ad4870feebc0",
       "version_major": 2,
       "version_minor": 0
      },
      "text/plain": [
       "Epoch 264/2000:   0%|          | 0/29 [00:00<?, ?batch/s]"
      ]
     },
     "metadata": {},
     "output_type": "display_data"
    },
    {
     "data": {
      "application/vnd.jupyter.widget-view+json": {
       "model_id": "52cf19c3de214d8b9a02703ce61df868",
       "version_major": 2,
       "version_minor": 0
      },
      "text/plain": [
       "Epoch 265/2000:   0%|          | 0/29 [00:00<?, ?batch/s]"
      ]
     },
     "metadata": {},
     "output_type": "display_data"
    },
    {
     "data": {
      "application/vnd.jupyter.widget-view+json": {
       "model_id": "03499f82f0804508b07c156c5791b70a",
       "version_major": 2,
       "version_minor": 0
      },
      "text/plain": [
       "Epoch 266/2000:   0%|          | 0/29 [00:00<?, ?batch/s]"
      ]
     },
     "metadata": {},
     "output_type": "display_data"
    },
    {
     "data": {
      "application/vnd.jupyter.widget-view+json": {
       "model_id": "66b760ec48d445ffa6e7ac20d0344ce7",
       "version_major": 2,
       "version_minor": 0
      },
      "text/plain": [
       "Epoch 267/2000:   0%|          | 0/29 [00:00<?, ?batch/s]"
      ]
     },
     "metadata": {},
     "output_type": "display_data"
    },
    {
     "data": {
      "application/vnd.jupyter.widget-view+json": {
       "model_id": "3454daad140b4368bfe79d010bdbdea9",
       "version_major": 2,
       "version_minor": 0
      },
      "text/plain": [
       "Epoch 268/2000:   0%|          | 0/29 [00:00<?, ?batch/s]"
      ]
     },
     "metadata": {},
     "output_type": "display_data"
    },
    {
     "data": {
      "application/vnd.jupyter.widget-view+json": {
       "model_id": "3e59df3e8d204864b6797fdcc5f769ad",
       "version_major": 2,
       "version_minor": 0
      },
      "text/plain": [
       "Epoch 269/2000:   0%|          | 0/29 [00:00<?, ?batch/s]"
      ]
     },
     "metadata": {},
     "output_type": "display_data"
    },
    {
     "data": {
      "application/vnd.jupyter.widget-view+json": {
       "model_id": "d55f871a49834292a371411a9a24f79c",
       "version_major": 2,
       "version_minor": 0
      },
      "text/plain": [
       "Epoch 270/2000:   0%|          | 0/29 [00:00<?, ?batch/s]"
      ]
     },
     "metadata": {},
     "output_type": "display_data"
    },
    {
     "data": {
      "application/vnd.jupyter.widget-view+json": {
       "model_id": "e364c0d9564c470b9a776e18c751991e",
       "version_major": 2,
       "version_minor": 0
      },
      "text/plain": [
       "Epoch 271/2000:   0%|          | 0/29 [00:00<?, ?batch/s]"
      ]
     },
     "metadata": {},
     "output_type": "display_data"
    },
    {
     "data": {
      "application/vnd.jupyter.widget-view+json": {
       "model_id": "bef173d7ae994be39a65587dc73a97d5",
       "version_major": 2,
       "version_minor": 0
      },
      "text/plain": [
       "Epoch 272/2000:   0%|          | 0/29 [00:00<?, ?batch/s]"
      ]
     },
     "metadata": {},
     "output_type": "display_data"
    },
    {
     "data": {
      "application/vnd.jupyter.widget-view+json": {
       "model_id": "8a0e26b83aa348d19f176fe959957ff7",
       "version_major": 2,
       "version_minor": 0
      },
      "text/plain": [
       "Epoch 273/2000:   0%|          | 0/29 [00:00<?, ?batch/s]"
      ]
     },
     "metadata": {},
     "output_type": "display_data"
    },
    {
     "data": {
      "application/vnd.jupyter.widget-view+json": {
       "model_id": "7eb003f794ec4798bf23ab239684b254",
       "version_major": 2,
       "version_minor": 0
      },
      "text/plain": [
       "Epoch 274/2000:   0%|          | 0/29 [00:00<?, ?batch/s]"
      ]
     },
     "metadata": {},
     "output_type": "display_data"
    },
    {
     "data": {
      "application/vnd.jupyter.widget-view+json": {
       "model_id": "3c4a156e4e7f4c1d838edd07f0115412",
       "version_major": 2,
       "version_minor": 0
      },
      "text/plain": [
       "Epoch 275/2000:   0%|          | 0/29 [00:00<?, ?batch/s]"
      ]
     },
     "metadata": {},
     "output_type": "display_data"
    },
    {
     "name": "stderr",
     "output_type": "stream",
     "text": [
      "IOPub message rate exceeded.\n",
      "The Jupyter server will temporarily stop sending output\n",
      "to the client in order to avoid crashing it.\n",
      "To change this limit, set the config variable\n",
      "`--ServerApp.iopub_msg_rate_limit`.\n",
      "\n",
      "Current values:\n",
      "ServerApp.iopub_msg_rate_limit=1000.0 (msgs/sec)\n",
      "ServerApp.rate_limit_window=3.0 (secs)\n",
      "\n"
     ]
    },
    {
     "data": {
      "application/vnd.jupyter.widget-view+json": {
       "model_id": "0b95c9656e8d4a64b1a0b52149c3f9ca",
       "version_major": 2,
       "version_minor": 0
      },
      "text/plain": [
       "Epoch 284/2000:   0%|          | 0/29 [00:00<?, ?batch/s]"
      ]
     },
     "metadata": {},
     "output_type": "display_data"
    },
    {
     "data": {
      "application/vnd.jupyter.widget-view+json": {
       "model_id": "93f7b02f09704e30aaf59dd222911c0d",
       "version_major": 2,
       "version_minor": 0
      },
      "text/plain": [
       "Epoch 285/2000:   0%|          | 0/29 [00:00<?, ?batch/s]"
      ]
     },
     "metadata": {},
     "output_type": "display_data"
    },
    {
     "data": {
      "application/vnd.jupyter.widget-view+json": {
       "model_id": "a5d6a9ecb0e741b29144ddb3d78ffa6b",
       "version_major": 2,
       "version_minor": 0
      },
      "text/plain": [
       "Epoch 286/2000:   0%|          | 0/29 [00:00<?, ?batch/s]"
      ]
     },
     "metadata": {},
     "output_type": "display_data"
    },
    {
     "data": {
      "application/vnd.jupyter.widget-view+json": {
       "model_id": "345ee0c4fcf04bb884e686cf1f092b28",
       "version_major": 2,
       "version_minor": 0
      },
      "text/plain": [
       "Epoch 287/2000:   0%|          | 0/29 [00:00<?, ?batch/s]"
      ]
     },
     "metadata": {},
     "output_type": "display_data"
    },
    {
     "data": {
      "application/vnd.jupyter.widget-view+json": {
       "model_id": "eea08e6f4e944ecbb0a56581ac880c70",
       "version_major": 2,
       "version_minor": 0
      },
      "text/plain": [
       "Epoch 288/2000:   0%|          | 0/29 [00:00<?, ?batch/s]"
      ]
     },
     "metadata": {},
     "output_type": "display_data"
    },
    {
     "data": {
      "application/vnd.jupyter.widget-view+json": {
       "model_id": "70a1403b483f4b9c98a8282d4457bb9b",
       "version_major": 2,
       "version_minor": 0
      },
      "text/plain": [
       "Epoch 289/2000:   0%|          | 0/29 [00:00<?, ?batch/s]"
      ]
     },
     "metadata": {},
     "output_type": "display_data"
    },
    {
     "data": {
      "application/vnd.jupyter.widget-view+json": {
       "model_id": "ebb3f51fe79547b5a32097e1eb90af4e",
       "version_major": 2,
       "version_minor": 0
      },
      "text/plain": [
       "Epoch 290/2000:   0%|          | 0/29 [00:00<?, ?batch/s]"
      ]
     },
     "metadata": {},
     "output_type": "display_data"
    },
    {
     "data": {
      "application/vnd.jupyter.widget-view+json": {
       "model_id": "6b29491eb452484fa7477b2da28ac278",
       "version_major": 2,
       "version_minor": 0
      },
      "text/plain": [
       "Epoch 291/2000:   0%|          | 0/29 [00:00<?, ?batch/s]"
      ]
     },
     "metadata": {},
     "output_type": "display_data"
    },
    {
     "data": {
      "application/vnd.jupyter.widget-view+json": {
       "model_id": "adbcea9c56f54cd5a5813dc1c41fdb87",
       "version_major": 2,
       "version_minor": 0
      },
      "text/plain": [
       "Epoch 292/2000:   0%|          | 0/29 [00:00<?, ?batch/s]"
      ]
     },
     "metadata": {},
     "output_type": "display_data"
    },
    {
     "data": {
      "application/vnd.jupyter.widget-view+json": {
       "model_id": "3deb97721cab4d7398d14a7e24de4775",
       "version_major": 2,
       "version_minor": 0
      },
      "text/plain": [
       "Epoch 293/2000:   0%|          | 0/29 [00:00<?, ?batch/s]"
      ]
     },
     "metadata": {},
     "output_type": "display_data"
    },
    {
     "data": {
      "application/vnd.jupyter.widget-view+json": {
       "model_id": "279a4936a6b74649bd6ec2415c15b931",
       "version_major": 2,
       "version_minor": 0
      },
      "text/plain": [
       "Epoch 294/2000:   0%|          | 0/29 [00:00<?, ?batch/s]"
      ]
     },
     "metadata": {},
     "output_type": "display_data"
    },
    {
     "data": {
      "application/vnd.jupyter.widget-view+json": {
       "model_id": "82323e911feb4cb6a7dedfb4ff97a80d",
       "version_major": 2,
       "version_minor": 0
      },
      "text/plain": [
       "Epoch 295/2000:   0%|          | 0/29 [00:00<?, ?batch/s]"
      ]
     },
     "metadata": {},
     "output_type": "display_data"
    },
    {
     "data": {
      "application/vnd.jupyter.widget-view+json": {
       "model_id": "443d3905dbe84d09a0bcfa457ee81101",
       "version_major": 2,
       "version_minor": 0
      },
      "text/plain": [
       "Epoch 296/2000:   0%|          | 0/29 [00:00<?, ?batch/s]"
      ]
     },
     "metadata": {},
     "output_type": "display_data"
    },
    {
     "data": {
      "application/vnd.jupyter.widget-view+json": {
       "model_id": "b424bcd1fd69482da0f23722f4cea585",
       "version_major": 2,
       "version_minor": 0
      },
      "text/plain": [
       "Epoch 297/2000:   0%|          | 0/29 [00:00<?, ?batch/s]"
      ]
     },
     "metadata": {},
     "output_type": "display_data"
    },
    {
     "data": {
      "application/vnd.jupyter.widget-view+json": {
       "model_id": "e91e3d1c1249428e922bee73b33f1ef3",
       "version_major": 2,
       "version_minor": 0
      },
      "text/plain": [
       "Epoch 298/2000:   0%|          | 0/29 [00:00<?, ?batch/s]"
      ]
     },
     "metadata": {},
     "output_type": "display_data"
    },
    {
     "data": {
      "application/vnd.jupyter.widget-view+json": {
       "model_id": "4b537caa0db84ad2936c9f04c0e8fe3c",
       "version_major": 2,
       "version_minor": 0
      },
      "text/plain": [
       "Epoch 299/2000:   0%|          | 0/29 [00:00<?, ?batch/s]"
      ]
     },
     "metadata": {},
     "output_type": "display_data"
    },
    {
     "data": {
      "application/vnd.jupyter.widget-view+json": {
       "model_id": "974ff678874a4b2f864cb65a4512d836",
       "version_major": 2,
       "version_minor": 0
      },
      "text/plain": [
       "Epoch 300/2000:   0%|          | 0/29 [00:00<?, ?batch/s]"
      ]
     },
     "metadata": {},
     "output_type": "display_data"
    },
    {
     "data": {
      "application/vnd.jupyter.widget-view+json": {
       "model_id": "3bd46616ef8e447bb66e3c17b70716f7",
       "version_major": 2,
       "version_minor": 0
      },
      "text/plain": [
       "Epoch 301/2000:   0%|          | 0/29 [00:00<?, ?batch/s]"
      ]
     },
     "metadata": {},
     "output_type": "display_data"
    },
    {
     "data": {
      "application/vnd.jupyter.widget-view+json": {
       "model_id": "d5b50e56a027482eb898ee285364cfe6",
       "version_major": 2,
       "version_minor": 0
      },
      "text/plain": [
       "Epoch 302/2000:   0%|          | 0/29 [00:00<?, ?batch/s]"
      ]
     },
     "metadata": {},
     "output_type": "display_data"
    },
    {
     "data": {
      "application/vnd.jupyter.widget-view+json": {
       "model_id": "c5c9329ee10943c1adb2fdbc75d1307d",
       "version_major": 2,
       "version_minor": 0
      },
      "text/plain": [
       "Epoch 303/2000:   0%|          | 0/29 [00:00<?, ?batch/s]"
      ]
     },
     "metadata": {},
     "output_type": "display_data"
    },
    {
     "data": {
      "application/vnd.jupyter.widget-view+json": {
       "model_id": "49d2822a15c34dd8986c4af5191cf313",
       "version_major": 2,
       "version_minor": 0
      },
      "text/plain": [
       "Epoch 304/2000:   0%|          | 0/29 [00:00<?, ?batch/s]"
      ]
     },
     "metadata": {},
     "output_type": "display_data"
    },
    {
     "data": {
      "application/vnd.jupyter.widget-view+json": {
       "model_id": "16a63aca0f3c483c87707e974e5692fb",
       "version_major": 2,
       "version_minor": 0
      },
      "text/plain": [
       "Epoch 305/2000:   0%|          | 0/29 [00:00<?, ?batch/s]"
      ]
     },
     "metadata": {},
     "output_type": "display_data"
    },
    {
     "data": {
      "application/vnd.jupyter.widget-view+json": {
       "model_id": "aaf3d077cbfe4cc691f7f5e02fd22136",
       "version_major": 2,
       "version_minor": 0
      },
      "text/plain": [
       "Epoch 306/2000:   0%|          | 0/29 [00:00<?, ?batch/s]"
      ]
     },
     "metadata": {},
     "output_type": "display_data"
    },
    {
     "data": {
      "application/vnd.jupyter.widget-view+json": {
       "model_id": "83684b027779416893284630d4159849",
       "version_major": 2,
       "version_minor": 0
      },
      "text/plain": [
       "Epoch 307/2000:   0%|          | 0/29 [00:00<?, ?batch/s]"
      ]
     },
     "metadata": {},
     "output_type": "display_data"
    },
    {
     "data": {
      "application/vnd.jupyter.widget-view+json": {
       "model_id": "302e6ad5dbb64a0a9363ff642256adea",
       "version_major": 2,
       "version_minor": 0
      },
      "text/plain": [
       "Epoch 308/2000:   0%|          | 0/29 [00:00<?, ?batch/s]"
      ]
     },
     "metadata": {},
     "output_type": "display_data"
    },
    {
     "data": {
      "application/vnd.jupyter.widget-view+json": {
       "model_id": "50b3d4dbbcdd4dd5a78178b270d14365",
       "version_major": 2,
       "version_minor": 0
      },
      "text/plain": [
       "Epoch 309/2000:   0%|          | 0/29 [00:00<?, ?batch/s]"
      ]
     },
     "metadata": {},
     "output_type": "display_data"
    },
    {
     "data": {
      "application/vnd.jupyter.widget-view+json": {
       "model_id": "739937e709fb4e42b1584b205fb93819",
       "version_major": 2,
       "version_minor": 0
      },
      "text/plain": [
       "Epoch 310/2000:   0%|          | 0/29 [00:00<?, ?batch/s]"
      ]
     },
     "metadata": {},
     "output_type": "display_data"
    },
    {
     "data": {
      "application/vnd.jupyter.widget-view+json": {
       "model_id": "82b98e67086249d19d1bd15dbe4c06cb",
       "version_major": 2,
       "version_minor": 0
      },
      "text/plain": [
       "Epoch 311/2000:   0%|          | 0/29 [00:00<?, ?batch/s]"
      ]
     },
     "metadata": {},
     "output_type": "display_data"
    },
    {
     "data": {
      "application/vnd.jupyter.widget-view+json": {
       "model_id": "a170616886a14d918f6ffe645a4171d5",
       "version_major": 2,
       "version_minor": 0
      },
      "text/plain": [
       "Epoch 312/2000:   0%|          | 0/29 [00:00<?, ?batch/s]"
      ]
     },
     "metadata": {},
     "output_type": "display_data"
    },
    {
     "data": {
      "application/vnd.jupyter.widget-view+json": {
       "model_id": "5ca405b1fd4a4130ad7cfe137544ca91",
       "version_major": 2,
       "version_minor": 0
      },
      "text/plain": [
       "Epoch 313/2000:   0%|          | 0/29 [00:00<?, ?batch/s]"
      ]
     },
     "metadata": {},
     "output_type": "display_data"
    },
    {
     "data": {
      "application/vnd.jupyter.widget-view+json": {
       "model_id": "aabf510804f648b8b46e7f2e0a7479ef",
       "version_major": 2,
       "version_minor": 0
      },
      "text/plain": [
       "Epoch 314/2000:   0%|          | 0/29 [00:00<?, ?batch/s]"
      ]
     },
     "metadata": {},
     "output_type": "display_data"
    },
    {
     "data": {
      "application/vnd.jupyter.widget-view+json": {
       "model_id": "beef55b8ec59466b814d47203ec15c1b",
       "version_major": 2,
       "version_minor": 0
      },
      "text/plain": [
       "Epoch 315/2000:   0%|          | 0/29 [00:00<?, ?batch/s]"
      ]
     },
     "metadata": {},
     "output_type": "display_data"
    },
    {
     "name": "stderr",
     "output_type": "stream",
     "text": [
      "IOPub message rate exceeded.\n",
      "The Jupyter server will temporarily stop sending output\n",
      "to the client in order to avoid crashing it.\n",
      "To change this limit, set the config variable\n",
      "`--ServerApp.iopub_msg_rate_limit`.\n",
      "\n",
      "Current values:\n",
      "ServerApp.iopub_msg_rate_limit=1000.0 (msgs/sec)\n",
      "ServerApp.rate_limit_window=3.0 (secs)\n",
      "\n"
     ]
    },
    {
     "data": {
      "application/vnd.jupyter.widget-view+json": {
       "model_id": "0d03f1a2a2bb463cada134c7021362bb",
       "version_major": 2,
       "version_minor": 0
      },
      "text/plain": [
       "Epoch 323/2000:   0%|          | 0/29 [00:00<?, ?batch/s]"
      ]
     },
     "metadata": {},
     "output_type": "display_data"
    },
    {
     "data": {
      "application/vnd.jupyter.widget-view+json": {
       "model_id": "bb411980b3b24370af0acad1185452f6",
       "version_major": 2,
       "version_minor": 0
      },
      "text/plain": [
       "Epoch 324/2000:   0%|          | 0/29 [00:00<?, ?batch/s]"
      ]
     },
     "metadata": {},
     "output_type": "display_data"
    },
    {
     "data": {
      "application/vnd.jupyter.widget-view+json": {
       "model_id": "5648387bbbfa4bb7bdf0959f6d44c1a1",
       "version_major": 2,
       "version_minor": 0
      },
      "text/plain": [
       "Epoch 325/2000:   0%|          | 0/29 [00:00<?, ?batch/s]"
      ]
     },
     "metadata": {},
     "output_type": "display_data"
    },
    {
     "data": {
      "application/vnd.jupyter.widget-view+json": {
       "model_id": "cba185c87f9342b5bcfb97500779b540",
       "version_major": 2,
       "version_minor": 0
      },
      "text/plain": [
       "Epoch 326/2000:   0%|          | 0/29 [00:00<?, ?batch/s]"
      ]
     },
     "metadata": {},
     "output_type": "display_data"
    },
    {
     "data": {
      "application/vnd.jupyter.widget-view+json": {
       "model_id": "dde635a6539941d9ab934c0682e8af90",
       "version_major": 2,
       "version_minor": 0
      },
      "text/plain": [
       "Epoch 327/2000:   0%|          | 0/29 [00:00<?, ?batch/s]"
      ]
     },
     "metadata": {},
     "output_type": "display_data"
    },
    {
     "data": {
      "application/vnd.jupyter.widget-view+json": {
       "model_id": "025d44fadebd4806bf7db6b83ece13d3",
       "version_major": 2,
       "version_minor": 0
      },
      "text/plain": [
       "Epoch 328/2000:   0%|          | 0/29 [00:00<?, ?batch/s]"
      ]
     },
     "metadata": {},
     "output_type": "display_data"
    },
    {
     "data": {
      "application/vnd.jupyter.widget-view+json": {
       "model_id": "132f858500ad4991adbf82bd86f4a33b",
       "version_major": 2,
       "version_minor": 0
      },
      "text/plain": [
       "Epoch 329/2000:   0%|          | 0/29 [00:00<?, ?batch/s]"
      ]
     },
     "metadata": {},
     "output_type": "display_data"
    },
    {
     "data": {
      "application/vnd.jupyter.widget-view+json": {
       "model_id": "f378dc19fa9f41a3855fe75a62ae15e9",
       "version_major": 2,
       "version_minor": 0
      },
      "text/plain": [
       "Epoch 330/2000:   0%|          | 0/29 [00:00<?, ?batch/s]"
      ]
     },
     "metadata": {},
     "output_type": "display_data"
    },
    {
     "data": {
      "application/vnd.jupyter.widget-view+json": {
       "model_id": "3972f50de2884c9cb5ca57773de17363",
       "version_major": 2,
       "version_minor": 0
      },
      "text/plain": [
       "Epoch 331/2000:   0%|          | 0/29 [00:00<?, ?batch/s]"
      ]
     },
     "metadata": {},
     "output_type": "display_data"
    },
    {
     "data": {
      "application/vnd.jupyter.widget-view+json": {
       "model_id": "f423d5b8f785456bb8a0959ac8901a03",
       "version_major": 2,
       "version_minor": 0
      },
      "text/plain": [
       "Epoch 332/2000:   0%|          | 0/29 [00:00<?, ?batch/s]"
      ]
     },
     "metadata": {},
     "output_type": "display_data"
    },
    {
     "data": {
      "application/vnd.jupyter.widget-view+json": {
       "model_id": "960d70f332354fee8e2089395e7ae16c",
       "version_major": 2,
       "version_minor": 0
      },
      "text/plain": [
       "Epoch 333/2000:   0%|          | 0/29 [00:00<?, ?batch/s]"
      ]
     },
     "metadata": {},
     "output_type": "display_data"
    },
    {
     "data": {
      "application/vnd.jupyter.widget-view+json": {
       "model_id": "7faee75f40ad4fd48beda1dd3343be75",
       "version_major": 2,
       "version_minor": 0
      },
      "text/plain": [
       "Epoch 334/2000:   0%|          | 0/29 [00:00<?, ?batch/s]"
      ]
     },
     "metadata": {},
     "output_type": "display_data"
    },
    {
     "data": {
      "application/vnd.jupyter.widget-view+json": {
       "model_id": "133db505fc134635a73ed188e944b575",
       "version_major": 2,
       "version_minor": 0
      },
      "text/plain": [
       "Epoch 335/2000:   0%|          | 0/29 [00:00<?, ?batch/s]"
      ]
     },
     "metadata": {},
     "output_type": "display_data"
    },
    {
     "data": {
      "application/vnd.jupyter.widget-view+json": {
       "model_id": "a9fe9dfa289d4f91bafc3220d8a2f01e",
       "version_major": 2,
       "version_minor": 0
      },
      "text/plain": [
       "Epoch 336/2000:   0%|          | 0/29 [00:00<?, ?batch/s]"
      ]
     },
     "metadata": {},
     "output_type": "display_data"
    },
    {
     "data": {
      "application/vnd.jupyter.widget-view+json": {
       "model_id": "529afe4e5e614b9cb96393d59c3fdb74",
       "version_major": 2,
       "version_minor": 0
      },
      "text/plain": [
       "Epoch 337/2000:   0%|          | 0/29 [00:00<?, ?batch/s]"
      ]
     },
     "metadata": {},
     "output_type": "display_data"
    },
    {
     "data": {
      "application/vnd.jupyter.widget-view+json": {
       "model_id": "ef601a9469ec4dcfbb388f5e9e0e0a01",
       "version_major": 2,
       "version_minor": 0
      },
      "text/plain": [
       "Epoch 338/2000:   0%|          | 0/29 [00:00<?, ?batch/s]"
      ]
     },
     "metadata": {},
     "output_type": "display_data"
    },
    {
     "data": {
      "application/vnd.jupyter.widget-view+json": {
       "model_id": "70d397d501ee4a1a86bf4fc74441c04e",
       "version_major": 2,
       "version_minor": 0
      },
      "text/plain": [
       "Epoch 339/2000:   0%|          | 0/29 [00:00<?, ?batch/s]"
      ]
     },
     "metadata": {},
     "output_type": "display_data"
    },
    {
     "data": {
      "application/vnd.jupyter.widget-view+json": {
       "model_id": "4edf85074ed649d9b9dfc4af3cf72bcf",
       "version_major": 2,
       "version_minor": 0
      },
      "text/plain": [
       "Epoch 340/2000:   0%|          | 0/29 [00:00<?, ?batch/s]"
      ]
     },
     "metadata": {},
     "output_type": "display_data"
    },
    {
     "data": {
      "application/vnd.jupyter.widget-view+json": {
       "model_id": "0bdef000f8124d66b17fe5480c104631",
       "version_major": 2,
       "version_minor": 0
      },
      "text/plain": [
       "Epoch 341/2000:   0%|          | 0/29 [00:00<?, ?batch/s]"
      ]
     },
     "metadata": {},
     "output_type": "display_data"
    },
    {
     "data": {
      "application/vnd.jupyter.widget-view+json": {
       "model_id": "32a32dfc42b04c66a624e901267877d7",
       "version_major": 2,
       "version_minor": 0
      },
      "text/plain": [
       "Epoch 342/2000:   0%|          | 0/29 [00:00<?, ?batch/s]"
      ]
     },
     "metadata": {},
     "output_type": "display_data"
    },
    {
     "data": {
      "application/vnd.jupyter.widget-view+json": {
       "model_id": "243bb3a6f04e4ec9a775998676a24b4b",
       "version_major": 2,
       "version_minor": 0
      },
      "text/plain": [
       "Epoch 343/2000:   0%|          | 0/29 [00:00<?, ?batch/s]"
      ]
     },
     "metadata": {},
     "output_type": "display_data"
    },
    {
     "data": {
      "application/vnd.jupyter.widget-view+json": {
       "model_id": "6477293e637c474fa44c8bebad84fa20",
       "version_major": 2,
       "version_minor": 0
      },
      "text/plain": [
       "Epoch 344/2000:   0%|          | 0/29 [00:00<?, ?batch/s]"
      ]
     },
     "metadata": {},
     "output_type": "display_data"
    },
    {
     "data": {
      "application/vnd.jupyter.widget-view+json": {
       "model_id": "921f40224ea242dd9571f3e560a667e1",
       "version_major": 2,
       "version_minor": 0
      },
      "text/plain": [
       "Epoch 345/2000:   0%|          | 0/29 [00:00<?, ?batch/s]"
      ]
     },
     "metadata": {},
     "output_type": "display_data"
    },
    {
     "data": {
      "application/vnd.jupyter.widget-view+json": {
       "model_id": "68844ee80a5946eb8c2270de54286770",
       "version_major": 2,
       "version_minor": 0
      },
      "text/plain": [
       "Epoch 346/2000:   0%|          | 0/29 [00:00<?, ?batch/s]"
      ]
     },
     "metadata": {},
     "output_type": "display_data"
    },
    {
     "data": {
      "application/vnd.jupyter.widget-view+json": {
       "model_id": "3a9dca59074b413c86a95744b92a8741",
       "version_major": 2,
       "version_minor": 0
      },
      "text/plain": [
       "Epoch 347/2000:   0%|          | 0/29 [00:00<?, ?batch/s]"
      ]
     },
     "metadata": {},
     "output_type": "display_data"
    },
    {
     "data": {
      "application/vnd.jupyter.widget-view+json": {
       "model_id": "e3c2c11ea8844c3eaaeaf94c45f44ed3",
       "version_major": 2,
       "version_minor": 0
      },
      "text/plain": [
       "Epoch 348/2000:   0%|          | 0/29 [00:00<?, ?batch/s]"
      ]
     },
     "metadata": {},
     "output_type": "display_data"
    },
    {
     "data": {
      "application/vnd.jupyter.widget-view+json": {
       "model_id": "70eb60849bd04cbcb1b8fbca8ce98e65",
       "version_major": 2,
       "version_minor": 0
      },
      "text/plain": [
       "Epoch 349/2000:   0%|          | 0/29 [00:00<?, ?batch/s]"
      ]
     },
     "metadata": {},
     "output_type": "display_data"
    },
    {
     "data": {
      "application/vnd.jupyter.widget-view+json": {
       "model_id": "53590d6e44154cb08bf601c8d8e84973",
       "version_major": 2,
       "version_minor": 0
      },
      "text/plain": [
       "Epoch 350/2000:   0%|          | 0/29 [00:00<?, ?batch/s]"
      ]
     },
     "metadata": {},
     "output_type": "display_data"
    },
    {
     "data": {
      "application/vnd.jupyter.widget-view+json": {
       "model_id": "b35b4ce1ec8b436c84053307664083e9",
       "version_major": 2,
       "version_minor": 0
      },
      "text/plain": [
       "Epoch 351/2000:   0%|          | 0/29 [00:00<?, ?batch/s]"
      ]
     },
     "metadata": {},
     "output_type": "display_data"
    },
    {
     "data": {
      "application/vnd.jupyter.widget-view+json": {
       "model_id": "e23cc638cf2a4576a7c0d98500a1693b",
       "version_major": 2,
       "version_minor": 0
      },
      "text/plain": [
       "Epoch 352/2000:   0%|          | 0/29 [00:00<?, ?batch/s]"
      ]
     },
     "metadata": {},
     "output_type": "display_data"
    },
    {
     "data": {
      "application/vnd.jupyter.widget-view+json": {
       "model_id": "0deee5a6cb974992910f61b39443880e",
       "version_major": 2,
       "version_minor": 0
      },
      "text/plain": [
       "Epoch 353/2000:   0%|          | 0/29 [00:00<?, ?batch/s]"
      ]
     },
     "metadata": {},
     "output_type": "display_data"
    },
    {
     "data": {
      "application/vnd.jupyter.widget-view+json": {
       "model_id": "bb58a1a845ce4da7999e628ff4772e64",
       "version_major": 2,
       "version_minor": 0
      },
      "text/plain": [
       "Epoch 354/2000:   0%|          | 0/29 [00:00<?, ?batch/s]"
      ]
     },
     "metadata": {},
     "output_type": "display_data"
    },
    {
     "name": "stderr",
     "output_type": "stream",
     "text": [
      "IOPub message rate exceeded.\n",
      "The Jupyter server will temporarily stop sending output\n",
      "to the client in order to avoid crashing it.\n",
      "To change this limit, set the config variable\n",
      "`--ServerApp.iopub_msg_rate_limit`.\n",
      "\n",
      "Current values:\n",
      "ServerApp.iopub_msg_rate_limit=1000.0 (msgs/sec)\n",
      "ServerApp.rate_limit_window=3.0 (secs)\n",
      "\n"
     ]
    },
    {
     "data": {
      "application/vnd.jupyter.widget-view+json": {
       "model_id": "d1cee2d9fd7c4ab88abe40cd47790b2a",
       "version_major": 2,
       "version_minor": 0
      },
      "text/plain": [
       "Epoch 362/2000:   0%|          | 0/29 [00:00<?, ?batch/s]"
      ]
     },
     "metadata": {},
     "output_type": "display_data"
    },
    {
     "data": {
      "application/vnd.jupyter.widget-view+json": {
       "model_id": "6aed503f2e004b48a5c988a608eeb5e4",
       "version_major": 2,
       "version_minor": 0
      },
      "text/plain": [
       "Epoch 363/2000:   0%|          | 0/29 [00:00<?, ?batch/s]"
      ]
     },
     "metadata": {},
     "output_type": "display_data"
    },
    {
     "data": {
      "application/vnd.jupyter.widget-view+json": {
       "model_id": "413f5f9189d74a2fbbce3bc4d4755288",
       "version_major": 2,
       "version_minor": 0
      },
      "text/plain": [
       "Epoch 364/2000:   0%|          | 0/29 [00:00<?, ?batch/s]"
      ]
     },
     "metadata": {},
     "output_type": "display_data"
    },
    {
     "data": {
      "application/vnd.jupyter.widget-view+json": {
       "model_id": "7c66bc737b0546f899e7bc58496ab468",
       "version_major": 2,
       "version_minor": 0
      },
      "text/plain": [
       "Epoch 365/2000:   0%|          | 0/29 [00:00<?, ?batch/s]"
      ]
     },
     "metadata": {},
     "output_type": "display_data"
    },
    {
     "data": {
      "application/vnd.jupyter.widget-view+json": {
       "model_id": "5338d316c2af4c7cba9c0c6a56a87bcc",
       "version_major": 2,
       "version_minor": 0
      },
      "text/plain": [
       "Epoch 366/2000:   0%|          | 0/29 [00:00<?, ?batch/s]"
      ]
     },
     "metadata": {},
     "output_type": "display_data"
    },
    {
     "data": {
      "application/vnd.jupyter.widget-view+json": {
       "model_id": "790387d206b34108ae1f7c59557d7b0e",
       "version_major": 2,
       "version_minor": 0
      },
      "text/plain": [
       "Epoch 367/2000:   0%|          | 0/29 [00:00<?, ?batch/s]"
      ]
     },
     "metadata": {},
     "output_type": "display_data"
    },
    {
     "data": {
      "application/vnd.jupyter.widget-view+json": {
       "model_id": "5d07abc4cc9a42e3a14370af66711ca1",
       "version_major": 2,
       "version_minor": 0
      },
      "text/plain": [
       "Epoch 368/2000:   0%|          | 0/29 [00:00<?, ?batch/s]"
      ]
     },
     "metadata": {},
     "output_type": "display_data"
    },
    {
     "data": {
      "application/vnd.jupyter.widget-view+json": {
       "model_id": "7288d38dc1794aa4ad484ba99ec6b8e3",
       "version_major": 2,
       "version_minor": 0
      },
      "text/plain": [
       "Epoch 369/2000:   0%|          | 0/29 [00:00<?, ?batch/s]"
      ]
     },
     "metadata": {},
     "output_type": "display_data"
    },
    {
     "data": {
      "application/vnd.jupyter.widget-view+json": {
       "model_id": "2d361b8d2d924cce85ff93db7b4a332f",
       "version_major": 2,
       "version_minor": 0
      },
      "text/plain": [
       "Epoch 370/2000:   0%|          | 0/29 [00:00<?, ?batch/s]"
      ]
     },
     "metadata": {},
     "output_type": "display_data"
    },
    {
     "data": {
      "application/vnd.jupyter.widget-view+json": {
       "model_id": "a6b148d0db4b481c9cd46ab0706271b7",
       "version_major": 2,
       "version_minor": 0
      },
      "text/plain": [
       "Epoch 371/2000:   0%|          | 0/29 [00:00<?, ?batch/s]"
      ]
     },
     "metadata": {},
     "output_type": "display_data"
    },
    {
     "data": {
      "application/vnd.jupyter.widget-view+json": {
       "model_id": "30313e3ce671448883f554859333f05b",
       "version_major": 2,
       "version_minor": 0
      },
      "text/plain": [
       "Epoch 372/2000:   0%|          | 0/29 [00:00<?, ?batch/s]"
      ]
     },
     "metadata": {},
     "output_type": "display_data"
    },
    {
     "data": {
      "application/vnd.jupyter.widget-view+json": {
       "model_id": "4859bf53f3ef400ebb325c04017d8bad",
       "version_major": 2,
       "version_minor": 0
      },
      "text/plain": [
       "Epoch 373/2000:   0%|          | 0/29 [00:00<?, ?batch/s]"
      ]
     },
     "metadata": {},
     "output_type": "display_data"
    },
    {
     "data": {
      "application/vnd.jupyter.widget-view+json": {
       "model_id": "70355166c5db41aa9913b37bb422a401",
       "version_major": 2,
       "version_minor": 0
      },
      "text/plain": [
       "Epoch 374/2000:   0%|          | 0/29 [00:00<?, ?batch/s]"
      ]
     },
     "metadata": {},
     "output_type": "display_data"
    },
    {
     "data": {
      "application/vnd.jupyter.widget-view+json": {
       "model_id": "828e0035029242e1b3789f2110d66214",
       "version_major": 2,
       "version_minor": 0
      },
      "text/plain": [
       "Epoch 375/2000:   0%|          | 0/29 [00:00<?, ?batch/s]"
      ]
     },
     "metadata": {},
     "output_type": "display_data"
    },
    {
     "data": {
      "application/vnd.jupyter.widget-view+json": {
       "model_id": "e8cc305a855b46a5a840ddc2f90844e1",
       "version_major": 2,
       "version_minor": 0
      },
      "text/plain": [
       "Epoch 376/2000:   0%|          | 0/29 [00:00<?, ?batch/s]"
      ]
     },
     "metadata": {},
     "output_type": "display_data"
    },
    {
     "data": {
      "application/vnd.jupyter.widget-view+json": {
       "model_id": "24e25730d59040fa9a2e1f30bd774d08",
       "version_major": 2,
       "version_minor": 0
      },
      "text/plain": [
       "Epoch 377/2000:   0%|          | 0/29 [00:00<?, ?batch/s]"
      ]
     },
     "metadata": {},
     "output_type": "display_data"
    },
    {
     "data": {
      "application/vnd.jupyter.widget-view+json": {
       "model_id": "447dc2843d1b4278a1c85148fe7198ed",
       "version_major": 2,
       "version_minor": 0
      },
      "text/plain": [
       "Epoch 378/2000:   0%|          | 0/29 [00:00<?, ?batch/s]"
      ]
     },
     "metadata": {},
     "output_type": "display_data"
    },
    {
     "data": {
      "application/vnd.jupyter.widget-view+json": {
       "model_id": "f92fbfcc18a84fbc85e3ceb51f5e27c7",
       "version_major": 2,
       "version_minor": 0
      },
      "text/plain": [
       "Epoch 379/2000:   0%|          | 0/29 [00:00<?, ?batch/s]"
      ]
     },
     "metadata": {},
     "output_type": "display_data"
    },
    {
     "data": {
      "application/vnd.jupyter.widget-view+json": {
       "model_id": "c8e59d7289904c61a827496003d61319",
       "version_major": 2,
       "version_minor": 0
      },
      "text/plain": [
       "Epoch 380/2000:   0%|          | 0/29 [00:00<?, ?batch/s]"
      ]
     },
     "metadata": {},
     "output_type": "display_data"
    },
    {
     "data": {
      "application/vnd.jupyter.widget-view+json": {
       "model_id": "f46b3bdab7f0406e8ee16b6ee4b476b0",
       "version_major": 2,
       "version_minor": 0
      },
      "text/plain": [
       "Epoch 381/2000:   0%|          | 0/29 [00:00<?, ?batch/s]"
      ]
     },
     "metadata": {},
     "output_type": "display_data"
    },
    {
     "data": {
      "application/vnd.jupyter.widget-view+json": {
       "model_id": "9bf1e49399524bee96072298ba01ddf7",
       "version_major": 2,
       "version_minor": 0
      },
      "text/plain": [
       "Epoch 382/2000:   0%|          | 0/29 [00:00<?, ?batch/s]"
      ]
     },
     "metadata": {},
     "output_type": "display_data"
    },
    {
     "data": {
      "application/vnd.jupyter.widget-view+json": {
       "model_id": "b0d1029c3d8e4edab79842114761d8d8",
       "version_major": 2,
       "version_minor": 0
      },
      "text/plain": [
       "Epoch 383/2000:   0%|          | 0/29 [00:00<?, ?batch/s]"
      ]
     },
     "metadata": {},
     "output_type": "display_data"
    },
    {
     "data": {
      "application/vnd.jupyter.widget-view+json": {
       "model_id": "c9200faa31484c67ad7d6c17673b2823",
       "version_major": 2,
       "version_minor": 0
      },
      "text/plain": [
       "Epoch 384/2000:   0%|          | 0/29 [00:00<?, ?batch/s]"
      ]
     },
     "metadata": {},
     "output_type": "display_data"
    },
    {
     "data": {
      "application/vnd.jupyter.widget-view+json": {
       "model_id": "b57cf9b535a14799b7dace2ba40ff028",
       "version_major": 2,
       "version_minor": 0
      },
      "text/plain": [
       "Epoch 385/2000:   0%|          | 0/29 [00:00<?, ?batch/s]"
      ]
     },
     "metadata": {},
     "output_type": "display_data"
    },
    {
     "data": {
      "application/vnd.jupyter.widget-view+json": {
       "model_id": "5cf8453ef9e94fa692878e727f8cf0af",
       "version_major": 2,
       "version_minor": 0
      },
      "text/plain": [
       "Epoch 386/2000:   0%|          | 0/29 [00:00<?, ?batch/s]"
      ]
     },
     "metadata": {},
     "output_type": "display_data"
    },
    {
     "data": {
      "application/vnd.jupyter.widget-view+json": {
       "model_id": "f071f2ccfc254b4f993fd84771b259e8",
       "version_major": 2,
       "version_minor": 0
      },
      "text/plain": [
       "Epoch 387/2000:   0%|          | 0/29 [00:00<?, ?batch/s]"
      ]
     },
     "metadata": {},
     "output_type": "display_data"
    },
    {
     "data": {
      "application/vnd.jupyter.widget-view+json": {
       "model_id": "05ed2690ac6744e18049fe4321af6747",
       "version_major": 2,
       "version_minor": 0
      },
      "text/plain": [
       "Epoch 388/2000:   0%|          | 0/29 [00:00<?, ?batch/s]"
      ]
     },
     "metadata": {},
     "output_type": "display_data"
    },
    {
     "data": {
      "application/vnd.jupyter.widget-view+json": {
       "model_id": "6b6aec5b53364d8099c3da88033f9ad3",
       "version_major": 2,
       "version_minor": 0
      },
      "text/plain": [
       "Epoch 389/2000:   0%|          | 0/29 [00:00<?, ?batch/s]"
      ]
     },
     "metadata": {},
     "output_type": "display_data"
    },
    {
     "data": {
      "application/vnd.jupyter.widget-view+json": {
       "model_id": "4f9455cd209b409dbc93966e865f69a2",
       "version_major": 2,
       "version_minor": 0
      },
      "text/plain": [
       "Epoch 390/2000:   0%|          | 0/29 [00:00<?, ?batch/s]"
      ]
     },
     "metadata": {},
     "output_type": "display_data"
    },
    {
     "data": {
      "application/vnd.jupyter.widget-view+json": {
       "model_id": "339e9941439e4e8fb89e58fdfe348c19",
       "version_major": 2,
       "version_minor": 0
      },
      "text/plain": [
       "Epoch 391/2000:   0%|          | 0/29 [00:00<?, ?batch/s]"
      ]
     },
     "metadata": {},
     "output_type": "display_data"
    },
    {
     "data": {
      "application/vnd.jupyter.widget-view+json": {
       "model_id": "5582f5416cab4ab497ddb0633d8dfe76",
       "version_major": 2,
       "version_minor": 0
      },
      "text/plain": [
       "Epoch 392/2000:   0%|          | 0/29 [00:00<?, ?batch/s]"
      ]
     },
     "metadata": {},
     "output_type": "display_data"
    },
    {
     "data": {
      "application/vnd.jupyter.widget-view+json": {
       "model_id": "d2aafce0a8a6489589669ce1e76249f9",
       "version_major": 2,
       "version_minor": 0
      },
      "text/plain": [
       "Epoch 393/2000:   0%|          | 0/29 [00:00<?, ?batch/s]"
      ]
     },
     "metadata": {},
     "output_type": "display_data"
    },
    {
     "name": "stderr",
     "output_type": "stream",
     "text": [
      "IOPub message rate exceeded.\n",
      "The Jupyter server will temporarily stop sending output\n",
      "to the client in order to avoid crashing it.\n",
      "To change this limit, set the config variable\n",
      "`--ServerApp.iopub_msg_rate_limit`.\n",
      "\n",
      "Current values:\n",
      "ServerApp.iopub_msg_rate_limit=1000.0 (msgs/sec)\n",
      "ServerApp.rate_limit_window=3.0 (secs)\n",
      "\n"
     ]
    },
    {
     "data": {
      "application/vnd.jupyter.widget-view+json": {
       "model_id": "bc9d087504c747eabb393683259a10ce",
       "version_major": 2,
       "version_minor": 0
      },
      "text/plain": [
       "Epoch 401/2000:   0%|          | 0/29 [00:00<?, ?batch/s]"
      ]
     },
     "metadata": {},
     "output_type": "display_data"
    },
    {
     "data": {
      "application/vnd.jupyter.widget-view+json": {
       "model_id": "16b268c04e044d4290dd6813b8a7e268",
       "version_major": 2,
       "version_minor": 0
      },
      "text/plain": [
       "Epoch 402/2000:   0%|          | 0/29 [00:00<?, ?batch/s]"
      ]
     },
     "metadata": {},
     "output_type": "display_data"
    },
    {
     "data": {
      "application/vnd.jupyter.widget-view+json": {
       "model_id": "7eb5eb178f9b41c2b3771c9e77df4606",
       "version_major": 2,
       "version_minor": 0
      },
      "text/plain": [
       "Epoch 403/2000:   0%|          | 0/29 [00:00<?, ?batch/s]"
      ]
     },
     "metadata": {},
     "output_type": "display_data"
    },
    {
     "data": {
      "application/vnd.jupyter.widget-view+json": {
       "model_id": "7ce49ec9b65643d39ff79185cdd2a473",
       "version_major": 2,
       "version_minor": 0
      },
      "text/plain": [
       "Epoch 404/2000:   0%|          | 0/29 [00:00<?, ?batch/s]"
      ]
     },
     "metadata": {},
     "output_type": "display_data"
    },
    {
     "data": {
      "application/vnd.jupyter.widget-view+json": {
       "model_id": "47b3d577db45416eae34ffe6a815479e",
       "version_major": 2,
       "version_minor": 0
      },
      "text/plain": [
       "Epoch 405/2000:   0%|          | 0/29 [00:00<?, ?batch/s]"
      ]
     },
     "metadata": {},
     "output_type": "display_data"
    },
    {
     "data": {
      "application/vnd.jupyter.widget-view+json": {
       "model_id": "cb034d5b955545ccaa34839e8a690c83",
       "version_major": 2,
       "version_minor": 0
      },
      "text/plain": [
       "Epoch 406/2000:   0%|          | 0/29 [00:00<?, ?batch/s]"
      ]
     },
     "metadata": {},
     "output_type": "display_data"
    },
    {
     "data": {
      "application/vnd.jupyter.widget-view+json": {
       "model_id": "0c0b5d64db6d47dbb7f8ec89a8f6e62f",
       "version_major": 2,
       "version_minor": 0
      },
      "text/plain": [
       "Epoch 407/2000:   0%|          | 0/29 [00:00<?, ?batch/s]"
      ]
     },
     "metadata": {},
     "output_type": "display_data"
    },
    {
     "data": {
      "application/vnd.jupyter.widget-view+json": {
       "model_id": "0faf69b98c3847c5a566d690b1dab2d3",
       "version_major": 2,
       "version_minor": 0
      },
      "text/plain": [
       "Epoch 408/2000:   0%|          | 0/29 [00:00<?, ?batch/s]"
      ]
     },
     "metadata": {},
     "output_type": "display_data"
    },
    {
     "data": {
      "application/vnd.jupyter.widget-view+json": {
       "model_id": "8c66fb4e68df4e198dbd2afca26297c2",
       "version_major": 2,
       "version_minor": 0
      },
      "text/plain": [
       "Epoch 409/2000:   0%|          | 0/29 [00:00<?, ?batch/s]"
      ]
     },
     "metadata": {},
     "output_type": "display_data"
    },
    {
     "data": {
      "application/vnd.jupyter.widget-view+json": {
       "model_id": "e905e3b158a1425391c528c183f76d5c",
       "version_major": 2,
       "version_minor": 0
      },
      "text/plain": [
       "Epoch 410/2000:   0%|          | 0/29 [00:00<?, ?batch/s]"
      ]
     },
     "metadata": {},
     "output_type": "display_data"
    },
    {
     "data": {
      "application/vnd.jupyter.widget-view+json": {
       "model_id": "bc7a1c3f32d0490d883c8b345cc41bdf",
       "version_major": 2,
       "version_minor": 0
      },
      "text/plain": [
       "Epoch 411/2000:   0%|          | 0/29 [00:00<?, ?batch/s]"
      ]
     },
     "metadata": {},
     "output_type": "display_data"
    },
    {
     "data": {
      "application/vnd.jupyter.widget-view+json": {
       "model_id": "ad66831983ff4f2d90a4e474c1a7c852",
       "version_major": 2,
       "version_minor": 0
      },
      "text/plain": [
       "Epoch 412/2000:   0%|          | 0/29 [00:00<?, ?batch/s]"
      ]
     },
     "metadata": {},
     "output_type": "display_data"
    },
    {
     "data": {
      "application/vnd.jupyter.widget-view+json": {
       "model_id": "7523b41fc5ac4b9ea5c4568db7c4a658",
       "version_major": 2,
       "version_minor": 0
      },
      "text/plain": [
       "Epoch 413/2000:   0%|          | 0/29 [00:00<?, ?batch/s]"
      ]
     },
     "metadata": {},
     "output_type": "display_data"
    },
    {
     "data": {
      "application/vnd.jupyter.widget-view+json": {
       "model_id": "7064f0b2e96c41aca78588cfb76354aa",
       "version_major": 2,
       "version_minor": 0
      },
      "text/plain": [
       "Epoch 414/2000:   0%|          | 0/29 [00:00<?, ?batch/s]"
      ]
     },
     "metadata": {},
     "output_type": "display_data"
    },
    {
     "data": {
      "application/vnd.jupyter.widget-view+json": {
       "model_id": "a69da39a01cc4605b0fc0e6193d7594c",
       "version_major": 2,
       "version_minor": 0
      },
      "text/plain": [
       "Epoch 415/2000:   0%|          | 0/29 [00:00<?, ?batch/s]"
      ]
     },
     "metadata": {},
     "output_type": "display_data"
    },
    {
     "data": {
      "application/vnd.jupyter.widget-view+json": {
       "model_id": "8afa61f272334c909a5f9bb784f9f559",
       "version_major": 2,
       "version_minor": 0
      },
      "text/plain": [
       "Epoch 416/2000:   0%|          | 0/29 [00:00<?, ?batch/s]"
      ]
     },
     "metadata": {},
     "output_type": "display_data"
    },
    {
     "data": {
      "application/vnd.jupyter.widget-view+json": {
       "model_id": "f246a3181dc549bab6727a98616463a4",
       "version_major": 2,
       "version_minor": 0
      },
      "text/plain": [
       "Epoch 417/2000:   0%|          | 0/29 [00:00<?, ?batch/s]"
      ]
     },
     "metadata": {},
     "output_type": "display_data"
    },
    {
     "data": {
      "application/vnd.jupyter.widget-view+json": {
       "model_id": "72f4bed08f5a47bb84e01a5448c9305d",
       "version_major": 2,
       "version_minor": 0
      },
      "text/plain": [
       "Epoch 418/2000:   0%|          | 0/29 [00:00<?, ?batch/s]"
      ]
     },
     "metadata": {},
     "output_type": "display_data"
    },
    {
     "data": {
      "application/vnd.jupyter.widget-view+json": {
       "model_id": "de39ae2f0e3b43169d7715d458961ef8",
       "version_major": 2,
       "version_minor": 0
      },
      "text/plain": [
       "Epoch 419/2000:   0%|          | 0/29 [00:00<?, ?batch/s]"
      ]
     },
     "metadata": {},
     "output_type": "display_data"
    },
    {
     "data": {
      "application/vnd.jupyter.widget-view+json": {
       "model_id": "419027626c10423d94c50b48841b6a9f",
       "version_major": 2,
       "version_minor": 0
      },
      "text/plain": [
       "Epoch 420/2000:   0%|          | 0/29 [00:00<?, ?batch/s]"
      ]
     },
     "metadata": {},
     "output_type": "display_data"
    },
    {
     "data": {
      "application/vnd.jupyter.widget-view+json": {
       "model_id": "89c06f5336434dd88979fd849b507863",
       "version_major": 2,
       "version_minor": 0
      },
      "text/plain": [
       "Epoch 421/2000:   0%|          | 0/29 [00:00<?, ?batch/s]"
      ]
     },
     "metadata": {},
     "output_type": "display_data"
    },
    {
     "data": {
      "application/vnd.jupyter.widget-view+json": {
       "model_id": "e620264ba2d647d188408dc387e11869",
       "version_major": 2,
       "version_minor": 0
      },
      "text/plain": [
       "Epoch 422/2000:   0%|          | 0/29 [00:00<?, ?batch/s]"
      ]
     },
     "metadata": {},
     "output_type": "display_data"
    },
    {
     "data": {
      "application/vnd.jupyter.widget-view+json": {
       "model_id": "696f22eedd994a91a5501cdf23b65b27",
       "version_major": 2,
       "version_minor": 0
      },
      "text/plain": [
       "Epoch 423/2000:   0%|          | 0/29 [00:00<?, ?batch/s]"
      ]
     },
     "metadata": {},
     "output_type": "display_data"
    },
    {
     "data": {
      "application/vnd.jupyter.widget-view+json": {
       "model_id": "a6bff7b4649043d5bff76bd51e319f5d",
       "version_major": 2,
       "version_minor": 0
      },
      "text/plain": [
       "Epoch 424/2000:   0%|          | 0/29 [00:00<?, ?batch/s]"
      ]
     },
     "metadata": {},
     "output_type": "display_data"
    },
    {
     "data": {
      "application/vnd.jupyter.widget-view+json": {
       "model_id": "e1cb39af63244e198a76fefe706ce633",
       "version_major": 2,
       "version_minor": 0
      },
      "text/plain": [
       "Epoch 425/2000:   0%|          | 0/29 [00:00<?, ?batch/s]"
      ]
     },
     "metadata": {},
     "output_type": "display_data"
    },
    {
     "data": {
      "application/vnd.jupyter.widget-view+json": {
       "model_id": "f8001b7285cd4531a67da7cfe576bd91",
       "version_major": 2,
       "version_minor": 0
      },
      "text/plain": [
       "Epoch 426/2000:   0%|          | 0/29 [00:00<?, ?batch/s]"
      ]
     },
     "metadata": {},
     "output_type": "display_data"
    },
    {
     "data": {
      "application/vnd.jupyter.widget-view+json": {
       "model_id": "51ea0c56faf64685be7e9f283af86f77",
       "version_major": 2,
       "version_minor": 0
      },
      "text/plain": [
       "Epoch 427/2000:   0%|          | 0/29 [00:00<?, ?batch/s]"
      ]
     },
     "metadata": {},
     "output_type": "display_data"
    },
    {
     "data": {
      "application/vnd.jupyter.widget-view+json": {
       "model_id": "819b3b4043a84b30bd95b24a22b4db4d",
       "version_major": 2,
       "version_minor": 0
      },
      "text/plain": [
       "Epoch 428/2000:   0%|          | 0/29 [00:00<?, ?batch/s]"
      ]
     },
     "metadata": {},
     "output_type": "display_data"
    },
    {
     "data": {
      "application/vnd.jupyter.widget-view+json": {
       "model_id": "38ad510081354dd7b3c81dd273c71ed8",
       "version_major": 2,
       "version_minor": 0
      },
      "text/plain": [
       "Epoch 429/2000:   0%|          | 0/29 [00:00<?, ?batch/s]"
      ]
     },
     "metadata": {},
     "output_type": "display_data"
    },
    {
     "data": {
      "application/vnd.jupyter.widget-view+json": {
       "model_id": "e4f6dbea8f8a4b75b23ae24f7b39c029",
       "version_major": 2,
       "version_minor": 0
      },
      "text/plain": [
       "Epoch 430/2000:   0%|          | 0/29 [00:00<?, ?batch/s]"
      ]
     },
     "metadata": {},
     "output_type": "display_data"
    },
    {
     "data": {
      "application/vnd.jupyter.widget-view+json": {
       "model_id": "7b50d280f55b48c68899f9e8ff05e9b9",
       "version_major": 2,
       "version_minor": 0
      },
      "text/plain": [
       "Epoch 431/2000:   0%|          | 0/29 [00:00<?, ?batch/s]"
      ]
     },
     "metadata": {},
     "output_type": "display_data"
    },
    {
     "data": {
      "application/vnd.jupyter.widget-view+json": {
       "model_id": "cefce7f9325443288b2a355c6e17cfee",
       "version_major": 2,
       "version_minor": 0
      },
      "text/plain": [
       "Epoch 432/2000:   0%|          | 0/29 [00:00<?, ?batch/s]"
      ]
     },
     "metadata": {},
     "output_type": "display_data"
    },
    {
     "name": "stderr",
     "output_type": "stream",
     "text": [
      "IOPub message rate exceeded.\n",
      "The Jupyter server will temporarily stop sending output\n",
      "to the client in order to avoid crashing it.\n",
      "To change this limit, set the config variable\n",
      "`--ServerApp.iopub_msg_rate_limit`.\n",
      "\n",
      "Current values:\n",
      "ServerApp.iopub_msg_rate_limit=1000.0 (msgs/sec)\n",
      "ServerApp.rate_limit_window=3.0 (secs)\n",
      "\n"
     ]
    },
    {
     "data": {
      "application/vnd.jupyter.widget-view+json": {
       "model_id": "3e6eac8bc8aa447e9b89c0062064e2cd",
       "version_major": 2,
       "version_minor": 0
      },
      "text/plain": [
       "Epoch 441/2000:   0%|          | 0/29 [00:00<?, ?batch/s]"
      ]
     },
     "metadata": {},
     "output_type": "display_data"
    },
    {
     "data": {
      "application/vnd.jupyter.widget-view+json": {
       "model_id": "fd7e2c4ddfd64fe1a52d19a01b5c0c53",
       "version_major": 2,
       "version_minor": 0
      },
      "text/plain": [
       "Epoch 442/2000:   0%|          | 0/29 [00:00<?, ?batch/s]"
      ]
     },
     "metadata": {},
     "output_type": "display_data"
    },
    {
     "data": {
      "application/vnd.jupyter.widget-view+json": {
       "model_id": "fa3c8f7ba9264cc08e2ad5cf85759857",
       "version_major": 2,
       "version_minor": 0
      },
      "text/plain": [
       "Epoch 443/2000:   0%|          | 0/29 [00:00<?, ?batch/s]"
      ]
     },
     "metadata": {},
     "output_type": "display_data"
    },
    {
     "data": {
      "application/vnd.jupyter.widget-view+json": {
       "model_id": "2c79b775be6d46daa13b9d776d40e7f3",
       "version_major": 2,
       "version_minor": 0
      },
      "text/plain": [
       "Epoch 444/2000:   0%|          | 0/29 [00:00<?, ?batch/s]"
      ]
     },
     "metadata": {},
     "output_type": "display_data"
    },
    {
     "data": {
      "application/vnd.jupyter.widget-view+json": {
       "model_id": "d0fd0b70331943df8301e16e2400636c",
       "version_major": 2,
       "version_minor": 0
      },
      "text/plain": [
       "Epoch 445/2000:   0%|          | 0/29 [00:00<?, ?batch/s]"
      ]
     },
     "metadata": {},
     "output_type": "display_data"
    },
    {
     "data": {
      "application/vnd.jupyter.widget-view+json": {
       "model_id": "04c2de0d2d9b4db3a273af3d6d936706",
       "version_major": 2,
       "version_minor": 0
      },
      "text/plain": [
       "Epoch 446/2000:   0%|          | 0/29 [00:00<?, ?batch/s]"
      ]
     },
     "metadata": {},
     "output_type": "display_data"
    },
    {
     "data": {
      "application/vnd.jupyter.widget-view+json": {
       "model_id": "9832ed2c0be24417b3e9e844737f8f2f",
       "version_major": 2,
       "version_minor": 0
      },
      "text/plain": [
       "Epoch 447/2000:   0%|          | 0/29 [00:00<?, ?batch/s]"
      ]
     },
     "metadata": {},
     "output_type": "display_data"
    },
    {
     "data": {
      "application/vnd.jupyter.widget-view+json": {
       "model_id": "bfc2257241d341db8412481b66e5fdd4",
       "version_major": 2,
       "version_minor": 0
      },
      "text/plain": [
       "Epoch 448/2000:   0%|          | 0/29 [00:00<?, ?batch/s]"
      ]
     },
     "metadata": {},
     "output_type": "display_data"
    },
    {
     "data": {
      "application/vnd.jupyter.widget-view+json": {
       "model_id": "26e565990bfb46968c3795e2692719c3",
       "version_major": 2,
       "version_minor": 0
      },
      "text/plain": [
       "Epoch 449/2000:   0%|          | 0/29 [00:00<?, ?batch/s]"
      ]
     },
     "metadata": {},
     "output_type": "display_data"
    },
    {
     "data": {
      "application/vnd.jupyter.widget-view+json": {
       "model_id": "a06b2e3d856b490eb6da8a6464030409",
       "version_major": 2,
       "version_minor": 0
      },
      "text/plain": [
       "Epoch 450/2000:   0%|          | 0/29 [00:00<?, ?batch/s]"
      ]
     },
     "metadata": {},
     "output_type": "display_data"
    },
    {
     "data": {
      "application/vnd.jupyter.widget-view+json": {
       "model_id": "ca0a4c2f48414dad8b7c1eae71ec4d53",
       "version_major": 2,
       "version_minor": 0
      },
      "text/plain": [
       "Epoch 451/2000:   0%|          | 0/29 [00:00<?, ?batch/s]"
      ]
     },
     "metadata": {},
     "output_type": "display_data"
    },
    {
     "data": {
      "application/vnd.jupyter.widget-view+json": {
       "model_id": "44fc9124d2114ab19098da6c9a8c8f7f",
       "version_major": 2,
       "version_minor": 0
      },
      "text/plain": [
       "Epoch 452/2000:   0%|          | 0/29 [00:00<?, ?batch/s]"
      ]
     },
     "metadata": {},
     "output_type": "display_data"
    },
    {
     "data": {
      "application/vnd.jupyter.widget-view+json": {
       "model_id": "40023dc27d02430d85a634dc6cfc7858",
       "version_major": 2,
       "version_minor": 0
      },
      "text/plain": [
       "Epoch 453/2000:   0%|          | 0/29 [00:00<?, ?batch/s]"
      ]
     },
     "metadata": {},
     "output_type": "display_data"
    },
    {
     "data": {
      "application/vnd.jupyter.widget-view+json": {
       "model_id": "8cbca6139cb14304ac17ae9ad0b8fb70",
       "version_major": 2,
       "version_minor": 0
      },
      "text/plain": [
       "Epoch 454/2000:   0%|          | 0/29 [00:00<?, ?batch/s]"
      ]
     },
     "metadata": {},
     "output_type": "display_data"
    },
    {
     "data": {
      "application/vnd.jupyter.widget-view+json": {
       "model_id": "357690443f1b41baa587e3cc7bf60a75",
       "version_major": 2,
       "version_minor": 0
      },
      "text/plain": [
       "Epoch 455/2000:   0%|          | 0/29 [00:00<?, ?batch/s]"
      ]
     },
     "metadata": {},
     "output_type": "display_data"
    },
    {
     "data": {
      "application/vnd.jupyter.widget-view+json": {
       "model_id": "ed1e524e7d3c4cc4ae1fa37e8a79891e",
       "version_major": 2,
       "version_minor": 0
      },
      "text/plain": [
       "Epoch 456/2000:   0%|          | 0/29 [00:00<?, ?batch/s]"
      ]
     },
     "metadata": {},
     "output_type": "display_data"
    },
    {
     "data": {
      "application/vnd.jupyter.widget-view+json": {
       "model_id": "87503c5eec88440c9248080d412391ee",
       "version_major": 2,
       "version_minor": 0
      },
      "text/plain": [
       "Epoch 457/2000:   0%|          | 0/29 [00:00<?, ?batch/s]"
      ]
     },
     "metadata": {},
     "output_type": "display_data"
    },
    {
     "data": {
      "application/vnd.jupyter.widget-view+json": {
       "model_id": "bde912b5e6914c45976d6997499a1460",
       "version_major": 2,
       "version_minor": 0
      },
      "text/plain": [
       "Epoch 458/2000:   0%|          | 0/29 [00:00<?, ?batch/s]"
      ]
     },
     "metadata": {},
     "output_type": "display_data"
    },
    {
     "data": {
      "application/vnd.jupyter.widget-view+json": {
       "model_id": "1dc48e1add7d49a4be6dd61f633c56bb",
       "version_major": 2,
       "version_minor": 0
      },
      "text/plain": [
       "Epoch 459/2000:   0%|          | 0/29 [00:00<?, ?batch/s]"
      ]
     },
     "metadata": {},
     "output_type": "display_data"
    },
    {
     "data": {
      "application/vnd.jupyter.widget-view+json": {
       "model_id": "2db1b7e019974e6fa2f3079d0ebb5b17",
       "version_major": 2,
       "version_minor": 0
      },
      "text/plain": [
       "Epoch 460/2000:   0%|          | 0/29 [00:00<?, ?batch/s]"
      ]
     },
     "metadata": {},
     "output_type": "display_data"
    },
    {
     "data": {
      "application/vnd.jupyter.widget-view+json": {
       "model_id": "07e101d1f1244b6ebc63eb94677b47bc",
       "version_major": 2,
       "version_minor": 0
      },
      "text/plain": [
       "Epoch 461/2000:   0%|          | 0/29 [00:00<?, ?batch/s]"
      ]
     },
     "metadata": {},
     "output_type": "display_data"
    },
    {
     "data": {
      "application/vnd.jupyter.widget-view+json": {
       "model_id": "a82c453f3d68497682ce81d4f18b0e14",
       "version_major": 2,
       "version_minor": 0
      },
      "text/plain": [
       "Epoch 462/2000:   0%|          | 0/29 [00:00<?, ?batch/s]"
      ]
     },
     "metadata": {},
     "output_type": "display_data"
    },
    {
     "data": {
      "application/vnd.jupyter.widget-view+json": {
       "model_id": "ee021012a7f34efa8a48d016b271637f",
       "version_major": 2,
       "version_minor": 0
      },
      "text/plain": [
       "Epoch 463/2000:   0%|          | 0/29 [00:00<?, ?batch/s]"
      ]
     },
     "metadata": {},
     "output_type": "display_data"
    },
    {
     "data": {
      "application/vnd.jupyter.widget-view+json": {
       "model_id": "f18417a78b064f71a632fe9f28edff8c",
       "version_major": 2,
       "version_minor": 0
      },
      "text/plain": [
       "Epoch 464/2000:   0%|          | 0/29 [00:00<?, ?batch/s]"
      ]
     },
     "metadata": {},
     "output_type": "display_data"
    },
    {
     "data": {
      "application/vnd.jupyter.widget-view+json": {
       "model_id": "4e52e69aa47f43e99c9ef788441cd11a",
       "version_major": 2,
       "version_minor": 0
      },
      "text/plain": [
       "Epoch 465/2000:   0%|          | 0/29 [00:00<?, ?batch/s]"
      ]
     },
     "metadata": {},
     "output_type": "display_data"
    },
    {
     "data": {
      "application/vnd.jupyter.widget-view+json": {
       "model_id": "f5fdaad2912b43f3b080dfe5813ed00f",
       "version_major": 2,
       "version_minor": 0
      },
      "text/plain": [
       "Epoch 466/2000:   0%|          | 0/29 [00:00<?, ?batch/s]"
      ]
     },
     "metadata": {},
     "output_type": "display_data"
    },
    {
     "data": {
      "application/vnd.jupyter.widget-view+json": {
       "model_id": "dc5b6118b637425b8a725186da2f4f05",
       "version_major": 2,
       "version_minor": 0
      },
      "text/plain": [
       "Epoch 467/2000:   0%|          | 0/29 [00:00<?, ?batch/s]"
      ]
     },
     "metadata": {},
     "output_type": "display_data"
    },
    {
     "data": {
      "application/vnd.jupyter.widget-view+json": {
       "model_id": "9462733c08dd4f94824c883164edc44f",
       "version_major": 2,
       "version_minor": 0
      },
      "text/plain": [
       "Epoch 468/2000:   0%|          | 0/29 [00:00<?, ?batch/s]"
      ]
     },
     "metadata": {},
     "output_type": "display_data"
    },
    {
     "data": {
      "application/vnd.jupyter.widget-view+json": {
       "model_id": "02a39eb4610c4943bd52b7a80347eed9",
       "version_major": 2,
       "version_minor": 0
      },
      "text/plain": [
       "Epoch 469/2000:   0%|          | 0/29 [00:00<?, ?batch/s]"
      ]
     },
     "metadata": {},
     "output_type": "display_data"
    },
    {
     "data": {
      "application/vnd.jupyter.widget-view+json": {
       "model_id": "03f2898fd58947bcbbc205d2f7150cc7",
       "version_major": 2,
       "version_minor": 0
      },
      "text/plain": [
       "Epoch 470/2000:   0%|          | 0/29 [00:00<?, ?batch/s]"
      ]
     },
     "metadata": {},
     "output_type": "display_data"
    },
    {
     "data": {
      "application/vnd.jupyter.widget-view+json": {
       "model_id": "a6c133c2c15a4a70b4156271f214af6e",
       "version_major": 2,
       "version_minor": 0
      },
      "text/plain": [
       "Epoch 471/2000:   0%|          | 0/29 [00:00<?, ?batch/s]"
      ]
     },
     "metadata": {},
     "output_type": "display_data"
    },
    {
     "data": {
      "application/vnd.jupyter.widget-view+json": {
       "model_id": "fd2bb404055b49169ebb6cc969b7def5",
       "version_major": 2,
       "version_minor": 0
      },
      "text/plain": [
       "Epoch 472/2000:   0%|          | 0/29 [00:00<?, ?batch/s]"
      ]
     },
     "metadata": {},
     "output_type": "display_data"
    },
    {
     "name": "stderr",
     "output_type": "stream",
     "text": [
      "IOPub message rate exceeded.\n",
      "The Jupyter server will temporarily stop sending output\n",
      "to the client in order to avoid crashing it.\n",
      "To change this limit, set the config variable\n",
      "`--ServerApp.iopub_msg_rate_limit`.\n",
      "\n",
      "Current values:\n",
      "ServerApp.iopub_msg_rate_limit=1000.0 (msgs/sec)\n",
      "ServerApp.rate_limit_window=3.0 (secs)\n",
      "\n"
     ]
    },
    {
     "data": {
      "application/vnd.jupyter.widget-view+json": {
       "model_id": "b51c13d6e2654b4ab2dc9892410b79fa",
       "version_major": 2,
       "version_minor": 0
      },
      "text/plain": [
       "Epoch 480/2000:   0%|          | 0/29 [00:00<?, ?batch/s]"
      ]
     },
     "metadata": {},
     "output_type": "display_data"
    },
    {
     "data": {
      "application/vnd.jupyter.widget-view+json": {
       "model_id": "9b09321b680445859385a5fe189d41cb",
       "version_major": 2,
       "version_minor": 0
      },
      "text/plain": [
       "Epoch 481/2000:   0%|          | 0/29 [00:00<?, ?batch/s]"
      ]
     },
     "metadata": {},
     "output_type": "display_data"
    },
    {
     "data": {
      "application/vnd.jupyter.widget-view+json": {
       "model_id": "d8a750ee882942ec87e79162a65f35cd",
       "version_major": 2,
       "version_minor": 0
      },
      "text/plain": [
       "Epoch 482/2000:   0%|          | 0/29 [00:00<?, ?batch/s]"
      ]
     },
     "metadata": {},
     "output_type": "display_data"
    },
    {
     "data": {
      "application/vnd.jupyter.widget-view+json": {
       "model_id": "2e07c82bbef449cbaabc393d0be889ac",
       "version_major": 2,
       "version_minor": 0
      },
      "text/plain": [
       "Epoch 483/2000:   0%|          | 0/29 [00:00<?, ?batch/s]"
      ]
     },
     "metadata": {},
     "output_type": "display_data"
    },
    {
     "data": {
      "application/vnd.jupyter.widget-view+json": {
       "model_id": "0edde42abdf842b2b8ef8890c9e7de40",
       "version_major": 2,
       "version_minor": 0
      },
      "text/plain": [
       "Epoch 484/2000:   0%|          | 0/29 [00:00<?, ?batch/s]"
      ]
     },
     "metadata": {},
     "output_type": "display_data"
    },
    {
     "data": {
      "application/vnd.jupyter.widget-view+json": {
       "model_id": "751ebe32d52a4f7b90baaca11aab79cb",
       "version_major": 2,
       "version_minor": 0
      },
      "text/plain": [
       "Epoch 485/2000:   0%|          | 0/29 [00:00<?, ?batch/s]"
      ]
     },
     "metadata": {},
     "output_type": "display_data"
    },
    {
     "data": {
      "application/vnd.jupyter.widget-view+json": {
       "model_id": "724812d189c04254a7b508f18d377ad4",
       "version_major": 2,
       "version_minor": 0
      },
      "text/plain": [
       "Epoch 486/2000:   0%|          | 0/29 [00:00<?, ?batch/s]"
      ]
     },
     "metadata": {},
     "output_type": "display_data"
    },
    {
     "data": {
      "application/vnd.jupyter.widget-view+json": {
       "model_id": "5ffb87aa5c2e4d9ab6fa811111a55bc9",
       "version_major": 2,
       "version_minor": 0
      },
      "text/plain": [
       "Epoch 487/2000:   0%|          | 0/29 [00:00<?, ?batch/s]"
      ]
     },
     "metadata": {},
     "output_type": "display_data"
    },
    {
     "data": {
      "application/vnd.jupyter.widget-view+json": {
       "model_id": "3bb5c22899604d3abdd90341cf4c0419",
       "version_major": 2,
       "version_minor": 0
      },
      "text/plain": [
       "Epoch 488/2000:   0%|          | 0/29 [00:00<?, ?batch/s]"
      ]
     },
     "metadata": {},
     "output_type": "display_data"
    },
    {
     "data": {
      "application/vnd.jupyter.widget-view+json": {
       "model_id": "3685e1c732104fa5af8fe531b86ad390",
       "version_major": 2,
       "version_minor": 0
      },
      "text/plain": [
       "Epoch 489/2000:   0%|          | 0/29 [00:00<?, ?batch/s]"
      ]
     },
     "metadata": {},
     "output_type": "display_data"
    },
    {
     "data": {
      "application/vnd.jupyter.widget-view+json": {
       "model_id": "23ea43a0585147669d660ebc3cc2f061",
       "version_major": 2,
       "version_minor": 0
      },
      "text/plain": [
       "Epoch 490/2000:   0%|          | 0/29 [00:00<?, ?batch/s]"
      ]
     },
     "metadata": {},
     "output_type": "display_data"
    },
    {
     "data": {
      "application/vnd.jupyter.widget-view+json": {
       "model_id": "bb08fe9fbd2e4c159422685568800176",
       "version_major": 2,
       "version_minor": 0
      },
      "text/plain": [
       "Epoch 491/2000:   0%|          | 0/29 [00:00<?, ?batch/s]"
      ]
     },
     "metadata": {},
     "output_type": "display_data"
    },
    {
     "data": {
      "application/vnd.jupyter.widget-view+json": {
       "model_id": "9f66471b486c4436a890e6f7d17c3ae3",
       "version_major": 2,
       "version_minor": 0
      },
      "text/plain": [
       "Epoch 492/2000:   0%|          | 0/29 [00:00<?, ?batch/s]"
      ]
     },
     "metadata": {},
     "output_type": "display_data"
    },
    {
     "data": {
      "application/vnd.jupyter.widget-view+json": {
       "model_id": "3282d70475b64c5a85bd3a033c79583d",
       "version_major": 2,
       "version_minor": 0
      },
      "text/plain": [
       "Epoch 493/2000:   0%|          | 0/29 [00:00<?, ?batch/s]"
      ]
     },
     "metadata": {},
     "output_type": "display_data"
    },
    {
     "data": {
      "application/vnd.jupyter.widget-view+json": {
       "model_id": "03e95a96d348434a8389d85ba2ddd551",
       "version_major": 2,
       "version_minor": 0
      },
      "text/plain": [
       "Epoch 494/2000:   0%|          | 0/29 [00:00<?, ?batch/s]"
      ]
     },
     "metadata": {},
     "output_type": "display_data"
    },
    {
     "data": {
      "application/vnd.jupyter.widget-view+json": {
       "model_id": "1ca78c4e350943c78fdecb90a5954c6f",
       "version_major": 2,
       "version_minor": 0
      },
      "text/plain": [
       "Epoch 495/2000:   0%|          | 0/29 [00:00<?, ?batch/s]"
      ]
     },
     "metadata": {},
     "output_type": "display_data"
    },
    {
     "data": {
      "application/vnd.jupyter.widget-view+json": {
       "model_id": "5c7d549609084eddaa46e6df4de57878",
       "version_major": 2,
       "version_minor": 0
      },
      "text/plain": [
       "Epoch 496/2000:   0%|          | 0/29 [00:00<?, ?batch/s]"
      ]
     },
     "metadata": {},
     "output_type": "display_data"
    },
    {
     "data": {
      "application/vnd.jupyter.widget-view+json": {
       "model_id": "400480d319c547198ce60aa3bc0fcbde",
       "version_major": 2,
       "version_minor": 0
      },
      "text/plain": [
       "Epoch 497/2000:   0%|          | 0/29 [00:00<?, ?batch/s]"
      ]
     },
     "metadata": {},
     "output_type": "display_data"
    },
    {
     "data": {
      "application/vnd.jupyter.widget-view+json": {
       "model_id": "468dceb8eceb4d858a845b043263a51f",
       "version_major": 2,
       "version_minor": 0
      },
      "text/plain": [
       "Epoch 498/2000:   0%|          | 0/29 [00:00<?, ?batch/s]"
      ]
     },
     "metadata": {},
     "output_type": "display_data"
    },
    {
     "data": {
      "application/vnd.jupyter.widget-view+json": {
       "model_id": "853feefd2156443a8bc950b185765677",
       "version_major": 2,
       "version_minor": 0
      },
      "text/plain": [
       "Epoch 499/2000:   0%|          | 0/29 [00:00<?, ?batch/s]"
      ]
     },
     "metadata": {},
     "output_type": "display_data"
    },
    {
     "data": {
      "application/vnd.jupyter.widget-view+json": {
       "model_id": "bd9604a8dded46a6bdbde9d72cce5815",
       "version_major": 2,
       "version_minor": 0
      },
      "text/plain": [
       "Epoch 500/2000:   0%|          | 0/29 [00:00<?, ?batch/s]"
      ]
     },
     "metadata": {},
     "output_type": "display_data"
    },
    {
     "data": {
      "application/vnd.jupyter.widget-view+json": {
       "model_id": "9735fd78c74645b9860e0dcffbcab857",
       "version_major": 2,
       "version_minor": 0
      },
      "text/plain": [
       "Epoch 501/2000:   0%|          | 0/29 [00:00<?, ?batch/s]"
      ]
     },
     "metadata": {},
     "output_type": "display_data"
    },
    {
     "data": {
      "application/vnd.jupyter.widget-view+json": {
       "model_id": "f7c1ed2949ab4100b7af5e00022be741",
       "version_major": 2,
       "version_minor": 0
      },
      "text/plain": [
       "Epoch 502/2000:   0%|          | 0/29 [00:00<?, ?batch/s]"
      ]
     },
     "metadata": {},
     "output_type": "display_data"
    },
    {
     "data": {
      "application/vnd.jupyter.widget-view+json": {
       "model_id": "7e5ad0bc6c1344bda7e6c45ab6f4dae1",
       "version_major": 2,
       "version_minor": 0
      },
      "text/plain": [
       "Epoch 503/2000:   0%|          | 0/29 [00:00<?, ?batch/s]"
      ]
     },
     "metadata": {},
     "output_type": "display_data"
    },
    {
     "data": {
      "application/vnd.jupyter.widget-view+json": {
       "model_id": "bf657ea294e5410391921fb32c48fa3d",
       "version_major": 2,
       "version_minor": 0
      },
      "text/plain": [
       "Epoch 504/2000:   0%|          | 0/29 [00:00<?, ?batch/s]"
      ]
     },
     "metadata": {},
     "output_type": "display_data"
    },
    {
     "data": {
      "application/vnd.jupyter.widget-view+json": {
       "model_id": "054ea0b900fe42fc9794f70c5ffe5483",
       "version_major": 2,
       "version_minor": 0
      },
      "text/plain": [
       "Epoch 505/2000:   0%|          | 0/29 [00:00<?, ?batch/s]"
      ]
     },
     "metadata": {},
     "output_type": "display_data"
    },
    {
     "data": {
      "application/vnd.jupyter.widget-view+json": {
       "model_id": "58d395df04e94b99ac8434c24fab5bfb",
       "version_major": 2,
       "version_minor": 0
      },
      "text/plain": [
       "Epoch 506/2000:   0%|          | 0/29 [00:00<?, ?batch/s]"
      ]
     },
     "metadata": {},
     "output_type": "display_data"
    },
    {
     "data": {
      "application/vnd.jupyter.widget-view+json": {
       "model_id": "527baaa8df6d4c949ca8562857559de6",
       "version_major": 2,
       "version_minor": 0
      },
      "text/plain": [
       "Epoch 507/2000:   0%|          | 0/29 [00:00<?, ?batch/s]"
      ]
     },
     "metadata": {},
     "output_type": "display_data"
    },
    {
     "data": {
      "application/vnd.jupyter.widget-view+json": {
       "model_id": "e3586aa84d4e4b95866b29280ba313f8",
       "version_major": 2,
       "version_minor": 0
      },
      "text/plain": [
       "Epoch 508/2000:   0%|          | 0/29 [00:00<?, ?batch/s]"
      ]
     },
     "metadata": {},
     "output_type": "display_data"
    },
    {
     "data": {
      "application/vnd.jupyter.widget-view+json": {
       "model_id": "86a2462efc2a43adb5aee1a4d42dd0f4",
       "version_major": 2,
       "version_minor": 0
      },
      "text/plain": [
       "Epoch 509/2000:   0%|          | 0/29 [00:00<?, ?batch/s]"
      ]
     },
     "metadata": {},
     "output_type": "display_data"
    },
    {
     "data": {
      "application/vnd.jupyter.widget-view+json": {
       "model_id": "3ff67104fe7649b7b3448b529990dbce",
       "version_major": 2,
       "version_minor": 0
      },
      "text/plain": [
       "Epoch 510/2000:   0%|          | 0/29 [00:00<?, ?batch/s]"
      ]
     },
     "metadata": {},
     "output_type": "display_data"
    },
    {
     "data": {
      "application/vnd.jupyter.widget-view+json": {
       "model_id": "91fd27031e2447949dccbf580ac4b7ec",
       "version_major": 2,
       "version_minor": 0
      },
      "text/plain": [
       "Epoch 511/2000:   0%|          | 0/29 [00:00<?, ?batch/s]"
      ]
     },
     "metadata": {},
     "output_type": "display_data"
    },
    {
     "name": "stderr",
     "output_type": "stream",
     "text": [
      "IOPub message rate exceeded.\n",
      "The Jupyter server will temporarily stop sending output\n",
      "to the client in order to avoid crashing it.\n",
      "To change this limit, set the config variable\n",
      "`--ServerApp.iopub_msg_rate_limit`.\n",
      "\n",
      "Current values:\n",
      "ServerApp.iopub_msg_rate_limit=1000.0 (msgs/sec)\n",
      "ServerApp.rate_limit_window=3.0 (secs)\n",
      "\n"
     ]
    },
    {
     "data": {
      "application/vnd.jupyter.widget-view+json": {
       "model_id": "3f6dd8a97ab74a4f83f5c659ba62ff31",
       "version_major": 2,
       "version_minor": 0
      },
      "text/plain": [
       "Epoch 520/2000:   0%|          | 0/29 [00:00<?, ?batch/s]"
      ]
     },
     "metadata": {},
     "output_type": "display_data"
    },
    {
     "data": {
      "application/vnd.jupyter.widget-view+json": {
       "model_id": "54f64e2637a3482b8e6166c2fa77a158",
       "version_major": 2,
       "version_minor": 0
      },
      "text/plain": [
       "Epoch 521/2000:   0%|          | 0/29 [00:00<?, ?batch/s]"
      ]
     },
     "metadata": {},
     "output_type": "display_data"
    },
    {
     "data": {
      "application/vnd.jupyter.widget-view+json": {
       "model_id": "0563f56d9110419da7fe15330d2c41a5",
       "version_major": 2,
       "version_minor": 0
      },
      "text/plain": [
       "Epoch 522/2000:   0%|          | 0/29 [00:00<?, ?batch/s]"
      ]
     },
     "metadata": {},
     "output_type": "display_data"
    },
    {
     "data": {
      "application/vnd.jupyter.widget-view+json": {
       "model_id": "baf6ba2be07542808461144f343d97a5",
       "version_major": 2,
       "version_minor": 0
      },
      "text/plain": [
       "Epoch 523/2000:   0%|          | 0/29 [00:00<?, ?batch/s]"
      ]
     },
     "metadata": {},
     "output_type": "display_data"
    },
    {
     "data": {
      "application/vnd.jupyter.widget-view+json": {
       "model_id": "af896d82d96c4817bb1103fbf42be70e",
       "version_major": 2,
       "version_minor": 0
      },
      "text/plain": [
       "Epoch 524/2000:   0%|          | 0/29 [00:00<?, ?batch/s]"
      ]
     },
     "metadata": {},
     "output_type": "display_data"
    },
    {
     "data": {
      "application/vnd.jupyter.widget-view+json": {
       "model_id": "a9137d05833f44148379564fe0add162",
       "version_major": 2,
       "version_minor": 0
      },
      "text/plain": [
       "Epoch 525/2000:   0%|          | 0/29 [00:00<?, ?batch/s]"
      ]
     },
     "metadata": {},
     "output_type": "display_data"
    },
    {
     "data": {
      "application/vnd.jupyter.widget-view+json": {
       "model_id": "6ff7f02fb6374776aaa116a4db163bfd",
       "version_major": 2,
       "version_minor": 0
      },
      "text/plain": [
       "Epoch 526/2000:   0%|          | 0/29 [00:00<?, ?batch/s]"
      ]
     },
     "metadata": {},
     "output_type": "display_data"
    },
    {
     "data": {
      "application/vnd.jupyter.widget-view+json": {
       "model_id": "44c6923ce18c4b4c872d388146a9135b",
       "version_major": 2,
       "version_minor": 0
      },
      "text/plain": [
       "Epoch 527/2000:   0%|          | 0/29 [00:00<?, ?batch/s]"
      ]
     },
     "metadata": {},
     "output_type": "display_data"
    },
    {
     "data": {
      "application/vnd.jupyter.widget-view+json": {
       "model_id": "5e118927ebcd4d1e9ab86d0d7860d69e",
       "version_major": 2,
       "version_minor": 0
      },
      "text/plain": [
       "Epoch 528/2000:   0%|          | 0/29 [00:00<?, ?batch/s]"
      ]
     },
     "metadata": {},
     "output_type": "display_data"
    },
    {
     "data": {
      "application/vnd.jupyter.widget-view+json": {
       "model_id": "9fc458748c00453785ae8f37658b7c46",
       "version_major": 2,
       "version_minor": 0
      },
      "text/plain": [
       "Epoch 529/2000:   0%|          | 0/29 [00:00<?, ?batch/s]"
      ]
     },
     "metadata": {},
     "output_type": "display_data"
    },
    {
     "data": {
      "application/vnd.jupyter.widget-view+json": {
       "model_id": "f015a37cba904014a5708ccc8bd831f8",
       "version_major": 2,
       "version_minor": 0
      },
      "text/plain": [
       "Epoch 530/2000:   0%|          | 0/29 [00:00<?, ?batch/s]"
      ]
     },
     "metadata": {},
     "output_type": "display_data"
    },
    {
     "data": {
      "application/vnd.jupyter.widget-view+json": {
       "model_id": "8993475746f94d4083de0ba6525e8dbc",
       "version_major": 2,
       "version_minor": 0
      },
      "text/plain": [
       "Epoch 531/2000:   0%|          | 0/29 [00:00<?, ?batch/s]"
      ]
     },
     "metadata": {},
     "output_type": "display_data"
    },
    {
     "data": {
      "application/vnd.jupyter.widget-view+json": {
       "model_id": "43fc052416824105bed23c11a038c973",
       "version_major": 2,
       "version_minor": 0
      },
      "text/plain": [
       "Epoch 532/2000:   0%|          | 0/29 [00:00<?, ?batch/s]"
      ]
     },
     "metadata": {},
     "output_type": "display_data"
    },
    {
     "data": {
      "application/vnd.jupyter.widget-view+json": {
       "model_id": "1876651f088544fabcce352cb05a4ec5",
       "version_major": 2,
       "version_minor": 0
      },
      "text/plain": [
       "Epoch 533/2000:   0%|          | 0/29 [00:00<?, ?batch/s]"
      ]
     },
     "metadata": {},
     "output_type": "display_data"
    },
    {
     "data": {
      "application/vnd.jupyter.widget-view+json": {
       "model_id": "0db0b388c9bf492b860f312195874441",
       "version_major": 2,
       "version_minor": 0
      },
      "text/plain": [
       "Epoch 534/2000:   0%|          | 0/29 [00:00<?, ?batch/s]"
      ]
     },
     "metadata": {},
     "output_type": "display_data"
    },
    {
     "data": {
      "application/vnd.jupyter.widget-view+json": {
       "model_id": "efd252fd13f64eb9b14ccca8193545c3",
       "version_major": 2,
       "version_minor": 0
      },
      "text/plain": [
       "Epoch 535/2000:   0%|          | 0/29 [00:00<?, ?batch/s]"
      ]
     },
     "metadata": {},
     "output_type": "display_data"
    },
    {
     "data": {
      "application/vnd.jupyter.widget-view+json": {
       "model_id": "9faddddf739c413fbebb42af36de6dcf",
       "version_major": 2,
       "version_minor": 0
      },
      "text/plain": [
       "Epoch 536/2000:   0%|          | 0/29 [00:00<?, ?batch/s]"
      ]
     },
     "metadata": {},
     "output_type": "display_data"
    },
    {
     "data": {
      "application/vnd.jupyter.widget-view+json": {
       "model_id": "c6814a56257242c2be272d5fad644b6d",
       "version_major": 2,
       "version_minor": 0
      },
      "text/plain": [
       "Epoch 537/2000:   0%|          | 0/29 [00:00<?, ?batch/s]"
      ]
     },
     "metadata": {},
     "output_type": "display_data"
    },
    {
     "data": {
      "application/vnd.jupyter.widget-view+json": {
       "model_id": "6376a763db8a45da8d7c2f45302ab3fc",
       "version_major": 2,
       "version_minor": 0
      },
      "text/plain": [
       "Epoch 538/2000:   0%|          | 0/29 [00:00<?, ?batch/s]"
      ]
     },
     "metadata": {},
     "output_type": "display_data"
    },
    {
     "data": {
      "application/vnd.jupyter.widget-view+json": {
       "model_id": "24fbb9bc8a354295975ab1ab791c1d28",
       "version_major": 2,
       "version_minor": 0
      },
      "text/plain": [
       "Epoch 539/2000:   0%|          | 0/29 [00:00<?, ?batch/s]"
      ]
     },
     "metadata": {},
     "output_type": "display_data"
    },
    {
     "data": {
      "application/vnd.jupyter.widget-view+json": {
       "model_id": "86e60f941a7f4eef84d469775405ad52",
       "version_major": 2,
       "version_minor": 0
      },
      "text/plain": [
       "Epoch 540/2000:   0%|          | 0/29 [00:00<?, ?batch/s]"
      ]
     },
     "metadata": {},
     "output_type": "display_data"
    },
    {
     "data": {
      "application/vnd.jupyter.widget-view+json": {
       "model_id": "840ce382f2934c73b3d57ca88e675d83",
       "version_major": 2,
       "version_minor": 0
      },
      "text/plain": [
       "Epoch 541/2000:   0%|          | 0/29 [00:00<?, ?batch/s]"
      ]
     },
     "metadata": {},
     "output_type": "display_data"
    },
    {
     "data": {
      "application/vnd.jupyter.widget-view+json": {
       "model_id": "bfd8c7fd19c1476e815212f3adf1b5c3",
       "version_major": 2,
       "version_minor": 0
      },
      "text/plain": [
       "Epoch 542/2000:   0%|          | 0/29 [00:00<?, ?batch/s]"
      ]
     },
     "metadata": {},
     "output_type": "display_data"
    },
    {
     "data": {
      "application/vnd.jupyter.widget-view+json": {
       "model_id": "a7e63eb401c441e7b558a407a7f3a3ea",
       "version_major": 2,
       "version_minor": 0
      },
      "text/plain": [
       "Epoch 543/2000:   0%|          | 0/29 [00:00<?, ?batch/s]"
      ]
     },
     "metadata": {},
     "output_type": "display_data"
    },
    {
     "data": {
      "application/vnd.jupyter.widget-view+json": {
       "model_id": "2b9b4a02155448ffbfc4971bac07e608",
       "version_major": 2,
       "version_minor": 0
      },
      "text/plain": [
       "Epoch 544/2000:   0%|          | 0/29 [00:00<?, ?batch/s]"
      ]
     },
     "metadata": {},
     "output_type": "display_data"
    },
    {
     "data": {
      "application/vnd.jupyter.widget-view+json": {
       "model_id": "77b775df4f47477ab6efb618bcf2ef76",
       "version_major": 2,
       "version_minor": 0
      },
      "text/plain": [
       "Epoch 545/2000:   0%|          | 0/29 [00:00<?, ?batch/s]"
      ]
     },
     "metadata": {},
     "output_type": "display_data"
    },
    {
     "data": {
      "application/vnd.jupyter.widget-view+json": {
       "model_id": "39268e3928a042699b88ffd3088825e4",
       "version_major": 2,
       "version_minor": 0
      },
      "text/plain": [
       "Epoch 546/2000:   0%|          | 0/29 [00:00<?, ?batch/s]"
      ]
     },
     "metadata": {},
     "output_type": "display_data"
    },
    {
     "data": {
      "application/vnd.jupyter.widget-view+json": {
       "model_id": "2efed8643f204acf97e7dd81d1da075a",
       "version_major": 2,
       "version_minor": 0
      },
      "text/plain": [
       "Epoch 547/2000:   0%|          | 0/29 [00:00<?, ?batch/s]"
      ]
     },
     "metadata": {},
     "output_type": "display_data"
    },
    {
     "data": {
      "application/vnd.jupyter.widget-view+json": {
       "model_id": "42bfb7fe7b6e4f27bd201d398196ae94",
       "version_major": 2,
       "version_minor": 0
      },
      "text/plain": [
       "Epoch 548/2000:   0%|          | 0/29 [00:00<?, ?batch/s]"
      ]
     },
     "metadata": {},
     "output_type": "display_data"
    },
    {
     "data": {
      "application/vnd.jupyter.widget-view+json": {
       "model_id": "a44c35132dbf472c967df886343b9da1",
       "version_major": 2,
       "version_minor": 0
      },
      "text/plain": [
       "Epoch 549/2000:   0%|          | 0/29 [00:00<?, ?batch/s]"
      ]
     },
     "metadata": {},
     "output_type": "display_data"
    },
    {
     "data": {
      "application/vnd.jupyter.widget-view+json": {
       "model_id": "dfbb3eaa25c048d0b4b2c618467b6ced",
       "version_major": 2,
       "version_minor": 0
      },
      "text/plain": [
       "Epoch 550/2000:   0%|          | 0/29 [00:00<?, ?batch/s]"
      ]
     },
     "metadata": {},
     "output_type": "display_data"
    },
    {
     "data": {
      "application/vnd.jupyter.widget-view+json": {
       "model_id": "349ff121307f47ebaad01616d6b91312",
       "version_major": 2,
       "version_minor": 0
      },
      "text/plain": [
       "Epoch 551/2000:   0%|          | 0/29 [00:00<?, ?batch/s]"
      ]
     },
     "metadata": {},
     "output_type": "display_data"
    },
    {
     "name": "stderr",
     "output_type": "stream",
     "text": [
      "IOPub message rate exceeded.\n",
      "The Jupyter server will temporarily stop sending output\n",
      "to the client in order to avoid crashing it.\n",
      "To change this limit, set the config variable\n",
      "`--ServerApp.iopub_msg_rate_limit`.\n",
      "\n",
      "Current values:\n",
      "ServerApp.iopub_msg_rate_limit=1000.0 (msgs/sec)\n",
      "ServerApp.rate_limit_window=3.0 (secs)\n",
      "\n"
     ]
    },
    {
     "data": {
      "application/vnd.jupyter.widget-view+json": {
       "model_id": "a427ba51e32448bbba49c34f6eabc9ea",
       "version_major": 2,
       "version_minor": 0
      },
      "text/plain": [
       "Epoch 559/2000:   0%|          | 0/29 [00:00<?, ?batch/s]"
      ]
     },
     "metadata": {},
     "output_type": "display_data"
    },
    {
     "data": {
      "application/vnd.jupyter.widget-view+json": {
       "model_id": "e8fb7f376c6540979da49e89fe99c409",
       "version_major": 2,
       "version_minor": 0
      },
      "text/plain": [
       "Epoch 560/2000:   0%|          | 0/29 [00:00<?, ?batch/s]"
      ]
     },
     "metadata": {},
     "output_type": "display_data"
    },
    {
     "data": {
      "application/vnd.jupyter.widget-view+json": {
       "model_id": "1d04595c930a43ecb89affd1642a8333",
       "version_major": 2,
       "version_minor": 0
      },
      "text/plain": [
       "Epoch 561/2000:   0%|          | 0/29 [00:00<?, ?batch/s]"
      ]
     },
     "metadata": {},
     "output_type": "display_data"
    },
    {
     "data": {
      "application/vnd.jupyter.widget-view+json": {
       "model_id": "59af8f4faf484cc89e0d909f57288b34",
       "version_major": 2,
       "version_minor": 0
      },
      "text/plain": [
       "Epoch 562/2000:   0%|          | 0/29 [00:00<?, ?batch/s]"
      ]
     },
     "metadata": {},
     "output_type": "display_data"
    },
    {
     "data": {
      "application/vnd.jupyter.widget-view+json": {
       "model_id": "0855917d274a4b7bbd13d21be3044e64",
       "version_major": 2,
       "version_minor": 0
      },
      "text/plain": [
       "Epoch 563/2000:   0%|          | 0/29 [00:00<?, ?batch/s]"
      ]
     },
     "metadata": {},
     "output_type": "display_data"
    },
    {
     "data": {
      "application/vnd.jupyter.widget-view+json": {
       "model_id": "57c3c4f99bbc4a06a8249f589fdea012",
       "version_major": 2,
       "version_minor": 0
      },
      "text/plain": [
       "Epoch 564/2000:   0%|          | 0/29 [00:00<?, ?batch/s]"
      ]
     },
     "metadata": {},
     "output_type": "display_data"
    },
    {
     "data": {
      "application/vnd.jupyter.widget-view+json": {
       "model_id": "98ae981d46b944deb2e0586bc526beef",
       "version_major": 2,
       "version_minor": 0
      },
      "text/plain": [
       "Epoch 565/2000:   0%|          | 0/29 [00:00<?, ?batch/s]"
      ]
     },
     "metadata": {},
     "output_type": "display_data"
    },
    {
     "data": {
      "application/vnd.jupyter.widget-view+json": {
       "model_id": "cfa50a90d85f4c4b98a3a976406d01b9",
       "version_major": 2,
       "version_minor": 0
      },
      "text/plain": [
       "Epoch 566/2000:   0%|          | 0/29 [00:00<?, ?batch/s]"
      ]
     },
     "metadata": {},
     "output_type": "display_data"
    },
    {
     "data": {
      "application/vnd.jupyter.widget-view+json": {
       "model_id": "20e114c808f14fe3b449f603e34d1c3b",
       "version_major": 2,
       "version_minor": 0
      },
      "text/plain": [
       "Epoch 567/2000:   0%|          | 0/29 [00:00<?, ?batch/s]"
      ]
     },
     "metadata": {},
     "output_type": "display_data"
    },
    {
     "data": {
      "application/vnd.jupyter.widget-view+json": {
       "model_id": "31a556f44dd24fb88e98d912c3c93cf8",
       "version_major": 2,
       "version_minor": 0
      },
      "text/plain": [
       "Epoch 568/2000:   0%|          | 0/29 [00:00<?, ?batch/s]"
      ]
     },
     "metadata": {},
     "output_type": "display_data"
    },
    {
     "data": {
      "application/vnd.jupyter.widget-view+json": {
       "model_id": "910ebd4386674e78a322050dbda2f833",
       "version_major": 2,
       "version_minor": 0
      },
      "text/plain": [
       "Epoch 569/2000:   0%|          | 0/29 [00:00<?, ?batch/s]"
      ]
     },
     "metadata": {},
     "output_type": "display_data"
    },
    {
     "data": {
      "application/vnd.jupyter.widget-view+json": {
       "model_id": "71f135322cd94b6b89bdad4e1b0238f3",
       "version_major": 2,
       "version_minor": 0
      },
      "text/plain": [
       "Epoch 570/2000:   0%|          | 0/29 [00:00<?, ?batch/s]"
      ]
     },
     "metadata": {},
     "output_type": "display_data"
    },
    {
     "data": {
      "application/vnd.jupyter.widget-view+json": {
       "model_id": "50393f65298a494aaf38f9b32971e9ed",
       "version_major": 2,
       "version_minor": 0
      },
      "text/plain": [
       "Epoch 571/2000:   0%|          | 0/29 [00:00<?, ?batch/s]"
      ]
     },
     "metadata": {},
     "output_type": "display_data"
    },
    {
     "data": {
      "application/vnd.jupyter.widget-view+json": {
       "model_id": "41972e7a75c9483c81e31d61d70f780f",
       "version_major": 2,
       "version_minor": 0
      },
      "text/plain": [
       "Epoch 572/2000:   0%|          | 0/29 [00:00<?, ?batch/s]"
      ]
     },
     "metadata": {},
     "output_type": "display_data"
    },
    {
     "data": {
      "application/vnd.jupyter.widget-view+json": {
       "model_id": "9d05108eb56841f69ec9885ff0a27002",
       "version_major": 2,
       "version_minor": 0
      },
      "text/plain": [
       "Epoch 573/2000:   0%|          | 0/29 [00:00<?, ?batch/s]"
      ]
     },
     "metadata": {},
     "output_type": "display_data"
    },
    {
     "data": {
      "application/vnd.jupyter.widget-view+json": {
       "model_id": "e3ffd2e53768446895f235c92c8e9077",
       "version_major": 2,
       "version_minor": 0
      },
      "text/plain": [
       "Epoch 574/2000:   0%|          | 0/29 [00:00<?, ?batch/s]"
      ]
     },
     "metadata": {},
     "output_type": "display_data"
    },
    {
     "data": {
      "application/vnd.jupyter.widget-view+json": {
       "model_id": "f4877ef276c94a94907ced5e8457642d",
       "version_major": 2,
       "version_minor": 0
      },
      "text/plain": [
       "Epoch 575/2000:   0%|          | 0/29 [00:00<?, ?batch/s]"
      ]
     },
     "metadata": {},
     "output_type": "display_data"
    },
    {
     "data": {
      "application/vnd.jupyter.widget-view+json": {
       "model_id": "c87dda2091f2423d8734b3a45557ef10",
       "version_major": 2,
       "version_minor": 0
      },
      "text/plain": [
       "Epoch 576/2000:   0%|          | 0/29 [00:00<?, ?batch/s]"
      ]
     },
     "metadata": {},
     "output_type": "display_data"
    },
    {
     "data": {
      "application/vnd.jupyter.widget-view+json": {
       "model_id": "b93bec64a5df406d8abb6e35a8688c2e",
       "version_major": 2,
       "version_minor": 0
      },
      "text/plain": [
       "Epoch 577/2000:   0%|          | 0/29 [00:00<?, ?batch/s]"
      ]
     },
     "metadata": {},
     "output_type": "display_data"
    },
    {
     "data": {
      "application/vnd.jupyter.widget-view+json": {
       "model_id": "d172ceaf8515418c93a9ac0323af0fd1",
       "version_major": 2,
       "version_minor": 0
      },
      "text/plain": [
       "Epoch 578/2000:   0%|          | 0/29 [00:00<?, ?batch/s]"
      ]
     },
     "metadata": {},
     "output_type": "display_data"
    },
    {
     "data": {
      "application/vnd.jupyter.widget-view+json": {
       "model_id": "f24015aa24954821aa6b3f6ed8de6186",
       "version_major": 2,
       "version_minor": 0
      },
      "text/plain": [
       "Epoch 579/2000:   0%|          | 0/29 [00:00<?, ?batch/s]"
      ]
     },
     "metadata": {},
     "output_type": "display_data"
    },
    {
     "data": {
      "application/vnd.jupyter.widget-view+json": {
       "model_id": "22ee7d12e9bc425c89457a88f58e7e94",
       "version_major": 2,
       "version_minor": 0
      },
      "text/plain": [
       "Epoch 580/2000:   0%|          | 0/29 [00:00<?, ?batch/s]"
      ]
     },
     "metadata": {},
     "output_type": "display_data"
    },
    {
     "data": {
      "application/vnd.jupyter.widget-view+json": {
       "model_id": "5e3152b096064bab9e8b55f1a98171f7",
       "version_major": 2,
       "version_minor": 0
      },
      "text/plain": [
       "Epoch 581/2000:   0%|          | 0/29 [00:00<?, ?batch/s]"
      ]
     },
     "metadata": {},
     "output_type": "display_data"
    },
    {
     "data": {
      "application/vnd.jupyter.widget-view+json": {
       "model_id": "c8431525da824bdf9a2a016f5e220962",
       "version_major": 2,
       "version_minor": 0
      },
      "text/plain": [
       "Epoch 582/2000:   0%|          | 0/29 [00:00<?, ?batch/s]"
      ]
     },
     "metadata": {},
     "output_type": "display_data"
    },
    {
     "data": {
      "application/vnd.jupyter.widget-view+json": {
       "model_id": "7ca70c1754274debbebc9d5def7764a7",
       "version_major": 2,
       "version_minor": 0
      },
      "text/plain": [
       "Epoch 583/2000:   0%|          | 0/29 [00:00<?, ?batch/s]"
      ]
     },
     "metadata": {},
     "output_type": "display_data"
    },
    {
     "data": {
      "application/vnd.jupyter.widget-view+json": {
       "model_id": "3c17d848b0c94d2494cb8c6bf5beaed0",
       "version_major": 2,
       "version_minor": 0
      },
      "text/plain": [
       "Epoch 584/2000:   0%|          | 0/29 [00:00<?, ?batch/s]"
      ]
     },
     "metadata": {},
     "output_type": "display_data"
    },
    {
     "data": {
      "application/vnd.jupyter.widget-view+json": {
       "model_id": "4b8e03c6385d4d3cb19626b72763c445",
       "version_major": 2,
       "version_minor": 0
      },
      "text/plain": [
       "Epoch 585/2000:   0%|          | 0/29 [00:00<?, ?batch/s]"
      ]
     },
     "metadata": {},
     "output_type": "display_data"
    },
    {
     "data": {
      "application/vnd.jupyter.widget-view+json": {
       "model_id": "3cb4f315244d429f83849799d96cfdf5",
       "version_major": 2,
       "version_minor": 0
      },
      "text/plain": [
       "Epoch 586/2000:   0%|          | 0/29 [00:00<?, ?batch/s]"
      ]
     },
     "metadata": {},
     "output_type": "display_data"
    },
    {
     "data": {
      "application/vnd.jupyter.widget-view+json": {
       "model_id": "97c20cc643fc49268b0caa72712ea22b",
       "version_major": 2,
       "version_minor": 0
      },
      "text/plain": [
       "Epoch 587/2000:   0%|          | 0/29 [00:00<?, ?batch/s]"
      ]
     },
     "metadata": {},
     "output_type": "display_data"
    },
    {
     "data": {
      "application/vnd.jupyter.widget-view+json": {
       "model_id": "20fbf1d828bf4f908a2a562ab3723c7e",
       "version_major": 2,
       "version_minor": 0
      },
      "text/plain": [
       "Epoch 588/2000:   0%|          | 0/29 [00:00<?, ?batch/s]"
      ]
     },
     "metadata": {},
     "output_type": "display_data"
    },
    {
     "data": {
      "application/vnd.jupyter.widget-view+json": {
       "model_id": "8478c59863124da79a77a94a5e32c07d",
       "version_major": 2,
       "version_minor": 0
      },
      "text/plain": [
       "Epoch 589/2000:   0%|          | 0/29 [00:00<?, ?batch/s]"
      ]
     },
     "metadata": {},
     "output_type": "display_data"
    },
    {
     "data": {
      "application/vnd.jupyter.widget-view+json": {
       "model_id": "346b6304235547cbb86c592033ac08f3",
       "version_major": 2,
       "version_minor": 0
      },
      "text/plain": [
       "Epoch 590/2000:   0%|          | 0/29 [00:00<?, ?batch/s]"
      ]
     },
     "metadata": {},
     "output_type": "display_data"
    },
    {
     "name": "stderr",
     "output_type": "stream",
     "text": [
      "IOPub message rate exceeded.\n",
      "The Jupyter server will temporarily stop sending output\n",
      "to the client in order to avoid crashing it.\n",
      "To change this limit, set the config variable\n",
      "`--ServerApp.iopub_msg_rate_limit`.\n",
      "\n",
      "Current values:\n",
      "ServerApp.iopub_msg_rate_limit=1000.0 (msgs/sec)\n",
      "ServerApp.rate_limit_window=3.0 (secs)\n",
      "\n"
     ]
    },
    {
     "data": {
      "application/vnd.jupyter.widget-view+json": {
       "model_id": "23e9d40afc534679a0656c5dea5c8a0e",
       "version_major": 2,
       "version_minor": 0
      },
      "text/plain": [
       "Epoch 597/2000:   0%|          | 0/29 [00:00<?, ?batch/s]"
      ]
     },
     "metadata": {},
     "output_type": "display_data"
    },
    {
     "data": {
      "application/vnd.jupyter.widget-view+json": {
       "model_id": "4428c69bbec24ce3be85247e165b29de",
       "version_major": 2,
       "version_minor": 0
      },
      "text/plain": [
       "Epoch 598/2000:   0%|          | 0/29 [00:00<?, ?batch/s]"
      ]
     },
     "metadata": {},
     "output_type": "display_data"
    },
    {
     "data": {
      "application/vnd.jupyter.widget-view+json": {
       "model_id": "aee6d0513b0d4a71a219b51df0d8629e",
       "version_major": 2,
       "version_minor": 0
      },
      "text/plain": [
       "Epoch 599/2000:   0%|          | 0/29 [00:00<?, ?batch/s]"
      ]
     },
     "metadata": {},
     "output_type": "display_data"
    },
    {
     "data": {
      "application/vnd.jupyter.widget-view+json": {
       "model_id": "76a805f53e89428f937a2510c5970e3f",
       "version_major": 2,
       "version_minor": 0
      },
      "text/plain": [
       "Epoch 600/2000:   0%|          | 0/29 [00:00<?, ?batch/s]"
      ]
     },
     "metadata": {},
     "output_type": "display_data"
    },
    {
     "data": {
      "application/vnd.jupyter.widget-view+json": {
       "model_id": "e5bad7d0d0fc42979692fa52ad5f4460",
       "version_major": 2,
       "version_minor": 0
      },
      "text/plain": [
       "Epoch 601/2000:   0%|          | 0/29 [00:00<?, ?batch/s]"
      ]
     },
     "metadata": {},
     "output_type": "display_data"
    },
    {
     "data": {
      "application/vnd.jupyter.widget-view+json": {
       "model_id": "e6c776c6965b4657aa07cef4751a4250",
       "version_major": 2,
       "version_minor": 0
      },
      "text/plain": [
       "Epoch 602/2000:   0%|          | 0/29 [00:00<?, ?batch/s]"
      ]
     },
     "metadata": {},
     "output_type": "display_data"
    },
    {
     "data": {
      "application/vnd.jupyter.widget-view+json": {
       "model_id": "00936e72e668402085488966276bf965",
       "version_major": 2,
       "version_minor": 0
      },
      "text/plain": [
       "Epoch 603/2000:   0%|          | 0/29 [00:00<?, ?batch/s]"
      ]
     },
     "metadata": {},
     "output_type": "display_data"
    },
    {
     "data": {
      "application/vnd.jupyter.widget-view+json": {
       "model_id": "169a6a81733644298ab9e2b30fd341f5",
       "version_major": 2,
       "version_minor": 0
      },
      "text/plain": [
       "Epoch 604/2000:   0%|          | 0/29 [00:00<?, ?batch/s]"
      ]
     },
     "metadata": {},
     "output_type": "display_data"
    },
    {
     "data": {
      "application/vnd.jupyter.widget-view+json": {
       "model_id": "0ade348ea02943c181adb4277a1e602f",
       "version_major": 2,
       "version_minor": 0
      },
      "text/plain": [
       "Epoch 605/2000:   0%|          | 0/29 [00:00<?, ?batch/s]"
      ]
     },
     "metadata": {},
     "output_type": "display_data"
    },
    {
     "data": {
      "application/vnd.jupyter.widget-view+json": {
       "model_id": "6dbc43dac53e4be688c90ae552db1192",
       "version_major": 2,
       "version_minor": 0
      },
      "text/plain": [
       "Epoch 606/2000:   0%|          | 0/29 [00:00<?, ?batch/s]"
      ]
     },
     "metadata": {},
     "output_type": "display_data"
    },
    {
     "data": {
      "application/vnd.jupyter.widget-view+json": {
       "model_id": "8de830783f9e4588aa2bcd74e436e112",
       "version_major": 2,
       "version_minor": 0
      },
      "text/plain": [
       "Epoch 607/2000:   0%|          | 0/29 [00:00<?, ?batch/s]"
      ]
     },
     "metadata": {},
     "output_type": "display_data"
    },
    {
     "data": {
      "application/vnd.jupyter.widget-view+json": {
       "model_id": "a235d4db1fcd4c7697e537582fe4280f",
       "version_major": 2,
       "version_minor": 0
      },
      "text/plain": [
       "Epoch 608/2000:   0%|          | 0/29 [00:00<?, ?batch/s]"
      ]
     },
     "metadata": {},
     "output_type": "display_data"
    },
    {
     "data": {
      "application/vnd.jupyter.widget-view+json": {
       "model_id": "6f8b9abfa43c4ad59a79ccbdfba736fe",
       "version_major": 2,
       "version_minor": 0
      },
      "text/plain": [
       "Epoch 609/2000:   0%|          | 0/29 [00:00<?, ?batch/s]"
      ]
     },
     "metadata": {},
     "output_type": "display_data"
    },
    {
     "data": {
      "application/vnd.jupyter.widget-view+json": {
       "model_id": "f22ba009d9664dc5bc6fe0cffa847c11",
       "version_major": 2,
       "version_minor": 0
      },
      "text/plain": [
       "Epoch 610/2000:   0%|          | 0/29 [00:00<?, ?batch/s]"
      ]
     },
     "metadata": {},
     "output_type": "display_data"
    },
    {
     "data": {
      "application/vnd.jupyter.widget-view+json": {
       "model_id": "6b9cd51e56f44c08b5a498ca6223b5db",
       "version_major": 2,
       "version_minor": 0
      },
      "text/plain": [
       "Epoch 611/2000:   0%|          | 0/29 [00:00<?, ?batch/s]"
      ]
     },
     "metadata": {},
     "output_type": "display_data"
    },
    {
     "data": {
      "application/vnd.jupyter.widget-view+json": {
       "model_id": "c994274798854cfaa6a5e4b5698043f4",
       "version_major": 2,
       "version_minor": 0
      },
      "text/plain": [
       "Epoch 612/2000:   0%|          | 0/29 [00:00<?, ?batch/s]"
      ]
     },
     "metadata": {},
     "output_type": "display_data"
    },
    {
     "data": {
      "application/vnd.jupyter.widget-view+json": {
       "model_id": "f72b0036727b4dd69f536a11afe86bb7",
       "version_major": 2,
       "version_minor": 0
      },
      "text/plain": [
       "Epoch 613/2000:   0%|          | 0/29 [00:00<?, ?batch/s]"
      ]
     },
     "metadata": {},
     "output_type": "display_data"
    },
    {
     "data": {
      "application/vnd.jupyter.widget-view+json": {
       "model_id": "3664769053b24f6981644736fb19a1df",
       "version_major": 2,
       "version_minor": 0
      },
      "text/plain": [
       "Epoch 614/2000:   0%|          | 0/29 [00:00<?, ?batch/s]"
      ]
     },
     "metadata": {},
     "output_type": "display_data"
    },
    {
     "data": {
      "application/vnd.jupyter.widget-view+json": {
       "model_id": "be5acae729474ee882f928bdeeda8b06",
       "version_major": 2,
       "version_minor": 0
      },
      "text/plain": [
       "Epoch 615/2000:   0%|          | 0/29 [00:00<?, ?batch/s]"
      ]
     },
     "metadata": {},
     "output_type": "display_data"
    },
    {
     "data": {
      "application/vnd.jupyter.widget-view+json": {
       "model_id": "bf215adba9684e3083733ef970190f34",
       "version_major": 2,
       "version_minor": 0
      },
      "text/plain": [
       "Epoch 616/2000:   0%|          | 0/29 [00:00<?, ?batch/s]"
      ]
     },
     "metadata": {},
     "output_type": "display_data"
    },
    {
     "data": {
      "application/vnd.jupyter.widget-view+json": {
       "model_id": "57f93513da65467f950698a527f26c35",
       "version_major": 2,
       "version_minor": 0
      },
      "text/plain": [
       "Epoch 617/2000:   0%|          | 0/29 [00:00<?, ?batch/s]"
      ]
     },
     "metadata": {},
     "output_type": "display_data"
    },
    {
     "data": {
      "application/vnd.jupyter.widget-view+json": {
       "model_id": "617fa1ad87954e7b88a4a545db1f7064",
       "version_major": 2,
       "version_minor": 0
      },
      "text/plain": [
       "Epoch 618/2000:   0%|          | 0/29 [00:00<?, ?batch/s]"
      ]
     },
     "metadata": {},
     "output_type": "display_data"
    },
    {
     "data": {
      "application/vnd.jupyter.widget-view+json": {
       "model_id": "206736e8ae934b80bf94af69f40afa2c",
       "version_major": 2,
       "version_minor": 0
      },
      "text/plain": [
       "Epoch 619/2000:   0%|          | 0/29 [00:00<?, ?batch/s]"
      ]
     },
     "metadata": {},
     "output_type": "display_data"
    },
    {
     "data": {
      "application/vnd.jupyter.widget-view+json": {
       "model_id": "09ef6bdaa90d428cb28ceaeb8e963de6",
       "version_major": 2,
       "version_minor": 0
      },
      "text/plain": [
       "Epoch 620/2000:   0%|          | 0/29 [00:00<?, ?batch/s]"
      ]
     },
     "metadata": {},
     "output_type": "display_data"
    },
    {
     "data": {
      "application/vnd.jupyter.widget-view+json": {
       "model_id": "656be7e0b95347b092933bf2b5eef858",
       "version_major": 2,
       "version_minor": 0
      },
      "text/plain": [
       "Epoch 621/2000:   0%|          | 0/29 [00:00<?, ?batch/s]"
      ]
     },
     "metadata": {},
     "output_type": "display_data"
    },
    {
     "data": {
      "application/vnd.jupyter.widget-view+json": {
       "model_id": "45214cff3b114cd2b577b3a6da03d409",
       "version_major": 2,
       "version_minor": 0
      },
      "text/plain": [
       "Epoch 622/2000:   0%|          | 0/29 [00:00<?, ?batch/s]"
      ]
     },
     "metadata": {},
     "output_type": "display_data"
    },
    {
     "data": {
      "application/vnd.jupyter.widget-view+json": {
       "model_id": "358edcd1641345aab9e499126d1ace52",
       "version_major": 2,
       "version_minor": 0
      },
      "text/plain": [
       "Epoch 623/2000:   0%|          | 0/29 [00:00<?, ?batch/s]"
      ]
     },
     "metadata": {},
     "output_type": "display_data"
    },
    {
     "data": {
      "application/vnd.jupyter.widget-view+json": {
       "model_id": "df3a7c04cd204e01ac1764a895b3242a",
       "version_major": 2,
       "version_minor": 0
      },
      "text/plain": [
       "Epoch 624/2000:   0%|          | 0/29 [00:00<?, ?batch/s]"
      ]
     },
     "metadata": {},
     "output_type": "display_data"
    },
    {
     "data": {
      "application/vnd.jupyter.widget-view+json": {
       "model_id": "e9b7085d1b33429384368e48486b1ebd",
       "version_major": 2,
       "version_minor": 0
      },
      "text/plain": [
       "Epoch 625/2000:   0%|          | 0/29 [00:00<?, ?batch/s]"
      ]
     },
     "metadata": {},
     "output_type": "display_data"
    },
    {
     "data": {
      "application/vnd.jupyter.widget-view+json": {
       "model_id": "3a6763957734407881ba1d3b94e22ed0",
       "version_major": 2,
       "version_minor": 0
      },
      "text/plain": [
       "Epoch 626/2000:   0%|          | 0/29 [00:00<?, ?batch/s]"
      ]
     },
     "metadata": {},
     "output_type": "display_data"
    },
    {
     "data": {
      "application/vnd.jupyter.widget-view+json": {
       "model_id": "8e919186e20e42349c8b5b7d14a89550",
       "version_major": 2,
       "version_minor": 0
      },
      "text/plain": [
       "Epoch 627/2000:   0%|          | 0/29 [00:00<?, ?batch/s]"
      ]
     },
     "metadata": {},
     "output_type": "display_data"
    },
    {
     "data": {
      "application/vnd.jupyter.widget-view+json": {
       "model_id": "71ffe2fa08924307bedbbcfd80d47445",
       "version_major": 2,
       "version_minor": 0
      },
      "text/plain": [
       "Epoch 628/2000:   0%|          | 0/29 [00:00<?, ?batch/s]"
      ]
     },
     "metadata": {},
     "output_type": "display_data"
    },
    {
     "data": {
      "application/vnd.jupyter.widget-view+json": {
       "model_id": "b706355eaf904bb2a35d5b71f8fddf8e",
       "version_major": 2,
       "version_minor": 0
      },
      "text/plain": [
       "Epoch 629/2000:   0%|          | 0/29 [00:00<?, ?batch/s]"
      ]
     },
     "metadata": {},
     "output_type": "display_data"
    },
    {
     "data": {
      "application/vnd.jupyter.widget-view+json": {
       "model_id": "05d19c9ad75a48e3a2ee7065c53f193c",
       "version_major": 2,
       "version_minor": 0
      },
      "text/plain": [
       "Epoch 630/2000:   0%|          | 0/29 [00:00<?, ?batch/s]"
      ]
     },
     "metadata": {},
     "output_type": "display_data"
    },
    {
     "data": {
      "application/vnd.jupyter.widget-view+json": {
       "model_id": "7e9ee8ed5ee64d879f72c510a3e1217a",
       "version_major": 2,
       "version_minor": 0
      },
      "text/plain": [
       "Epoch 631/2000:   0%|          | 0/29 [00:00<?, ?batch/s]"
      ]
     },
     "metadata": {},
     "output_type": "display_data"
    },
    {
     "data": {
      "application/vnd.jupyter.widget-view+json": {
       "model_id": "e815a50101bb435aacb6c4d7c917696b",
       "version_major": 2,
       "version_minor": 0
      },
      "text/plain": [
       "Epoch 632/2000:   0%|          | 0/29 [00:00<?, ?batch/s]"
      ]
     },
     "metadata": {},
     "output_type": "display_data"
    },
    {
     "data": {
      "application/vnd.jupyter.widget-view+json": {
       "model_id": "d70623c11d8e4653beff4a162faf8f30",
       "version_major": 2,
       "version_minor": 0
      },
      "text/plain": [
       "Epoch 633/2000:   0%|          | 0/29 [00:00<?, ?batch/s]"
      ]
     },
     "metadata": {},
     "output_type": "display_data"
    },
    {
     "data": {
      "application/vnd.jupyter.widget-view+json": {
       "model_id": "9b0b6a8c82884267840ab5f7ecc5b59d",
       "version_major": 2,
       "version_minor": 0
      },
      "text/plain": [
       "Epoch 634/2000:   0%|          | 0/29 [00:00<?, ?batch/s]"
      ]
     },
     "metadata": {},
     "output_type": "display_data"
    },
    {
     "data": {
      "application/vnd.jupyter.widget-view+json": {
       "model_id": "4f1421e27f724159a1ddcb781d7aba96",
       "version_major": 2,
       "version_minor": 0
      },
      "text/plain": [
       "Epoch 635/2000:   0%|          | 0/29 [00:00<?, ?batch/s]"
      ]
     },
     "metadata": {},
     "output_type": "display_data"
    },
    {
     "data": {
      "application/vnd.jupyter.widget-view+json": {
       "model_id": "800eaf2dff4c43afa0bbf53e60840eb6",
       "version_major": 2,
       "version_minor": 0
      },
      "text/plain": [
       "Epoch 636/2000:   0%|          | 0/29 [00:00<?, ?batch/s]"
      ]
     },
     "metadata": {},
     "output_type": "display_data"
    },
    {
     "data": {
      "application/vnd.jupyter.widget-view+json": {
       "model_id": "1afcd922b9994d5b8d32eff7c94e7ad8",
       "version_major": 2,
       "version_minor": 0
      },
      "text/plain": [
       "Epoch 637/2000:   0%|          | 0/29 [00:00<?, ?batch/s]"
      ]
     },
     "metadata": {},
     "output_type": "display_data"
    },
    {
     "data": {
      "application/vnd.jupyter.widget-view+json": {
       "model_id": "570ed8f9b6254082bdd7acf79bd2e3c3",
       "version_major": 2,
       "version_minor": 0
      },
      "text/plain": [
       "Epoch 638/2000:   0%|          | 0/29 [00:00<?, ?batch/s]"
      ]
     },
     "metadata": {},
     "output_type": "display_data"
    },
    {
     "data": {
      "application/vnd.jupyter.widget-view+json": {
       "model_id": "0665cac431fe4abd98a1eee82c84aee9",
       "version_major": 2,
       "version_minor": 0
      },
      "text/plain": [
       "Epoch 639/2000:   0%|          | 0/29 [00:00<?, ?batch/s]"
      ]
     },
     "metadata": {},
     "output_type": "display_data"
    },
    {
     "data": {
      "application/vnd.jupyter.widget-view+json": {
       "model_id": "5bda514f3e0046bba9f074dca867575b",
       "version_major": 2,
       "version_minor": 0
      },
      "text/plain": [
       "Epoch 640/2000:   0%|          | 0/29 [00:00<?, ?batch/s]"
      ]
     },
     "metadata": {},
     "output_type": "display_data"
    },
    {
     "data": {
      "application/vnd.jupyter.widget-view+json": {
       "model_id": "2595285980424bd5b37e9110de4a6afd",
       "version_major": 2,
       "version_minor": 0
      },
      "text/plain": [
       "Epoch 641/2000:   0%|          | 0/29 [00:00<?, ?batch/s]"
      ]
     },
     "metadata": {},
     "output_type": "display_data"
    },
    {
     "name": "stderr",
     "output_type": "stream",
     "text": [
      "IOPub message rate exceeded.\n",
      "The Jupyter server will temporarily stop sending output\n",
      "to the client in order to avoid crashing it.\n",
      "To change this limit, set the config variable\n",
      "`--ServerApp.iopub_msg_rate_limit`.\n",
      "\n",
      "Current values:\n",
      "ServerApp.iopub_msg_rate_limit=1000.0 (msgs/sec)\n",
      "ServerApp.rate_limit_window=3.0 (secs)\n",
      "\n"
     ]
    },
    {
     "data": {
      "application/vnd.jupyter.widget-view+json": {
       "model_id": "83b6b4a0567f4ec3b0d68c1379a8324b",
       "version_major": 2,
       "version_minor": 0
      },
      "text/plain": [
       "Epoch 649/2000:   0%|          | 0/29 [00:00<?, ?batch/s]"
      ]
     },
     "metadata": {},
     "output_type": "display_data"
    },
    {
     "data": {
      "application/vnd.jupyter.widget-view+json": {
       "model_id": "9276d6dd1c7e400ea122600855349ef2",
       "version_major": 2,
       "version_minor": 0
      },
      "text/plain": [
       "Epoch 650/2000:   0%|          | 0/29 [00:00<?, ?batch/s]"
      ]
     },
     "metadata": {},
     "output_type": "display_data"
    },
    {
     "data": {
      "application/vnd.jupyter.widget-view+json": {
       "model_id": "4e37127b09604f65a4d2be82eec0374a",
       "version_major": 2,
       "version_minor": 0
      },
      "text/plain": [
       "Epoch 651/2000:   0%|          | 0/29 [00:00<?, ?batch/s]"
      ]
     },
     "metadata": {},
     "output_type": "display_data"
    },
    {
     "data": {
      "application/vnd.jupyter.widget-view+json": {
       "model_id": "0e52956e9d3644659b9874faa9337347",
       "version_major": 2,
       "version_minor": 0
      },
      "text/plain": [
       "Epoch 652/2000:   0%|          | 0/29 [00:00<?, ?batch/s]"
      ]
     },
     "metadata": {},
     "output_type": "display_data"
    },
    {
     "data": {
      "application/vnd.jupyter.widget-view+json": {
       "model_id": "1e09f4430a05490dacbf3a2ec4a25142",
       "version_major": 2,
       "version_minor": 0
      },
      "text/plain": [
       "Epoch 653/2000:   0%|          | 0/29 [00:00<?, ?batch/s]"
      ]
     },
     "metadata": {},
     "output_type": "display_data"
    },
    {
     "data": {
      "application/vnd.jupyter.widget-view+json": {
       "model_id": "acb340439ab74ff9a3da764299286acc",
       "version_major": 2,
       "version_minor": 0
      },
      "text/plain": [
       "Epoch 654/2000:   0%|          | 0/29 [00:00<?, ?batch/s]"
      ]
     },
     "metadata": {},
     "output_type": "display_data"
    },
    {
     "data": {
      "application/vnd.jupyter.widget-view+json": {
       "model_id": "6f925c8b21f74811b1506e1e0884cdfe",
       "version_major": 2,
       "version_minor": 0
      },
      "text/plain": [
       "Epoch 655/2000:   0%|          | 0/29 [00:00<?, ?batch/s]"
      ]
     },
     "metadata": {},
     "output_type": "display_data"
    },
    {
     "data": {
      "application/vnd.jupyter.widget-view+json": {
       "model_id": "443e2bc6981d48f2a2143dec678785e1",
       "version_major": 2,
       "version_minor": 0
      },
      "text/plain": [
       "Epoch 656/2000:   0%|          | 0/29 [00:00<?, ?batch/s]"
      ]
     },
     "metadata": {},
     "output_type": "display_data"
    },
    {
     "data": {
      "application/vnd.jupyter.widget-view+json": {
       "model_id": "96123b9af5ba477795a32d9cc29ba421",
       "version_major": 2,
       "version_minor": 0
      },
      "text/plain": [
       "Epoch 657/2000:   0%|          | 0/29 [00:00<?, ?batch/s]"
      ]
     },
     "metadata": {},
     "output_type": "display_data"
    },
    {
     "data": {
      "application/vnd.jupyter.widget-view+json": {
       "model_id": "f9ef3c49af514dcea56d096d69cd7594",
       "version_major": 2,
       "version_minor": 0
      },
      "text/plain": [
       "Epoch 658/2000:   0%|          | 0/29 [00:00<?, ?batch/s]"
      ]
     },
     "metadata": {},
     "output_type": "display_data"
    },
    {
     "data": {
      "application/vnd.jupyter.widget-view+json": {
       "model_id": "e7b6ddb0e52e4e6bab8c8eab5c3e5471",
       "version_major": 2,
       "version_minor": 0
      },
      "text/plain": [
       "Epoch 659/2000:   0%|          | 0/29 [00:00<?, ?batch/s]"
      ]
     },
     "metadata": {},
     "output_type": "display_data"
    },
    {
     "data": {
      "application/vnd.jupyter.widget-view+json": {
       "model_id": "2b6b574393d240559f1abc5a82dc6d87",
       "version_major": 2,
       "version_minor": 0
      },
      "text/plain": [
       "Epoch 660/2000:   0%|          | 0/29 [00:00<?, ?batch/s]"
      ]
     },
     "metadata": {},
     "output_type": "display_data"
    },
    {
     "data": {
      "application/vnd.jupyter.widget-view+json": {
       "model_id": "4078100397a6471e9d2ba8d16ecae733",
       "version_major": 2,
       "version_minor": 0
      },
      "text/plain": [
       "Epoch 661/2000:   0%|          | 0/29 [00:00<?, ?batch/s]"
      ]
     },
     "metadata": {},
     "output_type": "display_data"
    },
    {
     "data": {
      "application/vnd.jupyter.widget-view+json": {
       "model_id": "dd5ef6e470ea47b9a9f323f7c8b56451",
       "version_major": 2,
       "version_minor": 0
      },
      "text/plain": [
       "Epoch 662/2000:   0%|          | 0/29 [00:00<?, ?batch/s]"
      ]
     },
     "metadata": {},
     "output_type": "display_data"
    },
    {
     "data": {
      "application/vnd.jupyter.widget-view+json": {
       "model_id": "6b26ee0d44834d9c8366a3edcbb10891",
       "version_major": 2,
       "version_minor": 0
      },
      "text/plain": [
       "Epoch 663/2000:   0%|          | 0/29 [00:00<?, ?batch/s]"
      ]
     },
     "metadata": {},
     "output_type": "display_data"
    },
    {
     "data": {
      "application/vnd.jupyter.widget-view+json": {
       "model_id": "f75a4e7c01034611928b533f12f88ecd",
       "version_major": 2,
       "version_minor": 0
      },
      "text/plain": [
       "Epoch 664/2000:   0%|          | 0/29 [00:00<?, ?batch/s]"
      ]
     },
     "metadata": {},
     "output_type": "display_data"
    },
    {
     "data": {
      "application/vnd.jupyter.widget-view+json": {
       "model_id": "a1025279a477441eb5f3c06f921af7e5",
       "version_major": 2,
       "version_minor": 0
      },
      "text/plain": [
       "Epoch 665/2000:   0%|          | 0/29 [00:00<?, ?batch/s]"
      ]
     },
     "metadata": {},
     "output_type": "display_data"
    },
    {
     "data": {
      "application/vnd.jupyter.widget-view+json": {
       "model_id": "6bbdfae316d84aa0a9e90cf343e8c580",
       "version_major": 2,
       "version_minor": 0
      },
      "text/plain": [
       "Epoch 666/2000:   0%|          | 0/29 [00:00<?, ?batch/s]"
      ]
     },
     "metadata": {},
     "output_type": "display_data"
    },
    {
     "data": {
      "application/vnd.jupyter.widget-view+json": {
       "model_id": "b529e1f16ec24d7da3d6a3cb435d4f09",
       "version_major": 2,
       "version_minor": 0
      },
      "text/plain": [
       "Epoch 667/2000:   0%|          | 0/29 [00:00<?, ?batch/s]"
      ]
     },
     "metadata": {},
     "output_type": "display_data"
    },
    {
     "data": {
      "application/vnd.jupyter.widget-view+json": {
       "model_id": "f6dfd8b7473544758fee58310ea57d0f",
       "version_major": 2,
       "version_minor": 0
      },
      "text/plain": [
       "Epoch 668/2000:   0%|          | 0/29 [00:00<?, ?batch/s]"
      ]
     },
     "metadata": {},
     "output_type": "display_data"
    },
    {
     "data": {
      "application/vnd.jupyter.widget-view+json": {
       "model_id": "bb8aac3a16f94a0bb90f474a899f05d4",
       "version_major": 2,
       "version_minor": 0
      },
      "text/plain": [
       "Epoch 669/2000:   0%|          | 0/29 [00:00<?, ?batch/s]"
      ]
     },
     "metadata": {},
     "output_type": "display_data"
    },
    {
     "data": {
      "application/vnd.jupyter.widget-view+json": {
       "model_id": "7e7229ebab6f41ca84cdcf493b8b7edd",
       "version_major": 2,
       "version_minor": 0
      },
      "text/plain": [
       "Epoch 670/2000:   0%|          | 0/29 [00:00<?, ?batch/s]"
      ]
     },
     "metadata": {},
     "output_type": "display_data"
    },
    {
     "data": {
      "application/vnd.jupyter.widget-view+json": {
       "model_id": "353f545c90f84d3eba25745237c545a0",
       "version_major": 2,
       "version_minor": 0
      },
      "text/plain": [
       "Epoch 671/2000:   0%|          | 0/29 [00:00<?, ?batch/s]"
      ]
     },
     "metadata": {},
     "output_type": "display_data"
    },
    {
     "data": {
      "application/vnd.jupyter.widget-view+json": {
       "model_id": "39ab5f87421742fb86655e4e9f734564",
       "version_major": 2,
       "version_minor": 0
      },
      "text/plain": [
       "Epoch 672/2000:   0%|          | 0/29 [00:00<?, ?batch/s]"
      ]
     },
     "metadata": {},
     "output_type": "display_data"
    },
    {
     "data": {
      "application/vnd.jupyter.widget-view+json": {
       "model_id": "c23ab5a7a49d43f2a7b413e1fb749a05",
       "version_major": 2,
       "version_minor": 0
      },
      "text/plain": [
       "Epoch 673/2000:   0%|          | 0/29 [00:00<?, ?batch/s]"
      ]
     },
     "metadata": {},
     "output_type": "display_data"
    },
    {
     "data": {
      "application/vnd.jupyter.widget-view+json": {
       "model_id": "33fde02ece854235a3685213198b026c",
       "version_major": 2,
       "version_minor": 0
      },
      "text/plain": [
       "Epoch 674/2000:   0%|          | 0/29 [00:00<?, ?batch/s]"
      ]
     },
     "metadata": {},
     "output_type": "display_data"
    },
    {
     "data": {
      "application/vnd.jupyter.widget-view+json": {
       "model_id": "b67f967f6d624592addd986813fcbea0",
       "version_major": 2,
       "version_minor": 0
      },
      "text/plain": [
       "Epoch 675/2000:   0%|          | 0/29 [00:00<?, ?batch/s]"
      ]
     },
     "metadata": {},
     "output_type": "display_data"
    },
    {
     "data": {
      "application/vnd.jupyter.widget-view+json": {
       "model_id": "90b0e1aaba9d42a29bbb0f4a8e813362",
       "version_major": 2,
       "version_minor": 0
      },
      "text/plain": [
       "Epoch 676/2000:   0%|          | 0/29 [00:00<?, ?batch/s]"
      ]
     },
     "metadata": {},
     "output_type": "display_data"
    },
    {
     "data": {
      "application/vnd.jupyter.widget-view+json": {
       "model_id": "6000620dbbbb48d0add20ffa9ab83b2e",
       "version_major": 2,
       "version_minor": 0
      },
      "text/plain": [
       "Epoch 677/2000:   0%|          | 0/29 [00:00<?, ?batch/s]"
      ]
     },
     "metadata": {},
     "output_type": "display_data"
    },
    {
     "data": {
      "application/vnd.jupyter.widget-view+json": {
       "model_id": "383d07b758694f6a83323b0466320356",
       "version_major": 2,
       "version_minor": 0
      },
      "text/plain": [
       "Epoch 678/2000:   0%|          | 0/29 [00:00<?, ?batch/s]"
      ]
     },
     "metadata": {},
     "output_type": "display_data"
    },
    {
     "data": {
      "application/vnd.jupyter.widget-view+json": {
       "model_id": "5fc7f3b1fafc470fb39dbb1b82314fb2",
       "version_major": 2,
       "version_minor": 0
      },
      "text/plain": [
       "Epoch 679/2000:   0%|          | 0/29 [00:00<?, ?batch/s]"
      ]
     },
     "metadata": {},
     "output_type": "display_data"
    },
    {
     "data": {
      "application/vnd.jupyter.widget-view+json": {
       "model_id": "448e9bb8dddb47b0b616e11f61d6d917",
       "version_major": 2,
       "version_minor": 0
      },
      "text/plain": [
       "Epoch 680/2000:   0%|          | 0/29 [00:00<?, ?batch/s]"
      ]
     },
     "metadata": {},
     "output_type": "display_data"
    },
    {
     "data": {
      "application/vnd.jupyter.widget-view+json": {
       "model_id": "29b48be4495347228b5b2685dee65f53",
       "version_major": 2,
       "version_minor": 0
      },
      "text/plain": [
       "Epoch 681/2000:   0%|          | 0/29 [00:00<?, ?batch/s]"
      ]
     },
     "metadata": {},
     "output_type": "display_data"
    },
    {
     "data": {
      "application/vnd.jupyter.widget-view+json": {
       "model_id": "6b64d79a4609412c95f35f9291c86b89",
       "version_major": 2,
       "version_minor": 0
      },
      "text/plain": [
       "Epoch 682/2000:   0%|          | 0/29 [00:00<?, ?batch/s]"
      ]
     },
     "metadata": {},
     "output_type": "display_data"
    },
    {
     "data": {
      "application/vnd.jupyter.widget-view+json": {
       "model_id": "109cd48667274944b15c1bbf74ed582b",
       "version_major": 2,
       "version_minor": 0
      },
      "text/plain": [
       "Epoch 683/2000:   0%|          | 0/29 [00:00<?, ?batch/s]"
      ]
     },
     "metadata": {},
     "output_type": "display_data"
    },
    {
     "data": {
      "application/vnd.jupyter.widget-view+json": {
       "model_id": "fe8e89c399984d9a9baa285963cac979",
       "version_major": 2,
       "version_minor": 0
      },
      "text/plain": [
       "Epoch 684/2000:   0%|          | 0/29 [00:00<?, ?batch/s]"
      ]
     },
     "metadata": {},
     "output_type": "display_data"
    },
    {
     "data": {
      "application/vnd.jupyter.widget-view+json": {
       "model_id": "a58b00bc5fc8489fa571a360b57e8e72",
       "version_major": 2,
       "version_minor": 0
      },
      "text/plain": [
       "Epoch 685/2000:   0%|          | 0/29 [00:00<?, ?batch/s]"
      ]
     },
     "metadata": {},
     "output_type": "display_data"
    },
    {
     "data": {
      "application/vnd.jupyter.widget-view+json": {
       "model_id": "993e58707f934927b00387f29ca9d221",
       "version_major": 2,
       "version_minor": 0
      },
      "text/plain": [
       "Epoch 686/2000:   0%|          | 0/29 [00:00<?, ?batch/s]"
      ]
     },
     "metadata": {},
     "output_type": "display_data"
    },
    {
     "data": {
      "application/vnd.jupyter.widget-view+json": {
       "model_id": "c49df61913f74ce684e244c94ad36ed8",
       "version_major": 2,
       "version_minor": 0
      },
      "text/plain": [
       "Epoch 687/2000:   0%|          | 0/29 [00:00<?, ?batch/s]"
      ]
     },
     "metadata": {},
     "output_type": "display_data"
    },
    {
     "data": {
      "application/vnd.jupyter.widget-view+json": {
       "model_id": "ef7319e2b58947b5be0c8e2d04ccc0b5",
       "version_major": 2,
       "version_minor": 0
      },
      "text/plain": [
       "Epoch 688/2000:   0%|          | 0/29 [00:00<?, ?batch/s]"
      ]
     },
     "metadata": {},
     "output_type": "display_data"
    },
    {
     "data": {
      "application/vnd.jupyter.widget-view+json": {
       "model_id": "537ed6124f8040ec8c0059f3a7b12f82",
       "version_major": 2,
       "version_minor": 0
      },
      "text/plain": [
       "Epoch 689/2000:   0%|          | 0/29 [00:00<?, ?batch/s]"
      ]
     },
     "metadata": {},
     "output_type": "display_data"
    },
    {
     "data": {
      "application/vnd.jupyter.widget-view+json": {
       "model_id": "009d5370d689467eb5b027afb67bacd0",
       "version_major": 2,
       "version_minor": 0
      },
      "text/plain": [
       "Epoch 690/2000:   0%|          | 0/29 [00:00<?, ?batch/s]"
      ]
     },
     "metadata": {},
     "output_type": "display_data"
    },
    {
     "data": {
      "application/vnd.jupyter.widget-view+json": {
       "model_id": "48634641a2ba405487b504b7dbe01bb5",
       "version_major": 2,
       "version_minor": 0
      },
      "text/plain": [
       "Epoch 691/2000:   0%|          | 0/29 [00:00<?, ?batch/s]"
      ]
     },
     "metadata": {},
     "output_type": "display_data"
    },
    {
     "data": {
      "application/vnd.jupyter.widget-view+json": {
       "model_id": "5df537115fce491aa1be5693e74a0483",
       "version_major": 2,
       "version_minor": 0
      },
      "text/plain": [
       "Epoch 692/2000:   0%|          | 0/29 [00:00<?, ?batch/s]"
      ]
     },
     "metadata": {},
     "output_type": "display_data"
    },
    {
     "data": {
      "application/vnd.jupyter.widget-view+json": {
       "model_id": "61e00935679a4ef0b046bd7dd78401da",
       "version_major": 2,
       "version_minor": 0
      },
      "text/plain": [
       "Epoch 693/2000:   0%|          | 0/29 [00:00<?, ?batch/s]"
      ]
     },
     "metadata": {},
     "output_type": "display_data"
    },
    {
     "data": {
      "application/vnd.jupyter.widget-view+json": {
       "model_id": "5cd8fac8cb0a4012b58460b11476bbc3",
       "version_major": 2,
       "version_minor": 0
      },
      "text/plain": [
       "Epoch 694/2000:   0%|          | 0/29 [00:00<?, ?batch/s]"
      ]
     },
     "metadata": {},
     "output_type": "display_data"
    },
    {
     "data": {
      "application/vnd.jupyter.widget-view+json": {
       "model_id": "c74cd923b459467e94d691c9790e8380",
       "version_major": 2,
       "version_minor": 0
      },
      "text/plain": [
       "Epoch 695/2000:   0%|          | 0/29 [00:00<?, ?batch/s]"
      ]
     },
     "metadata": {},
     "output_type": "display_data"
    },
    {
     "data": {
      "application/vnd.jupyter.widget-view+json": {
       "model_id": "d179f8d149c04f9d90e237ae385ab930",
       "version_major": 2,
       "version_minor": 0
      },
      "text/plain": [
       "Epoch 696/2000:   0%|          | 0/29 [00:00<?, ?batch/s]"
      ]
     },
     "metadata": {},
     "output_type": "display_data"
    },
    {
     "data": {
      "application/vnd.jupyter.widget-view+json": {
       "model_id": "1655d4fa9ba942658806b5de6b71757d",
       "version_major": 2,
       "version_minor": 0
      },
      "text/plain": [
       "Epoch 697/2000:   0%|          | 0/29 [00:00<?, ?batch/s]"
      ]
     },
     "metadata": {},
     "output_type": "display_data"
    },
    {
     "data": {
      "application/vnd.jupyter.widget-view+json": {
       "model_id": "5be829134d624e1cb1464bb3a8d8029a",
       "version_major": 2,
       "version_minor": 0
      },
      "text/plain": [
       "Epoch 698/2000:   0%|          | 0/29 [00:00<?, ?batch/s]"
      ]
     },
     "metadata": {},
     "output_type": "display_data"
    },
    {
     "data": {
      "application/vnd.jupyter.widget-view+json": {
       "model_id": "c924624623714d2297951deaf3fd9a60",
       "version_major": 2,
       "version_minor": 0
      },
      "text/plain": [
       "Epoch 699/2000:   0%|          | 0/29 [00:00<?, ?batch/s]"
      ]
     },
     "metadata": {},
     "output_type": "display_data"
    },
    {
     "data": {
      "application/vnd.jupyter.widget-view+json": {
       "model_id": "c07f99c582ac41dc82351301d98708e3",
       "version_major": 2,
       "version_minor": 0
      },
      "text/plain": [
       "Epoch 700/2000:   0%|          | 0/29 [00:00<?, ?batch/s]"
      ]
     },
     "metadata": {},
     "output_type": "display_data"
    },
    {
     "data": {
      "application/vnd.jupyter.widget-view+json": {
       "model_id": "d4c0ee39b4b743f8ba81447a952ea4ee",
       "version_major": 2,
       "version_minor": 0
      },
      "text/plain": [
       "Epoch 701/2000:   0%|          | 0/29 [00:00<?, ?batch/s]"
      ]
     },
     "metadata": {},
     "output_type": "display_data"
    },
    {
     "data": {
      "application/vnd.jupyter.widget-view+json": {
       "model_id": "892979edbab3458d8bb90235f5698b63",
       "version_major": 2,
       "version_minor": 0
      },
      "text/plain": [
       "Epoch 702/2000:   0%|          | 0/29 [00:00<?, ?batch/s]"
      ]
     },
     "metadata": {},
     "output_type": "display_data"
    },
    {
     "data": {
      "application/vnd.jupyter.widget-view+json": {
       "model_id": "d7dd9035f6594faf9301065519b3dbdf",
       "version_major": 2,
       "version_minor": 0
      },
      "text/plain": [
       "Epoch 703/2000:   0%|          | 0/29 [00:00<?, ?batch/s]"
      ]
     },
     "metadata": {},
     "output_type": "display_data"
    },
    {
     "data": {
      "application/vnd.jupyter.widget-view+json": {
       "model_id": "82e3f607cefb49a386a89bede0d9746f",
       "version_major": 2,
       "version_minor": 0
      },
      "text/plain": [
       "Epoch 704/2000:   0%|          | 0/29 [00:00<?, ?batch/s]"
      ]
     },
     "metadata": {},
     "output_type": "display_data"
    },
    {
     "data": {
      "application/vnd.jupyter.widget-view+json": {
       "model_id": "9beeecfe9a384000844f601da1318aea",
       "version_major": 2,
       "version_minor": 0
      },
      "text/plain": [
       "Epoch 705/2000:   0%|          | 0/29 [00:00<?, ?batch/s]"
      ]
     },
     "metadata": {},
     "output_type": "display_data"
    },
    {
     "data": {
      "application/vnd.jupyter.widget-view+json": {
       "model_id": "7cead127e2134591919a2153b84a0cae",
       "version_major": 2,
       "version_minor": 0
      },
      "text/plain": [
       "Epoch 706/2000:   0%|          | 0/29 [00:00<?, ?batch/s]"
      ]
     },
     "metadata": {},
     "output_type": "display_data"
    },
    {
     "data": {
      "application/vnd.jupyter.widget-view+json": {
       "model_id": "248239dfa9b449bcbf9b743cfb49a9ce",
       "version_major": 2,
       "version_minor": 0
      },
      "text/plain": [
       "Epoch 707/2000:   0%|          | 0/29 [00:00<?, ?batch/s]"
      ]
     },
     "metadata": {},
     "output_type": "display_data"
    },
    {
     "data": {
      "application/vnd.jupyter.widget-view+json": {
       "model_id": "c66edf6b2229421da5b98a31b7fffdaf",
       "version_major": 2,
       "version_minor": 0
      },
      "text/plain": [
       "Epoch 708/2000:   0%|          | 0/29 [00:00<?, ?batch/s]"
      ]
     },
     "metadata": {},
     "output_type": "display_data"
    },
    {
     "data": {
      "application/vnd.jupyter.widget-view+json": {
       "model_id": "cfc9ec0a4b3f4e9b937eeb9643b6a9e0",
       "version_major": 2,
       "version_minor": 0
      },
      "text/plain": [
       "Epoch 709/2000:   0%|          | 0/29 [00:00<?, ?batch/s]"
      ]
     },
     "metadata": {},
     "output_type": "display_data"
    },
    {
     "data": {
      "application/vnd.jupyter.widget-view+json": {
       "model_id": "f312744b5721458bb48eff8d3eb26d5a",
       "version_major": 2,
       "version_minor": 0
      },
      "text/plain": [
       "Epoch 710/2000:   0%|          | 0/29 [00:00<?, ?batch/s]"
      ]
     },
     "metadata": {},
     "output_type": "display_data"
    },
    {
     "data": {
      "application/vnd.jupyter.widget-view+json": {
       "model_id": "4653e3bfdf0f4b9bbcf6e6239bedea67",
       "version_major": 2,
       "version_minor": 0
      },
      "text/plain": [
       "Epoch 711/2000:   0%|          | 0/29 [00:00<?, ?batch/s]"
      ]
     },
     "metadata": {},
     "output_type": "display_data"
    },
    {
     "data": {
      "application/vnd.jupyter.widget-view+json": {
       "model_id": "85a49eaf461d469b9363d764ba3f4516",
       "version_major": 2,
       "version_minor": 0
      },
      "text/plain": [
       "Epoch 712/2000:   0%|          | 0/29 [00:00<?, ?batch/s]"
      ]
     },
     "metadata": {},
     "output_type": "display_data"
    },
    {
     "data": {
      "application/vnd.jupyter.widget-view+json": {
       "model_id": "74984c280dc4400e901155b45122feea",
       "version_major": 2,
       "version_minor": 0
      },
      "text/plain": [
       "Epoch 713/2000:   0%|          | 0/29 [00:00<?, ?batch/s]"
      ]
     },
     "metadata": {},
     "output_type": "display_data"
    },
    {
     "data": {
      "application/vnd.jupyter.widget-view+json": {
       "model_id": "3b9734455f2849ebb5a08391efa2247e",
       "version_major": 2,
       "version_minor": 0
      },
      "text/plain": [
       "Epoch 714/2000:   0%|          | 0/29 [00:00<?, ?batch/s]"
      ]
     },
     "metadata": {},
     "output_type": "display_data"
    },
    {
     "data": {
      "application/vnd.jupyter.widget-view+json": {
       "model_id": "55ddba5ee6434157a39e021265c5ddbe",
       "version_major": 2,
       "version_minor": 0
      },
      "text/plain": [
       "Epoch 715/2000:   0%|          | 0/29 [00:00<?, ?batch/s]"
      ]
     },
     "metadata": {},
     "output_type": "display_data"
    },
    {
     "data": {
      "application/vnd.jupyter.widget-view+json": {
       "model_id": "16dbf37353a34c6bafa639025e772b47",
       "version_major": 2,
       "version_minor": 0
      },
      "text/plain": [
       "Epoch 716/2000:   0%|          | 0/29 [00:00<?, ?batch/s]"
      ]
     },
     "metadata": {},
     "output_type": "display_data"
    },
    {
     "data": {
      "application/vnd.jupyter.widget-view+json": {
       "model_id": "79ab12c176864f44b3630387dcc2f78e",
       "version_major": 2,
       "version_minor": 0
      },
      "text/plain": [
       "Epoch 717/2000:   0%|          | 0/29 [00:00<?, ?batch/s]"
      ]
     },
     "metadata": {},
     "output_type": "display_data"
    },
    {
     "data": {
      "application/vnd.jupyter.widget-view+json": {
       "model_id": "7d7d8665213a4421b4b3b160a2b74200",
       "version_major": 2,
       "version_minor": 0
      },
      "text/plain": [
       "Epoch 718/2000:   0%|          | 0/29 [00:00<?, ?batch/s]"
      ]
     },
     "metadata": {},
     "output_type": "display_data"
    },
    {
     "name": "stderr",
     "output_type": "stream",
     "text": [
      "IOPub message rate exceeded.\n",
      "The Jupyter server will temporarily stop sending output\n",
      "to the client in order to avoid crashing it.\n",
      "To change this limit, set the config variable\n",
      "`--ServerApp.iopub_msg_rate_limit`.\n",
      "\n",
      "Current values:\n",
      "ServerApp.iopub_msg_rate_limit=1000.0 (msgs/sec)\n",
      "ServerApp.rate_limit_window=3.0 (secs)\n",
      "\n"
     ]
    },
    {
     "data": {
      "application/vnd.jupyter.widget-view+json": {
       "model_id": "f59045a777144db0b118ad51b67d50a7",
       "version_major": 2,
       "version_minor": 0
      },
      "text/plain": [
       "Epoch 726/2000:   0%|          | 0/29 [00:00<?, ?batch/s]"
      ]
     },
     "metadata": {},
     "output_type": "display_data"
    },
    {
     "data": {
      "application/vnd.jupyter.widget-view+json": {
       "model_id": "f45aaf7568a741c29bc6fab8a2848006",
       "version_major": 2,
       "version_minor": 0
      },
      "text/plain": [
       "Epoch 727/2000:   0%|          | 0/29 [00:00<?, ?batch/s]"
      ]
     },
     "metadata": {},
     "output_type": "display_data"
    },
    {
     "data": {
      "application/vnd.jupyter.widget-view+json": {
       "model_id": "51199e6181194422a33e7bc382e15ae9",
       "version_major": 2,
       "version_minor": 0
      },
      "text/plain": [
       "Epoch 728/2000:   0%|          | 0/29 [00:00<?, ?batch/s]"
      ]
     },
     "metadata": {},
     "output_type": "display_data"
    },
    {
     "data": {
      "application/vnd.jupyter.widget-view+json": {
       "model_id": "9e08ceaee6a64c6287f5105a03f4e3ce",
       "version_major": 2,
       "version_minor": 0
      },
      "text/plain": [
       "Epoch 729/2000:   0%|          | 0/29 [00:00<?, ?batch/s]"
      ]
     },
     "metadata": {},
     "output_type": "display_data"
    },
    {
     "data": {
      "application/vnd.jupyter.widget-view+json": {
       "model_id": "946717e53ed240668494a5ba1147196c",
       "version_major": 2,
       "version_minor": 0
      },
      "text/plain": [
       "Epoch 730/2000:   0%|          | 0/29 [00:00<?, ?batch/s]"
      ]
     },
     "metadata": {},
     "output_type": "display_data"
    },
    {
     "data": {
      "application/vnd.jupyter.widget-view+json": {
       "model_id": "9eda85bfb687473bbdd0af780adc7792",
       "version_major": 2,
       "version_minor": 0
      },
      "text/plain": [
       "Epoch 731/2000:   0%|          | 0/29 [00:00<?, ?batch/s]"
      ]
     },
     "metadata": {},
     "output_type": "display_data"
    },
    {
     "data": {
      "application/vnd.jupyter.widget-view+json": {
       "model_id": "e3a33dd9636c4ffaba99259957251740",
       "version_major": 2,
       "version_minor": 0
      },
      "text/plain": [
       "Epoch 732/2000:   0%|          | 0/29 [00:00<?, ?batch/s]"
      ]
     },
     "metadata": {},
     "output_type": "display_data"
    },
    {
     "data": {
      "application/vnd.jupyter.widget-view+json": {
       "model_id": "eaec89183d4446689c6a8337e84a2171",
       "version_major": 2,
       "version_minor": 0
      },
      "text/plain": [
       "Epoch 733/2000:   0%|          | 0/29 [00:00<?, ?batch/s]"
      ]
     },
     "metadata": {},
     "output_type": "display_data"
    },
    {
     "data": {
      "application/vnd.jupyter.widget-view+json": {
       "model_id": "c67a79bba42049fc82ed1eaab8f334c4",
       "version_major": 2,
       "version_minor": 0
      },
      "text/plain": [
       "Epoch 734/2000:   0%|          | 0/29 [00:00<?, ?batch/s]"
      ]
     },
     "metadata": {},
     "output_type": "display_data"
    },
    {
     "data": {
      "application/vnd.jupyter.widget-view+json": {
       "model_id": "49bb9c7c47f54cdc9e538dd72e011b40",
       "version_major": 2,
       "version_minor": 0
      },
      "text/plain": [
       "Epoch 735/2000:   0%|          | 0/29 [00:00<?, ?batch/s]"
      ]
     },
     "metadata": {},
     "output_type": "display_data"
    },
    {
     "data": {
      "application/vnd.jupyter.widget-view+json": {
       "model_id": "19d55bd0f479494590571692f348fa34",
       "version_major": 2,
       "version_minor": 0
      },
      "text/plain": [
       "Epoch 736/2000:   0%|          | 0/29 [00:00<?, ?batch/s]"
      ]
     },
     "metadata": {},
     "output_type": "display_data"
    },
    {
     "data": {
      "application/vnd.jupyter.widget-view+json": {
       "model_id": "a628d4307a094d41a5e8c90a995abced",
       "version_major": 2,
       "version_minor": 0
      },
      "text/plain": [
       "Epoch 737/2000:   0%|          | 0/29 [00:00<?, ?batch/s]"
      ]
     },
     "metadata": {},
     "output_type": "display_data"
    },
    {
     "data": {
      "application/vnd.jupyter.widget-view+json": {
       "model_id": "68aa214c31244831b0b6e62b04cd3b06",
       "version_major": 2,
       "version_minor": 0
      },
      "text/plain": [
       "Epoch 738/2000:   0%|          | 0/29 [00:00<?, ?batch/s]"
      ]
     },
     "metadata": {},
     "output_type": "display_data"
    },
    {
     "data": {
      "application/vnd.jupyter.widget-view+json": {
       "model_id": "e0b381663d9745c5b1e335c6cecb2521",
       "version_major": 2,
       "version_minor": 0
      },
      "text/plain": [
       "Epoch 739/2000:   0%|          | 0/29 [00:00<?, ?batch/s]"
      ]
     },
     "metadata": {},
     "output_type": "display_data"
    },
    {
     "data": {
      "application/vnd.jupyter.widget-view+json": {
       "model_id": "a46f0c240cb94189b3e5cbbcf0000009",
       "version_major": 2,
       "version_minor": 0
      },
      "text/plain": [
       "Epoch 740/2000:   0%|          | 0/29 [00:00<?, ?batch/s]"
      ]
     },
     "metadata": {},
     "output_type": "display_data"
    },
    {
     "data": {
      "application/vnd.jupyter.widget-view+json": {
       "model_id": "27468a548d2543ad94ba853e418f8eb0",
       "version_major": 2,
       "version_minor": 0
      },
      "text/plain": [
       "Epoch 741/2000:   0%|          | 0/29 [00:00<?, ?batch/s]"
      ]
     },
     "metadata": {},
     "output_type": "display_data"
    },
    {
     "data": {
      "application/vnd.jupyter.widget-view+json": {
       "model_id": "11a7140dedee4755b6dceef9045517c2",
       "version_major": 2,
       "version_minor": 0
      },
      "text/plain": [
       "Epoch 742/2000:   0%|          | 0/29 [00:00<?, ?batch/s]"
      ]
     },
     "metadata": {},
     "output_type": "display_data"
    },
    {
     "data": {
      "application/vnd.jupyter.widget-view+json": {
       "model_id": "33972e60cc0b432783e130353931532f",
       "version_major": 2,
       "version_minor": 0
      },
      "text/plain": [
       "Epoch 743/2000:   0%|          | 0/29 [00:00<?, ?batch/s]"
      ]
     },
     "metadata": {},
     "output_type": "display_data"
    },
    {
     "data": {
      "application/vnd.jupyter.widget-view+json": {
       "model_id": "94b36fe4e0244d219415e54fd1d02bb2",
       "version_major": 2,
       "version_minor": 0
      },
      "text/plain": [
       "Epoch 744/2000:   0%|          | 0/29 [00:00<?, ?batch/s]"
      ]
     },
     "metadata": {},
     "output_type": "display_data"
    },
    {
     "data": {
      "application/vnd.jupyter.widget-view+json": {
       "model_id": "c7e02351592549518e82427c9b9dbeac",
       "version_major": 2,
       "version_minor": 0
      },
      "text/plain": [
       "Epoch 745/2000:   0%|          | 0/29 [00:00<?, ?batch/s]"
      ]
     },
     "metadata": {},
     "output_type": "display_data"
    },
    {
     "data": {
      "application/vnd.jupyter.widget-view+json": {
       "model_id": "b1feae7ad6fc423e9b33e93369fb20cb",
       "version_major": 2,
       "version_minor": 0
      },
      "text/plain": [
       "Epoch 746/2000:   0%|          | 0/29 [00:00<?, ?batch/s]"
      ]
     },
     "metadata": {},
     "output_type": "display_data"
    },
    {
     "data": {
      "application/vnd.jupyter.widget-view+json": {
       "model_id": "499569ca005f43119a4ea301bb281bcb",
       "version_major": 2,
       "version_minor": 0
      },
      "text/plain": [
       "Epoch 747/2000:   0%|          | 0/29 [00:00<?, ?batch/s]"
      ]
     },
     "metadata": {},
     "output_type": "display_data"
    },
    {
     "data": {
      "application/vnd.jupyter.widget-view+json": {
       "model_id": "e52aa70c2c0e43efaa2cfe98c1cad569",
       "version_major": 2,
       "version_minor": 0
      },
      "text/plain": [
       "Epoch 748/2000:   0%|          | 0/29 [00:00<?, ?batch/s]"
      ]
     },
     "metadata": {},
     "output_type": "display_data"
    },
    {
     "data": {
      "application/vnd.jupyter.widget-view+json": {
       "model_id": "a3a87544b26b4c4892f91f2ae3eecff3",
       "version_major": 2,
       "version_minor": 0
      },
      "text/plain": [
       "Epoch 749/2000:   0%|          | 0/29 [00:00<?, ?batch/s]"
      ]
     },
     "metadata": {},
     "output_type": "display_data"
    },
    {
     "data": {
      "application/vnd.jupyter.widget-view+json": {
       "model_id": "81402431114243a9afa7b43db464a58c",
       "version_major": 2,
       "version_minor": 0
      },
      "text/plain": [
       "Epoch 750/2000:   0%|          | 0/29 [00:00<?, ?batch/s]"
      ]
     },
     "metadata": {},
     "output_type": "display_data"
    },
    {
     "data": {
      "application/vnd.jupyter.widget-view+json": {
       "model_id": "36c01cdcf1b64c169588ab0d8ec5267b",
       "version_major": 2,
       "version_minor": 0
      },
      "text/plain": [
       "Epoch 751/2000:   0%|          | 0/29 [00:00<?, ?batch/s]"
      ]
     },
     "metadata": {},
     "output_type": "display_data"
    },
    {
     "data": {
      "application/vnd.jupyter.widget-view+json": {
       "model_id": "defd14ebc8f54845b9890698821f5ba0",
       "version_major": 2,
       "version_minor": 0
      },
      "text/plain": [
       "Epoch 752/2000:   0%|          | 0/29 [00:00<?, ?batch/s]"
      ]
     },
     "metadata": {},
     "output_type": "display_data"
    },
    {
     "data": {
      "application/vnd.jupyter.widget-view+json": {
       "model_id": "ddd97e6f18a34d23820ff3a302520708",
       "version_major": 2,
       "version_minor": 0
      },
      "text/plain": [
       "Epoch 753/2000:   0%|          | 0/29 [00:00<?, ?batch/s]"
      ]
     },
     "metadata": {},
     "output_type": "display_data"
    },
    {
     "data": {
      "application/vnd.jupyter.widget-view+json": {
       "model_id": "ba2c2979a0d844809d5eab4f1dff960d",
       "version_major": 2,
       "version_minor": 0
      },
      "text/plain": [
       "Epoch 754/2000:   0%|          | 0/29 [00:00<?, ?batch/s]"
      ]
     },
     "metadata": {},
     "output_type": "display_data"
    },
    {
     "data": {
      "application/vnd.jupyter.widget-view+json": {
       "model_id": "b5cb93219f5c478c82b80002c99124a5",
       "version_major": 2,
       "version_minor": 0
      },
      "text/plain": [
       "Epoch 755/2000:   0%|          | 0/29 [00:00<?, ?batch/s]"
      ]
     },
     "metadata": {},
     "output_type": "display_data"
    },
    {
     "data": {
      "application/vnd.jupyter.widget-view+json": {
       "model_id": "dbeb2ea488fd4b769b5d82d33b2166e0",
       "version_major": 2,
       "version_minor": 0
      },
      "text/plain": [
       "Epoch 756/2000:   0%|          | 0/29 [00:00<?, ?batch/s]"
      ]
     },
     "metadata": {},
     "output_type": "display_data"
    },
    {
     "data": {
      "application/vnd.jupyter.widget-view+json": {
       "model_id": "5aff7bcba1714ec8a4f023eb78e4c36a",
       "version_major": 2,
       "version_minor": 0
      },
      "text/plain": [
       "Epoch 757/2000:   0%|          | 0/29 [00:00<?, ?batch/s]"
      ]
     },
     "metadata": {},
     "output_type": "display_data"
    },
    {
     "name": "stderr",
     "output_type": "stream",
     "text": [
      "IOPub message rate exceeded.\n",
      "The Jupyter server will temporarily stop sending output\n",
      "to the client in order to avoid crashing it.\n",
      "To change this limit, set the config variable\n",
      "`--ServerApp.iopub_msg_rate_limit`.\n",
      "\n",
      "Current values:\n",
      "ServerApp.iopub_msg_rate_limit=1000.0 (msgs/sec)\n",
      "ServerApp.rate_limit_window=3.0 (secs)\n",
      "\n"
     ]
    },
    {
     "data": {
      "application/vnd.jupyter.widget-view+json": {
       "model_id": "77b9e1625d6441ad8deaad01b55c4001",
       "version_major": 2,
       "version_minor": 0
      },
      "text/plain": [
       "Epoch 765/2000:   0%|          | 0/29 [00:00<?, ?batch/s]"
      ]
     },
     "metadata": {},
     "output_type": "display_data"
    },
    {
     "data": {
      "application/vnd.jupyter.widget-view+json": {
       "model_id": "a73578d89b364872add2c46dd47814d0",
       "version_major": 2,
       "version_minor": 0
      },
      "text/plain": [
       "Epoch 766/2000:   0%|          | 0/29 [00:00<?, ?batch/s]"
      ]
     },
     "metadata": {},
     "output_type": "display_data"
    },
    {
     "data": {
      "application/vnd.jupyter.widget-view+json": {
       "model_id": "28782e186d6d4b18aeb001922e1d845b",
       "version_major": 2,
       "version_minor": 0
      },
      "text/plain": [
       "Epoch 767/2000:   0%|          | 0/29 [00:00<?, ?batch/s]"
      ]
     },
     "metadata": {},
     "output_type": "display_data"
    },
    {
     "data": {
      "application/vnd.jupyter.widget-view+json": {
       "model_id": "dbf4c08ee0de4703a14c1ee1400c95ed",
       "version_major": 2,
       "version_minor": 0
      },
      "text/plain": [
       "Epoch 768/2000:   0%|          | 0/29 [00:00<?, ?batch/s]"
      ]
     },
     "metadata": {},
     "output_type": "display_data"
    },
    {
     "data": {
      "application/vnd.jupyter.widget-view+json": {
       "model_id": "c1554aa3bf5e47f98659746238785ec9",
       "version_major": 2,
       "version_minor": 0
      },
      "text/plain": [
       "Epoch 769/2000:   0%|          | 0/29 [00:00<?, ?batch/s]"
      ]
     },
     "metadata": {},
     "output_type": "display_data"
    },
    {
     "data": {
      "application/vnd.jupyter.widget-view+json": {
       "model_id": "6253566b1a1340efa0e70fbf0233a3ec",
       "version_major": 2,
       "version_minor": 0
      },
      "text/plain": [
       "Epoch 770/2000:   0%|          | 0/29 [00:00<?, ?batch/s]"
      ]
     },
     "metadata": {},
     "output_type": "display_data"
    },
    {
     "data": {
      "application/vnd.jupyter.widget-view+json": {
       "model_id": "89c871e9e35c46deaaa9731f95960f08",
       "version_major": 2,
       "version_minor": 0
      },
      "text/plain": [
       "Epoch 771/2000:   0%|          | 0/29 [00:00<?, ?batch/s]"
      ]
     },
     "metadata": {},
     "output_type": "display_data"
    },
    {
     "data": {
      "application/vnd.jupyter.widget-view+json": {
       "model_id": "6cc886e6d4eb458f8f63bb8c5584b28d",
       "version_major": 2,
       "version_minor": 0
      },
      "text/plain": [
       "Epoch 772/2000:   0%|          | 0/29 [00:00<?, ?batch/s]"
      ]
     },
     "metadata": {},
     "output_type": "display_data"
    },
    {
     "data": {
      "application/vnd.jupyter.widget-view+json": {
       "model_id": "3f10346c364f4c8ab3d57bd5a67787bb",
       "version_major": 2,
       "version_minor": 0
      },
      "text/plain": [
       "Epoch 773/2000:   0%|          | 0/29 [00:00<?, ?batch/s]"
      ]
     },
     "metadata": {},
     "output_type": "display_data"
    },
    {
     "data": {
      "application/vnd.jupyter.widget-view+json": {
       "model_id": "40e0c4b207164793ab360ad50eb3ed9d",
       "version_major": 2,
       "version_minor": 0
      },
      "text/plain": [
       "Epoch 774/2000:   0%|          | 0/29 [00:00<?, ?batch/s]"
      ]
     },
     "metadata": {},
     "output_type": "display_data"
    },
    {
     "data": {
      "application/vnd.jupyter.widget-view+json": {
       "model_id": "8c24b8f4e049417d9b0de91c781c1d0d",
       "version_major": 2,
       "version_minor": 0
      },
      "text/plain": [
       "Epoch 775/2000:   0%|          | 0/29 [00:00<?, ?batch/s]"
      ]
     },
     "metadata": {},
     "output_type": "display_data"
    },
    {
     "data": {
      "application/vnd.jupyter.widget-view+json": {
       "model_id": "4e66e056c64144548bfd1bca097e00c2",
       "version_major": 2,
       "version_minor": 0
      },
      "text/plain": [
       "Epoch 776/2000:   0%|          | 0/29 [00:00<?, ?batch/s]"
      ]
     },
     "metadata": {},
     "output_type": "display_data"
    },
    {
     "data": {
      "application/vnd.jupyter.widget-view+json": {
       "model_id": "807a657c9eff46bea3845c05ab037850",
       "version_major": 2,
       "version_minor": 0
      },
      "text/plain": [
       "Epoch 777/2000:   0%|          | 0/29 [00:00<?, ?batch/s]"
      ]
     },
     "metadata": {},
     "output_type": "display_data"
    },
    {
     "data": {
      "application/vnd.jupyter.widget-view+json": {
       "model_id": "abefd71344eb4055817b42989e11252a",
       "version_major": 2,
       "version_minor": 0
      },
      "text/plain": [
       "Epoch 778/2000:   0%|          | 0/29 [00:00<?, ?batch/s]"
      ]
     },
     "metadata": {},
     "output_type": "display_data"
    },
    {
     "data": {
      "application/vnd.jupyter.widget-view+json": {
       "model_id": "6434934b5bcc43069c7c2f2636268643",
       "version_major": 2,
       "version_minor": 0
      },
      "text/plain": [
       "Epoch 779/2000:   0%|          | 0/29 [00:00<?, ?batch/s]"
      ]
     },
     "metadata": {},
     "output_type": "display_data"
    },
    {
     "data": {
      "application/vnd.jupyter.widget-view+json": {
       "model_id": "2d3bfb0a27ca4f3a80cb6f5d9287f25d",
       "version_major": 2,
       "version_minor": 0
      },
      "text/plain": [
       "Epoch 780/2000:   0%|          | 0/29 [00:00<?, ?batch/s]"
      ]
     },
     "metadata": {},
     "output_type": "display_data"
    },
    {
     "data": {
      "application/vnd.jupyter.widget-view+json": {
       "model_id": "1bb14940c05e444eb369993d1ac3cb9e",
       "version_major": 2,
       "version_minor": 0
      },
      "text/plain": [
       "Epoch 781/2000:   0%|          | 0/29 [00:00<?, ?batch/s]"
      ]
     },
     "metadata": {},
     "output_type": "display_data"
    },
    {
     "data": {
      "application/vnd.jupyter.widget-view+json": {
       "model_id": "8d3d79c7927e493f813984b4e373253d",
       "version_major": 2,
       "version_minor": 0
      },
      "text/plain": [
       "Epoch 782/2000:   0%|          | 0/29 [00:00<?, ?batch/s]"
      ]
     },
     "metadata": {},
     "output_type": "display_data"
    },
    {
     "data": {
      "application/vnd.jupyter.widget-view+json": {
       "model_id": "3a69e1c09bd54aedb35b6eb291215df4",
       "version_major": 2,
       "version_minor": 0
      },
      "text/plain": [
       "Epoch 783/2000:   0%|          | 0/29 [00:00<?, ?batch/s]"
      ]
     },
     "metadata": {},
     "output_type": "display_data"
    },
    {
     "data": {
      "application/vnd.jupyter.widget-view+json": {
       "model_id": "9d36957b3e8446e5b190f29041bb02dc",
       "version_major": 2,
       "version_minor": 0
      },
      "text/plain": [
       "Epoch 784/2000:   0%|          | 0/29 [00:00<?, ?batch/s]"
      ]
     },
     "metadata": {},
     "output_type": "display_data"
    },
    {
     "data": {
      "application/vnd.jupyter.widget-view+json": {
       "model_id": "384ce142213048ccb1dd823c9879ab65",
       "version_major": 2,
       "version_minor": 0
      },
      "text/plain": [
       "Epoch 785/2000:   0%|          | 0/29 [00:00<?, ?batch/s]"
      ]
     },
     "metadata": {},
     "output_type": "display_data"
    },
    {
     "data": {
      "application/vnd.jupyter.widget-view+json": {
       "model_id": "6a02b3432fe84e60a73d21904649f5dc",
       "version_major": 2,
       "version_minor": 0
      },
      "text/plain": [
       "Epoch 786/2000:   0%|          | 0/29 [00:00<?, ?batch/s]"
      ]
     },
     "metadata": {},
     "output_type": "display_data"
    },
    {
     "data": {
      "application/vnd.jupyter.widget-view+json": {
       "model_id": "0163f63857554afd997941252db9299e",
       "version_major": 2,
       "version_minor": 0
      },
      "text/plain": [
       "Epoch 787/2000:   0%|          | 0/29 [00:00<?, ?batch/s]"
      ]
     },
     "metadata": {},
     "output_type": "display_data"
    },
    {
     "data": {
      "application/vnd.jupyter.widget-view+json": {
       "model_id": "6a53c67e0b6f4e42849b505200f6ea7b",
       "version_major": 2,
       "version_minor": 0
      },
      "text/plain": [
       "Epoch 788/2000:   0%|          | 0/29 [00:00<?, ?batch/s]"
      ]
     },
     "metadata": {},
     "output_type": "display_data"
    },
    {
     "data": {
      "application/vnd.jupyter.widget-view+json": {
       "model_id": "e3abcead74ae4fd08482b5fadc705468",
       "version_major": 2,
       "version_minor": 0
      },
      "text/plain": [
       "Epoch 789/2000:   0%|          | 0/29 [00:00<?, ?batch/s]"
      ]
     },
     "metadata": {},
     "output_type": "display_data"
    },
    {
     "data": {
      "application/vnd.jupyter.widget-view+json": {
       "model_id": "f2ac09456c754e9fa736e89b7234efab",
       "version_major": 2,
       "version_minor": 0
      },
      "text/plain": [
       "Epoch 790/2000:   0%|          | 0/29 [00:00<?, ?batch/s]"
      ]
     },
     "metadata": {},
     "output_type": "display_data"
    },
    {
     "data": {
      "application/vnd.jupyter.widget-view+json": {
       "model_id": "40b50afb806846fa83dce960513b4a4c",
       "version_major": 2,
       "version_minor": 0
      },
      "text/plain": [
       "Epoch 791/2000:   0%|          | 0/29 [00:00<?, ?batch/s]"
      ]
     },
     "metadata": {},
     "output_type": "display_data"
    },
    {
     "data": {
      "application/vnd.jupyter.widget-view+json": {
       "model_id": "edb9b6472f954345b08ba8854a5f6723",
       "version_major": 2,
       "version_minor": 0
      },
      "text/plain": [
       "Epoch 792/2000:   0%|          | 0/29 [00:00<?, ?batch/s]"
      ]
     },
     "metadata": {},
     "output_type": "display_data"
    },
    {
     "data": {
      "application/vnd.jupyter.widget-view+json": {
       "model_id": "e5721ba3fd3c4ead993505629f0090c3",
       "version_major": 2,
       "version_minor": 0
      },
      "text/plain": [
       "Epoch 793/2000:   0%|          | 0/29 [00:00<?, ?batch/s]"
      ]
     },
     "metadata": {},
     "output_type": "display_data"
    },
    {
     "data": {
      "application/vnd.jupyter.widget-view+json": {
       "model_id": "5cc7f104800a448ba947985ac1e32312",
       "version_major": 2,
       "version_minor": 0
      },
      "text/plain": [
       "Epoch 794/2000:   0%|          | 0/29 [00:00<?, ?batch/s]"
      ]
     },
     "metadata": {},
     "output_type": "display_data"
    },
    {
     "data": {
      "application/vnd.jupyter.widget-view+json": {
       "model_id": "fdfe74e257a6469385339b82255c78f6",
       "version_major": 2,
       "version_minor": 0
      },
      "text/plain": [
       "Epoch 795/2000:   0%|          | 0/29 [00:00<?, ?batch/s]"
      ]
     },
     "metadata": {},
     "output_type": "display_data"
    },
    {
     "data": {
      "application/vnd.jupyter.widget-view+json": {
       "model_id": "338108df532544e6bed3720bc3f81670",
       "version_major": 2,
       "version_minor": 0
      },
      "text/plain": [
       "Epoch 796/2000:   0%|          | 0/29 [00:00<?, ?batch/s]"
      ]
     },
     "metadata": {},
     "output_type": "display_data"
    },
    {
     "name": "stderr",
     "output_type": "stream",
     "text": [
      "IOPub message rate exceeded.\n",
      "The Jupyter server will temporarily stop sending output\n",
      "to the client in order to avoid crashing it.\n",
      "To change this limit, set the config variable\n",
      "`--ServerApp.iopub_msg_rate_limit`.\n",
      "\n",
      "Current values:\n",
      "ServerApp.iopub_msg_rate_limit=1000.0 (msgs/sec)\n",
      "ServerApp.rate_limit_window=3.0 (secs)\n",
      "\n"
     ]
    },
    {
     "data": {
      "application/vnd.jupyter.widget-view+json": {
       "model_id": "70efa06c335e4019a76030c8c508627a",
       "version_major": 2,
       "version_minor": 0
      },
      "text/plain": [
       "Epoch 805/2000:   0%|          | 0/29 [00:00<?, ?batch/s]"
      ]
     },
     "metadata": {},
     "output_type": "display_data"
    },
    {
     "data": {
      "application/vnd.jupyter.widget-view+json": {
       "model_id": "76a1dd99c19d4b23be0704785d928333",
       "version_major": 2,
       "version_minor": 0
      },
      "text/plain": [
       "Epoch 806/2000:   0%|          | 0/29 [00:00<?, ?batch/s]"
      ]
     },
     "metadata": {},
     "output_type": "display_data"
    },
    {
     "data": {
      "application/vnd.jupyter.widget-view+json": {
       "model_id": "ebd4588e208c44608f977933d10ee2eb",
       "version_major": 2,
       "version_minor": 0
      },
      "text/plain": [
       "Epoch 807/2000:   0%|          | 0/29 [00:00<?, ?batch/s]"
      ]
     },
     "metadata": {},
     "output_type": "display_data"
    },
    {
     "data": {
      "application/vnd.jupyter.widget-view+json": {
       "model_id": "81307e6418624c13985c9029fc710555",
       "version_major": 2,
       "version_minor": 0
      },
      "text/plain": [
       "Epoch 808/2000:   0%|          | 0/29 [00:00<?, ?batch/s]"
      ]
     },
     "metadata": {},
     "output_type": "display_data"
    },
    {
     "data": {
      "application/vnd.jupyter.widget-view+json": {
       "model_id": "9c8e7d5a00814a038e8707fd23e40b00",
       "version_major": 2,
       "version_minor": 0
      },
      "text/plain": [
       "Epoch 809/2000:   0%|          | 0/29 [00:00<?, ?batch/s]"
      ]
     },
     "metadata": {},
     "output_type": "display_data"
    },
    {
     "data": {
      "application/vnd.jupyter.widget-view+json": {
       "model_id": "edd0bf1189ac4de2811cd94dc42eead6",
       "version_major": 2,
       "version_minor": 0
      },
      "text/plain": [
       "Epoch 810/2000:   0%|          | 0/29 [00:00<?, ?batch/s]"
      ]
     },
     "metadata": {},
     "output_type": "display_data"
    },
    {
     "data": {
      "application/vnd.jupyter.widget-view+json": {
       "model_id": "8e52d50f7a35455eb4d83caaf177936d",
       "version_major": 2,
       "version_minor": 0
      },
      "text/plain": [
       "Epoch 811/2000:   0%|          | 0/29 [00:00<?, ?batch/s]"
      ]
     },
     "metadata": {},
     "output_type": "display_data"
    },
    {
     "data": {
      "application/vnd.jupyter.widget-view+json": {
       "model_id": "e5876c4030aa4b4883f78375ea4a5b7c",
       "version_major": 2,
       "version_minor": 0
      },
      "text/plain": [
       "Epoch 812/2000:   0%|          | 0/29 [00:00<?, ?batch/s]"
      ]
     },
     "metadata": {},
     "output_type": "display_data"
    },
    {
     "data": {
      "application/vnd.jupyter.widget-view+json": {
       "model_id": "7a2ca7e42d974249a87a5d098179e03c",
       "version_major": 2,
       "version_minor": 0
      },
      "text/plain": [
       "Epoch 813/2000:   0%|          | 0/29 [00:00<?, ?batch/s]"
      ]
     },
     "metadata": {},
     "output_type": "display_data"
    },
    {
     "data": {
      "application/vnd.jupyter.widget-view+json": {
       "model_id": "bf292d1171d14d8d9160f9922f60f79a",
       "version_major": 2,
       "version_minor": 0
      },
      "text/plain": [
       "Epoch 814/2000:   0%|          | 0/29 [00:00<?, ?batch/s]"
      ]
     },
     "metadata": {},
     "output_type": "display_data"
    },
    {
     "data": {
      "application/vnd.jupyter.widget-view+json": {
       "model_id": "6ac2c0a5d46d4031bb3cb14e9e11156d",
       "version_major": 2,
       "version_minor": 0
      },
      "text/plain": [
       "Epoch 815/2000:   0%|          | 0/29 [00:00<?, ?batch/s]"
      ]
     },
     "metadata": {},
     "output_type": "display_data"
    },
    {
     "data": {
      "application/vnd.jupyter.widget-view+json": {
       "model_id": "ff320bf965d24813b36c68bea77abc28",
       "version_major": 2,
       "version_minor": 0
      },
      "text/plain": [
       "Epoch 816/2000:   0%|          | 0/29 [00:00<?, ?batch/s]"
      ]
     },
     "metadata": {},
     "output_type": "display_data"
    },
    {
     "data": {
      "application/vnd.jupyter.widget-view+json": {
       "model_id": "a8613cce475c46db8c5ee5044d3f0986",
       "version_major": 2,
       "version_minor": 0
      },
      "text/plain": [
       "Epoch 817/2000:   0%|          | 0/29 [00:00<?, ?batch/s]"
      ]
     },
     "metadata": {},
     "output_type": "display_data"
    },
    {
     "data": {
      "application/vnd.jupyter.widget-view+json": {
       "model_id": "e58ea0ff7b3044f4ba9be11e308bd101",
       "version_major": 2,
       "version_minor": 0
      },
      "text/plain": [
       "Epoch 818/2000:   0%|          | 0/29 [00:00<?, ?batch/s]"
      ]
     },
     "metadata": {},
     "output_type": "display_data"
    },
    {
     "data": {
      "application/vnd.jupyter.widget-view+json": {
       "model_id": "c22175033bbc42a2bd67668d7b060780",
       "version_major": 2,
       "version_minor": 0
      },
      "text/plain": [
       "Epoch 819/2000:   0%|          | 0/29 [00:00<?, ?batch/s]"
      ]
     },
     "metadata": {},
     "output_type": "display_data"
    },
    {
     "data": {
      "application/vnd.jupyter.widget-view+json": {
       "model_id": "f4ca4382face4f39b54646a9397d30df",
       "version_major": 2,
       "version_minor": 0
      },
      "text/plain": [
       "Epoch 820/2000:   0%|          | 0/29 [00:00<?, ?batch/s]"
      ]
     },
     "metadata": {},
     "output_type": "display_data"
    },
    {
     "data": {
      "application/vnd.jupyter.widget-view+json": {
       "model_id": "e0ae4d095b5741e8995cb7c3c1fc915b",
       "version_major": 2,
       "version_minor": 0
      },
      "text/plain": [
       "Epoch 821/2000:   0%|          | 0/29 [00:00<?, ?batch/s]"
      ]
     },
     "metadata": {},
     "output_type": "display_data"
    },
    {
     "data": {
      "application/vnd.jupyter.widget-view+json": {
       "model_id": "ce25294c32dd4319955cc3d3beb0d435",
       "version_major": 2,
       "version_minor": 0
      },
      "text/plain": [
       "Epoch 822/2000:   0%|          | 0/29 [00:00<?, ?batch/s]"
      ]
     },
     "metadata": {},
     "output_type": "display_data"
    },
    {
     "data": {
      "application/vnd.jupyter.widget-view+json": {
       "model_id": "4cd073907fbe461a985cf3899f0da5d7",
       "version_major": 2,
       "version_minor": 0
      },
      "text/plain": [
       "Epoch 823/2000:   0%|          | 0/29 [00:00<?, ?batch/s]"
      ]
     },
     "metadata": {},
     "output_type": "display_data"
    },
    {
     "data": {
      "application/vnd.jupyter.widget-view+json": {
       "model_id": "86f31d250e9a4113968c32dd1c5a5761",
       "version_major": 2,
       "version_minor": 0
      },
      "text/plain": [
       "Epoch 824/2000:   0%|          | 0/29 [00:00<?, ?batch/s]"
      ]
     },
     "metadata": {},
     "output_type": "display_data"
    },
    {
     "data": {
      "application/vnd.jupyter.widget-view+json": {
       "model_id": "c7ad8910cf864049b67bb294014f1d90",
       "version_major": 2,
       "version_minor": 0
      },
      "text/plain": [
       "Epoch 825/2000:   0%|          | 0/29 [00:00<?, ?batch/s]"
      ]
     },
     "metadata": {},
     "output_type": "display_data"
    },
    {
     "data": {
      "application/vnd.jupyter.widget-view+json": {
       "model_id": "00e1390ccd8c41a3ab78dff5419ce654",
       "version_major": 2,
       "version_minor": 0
      },
      "text/plain": [
       "Epoch 826/2000:   0%|          | 0/29 [00:00<?, ?batch/s]"
      ]
     },
     "metadata": {},
     "output_type": "display_data"
    },
    {
     "data": {
      "application/vnd.jupyter.widget-view+json": {
       "model_id": "00df947b51c0457c939a6c2d6d2ee4e1",
       "version_major": 2,
       "version_minor": 0
      },
      "text/plain": [
       "Epoch 827/2000:   0%|          | 0/29 [00:00<?, ?batch/s]"
      ]
     },
     "metadata": {},
     "output_type": "display_data"
    },
    {
     "data": {
      "application/vnd.jupyter.widget-view+json": {
       "model_id": "2e7275cf97834071ade6b4be0abc1d7e",
       "version_major": 2,
       "version_minor": 0
      },
      "text/plain": [
       "Epoch 828/2000:   0%|          | 0/29 [00:00<?, ?batch/s]"
      ]
     },
     "metadata": {},
     "output_type": "display_data"
    },
    {
     "data": {
      "application/vnd.jupyter.widget-view+json": {
       "model_id": "2c50715ff2c74db2b1a8419d1652744c",
       "version_major": 2,
       "version_minor": 0
      },
      "text/plain": [
       "Epoch 829/2000:   0%|          | 0/29 [00:00<?, ?batch/s]"
      ]
     },
     "metadata": {},
     "output_type": "display_data"
    },
    {
     "data": {
      "application/vnd.jupyter.widget-view+json": {
       "model_id": "59ffb3e38f2f4c7c95ee50042cadea2d",
       "version_major": 2,
       "version_minor": 0
      },
      "text/plain": [
       "Epoch 830/2000:   0%|          | 0/29 [00:00<?, ?batch/s]"
      ]
     },
     "metadata": {},
     "output_type": "display_data"
    },
    {
     "data": {
      "application/vnd.jupyter.widget-view+json": {
       "model_id": "011772ccc1ac46ba92aa20833640e244",
       "version_major": 2,
       "version_minor": 0
      },
      "text/plain": [
       "Epoch 831/2000:   0%|          | 0/29 [00:00<?, ?batch/s]"
      ]
     },
     "metadata": {},
     "output_type": "display_data"
    },
    {
     "data": {
      "application/vnd.jupyter.widget-view+json": {
       "model_id": "c783741375f4472b9be74d64078abd9a",
       "version_major": 2,
       "version_minor": 0
      },
      "text/plain": [
       "Epoch 832/2000:   0%|          | 0/29 [00:00<?, ?batch/s]"
      ]
     },
     "metadata": {},
     "output_type": "display_data"
    },
    {
     "data": {
      "application/vnd.jupyter.widget-view+json": {
       "model_id": "88bcc10c373443f08a341754cb0776e2",
       "version_major": 2,
       "version_minor": 0
      },
      "text/plain": [
       "Epoch 833/2000:   0%|          | 0/29 [00:00<?, ?batch/s]"
      ]
     },
     "metadata": {},
     "output_type": "display_data"
    },
    {
     "data": {
      "application/vnd.jupyter.widget-view+json": {
       "model_id": "83d2da72d23a411fadfa3082db9d1867",
       "version_major": 2,
       "version_minor": 0
      },
      "text/plain": [
       "Epoch 834/2000:   0%|          | 0/29 [00:00<?, ?batch/s]"
      ]
     },
     "metadata": {},
     "output_type": "display_data"
    },
    {
     "data": {
      "application/vnd.jupyter.widget-view+json": {
       "model_id": "eb70a5621f114069afc9c3131b319061",
       "version_major": 2,
       "version_minor": 0
      },
      "text/plain": [
       "Epoch 835/2000:   0%|          | 0/29 [00:00<?, ?batch/s]"
      ]
     },
     "metadata": {},
     "output_type": "display_data"
    },
    {
     "data": {
      "application/vnd.jupyter.widget-view+json": {
       "model_id": "b771e32f9c5347c9a99e253bc5e14da2",
       "version_major": 2,
       "version_minor": 0
      },
      "text/plain": [
       "Epoch 836/2000:   0%|          | 0/29 [00:00<?, ?batch/s]"
      ]
     },
     "metadata": {},
     "output_type": "display_data"
    },
    {
     "name": "stderr",
     "output_type": "stream",
     "text": [
      "IOPub message rate exceeded.\n",
      "The Jupyter server will temporarily stop sending output\n",
      "to the client in order to avoid crashing it.\n",
      "To change this limit, set the config variable\n",
      "`--ServerApp.iopub_msg_rate_limit`.\n",
      "\n",
      "Current values:\n",
      "ServerApp.iopub_msg_rate_limit=1000.0 (msgs/sec)\n",
      "ServerApp.rate_limit_window=3.0 (secs)\n",
      "\n"
     ]
    },
    {
     "data": {
      "application/vnd.jupyter.widget-view+json": {
       "model_id": "a126ae7510424dba9f2625857f9571ee",
       "version_major": 2,
       "version_minor": 0
      },
      "text/plain": [
       "Epoch 845/2000:   0%|          | 0/29 [00:00<?, ?batch/s]"
      ]
     },
     "metadata": {},
     "output_type": "display_data"
    },
    {
     "data": {
      "application/vnd.jupyter.widget-view+json": {
       "model_id": "c3c1cb1cfca644039f0b2fd35048dfa2",
       "version_major": 2,
       "version_minor": 0
      },
      "text/plain": [
       "Epoch 846/2000:   0%|          | 0/29 [00:00<?, ?batch/s]"
      ]
     },
     "metadata": {},
     "output_type": "display_data"
    },
    {
     "data": {
      "application/vnd.jupyter.widget-view+json": {
       "model_id": "cfa464d8aa5f414eb9af7230f12cd2d4",
       "version_major": 2,
       "version_minor": 0
      },
      "text/plain": [
       "Epoch 847/2000:   0%|          | 0/29 [00:00<?, ?batch/s]"
      ]
     },
     "metadata": {},
     "output_type": "display_data"
    },
    {
     "data": {
      "application/vnd.jupyter.widget-view+json": {
       "model_id": "0fa087c165184e9d8720a095f396f812",
       "version_major": 2,
       "version_minor": 0
      },
      "text/plain": [
       "Epoch 848/2000:   0%|          | 0/29 [00:00<?, ?batch/s]"
      ]
     },
     "metadata": {},
     "output_type": "display_data"
    },
    {
     "data": {
      "application/vnd.jupyter.widget-view+json": {
       "model_id": "b697d4682b174240aaa92c7c16d59053",
       "version_major": 2,
       "version_minor": 0
      },
      "text/plain": [
       "Epoch 849/2000:   0%|          | 0/29 [00:00<?, ?batch/s]"
      ]
     },
     "metadata": {},
     "output_type": "display_data"
    },
    {
     "data": {
      "application/vnd.jupyter.widget-view+json": {
       "model_id": "01fc5a019e4a4c9eb8198632110e6e8f",
       "version_major": 2,
       "version_minor": 0
      },
      "text/plain": [
       "Epoch 850/2000:   0%|          | 0/29 [00:00<?, ?batch/s]"
      ]
     },
     "metadata": {},
     "output_type": "display_data"
    },
    {
     "data": {
      "application/vnd.jupyter.widget-view+json": {
       "model_id": "8c1600a250b74f89822d6e106eff5305",
       "version_major": 2,
       "version_minor": 0
      },
      "text/plain": [
       "Epoch 851/2000:   0%|          | 0/29 [00:00<?, ?batch/s]"
      ]
     },
     "metadata": {},
     "output_type": "display_data"
    },
    {
     "data": {
      "application/vnd.jupyter.widget-view+json": {
       "model_id": "49b25e1eba4e40cfbda0aef6b8c299ac",
       "version_major": 2,
       "version_minor": 0
      },
      "text/plain": [
       "Epoch 852/2000:   0%|          | 0/29 [00:00<?, ?batch/s]"
      ]
     },
     "metadata": {},
     "output_type": "display_data"
    },
    {
     "data": {
      "application/vnd.jupyter.widget-view+json": {
       "model_id": "6e32759d99f04fdcbc4e6c108a680393",
       "version_major": 2,
       "version_minor": 0
      },
      "text/plain": [
       "Epoch 853/2000:   0%|          | 0/29 [00:00<?, ?batch/s]"
      ]
     },
     "metadata": {},
     "output_type": "display_data"
    },
    {
     "data": {
      "application/vnd.jupyter.widget-view+json": {
       "model_id": "c79b6da31aac433b98a5207a1fbbdbe3",
       "version_major": 2,
       "version_minor": 0
      },
      "text/plain": [
       "Epoch 854/2000:   0%|          | 0/29 [00:00<?, ?batch/s]"
      ]
     },
     "metadata": {},
     "output_type": "display_data"
    },
    {
     "data": {
      "application/vnd.jupyter.widget-view+json": {
       "model_id": "7c165bc409b54229ac4ce78af4d287b1",
       "version_major": 2,
       "version_minor": 0
      },
      "text/plain": [
       "Epoch 855/2000:   0%|          | 0/29 [00:00<?, ?batch/s]"
      ]
     },
     "metadata": {},
     "output_type": "display_data"
    },
    {
     "data": {
      "application/vnd.jupyter.widget-view+json": {
       "model_id": "6ebf8f38606a42009798d2f774d0fc81",
       "version_major": 2,
       "version_minor": 0
      },
      "text/plain": [
       "Epoch 856/2000:   0%|          | 0/29 [00:00<?, ?batch/s]"
      ]
     },
     "metadata": {},
     "output_type": "display_data"
    },
    {
     "data": {
      "application/vnd.jupyter.widget-view+json": {
       "model_id": "f6edcda2a76b45bd80fd6ed8d6f8e270",
       "version_major": 2,
       "version_minor": 0
      },
      "text/plain": [
       "Epoch 857/2000:   0%|          | 0/29 [00:00<?, ?batch/s]"
      ]
     },
     "metadata": {},
     "output_type": "display_data"
    },
    {
     "data": {
      "application/vnd.jupyter.widget-view+json": {
       "model_id": "673d15ab48274338b2753144396f1a68",
       "version_major": 2,
       "version_minor": 0
      },
      "text/plain": [
       "Epoch 858/2000:   0%|          | 0/29 [00:00<?, ?batch/s]"
      ]
     },
     "metadata": {},
     "output_type": "display_data"
    },
    {
     "data": {
      "application/vnd.jupyter.widget-view+json": {
       "model_id": "1c043eeacf2649e79129ad2a4e735614",
       "version_major": 2,
       "version_minor": 0
      },
      "text/plain": [
       "Epoch 859/2000:   0%|          | 0/29 [00:00<?, ?batch/s]"
      ]
     },
     "metadata": {},
     "output_type": "display_data"
    },
    {
     "data": {
      "application/vnd.jupyter.widget-view+json": {
       "model_id": "01cf8a0bc90246e68d446238a3c70549",
       "version_major": 2,
       "version_minor": 0
      },
      "text/plain": [
       "Epoch 860/2000:   0%|          | 0/29 [00:00<?, ?batch/s]"
      ]
     },
     "metadata": {},
     "output_type": "display_data"
    },
    {
     "data": {
      "application/vnd.jupyter.widget-view+json": {
       "model_id": "797cb422005f4e5bbad2f1dc30c98363",
       "version_major": 2,
       "version_minor": 0
      },
      "text/plain": [
       "Epoch 861/2000:   0%|          | 0/29 [00:00<?, ?batch/s]"
      ]
     },
     "metadata": {},
     "output_type": "display_data"
    },
    {
     "data": {
      "application/vnd.jupyter.widget-view+json": {
       "model_id": "c170b8701802489badfcde3a6c053e60",
       "version_major": 2,
       "version_minor": 0
      },
      "text/plain": [
       "Epoch 862/2000:   0%|          | 0/29 [00:00<?, ?batch/s]"
      ]
     },
     "metadata": {},
     "output_type": "display_data"
    },
    {
     "data": {
      "application/vnd.jupyter.widget-view+json": {
       "model_id": "edfda256e8664658bbe38fc609efc349",
       "version_major": 2,
       "version_minor": 0
      },
      "text/plain": [
       "Epoch 863/2000:   0%|          | 0/29 [00:00<?, ?batch/s]"
      ]
     },
     "metadata": {},
     "output_type": "display_data"
    },
    {
     "data": {
      "application/vnd.jupyter.widget-view+json": {
       "model_id": "8b3c2a907a774c7b8a68c839d9418b54",
       "version_major": 2,
       "version_minor": 0
      },
      "text/plain": [
       "Epoch 864/2000:   0%|          | 0/29 [00:00<?, ?batch/s]"
      ]
     },
     "metadata": {},
     "output_type": "display_data"
    },
    {
     "data": {
      "application/vnd.jupyter.widget-view+json": {
       "model_id": "9e86268295844759a75e0b759a31be02",
       "version_major": 2,
       "version_minor": 0
      },
      "text/plain": [
       "Epoch 865/2000:   0%|          | 0/29 [00:00<?, ?batch/s]"
      ]
     },
     "metadata": {},
     "output_type": "display_data"
    },
    {
     "data": {
      "application/vnd.jupyter.widget-view+json": {
       "model_id": "e9818ee00413458480be22ad498f6060",
       "version_major": 2,
       "version_minor": 0
      },
      "text/plain": [
       "Epoch 866/2000:   0%|          | 0/29 [00:00<?, ?batch/s]"
      ]
     },
     "metadata": {},
     "output_type": "display_data"
    },
    {
     "data": {
      "application/vnd.jupyter.widget-view+json": {
       "model_id": "515ce30a89954bd0a5ada0f8ff6e42ec",
       "version_major": 2,
       "version_minor": 0
      },
      "text/plain": [
       "Epoch 867/2000:   0%|          | 0/29 [00:00<?, ?batch/s]"
      ]
     },
     "metadata": {},
     "output_type": "display_data"
    },
    {
     "data": {
      "application/vnd.jupyter.widget-view+json": {
       "model_id": "ae9cc95a3c584f8097d4ca1f1fcab4e4",
       "version_major": 2,
       "version_minor": 0
      },
      "text/plain": [
       "Epoch 868/2000:   0%|          | 0/29 [00:00<?, ?batch/s]"
      ]
     },
     "metadata": {},
     "output_type": "display_data"
    },
    {
     "data": {
      "application/vnd.jupyter.widget-view+json": {
       "model_id": "4516d2a7e9e846ad8b3096dce90fa22d",
       "version_major": 2,
       "version_minor": 0
      },
      "text/plain": [
       "Epoch 869/2000:   0%|          | 0/29 [00:00<?, ?batch/s]"
      ]
     },
     "metadata": {},
     "output_type": "display_data"
    },
    {
     "data": {
      "application/vnd.jupyter.widget-view+json": {
       "model_id": "c68e46cd9c104f3abe23ecd4d46e448f",
       "version_major": 2,
       "version_minor": 0
      },
      "text/plain": [
       "Epoch 870/2000:   0%|          | 0/29 [00:00<?, ?batch/s]"
      ]
     },
     "metadata": {},
     "output_type": "display_data"
    },
    {
     "data": {
      "application/vnd.jupyter.widget-view+json": {
       "model_id": "2052d1eaed764909a041c43b44726605",
       "version_major": 2,
       "version_minor": 0
      },
      "text/plain": [
       "Epoch 871/2000:   0%|          | 0/29 [00:00<?, ?batch/s]"
      ]
     },
     "metadata": {},
     "output_type": "display_data"
    },
    {
     "data": {
      "application/vnd.jupyter.widget-view+json": {
       "model_id": "5397b237422a4f9990ffc1eb308b3b42",
       "version_major": 2,
       "version_minor": 0
      },
      "text/plain": [
       "Epoch 872/2000:   0%|          | 0/29 [00:00<?, ?batch/s]"
      ]
     },
     "metadata": {},
     "output_type": "display_data"
    },
    {
     "data": {
      "application/vnd.jupyter.widget-view+json": {
       "model_id": "e04d9a2139c840eb858886438a6e674f",
       "version_major": 2,
       "version_minor": 0
      },
      "text/plain": [
       "Epoch 873/2000:   0%|          | 0/29 [00:00<?, ?batch/s]"
      ]
     },
     "metadata": {},
     "output_type": "display_data"
    },
    {
     "data": {
      "application/vnd.jupyter.widget-view+json": {
       "model_id": "4c7ddca4f0cf49248cddcf5652898fe3",
       "version_major": 2,
       "version_minor": 0
      },
      "text/plain": [
       "Epoch 874/2000:   0%|          | 0/29 [00:00<?, ?batch/s]"
      ]
     },
     "metadata": {},
     "output_type": "display_data"
    },
    {
     "data": {
      "application/vnd.jupyter.widget-view+json": {
       "model_id": "a1272febd75246dea9fd747ab9b5856e",
       "version_major": 2,
       "version_minor": 0
      },
      "text/plain": [
       "Epoch 875/2000:   0%|          | 0/29 [00:00<?, ?batch/s]"
      ]
     },
     "metadata": {},
     "output_type": "display_data"
    },
    {
     "name": "stderr",
     "output_type": "stream",
     "text": [
      "IOPub message rate exceeded.\n",
      "The Jupyter server will temporarily stop sending output\n",
      "to the client in order to avoid crashing it.\n",
      "To change this limit, set the config variable\n",
      "`--ServerApp.iopub_msg_rate_limit`.\n",
      "\n",
      "Current values:\n",
      "ServerApp.iopub_msg_rate_limit=1000.0 (msgs/sec)\n",
      "ServerApp.rate_limit_window=3.0 (secs)\n",
      "\n"
     ]
    },
    {
     "data": {
      "application/vnd.jupyter.widget-view+json": {
       "model_id": "4119d8a061e7443e964c66d696a9fd4d",
       "version_major": 2,
       "version_minor": 0
      },
      "text/plain": [
       "Epoch 884/2000:   0%|          | 0/29 [00:00<?, ?batch/s]"
      ]
     },
     "metadata": {},
     "output_type": "display_data"
    },
    {
     "data": {
      "application/vnd.jupyter.widget-view+json": {
       "model_id": "af0bfad42393434180dd84ed9fca9d47",
       "version_major": 2,
       "version_minor": 0
      },
      "text/plain": [
       "Epoch 885/2000:   0%|          | 0/29 [00:00<?, ?batch/s]"
      ]
     },
     "metadata": {},
     "output_type": "display_data"
    },
    {
     "data": {
      "application/vnd.jupyter.widget-view+json": {
       "model_id": "9399425802704a8e942a4dd2159cce89",
       "version_major": 2,
       "version_minor": 0
      },
      "text/plain": [
       "Epoch 886/2000:   0%|          | 0/29 [00:00<?, ?batch/s]"
      ]
     },
     "metadata": {},
     "output_type": "display_data"
    },
    {
     "data": {
      "application/vnd.jupyter.widget-view+json": {
       "model_id": "a10f5a34792742a4aaf1b87230882203",
       "version_major": 2,
       "version_minor": 0
      },
      "text/plain": [
       "Epoch 887/2000:   0%|          | 0/29 [00:00<?, ?batch/s]"
      ]
     },
     "metadata": {},
     "output_type": "display_data"
    },
    {
     "data": {
      "application/vnd.jupyter.widget-view+json": {
       "model_id": "e136bb8a185e45e382488b1a5e7ab169",
       "version_major": 2,
       "version_minor": 0
      },
      "text/plain": [
       "Epoch 888/2000:   0%|          | 0/29 [00:00<?, ?batch/s]"
      ]
     },
     "metadata": {},
     "output_type": "display_data"
    },
    {
     "data": {
      "application/vnd.jupyter.widget-view+json": {
       "model_id": "64d3953351744d98811d271423ad361c",
       "version_major": 2,
       "version_minor": 0
      },
      "text/plain": [
       "Epoch 889/2000:   0%|          | 0/29 [00:00<?, ?batch/s]"
      ]
     },
     "metadata": {},
     "output_type": "display_data"
    },
    {
     "data": {
      "application/vnd.jupyter.widget-view+json": {
       "model_id": "cd849d227d684efbbbce440f8f6ae0ab",
       "version_major": 2,
       "version_minor": 0
      },
      "text/plain": [
       "Epoch 890/2000:   0%|          | 0/29 [00:00<?, ?batch/s]"
      ]
     },
     "metadata": {},
     "output_type": "display_data"
    },
    {
     "data": {
      "application/vnd.jupyter.widget-view+json": {
       "model_id": "b9227bce8c054dab9a5a9fd1d877c37b",
       "version_major": 2,
       "version_minor": 0
      },
      "text/plain": [
       "Epoch 891/2000:   0%|          | 0/29 [00:00<?, ?batch/s]"
      ]
     },
     "metadata": {},
     "output_type": "display_data"
    },
    {
     "data": {
      "application/vnd.jupyter.widget-view+json": {
       "model_id": "a74e2e48202a4a53aa509f8ce378f96a",
       "version_major": 2,
       "version_minor": 0
      },
      "text/plain": [
       "Epoch 892/2000:   0%|          | 0/29 [00:00<?, ?batch/s]"
      ]
     },
     "metadata": {},
     "output_type": "display_data"
    },
    {
     "data": {
      "application/vnd.jupyter.widget-view+json": {
       "model_id": "c724e87d49c74f93b0b888a228f1ca92",
       "version_major": 2,
       "version_minor": 0
      },
      "text/plain": [
       "Epoch 893/2000:   0%|          | 0/29 [00:00<?, ?batch/s]"
      ]
     },
     "metadata": {},
     "output_type": "display_data"
    },
    {
     "data": {
      "application/vnd.jupyter.widget-view+json": {
       "model_id": "7a139277bf4e4b608db32a102b4d1eea",
       "version_major": 2,
       "version_minor": 0
      },
      "text/plain": [
       "Epoch 894/2000:   0%|          | 0/29 [00:00<?, ?batch/s]"
      ]
     },
     "metadata": {},
     "output_type": "display_data"
    },
    {
     "data": {
      "application/vnd.jupyter.widget-view+json": {
       "model_id": "e0920c8f08f34695aa010e70e61364e3",
       "version_major": 2,
       "version_minor": 0
      },
      "text/plain": [
       "Epoch 895/2000:   0%|          | 0/29 [00:00<?, ?batch/s]"
      ]
     },
     "metadata": {},
     "output_type": "display_data"
    },
    {
     "data": {
      "application/vnd.jupyter.widget-view+json": {
       "model_id": "afe88549e0524163aac416133ffd10c2",
       "version_major": 2,
       "version_minor": 0
      },
      "text/plain": [
       "Epoch 896/2000:   0%|          | 0/29 [00:00<?, ?batch/s]"
      ]
     },
     "metadata": {},
     "output_type": "display_data"
    },
    {
     "data": {
      "application/vnd.jupyter.widget-view+json": {
       "model_id": "d7432902a1e540d4a95a724dfade4d48",
       "version_major": 2,
       "version_minor": 0
      },
      "text/plain": [
       "Epoch 897/2000:   0%|          | 0/29 [00:00<?, ?batch/s]"
      ]
     },
     "metadata": {},
     "output_type": "display_data"
    },
    {
     "data": {
      "application/vnd.jupyter.widget-view+json": {
       "model_id": "a8a996834dab4ab59b09e962645f50d4",
       "version_major": 2,
       "version_minor": 0
      },
      "text/plain": [
       "Epoch 898/2000:   0%|          | 0/29 [00:00<?, ?batch/s]"
      ]
     },
     "metadata": {},
     "output_type": "display_data"
    },
    {
     "data": {
      "application/vnd.jupyter.widget-view+json": {
       "model_id": "d5493d8102f644279448b31a35a50431",
       "version_major": 2,
       "version_minor": 0
      },
      "text/plain": [
       "Epoch 899/2000:   0%|          | 0/29 [00:00<?, ?batch/s]"
      ]
     },
     "metadata": {},
     "output_type": "display_data"
    },
    {
     "data": {
      "application/vnd.jupyter.widget-view+json": {
       "model_id": "092f3bc854f14c018151933dadd5af78",
       "version_major": 2,
       "version_minor": 0
      },
      "text/plain": [
       "Epoch 900/2000:   0%|          | 0/29 [00:00<?, ?batch/s]"
      ]
     },
     "metadata": {},
     "output_type": "display_data"
    },
    {
     "data": {
      "application/vnd.jupyter.widget-view+json": {
       "model_id": "cfa12680f3ba46d5a265cf5fbf8cb6f3",
       "version_major": 2,
       "version_minor": 0
      },
      "text/plain": [
       "Epoch 901/2000:   0%|          | 0/29 [00:00<?, ?batch/s]"
      ]
     },
     "metadata": {},
     "output_type": "display_data"
    },
    {
     "data": {
      "application/vnd.jupyter.widget-view+json": {
       "model_id": "aea866dbd5224d5d933590961ba1bea8",
       "version_major": 2,
       "version_minor": 0
      },
      "text/plain": [
       "Epoch 902/2000:   0%|          | 0/29 [00:00<?, ?batch/s]"
      ]
     },
     "metadata": {},
     "output_type": "display_data"
    },
    {
     "data": {
      "application/vnd.jupyter.widget-view+json": {
       "model_id": "b92c1ec705df4bd98b55fb2210a7eccd",
       "version_major": 2,
       "version_minor": 0
      },
      "text/plain": [
       "Epoch 903/2000:   0%|          | 0/29 [00:00<?, ?batch/s]"
      ]
     },
     "metadata": {},
     "output_type": "display_data"
    },
    {
     "data": {
      "application/vnd.jupyter.widget-view+json": {
       "model_id": "c270603bd9284627b89d4d49f3cf7e73",
       "version_major": 2,
       "version_minor": 0
      },
      "text/plain": [
       "Epoch 904/2000:   0%|          | 0/29 [00:00<?, ?batch/s]"
      ]
     },
     "metadata": {},
     "output_type": "display_data"
    },
    {
     "data": {
      "application/vnd.jupyter.widget-view+json": {
       "model_id": "0e0b768708e649129b540819c0e496d0",
       "version_major": 2,
       "version_minor": 0
      },
      "text/plain": [
       "Epoch 905/2000:   0%|          | 0/29 [00:00<?, ?batch/s]"
      ]
     },
     "metadata": {},
     "output_type": "display_data"
    },
    {
     "data": {
      "application/vnd.jupyter.widget-view+json": {
       "model_id": "0d788fcf9c0148dd90f620439a407c51",
       "version_major": 2,
       "version_minor": 0
      },
      "text/plain": [
       "Epoch 906/2000:   0%|          | 0/29 [00:00<?, ?batch/s]"
      ]
     },
     "metadata": {},
     "output_type": "display_data"
    },
    {
     "data": {
      "application/vnd.jupyter.widget-view+json": {
       "model_id": "43bfaa84a1a1429cb69fb57c2b7ce936",
       "version_major": 2,
       "version_minor": 0
      },
      "text/plain": [
       "Epoch 907/2000:   0%|          | 0/29 [00:00<?, ?batch/s]"
      ]
     },
     "metadata": {},
     "output_type": "display_data"
    },
    {
     "data": {
      "application/vnd.jupyter.widget-view+json": {
       "model_id": "c940776c21ea4ccab89653c278505c3c",
       "version_major": 2,
       "version_minor": 0
      },
      "text/plain": [
       "Epoch 908/2000:   0%|          | 0/29 [00:00<?, ?batch/s]"
      ]
     },
     "metadata": {},
     "output_type": "display_data"
    },
    {
     "data": {
      "application/vnd.jupyter.widget-view+json": {
       "model_id": "e617c9d09d334e478f20bf8de048f51b",
       "version_major": 2,
       "version_minor": 0
      },
      "text/plain": [
       "Epoch 909/2000:   0%|          | 0/29 [00:00<?, ?batch/s]"
      ]
     },
     "metadata": {},
     "output_type": "display_data"
    },
    {
     "data": {
      "application/vnd.jupyter.widget-view+json": {
       "model_id": "fbe1b9413d254de3b3fd2c1fb3f0c46c",
       "version_major": 2,
       "version_minor": 0
      },
      "text/plain": [
       "Epoch 910/2000:   0%|          | 0/29 [00:00<?, ?batch/s]"
      ]
     },
     "metadata": {},
     "output_type": "display_data"
    },
    {
     "data": {
      "application/vnd.jupyter.widget-view+json": {
       "model_id": "c97ddbfe031d4764a288d3a1b366eef2",
       "version_major": 2,
       "version_minor": 0
      },
      "text/plain": [
       "Epoch 911/2000:   0%|          | 0/29 [00:00<?, ?batch/s]"
      ]
     },
     "metadata": {},
     "output_type": "display_data"
    },
    {
     "data": {
      "application/vnd.jupyter.widget-view+json": {
       "model_id": "8605539032b94fb5bbb86a4e2fe75504",
       "version_major": 2,
       "version_minor": 0
      },
      "text/plain": [
       "Epoch 912/2000:   0%|          | 0/29 [00:00<?, ?batch/s]"
      ]
     },
     "metadata": {},
     "output_type": "display_data"
    },
    {
     "data": {
      "application/vnd.jupyter.widget-view+json": {
       "model_id": "a58e1a4d23f0469b98a6bd9d5efc28d2",
       "version_major": 2,
       "version_minor": 0
      },
      "text/plain": [
       "Epoch 913/2000:   0%|          | 0/29 [00:00<?, ?batch/s]"
      ]
     },
     "metadata": {},
     "output_type": "display_data"
    },
    {
     "data": {
      "application/vnd.jupyter.widget-view+json": {
       "model_id": "e50e1994e8ae4d2b8b3a117be33887d4",
       "version_major": 2,
       "version_minor": 0
      },
      "text/plain": [
       "Epoch 914/2000:   0%|          | 0/29 [00:00<?, ?batch/s]"
      ]
     },
     "metadata": {},
     "output_type": "display_data"
    },
    {
     "data": {
      "application/vnd.jupyter.widget-view+json": {
       "model_id": "df0fee3c5c22433fb45c6ddf754a7826",
       "version_major": 2,
       "version_minor": 0
      },
      "text/plain": [
       "Epoch 915/2000:   0%|          | 0/29 [00:00<?, ?batch/s]"
      ]
     },
     "metadata": {},
     "output_type": "display_data"
    },
    {
     "name": "stderr",
     "output_type": "stream",
     "text": [
      "IOPub message rate exceeded.\n",
      "The Jupyter server will temporarily stop sending output\n",
      "to the client in order to avoid crashing it.\n",
      "To change this limit, set the config variable\n",
      "`--ServerApp.iopub_msg_rate_limit`.\n",
      "\n",
      "Current values:\n",
      "ServerApp.iopub_msg_rate_limit=1000.0 (msgs/sec)\n",
      "ServerApp.rate_limit_window=3.0 (secs)\n",
      "\n"
     ]
    },
    {
     "data": {
      "application/vnd.jupyter.widget-view+json": {
       "model_id": "f7b93b899c76496b8df9f1a9e8dc7356",
       "version_major": 2,
       "version_minor": 0
      },
      "text/plain": [
       "Epoch 923/2000:   0%|          | 0/29 [00:00<?, ?batch/s]"
      ]
     },
     "metadata": {},
     "output_type": "display_data"
    },
    {
     "data": {
      "application/vnd.jupyter.widget-view+json": {
       "model_id": "b04bacb0605a43799ead39ab2f0a169f",
       "version_major": 2,
       "version_minor": 0
      },
      "text/plain": [
       "Epoch 924/2000:   0%|          | 0/29 [00:00<?, ?batch/s]"
      ]
     },
     "metadata": {},
     "output_type": "display_data"
    },
    {
     "data": {
      "application/vnd.jupyter.widget-view+json": {
       "model_id": "2190fa339f784a1f9563035a257c843b",
       "version_major": 2,
       "version_minor": 0
      },
      "text/plain": [
       "Epoch 925/2000:   0%|          | 0/29 [00:00<?, ?batch/s]"
      ]
     },
     "metadata": {},
     "output_type": "display_data"
    },
    {
     "data": {
      "application/vnd.jupyter.widget-view+json": {
       "model_id": "c59b8e7ad3c14971a35ef00374002482",
       "version_major": 2,
       "version_minor": 0
      },
      "text/plain": [
       "Epoch 926/2000:   0%|          | 0/29 [00:00<?, ?batch/s]"
      ]
     },
     "metadata": {},
     "output_type": "display_data"
    },
    {
     "data": {
      "application/vnd.jupyter.widget-view+json": {
       "model_id": "ecd25255cfd64b82bd33b3cf47c19245",
       "version_major": 2,
       "version_minor": 0
      },
      "text/plain": [
       "Epoch 927/2000:   0%|          | 0/29 [00:00<?, ?batch/s]"
      ]
     },
     "metadata": {},
     "output_type": "display_data"
    },
    {
     "data": {
      "application/vnd.jupyter.widget-view+json": {
       "model_id": "161ee78ca0ef4896b48e001cc40d05a7",
       "version_major": 2,
       "version_minor": 0
      },
      "text/plain": [
       "Epoch 928/2000:   0%|          | 0/29 [00:00<?, ?batch/s]"
      ]
     },
     "metadata": {},
     "output_type": "display_data"
    },
    {
     "data": {
      "application/vnd.jupyter.widget-view+json": {
       "model_id": "c96de38b6df649dd80e6c27a10626887",
       "version_major": 2,
       "version_minor": 0
      },
      "text/plain": [
       "Epoch 929/2000:   0%|          | 0/29 [00:00<?, ?batch/s]"
      ]
     },
     "metadata": {},
     "output_type": "display_data"
    },
    {
     "data": {
      "application/vnd.jupyter.widget-view+json": {
       "model_id": "84bb46a8dcab43efaec0bdd5c5db2856",
       "version_major": 2,
       "version_minor": 0
      },
      "text/plain": [
       "Epoch 930/2000:   0%|          | 0/29 [00:00<?, ?batch/s]"
      ]
     },
     "metadata": {},
     "output_type": "display_data"
    },
    {
     "data": {
      "application/vnd.jupyter.widget-view+json": {
       "model_id": "203fe0179d944720ac2508f0c089f8d2",
       "version_major": 2,
       "version_minor": 0
      },
      "text/plain": [
       "Epoch 931/2000:   0%|          | 0/29 [00:00<?, ?batch/s]"
      ]
     },
     "metadata": {},
     "output_type": "display_data"
    },
    {
     "data": {
      "application/vnd.jupyter.widget-view+json": {
       "model_id": "52e5df719369496ba61989a9b109cce4",
       "version_major": 2,
       "version_minor": 0
      },
      "text/plain": [
       "Epoch 932/2000:   0%|          | 0/29 [00:00<?, ?batch/s]"
      ]
     },
     "metadata": {},
     "output_type": "display_data"
    },
    {
     "data": {
      "application/vnd.jupyter.widget-view+json": {
       "model_id": "0850745796c642a8a91cd2ad489c906d",
       "version_major": 2,
       "version_minor": 0
      },
      "text/plain": [
       "Epoch 933/2000:   0%|          | 0/29 [00:00<?, ?batch/s]"
      ]
     },
     "metadata": {},
     "output_type": "display_data"
    },
    {
     "data": {
      "application/vnd.jupyter.widget-view+json": {
       "model_id": "d0e529b604da4e06ad47aeb6036da237",
       "version_major": 2,
       "version_minor": 0
      },
      "text/plain": [
       "Epoch 934/2000:   0%|          | 0/29 [00:00<?, ?batch/s]"
      ]
     },
     "metadata": {},
     "output_type": "display_data"
    },
    {
     "data": {
      "application/vnd.jupyter.widget-view+json": {
       "model_id": "9febc475fa174bdba859b39197307f21",
       "version_major": 2,
       "version_minor": 0
      },
      "text/plain": [
       "Epoch 935/2000:   0%|          | 0/29 [00:00<?, ?batch/s]"
      ]
     },
     "metadata": {},
     "output_type": "display_data"
    },
    {
     "data": {
      "application/vnd.jupyter.widget-view+json": {
       "model_id": "94fb32130b8a45a79f6ccfc79f6230fa",
       "version_major": 2,
       "version_minor": 0
      },
      "text/plain": [
       "Epoch 936/2000:   0%|          | 0/29 [00:00<?, ?batch/s]"
      ]
     },
     "metadata": {},
     "output_type": "display_data"
    },
    {
     "data": {
      "application/vnd.jupyter.widget-view+json": {
       "model_id": "986bec183ab84c238a48401c6288ecaa",
       "version_major": 2,
       "version_minor": 0
      },
      "text/plain": [
       "Epoch 937/2000:   0%|          | 0/29 [00:00<?, ?batch/s]"
      ]
     },
     "metadata": {},
     "output_type": "display_data"
    },
    {
     "data": {
      "application/vnd.jupyter.widget-view+json": {
       "model_id": "bedee4c3313e40bb968e125edceb83d0",
       "version_major": 2,
       "version_minor": 0
      },
      "text/plain": [
       "Epoch 938/2000:   0%|          | 0/29 [00:00<?, ?batch/s]"
      ]
     },
     "metadata": {},
     "output_type": "display_data"
    },
    {
     "data": {
      "application/vnd.jupyter.widget-view+json": {
       "model_id": "13f126a2ab1242ae954535ed41b6d5b3",
       "version_major": 2,
       "version_minor": 0
      },
      "text/plain": [
       "Epoch 939/2000:   0%|          | 0/29 [00:00<?, ?batch/s]"
      ]
     },
     "metadata": {},
     "output_type": "display_data"
    },
    {
     "data": {
      "application/vnd.jupyter.widget-view+json": {
       "model_id": "d65292e6ce204e06a26f60551fe6d6d0",
       "version_major": 2,
       "version_minor": 0
      },
      "text/plain": [
       "Epoch 940/2000:   0%|          | 0/29 [00:00<?, ?batch/s]"
      ]
     },
     "metadata": {},
     "output_type": "display_data"
    },
    {
     "data": {
      "application/vnd.jupyter.widget-view+json": {
       "model_id": "641c5abe062e4032b45e143d1b6a44d6",
       "version_major": 2,
       "version_minor": 0
      },
      "text/plain": [
       "Epoch 941/2000:   0%|          | 0/29 [00:00<?, ?batch/s]"
      ]
     },
     "metadata": {},
     "output_type": "display_data"
    },
    {
     "data": {
      "application/vnd.jupyter.widget-view+json": {
       "model_id": "8cce9d08e0104c3cbce4e5d3078462c0",
       "version_major": 2,
       "version_minor": 0
      },
      "text/plain": [
       "Epoch 942/2000:   0%|          | 0/29 [00:00<?, ?batch/s]"
      ]
     },
     "metadata": {},
     "output_type": "display_data"
    },
    {
     "data": {
      "application/vnd.jupyter.widget-view+json": {
       "model_id": "97ebae23949e4e57bb1ba816f4219ab2",
       "version_major": 2,
       "version_minor": 0
      },
      "text/plain": [
       "Epoch 943/2000:   0%|          | 0/29 [00:00<?, ?batch/s]"
      ]
     },
     "metadata": {},
     "output_type": "display_data"
    },
    {
     "data": {
      "application/vnd.jupyter.widget-view+json": {
       "model_id": "c1e586957dde47d5be04ee1e05ddda1d",
       "version_major": 2,
       "version_minor": 0
      },
      "text/plain": [
       "Epoch 944/2000:   0%|          | 0/29 [00:00<?, ?batch/s]"
      ]
     },
     "metadata": {},
     "output_type": "display_data"
    },
    {
     "data": {
      "application/vnd.jupyter.widget-view+json": {
       "model_id": "6d0702e821d74ac688040ff7bc1a9b01",
       "version_major": 2,
       "version_minor": 0
      },
      "text/plain": [
       "Epoch 945/2000:   0%|          | 0/29 [00:00<?, ?batch/s]"
      ]
     },
     "metadata": {},
     "output_type": "display_data"
    },
    {
     "data": {
      "application/vnd.jupyter.widget-view+json": {
       "model_id": "4b4f0c1866104069bab953598d75e31b",
       "version_major": 2,
       "version_minor": 0
      },
      "text/plain": [
       "Epoch 946/2000:   0%|          | 0/29 [00:00<?, ?batch/s]"
      ]
     },
     "metadata": {},
     "output_type": "display_data"
    },
    {
     "data": {
      "application/vnd.jupyter.widget-view+json": {
       "model_id": "f00f392e460941edb7f2029d6e213d71",
       "version_major": 2,
       "version_minor": 0
      },
      "text/plain": [
       "Epoch 947/2000:   0%|          | 0/29 [00:00<?, ?batch/s]"
      ]
     },
     "metadata": {},
     "output_type": "display_data"
    },
    {
     "data": {
      "application/vnd.jupyter.widget-view+json": {
       "model_id": "e9b3b4f90e8d49e4996e50e8990ab451",
       "version_major": 2,
       "version_minor": 0
      },
      "text/plain": [
       "Epoch 948/2000:   0%|          | 0/29 [00:00<?, ?batch/s]"
      ]
     },
     "metadata": {},
     "output_type": "display_data"
    },
    {
     "data": {
      "application/vnd.jupyter.widget-view+json": {
       "model_id": "75e52018f4b84ac2a231df0bb84ba890",
       "version_major": 2,
       "version_minor": 0
      },
      "text/plain": [
       "Epoch 949/2000:   0%|          | 0/29 [00:00<?, ?batch/s]"
      ]
     },
     "metadata": {},
     "output_type": "display_data"
    },
    {
     "data": {
      "application/vnd.jupyter.widget-view+json": {
       "model_id": "c9bab1b1bebd4a49883760ffdbe36ddf",
       "version_major": 2,
       "version_minor": 0
      },
      "text/plain": [
       "Epoch 950/2000:   0%|          | 0/29 [00:00<?, ?batch/s]"
      ]
     },
     "metadata": {},
     "output_type": "display_data"
    },
    {
     "data": {
      "application/vnd.jupyter.widget-view+json": {
       "model_id": "2fed058c400e436e9ce2597f94c1aca6",
       "version_major": 2,
       "version_minor": 0
      },
      "text/plain": [
       "Epoch 951/2000:   0%|          | 0/29 [00:00<?, ?batch/s]"
      ]
     },
     "metadata": {},
     "output_type": "display_data"
    },
    {
     "data": {
      "application/vnd.jupyter.widget-view+json": {
       "model_id": "69d300fee26144549256a12c5369d753",
       "version_major": 2,
       "version_minor": 0
      },
      "text/plain": [
       "Epoch 952/2000:   0%|          | 0/29 [00:00<?, ?batch/s]"
      ]
     },
     "metadata": {},
     "output_type": "display_data"
    },
    {
     "data": {
      "application/vnd.jupyter.widget-view+json": {
       "model_id": "542c39ab325e482b9c754625aac6e26e",
       "version_major": 2,
       "version_minor": 0
      },
      "text/plain": [
       "Epoch 953/2000:   0%|          | 0/29 [00:00<?, ?batch/s]"
      ]
     },
     "metadata": {},
     "output_type": "display_data"
    },
    {
     "data": {
      "application/vnd.jupyter.widget-view+json": {
       "model_id": "b3e65eb67dfb406292ed26642ca89a3f",
       "version_major": 2,
       "version_minor": 0
      },
      "text/plain": [
       "Epoch 954/2000:   0%|          | 0/29 [00:00<?, ?batch/s]"
      ]
     },
     "metadata": {},
     "output_type": "display_data"
    },
    {
     "name": "stderr",
     "output_type": "stream",
     "text": [
      "IOPub message rate exceeded.\n",
      "The Jupyter server will temporarily stop sending output\n",
      "to the client in order to avoid crashing it.\n",
      "To change this limit, set the config variable\n",
      "`--ServerApp.iopub_msg_rate_limit`.\n",
      "\n",
      "Current values:\n",
      "ServerApp.iopub_msg_rate_limit=1000.0 (msgs/sec)\n",
      "ServerApp.rate_limit_window=3.0 (secs)\n",
      "\n"
     ]
    },
    {
     "data": {
      "application/vnd.jupyter.widget-view+json": {
       "model_id": "c5841a19b3e64a8ca89a5d8a1a376ad1",
       "version_major": 2,
       "version_minor": 0
      },
      "text/plain": [
       "Epoch 963/2000:   0%|          | 0/29 [00:00<?, ?batch/s]"
      ]
     },
     "metadata": {},
     "output_type": "display_data"
    },
    {
     "data": {
      "application/vnd.jupyter.widget-view+json": {
       "model_id": "aef7e3ef052642609cb4fea7a33e3b8e",
       "version_major": 2,
       "version_minor": 0
      },
      "text/plain": [
       "Epoch 964/2000:   0%|          | 0/29 [00:00<?, ?batch/s]"
      ]
     },
     "metadata": {},
     "output_type": "display_data"
    },
    {
     "data": {
      "application/vnd.jupyter.widget-view+json": {
       "model_id": "0b33ad39d6c14c6288457d672a2ad674",
       "version_major": 2,
       "version_minor": 0
      },
      "text/plain": [
       "Epoch 965/2000:   0%|          | 0/29 [00:00<?, ?batch/s]"
      ]
     },
     "metadata": {},
     "output_type": "display_data"
    },
    {
     "data": {
      "application/vnd.jupyter.widget-view+json": {
       "model_id": "54b5d3acdbcd4e7c98fd150f13dae737",
       "version_major": 2,
       "version_minor": 0
      },
      "text/plain": [
       "Epoch 966/2000:   0%|          | 0/29 [00:00<?, ?batch/s]"
      ]
     },
     "metadata": {},
     "output_type": "display_data"
    },
    {
     "data": {
      "application/vnd.jupyter.widget-view+json": {
       "model_id": "748cc43af0a84f32a87ea2ebe6da4e1b",
       "version_major": 2,
       "version_minor": 0
      },
      "text/plain": [
       "Epoch 967/2000:   0%|          | 0/29 [00:00<?, ?batch/s]"
      ]
     },
     "metadata": {},
     "output_type": "display_data"
    },
    {
     "data": {
      "application/vnd.jupyter.widget-view+json": {
       "model_id": "53f42d12d915430c84bd2990a90f7224",
       "version_major": 2,
       "version_minor": 0
      },
      "text/plain": [
       "Epoch 968/2000:   0%|          | 0/29 [00:00<?, ?batch/s]"
      ]
     },
     "metadata": {},
     "output_type": "display_data"
    },
    {
     "data": {
      "application/vnd.jupyter.widget-view+json": {
       "model_id": "85d4acad458e4ac0a726e19aa3801d72",
       "version_major": 2,
       "version_minor": 0
      },
      "text/plain": [
       "Epoch 969/2000:   0%|          | 0/29 [00:00<?, ?batch/s]"
      ]
     },
     "metadata": {},
     "output_type": "display_data"
    },
    {
     "data": {
      "application/vnd.jupyter.widget-view+json": {
       "model_id": "d6aba3f5f86846ca824ab10e4f218d37",
       "version_major": 2,
       "version_minor": 0
      },
      "text/plain": [
       "Epoch 970/2000:   0%|          | 0/29 [00:00<?, ?batch/s]"
      ]
     },
     "metadata": {},
     "output_type": "display_data"
    },
    {
     "data": {
      "application/vnd.jupyter.widget-view+json": {
       "model_id": "cc4995864a574b63b51a9cf7ee114684",
       "version_major": 2,
       "version_minor": 0
      },
      "text/plain": [
       "Epoch 971/2000:   0%|          | 0/29 [00:00<?, ?batch/s]"
      ]
     },
     "metadata": {},
     "output_type": "display_data"
    },
    {
     "data": {
      "application/vnd.jupyter.widget-view+json": {
       "model_id": "ad0d74f31cff4d46aff77639f35b95f3",
       "version_major": 2,
       "version_minor": 0
      },
      "text/plain": [
       "Epoch 972/2000:   0%|          | 0/29 [00:00<?, ?batch/s]"
      ]
     },
     "metadata": {},
     "output_type": "display_data"
    },
    {
     "data": {
      "application/vnd.jupyter.widget-view+json": {
       "model_id": "26fc5de3252f4703ac67fa3d6561e6e1",
       "version_major": 2,
       "version_minor": 0
      },
      "text/plain": [
       "Epoch 973/2000:   0%|          | 0/29 [00:00<?, ?batch/s]"
      ]
     },
     "metadata": {},
     "output_type": "display_data"
    },
    {
     "data": {
      "application/vnd.jupyter.widget-view+json": {
       "model_id": "31f66f8cc3b84a9abe12e789c0cc2660",
       "version_major": 2,
       "version_minor": 0
      },
      "text/plain": [
       "Epoch 974/2000:   0%|          | 0/29 [00:00<?, ?batch/s]"
      ]
     },
     "metadata": {},
     "output_type": "display_data"
    },
    {
     "data": {
      "application/vnd.jupyter.widget-view+json": {
       "model_id": "3e633eca9d0c46c4a98b072b9f605d9c",
       "version_major": 2,
       "version_minor": 0
      },
      "text/plain": [
       "Epoch 975/2000:   0%|          | 0/29 [00:00<?, ?batch/s]"
      ]
     },
     "metadata": {},
     "output_type": "display_data"
    },
    {
     "data": {
      "application/vnd.jupyter.widget-view+json": {
       "model_id": "d7a5dc982ae1431fbd56c4d353b6cdc2",
       "version_major": 2,
       "version_minor": 0
      },
      "text/plain": [
       "Epoch 976/2000:   0%|          | 0/29 [00:00<?, ?batch/s]"
      ]
     },
     "metadata": {},
     "output_type": "display_data"
    },
    {
     "data": {
      "application/vnd.jupyter.widget-view+json": {
       "model_id": "273453885138490da16abd7d33aab6dd",
       "version_major": 2,
       "version_minor": 0
      },
      "text/plain": [
       "Epoch 977/2000:   0%|          | 0/29 [00:00<?, ?batch/s]"
      ]
     },
     "metadata": {},
     "output_type": "display_data"
    },
    {
     "data": {
      "application/vnd.jupyter.widget-view+json": {
       "model_id": "2728816888f648cbadc6cb56532322f7",
       "version_major": 2,
       "version_minor": 0
      },
      "text/plain": [
       "Epoch 978/2000:   0%|          | 0/29 [00:00<?, ?batch/s]"
      ]
     },
     "metadata": {},
     "output_type": "display_data"
    },
    {
     "data": {
      "application/vnd.jupyter.widget-view+json": {
       "model_id": "34f3d1f524bd4c9dbb931f442e35623a",
       "version_major": 2,
       "version_minor": 0
      },
      "text/plain": [
       "Epoch 979/2000:   0%|          | 0/29 [00:00<?, ?batch/s]"
      ]
     },
     "metadata": {},
     "output_type": "display_data"
    },
    {
     "data": {
      "application/vnd.jupyter.widget-view+json": {
       "model_id": "de5fef4e62364cda9adf950eb2d2bace",
       "version_major": 2,
       "version_minor": 0
      },
      "text/plain": [
       "Epoch 980/2000:   0%|          | 0/29 [00:00<?, ?batch/s]"
      ]
     },
     "metadata": {},
     "output_type": "display_data"
    },
    {
     "data": {
      "application/vnd.jupyter.widget-view+json": {
       "model_id": "112c1ecd74344d7091b7de4d16f3d2b9",
       "version_major": 2,
       "version_minor": 0
      },
      "text/plain": [
       "Epoch 981/2000:   0%|          | 0/29 [00:00<?, ?batch/s]"
      ]
     },
     "metadata": {},
     "output_type": "display_data"
    },
    {
     "data": {
      "application/vnd.jupyter.widget-view+json": {
       "model_id": "08da1989556448bd836fd36630d61f8c",
       "version_major": 2,
       "version_minor": 0
      },
      "text/plain": [
       "Epoch 982/2000:   0%|          | 0/29 [00:00<?, ?batch/s]"
      ]
     },
     "metadata": {},
     "output_type": "display_data"
    },
    {
     "data": {
      "application/vnd.jupyter.widget-view+json": {
       "model_id": "ec733e3b65704d21973968593422c03b",
       "version_major": 2,
       "version_minor": 0
      },
      "text/plain": [
       "Epoch 983/2000:   0%|          | 0/29 [00:00<?, ?batch/s]"
      ]
     },
     "metadata": {},
     "output_type": "display_data"
    },
    {
     "data": {
      "application/vnd.jupyter.widget-view+json": {
       "model_id": "696ffa734a9b4ce39fd9fed1e864eb54",
       "version_major": 2,
       "version_minor": 0
      },
      "text/plain": [
       "Epoch 984/2000:   0%|          | 0/29 [00:00<?, ?batch/s]"
      ]
     },
     "metadata": {},
     "output_type": "display_data"
    },
    {
     "data": {
      "application/vnd.jupyter.widget-view+json": {
       "model_id": "99d630f410034cbea501971e6a93113a",
       "version_major": 2,
       "version_minor": 0
      },
      "text/plain": [
       "Epoch 985/2000:   0%|          | 0/29 [00:00<?, ?batch/s]"
      ]
     },
     "metadata": {},
     "output_type": "display_data"
    },
    {
     "data": {
      "application/vnd.jupyter.widget-view+json": {
       "model_id": "f77ee9f126a44c78a04b67e1bb6212b6",
       "version_major": 2,
       "version_minor": 0
      },
      "text/plain": [
       "Epoch 986/2000:   0%|          | 0/29 [00:00<?, ?batch/s]"
      ]
     },
     "metadata": {},
     "output_type": "display_data"
    },
    {
     "data": {
      "application/vnd.jupyter.widget-view+json": {
       "model_id": "1571179046904206bbacd4e6331571be",
       "version_major": 2,
       "version_minor": 0
      },
      "text/plain": [
       "Epoch 987/2000:   0%|          | 0/29 [00:00<?, ?batch/s]"
      ]
     },
     "metadata": {},
     "output_type": "display_data"
    },
    {
     "data": {
      "application/vnd.jupyter.widget-view+json": {
       "model_id": "12253598772244ba84d415e70bbfa94c",
       "version_major": 2,
       "version_minor": 0
      },
      "text/plain": [
       "Epoch 988/2000:   0%|          | 0/29 [00:00<?, ?batch/s]"
      ]
     },
     "metadata": {},
     "output_type": "display_data"
    },
    {
     "data": {
      "application/vnd.jupyter.widget-view+json": {
       "model_id": "2d1f2cec19224fadb14fd0a263af58e2",
       "version_major": 2,
       "version_minor": 0
      },
      "text/plain": [
       "Epoch 989/2000:   0%|          | 0/29 [00:00<?, ?batch/s]"
      ]
     },
     "metadata": {},
     "output_type": "display_data"
    },
    {
     "data": {
      "application/vnd.jupyter.widget-view+json": {
       "model_id": "7594c4b3e46641ef8ce7e0ab3b8dd464",
       "version_major": 2,
       "version_minor": 0
      },
      "text/plain": [
       "Epoch 990/2000:   0%|          | 0/29 [00:00<?, ?batch/s]"
      ]
     },
     "metadata": {},
     "output_type": "display_data"
    },
    {
     "data": {
      "application/vnd.jupyter.widget-view+json": {
       "model_id": "6d264400b83346bab588b0b6b7fc5f76",
       "version_major": 2,
       "version_minor": 0
      },
      "text/plain": [
       "Epoch 991/2000:   0%|          | 0/29 [00:00<?, ?batch/s]"
      ]
     },
     "metadata": {},
     "output_type": "display_data"
    },
    {
     "data": {
      "application/vnd.jupyter.widget-view+json": {
       "model_id": "ac048ff7b788439e8620cf9f6841c0c6",
       "version_major": 2,
       "version_minor": 0
      },
      "text/plain": [
       "Epoch 992/2000:   0%|          | 0/29 [00:00<?, ?batch/s]"
      ]
     },
     "metadata": {},
     "output_type": "display_data"
    },
    {
     "data": {
      "application/vnd.jupyter.widget-view+json": {
       "model_id": "fb38d4515bef43c58d4ee95c911e30c5",
       "version_major": 2,
       "version_minor": 0
      },
      "text/plain": [
       "Epoch 993/2000:   0%|          | 0/29 [00:00<?, ?batch/s]"
      ]
     },
     "metadata": {},
     "output_type": "display_data"
    },
    {
     "data": {
      "application/vnd.jupyter.widget-view+json": {
       "model_id": "1b9b7829297d4430b7e6e6402ef97dcf",
       "version_major": 2,
       "version_minor": 0
      },
      "text/plain": [
       "Epoch 994/2000:   0%|          | 0/29 [00:00<?, ?batch/s]"
      ]
     },
     "metadata": {},
     "output_type": "display_data"
    },
    {
     "name": "stderr",
     "output_type": "stream",
     "text": [
      "IOPub message rate exceeded.\n",
      "The Jupyter server will temporarily stop sending output\n",
      "to the client in order to avoid crashing it.\n",
      "To change this limit, set the config variable\n",
      "`--ServerApp.iopub_msg_rate_limit`.\n",
      "\n",
      "Current values:\n",
      "ServerApp.iopub_msg_rate_limit=1000.0 (msgs/sec)\n",
      "ServerApp.rate_limit_window=3.0 (secs)\n",
      "\n"
     ]
    },
    {
     "data": {
      "application/vnd.jupyter.widget-view+json": {
       "model_id": "d13690e5b69644fda2fb7264a25b1798",
       "version_major": 2,
       "version_minor": 0
      },
      "text/plain": [
       "Epoch 1002/2000:   0%|          | 0/29 [00:00<?, ?batch/s]"
      ]
     },
     "metadata": {},
     "output_type": "display_data"
    },
    {
     "data": {
      "application/vnd.jupyter.widget-view+json": {
       "model_id": "d67a3959215e412396baf4be2d73befb",
       "version_major": 2,
       "version_minor": 0
      },
      "text/plain": [
       "Epoch 1003/2000:   0%|          | 0/29 [00:00<?, ?batch/s]"
      ]
     },
     "metadata": {},
     "output_type": "display_data"
    },
    {
     "data": {
      "application/vnd.jupyter.widget-view+json": {
       "model_id": "7e40802de1074c51b151a9dcaf9a18be",
       "version_major": 2,
       "version_minor": 0
      },
      "text/plain": [
       "Epoch 1004/2000:   0%|          | 0/29 [00:00<?, ?batch/s]"
      ]
     },
     "metadata": {},
     "output_type": "display_data"
    },
    {
     "data": {
      "application/vnd.jupyter.widget-view+json": {
       "model_id": "f173d908972d4669a2b68ab40b6b5126",
       "version_major": 2,
       "version_minor": 0
      },
      "text/plain": [
       "Epoch 1005/2000:   0%|          | 0/29 [00:00<?, ?batch/s]"
      ]
     },
     "metadata": {},
     "output_type": "display_data"
    },
    {
     "data": {
      "application/vnd.jupyter.widget-view+json": {
       "model_id": "457f8732424648fa8c0b75d6f660728d",
       "version_major": 2,
       "version_minor": 0
      },
      "text/plain": [
       "Epoch 1006/2000:   0%|          | 0/29 [00:00<?, ?batch/s]"
      ]
     },
     "metadata": {},
     "output_type": "display_data"
    },
    {
     "data": {
      "application/vnd.jupyter.widget-view+json": {
       "model_id": "13238e51cd09422ebd4abb6e874d18e5",
       "version_major": 2,
       "version_minor": 0
      },
      "text/plain": [
       "Epoch 1007/2000:   0%|          | 0/29 [00:00<?, ?batch/s]"
      ]
     },
     "metadata": {},
     "output_type": "display_data"
    },
    {
     "data": {
      "application/vnd.jupyter.widget-view+json": {
       "model_id": "d9e8c3864ce8403bb8f7a3e62304c495",
       "version_major": 2,
       "version_minor": 0
      },
      "text/plain": [
       "Epoch 1008/2000:   0%|          | 0/29 [00:00<?, ?batch/s]"
      ]
     },
     "metadata": {},
     "output_type": "display_data"
    },
    {
     "data": {
      "application/vnd.jupyter.widget-view+json": {
       "model_id": "8f92d7278c6349b191f0ea0166689740",
       "version_major": 2,
       "version_minor": 0
      },
      "text/plain": [
       "Epoch 1009/2000:   0%|          | 0/29 [00:00<?, ?batch/s]"
      ]
     },
     "metadata": {},
     "output_type": "display_data"
    },
    {
     "data": {
      "application/vnd.jupyter.widget-view+json": {
       "model_id": "5f92ecd6d0474314abeade8d180672d8",
       "version_major": 2,
       "version_minor": 0
      },
      "text/plain": [
       "Epoch 1010/2000:   0%|          | 0/29 [00:00<?, ?batch/s]"
      ]
     },
     "metadata": {},
     "output_type": "display_data"
    },
    {
     "data": {
      "application/vnd.jupyter.widget-view+json": {
       "model_id": "803b3a12fd9f4e569a0a89f1e67669ac",
       "version_major": 2,
       "version_minor": 0
      },
      "text/plain": [
       "Epoch 1011/2000:   0%|          | 0/29 [00:00<?, ?batch/s]"
      ]
     },
     "metadata": {},
     "output_type": "display_data"
    },
    {
     "data": {
      "application/vnd.jupyter.widget-view+json": {
       "model_id": "f036d004b3074fde9b982e45746e7b70",
       "version_major": 2,
       "version_minor": 0
      },
      "text/plain": [
       "Epoch 1012/2000:   0%|          | 0/29 [00:00<?, ?batch/s]"
      ]
     },
     "metadata": {},
     "output_type": "display_data"
    },
    {
     "data": {
      "application/vnd.jupyter.widget-view+json": {
       "model_id": "6bda84b7a6fa41c280bd07a1cf9811d1",
       "version_major": 2,
       "version_minor": 0
      },
      "text/plain": [
       "Epoch 1013/2000:   0%|          | 0/29 [00:00<?, ?batch/s]"
      ]
     },
     "metadata": {},
     "output_type": "display_data"
    },
    {
     "data": {
      "application/vnd.jupyter.widget-view+json": {
       "model_id": "d5c380845f7f4debbb297d54b01bf155",
       "version_major": 2,
       "version_minor": 0
      },
      "text/plain": [
       "Epoch 1014/2000:   0%|          | 0/29 [00:00<?, ?batch/s]"
      ]
     },
     "metadata": {},
     "output_type": "display_data"
    },
    {
     "data": {
      "application/vnd.jupyter.widget-view+json": {
       "model_id": "6253ee7edb0447d5938277f149c1b6cf",
       "version_major": 2,
       "version_minor": 0
      },
      "text/plain": [
       "Epoch 1015/2000:   0%|          | 0/29 [00:00<?, ?batch/s]"
      ]
     },
     "metadata": {},
     "output_type": "display_data"
    },
    {
     "data": {
      "application/vnd.jupyter.widget-view+json": {
       "model_id": "3e523dc75b2d4968a399a1479db3be2e",
       "version_major": 2,
       "version_minor": 0
      },
      "text/plain": [
       "Epoch 1016/2000:   0%|          | 0/29 [00:00<?, ?batch/s]"
      ]
     },
     "metadata": {},
     "output_type": "display_data"
    },
    {
     "data": {
      "application/vnd.jupyter.widget-view+json": {
       "model_id": "f9df35144fcd417db474657adc4ea4b2",
       "version_major": 2,
       "version_minor": 0
      },
      "text/plain": [
       "Epoch 1017/2000:   0%|          | 0/29 [00:00<?, ?batch/s]"
      ]
     },
     "metadata": {},
     "output_type": "display_data"
    },
    {
     "data": {
      "application/vnd.jupyter.widget-view+json": {
       "model_id": "42ea1e55333f420cb4f569c12fab7826",
       "version_major": 2,
       "version_minor": 0
      },
      "text/plain": [
       "Epoch 1018/2000:   0%|          | 0/29 [00:00<?, ?batch/s]"
      ]
     },
     "metadata": {},
     "output_type": "display_data"
    },
    {
     "data": {
      "application/vnd.jupyter.widget-view+json": {
       "model_id": "152a2b4b1642459a9f513fdc261675f7",
       "version_major": 2,
       "version_minor": 0
      },
      "text/plain": [
       "Epoch 1019/2000:   0%|          | 0/29 [00:00<?, ?batch/s]"
      ]
     },
     "metadata": {},
     "output_type": "display_data"
    },
    {
     "data": {
      "application/vnd.jupyter.widget-view+json": {
       "model_id": "243ed205953d4f5ebfbbe89d41dfb63f",
       "version_major": 2,
       "version_minor": 0
      },
      "text/plain": [
       "Epoch 1020/2000:   0%|          | 0/29 [00:00<?, ?batch/s]"
      ]
     },
     "metadata": {},
     "output_type": "display_data"
    },
    {
     "data": {
      "application/vnd.jupyter.widget-view+json": {
       "model_id": "5493da0357ca4b87b747bf065fce4551",
       "version_major": 2,
       "version_minor": 0
      },
      "text/plain": [
       "Epoch 1021/2000:   0%|          | 0/29 [00:00<?, ?batch/s]"
      ]
     },
     "metadata": {},
     "output_type": "display_data"
    },
    {
     "data": {
      "application/vnd.jupyter.widget-view+json": {
       "model_id": "2b2570b75ef84da8a91adf68fdd48b18",
       "version_major": 2,
       "version_minor": 0
      },
      "text/plain": [
       "Epoch 1022/2000:   0%|          | 0/29 [00:00<?, ?batch/s]"
      ]
     },
     "metadata": {},
     "output_type": "display_data"
    },
    {
     "data": {
      "application/vnd.jupyter.widget-view+json": {
       "model_id": "599c47bb35384e82af2c83fc83403714",
       "version_major": 2,
       "version_minor": 0
      },
      "text/plain": [
       "Epoch 1023/2000:   0%|          | 0/29 [00:00<?, ?batch/s]"
      ]
     },
     "metadata": {},
     "output_type": "display_data"
    },
    {
     "data": {
      "application/vnd.jupyter.widget-view+json": {
       "model_id": "322b0d21f79b4f43a80b67b311463753",
       "version_major": 2,
       "version_minor": 0
      },
      "text/plain": [
       "Epoch 1024/2000:   0%|          | 0/29 [00:00<?, ?batch/s]"
      ]
     },
     "metadata": {},
     "output_type": "display_data"
    },
    {
     "data": {
      "application/vnd.jupyter.widget-view+json": {
       "model_id": "ae6d72e0de3f4136867ff264a080afd7",
       "version_major": 2,
       "version_minor": 0
      },
      "text/plain": [
       "Epoch 1025/2000:   0%|          | 0/29 [00:00<?, ?batch/s]"
      ]
     },
     "metadata": {},
     "output_type": "display_data"
    },
    {
     "data": {
      "application/vnd.jupyter.widget-view+json": {
       "model_id": "16548e9f54c34bcdb7b4f592d4181009",
       "version_major": 2,
       "version_minor": 0
      },
      "text/plain": [
       "Epoch 1026/2000:   0%|          | 0/29 [00:00<?, ?batch/s]"
      ]
     },
     "metadata": {},
     "output_type": "display_data"
    },
    {
     "data": {
      "application/vnd.jupyter.widget-view+json": {
       "model_id": "43020d56e2f441108c99cf41b0e3e138",
       "version_major": 2,
       "version_minor": 0
      },
      "text/plain": [
       "Epoch 1027/2000:   0%|          | 0/29 [00:00<?, ?batch/s]"
      ]
     },
     "metadata": {},
     "output_type": "display_data"
    },
    {
     "data": {
      "application/vnd.jupyter.widget-view+json": {
       "model_id": "bcdbb15058c24ef590bb6f488795f06e",
       "version_major": 2,
       "version_minor": 0
      },
      "text/plain": [
       "Epoch 1028/2000:   0%|          | 0/29 [00:00<?, ?batch/s]"
      ]
     },
     "metadata": {},
     "output_type": "display_data"
    },
    {
     "data": {
      "application/vnd.jupyter.widget-view+json": {
       "model_id": "b9f5a3dc0cb044d698651dd079a2138c",
       "version_major": 2,
       "version_minor": 0
      },
      "text/plain": [
       "Epoch 1029/2000:   0%|          | 0/29 [00:00<?, ?batch/s]"
      ]
     },
     "metadata": {},
     "output_type": "display_data"
    },
    {
     "data": {
      "application/vnd.jupyter.widget-view+json": {
       "model_id": "1c42b4d547364593b0ea8087b32b1f39",
       "version_major": 2,
       "version_minor": 0
      },
      "text/plain": [
       "Epoch 1030/2000:   0%|          | 0/29 [00:00<?, ?batch/s]"
      ]
     },
     "metadata": {},
     "output_type": "display_data"
    },
    {
     "data": {
      "application/vnd.jupyter.widget-view+json": {
       "model_id": "e82959b31f7943c3ae2cd28c9519b8f2",
       "version_major": 2,
       "version_minor": 0
      },
      "text/plain": [
       "Epoch 1031/2000:   0%|          | 0/29 [00:00<?, ?batch/s]"
      ]
     },
     "metadata": {},
     "output_type": "display_data"
    },
    {
     "data": {
      "application/vnd.jupyter.widget-view+json": {
       "model_id": "c857e3519e5d409695fcc0f242e68879",
       "version_major": 2,
       "version_minor": 0
      },
      "text/plain": [
       "Epoch 1032/2000:   0%|          | 0/29 [00:00<?, ?batch/s]"
      ]
     },
     "metadata": {},
     "output_type": "display_data"
    },
    {
     "data": {
      "application/vnd.jupyter.widget-view+json": {
       "model_id": "e8a7425a7dcd47c09e3151c2795c0c2c",
       "version_major": 2,
       "version_minor": 0
      },
      "text/plain": [
       "Epoch 1033/2000:   0%|          | 0/29 [00:00<?, ?batch/s]"
      ]
     },
     "metadata": {},
     "output_type": "display_data"
    },
    {
     "name": "stderr",
     "output_type": "stream",
     "text": [
      "IOPub message rate exceeded.\n",
      "The Jupyter server will temporarily stop sending output\n",
      "to the client in order to avoid crashing it.\n",
      "To change this limit, set the config variable\n",
      "`--ServerApp.iopub_msg_rate_limit`.\n",
      "\n",
      "Current values:\n",
      "ServerApp.iopub_msg_rate_limit=1000.0 (msgs/sec)\n",
      "ServerApp.rate_limit_window=3.0 (secs)\n",
      "\n"
     ]
    },
    {
     "data": {
      "application/vnd.jupyter.widget-view+json": {
       "model_id": "36d9b8cf3be746ebba7c14669a86e4d6",
       "version_major": 2,
       "version_minor": 0
      },
      "text/plain": [
       "Epoch 1042/2000:   0%|          | 0/29 [00:00<?, ?batch/s]"
      ]
     },
     "metadata": {},
     "output_type": "display_data"
    },
    {
     "data": {
      "application/vnd.jupyter.widget-view+json": {
       "model_id": "8a2fc8b7a96b4b87a87dc26645e50a21",
       "version_major": 2,
       "version_minor": 0
      },
      "text/plain": [
       "Epoch 1043/2000:   0%|          | 0/29 [00:00<?, ?batch/s]"
      ]
     },
     "metadata": {},
     "output_type": "display_data"
    },
    {
     "data": {
      "application/vnd.jupyter.widget-view+json": {
       "model_id": "dd4ca635fcfd404e9f241e1b6ff39ab1",
       "version_major": 2,
       "version_minor": 0
      },
      "text/plain": [
       "Epoch 1044/2000:   0%|          | 0/29 [00:00<?, ?batch/s]"
      ]
     },
     "metadata": {},
     "output_type": "display_data"
    },
    {
     "data": {
      "application/vnd.jupyter.widget-view+json": {
       "model_id": "29ea676880eb493bb045121304b68ddc",
       "version_major": 2,
       "version_minor": 0
      },
      "text/plain": [
       "Epoch 1045/2000:   0%|          | 0/29 [00:00<?, ?batch/s]"
      ]
     },
     "metadata": {},
     "output_type": "display_data"
    },
    {
     "data": {
      "application/vnd.jupyter.widget-view+json": {
       "model_id": "b3c86e0e730b47b6a58bbc9d5a06786e",
       "version_major": 2,
       "version_minor": 0
      },
      "text/plain": [
       "Epoch 1046/2000:   0%|          | 0/29 [00:00<?, ?batch/s]"
      ]
     },
     "metadata": {},
     "output_type": "display_data"
    },
    {
     "data": {
      "application/vnd.jupyter.widget-view+json": {
       "model_id": "9e260c0b6176493881d05af0132c814c",
       "version_major": 2,
       "version_minor": 0
      },
      "text/plain": [
       "Epoch 1047/2000:   0%|          | 0/29 [00:00<?, ?batch/s]"
      ]
     },
     "metadata": {},
     "output_type": "display_data"
    },
    {
     "data": {
      "application/vnd.jupyter.widget-view+json": {
       "model_id": "7e637144193d4eaba242acdff940b421",
       "version_major": 2,
       "version_minor": 0
      },
      "text/plain": [
       "Epoch 1048/2000:   0%|          | 0/29 [00:00<?, ?batch/s]"
      ]
     },
     "metadata": {},
     "output_type": "display_data"
    },
    {
     "data": {
      "application/vnd.jupyter.widget-view+json": {
       "model_id": "808e2b25d8064c98a30d31719bfa4f8d",
       "version_major": 2,
       "version_minor": 0
      },
      "text/plain": [
       "Epoch 1049/2000:   0%|          | 0/29 [00:00<?, ?batch/s]"
      ]
     },
     "metadata": {},
     "output_type": "display_data"
    },
    {
     "data": {
      "application/vnd.jupyter.widget-view+json": {
       "model_id": "862f1d60bb7c4a3d889931a8bf04e09a",
       "version_major": 2,
       "version_minor": 0
      },
      "text/plain": [
       "Epoch 1050/2000:   0%|          | 0/29 [00:00<?, ?batch/s]"
      ]
     },
     "metadata": {},
     "output_type": "display_data"
    },
    {
     "data": {
      "application/vnd.jupyter.widget-view+json": {
       "model_id": "5453d3ee7c564caf9df3dafc66fab74f",
       "version_major": 2,
       "version_minor": 0
      },
      "text/plain": [
       "Epoch 1051/2000:   0%|          | 0/29 [00:00<?, ?batch/s]"
      ]
     },
     "metadata": {},
     "output_type": "display_data"
    },
    {
     "data": {
      "application/vnd.jupyter.widget-view+json": {
       "model_id": "2e3ce31dc26e4b01b4eabfa8d72ce629",
       "version_major": 2,
       "version_minor": 0
      },
      "text/plain": [
       "Epoch 1052/2000:   0%|          | 0/29 [00:00<?, ?batch/s]"
      ]
     },
     "metadata": {},
     "output_type": "display_data"
    },
    {
     "data": {
      "application/vnd.jupyter.widget-view+json": {
       "model_id": "870e447684cb48cf81c8d697b77663f0",
       "version_major": 2,
       "version_minor": 0
      },
      "text/plain": [
       "Epoch 1053/2000:   0%|          | 0/29 [00:00<?, ?batch/s]"
      ]
     },
     "metadata": {},
     "output_type": "display_data"
    },
    {
     "data": {
      "application/vnd.jupyter.widget-view+json": {
       "model_id": "50267ec69f174d7098ae4e0410b6472d",
       "version_major": 2,
       "version_minor": 0
      },
      "text/plain": [
       "Epoch 1054/2000:   0%|          | 0/29 [00:00<?, ?batch/s]"
      ]
     },
     "metadata": {},
     "output_type": "display_data"
    },
    {
     "data": {
      "application/vnd.jupyter.widget-view+json": {
       "model_id": "3b5f2d2f83f44fc39cae3bcaa4533287",
       "version_major": 2,
       "version_minor": 0
      },
      "text/plain": [
       "Epoch 1055/2000:   0%|          | 0/29 [00:00<?, ?batch/s]"
      ]
     },
     "metadata": {},
     "output_type": "display_data"
    },
    {
     "data": {
      "application/vnd.jupyter.widget-view+json": {
       "model_id": "a9fcf1e010ad44cfa49db81c9915cb38",
       "version_major": 2,
       "version_minor": 0
      },
      "text/plain": [
       "Epoch 1056/2000:   0%|          | 0/29 [00:00<?, ?batch/s]"
      ]
     },
     "metadata": {},
     "output_type": "display_data"
    },
    {
     "data": {
      "application/vnd.jupyter.widget-view+json": {
       "model_id": "8bd204667d3347e0bac89c568aa2b97e",
       "version_major": 2,
       "version_minor": 0
      },
      "text/plain": [
       "Epoch 1057/2000:   0%|          | 0/29 [00:00<?, ?batch/s]"
      ]
     },
     "metadata": {},
     "output_type": "display_data"
    },
    {
     "data": {
      "application/vnd.jupyter.widget-view+json": {
       "model_id": "f235cb4bb51341e7ad75006b0b9d1048",
       "version_major": 2,
       "version_minor": 0
      },
      "text/plain": [
       "Epoch 1058/2000:   0%|          | 0/29 [00:00<?, ?batch/s]"
      ]
     },
     "metadata": {},
     "output_type": "display_data"
    },
    {
     "data": {
      "application/vnd.jupyter.widget-view+json": {
       "model_id": "a07c02039c944518878b2fcc637fb5a0",
       "version_major": 2,
       "version_minor": 0
      },
      "text/plain": [
       "Epoch 1059/2000:   0%|          | 0/29 [00:00<?, ?batch/s]"
      ]
     },
     "metadata": {},
     "output_type": "display_data"
    },
    {
     "data": {
      "application/vnd.jupyter.widget-view+json": {
       "model_id": "39bc9012aadf4f2ba78e28ffa0defbe3",
       "version_major": 2,
       "version_minor": 0
      },
      "text/plain": [
       "Epoch 1060/2000:   0%|          | 0/29 [00:00<?, ?batch/s]"
      ]
     },
     "metadata": {},
     "output_type": "display_data"
    },
    {
     "data": {
      "application/vnd.jupyter.widget-view+json": {
       "model_id": "290caeddeaaa49f5ba20fbc440ec61fb",
       "version_major": 2,
       "version_minor": 0
      },
      "text/plain": [
       "Epoch 1061/2000:   0%|          | 0/29 [00:00<?, ?batch/s]"
      ]
     },
     "metadata": {},
     "output_type": "display_data"
    },
    {
     "data": {
      "application/vnd.jupyter.widget-view+json": {
       "model_id": "952339339ebb42bd9adfdc37eebcc4c1",
       "version_major": 2,
       "version_minor": 0
      },
      "text/plain": [
       "Epoch 1062/2000:   0%|          | 0/29 [00:00<?, ?batch/s]"
      ]
     },
     "metadata": {},
     "output_type": "display_data"
    },
    {
     "data": {
      "application/vnd.jupyter.widget-view+json": {
       "model_id": "755b0ac68bef430da30901c36253dfb7",
       "version_major": 2,
       "version_minor": 0
      },
      "text/plain": [
       "Epoch 1063/2000:   0%|          | 0/29 [00:00<?, ?batch/s]"
      ]
     },
     "metadata": {},
     "output_type": "display_data"
    },
    {
     "data": {
      "application/vnd.jupyter.widget-view+json": {
       "model_id": "a37db1f70d844764babd6056387bd7f2",
       "version_major": 2,
       "version_minor": 0
      },
      "text/plain": [
       "Epoch 1064/2000:   0%|          | 0/29 [00:00<?, ?batch/s]"
      ]
     },
     "metadata": {},
     "output_type": "display_data"
    },
    {
     "data": {
      "application/vnd.jupyter.widget-view+json": {
       "model_id": "bd974aeaaa26494595779749f4dd0a67",
       "version_major": 2,
       "version_minor": 0
      },
      "text/plain": [
       "Epoch 1065/2000:   0%|          | 0/29 [00:00<?, ?batch/s]"
      ]
     },
     "metadata": {},
     "output_type": "display_data"
    },
    {
     "data": {
      "application/vnd.jupyter.widget-view+json": {
       "model_id": "f566e80e1a774646bbf03b756c96211a",
       "version_major": 2,
       "version_minor": 0
      },
      "text/plain": [
       "Epoch 1066/2000:   0%|          | 0/29 [00:00<?, ?batch/s]"
      ]
     },
     "metadata": {},
     "output_type": "display_data"
    },
    {
     "data": {
      "application/vnd.jupyter.widget-view+json": {
       "model_id": "6629498c0f414561ace844c6a398554f",
       "version_major": 2,
       "version_minor": 0
      },
      "text/plain": [
       "Epoch 1067/2000:   0%|          | 0/29 [00:00<?, ?batch/s]"
      ]
     },
     "metadata": {},
     "output_type": "display_data"
    },
    {
     "data": {
      "application/vnd.jupyter.widget-view+json": {
       "model_id": "6282d8e58f9d47e09c4f904b510f1848",
       "version_major": 2,
       "version_minor": 0
      },
      "text/plain": [
       "Epoch 1068/2000:   0%|          | 0/29 [00:00<?, ?batch/s]"
      ]
     },
     "metadata": {},
     "output_type": "display_data"
    },
    {
     "data": {
      "application/vnd.jupyter.widget-view+json": {
       "model_id": "5fb5fe9a8ad44b718bf685f6cde0204e",
       "version_major": 2,
       "version_minor": 0
      },
      "text/plain": [
       "Epoch 1069/2000:   0%|          | 0/29 [00:00<?, ?batch/s]"
      ]
     },
     "metadata": {},
     "output_type": "display_data"
    },
    {
     "data": {
      "application/vnd.jupyter.widget-view+json": {
       "model_id": "9fc16a5828a7489fada26844fedef23d",
       "version_major": 2,
       "version_minor": 0
      },
      "text/plain": [
       "Epoch 1070/2000:   0%|          | 0/29 [00:00<?, ?batch/s]"
      ]
     },
     "metadata": {},
     "output_type": "display_data"
    },
    {
     "data": {
      "application/vnd.jupyter.widget-view+json": {
       "model_id": "53fd46725fad4f26b7e28ad8c3305286",
       "version_major": 2,
       "version_minor": 0
      },
      "text/plain": [
       "Epoch 1071/2000:   0%|          | 0/29 [00:00<?, ?batch/s]"
      ]
     },
     "metadata": {},
     "output_type": "display_data"
    },
    {
     "data": {
      "application/vnd.jupyter.widget-view+json": {
       "model_id": "4b909948c62a404f83f595153abc6786",
       "version_major": 2,
       "version_minor": 0
      },
      "text/plain": [
       "Epoch 1072/2000:   0%|          | 0/29 [00:00<?, ?batch/s]"
      ]
     },
     "metadata": {},
     "output_type": "display_data"
    },
    {
     "data": {
      "application/vnd.jupyter.widget-view+json": {
       "model_id": "b510519f78e54e12b014f65486fdbae6",
       "version_major": 2,
       "version_minor": 0
      },
      "text/plain": [
       "Epoch 1073/2000:   0%|          | 0/29 [00:00<?, ?batch/s]"
      ]
     },
     "metadata": {},
     "output_type": "display_data"
    },
    {
     "name": "stderr",
     "output_type": "stream",
     "text": [
      "IOPub message rate exceeded.\n",
      "The Jupyter server will temporarily stop sending output\n",
      "to the client in order to avoid crashing it.\n",
      "To change this limit, set the config variable\n",
      "`--ServerApp.iopub_msg_rate_limit`.\n",
      "\n",
      "Current values:\n",
      "ServerApp.iopub_msg_rate_limit=1000.0 (msgs/sec)\n",
      "ServerApp.rate_limit_window=3.0 (secs)\n",
      "\n"
     ]
    },
    {
     "data": {
      "application/vnd.jupyter.widget-view+json": {
       "model_id": "0b6f224291bd4d4c8bf26af66dacb97b",
       "version_major": 2,
       "version_minor": 0
      },
      "text/plain": [
       "Epoch 1081/2000:   0%|          | 0/29 [00:00<?, ?batch/s]"
      ]
     },
     "metadata": {},
     "output_type": "display_data"
    },
    {
     "data": {
      "application/vnd.jupyter.widget-view+json": {
       "model_id": "74fddf64b8594d7a93ad2e5df95b4054",
       "version_major": 2,
       "version_minor": 0
      },
      "text/plain": [
       "Epoch 1082/2000:   0%|          | 0/29 [00:00<?, ?batch/s]"
      ]
     },
     "metadata": {},
     "output_type": "display_data"
    },
    {
     "data": {
      "application/vnd.jupyter.widget-view+json": {
       "model_id": "52f30ebbacb846e9b74010c2f183a2a9",
       "version_major": 2,
       "version_minor": 0
      },
      "text/plain": [
       "Epoch 1083/2000:   0%|          | 0/29 [00:00<?, ?batch/s]"
      ]
     },
     "metadata": {},
     "output_type": "display_data"
    },
    {
     "data": {
      "application/vnd.jupyter.widget-view+json": {
       "model_id": "6c8dff816d2445588cb41de760a00f79",
       "version_major": 2,
       "version_minor": 0
      },
      "text/plain": [
       "Epoch 1084/2000:   0%|          | 0/29 [00:00<?, ?batch/s]"
      ]
     },
     "metadata": {},
     "output_type": "display_data"
    },
    {
     "data": {
      "application/vnd.jupyter.widget-view+json": {
       "model_id": "7855451c222f4eaf872b91d894d00ca5",
       "version_major": 2,
       "version_minor": 0
      },
      "text/plain": [
       "Epoch 1085/2000:   0%|          | 0/29 [00:00<?, ?batch/s]"
      ]
     },
     "metadata": {},
     "output_type": "display_data"
    },
    {
     "data": {
      "application/vnd.jupyter.widget-view+json": {
       "model_id": "06f231ea0f8543879499c2c93db6369f",
       "version_major": 2,
       "version_minor": 0
      },
      "text/plain": [
       "Epoch 1086/2000:   0%|          | 0/29 [00:00<?, ?batch/s]"
      ]
     },
     "metadata": {},
     "output_type": "display_data"
    },
    {
     "data": {
      "application/vnd.jupyter.widget-view+json": {
       "model_id": "9f7a875f52144de3873b0799e5a2c9f3",
       "version_major": 2,
       "version_minor": 0
      },
      "text/plain": [
       "Epoch 1087/2000:   0%|          | 0/29 [00:00<?, ?batch/s]"
      ]
     },
     "metadata": {},
     "output_type": "display_data"
    },
    {
     "data": {
      "application/vnd.jupyter.widget-view+json": {
       "model_id": "14057de12f4c4682a7951d75a9921ac9",
       "version_major": 2,
       "version_minor": 0
      },
      "text/plain": [
       "Epoch 1088/2000:   0%|          | 0/29 [00:00<?, ?batch/s]"
      ]
     },
     "metadata": {},
     "output_type": "display_data"
    },
    {
     "data": {
      "application/vnd.jupyter.widget-view+json": {
       "model_id": "a7b3ac7f2fbb426f948f03fe37efbdf5",
       "version_major": 2,
       "version_minor": 0
      },
      "text/plain": [
       "Epoch 1089/2000:   0%|          | 0/29 [00:00<?, ?batch/s]"
      ]
     },
     "metadata": {},
     "output_type": "display_data"
    },
    {
     "data": {
      "application/vnd.jupyter.widget-view+json": {
       "model_id": "376fada72eed4dad9fd065c2925e4753",
       "version_major": 2,
       "version_minor": 0
      },
      "text/plain": [
       "Epoch 1090/2000:   0%|          | 0/29 [00:00<?, ?batch/s]"
      ]
     },
     "metadata": {},
     "output_type": "display_data"
    },
    {
     "data": {
      "application/vnd.jupyter.widget-view+json": {
       "model_id": "07decaffe07845d39be7640ac5d92402",
       "version_major": 2,
       "version_minor": 0
      },
      "text/plain": [
       "Epoch 1091/2000:   0%|          | 0/29 [00:00<?, ?batch/s]"
      ]
     },
     "metadata": {},
     "output_type": "display_data"
    },
    {
     "data": {
      "application/vnd.jupyter.widget-view+json": {
       "model_id": "26407d8e59ae493bbae25420fadf6ce3",
       "version_major": 2,
       "version_minor": 0
      },
      "text/plain": [
       "Epoch 1092/2000:   0%|          | 0/29 [00:00<?, ?batch/s]"
      ]
     },
     "metadata": {},
     "output_type": "display_data"
    },
    {
     "data": {
      "application/vnd.jupyter.widget-view+json": {
       "model_id": "ff06f268c353400fa485116ee19dd412",
       "version_major": 2,
       "version_minor": 0
      },
      "text/plain": [
       "Epoch 1093/2000:   0%|          | 0/29 [00:00<?, ?batch/s]"
      ]
     },
     "metadata": {},
     "output_type": "display_data"
    },
    {
     "data": {
      "application/vnd.jupyter.widget-view+json": {
       "model_id": "d952063f7e3b4e7e9919c4053ba80402",
       "version_major": 2,
       "version_minor": 0
      },
      "text/plain": [
       "Epoch 1094/2000:   0%|          | 0/29 [00:00<?, ?batch/s]"
      ]
     },
     "metadata": {},
     "output_type": "display_data"
    },
    {
     "data": {
      "application/vnd.jupyter.widget-view+json": {
       "model_id": "8688423164904ad8a8a70b79ef09eaba",
       "version_major": 2,
       "version_minor": 0
      },
      "text/plain": [
       "Epoch 1095/2000:   0%|          | 0/29 [00:00<?, ?batch/s]"
      ]
     },
     "metadata": {},
     "output_type": "display_data"
    },
    {
     "data": {
      "application/vnd.jupyter.widget-view+json": {
       "model_id": "50c7825e4687404e8e68dc8925c75a18",
       "version_major": 2,
       "version_minor": 0
      },
      "text/plain": [
       "Epoch 1096/2000:   0%|          | 0/29 [00:00<?, ?batch/s]"
      ]
     },
     "metadata": {},
     "output_type": "display_data"
    },
    {
     "data": {
      "application/vnd.jupyter.widget-view+json": {
       "model_id": "3edab9e44a2d456caebd7886f2968a7c",
       "version_major": 2,
       "version_minor": 0
      },
      "text/plain": [
       "Epoch 1097/2000:   0%|          | 0/29 [00:00<?, ?batch/s]"
      ]
     },
     "metadata": {},
     "output_type": "display_data"
    },
    {
     "data": {
      "application/vnd.jupyter.widget-view+json": {
       "model_id": "f8ac9560bf2c40668baa5c3bb2dd1dec",
       "version_major": 2,
       "version_minor": 0
      },
      "text/plain": [
       "Epoch 1098/2000:   0%|          | 0/29 [00:00<?, ?batch/s]"
      ]
     },
     "metadata": {},
     "output_type": "display_data"
    },
    {
     "data": {
      "application/vnd.jupyter.widget-view+json": {
       "model_id": "e9702a88c46444a28a1598ae8b63dcf1",
       "version_major": 2,
       "version_minor": 0
      },
      "text/plain": [
       "Epoch 1099/2000:   0%|          | 0/29 [00:00<?, ?batch/s]"
      ]
     },
     "metadata": {},
     "output_type": "display_data"
    },
    {
     "data": {
      "application/vnd.jupyter.widget-view+json": {
       "model_id": "3cbcc04cc26d4641ae6242658930f423",
       "version_major": 2,
       "version_minor": 0
      },
      "text/plain": [
       "Epoch 1100/2000:   0%|          | 0/29 [00:00<?, ?batch/s]"
      ]
     },
     "metadata": {},
     "output_type": "display_data"
    },
    {
     "data": {
      "application/vnd.jupyter.widget-view+json": {
       "model_id": "1c5fa0f6b9f340aa9098fedd0d331672",
       "version_major": 2,
       "version_minor": 0
      },
      "text/plain": [
       "Epoch 1101/2000:   0%|          | 0/29 [00:00<?, ?batch/s]"
      ]
     },
     "metadata": {},
     "output_type": "display_data"
    },
    {
     "data": {
      "application/vnd.jupyter.widget-view+json": {
       "model_id": "2a4b23c728e1437aa245c6c00695f8bf",
       "version_major": 2,
       "version_minor": 0
      },
      "text/plain": [
       "Epoch 1102/2000:   0%|          | 0/29 [00:00<?, ?batch/s]"
      ]
     },
     "metadata": {},
     "output_type": "display_data"
    },
    {
     "data": {
      "application/vnd.jupyter.widget-view+json": {
       "model_id": "f616577687a64e049b3d950bb87274cf",
       "version_major": 2,
       "version_minor": 0
      },
      "text/plain": [
       "Epoch 1103/2000:   0%|          | 0/29 [00:00<?, ?batch/s]"
      ]
     },
     "metadata": {},
     "output_type": "display_data"
    },
    {
     "data": {
      "application/vnd.jupyter.widget-view+json": {
       "model_id": "f909b72c7eb843bea0611e2fb6f9b13d",
       "version_major": 2,
       "version_minor": 0
      },
      "text/plain": [
       "Epoch 1104/2000:   0%|          | 0/29 [00:00<?, ?batch/s]"
      ]
     },
     "metadata": {},
     "output_type": "display_data"
    },
    {
     "data": {
      "application/vnd.jupyter.widget-view+json": {
       "model_id": "383602b212ee4e75b6c648f1d9d65bb4",
       "version_major": 2,
       "version_minor": 0
      },
      "text/plain": [
       "Epoch 1105/2000:   0%|          | 0/29 [00:00<?, ?batch/s]"
      ]
     },
     "metadata": {},
     "output_type": "display_data"
    },
    {
     "data": {
      "application/vnd.jupyter.widget-view+json": {
       "model_id": "4f17cd050b7945e3b180a1bc44ff00c4",
       "version_major": 2,
       "version_minor": 0
      },
      "text/plain": [
       "Epoch 1106/2000:   0%|          | 0/29 [00:00<?, ?batch/s]"
      ]
     },
     "metadata": {},
     "output_type": "display_data"
    },
    {
     "data": {
      "application/vnd.jupyter.widget-view+json": {
       "model_id": "20ebda7ea9bf496c9821a2176b3df898",
       "version_major": 2,
       "version_minor": 0
      },
      "text/plain": [
       "Epoch 1107/2000:   0%|          | 0/29 [00:00<?, ?batch/s]"
      ]
     },
     "metadata": {},
     "output_type": "display_data"
    },
    {
     "data": {
      "application/vnd.jupyter.widget-view+json": {
       "model_id": "256545841c8c4b2589bdc91f00e59913",
       "version_major": 2,
       "version_minor": 0
      },
      "text/plain": [
       "Epoch 1108/2000:   0%|          | 0/29 [00:00<?, ?batch/s]"
      ]
     },
     "metadata": {},
     "output_type": "display_data"
    },
    {
     "data": {
      "application/vnd.jupyter.widget-view+json": {
       "model_id": "4c901b59aeca42e1b0b9a91126e71606",
       "version_major": 2,
       "version_minor": 0
      },
      "text/plain": [
       "Epoch 1109/2000:   0%|          | 0/29 [00:00<?, ?batch/s]"
      ]
     },
     "metadata": {},
     "output_type": "display_data"
    },
    {
     "data": {
      "application/vnd.jupyter.widget-view+json": {
       "model_id": "77e5eaca6ccb4606a79fd20b75e31234",
       "version_major": 2,
       "version_minor": 0
      },
      "text/plain": [
       "Epoch 1110/2000:   0%|          | 0/29 [00:00<?, ?batch/s]"
      ]
     },
     "metadata": {},
     "output_type": "display_data"
    },
    {
     "data": {
      "application/vnd.jupyter.widget-view+json": {
       "model_id": "35477edba0df4e068948e96f9ef245aa",
       "version_major": 2,
       "version_minor": 0
      },
      "text/plain": [
       "Epoch 1111/2000:   0%|          | 0/29 [00:00<?, ?batch/s]"
      ]
     },
     "metadata": {},
     "output_type": "display_data"
    },
    {
     "data": {
      "application/vnd.jupyter.widget-view+json": {
       "model_id": "a956d264cb8f44fcbcb7c56f29d1de5d",
       "version_major": 2,
       "version_minor": 0
      },
      "text/plain": [
       "Epoch 1112/2000:   0%|          | 0/29 [00:00<?, ?batch/s]"
      ]
     },
     "metadata": {},
     "output_type": "display_data"
    },
    {
     "name": "stderr",
     "output_type": "stream",
     "text": [
      "IOPub message rate exceeded.\n",
      "The Jupyter server will temporarily stop sending output\n",
      "to the client in order to avoid crashing it.\n",
      "To change this limit, set the config variable\n",
      "`--ServerApp.iopub_msg_rate_limit`.\n",
      "\n",
      "Current values:\n",
      "ServerApp.iopub_msg_rate_limit=1000.0 (msgs/sec)\n",
      "ServerApp.rate_limit_window=3.0 (secs)\n",
      "\n"
     ]
    },
    {
     "data": {
      "application/vnd.jupyter.widget-view+json": {
       "model_id": "9e0658db3e7a4dadae3f18c4b054d0c8",
       "version_major": 2,
       "version_minor": 0
      },
      "text/plain": [
       "Epoch 1121/2000:   0%|          | 0/29 [00:00<?, ?batch/s]"
      ]
     },
     "metadata": {},
     "output_type": "display_data"
    },
    {
     "data": {
      "application/vnd.jupyter.widget-view+json": {
       "model_id": "a0325da418e94b3fa5df3752d5275982",
       "version_major": 2,
       "version_minor": 0
      },
      "text/plain": [
       "Epoch 1122/2000:   0%|          | 0/29 [00:00<?, ?batch/s]"
      ]
     },
     "metadata": {},
     "output_type": "display_data"
    },
    {
     "data": {
      "application/vnd.jupyter.widget-view+json": {
       "model_id": "7f6dba9879de45a0886c76419cfd3420",
       "version_major": 2,
       "version_minor": 0
      },
      "text/plain": [
       "Epoch 1123/2000:   0%|          | 0/29 [00:00<?, ?batch/s]"
      ]
     },
     "metadata": {},
     "output_type": "display_data"
    },
    {
     "data": {
      "application/vnd.jupyter.widget-view+json": {
       "model_id": "7661de23ef194d4b96882010191b09c9",
       "version_major": 2,
       "version_minor": 0
      },
      "text/plain": [
       "Epoch 1124/2000:   0%|          | 0/29 [00:00<?, ?batch/s]"
      ]
     },
     "metadata": {},
     "output_type": "display_data"
    },
    {
     "data": {
      "application/vnd.jupyter.widget-view+json": {
       "model_id": "87b4a0d750e3416295ffdd68ea3d6137",
       "version_major": 2,
       "version_minor": 0
      },
      "text/plain": [
       "Epoch 1125/2000:   0%|          | 0/29 [00:00<?, ?batch/s]"
      ]
     },
     "metadata": {},
     "output_type": "display_data"
    },
    {
     "data": {
      "application/vnd.jupyter.widget-view+json": {
       "model_id": "752ef683c360415fbd3087b402deaef7",
       "version_major": 2,
       "version_minor": 0
      },
      "text/plain": [
       "Epoch 1126/2000:   0%|          | 0/29 [00:00<?, ?batch/s]"
      ]
     },
     "metadata": {},
     "output_type": "display_data"
    },
    {
     "data": {
      "application/vnd.jupyter.widget-view+json": {
       "model_id": "4e12847595f9427986a5e774f3462984",
       "version_major": 2,
       "version_minor": 0
      },
      "text/plain": [
       "Epoch 1127/2000:   0%|          | 0/29 [00:00<?, ?batch/s]"
      ]
     },
     "metadata": {},
     "output_type": "display_data"
    },
    {
     "data": {
      "application/vnd.jupyter.widget-view+json": {
       "model_id": "9147997c6d3543c78674dd0df30e76c2",
       "version_major": 2,
       "version_minor": 0
      },
      "text/plain": [
       "Epoch 1128/2000:   0%|          | 0/29 [00:00<?, ?batch/s]"
      ]
     },
     "metadata": {},
     "output_type": "display_data"
    },
    {
     "data": {
      "application/vnd.jupyter.widget-view+json": {
       "model_id": "f585f87d89944de39f538f0401f3f30a",
       "version_major": 2,
       "version_minor": 0
      },
      "text/plain": [
       "Epoch 1129/2000:   0%|          | 0/29 [00:00<?, ?batch/s]"
      ]
     },
     "metadata": {},
     "output_type": "display_data"
    },
    {
     "data": {
      "application/vnd.jupyter.widget-view+json": {
       "model_id": "da91b1a86cf9447f8de4493f8eff3b6b",
       "version_major": 2,
       "version_minor": 0
      },
      "text/plain": [
       "Epoch 1130/2000:   0%|          | 0/29 [00:00<?, ?batch/s]"
      ]
     },
     "metadata": {},
     "output_type": "display_data"
    },
    {
     "data": {
      "application/vnd.jupyter.widget-view+json": {
       "model_id": "b51e6c9a2e0b4a32a7c6803196a66edf",
       "version_major": 2,
       "version_minor": 0
      },
      "text/plain": [
       "Epoch 1131/2000:   0%|          | 0/29 [00:00<?, ?batch/s]"
      ]
     },
     "metadata": {},
     "output_type": "display_data"
    },
    {
     "data": {
      "application/vnd.jupyter.widget-view+json": {
       "model_id": "f8e29289ece94745a80c2e3adee360ef",
       "version_major": 2,
       "version_minor": 0
      },
      "text/plain": [
       "Epoch 1132/2000:   0%|          | 0/29 [00:00<?, ?batch/s]"
      ]
     },
     "metadata": {},
     "output_type": "display_data"
    },
    {
     "data": {
      "application/vnd.jupyter.widget-view+json": {
       "model_id": "68dddeafced44295bf1a091d0870ab2f",
       "version_major": 2,
       "version_minor": 0
      },
      "text/plain": [
       "Epoch 1133/2000:   0%|          | 0/29 [00:00<?, ?batch/s]"
      ]
     },
     "metadata": {},
     "output_type": "display_data"
    },
    {
     "data": {
      "application/vnd.jupyter.widget-view+json": {
       "model_id": "7766650b83cf43b58dbab94786a07b90",
       "version_major": 2,
       "version_minor": 0
      },
      "text/plain": [
       "Epoch 1134/2000:   0%|          | 0/29 [00:00<?, ?batch/s]"
      ]
     },
     "metadata": {},
     "output_type": "display_data"
    },
    {
     "data": {
      "application/vnd.jupyter.widget-view+json": {
       "model_id": "f9ef90eea85d4bca860fdae59dd09aed",
       "version_major": 2,
       "version_minor": 0
      },
      "text/plain": [
       "Epoch 1135/2000:   0%|          | 0/29 [00:00<?, ?batch/s]"
      ]
     },
     "metadata": {},
     "output_type": "display_data"
    },
    {
     "data": {
      "application/vnd.jupyter.widget-view+json": {
       "model_id": "934cd6bf1331422895f5d3e0c4681f8a",
       "version_major": 2,
       "version_minor": 0
      },
      "text/plain": [
       "Epoch 1136/2000:   0%|          | 0/29 [00:00<?, ?batch/s]"
      ]
     },
     "metadata": {},
     "output_type": "display_data"
    },
    {
     "data": {
      "application/vnd.jupyter.widget-view+json": {
       "model_id": "6a647a0dd83f4f28b752d6001e140596",
       "version_major": 2,
       "version_minor": 0
      },
      "text/plain": [
       "Epoch 1137/2000:   0%|          | 0/29 [00:00<?, ?batch/s]"
      ]
     },
     "metadata": {},
     "output_type": "display_data"
    },
    {
     "data": {
      "application/vnd.jupyter.widget-view+json": {
       "model_id": "7af2cbe24e31419e8ad6b54c61ed7c18",
       "version_major": 2,
       "version_minor": 0
      },
      "text/plain": [
       "Epoch 1138/2000:   0%|          | 0/29 [00:00<?, ?batch/s]"
      ]
     },
     "metadata": {},
     "output_type": "display_data"
    },
    {
     "data": {
      "application/vnd.jupyter.widget-view+json": {
       "model_id": "e4c3746bd0594a27b6072b42db1b0fe7",
       "version_major": 2,
       "version_minor": 0
      },
      "text/plain": [
       "Epoch 1139/2000:   0%|          | 0/29 [00:00<?, ?batch/s]"
      ]
     },
     "metadata": {},
     "output_type": "display_data"
    },
    {
     "data": {
      "application/vnd.jupyter.widget-view+json": {
       "model_id": "f7d2a66202ce46da8356e0f709ec6470",
       "version_major": 2,
       "version_minor": 0
      },
      "text/plain": [
       "Epoch 1140/2000:   0%|          | 0/29 [00:00<?, ?batch/s]"
      ]
     },
     "metadata": {},
     "output_type": "display_data"
    },
    {
     "data": {
      "application/vnd.jupyter.widget-view+json": {
       "model_id": "0c95dd1391424d8a844f80d757fbbeca",
       "version_major": 2,
       "version_minor": 0
      },
      "text/plain": [
       "Epoch 1141/2000:   0%|          | 0/29 [00:00<?, ?batch/s]"
      ]
     },
     "metadata": {},
     "output_type": "display_data"
    },
    {
     "data": {
      "application/vnd.jupyter.widget-view+json": {
       "model_id": "39a889cffdda44028425781b1e6e5b2b",
       "version_major": 2,
       "version_minor": 0
      },
      "text/plain": [
       "Epoch 1142/2000:   0%|          | 0/29 [00:00<?, ?batch/s]"
      ]
     },
     "metadata": {},
     "output_type": "display_data"
    },
    {
     "data": {
      "application/vnd.jupyter.widget-view+json": {
       "model_id": "083c33e6d01e4e849dd9c8b37f17c622",
       "version_major": 2,
       "version_minor": 0
      },
      "text/plain": [
       "Epoch 1143/2000:   0%|          | 0/29 [00:00<?, ?batch/s]"
      ]
     },
     "metadata": {},
     "output_type": "display_data"
    },
    {
     "data": {
      "application/vnd.jupyter.widget-view+json": {
       "model_id": "4613b3df478744588241e760a3f74d96",
       "version_major": 2,
       "version_minor": 0
      },
      "text/plain": [
       "Epoch 1144/2000:   0%|          | 0/29 [00:00<?, ?batch/s]"
      ]
     },
     "metadata": {},
     "output_type": "display_data"
    },
    {
     "data": {
      "application/vnd.jupyter.widget-view+json": {
       "model_id": "04223cb54ff546b990c39750d3a81aa4",
       "version_major": 2,
       "version_minor": 0
      },
      "text/plain": [
       "Epoch 1145/2000:   0%|          | 0/29 [00:00<?, ?batch/s]"
      ]
     },
     "metadata": {},
     "output_type": "display_data"
    },
    {
     "data": {
      "application/vnd.jupyter.widget-view+json": {
       "model_id": "3cac1e04e02b40aabb9b0c820a64f8bd",
       "version_major": 2,
       "version_minor": 0
      },
      "text/plain": [
       "Epoch 1146/2000:   0%|          | 0/29 [00:00<?, ?batch/s]"
      ]
     },
     "metadata": {},
     "output_type": "display_data"
    },
    {
     "data": {
      "application/vnd.jupyter.widget-view+json": {
       "model_id": "9fb5e7a6a4304ccb8176d7173f9889af",
       "version_major": 2,
       "version_minor": 0
      },
      "text/plain": [
       "Epoch 1147/2000:   0%|          | 0/29 [00:00<?, ?batch/s]"
      ]
     },
     "metadata": {},
     "output_type": "display_data"
    },
    {
     "data": {
      "application/vnd.jupyter.widget-view+json": {
       "model_id": "3edfe5b82c774990a76912828c1bab19",
       "version_major": 2,
       "version_minor": 0
      },
      "text/plain": [
       "Epoch 1148/2000:   0%|          | 0/29 [00:00<?, ?batch/s]"
      ]
     },
     "metadata": {},
     "output_type": "display_data"
    },
    {
     "data": {
      "application/vnd.jupyter.widget-view+json": {
       "model_id": "64539b6537e34a7ab19aaf842e1e5962",
       "version_major": 2,
       "version_minor": 0
      },
      "text/plain": [
       "Epoch 1149/2000:   0%|          | 0/29 [00:00<?, ?batch/s]"
      ]
     },
     "metadata": {},
     "output_type": "display_data"
    },
    {
     "data": {
      "application/vnd.jupyter.widget-view+json": {
       "model_id": "91aa0b47ae8f4e43b73beaf1dd61f11f",
       "version_major": 2,
       "version_minor": 0
      },
      "text/plain": [
       "Epoch 1150/2000:   0%|          | 0/29 [00:00<?, ?batch/s]"
      ]
     },
     "metadata": {},
     "output_type": "display_data"
    },
    {
     "data": {
      "application/vnd.jupyter.widget-view+json": {
       "model_id": "835ea44c53d542caa4db4ee3bf637f70",
       "version_major": 2,
       "version_minor": 0
      },
      "text/plain": [
       "Epoch 1151/2000:   0%|          | 0/29 [00:00<?, ?batch/s]"
      ]
     },
     "metadata": {},
     "output_type": "display_data"
    },
    {
     "data": {
      "application/vnd.jupyter.widget-view+json": {
       "model_id": "415172bb98c64c79bb1a3b1e26942545",
       "version_major": 2,
       "version_minor": 0
      },
      "text/plain": [
       "Epoch 1152/2000:   0%|          | 0/29 [00:00<?, ?batch/s]"
      ]
     },
     "metadata": {},
     "output_type": "display_data"
    },
    {
     "name": "stderr",
     "output_type": "stream",
     "text": [
      "IOPub message rate exceeded.\n",
      "The Jupyter server will temporarily stop sending output\n",
      "to the client in order to avoid crashing it.\n",
      "To change this limit, set the config variable\n",
      "`--ServerApp.iopub_msg_rate_limit`.\n",
      "\n",
      "Current values:\n",
      "ServerApp.iopub_msg_rate_limit=1000.0 (msgs/sec)\n",
      "ServerApp.rate_limit_window=3.0 (secs)\n",
      "\n"
     ]
    },
    {
     "data": {
      "application/vnd.jupyter.widget-view+json": {
       "model_id": "32c839ac141d48e3a548327920e637ef",
       "version_major": 2,
       "version_minor": 0
      },
      "text/plain": [
       "Epoch 1161/2000:   0%|          | 0/29 [00:00<?, ?batch/s]"
      ]
     },
     "metadata": {},
     "output_type": "display_data"
    },
    {
     "data": {
      "application/vnd.jupyter.widget-view+json": {
       "model_id": "4f0151a89b0d48119a987af492e2fa7c",
       "version_major": 2,
       "version_minor": 0
      },
      "text/plain": [
       "Epoch 1162/2000:   0%|          | 0/29 [00:00<?, ?batch/s]"
      ]
     },
     "metadata": {},
     "output_type": "display_data"
    },
    {
     "data": {
      "application/vnd.jupyter.widget-view+json": {
       "model_id": "2138dd6d934049b3b4130453e2fa585c",
       "version_major": 2,
       "version_minor": 0
      },
      "text/plain": [
       "Epoch 1163/2000:   0%|          | 0/29 [00:00<?, ?batch/s]"
      ]
     },
     "metadata": {},
     "output_type": "display_data"
    },
    {
     "data": {
      "application/vnd.jupyter.widget-view+json": {
       "model_id": "d0e41efeb3b343f083985be44c7997a4",
       "version_major": 2,
       "version_minor": 0
      },
      "text/plain": [
       "Epoch 1164/2000:   0%|          | 0/29 [00:00<?, ?batch/s]"
      ]
     },
     "metadata": {},
     "output_type": "display_data"
    },
    {
     "data": {
      "application/vnd.jupyter.widget-view+json": {
       "model_id": "c8a1af6b34db45cf95e506e7e60bfc55",
       "version_major": 2,
       "version_minor": 0
      },
      "text/plain": [
       "Epoch 1165/2000:   0%|          | 0/29 [00:00<?, ?batch/s]"
      ]
     },
     "metadata": {},
     "output_type": "display_data"
    },
    {
     "data": {
      "application/vnd.jupyter.widget-view+json": {
       "model_id": "d131d46026a54b3ea859a9e504e1cf30",
       "version_major": 2,
       "version_minor": 0
      },
      "text/plain": [
       "Epoch 1166/2000:   0%|          | 0/29 [00:00<?, ?batch/s]"
      ]
     },
     "metadata": {},
     "output_type": "display_data"
    },
    {
     "data": {
      "application/vnd.jupyter.widget-view+json": {
       "model_id": "1eb2d3f5aa2646e39a37db4b6b3de842",
       "version_major": 2,
       "version_minor": 0
      },
      "text/plain": [
       "Epoch 1167/2000:   0%|          | 0/29 [00:00<?, ?batch/s]"
      ]
     },
     "metadata": {},
     "output_type": "display_data"
    },
    {
     "data": {
      "application/vnd.jupyter.widget-view+json": {
       "model_id": "9fe9f7d95f1c4cf5b8f23d2cf94fb234",
       "version_major": 2,
       "version_minor": 0
      },
      "text/plain": [
       "Epoch 1168/2000:   0%|          | 0/29 [00:00<?, ?batch/s]"
      ]
     },
     "metadata": {},
     "output_type": "display_data"
    },
    {
     "data": {
      "application/vnd.jupyter.widget-view+json": {
       "model_id": "19be0968ebbd4f19b85ee707a79d6c8f",
       "version_major": 2,
       "version_minor": 0
      },
      "text/plain": [
       "Epoch 1169/2000:   0%|          | 0/29 [00:00<?, ?batch/s]"
      ]
     },
     "metadata": {},
     "output_type": "display_data"
    },
    {
     "data": {
      "application/vnd.jupyter.widget-view+json": {
       "model_id": "6434d149ab3b4364b3f87e611140afdd",
       "version_major": 2,
       "version_minor": 0
      },
      "text/plain": [
       "Epoch 1170/2000:   0%|          | 0/29 [00:00<?, ?batch/s]"
      ]
     },
     "metadata": {},
     "output_type": "display_data"
    },
    {
     "data": {
      "application/vnd.jupyter.widget-view+json": {
       "model_id": "e85cd3852b3942599df8db0200101409",
       "version_major": 2,
       "version_minor": 0
      },
      "text/plain": [
       "Epoch 1171/2000:   0%|          | 0/29 [00:00<?, ?batch/s]"
      ]
     },
     "metadata": {},
     "output_type": "display_data"
    },
    {
     "data": {
      "application/vnd.jupyter.widget-view+json": {
       "model_id": "b186e51d8b31408ab40dd15e771e84ea",
       "version_major": 2,
       "version_minor": 0
      },
      "text/plain": [
       "Epoch 1172/2000:   0%|          | 0/29 [00:00<?, ?batch/s]"
      ]
     },
     "metadata": {},
     "output_type": "display_data"
    },
    {
     "data": {
      "application/vnd.jupyter.widget-view+json": {
       "model_id": "4bea13604ed94fcd8a652d310aab418f",
       "version_major": 2,
       "version_minor": 0
      },
      "text/plain": [
       "Epoch 1173/2000:   0%|          | 0/29 [00:00<?, ?batch/s]"
      ]
     },
     "metadata": {},
     "output_type": "display_data"
    },
    {
     "data": {
      "application/vnd.jupyter.widget-view+json": {
       "model_id": "f32c3c739564442a8cea95e4160e6a0b",
       "version_major": 2,
       "version_minor": 0
      },
      "text/plain": [
       "Epoch 1174/2000:   0%|          | 0/29 [00:00<?, ?batch/s]"
      ]
     },
     "metadata": {},
     "output_type": "display_data"
    },
    {
     "data": {
      "application/vnd.jupyter.widget-view+json": {
       "model_id": "0c2325d5e5264982a50ff6fbacc49699",
       "version_major": 2,
       "version_minor": 0
      },
      "text/plain": [
       "Epoch 1175/2000:   0%|          | 0/29 [00:00<?, ?batch/s]"
      ]
     },
     "metadata": {},
     "output_type": "display_data"
    },
    {
     "data": {
      "application/vnd.jupyter.widget-view+json": {
       "model_id": "b03a3cd28c074066b610b0ff4ee3e5b6",
       "version_major": 2,
       "version_minor": 0
      },
      "text/plain": [
       "Epoch 1176/2000:   0%|          | 0/29 [00:00<?, ?batch/s]"
      ]
     },
     "metadata": {},
     "output_type": "display_data"
    },
    {
     "data": {
      "application/vnd.jupyter.widget-view+json": {
       "model_id": "99e8451e23fb465c86f1b04f0c974d17",
       "version_major": 2,
       "version_minor": 0
      },
      "text/plain": [
       "Epoch 1177/2000:   0%|          | 0/29 [00:00<?, ?batch/s]"
      ]
     },
     "metadata": {},
     "output_type": "display_data"
    },
    {
     "data": {
      "application/vnd.jupyter.widget-view+json": {
       "model_id": "835902100de2438aa49a48671c5ff2e3",
       "version_major": 2,
       "version_minor": 0
      },
      "text/plain": [
       "Epoch 1178/2000:   0%|          | 0/29 [00:00<?, ?batch/s]"
      ]
     },
     "metadata": {},
     "output_type": "display_data"
    },
    {
     "data": {
      "application/vnd.jupyter.widget-view+json": {
       "model_id": "2ba3566cf56b459292d95f4e9e0e2228",
       "version_major": 2,
       "version_minor": 0
      },
      "text/plain": [
       "Epoch 1179/2000:   0%|          | 0/29 [00:00<?, ?batch/s]"
      ]
     },
     "metadata": {},
     "output_type": "display_data"
    },
    {
     "data": {
      "application/vnd.jupyter.widget-view+json": {
       "model_id": "b4c5c0fce2e54341bac56d16f58ea7c6",
       "version_major": 2,
       "version_minor": 0
      },
      "text/plain": [
       "Epoch 1180/2000:   0%|          | 0/29 [00:00<?, ?batch/s]"
      ]
     },
     "metadata": {},
     "output_type": "display_data"
    },
    {
     "data": {
      "application/vnd.jupyter.widget-view+json": {
       "model_id": "88f93bae024f41ab96ba98489093347d",
       "version_major": 2,
       "version_minor": 0
      },
      "text/plain": [
       "Epoch 1181/2000:   0%|          | 0/29 [00:00<?, ?batch/s]"
      ]
     },
     "metadata": {},
     "output_type": "display_data"
    },
    {
     "data": {
      "application/vnd.jupyter.widget-view+json": {
       "model_id": "e4771b56f73f4e6480c9d0c2d99bab95",
       "version_major": 2,
       "version_minor": 0
      },
      "text/plain": [
       "Epoch 1182/2000:   0%|          | 0/29 [00:00<?, ?batch/s]"
      ]
     },
     "metadata": {},
     "output_type": "display_data"
    },
    {
     "data": {
      "application/vnd.jupyter.widget-view+json": {
       "model_id": "d74207dace1840fa944919a2848659c3",
       "version_major": 2,
       "version_minor": 0
      },
      "text/plain": [
       "Epoch 1183/2000:   0%|          | 0/29 [00:00<?, ?batch/s]"
      ]
     },
     "metadata": {},
     "output_type": "display_data"
    },
    {
     "data": {
      "application/vnd.jupyter.widget-view+json": {
       "model_id": "ad9dca6d410b465b92568aeaa9c972ff",
       "version_major": 2,
       "version_minor": 0
      },
      "text/plain": [
       "Epoch 1184/2000:   0%|          | 0/29 [00:00<?, ?batch/s]"
      ]
     },
     "metadata": {},
     "output_type": "display_data"
    },
    {
     "data": {
      "application/vnd.jupyter.widget-view+json": {
       "model_id": "378b3e47d12847a3aa3e90546fb8e897",
       "version_major": 2,
       "version_minor": 0
      },
      "text/plain": [
       "Epoch 1185/2000:   0%|          | 0/29 [00:00<?, ?batch/s]"
      ]
     },
     "metadata": {},
     "output_type": "display_data"
    },
    {
     "data": {
      "application/vnd.jupyter.widget-view+json": {
       "model_id": "75790431352945d28407735fa833d1ca",
       "version_major": 2,
       "version_minor": 0
      },
      "text/plain": [
       "Epoch 1186/2000:   0%|          | 0/29 [00:00<?, ?batch/s]"
      ]
     },
     "metadata": {},
     "output_type": "display_data"
    },
    {
     "data": {
      "application/vnd.jupyter.widget-view+json": {
       "model_id": "920c70b5faf547ca8ae94da7cc3c8c30",
       "version_major": 2,
       "version_minor": 0
      },
      "text/plain": [
       "Epoch 1187/2000:   0%|          | 0/29 [00:00<?, ?batch/s]"
      ]
     },
     "metadata": {},
     "output_type": "display_data"
    },
    {
     "data": {
      "application/vnd.jupyter.widget-view+json": {
       "model_id": "da71631c4cb245ecb9030f83a693a66d",
       "version_major": 2,
       "version_minor": 0
      },
      "text/plain": [
       "Epoch 1188/2000:   0%|          | 0/29 [00:00<?, ?batch/s]"
      ]
     },
     "metadata": {},
     "output_type": "display_data"
    },
    {
     "data": {
      "application/vnd.jupyter.widget-view+json": {
       "model_id": "89105a65160c421c89f87f6aa151e701",
       "version_major": 2,
       "version_minor": 0
      },
      "text/plain": [
       "Epoch 1189/2000:   0%|          | 0/29 [00:00<?, ?batch/s]"
      ]
     },
     "metadata": {},
     "output_type": "display_data"
    },
    {
     "data": {
      "application/vnd.jupyter.widget-view+json": {
       "model_id": "90e784d951fe458aa57389bafa6b9ea0",
       "version_major": 2,
       "version_minor": 0
      },
      "text/plain": [
       "Epoch 1190/2000:   0%|          | 0/29 [00:00<?, ?batch/s]"
      ]
     },
     "metadata": {},
     "output_type": "display_data"
    },
    {
     "data": {
      "application/vnd.jupyter.widget-view+json": {
       "model_id": "348f19866af64be689f1a9c000db576e",
       "version_major": 2,
       "version_minor": 0
      },
      "text/plain": [
       "Epoch 1191/2000:   0%|          | 0/29 [00:00<?, ?batch/s]"
      ]
     },
     "metadata": {},
     "output_type": "display_data"
    },
    {
     "data": {
      "application/vnd.jupyter.widget-view+json": {
       "model_id": "11f03d641aad49eaaabe99ee66374efc",
       "version_major": 2,
       "version_minor": 0
      },
      "text/plain": [
       "Epoch 1192/2000:   0%|          | 0/29 [00:00<?, ?batch/s]"
      ]
     },
     "metadata": {},
     "output_type": "display_data"
    },
    {
     "name": "stderr",
     "output_type": "stream",
     "text": [
      "IOPub message rate exceeded.\n",
      "The Jupyter server will temporarily stop sending output\n",
      "to the client in order to avoid crashing it.\n",
      "To change this limit, set the config variable\n",
      "`--ServerApp.iopub_msg_rate_limit`.\n",
      "\n",
      "Current values:\n",
      "ServerApp.iopub_msg_rate_limit=1000.0 (msgs/sec)\n",
      "ServerApp.rate_limit_window=3.0 (secs)\n",
      "\n"
     ]
    },
    {
     "data": {
      "application/vnd.jupyter.widget-view+json": {
       "model_id": "48467759dd644bb9b7eca5a9ad5fe279",
       "version_major": 2,
       "version_minor": 0
      },
      "text/plain": [
       "Epoch 1199/2000:   0%|          | 0/29 [00:00<?, ?batch/s]"
      ]
     },
     "metadata": {},
     "output_type": "display_data"
    },
    {
     "data": {
      "application/vnd.jupyter.widget-view+json": {
       "model_id": "73411620af5d491f82b122e118c1f4ad",
       "version_major": 2,
       "version_minor": 0
      },
      "text/plain": [
       "Epoch 1200/2000:   0%|          | 0/29 [00:00<?, ?batch/s]"
      ]
     },
     "metadata": {},
     "output_type": "display_data"
    },
    {
     "data": {
      "application/vnd.jupyter.widget-view+json": {
       "model_id": "63d7af8c864d434d980142be8cc23033",
       "version_major": 2,
       "version_minor": 0
      },
      "text/plain": [
       "Epoch 1201/2000:   0%|          | 0/29 [00:00<?, ?batch/s]"
      ]
     },
     "metadata": {},
     "output_type": "display_data"
    },
    {
     "data": {
      "application/vnd.jupyter.widget-view+json": {
       "model_id": "d656e894a0e1454a80dac80ead0f2185",
       "version_major": 2,
       "version_minor": 0
      },
      "text/plain": [
       "Epoch 1202/2000:   0%|          | 0/29 [00:00<?, ?batch/s]"
      ]
     },
     "metadata": {},
     "output_type": "display_data"
    },
    {
     "data": {
      "application/vnd.jupyter.widget-view+json": {
       "model_id": "f4e1e27d5d4c4c7897dbe079f7052dc3",
       "version_major": 2,
       "version_minor": 0
      },
      "text/plain": [
       "Epoch 1203/2000:   0%|          | 0/29 [00:00<?, ?batch/s]"
      ]
     },
     "metadata": {},
     "output_type": "display_data"
    },
    {
     "data": {
      "application/vnd.jupyter.widget-view+json": {
       "model_id": "c973698386ca4942adf164463c2409f5",
       "version_major": 2,
       "version_minor": 0
      },
      "text/plain": [
       "Epoch 1204/2000:   0%|          | 0/29 [00:00<?, ?batch/s]"
      ]
     },
     "metadata": {},
     "output_type": "display_data"
    },
    {
     "data": {
      "application/vnd.jupyter.widget-view+json": {
       "model_id": "d897dfccd07a4c2b81e2b69099aee47d",
       "version_major": 2,
       "version_minor": 0
      },
      "text/plain": [
       "Epoch 1205/2000:   0%|          | 0/29 [00:00<?, ?batch/s]"
      ]
     },
     "metadata": {},
     "output_type": "display_data"
    },
    {
     "data": {
      "application/vnd.jupyter.widget-view+json": {
       "model_id": "b0bb2574d906408580d6966411cbc1a7",
       "version_major": 2,
       "version_minor": 0
      },
      "text/plain": [
       "Epoch 1206/2000:   0%|          | 0/29 [00:00<?, ?batch/s]"
      ]
     },
     "metadata": {},
     "output_type": "display_data"
    },
    {
     "data": {
      "application/vnd.jupyter.widget-view+json": {
       "model_id": "b2ec70ac36734943a0ae8450bafac9fa",
       "version_major": 2,
       "version_minor": 0
      },
      "text/plain": [
       "Epoch 1207/2000:   0%|          | 0/29 [00:00<?, ?batch/s]"
      ]
     },
     "metadata": {},
     "output_type": "display_data"
    },
    {
     "data": {
      "application/vnd.jupyter.widget-view+json": {
       "model_id": "8da97ea9f88a45fa9c837e51485e929c",
       "version_major": 2,
       "version_minor": 0
      },
      "text/plain": [
       "Epoch 1208/2000:   0%|          | 0/29 [00:00<?, ?batch/s]"
      ]
     },
     "metadata": {},
     "output_type": "display_data"
    },
    {
     "data": {
      "application/vnd.jupyter.widget-view+json": {
       "model_id": "42a78c0310584a9b91a04e73219fad89",
       "version_major": 2,
       "version_minor": 0
      },
      "text/plain": [
       "Epoch 1209/2000:   0%|          | 0/29 [00:00<?, ?batch/s]"
      ]
     },
     "metadata": {},
     "output_type": "display_data"
    },
    {
     "data": {
      "application/vnd.jupyter.widget-view+json": {
       "model_id": "22547eb9347d4cd3b9f4f4d4046dd7ae",
       "version_major": 2,
       "version_minor": 0
      },
      "text/plain": [
       "Epoch 1210/2000:   0%|          | 0/29 [00:00<?, ?batch/s]"
      ]
     },
     "metadata": {},
     "output_type": "display_data"
    },
    {
     "data": {
      "application/vnd.jupyter.widget-view+json": {
       "model_id": "986622b9069f4ed2a6cf95f103c4c5f3",
       "version_major": 2,
       "version_minor": 0
      },
      "text/plain": [
       "Epoch 1211/2000:   0%|          | 0/29 [00:00<?, ?batch/s]"
      ]
     },
     "metadata": {},
     "output_type": "display_data"
    },
    {
     "data": {
      "application/vnd.jupyter.widget-view+json": {
       "model_id": "6251e8c175b34c2f90d17d8eb2558060",
       "version_major": 2,
       "version_minor": 0
      },
      "text/plain": [
       "Epoch 1212/2000:   0%|          | 0/29 [00:00<?, ?batch/s]"
      ]
     },
     "metadata": {},
     "output_type": "display_data"
    },
    {
     "data": {
      "application/vnd.jupyter.widget-view+json": {
       "model_id": "aa849e6ef47144feb41da1ec8421ce11",
       "version_major": 2,
       "version_minor": 0
      },
      "text/plain": [
       "Epoch 1213/2000:   0%|          | 0/29 [00:00<?, ?batch/s]"
      ]
     },
     "metadata": {},
     "output_type": "display_data"
    },
    {
     "data": {
      "application/vnd.jupyter.widget-view+json": {
       "model_id": "a2b17d7283524f7c93d34f222ba5174c",
       "version_major": 2,
       "version_minor": 0
      },
      "text/plain": [
       "Epoch 1214/2000:   0%|          | 0/29 [00:00<?, ?batch/s]"
      ]
     },
     "metadata": {},
     "output_type": "display_data"
    },
    {
     "data": {
      "application/vnd.jupyter.widget-view+json": {
       "model_id": "ee3236fa8c1448d3b4243ef9f1c3aaf8",
       "version_major": 2,
       "version_minor": 0
      },
      "text/plain": [
       "Epoch 1215/2000:   0%|          | 0/29 [00:00<?, ?batch/s]"
      ]
     },
     "metadata": {},
     "output_type": "display_data"
    },
    {
     "data": {
      "application/vnd.jupyter.widget-view+json": {
       "model_id": "432d315124f9419c82c4b37743ce0e47",
       "version_major": 2,
       "version_minor": 0
      },
      "text/plain": [
       "Epoch 1216/2000:   0%|          | 0/29 [00:00<?, ?batch/s]"
      ]
     },
     "metadata": {},
     "output_type": "display_data"
    },
    {
     "data": {
      "application/vnd.jupyter.widget-view+json": {
       "model_id": "30b0113cddf64adda2e8c6b56c9c8656",
       "version_major": 2,
       "version_minor": 0
      },
      "text/plain": [
       "Epoch 1217/2000:   0%|          | 0/29 [00:00<?, ?batch/s]"
      ]
     },
     "metadata": {},
     "output_type": "display_data"
    },
    {
     "data": {
      "application/vnd.jupyter.widget-view+json": {
       "model_id": "8d5bec47bd27401380ab07b52065d7b7",
       "version_major": 2,
       "version_minor": 0
      },
      "text/plain": [
       "Epoch 1218/2000:   0%|          | 0/29 [00:00<?, ?batch/s]"
      ]
     },
     "metadata": {},
     "output_type": "display_data"
    },
    {
     "data": {
      "application/vnd.jupyter.widget-view+json": {
       "model_id": "2407b4bb65004b64862182b64ebc0ffc",
       "version_major": 2,
       "version_minor": 0
      },
      "text/plain": [
       "Epoch 1219/2000:   0%|          | 0/29 [00:00<?, ?batch/s]"
      ]
     },
     "metadata": {},
     "output_type": "display_data"
    },
    {
     "data": {
      "application/vnd.jupyter.widget-view+json": {
       "model_id": "c9ec7fb84acd4212bec12a5c86b6a17c",
       "version_major": 2,
       "version_minor": 0
      },
      "text/plain": [
       "Epoch 1220/2000:   0%|          | 0/29 [00:00<?, ?batch/s]"
      ]
     },
     "metadata": {},
     "output_type": "display_data"
    },
    {
     "data": {
      "application/vnd.jupyter.widget-view+json": {
       "model_id": "dfa7a0dd3e074be1a5b4e39f9fdf7d6f",
       "version_major": 2,
       "version_minor": 0
      },
      "text/plain": [
       "Epoch 1221/2000:   0%|          | 0/29 [00:00<?, ?batch/s]"
      ]
     },
     "metadata": {},
     "output_type": "display_data"
    },
    {
     "data": {
      "application/vnd.jupyter.widget-view+json": {
       "model_id": "6e483b03bd35476b8073d9f8ff72ad71",
       "version_major": 2,
       "version_minor": 0
      },
      "text/plain": [
       "Epoch 1222/2000:   0%|          | 0/29 [00:00<?, ?batch/s]"
      ]
     },
     "metadata": {},
     "output_type": "display_data"
    },
    {
     "data": {
      "application/vnd.jupyter.widget-view+json": {
       "model_id": "9263b575b25549948ddec567a657e9a1",
       "version_major": 2,
       "version_minor": 0
      },
      "text/plain": [
       "Epoch 1223/2000:   0%|          | 0/29 [00:00<?, ?batch/s]"
      ]
     },
     "metadata": {},
     "output_type": "display_data"
    },
    {
     "name": "stdout",
     "output_type": "stream",
     "text": [
      "Early stopping triggered: patience threshold reached.\n",
      "\n",
      "Fitting Predictor...\n"
     ]
    },
    {
     "data": {
      "application/vnd.jupyter.widget-view+json": {
       "model_id": "d4d5b59dbc004538b101e715024c40e2",
       "version_major": 2,
       "version_minor": 0
      },
      "text/plain": [
       "Epoch 1/2000:   0%|          | 0/29 [00:00<?, ?batch/s]"
      ]
     },
     "metadata": {},
     "output_type": "display_data"
    },
    {
     "data": {
      "application/vnd.jupyter.widget-view+json": {
       "model_id": "c1cebf37c8524d53a5f5b37d45bd1233",
       "version_major": 2,
       "version_minor": 0
      },
      "text/plain": [
       "Epoch 2/2000:   0%|          | 0/29 [00:00<?, ?batch/s]"
      ]
     },
     "metadata": {},
     "output_type": "display_data"
    },
    {
     "data": {
      "application/vnd.jupyter.widget-view+json": {
       "model_id": "b6f445d42bfb4a5d9f18d96be4013bbb",
       "version_major": 2,
       "version_minor": 0
      },
      "text/plain": [
       "Epoch 3/2000:   0%|          | 0/29 [00:00<?, ?batch/s]"
      ]
     },
     "metadata": {},
     "output_type": "display_data"
    },
    {
     "data": {
      "application/vnd.jupyter.widget-view+json": {
       "model_id": "4da1548915b74ee1bca57aedd5bdb6e1",
       "version_major": 2,
       "version_minor": 0
      },
      "text/plain": [
       "Epoch 4/2000:   0%|          | 0/29 [00:00<?, ?batch/s]"
      ]
     },
     "metadata": {},
     "output_type": "display_data"
    },
    {
     "data": {
      "application/vnd.jupyter.widget-view+json": {
       "model_id": "ed5bc307121a4aac88962142594b1311",
       "version_major": 2,
       "version_minor": 0
      },
      "text/plain": [
       "Epoch 5/2000:   0%|          | 0/29 [00:00<?, ?batch/s]"
      ]
     },
     "metadata": {},
     "output_type": "display_data"
    },
    {
     "data": {
      "application/vnd.jupyter.widget-view+json": {
       "model_id": "d255fb11389b454e915223d186cb77e8",
       "version_major": 2,
       "version_minor": 0
      },
      "text/plain": [
       "Epoch 6/2000:   0%|          | 0/29 [00:00<?, ?batch/s]"
      ]
     },
     "metadata": {},
     "output_type": "display_data"
    },
    {
     "data": {
      "application/vnd.jupyter.widget-view+json": {
       "model_id": "8f0ba1ae43b04926a8d09081831116f8",
       "version_major": 2,
       "version_minor": 0
      },
      "text/plain": [
       "Epoch 7/2000:   0%|          | 0/29 [00:00<?, ?batch/s]"
      ]
     },
     "metadata": {},
     "output_type": "display_data"
    },
    {
     "name": "stderr",
     "output_type": "stream",
     "text": [
      "IOPub message rate exceeded.\n",
      "The Jupyter server will temporarily stop sending output\n",
      "to the client in order to avoid crashing it.\n",
      "To change this limit, set the config variable\n",
      "`--ServerApp.iopub_msg_rate_limit`.\n",
      "\n",
      "Current values:\n",
      "ServerApp.iopub_msg_rate_limit=1000.0 (msgs/sec)\n",
      "ServerApp.rate_limit_window=3.0 (secs)\n",
      "\n"
     ]
    },
    {
     "data": {
      "application/vnd.jupyter.widget-view+json": {
       "model_id": "3296cfa0019c469cb3b041599002e37e",
       "version_major": 2,
       "version_minor": 0
      },
      "text/plain": [
       "Epoch 16/2000:   0%|          | 0/29 [00:00<?, ?batch/s]"
      ]
     },
     "metadata": {},
     "output_type": "display_data"
    },
    {
     "data": {
      "application/vnd.jupyter.widget-view+json": {
       "model_id": "56c1f545a8744fa28dc88ea67ba918c4",
       "version_major": 2,
       "version_minor": 0
      },
      "text/plain": [
       "Epoch 17/2000:   0%|          | 0/29 [00:00<?, ?batch/s]"
      ]
     },
     "metadata": {},
     "output_type": "display_data"
    },
    {
     "data": {
      "application/vnd.jupyter.widget-view+json": {
       "model_id": "1b68519d822e455bbe53029a7d3500ec",
       "version_major": 2,
       "version_minor": 0
      },
      "text/plain": [
       "Epoch 18/2000:   0%|          | 0/29 [00:00<?, ?batch/s]"
      ]
     },
     "metadata": {},
     "output_type": "display_data"
    },
    {
     "data": {
      "application/vnd.jupyter.widget-view+json": {
       "model_id": "405fb96a7c96431fa6d8085e4a42ac76",
       "version_major": 2,
       "version_minor": 0
      },
      "text/plain": [
       "Epoch 19/2000:   0%|          | 0/29 [00:00<?, ?batch/s]"
      ]
     },
     "metadata": {},
     "output_type": "display_data"
    },
    {
     "data": {
      "application/vnd.jupyter.widget-view+json": {
       "model_id": "bd37cbb731a44706aed517940b6583eb",
       "version_major": 2,
       "version_minor": 0
      },
      "text/plain": [
       "Epoch 20/2000:   0%|          | 0/29 [00:00<?, ?batch/s]"
      ]
     },
     "metadata": {},
     "output_type": "display_data"
    },
    {
     "data": {
      "application/vnd.jupyter.widget-view+json": {
       "model_id": "62fc309301d54e6284122130f05e7a13",
       "version_major": 2,
       "version_minor": 0
      },
      "text/plain": [
       "Epoch 21/2000:   0%|          | 0/29 [00:00<?, ?batch/s]"
      ]
     },
     "metadata": {},
     "output_type": "display_data"
    },
    {
     "data": {
      "application/vnd.jupyter.widget-view+json": {
       "model_id": "6760a18bcd0c4133ac94538c6c048e86",
       "version_major": 2,
       "version_minor": 0
      },
      "text/plain": [
       "Epoch 22/2000:   0%|          | 0/29 [00:00<?, ?batch/s]"
      ]
     },
     "metadata": {},
     "output_type": "display_data"
    },
    {
     "data": {
      "application/vnd.jupyter.widget-view+json": {
       "model_id": "3661737e896c4855a776a26797a1e985",
       "version_major": 2,
       "version_minor": 0
      },
      "text/plain": [
       "Epoch 23/2000:   0%|          | 0/29 [00:00<?, ?batch/s]"
      ]
     },
     "metadata": {},
     "output_type": "display_data"
    },
    {
     "data": {
      "application/vnd.jupyter.widget-view+json": {
       "model_id": "4a1bce9b165c47399e0d6e113aa11d30",
       "version_major": 2,
       "version_minor": 0
      },
      "text/plain": [
       "Epoch 24/2000:   0%|          | 0/29 [00:00<?, ?batch/s]"
      ]
     },
     "metadata": {},
     "output_type": "display_data"
    },
    {
     "data": {
      "application/vnd.jupyter.widget-view+json": {
       "model_id": "7505afbd706d4797b42457428c6e0ccb",
       "version_major": 2,
       "version_minor": 0
      },
      "text/plain": [
       "Epoch 25/2000:   0%|          | 0/29 [00:00<?, ?batch/s]"
      ]
     },
     "metadata": {},
     "output_type": "display_data"
    },
    {
     "data": {
      "application/vnd.jupyter.widget-view+json": {
       "model_id": "2c3a8ab97a064caf9088227543df61ff",
       "version_major": 2,
       "version_minor": 0
      },
      "text/plain": [
       "Epoch 26/2000:   0%|          | 0/29 [00:00<?, ?batch/s]"
      ]
     },
     "metadata": {},
     "output_type": "display_data"
    },
    {
     "data": {
      "application/vnd.jupyter.widget-view+json": {
       "model_id": "e18ddde3b36e4919bfac24ffc9794620",
       "version_major": 2,
       "version_minor": 0
      },
      "text/plain": [
       "Epoch 27/2000:   0%|          | 0/29 [00:00<?, ?batch/s]"
      ]
     },
     "metadata": {},
     "output_type": "display_data"
    },
    {
     "data": {
      "application/vnd.jupyter.widget-view+json": {
       "model_id": "bef412aa94ac4aa8bd20bb9728cf2dca",
       "version_major": 2,
       "version_minor": 0
      },
      "text/plain": [
       "Epoch 28/2000:   0%|          | 0/29 [00:00<?, ?batch/s]"
      ]
     },
     "metadata": {},
     "output_type": "display_data"
    },
    {
     "data": {
      "application/vnd.jupyter.widget-view+json": {
       "model_id": "f3098487cb394ac29560f7e962abe2e6",
       "version_major": 2,
       "version_minor": 0
      },
      "text/plain": [
       "Epoch 29/2000:   0%|          | 0/29 [00:00<?, ?batch/s]"
      ]
     },
     "metadata": {},
     "output_type": "display_data"
    },
    {
     "data": {
      "application/vnd.jupyter.widget-view+json": {
       "model_id": "6086d5919d4145c9837dc0183089dc18",
       "version_major": 2,
       "version_minor": 0
      },
      "text/plain": [
       "Epoch 30/2000:   0%|          | 0/29 [00:00<?, ?batch/s]"
      ]
     },
     "metadata": {},
     "output_type": "display_data"
    },
    {
     "data": {
      "application/vnd.jupyter.widget-view+json": {
       "model_id": "b6dec0a9e5ff4542a3fd897fcefc703f",
       "version_major": 2,
       "version_minor": 0
      },
      "text/plain": [
       "Epoch 31/2000:   0%|          | 0/29 [00:00<?, ?batch/s]"
      ]
     },
     "metadata": {},
     "output_type": "display_data"
    },
    {
     "data": {
      "application/vnd.jupyter.widget-view+json": {
       "model_id": "c4f1f1d647504b39a08c475a779db5e5",
       "version_major": 2,
       "version_minor": 0
      },
      "text/plain": [
       "Epoch 32/2000:   0%|          | 0/29 [00:00<?, ?batch/s]"
      ]
     },
     "metadata": {},
     "output_type": "display_data"
    },
    {
     "data": {
      "application/vnd.jupyter.widget-view+json": {
       "model_id": "eb409028c5744cfc94e681e8d2d925b4",
       "version_major": 2,
       "version_minor": 0
      },
      "text/plain": [
       "Epoch 33/2000:   0%|          | 0/29 [00:00<?, ?batch/s]"
      ]
     },
     "metadata": {},
     "output_type": "display_data"
    },
    {
     "data": {
      "application/vnd.jupyter.widget-view+json": {
       "model_id": "0b43b067f4a149aa9d3bb07768847b75",
       "version_major": 2,
       "version_minor": 0
      },
      "text/plain": [
       "Epoch 34/2000:   0%|          | 0/29 [00:00<?, ?batch/s]"
      ]
     },
     "metadata": {},
     "output_type": "display_data"
    },
    {
     "data": {
      "application/vnd.jupyter.widget-view+json": {
       "model_id": "ee79c9bc55d64a8da9421e2bd8fa1231",
       "version_major": 2,
       "version_minor": 0
      },
      "text/plain": [
       "Epoch 35/2000:   0%|          | 0/29 [00:00<?, ?batch/s]"
      ]
     },
     "metadata": {},
     "output_type": "display_data"
    },
    {
     "data": {
      "application/vnd.jupyter.widget-view+json": {
       "model_id": "cb55c92fe4cb4ab08983a9a11317eac4",
       "version_major": 2,
       "version_minor": 0
      },
      "text/plain": [
       "Epoch 36/2000:   0%|          | 0/29 [00:00<?, ?batch/s]"
      ]
     },
     "metadata": {},
     "output_type": "display_data"
    },
    {
     "data": {
      "application/vnd.jupyter.widget-view+json": {
       "model_id": "34cf45fa0eb74c86af59693c276e292f",
       "version_major": 2,
       "version_minor": 0
      },
      "text/plain": [
       "Epoch 37/2000:   0%|          | 0/29 [00:00<?, ?batch/s]"
      ]
     },
     "metadata": {},
     "output_type": "display_data"
    },
    {
     "data": {
      "application/vnd.jupyter.widget-view+json": {
       "model_id": "6b47e8f189184426884b25b43e0b616d",
       "version_major": 2,
       "version_minor": 0
      },
      "text/plain": [
       "Epoch 38/2000:   0%|          | 0/29 [00:00<?, ?batch/s]"
      ]
     },
     "metadata": {},
     "output_type": "display_data"
    },
    {
     "data": {
      "application/vnd.jupyter.widget-view+json": {
       "model_id": "e6cf12b3d8414e82a0670da7f2d7667b",
       "version_major": 2,
       "version_minor": 0
      },
      "text/plain": [
       "Epoch 39/2000:   0%|          | 0/29 [00:00<?, ?batch/s]"
      ]
     },
     "metadata": {},
     "output_type": "display_data"
    },
    {
     "data": {
      "application/vnd.jupyter.widget-view+json": {
       "model_id": "887a781032074eca96a2a04a88951d32",
       "version_major": 2,
       "version_minor": 0
      },
      "text/plain": [
       "Epoch 40/2000:   0%|          | 0/29 [00:00<?, ?batch/s]"
      ]
     },
     "metadata": {},
     "output_type": "display_data"
    },
    {
     "data": {
      "application/vnd.jupyter.widget-view+json": {
       "model_id": "c431065a1b754f58bd6d709cbcd34a19",
       "version_major": 2,
       "version_minor": 0
      },
      "text/plain": [
       "Epoch 41/2000:   0%|          | 0/29 [00:00<?, ?batch/s]"
      ]
     },
     "metadata": {},
     "output_type": "display_data"
    },
    {
     "data": {
      "application/vnd.jupyter.widget-view+json": {
       "model_id": "e0ab205a000b40bfab5bb3aee5b0e659",
       "version_major": 2,
       "version_minor": 0
      },
      "text/plain": [
       "Epoch 42/2000:   0%|          | 0/29 [00:00<?, ?batch/s]"
      ]
     },
     "metadata": {},
     "output_type": "display_data"
    },
    {
     "data": {
      "application/vnd.jupyter.widget-view+json": {
       "model_id": "4e51f48bed344489801348f3848c8aac",
       "version_major": 2,
       "version_minor": 0
      },
      "text/plain": [
       "Epoch 43/2000:   0%|          | 0/29 [00:00<?, ?batch/s]"
      ]
     },
     "metadata": {},
     "output_type": "display_data"
    },
    {
     "data": {
      "application/vnd.jupyter.widget-view+json": {
       "model_id": "f353eef5b1c146479e2b9f5be0c56c24",
       "version_major": 2,
       "version_minor": 0
      },
      "text/plain": [
       "Epoch 44/2000:   0%|          | 0/29 [00:00<?, ?batch/s]"
      ]
     },
     "metadata": {},
     "output_type": "display_data"
    },
    {
     "data": {
      "application/vnd.jupyter.widget-view+json": {
       "model_id": "0bbb8196131042adb1afac796bc5f872",
       "version_major": 2,
       "version_minor": 0
      },
      "text/plain": [
       "Epoch 45/2000:   0%|          | 0/29 [00:00<?, ?batch/s]"
      ]
     },
     "metadata": {},
     "output_type": "display_data"
    },
    {
     "data": {
      "application/vnd.jupyter.widget-view+json": {
       "model_id": "21ec866af3064d908c932dced7599591",
       "version_major": 2,
       "version_minor": 0
      },
      "text/plain": [
       "Epoch 46/2000:   0%|          | 0/29 [00:00<?, ?batch/s]"
      ]
     },
     "metadata": {},
     "output_type": "display_data"
    },
    {
     "data": {
      "application/vnd.jupyter.widget-view+json": {
       "model_id": "21d047e193984998b1ff1526d237910d",
       "version_major": 2,
       "version_minor": 0
      },
      "text/plain": [
       "Epoch 47/2000:   0%|          | 0/29 [00:00<?, ?batch/s]"
      ]
     },
     "metadata": {},
     "output_type": "display_data"
    },
    {
     "name": "stderr",
     "output_type": "stream",
     "text": [
      "IOPub message rate exceeded.\n",
      "The Jupyter server will temporarily stop sending output\n",
      "to the client in order to avoid crashing it.\n",
      "To change this limit, set the config variable\n",
      "`--ServerApp.iopub_msg_rate_limit`.\n",
      "\n",
      "Current values:\n",
      "ServerApp.iopub_msg_rate_limit=1000.0 (msgs/sec)\n",
      "ServerApp.rate_limit_window=3.0 (secs)\n",
      "\n"
     ]
    },
    {
     "data": {
      "application/vnd.jupyter.widget-view+json": {
       "model_id": "2a7a1c248e0945ab95bd75f13d812c25",
       "version_major": 2,
       "version_minor": 0
      },
      "text/plain": [
       "Epoch 55/2000:   0%|          | 0/29 [00:00<?, ?batch/s]"
      ]
     },
     "metadata": {},
     "output_type": "display_data"
    },
    {
     "data": {
      "application/vnd.jupyter.widget-view+json": {
       "model_id": "0d4fc334cc254e8784e9856b7772ea30",
       "version_major": 2,
       "version_minor": 0
      },
      "text/plain": [
       "Epoch 56/2000:   0%|          | 0/29 [00:00<?, ?batch/s]"
      ]
     },
     "metadata": {},
     "output_type": "display_data"
    },
    {
     "data": {
      "application/vnd.jupyter.widget-view+json": {
       "model_id": "26a05f1a8dcc492cbe395a048296e6af",
       "version_major": 2,
       "version_minor": 0
      },
      "text/plain": [
       "Epoch 57/2000:   0%|          | 0/29 [00:00<?, ?batch/s]"
      ]
     },
     "metadata": {},
     "output_type": "display_data"
    },
    {
     "data": {
      "application/vnd.jupyter.widget-view+json": {
       "model_id": "6a8c770685424319b764b1bfb69d178c",
       "version_major": 2,
       "version_minor": 0
      },
      "text/plain": [
       "Epoch 58/2000:   0%|          | 0/29 [00:00<?, ?batch/s]"
      ]
     },
     "metadata": {},
     "output_type": "display_data"
    },
    {
     "data": {
      "application/vnd.jupyter.widget-view+json": {
       "model_id": "24a7389a9d21472290716d5121014367",
       "version_major": 2,
       "version_minor": 0
      },
      "text/plain": [
       "Epoch 59/2000:   0%|          | 0/29 [00:00<?, ?batch/s]"
      ]
     },
     "metadata": {},
     "output_type": "display_data"
    },
    {
     "data": {
      "application/vnd.jupyter.widget-view+json": {
       "model_id": "969cb307003541f08c730696e1dd6fb1",
       "version_major": 2,
       "version_minor": 0
      },
      "text/plain": [
       "Epoch 60/2000:   0%|          | 0/29 [00:00<?, ?batch/s]"
      ]
     },
     "metadata": {},
     "output_type": "display_data"
    },
    {
     "data": {
      "application/vnd.jupyter.widget-view+json": {
       "model_id": "e1c02a9d99c44654a96077502853be48",
       "version_major": 2,
       "version_minor": 0
      },
      "text/plain": [
       "Epoch 61/2000:   0%|          | 0/29 [00:00<?, ?batch/s]"
      ]
     },
     "metadata": {},
     "output_type": "display_data"
    },
    {
     "data": {
      "application/vnd.jupyter.widget-view+json": {
       "model_id": "c5e9c005ef1d4c7093c9161a92c3eb41",
       "version_major": 2,
       "version_minor": 0
      },
      "text/plain": [
       "Epoch 62/2000:   0%|          | 0/29 [00:00<?, ?batch/s]"
      ]
     },
     "metadata": {},
     "output_type": "display_data"
    },
    {
     "data": {
      "application/vnd.jupyter.widget-view+json": {
       "model_id": "185bc0deafc64d8182b4f34e46d1df50",
       "version_major": 2,
       "version_minor": 0
      },
      "text/plain": [
       "Epoch 63/2000:   0%|          | 0/29 [00:00<?, ?batch/s]"
      ]
     },
     "metadata": {},
     "output_type": "display_data"
    },
    {
     "data": {
      "application/vnd.jupyter.widget-view+json": {
       "model_id": "01bbffd09c8845719a7798e9e5760478",
       "version_major": 2,
       "version_minor": 0
      },
      "text/plain": [
       "Epoch 64/2000:   0%|          | 0/29 [00:00<?, ?batch/s]"
      ]
     },
     "metadata": {},
     "output_type": "display_data"
    },
    {
     "data": {
      "application/vnd.jupyter.widget-view+json": {
       "model_id": "c9ef1a8506c447a79d97f9eac9a5376d",
       "version_major": 2,
       "version_minor": 0
      },
      "text/plain": [
       "Epoch 65/2000:   0%|          | 0/29 [00:00<?, ?batch/s]"
      ]
     },
     "metadata": {},
     "output_type": "display_data"
    },
    {
     "data": {
      "application/vnd.jupyter.widget-view+json": {
       "model_id": "65d08f3f9a9248b0879a8d1bba5ad4f4",
       "version_major": 2,
       "version_minor": 0
      },
      "text/plain": [
       "Epoch 66/2000:   0%|          | 0/29 [00:00<?, ?batch/s]"
      ]
     },
     "metadata": {},
     "output_type": "display_data"
    },
    {
     "data": {
      "application/vnd.jupyter.widget-view+json": {
       "model_id": "abaad47870404313a79de2486fd3071b",
       "version_major": 2,
       "version_minor": 0
      },
      "text/plain": [
       "Epoch 67/2000:   0%|          | 0/29 [00:00<?, ?batch/s]"
      ]
     },
     "metadata": {},
     "output_type": "display_data"
    },
    {
     "data": {
      "application/vnd.jupyter.widget-view+json": {
       "model_id": "d60f965bd425451898ff87e87254ecbe",
       "version_major": 2,
       "version_minor": 0
      },
      "text/plain": [
       "Epoch 68/2000:   0%|          | 0/29 [00:00<?, ?batch/s]"
      ]
     },
     "metadata": {},
     "output_type": "display_data"
    },
    {
     "data": {
      "application/vnd.jupyter.widget-view+json": {
       "model_id": "95c16d31212c47c0b74640d83dd8adb0",
       "version_major": 2,
       "version_minor": 0
      },
      "text/plain": [
       "Epoch 69/2000:   0%|          | 0/29 [00:00<?, ?batch/s]"
      ]
     },
     "metadata": {},
     "output_type": "display_data"
    },
    {
     "data": {
      "application/vnd.jupyter.widget-view+json": {
       "model_id": "667a55ae012544f390b61c2cff4e526a",
       "version_major": 2,
       "version_minor": 0
      },
      "text/plain": [
       "Epoch 70/2000:   0%|          | 0/29 [00:00<?, ?batch/s]"
      ]
     },
     "metadata": {},
     "output_type": "display_data"
    },
    {
     "data": {
      "application/vnd.jupyter.widget-view+json": {
       "model_id": "24f4ab2e74cf464bac7adc6873ef88f2",
       "version_major": 2,
       "version_minor": 0
      },
      "text/plain": [
       "Epoch 71/2000:   0%|          | 0/29 [00:00<?, ?batch/s]"
      ]
     },
     "metadata": {},
     "output_type": "display_data"
    },
    {
     "data": {
      "application/vnd.jupyter.widget-view+json": {
       "model_id": "e0eb90d4998c40d6ad47ac53847b0ad4",
       "version_major": 2,
       "version_minor": 0
      },
      "text/plain": [
       "Epoch 72/2000:   0%|          | 0/29 [00:00<?, ?batch/s]"
      ]
     },
     "metadata": {},
     "output_type": "display_data"
    },
    {
     "data": {
      "application/vnd.jupyter.widget-view+json": {
       "model_id": "36f430e8ab5a4fd0a114948ee28baa78",
       "version_major": 2,
       "version_minor": 0
      },
      "text/plain": [
       "Epoch 73/2000:   0%|          | 0/29 [00:00<?, ?batch/s]"
      ]
     },
     "metadata": {},
     "output_type": "display_data"
    },
    {
     "data": {
      "application/vnd.jupyter.widget-view+json": {
       "model_id": "8b45a416773b4cb2ae5fae1f565ca77d",
       "version_major": 2,
       "version_minor": 0
      },
      "text/plain": [
       "Epoch 74/2000:   0%|          | 0/29 [00:00<?, ?batch/s]"
      ]
     },
     "metadata": {},
     "output_type": "display_data"
    },
    {
     "data": {
      "application/vnd.jupyter.widget-view+json": {
       "model_id": "169c02d7bfca4e8599e9dfb6e7611e1f",
       "version_major": 2,
       "version_minor": 0
      },
      "text/plain": [
       "Epoch 75/2000:   0%|          | 0/29 [00:00<?, ?batch/s]"
      ]
     },
     "metadata": {},
     "output_type": "display_data"
    },
    {
     "data": {
      "application/vnd.jupyter.widget-view+json": {
       "model_id": "394c9157b49b4a6db576bfc810549330",
       "version_major": 2,
       "version_minor": 0
      },
      "text/plain": [
       "Epoch 76/2000:   0%|          | 0/29 [00:00<?, ?batch/s]"
      ]
     },
     "metadata": {},
     "output_type": "display_data"
    },
    {
     "data": {
      "application/vnd.jupyter.widget-view+json": {
       "model_id": "6dbbea4861d54204856185222f881e09",
       "version_major": 2,
       "version_minor": 0
      },
      "text/plain": [
       "Epoch 77/2000:   0%|          | 0/29 [00:00<?, ?batch/s]"
      ]
     },
     "metadata": {},
     "output_type": "display_data"
    },
    {
     "data": {
      "application/vnd.jupyter.widget-view+json": {
       "model_id": "341274814202415eac8ffc51686d25cd",
       "version_major": 2,
       "version_minor": 0
      },
      "text/plain": [
       "Epoch 78/2000:   0%|          | 0/29 [00:00<?, ?batch/s]"
      ]
     },
     "metadata": {},
     "output_type": "display_data"
    },
    {
     "data": {
      "application/vnd.jupyter.widget-view+json": {
       "model_id": "fa6b8d2df7004646a03b2531f2899184",
       "version_major": 2,
       "version_minor": 0
      },
      "text/plain": [
       "Epoch 79/2000:   0%|          | 0/29 [00:00<?, ?batch/s]"
      ]
     },
     "metadata": {},
     "output_type": "display_data"
    },
    {
     "data": {
      "application/vnd.jupyter.widget-view+json": {
       "model_id": "9c6e4e805d7d43d4b37817b23e510cb7",
       "version_major": 2,
       "version_minor": 0
      },
      "text/plain": [
       "Epoch 80/2000:   0%|          | 0/29 [00:00<?, ?batch/s]"
      ]
     },
     "metadata": {},
     "output_type": "display_data"
    },
    {
     "data": {
      "application/vnd.jupyter.widget-view+json": {
       "model_id": "6751cbdd74ed4f548e26492cb9e6076c",
       "version_major": 2,
       "version_minor": 0
      },
      "text/plain": [
       "Epoch 81/2000:   0%|          | 0/29 [00:00<?, ?batch/s]"
      ]
     },
     "metadata": {},
     "output_type": "display_data"
    },
    {
     "data": {
      "application/vnd.jupyter.widget-view+json": {
       "model_id": "379f2a578b8348759424ee673b70129c",
       "version_major": 2,
       "version_minor": 0
      },
      "text/plain": [
       "Epoch 82/2000:   0%|          | 0/29 [00:00<?, ?batch/s]"
      ]
     },
     "metadata": {},
     "output_type": "display_data"
    },
    {
     "data": {
      "application/vnd.jupyter.widget-view+json": {
       "model_id": "456424c7911f45c6844252a977de7131",
       "version_major": 2,
       "version_minor": 0
      },
      "text/plain": [
       "Epoch 83/2000:   0%|          | 0/29 [00:00<?, ?batch/s]"
      ]
     },
     "metadata": {},
     "output_type": "display_data"
    },
    {
     "data": {
      "application/vnd.jupyter.widget-view+json": {
       "model_id": "333e03feba654e26ab72e877f2d2ee83",
       "version_major": 2,
       "version_minor": 0
      },
      "text/plain": [
       "Epoch 84/2000:   0%|          | 0/29 [00:00<?, ?batch/s]"
      ]
     },
     "metadata": {},
     "output_type": "display_data"
    },
    {
     "data": {
      "application/vnd.jupyter.widget-view+json": {
       "model_id": "df282bd108a343f79246ed26e8c5c3de",
       "version_major": 2,
       "version_minor": 0
      },
      "text/plain": [
       "Epoch 85/2000:   0%|          | 0/29 [00:00<?, ?batch/s]"
      ]
     },
     "metadata": {},
     "output_type": "display_data"
    },
    {
     "data": {
      "application/vnd.jupyter.widget-view+json": {
       "model_id": "3cd65051409f4af98c1816cc40206ce6",
       "version_major": 2,
       "version_minor": 0
      },
      "text/plain": [
       "Epoch 86/2000:   0%|          | 0/29 [00:00<?, ?batch/s]"
      ]
     },
     "metadata": {},
     "output_type": "display_data"
    },
    {
     "name": "stderr",
     "output_type": "stream",
     "text": [
      "IOPub message rate exceeded.\n",
      "The Jupyter server will temporarily stop sending output\n",
      "to the client in order to avoid crashing it.\n",
      "To change this limit, set the config variable\n",
      "`--ServerApp.iopub_msg_rate_limit`.\n",
      "\n",
      "Current values:\n",
      "ServerApp.iopub_msg_rate_limit=1000.0 (msgs/sec)\n",
      "ServerApp.rate_limit_window=3.0 (secs)\n",
      "\n"
     ]
    },
    {
     "data": {
      "application/vnd.jupyter.widget-view+json": {
       "model_id": "acdf253da4714a3da223aac597347149",
       "version_major": 2,
       "version_minor": 0
      },
      "text/plain": [
       "Epoch 95/2000:   0%|          | 0/29 [00:00<?, ?batch/s]"
      ]
     },
     "metadata": {},
     "output_type": "display_data"
    },
    {
     "data": {
      "application/vnd.jupyter.widget-view+json": {
       "model_id": "3adfc6ef51cb4d8187300d6e377446e1",
       "version_major": 2,
       "version_minor": 0
      },
      "text/plain": [
       "Epoch 96/2000:   0%|          | 0/29 [00:00<?, ?batch/s]"
      ]
     },
     "metadata": {},
     "output_type": "display_data"
    },
    {
     "data": {
      "application/vnd.jupyter.widget-view+json": {
       "model_id": "098254715e904babab15950256dc3234",
       "version_major": 2,
       "version_minor": 0
      },
      "text/plain": [
       "Epoch 97/2000:   0%|          | 0/29 [00:00<?, ?batch/s]"
      ]
     },
     "metadata": {},
     "output_type": "display_data"
    },
    {
     "data": {
      "application/vnd.jupyter.widget-view+json": {
       "model_id": "a52eba5f5ee94a5aaadc596f3ed453c4",
       "version_major": 2,
       "version_minor": 0
      },
      "text/plain": [
       "Epoch 98/2000:   0%|          | 0/29 [00:00<?, ?batch/s]"
      ]
     },
     "metadata": {},
     "output_type": "display_data"
    },
    {
     "data": {
      "application/vnd.jupyter.widget-view+json": {
       "model_id": "3c003a5853dd46e6914b70829acc9c40",
       "version_major": 2,
       "version_minor": 0
      },
      "text/plain": [
       "Epoch 99/2000:   0%|          | 0/29 [00:00<?, ?batch/s]"
      ]
     },
     "metadata": {},
     "output_type": "display_data"
    },
    {
     "data": {
      "application/vnd.jupyter.widget-view+json": {
       "model_id": "124b536b666e487e85ee22ab1cec5336",
       "version_major": 2,
       "version_minor": 0
      },
      "text/plain": [
       "Epoch 100/2000:   0%|          | 0/29 [00:00<?, ?batch/s]"
      ]
     },
     "metadata": {},
     "output_type": "display_data"
    },
    {
     "data": {
      "application/vnd.jupyter.widget-view+json": {
       "model_id": "a4b43ca065dd4790bc5e420f47fb79a2",
       "version_major": 2,
       "version_minor": 0
      },
      "text/plain": [
       "Epoch 101/2000:   0%|          | 0/29 [00:00<?, ?batch/s]"
      ]
     },
     "metadata": {},
     "output_type": "display_data"
    },
    {
     "data": {
      "application/vnd.jupyter.widget-view+json": {
       "model_id": "09ef476c17814d23a288557ddef98de7",
       "version_major": 2,
       "version_minor": 0
      },
      "text/plain": [
       "Epoch 102/2000:   0%|          | 0/29 [00:00<?, ?batch/s]"
      ]
     },
     "metadata": {},
     "output_type": "display_data"
    },
    {
     "data": {
      "application/vnd.jupyter.widget-view+json": {
       "model_id": "7e1f1acce2e744b5bbe39b15303a5e0c",
       "version_major": 2,
       "version_minor": 0
      },
      "text/plain": [
       "Epoch 103/2000:   0%|          | 0/29 [00:00<?, ?batch/s]"
      ]
     },
     "metadata": {},
     "output_type": "display_data"
    },
    {
     "data": {
      "application/vnd.jupyter.widget-view+json": {
       "model_id": "0dc7950a8fc946209a3af456e4fe8050",
       "version_major": 2,
       "version_minor": 0
      },
      "text/plain": [
       "Epoch 104/2000:   0%|          | 0/29 [00:00<?, ?batch/s]"
      ]
     },
     "metadata": {},
     "output_type": "display_data"
    },
    {
     "data": {
      "application/vnd.jupyter.widget-view+json": {
       "model_id": "6c22dbec462942799f40ba6964c8154b",
       "version_major": 2,
       "version_minor": 0
      },
      "text/plain": [
       "Epoch 105/2000:   0%|          | 0/29 [00:00<?, ?batch/s]"
      ]
     },
     "metadata": {},
     "output_type": "display_data"
    },
    {
     "data": {
      "application/vnd.jupyter.widget-view+json": {
       "model_id": "25eea13c8d924172a49412cd5e230534",
       "version_major": 2,
       "version_minor": 0
      },
      "text/plain": [
       "Epoch 106/2000:   0%|          | 0/29 [00:00<?, ?batch/s]"
      ]
     },
     "metadata": {},
     "output_type": "display_data"
    },
    {
     "data": {
      "application/vnd.jupyter.widget-view+json": {
       "model_id": "5bb5e789687c434297e19b82c7314bc9",
       "version_major": 2,
       "version_minor": 0
      },
      "text/plain": [
       "Epoch 107/2000:   0%|          | 0/29 [00:00<?, ?batch/s]"
      ]
     },
     "metadata": {},
     "output_type": "display_data"
    },
    {
     "data": {
      "application/vnd.jupyter.widget-view+json": {
       "model_id": "b5b5f5d67e3f4486933f41d0943490e9",
       "version_major": 2,
       "version_minor": 0
      },
      "text/plain": [
       "Epoch 108/2000:   0%|          | 0/29 [00:00<?, ?batch/s]"
      ]
     },
     "metadata": {},
     "output_type": "display_data"
    },
    {
     "data": {
      "application/vnd.jupyter.widget-view+json": {
       "model_id": "160bc99c77cc4f5386f648b142158f4d",
       "version_major": 2,
       "version_minor": 0
      },
      "text/plain": [
       "Epoch 109/2000:   0%|          | 0/29 [00:00<?, ?batch/s]"
      ]
     },
     "metadata": {},
     "output_type": "display_data"
    },
    {
     "data": {
      "application/vnd.jupyter.widget-view+json": {
       "model_id": "06dd37a5ea6346c786b1af2724c4cf06",
       "version_major": 2,
       "version_minor": 0
      },
      "text/plain": [
       "Epoch 110/2000:   0%|          | 0/29 [00:00<?, ?batch/s]"
      ]
     },
     "metadata": {},
     "output_type": "display_data"
    },
    {
     "data": {
      "application/vnd.jupyter.widget-view+json": {
       "model_id": "d994a96be8334bcabcddf13b2ef861f4",
       "version_major": 2,
       "version_minor": 0
      },
      "text/plain": [
       "Epoch 111/2000:   0%|          | 0/29 [00:00<?, ?batch/s]"
      ]
     },
     "metadata": {},
     "output_type": "display_data"
    },
    {
     "data": {
      "application/vnd.jupyter.widget-view+json": {
       "model_id": "54edaa24e31241fa8dc9db328630821a",
       "version_major": 2,
       "version_minor": 0
      },
      "text/plain": [
       "Epoch 112/2000:   0%|          | 0/29 [00:00<?, ?batch/s]"
      ]
     },
     "metadata": {},
     "output_type": "display_data"
    },
    {
     "data": {
      "application/vnd.jupyter.widget-view+json": {
       "model_id": "51e9130cb6a741c0a0965befd1a28ebb",
       "version_major": 2,
       "version_minor": 0
      },
      "text/plain": [
       "Epoch 113/2000:   0%|          | 0/29 [00:00<?, ?batch/s]"
      ]
     },
     "metadata": {},
     "output_type": "display_data"
    },
    {
     "data": {
      "application/vnd.jupyter.widget-view+json": {
       "model_id": "b1798ed0003f4d19bec33c5b554595ef",
       "version_major": 2,
       "version_minor": 0
      },
      "text/plain": [
       "Epoch 114/2000:   0%|          | 0/29 [00:00<?, ?batch/s]"
      ]
     },
     "metadata": {},
     "output_type": "display_data"
    },
    {
     "data": {
      "application/vnd.jupyter.widget-view+json": {
       "model_id": "85ff0d2ba3b947c4a6ecf9f07b8cd14e",
       "version_major": 2,
       "version_minor": 0
      },
      "text/plain": [
       "Epoch 115/2000:   0%|          | 0/29 [00:00<?, ?batch/s]"
      ]
     },
     "metadata": {},
     "output_type": "display_data"
    },
    {
     "data": {
      "application/vnd.jupyter.widget-view+json": {
       "model_id": "087b799e4f70471d8af3fc84a915dfdd",
       "version_major": 2,
       "version_minor": 0
      },
      "text/plain": [
       "Epoch 116/2000:   0%|          | 0/29 [00:00<?, ?batch/s]"
      ]
     },
     "metadata": {},
     "output_type": "display_data"
    },
    {
     "data": {
      "application/vnd.jupyter.widget-view+json": {
       "model_id": "a2c468b202ee4c1b9d1f0ecbb20f52ed",
       "version_major": 2,
       "version_minor": 0
      },
      "text/plain": [
       "Epoch 117/2000:   0%|          | 0/29 [00:00<?, ?batch/s]"
      ]
     },
     "metadata": {},
     "output_type": "display_data"
    },
    {
     "data": {
      "application/vnd.jupyter.widget-view+json": {
       "model_id": "777d67c608db47ae8c2d8e5ac7258d61",
       "version_major": 2,
       "version_minor": 0
      },
      "text/plain": [
       "Epoch 118/2000:   0%|          | 0/29 [00:00<?, ?batch/s]"
      ]
     },
     "metadata": {},
     "output_type": "display_data"
    },
    {
     "data": {
      "application/vnd.jupyter.widget-view+json": {
       "model_id": "7788093e63534528b2871e109fc427c9",
       "version_major": 2,
       "version_minor": 0
      },
      "text/plain": [
       "Epoch 119/2000:   0%|          | 0/29 [00:00<?, ?batch/s]"
      ]
     },
     "metadata": {},
     "output_type": "display_data"
    },
    {
     "data": {
      "application/vnd.jupyter.widget-view+json": {
       "model_id": "824651deff2b4ccea44a7290a87113bb",
       "version_major": 2,
       "version_minor": 0
      },
      "text/plain": [
       "Epoch 120/2000:   0%|          | 0/29 [00:00<?, ?batch/s]"
      ]
     },
     "metadata": {},
     "output_type": "display_data"
    },
    {
     "data": {
      "application/vnd.jupyter.widget-view+json": {
       "model_id": "fdd618f8bf3f477eb569cc26516fc1e3",
       "version_major": 2,
       "version_minor": 0
      },
      "text/plain": [
       "Epoch 121/2000:   0%|          | 0/29 [00:00<?, ?batch/s]"
      ]
     },
     "metadata": {},
     "output_type": "display_data"
    },
    {
     "data": {
      "application/vnd.jupyter.widget-view+json": {
       "model_id": "6215831a44e542e9baf6b4659edb0ad3",
       "version_major": 2,
       "version_minor": 0
      },
      "text/plain": [
       "Epoch 122/2000:   0%|          | 0/29 [00:00<?, ?batch/s]"
      ]
     },
     "metadata": {},
     "output_type": "display_data"
    },
    {
     "data": {
      "application/vnd.jupyter.widget-view+json": {
       "model_id": "7706e2ef1cea40e4ba04a6024498f2db",
       "version_major": 2,
       "version_minor": 0
      },
      "text/plain": [
       "Epoch 123/2000:   0%|          | 0/29 [00:00<?, ?batch/s]"
      ]
     },
     "metadata": {},
     "output_type": "display_data"
    },
    {
     "data": {
      "application/vnd.jupyter.widget-view+json": {
       "model_id": "a8e18780f70f4be0a1cf51d8a6d8bd7b",
       "version_major": 2,
       "version_minor": 0
      },
      "text/plain": [
       "Epoch 124/2000:   0%|          | 0/29 [00:00<?, ?batch/s]"
      ]
     },
     "metadata": {},
     "output_type": "display_data"
    },
    {
     "data": {
      "application/vnd.jupyter.widget-view+json": {
       "model_id": "4539f29389474aa7a620785812d7caad",
       "version_major": 2,
       "version_minor": 0
      },
      "text/plain": [
       "Epoch 125/2000:   0%|          | 0/29 [00:00<?, ?batch/s]"
      ]
     },
     "metadata": {},
     "output_type": "display_data"
    },
    {
     "data": {
      "application/vnd.jupyter.widget-view+json": {
       "model_id": "25dee4f9a6af4f24bd20cea5cb16f2dc",
       "version_major": 2,
       "version_minor": 0
      },
      "text/plain": [
       "Epoch 126/2000:   0%|          | 0/29 [00:00<?, ?batch/s]"
      ]
     },
     "metadata": {},
     "output_type": "display_data"
    },
    {
     "name": "stderr",
     "output_type": "stream",
     "text": [
      "IOPub message rate exceeded.\n",
      "The Jupyter server will temporarily stop sending output\n",
      "to the client in order to avoid crashing it.\n",
      "To change this limit, set the config variable\n",
      "`--ServerApp.iopub_msg_rate_limit`.\n",
      "\n",
      "Current values:\n",
      "ServerApp.iopub_msg_rate_limit=1000.0 (msgs/sec)\n",
      "ServerApp.rate_limit_window=3.0 (secs)\n",
      "\n"
     ]
    },
    {
     "data": {
      "application/vnd.jupyter.widget-view+json": {
       "model_id": "6b69e631afc04534a9305b409cc4f6da",
       "version_major": 2,
       "version_minor": 0
      },
      "text/plain": [
       "Epoch 134/2000:   0%|          | 0/29 [00:00<?, ?batch/s]"
      ]
     },
     "metadata": {},
     "output_type": "display_data"
    },
    {
     "data": {
      "application/vnd.jupyter.widget-view+json": {
       "model_id": "e8ec5afca7444ceb94c2981f1a10f1d8",
       "version_major": 2,
       "version_minor": 0
      },
      "text/plain": [
       "Epoch 135/2000:   0%|          | 0/29 [00:00<?, ?batch/s]"
      ]
     },
     "metadata": {},
     "output_type": "display_data"
    },
    {
     "data": {
      "application/vnd.jupyter.widget-view+json": {
       "model_id": "b1b9290a236047139ced8e7c1948c4e5",
       "version_major": 2,
       "version_minor": 0
      },
      "text/plain": [
       "Epoch 136/2000:   0%|          | 0/29 [00:00<?, ?batch/s]"
      ]
     },
     "metadata": {},
     "output_type": "display_data"
    },
    {
     "data": {
      "application/vnd.jupyter.widget-view+json": {
       "model_id": "7e50a2d977f749e79117cbc2191e4782",
       "version_major": 2,
       "version_minor": 0
      },
      "text/plain": [
       "Epoch 137/2000:   0%|          | 0/29 [00:00<?, ?batch/s]"
      ]
     },
     "metadata": {},
     "output_type": "display_data"
    },
    {
     "data": {
      "application/vnd.jupyter.widget-view+json": {
       "model_id": "7e329a9d595d4cab8645a3044ebc63c6",
       "version_major": 2,
       "version_minor": 0
      },
      "text/plain": [
       "Epoch 138/2000:   0%|          | 0/29 [00:00<?, ?batch/s]"
      ]
     },
     "metadata": {},
     "output_type": "display_data"
    },
    {
     "data": {
      "application/vnd.jupyter.widget-view+json": {
       "model_id": "fae8c1377ede4b2889f4cc893ac1fa18",
       "version_major": 2,
       "version_minor": 0
      },
      "text/plain": [
       "Epoch 139/2000:   0%|          | 0/29 [00:00<?, ?batch/s]"
      ]
     },
     "metadata": {},
     "output_type": "display_data"
    },
    {
     "data": {
      "application/vnd.jupyter.widget-view+json": {
       "model_id": "62e24d01b25749a3b0383bee0b005acd",
       "version_major": 2,
       "version_minor": 0
      },
      "text/plain": [
       "Epoch 140/2000:   0%|          | 0/29 [00:00<?, ?batch/s]"
      ]
     },
     "metadata": {},
     "output_type": "display_data"
    },
    {
     "data": {
      "application/vnd.jupyter.widget-view+json": {
       "model_id": "60ee9990898a497bb3a57a92d8fb2a24",
       "version_major": 2,
       "version_minor": 0
      },
      "text/plain": [
       "Epoch 141/2000:   0%|          | 0/29 [00:00<?, ?batch/s]"
      ]
     },
     "metadata": {},
     "output_type": "display_data"
    },
    {
     "data": {
      "application/vnd.jupyter.widget-view+json": {
       "model_id": "230b030210994fcd9bdbce27df525c24",
       "version_major": 2,
       "version_minor": 0
      },
      "text/plain": [
       "Epoch 142/2000:   0%|          | 0/29 [00:00<?, ?batch/s]"
      ]
     },
     "metadata": {},
     "output_type": "display_data"
    },
    {
     "data": {
      "application/vnd.jupyter.widget-view+json": {
       "model_id": "1ca24e7145b448da85a740c85fd8d38a",
       "version_major": 2,
       "version_minor": 0
      },
      "text/plain": [
       "Epoch 143/2000:   0%|          | 0/29 [00:00<?, ?batch/s]"
      ]
     },
     "metadata": {},
     "output_type": "display_data"
    },
    {
     "data": {
      "application/vnd.jupyter.widget-view+json": {
       "model_id": "633cb43c9ef44866a384de421cac8cb2",
       "version_major": 2,
       "version_minor": 0
      },
      "text/plain": [
       "Epoch 144/2000:   0%|          | 0/29 [00:00<?, ?batch/s]"
      ]
     },
     "metadata": {},
     "output_type": "display_data"
    },
    {
     "data": {
      "application/vnd.jupyter.widget-view+json": {
       "model_id": "cf16251f14b54a358721b41e44ba1e0a",
       "version_major": 2,
       "version_minor": 0
      },
      "text/plain": [
       "Epoch 145/2000:   0%|          | 0/29 [00:00<?, ?batch/s]"
      ]
     },
     "metadata": {},
     "output_type": "display_data"
    },
    {
     "data": {
      "application/vnd.jupyter.widget-view+json": {
       "model_id": "740c460478784effb6d046e6d741880f",
       "version_major": 2,
       "version_minor": 0
      },
      "text/plain": [
       "Epoch 146/2000:   0%|          | 0/29 [00:00<?, ?batch/s]"
      ]
     },
     "metadata": {},
     "output_type": "display_data"
    },
    {
     "data": {
      "application/vnd.jupyter.widget-view+json": {
       "model_id": "568e2baabae94a8ea638a5523f4d5d70",
       "version_major": 2,
       "version_minor": 0
      },
      "text/plain": [
       "Epoch 147/2000:   0%|          | 0/29 [00:00<?, ?batch/s]"
      ]
     },
     "metadata": {},
     "output_type": "display_data"
    },
    {
     "data": {
      "application/vnd.jupyter.widget-view+json": {
       "model_id": "fa4f76a3c13b4f77b487e669adc3310a",
       "version_major": 2,
       "version_minor": 0
      },
      "text/plain": [
       "Epoch 148/2000:   0%|          | 0/29 [00:00<?, ?batch/s]"
      ]
     },
     "metadata": {},
     "output_type": "display_data"
    },
    {
     "data": {
      "application/vnd.jupyter.widget-view+json": {
       "model_id": "1c1f5438769c4ba4a92a5b02ac02942c",
       "version_major": 2,
       "version_minor": 0
      },
      "text/plain": [
       "Epoch 149/2000:   0%|          | 0/29 [00:00<?, ?batch/s]"
      ]
     },
     "metadata": {},
     "output_type": "display_data"
    },
    {
     "data": {
      "application/vnd.jupyter.widget-view+json": {
       "model_id": "e2292f69f25c4092a49f42046458a28f",
       "version_major": 2,
       "version_minor": 0
      },
      "text/plain": [
       "Epoch 150/2000:   0%|          | 0/29 [00:00<?, ?batch/s]"
      ]
     },
     "metadata": {},
     "output_type": "display_data"
    },
    {
     "data": {
      "application/vnd.jupyter.widget-view+json": {
       "model_id": "909ea6c2a9c54e1ab5b1a55c18de8926",
       "version_major": 2,
       "version_minor": 0
      },
      "text/plain": [
       "Epoch 151/2000:   0%|          | 0/29 [00:00<?, ?batch/s]"
      ]
     },
     "metadata": {},
     "output_type": "display_data"
    },
    {
     "data": {
      "application/vnd.jupyter.widget-view+json": {
       "model_id": "abd2f5c0a9f949c7aa32fa9b08a08eaf",
       "version_major": 2,
       "version_minor": 0
      },
      "text/plain": [
       "Epoch 152/2000:   0%|          | 0/29 [00:00<?, ?batch/s]"
      ]
     },
     "metadata": {},
     "output_type": "display_data"
    },
    {
     "data": {
      "application/vnd.jupyter.widget-view+json": {
       "model_id": "2d1118969a1442e499fc64b5b5758c16",
       "version_major": 2,
       "version_minor": 0
      },
      "text/plain": [
       "Epoch 153/2000:   0%|          | 0/29 [00:00<?, ?batch/s]"
      ]
     },
     "metadata": {},
     "output_type": "display_data"
    },
    {
     "data": {
      "application/vnd.jupyter.widget-view+json": {
       "model_id": "5ca7c83387944683958562e9dc75c725",
       "version_major": 2,
       "version_minor": 0
      },
      "text/plain": [
       "Epoch 154/2000:   0%|          | 0/29 [00:00<?, ?batch/s]"
      ]
     },
     "metadata": {},
     "output_type": "display_data"
    },
    {
     "data": {
      "application/vnd.jupyter.widget-view+json": {
       "model_id": "f366adbcc0b0418f85dc2901b3fe2fc7",
       "version_major": 2,
       "version_minor": 0
      },
      "text/plain": [
       "Epoch 155/2000:   0%|          | 0/29 [00:00<?, ?batch/s]"
      ]
     },
     "metadata": {},
     "output_type": "display_data"
    },
    {
     "data": {
      "application/vnd.jupyter.widget-view+json": {
       "model_id": "3de230c5d21340228affffa92161b6fe",
       "version_major": 2,
       "version_minor": 0
      },
      "text/plain": [
       "Epoch 156/2000:   0%|          | 0/29 [00:00<?, ?batch/s]"
      ]
     },
     "metadata": {},
     "output_type": "display_data"
    },
    {
     "data": {
      "application/vnd.jupyter.widget-view+json": {
       "model_id": "391cdd71d8a74c0091e52a5b25d19cfb",
       "version_major": 2,
       "version_minor": 0
      },
      "text/plain": [
       "Epoch 157/2000:   0%|          | 0/29 [00:00<?, ?batch/s]"
      ]
     },
     "metadata": {},
     "output_type": "display_data"
    },
    {
     "data": {
      "application/vnd.jupyter.widget-view+json": {
       "model_id": "de08ad8992b043ba85c2c0da7d4634c4",
       "version_major": 2,
       "version_minor": 0
      },
      "text/plain": [
       "Epoch 158/2000:   0%|          | 0/29 [00:00<?, ?batch/s]"
      ]
     },
     "metadata": {},
     "output_type": "display_data"
    },
    {
     "data": {
      "application/vnd.jupyter.widget-view+json": {
       "model_id": "83f795b2f3ef4a07bb7f505755a195bd",
       "version_major": 2,
       "version_minor": 0
      },
      "text/plain": [
       "Epoch 159/2000:   0%|          | 0/29 [00:00<?, ?batch/s]"
      ]
     },
     "metadata": {},
     "output_type": "display_data"
    },
    {
     "data": {
      "application/vnd.jupyter.widget-view+json": {
       "model_id": "555e3499f5c541e1970bc021f4ec9970",
       "version_major": 2,
       "version_minor": 0
      },
      "text/plain": [
       "Epoch 160/2000:   0%|          | 0/29 [00:00<?, ?batch/s]"
      ]
     },
     "metadata": {},
     "output_type": "display_data"
    },
    {
     "data": {
      "application/vnd.jupyter.widget-view+json": {
       "model_id": "e65b2eb6cdbf4c6c8c2deeb08941314d",
       "version_major": 2,
       "version_minor": 0
      },
      "text/plain": [
       "Epoch 161/2000:   0%|          | 0/29 [00:00<?, ?batch/s]"
      ]
     },
     "metadata": {},
     "output_type": "display_data"
    },
    {
     "data": {
      "application/vnd.jupyter.widget-view+json": {
       "model_id": "27fb3c6194ed4a1ba6f813d3f1d2def9",
       "version_major": 2,
       "version_minor": 0
      },
      "text/plain": [
       "Epoch 162/2000:   0%|          | 0/29 [00:00<?, ?batch/s]"
      ]
     },
     "metadata": {},
     "output_type": "display_data"
    },
    {
     "data": {
      "application/vnd.jupyter.widget-view+json": {
       "model_id": "ac09b73f2c19444a98a4c1c11f0ccafb",
       "version_major": 2,
       "version_minor": 0
      },
      "text/plain": [
       "Epoch 163/2000:   0%|          | 0/29 [00:00<?, ?batch/s]"
      ]
     },
     "metadata": {},
     "output_type": "display_data"
    },
    {
     "data": {
      "application/vnd.jupyter.widget-view+json": {
       "model_id": "05149a8158ed41c2804976a288581c5d",
       "version_major": 2,
       "version_minor": 0
      },
      "text/plain": [
       "Epoch 164/2000:   0%|          | 0/29 [00:00<?, ?batch/s]"
      ]
     },
     "metadata": {},
     "output_type": "display_data"
    },
    {
     "name": "stdout",
     "output_type": "stream",
     "text": [
      "Early stopping triggered: patience threshold reached.\n",
      "\n",
      "Fitting Sensor Forecaster...\n"
     ]
    },
    {
     "data": {
      "application/vnd.jupyter.widget-view+json": {
       "model_id": "c94b43abf1924929936c4116b0f027ed",
       "version_major": 2,
       "version_minor": 0
      },
      "text/plain": [
       "Epoch 1/2000:   0%|          | 0/29 [00:00<?, ?batch/s]"
      ]
     },
     "metadata": {},
     "output_type": "display_data"
    },
    {
     "name": "stderr",
     "output_type": "stream",
     "text": [
      "IOPub message rate exceeded.\n",
      "The Jupyter server will temporarily stop sending output\n",
      "to the client in order to avoid crashing it.\n",
      "To change this limit, set the config variable\n",
      "`--ServerApp.iopub_msg_rate_limit`.\n",
      "\n",
      "Current values:\n",
      "ServerApp.iopub_msg_rate_limit=1000.0 (msgs/sec)\n",
      "ServerApp.rate_limit_window=3.0 (secs)\n",
      "\n"
     ]
    },
    {
     "data": {
      "application/vnd.jupyter.widget-view+json": {
       "model_id": "fb44be53e2194253813c03ca4b796cc8",
       "version_major": 2,
       "version_minor": 0
      },
      "text/plain": [
       "Epoch 9/2000:   0%|          | 0/29 [00:00<?, ?batch/s]"
      ]
     },
     "metadata": {},
     "output_type": "display_data"
    },
    {
     "data": {
      "application/vnd.jupyter.widget-view+json": {
       "model_id": "b34cc69dc6dd40d9b5c28a73e8a6a313",
       "version_major": 2,
       "version_minor": 0
      },
      "text/plain": [
       "Epoch 10/2000:   0%|          | 0/29 [00:00<?, ?batch/s]"
      ]
     },
     "metadata": {},
     "output_type": "display_data"
    },
    {
     "data": {
      "application/vnd.jupyter.widget-view+json": {
       "model_id": "94035b972d244aeaaca34b696d1e622e",
       "version_major": 2,
       "version_minor": 0
      },
      "text/plain": [
       "Epoch 11/2000:   0%|          | 0/29 [00:00<?, ?batch/s]"
      ]
     },
     "metadata": {},
     "output_type": "display_data"
    },
    {
     "data": {
      "application/vnd.jupyter.widget-view+json": {
       "model_id": "aa19c970b137444bb4193a5337566526",
       "version_major": 2,
       "version_minor": 0
      },
      "text/plain": [
       "Epoch 12/2000:   0%|          | 0/29 [00:00<?, ?batch/s]"
      ]
     },
     "metadata": {},
     "output_type": "display_data"
    },
    {
     "data": {
      "application/vnd.jupyter.widget-view+json": {
       "model_id": "5280685fdf9942b09e13113efae546fa",
       "version_major": 2,
       "version_minor": 0
      },
      "text/plain": [
       "Epoch 13/2000:   0%|          | 0/29 [00:00<?, ?batch/s]"
      ]
     },
     "metadata": {},
     "output_type": "display_data"
    },
    {
     "data": {
      "application/vnd.jupyter.widget-view+json": {
       "model_id": "a2911161818a45f7af0e6d8dc7bf43f7",
       "version_major": 2,
       "version_minor": 0
      },
      "text/plain": [
       "Epoch 14/2000:   0%|          | 0/29 [00:00<?, ?batch/s]"
      ]
     },
     "metadata": {},
     "output_type": "display_data"
    },
    {
     "data": {
      "application/vnd.jupyter.widget-view+json": {
       "model_id": "8a3b00633e28422fae76932c68376810",
       "version_major": 2,
       "version_minor": 0
      },
      "text/plain": [
       "Epoch 15/2000:   0%|          | 0/29 [00:00<?, ?batch/s]"
      ]
     },
     "metadata": {},
     "output_type": "display_data"
    },
    {
     "data": {
      "application/vnd.jupyter.widget-view+json": {
       "model_id": "f7b7590ef1a24dfabdcae81a3bdbc520",
       "version_major": 2,
       "version_minor": 0
      },
      "text/plain": [
       "Epoch 16/2000:   0%|          | 0/29 [00:00<?, ?batch/s]"
      ]
     },
     "metadata": {},
     "output_type": "display_data"
    },
    {
     "data": {
      "application/vnd.jupyter.widget-view+json": {
       "model_id": "2f0fec2ce51d4643945f465a1060f9de",
       "version_major": 2,
       "version_minor": 0
      },
      "text/plain": [
       "Epoch 17/2000:   0%|          | 0/29 [00:00<?, ?batch/s]"
      ]
     },
     "metadata": {},
     "output_type": "display_data"
    },
    {
     "data": {
      "application/vnd.jupyter.widget-view+json": {
       "model_id": "02c11452dcec4d789a1aea41052c3301",
       "version_major": 2,
       "version_minor": 0
      },
      "text/plain": [
       "Epoch 18/2000:   0%|          | 0/29 [00:00<?, ?batch/s]"
      ]
     },
     "metadata": {},
     "output_type": "display_data"
    },
    {
     "data": {
      "application/vnd.jupyter.widget-view+json": {
       "model_id": "e18d9a2a016445c68201c0514fdf6ae4",
       "version_major": 2,
       "version_minor": 0
      },
      "text/plain": [
       "Epoch 19/2000:   0%|          | 0/29 [00:00<?, ?batch/s]"
      ]
     },
     "metadata": {},
     "output_type": "display_data"
    },
    {
     "data": {
      "application/vnd.jupyter.widget-view+json": {
       "model_id": "c840e08e864548cfacfd55154f6dace2",
       "version_major": 2,
       "version_minor": 0
      },
      "text/plain": [
       "Epoch 20/2000:   0%|          | 0/29 [00:00<?, ?batch/s]"
      ]
     },
     "metadata": {},
     "output_type": "display_data"
    },
    {
     "data": {
      "application/vnd.jupyter.widget-view+json": {
       "model_id": "bfafaf3772fa4c309bd917c65378dac5",
       "version_major": 2,
       "version_minor": 0
      },
      "text/plain": [
       "Epoch 21/2000:   0%|          | 0/29 [00:00<?, ?batch/s]"
      ]
     },
     "metadata": {},
     "output_type": "display_data"
    },
    {
     "data": {
      "application/vnd.jupyter.widget-view+json": {
       "model_id": "bb9e83d4995f4a40889deeef42b9ff50",
       "version_major": 2,
       "version_minor": 0
      },
      "text/plain": [
       "Epoch 22/2000:   0%|          | 0/29 [00:00<?, ?batch/s]"
      ]
     },
     "metadata": {},
     "output_type": "display_data"
    },
    {
     "data": {
      "application/vnd.jupyter.widget-view+json": {
       "model_id": "6b708f7e27fe43cd88263de0817c9105",
       "version_major": 2,
       "version_minor": 0
      },
      "text/plain": [
       "Epoch 23/2000:   0%|          | 0/29 [00:00<?, ?batch/s]"
      ]
     },
     "metadata": {},
     "output_type": "display_data"
    },
    {
     "data": {
      "application/vnd.jupyter.widget-view+json": {
       "model_id": "d2a3dcb8cf894287b43dbf992bae0d50",
       "version_major": 2,
       "version_minor": 0
      },
      "text/plain": [
       "Epoch 24/2000:   0%|          | 0/29 [00:00<?, ?batch/s]"
      ]
     },
     "metadata": {},
     "output_type": "display_data"
    },
    {
     "data": {
      "application/vnd.jupyter.widget-view+json": {
       "model_id": "7e20d25e760146b8894d20fe5121eabf",
       "version_major": 2,
       "version_minor": 0
      },
      "text/plain": [
       "Epoch 25/2000:   0%|          | 0/29 [00:00<?, ?batch/s]"
      ]
     },
     "metadata": {},
     "output_type": "display_data"
    },
    {
     "data": {
      "application/vnd.jupyter.widget-view+json": {
       "model_id": "430fe9f68300463bb21eae5f4188b530",
       "version_major": 2,
       "version_minor": 0
      },
      "text/plain": [
       "Epoch 26/2000:   0%|          | 0/29 [00:00<?, ?batch/s]"
      ]
     },
     "metadata": {},
     "output_type": "display_data"
    },
    {
     "data": {
      "application/vnd.jupyter.widget-view+json": {
       "model_id": "87efaf7a0d6b432091acc04e87b0cc90",
       "version_major": 2,
       "version_minor": 0
      },
      "text/plain": [
       "Epoch 27/2000:   0%|          | 0/29 [00:00<?, ?batch/s]"
      ]
     },
     "metadata": {},
     "output_type": "display_data"
    },
    {
     "data": {
      "application/vnd.jupyter.widget-view+json": {
       "model_id": "cbd892d6afe841a9a7009002d0c8355f",
       "version_major": 2,
       "version_minor": 0
      },
      "text/plain": [
       "Epoch 28/2000:   0%|          | 0/29 [00:00<?, ?batch/s]"
      ]
     },
     "metadata": {},
     "output_type": "display_data"
    },
    {
     "data": {
      "application/vnd.jupyter.widget-view+json": {
       "model_id": "ead8da1b0ec848baa62d7b0bf04dd219",
       "version_major": 2,
       "version_minor": 0
      },
      "text/plain": [
       "Epoch 29/2000:   0%|          | 0/29 [00:00<?, ?batch/s]"
      ]
     },
     "metadata": {},
     "output_type": "display_data"
    },
    {
     "data": {
      "application/vnd.jupyter.widget-view+json": {
       "model_id": "d1b3e4ac0cf44188860f06e8c33fc010",
       "version_major": 2,
       "version_minor": 0
      },
      "text/plain": [
       "Epoch 30/2000:   0%|          | 0/29 [00:00<?, ?batch/s]"
      ]
     },
     "metadata": {},
     "output_type": "display_data"
    },
    {
     "data": {
      "application/vnd.jupyter.widget-view+json": {
       "model_id": "f4eaa4c1988146b7b7acea6ba134ba2e",
       "version_major": 2,
       "version_minor": 0
      },
      "text/plain": [
       "Epoch 31/2000:   0%|          | 0/29 [00:00<?, ?batch/s]"
      ]
     },
     "metadata": {},
     "output_type": "display_data"
    },
    {
     "data": {
      "application/vnd.jupyter.widget-view+json": {
       "model_id": "d046905ab2704c64b8d8acc8b3d3ae47",
       "version_major": 2,
       "version_minor": 0
      },
      "text/plain": [
       "Epoch 32/2000:   0%|          | 0/29 [00:00<?, ?batch/s]"
      ]
     },
     "metadata": {},
     "output_type": "display_data"
    },
    {
     "data": {
      "application/vnd.jupyter.widget-view+json": {
       "model_id": "06712a8375624acdb26d575ea4e7bcd6",
       "version_major": 2,
       "version_minor": 0
      },
      "text/plain": [
       "Epoch 33/2000:   0%|          | 0/29 [00:00<?, ?batch/s]"
      ]
     },
     "metadata": {},
     "output_type": "display_data"
    },
    {
     "data": {
      "application/vnd.jupyter.widget-view+json": {
       "model_id": "d5356682b70343ff9914739430501376",
       "version_major": 2,
       "version_minor": 0
      },
      "text/plain": [
       "Epoch 34/2000:   0%|          | 0/29 [00:00<?, ?batch/s]"
      ]
     },
     "metadata": {},
     "output_type": "display_data"
    },
    {
     "data": {
      "application/vnd.jupyter.widget-view+json": {
       "model_id": "a2cdd15834e3407380673c9bac91b675",
       "version_major": 2,
       "version_minor": 0
      },
      "text/plain": [
       "Epoch 35/2000:   0%|          | 0/29 [00:00<?, ?batch/s]"
      ]
     },
     "metadata": {},
     "output_type": "display_data"
    },
    {
     "data": {
      "application/vnd.jupyter.widget-view+json": {
       "model_id": "1208493946814ef383ea72bc5bfcfe9c",
       "version_major": 2,
       "version_minor": 0
      },
      "text/plain": [
       "Epoch 36/2000:   0%|          | 0/29 [00:00<?, ?batch/s]"
      ]
     },
     "metadata": {},
     "output_type": "display_data"
    },
    {
     "data": {
      "application/vnd.jupyter.widget-view+json": {
       "model_id": "87e74a7832ce4cc0b9d7683bc035790e",
       "version_major": 2,
       "version_minor": 0
      },
      "text/plain": [
       "Epoch 37/2000:   0%|          | 0/29 [00:00<?, ?batch/s]"
      ]
     },
     "metadata": {},
     "output_type": "display_data"
    },
    {
     "data": {
      "application/vnd.jupyter.widget-view+json": {
       "model_id": "cfdb75ee28ff486b84e3fe616173f97b",
       "version_major": 2,
       "version_minor": 0
      },
      "text/plain": [
       "Epoch 38/2000:   0%|          | 0/29 [00:00<?, ?batch/s]"
      ]
     },
     "metadata": {},
     "output_type": "display_data"
    },
    {
     "data": {
      "application/vnd.jupyter.widget-view+json": {
       "model_id": "571aa0b93da04a4e99a53d2c8990fcb1",
       "version_major": 2,
       "version_minor": 0
      },
      "text/plain": [
       "Epoch 39/2000:   0%|          | 0/29 [00:00<?, ?batch/s]"
      ]
     },
     "metadata": {},
     "output_type": "display_data"
    },
    {
     "data": {
      "application/vnd.jupyter.widget-view+json": {
       "model_id": "3fe4a34424e04ea1a2d135f84f49718c",
       "version_major": 2,
       "version_minor": 0
      },
      "text/plain": [
       "Epoch 40/2000:   0%|          | 0/29 [00:00<?, ?batch/s]"
      ]
     },
     "metadata": {},
     "output_type": "display_data"
    },
    {
     "data": {
      "application/vnd.jupyter.widget-view+json": {
       "model_id": "b6d17d32d5134b5a8f3b3cbc5002fcec",
       "version_major": 2,
       "version_minor": 0
      },
      "text/plain": [
       "Epoch 41/2000:   0%|          | 0/29 [00:00<?, ?batch/s]"
      ]
     },
     "metadata": {},
     "output_type": "display_data"
    },
    {
     "data": {
      "application/vnd.jupyter.widget-view+json": {
       "model_id": "197f542797c64b7ab9930ae4f35938f3",
       "version_major": 2,
       "version_minor": 0
      },
      "text/plain": [
       "Epoch 42/2000:   0%|          | 0/29 [00:00<?, ?batch/s]"
      ]
     },
     "metadata": {},
     "output_type": "display_data"
    },
    {
     "data": {
      "application/vnd.jupyter.widget-view+json": {
       "model_id": "377e35c2065c4f9795eb71d35f9fcd7e",
       "version_major": 2,
       "version_minor": 0
      },
      "text/plain": [
       "Epoch 43/2000:   0%|          | 0/29 [00:00<?, ?batch/s]"
      ]
     },
     "metadata": {},
     "output_type": "display_data"
    },
    {
     "data": {
      "application/vnd.jupyter.widget-view+json": {
       "model_id": "2cf6250442474e3198bd564449e7add9",
       "version_major": 2,
       "version_minor": 0
      },
      "text/plain": [
       "Epoch 44/2000:   0%|          | 0/29 [00:00<?, ?batch/s]"
      ]
     },
     "metadata": {},
     "output_type": "display_data"
    },
    {
     "data": {
      "application/vnd.jupyter.widget-view+json": {
       "model_id": "41e39bb261924a468f6221ef917e3ff8",
       "version_major": 2,
       "version_minor": 0
      },
      "text/plain": [
       "Epoch 45/2000:   0%|          | 0/29 [00:00<?, ?batch/s]"
      ]
     },
     "metadata": {},
     "output_type": "display_data"
    },
    {
     "data": {
      "application/vnd.jupyter.widget-view+json": {
       "model_id": "606abcc22ba84a81ac363aa08bd726dc",
       "version_major": 2,
       "version_minor": 0
      },
      "text/plain": [
       "Epoch 46/2000:   0%|          | 0/29 [00:00<?, ?batch/s]"
      ]
     },
     "metadata": {},
     "output_type": "display_data"
    },
    {
     "data": {
      "application/vnd.jupyter.widget-view+json": {
       "model_id": "f50c92b51f464232962957a6811e576b",
       "version_major": 2,
       "version_minor": 0
      },
      "text/plain": [
       "Epoch 47/2000:   0%|          | 0/29 [00:00<?, ?batch/s]"
      ]
     },
     "metadata": {},
     "output_type": "display_data"
    },
    {
     "data": {
      "application/vnd.jupyter.widget-view+json": {
       "model_id": "2d0cfcde82e64c9db77f0aacf0ed7119",
       "version_major": 2,
       "version_minor": 0
      },
      "text/plain": [
       "Epoch 48/2000:   0%|          | 0/29 [00:00<?, ?batch/s]"
      ]
     },
     "metadata": {},
     "output_type": "display_data"
    },
    {
     "data": {
      "application/vnd.jupyter.widget-view+json": {
       "model_id": "409a651d9c8a4f7eab1c1e1a55619f8b",
       "version_major": 2,
       "version_minor": 0
      },
      "text/plain": [
       "Epoch 49/2000:   0%|          | 0/29 [00:00<?, ?batch/s]"
      ]
     },
     "metadata": {},
     "output_type": "display_data"
    },
    {
     "data": {
      "application/vnd.jupyter.widget-view+json": {
       "model_id": "3b2e7f537693451982c0e43abf7f56be",
       "version_major": 2,
       "version_minor": 0
      },
      "text/plain": [
       "Epoch 50/2000:   0%|          | 0/29 [00:00<?, ?batch/s]"
      ]
     },
     "metadata": {},
     "output_type": "display_data"
    },
    {
     "data": {
      "application/vnd.jupyter.widget-view+json": {
       "model_id": "95aead1d8d8d4d8599df90cadb7f0ede",
       "version_major": 2,
       "version_minor": 0
      },
      "text/plain": [
       "Epoch 51/2000:   0%|          | 0/29 [00:00<?, ?batch/s]"
      ]
     },
     "metadata": {},
     "output_type": "display_data"
    },
    {
     "data": {
      "application/vnd.jupyter.widget-view+json": {
       "model_id": "23f6d6da193846bdbb4d05800b50ea61",
       "version_major": 2,
       "version_minor": 0
      },
      "text/plain": [
       "Epoch 52/2000:   0%|          | 0/29 [00:00<?, ?batch/s]"
      ]
     },
     "metadata": {},
     "output_type": "display_data"
    },
    {
     "data": {
      "application/vnd.jupyter.widget-view+json": {
       "model_id": "ac1899555f9b49fdb1db5df7f5251a9c",
       "version_major": 2,
       "version_minor": 0
      },
      "text/plain": [
       "Epoch 53/2000:   0%|          | 0/29 [00:00<?, ?batch/s]"
      ]
     },
     "metadata": {},
     "output_type": "display_data"
    },
    {
     "data": {
      "application/vnd.jupyter.widget-view+json": {
       "model_id": "7be37091685f451d959c90c8e3046ab0",
       "version_major": 2,
       "version_minor": 0
      },
      "text/plain": [
       "Epoch 54/2000:   0%|          | 0/29 [00:00<?, ?batch/s]"
      ]
     },
     "metadata": {},
     "output_type": "display_data"
    },
    {
     "name": "stderr",
     "output_type": "stream",
     "text": [
      "IOPub message rate exceeded.\n",
      "The Jupyter server will temporarily stop sending output\n",
      "to the client in order to avoid crashing it.\n",
      "To change this limit, set the config variable\n",
      "`--ServerApp.iopub_msg_rate_limit`.\n",
      "\n",
      "Current values:\n",
      "ServerApp.iopub_msg_rate_limit=1000.0 (msgs/sec)\n",
      "ServerApp.rate_limit_window=3.0 (secs)\n",
      "\n"
     ]
    },
    {
     "data": {
      "application/vnd.jupyter.widget-view+json": {
       "model_id": "1d25fbc28ce74f559d43a18ad7f177a4",
       "version_major": 2,
       "version_minor": 0
      },
      "text/plain": [
       "Epoch 62/2000:   0%|          | 0/29 [00:00<?, ?batch/s]"
      ]
     },
     "metadata": {},
     "output_type": "display_data"
    },
    {
     "data": {
      "application/vnd.jupyter.widget-view+json": {
       "model_id": "d40d1c1ac6aa433a9014ebed137bd519",
       "version_major": 2,
       "version_minor": 0
      },
      "text/plain": [
       "Epoch 63/2000:   0%|          | 0/29 [00:00<?, ?batch/s]"
      ]
     },
     "metadata": {},
     "output_type": "display_data"
    },
    {
     "data": {
      "application/vnd.jupyter.widget-view+json": {
       "model_id": "c7ec40161c024289a3a6df74bd6558fa",
       "version_major": 2,
       "version_minor": 0
      },
      "text/plain": [
       "Epoch 64/2000:   0%|          | 0/29 [00:00<?, ?batch/s]"
      ]
     },
     "metadata": {},
     "output_type": "display_data"
    },
    {
     "data": {
      "application/vnd.jupyter.widget-view+json": {
       "model_id": "8fdadbbae2854ddb91eda2de8748eb8b",
       "version_major": 2,
       "version_minor": 0
      },
      "text/plain": [
       "Epoch 65/2000:   0%|          | 0/29 [00:00<?, ?batch/s]"
      ]
     },
     "metadata": {},
     "output_type": "display_data"
    },
    {
     "data": {
      "application/vnd.jupyter.widget-view+json": {
       "model_id": "8923888eb8e94612963a22085bce24b7",
       "version_major": 2,
       "version_minor": 0
      },
      "text/plain": [
       "Epoch 66/2000:   0%|          | 0/29 [00:00<?, ?batch/s]"
      ]
     },
     "metadata": {},
     "output_type": "display_data"
    },
    {
     "data": {
      "application/vnd.jupyter.widget-view+json": {
       "model_id": "c3326a8a459d4124afeb6c477f42c111",
       "version_major": 2,
       "version_minor": 0
      },
      "text/plain": [
       "Epoch 67/2000:   0%|          | 0/29 [00:00<?, ?batch/s]"
      ]
     },
     "metadata": {},
     "output_type": "display_data"
    },
    {
     "data": {
      "application/vnd.jupyter.widget-view+json": {
       "model_id": "b99f2f26a0534874bdfc562023ef9aa9",
       "version_major": 2,
       "version_minor": 0
      },
      "text/plain": [
       "Epoch 68/2000:   0%|          | 0/29 [00:00<?, ?batch/s]"
      ]
     },
     "metadata": {},
     "output_type": "display_data"
    },
    {
     "data": {
      "application/vnd.jupyter.widget-view+json": {
       "model_id": "61c69d71defd49a7be83e57d13290bf5",
       "version_major": 2,
       "version_minor": 0
      },
      "text/plain": [
       "Epoch 69/2000:   0%|          | 0/29 [00:00<?, ?batch/s]"
      ]
     },
     "metadata": {},
     "output_type": "display_data"
    },
    {
     "data": {
      "application/vnd.jupyter.widget-view+json": {
       "model_id": "8206c4f117084e279c3e8e0d5753597b",
       "version_major": 2,
       "version_minor": 0
      },
      "text/plain": [
       "Epoch 70/2000:   0%|          | 0/29 [00:00<?, ?batch/s]"
      ]
     },
     "metadata": {},
     "output_type": "display_data"
    },
    {
     "data": {
      "application/vnd.jupyter.widget-view+json": {
       "model_id": "d090effaf5254a23b01feb55ef62ce6c",
       "version_major": 2,
       "version_minor": 0
      },
      "text/plain": [
       "Epoch 71/2000:   0%|          | 0/29 [00:00<?, ?batch/s]"
      ]
     },
     "metadata": {},
     "output_type": "display_data"
    },
    {
     "data": {
      "application/vnd.jupyter.widget-view+json": {
       "model_id": "c36f5bd093d1401ab246ee4074583a59",
       "version_major": 2,
       "version_minor": 0
      },
      "text/plain": [
       "Epoch 72/2000:   0%|          | 0/29 [00:00<?, ?batch/s]"
      ]
     },
     "metadata": {},
     "output_type": "display_data"
    },
    {
     "data": {
      "application/vnd.jupyter.widget-view+json": {
       "model_id": "a467037ef0044c248c705bde6da2d743",
       "version_major": 2,
       "version_minor": 0
      },
      "text/plain": [
       "Epoch 73/2000:   0%|          | 0/29 [00:00<?, ?batch/s]"
      ]
     },
     "metadata": {},
     "output_type": "display_data"
    },
    {
     "data": {
      "application/vnd.jupyter.widget-view+json": {
       "model_id": "2a123dbca32e4e1194469988618a7be6",
       "version_major": 2,
       "version_minor": 0
      },
      "text/plain": [
       "Epoch 74/2000:   0%|          | 0/29 [00:00<?, ?batch/s]"
      ]
     },
     "metadata": {},
     "output_type": "display_data"
    },
    {
     "data": {
      "application/vnd.jupyter.widget-view+json": {
       "model_id": "b8cfd25e83874382af47b8bed6aaeef9",
       "version_major": 2,
       "version_minor": 0
      },
      "text/plain": [
       "Epoch 75/2000:   0%|          | 0/29 [00:00<?, ?batch/s]"
      ]
     },
     "metadata": {},
     "output_type": "display_data"
    },
    {
     "data": {
      "application/vnd.jupyter.widget-view+json": {
       "model_id": "982f00f97b6d40d29df58b920e8658a4",
       "version_major": 2,
       "version_minor": 0
      },
      "text/plain": [
       "Epoch 76/2000:   0%|          | 0/29 [00:00<?, ?batch/s]"
      ]
     },
     "metadata": {},
     "output_type": "display_data"
    },
    {
     "data": {
      "application/vnd.jupyter.widget-view+json": {
       "model_id": "ce788e382f744b729521092ef62f72f2",
       "version_major": 2,
       "version_minor": 0
      },
      "text/plain": [
       "Epoch 77/2000:   0%|          | 0/29 [00:00<?, ?batch/s]"
      ]
     },
     "metadata": {},
     "output_type": "display_data"
    },
    {
     "data": {
      "application/vnd.jupyter.widget-view+json": {
       "model_id": "b80e732f02c74730995c3f6d06a32a26",
       "version_major": 2,
       "version_minor": 0
      },
      "text/plain": [
       "Epoch 78/2000:   0%|          | 0/29 [00:00<?, ?batch/s]"
      ]
     },
     "metadata": {},
     "output_type": "display_data"
    },
    {
     "data": {
      "application/vnd.jupyter.widget-view+json": {
       "model_id": "ad006881ae7743d889c77018f02ca0c4",
       "version_major": 2,
       "version_minor": 0
      },
      "text/plain": [
       "Epoch 79/2000:   0%|          | 0/29 [00:00<?, ?batch/s]"
      ]
     },
     "metadata": {},
     "output_type": "display_data"
    },
    {
     "data": {
      "application/vnd.jupyter.widget-view+json": {
       "model_id": "2fb7beab0e3641ed9622f0cb90ac6cf0",
       "version_major": 2,
       "version_minor": 0
      },
      "text/plain": [
       "Epoch 80/2000:   0%|          | 0/29 [00:00<?, ?batch/s]"
      ]
     },
     "metadata": {},
     "output_type": "display_data"
    },
    {
     "data": {
      "application/vnd.jupyter.widget-view+json": {
       "model_id": "61f29c75c5864bb0aa318b8266de5115",
       "version_major": 2,
       "version_minor": 0
      },
      "text/plain": [
       "Epoch 81/2000:   0%|          | 0/29 [00:00<?, ?batch/s]"
      ]
     },
     "metadata": {},
     "output_type": "display_data"
    },
    {
     "data": {
      "application/vnd.jupyter.widget-view+json": {
       "model_id": "2ec15c9e110d4f50bb01137d3b63e6ff",
       "version_major": 2,
       "version_minor": 0
      },
      "text/plain": [
       "Epoch 82/2000:   0%|          | 0/29 [00:00<?, ?batch/s]"
      ]
     },
     "metadata": {},
     "output_type": "display_data"
    },
    {
     "data": {
      "application/vnd.jupyter.widget-view+json": {
       "model_id": "10f848b7b88743d38482ee47a48206f0",
       "version_major": 2,
       "version_minor": 0
      },
      "text/plain": [
       "Epoch 83/2000:   0%|          | 0/29 [00:00<?, ?batch/s]"
      ]
     },
     "metadata": {},
     "output_type": "display_data"
    },
    {
     "data": {
      "application/vnd.jupyter.widget-view+json": {
       "model_id": "24b4d38489f146f28166f69677caaff0",
       "version_major": 2,
       "version_minor": 0
      },
      "text/plain": [
       "Epoch 84/2000:   0%|          | 0/29 [00:00<?, ?batch/s]"
      ]
     },
     "metadata": {},
     "output_type": "display_data"
    },
    {
     "data": {
      "application/vnd.jupyter.widget-view+json": {
       "model_id": "fb4a9da98f9c4b58af0a923027e14600",
       "version_major": 2,
       "version_minor": 0
      },
      "text/plain": [
       "Epoch 85/2000:   0%|          | 0/29 [00:00<?, ?batch/s]"
      ]
     },
     "metadata": {},
     "output_type": "display_data"
    },
    {
     "data": {
      "application/vnd.jupyter.widget-view+json": {
       "model_id": "f24ed0b9ad914a009a60397b620cd1ef",
       "version_major": 2,
       "version_minor": 0
      },
      "text/plain": [
       "Epoch 86/2000:   0%|          | 0/29 [00:00<?, ?batch/s]"
      ]
     },
     "metadata": {},
     "output_type": "display_data"
    },
    {
     "data": {
      "application/vnd.jupyter.widget-view+json": {
       "model_id": "e37da1e4547348ac9ccda25bb4858718",
       "version_major": 2,
       "version_minor": 0
      },
      "text/plain": [
       "Epoch 87/2000:   0%|          | 0/29 [00:00<?, ?batch/s]"
      ]
     },
     "metadata": {},
     "output_type": "display_data"
    },
    {
     "data": {
      "application/vnd.jupyter.widget-view+json": {
       "model_id": "3a4b1e7331c94bf3bb3d7c47f26e33df",
       "version_major": 2,
       "version_minor": 0
      },
      "text/plain": [
       "Epoch 88/2000:   0%|          | 0/29 [00:00<?, ?batch/s]"
      ]
     },
     "metadata": {},
     "output_type": "display_data"
    },
    {
     "data": {
      "application/vnd.jupyter.widget-view+json": {
       "model_id": "7ab62a5e4eb74efc9c2662c65dc2cc5e",
       "version_major": 2,
       "version_minor": 0
      },
      "text/plain": [
       "Epoch 89/2000:   0%|          | 0/29 [00:00<?, ?batch/s]"
      ]
     },
     "metadata": {},
     "output_type": "display_data"
    },
    {
     "data": {
      "application/vnd.jupyter.widget-view+json": {
       "model_id": "d2c8ce25c0f8461daf33ed63e48ee819",
       "version_major": 2,
       "version_minor": 0
      },
      "text/plain": [
       "Epoch 90/2000:   0%|          | 0/29 [00:00<?, ?batch/s]"
      ]
     },
     "metadata": {},
     "output_type": "display_data"
    },
    {
     "data": {
      "application/vnd.jupyter.widget-view+json": {
       "model_id": "9e21268c35e44752af6d3187801265f0",
       "version_major": 2,
       "version_minor": 0
      },
      "text/plain": [
       "Epoch 91/2000:   0%|          | 0/29 [00:00<?, ?batch/s]"
      ]
     },
     "metadata": {},
     "output_type": "display_data"
    },
    {
     "data": {
      "application/vnd.jupyter.widget-view+json": {
       "model_id": "81e51c5a63f340f2bd72557ba051f1b2",
       "version_major": 2,
       "version_minor": 0
      },
      "text/plain": [
       "Epoch 92/2000:   0%|          | 0/29 [00:00<?, ?batch/s]"
      ]
     },
     "metadata": {},
     "output_type": "display_data"
    },
    {
     "data": {
      "application/vnd.jupyter.widget-view+json": {
       "model_id": "9bb0cc821b5f4661a1451afdb31e7116",
       "version_major": 2,
       "version_minor": 0
      },
      "text/plain": [
       "Epoch 93/2000:   0%|          | 0/29 [00:00<?, ?batch/s]"
      ]
     },
     "metadata": {},
     "output_type": "display_data"
    },
    {
     "name": "stderr",
     "output_type": "stream",
     "text": [
      "IOPub message rate exceeded.\n",
      "The Jupyter server will temporarily stop sending output\n",
      "to the client in order to avoid crashing it.\n",
      "To change this limit, set the config variable\n",
      "`--ServerApp.iopub_msg_rate_limit`.\n",
      "\n",
      "Current values:\n",
      "ServerApp.iopub_msg_rate_limit=1000.0 (msgs/sec)\n",
      "ServerApp.rate_limit_window=3.0 (secs)\n",
      "\n"
     ]
    },
    {
     "data": {
      "application/vnd.jupyter.widget-view+json": {
       "model_id": "129747d0269441adb7036f289dfd2251",
       "version_major": 2,
       "version_minor": 0
      },
      "text/plain": [
       "Epoch 101/2000:   0%|          | 0/29 [00:00<?, ?batch/s]"
      ]
     },
     "metadata": {},
     "output_type": "display_data"
    },
    {
     "data": {
      "application/vnd.jupyter.widget-view+json": {
       "model_id": "0d95c4f691564e54a558f6b5608555a4",
       "version_major": 2,
       "version_minor": 0
      },
      "text/plain": [
       "Epoch 102/2000:   0%|          | 0/29 [00:00<?, ?batch/s]"
      ]
     },
     "metadata": {},
     "output_type": "display_data"
    },
    {
     "data": {
      "application/vnd.jupyter.widget-view+json": {
       "model_id": "0f7e7c9d8ea149218a867622ab8b9c85",
       "version_major": 2,
       "version_minor": 0
      },
      "text/plain": [
       "Epoch 103/2000:   0%|          | 0/29 [00:00<?, ?batch/s]"
      ]
     },
     "metadata": {},
     "output_type": "display_data"
    },
    {
     "data": {
      "application/vnd.jupyter.widget-view+json": {
       "model_id": "0c29d7897ce64ef9a2664965dde8be1d",
       "version_major": 2,
       "version_minor": 0
      },
      "text/plain": [
       "Epoch 104/2000:   0%|          | 0/29 [00:00<?, ?batch/s]"
      ]
     },
     "metadata": {},
     "output_type": "display_data"
    },
    {
     "data": {
      "application/vnd.jupyter.widget-view+json": {
       "model_id": "fbfea7caf683468ab1a591182040000d",
       "version_major": 2,
       "version_minor": 0
      },
      "text/plain": [
       "Epoch 105/2000:   0%|          | 0/29 [00:00<?, ?batch/s]"
      ]
     },
     "metadata": {},
     "output_type": "display_data"
    },
    {
     "data": {
      "application/vnd.jupyter.widget-view+json": {
       "model_id": "a216f4e0713445dfa997d76c981c8a54",
       "version_major": 2,
       "version_minor": 0
      },
      "text/plain": [
       "Epoch 106/2000:   0%|          | 0/29 [00:00<?, ?batch/s]"
      ]
     },
     "metadata": {},
     "output_type": "display_data"
    },
    {
     "data": {
      "application/vnd.jupyter.widget-view+json": {
       "model_id": "c7db369604114c428a7ec46c048a0ffb",
       "version_major": 2,
       "version_minor": 0
      },
      "text/plain": [
       "Epoch 107/2000:   0%|          | 0/29 [00:00<?, ?batch/s]"
      ]
     },
     "metadata": {},
     "output_type": "display_data"
    },
    {
     "data": {
      "application/vnd.jupyter.widget-view+json": {
       "model_id": "0460a55f2be34060ae5ace05dd0da6bd",
       "version_major": 2,
       "version_minor": 0
      },
      "text/plain": [
       "Epoch 108/2000:   0%|          | 0/29 [00:00<?, ?batch/s]"
      ]
     },
     "metadata": {},
     "output_type": "display_data"
    },
    {
     "data": {
      "application/vnd.jupyter.widget-view+json": {
       "model_id": "4a623707b08a45888937d3885eaac42a",
       "version_major": 2,
       "version_minor": 0
      },
      "text/plain": [
       "Epoch 109/2000:   0%|          | 0/29 [00:00<?, ?batch/s]"
      ]
     },
     "metadata": {},
     "output_type": "display_data"
    },
    {
     "data": {
      "application/vnd.jupyter.widget-view+json": {
       "model_id": "43a627be40534210a4fabcdd1815c24e",
       "version_major": 2,
       "version_minor": 0
      },
      "text/plain": [
       "Epoch 110/2000:   0%|          | 0/29 [00:00<?, ?batch/s]"
      ]
     },
     "metadata": {},
     "output_type": "display_data"
    },
    {
     "data": {
      "application/vnd.jupyter.widget-view+json": {
       "model_id": "6d824487cdfb447791974506fe0d0cba",
       "version_major": 2,
       "version_minor": 0
      },
      "text/plain": [
       "Epoch 111/2000:   0%|          | 0/29 [00:00<?, ?batch/s]"
      ]
     },
     "metadata": {},
     "output_type": "display_data"
    },
    {
     "data": {
      "application/vnd.jupyter.widget-view+json": {
       "model_id": "05d2660dc37e4ddbbff366928db83ba3",
       "version_major": 2,
       "version_minor": 0
      },
      "text/plain": [
       "Epoch 112/2000:   0%|          | 0/29 [00:00<?, ?batch/s]"
      ]
     },
     "metadata": {},
     "output_type": "display_data"
    },
    {
     "data": {
      "application/vnd.jupyter.widget-view+json": {
       "model_id": "35d51dc7e4724dfc96aad089e732526a",
       "version_major": 2,
       "version_minor": 0
      },
      "text/plain": [
       "Epoch 113/2000:   0%|          | 0/29 [00:00<?, ?batch/s]"
      ]
     },
     "metadata": {},
     "output_type": "display_data"
    },
    {
     "data": {
      "application/vnd.jupyter.widget-view+json": {
       "model_id": "358ed5a9bf4f4a0293d03c81356b32ba",
       "version_major": 2,
       "version_minor": 0
      },
      "text/plain": [
       "Epoch 114/2000:   0%|          | 0/29 [00:00<?, ?batch/s]"
      ]
     },
     "metadata": {},
     "output_type": "display_data"
    },
    {
     "data": {
      "application/vnd.jupyter.widget-view+json": {
       "model_id": "9ab1683a2f644d42aa35129f12eb281a",
       "version_major": 2,
       "version_minor": 0
      },
      "text/plain": [
       "Epoch 115/2000:   0%|          | 0/29 [00:00<?, ?batch/s]"
      ]
     },
     "metadata": {},
     "output_type": "display_data"
    },
    {
     "data": {
      "application/vnd.jupyter.widget-view+json": {
       "model_id": "77c3667f2d864347a14b37864fbf9856",
       "version_major": 2,
       "version_minor": 0
      },
      "text/plain": [
       "Epoch 116/2000:   0%|          | 0/29 [00:00<?, ?batch/s]"
      ]
     },
     "metadata": {},
     "output_type": "display_data"
    },
    {
     "data": {
      "application/vnd.jupyter.widget-view+json": {
       "model_id": "ff87e348e20d437490cff26fa81ed294",
       "version_major": 2,
       "version_minor": 0
      },
      "text/plain": [
       "Epoch 117/2000:   0%|          | 0/29 [00:00<?, ?batch/s]"
      ]
     },
     "metadata": {},
     "output_type": "display_data"
    },
    {
     "data": {
      "application/vnd.jupyter.widget-view+json": {
       "model_id": "3aa7cc1babc44bc8b7e25e3e79d11d7d",
       "version_major": 2,
       "version_minor": 0
      },
      "text/plain": [
       "Epoch 118/2000:   0%|          | 0/29 [00:00<?, ?batch/s]"
      ]
     },
     "metadata": {},
     "output_type": "display_data"
    },
    {
     "data": {
      "application/vnd.jupyter.widget-view+json": {
       "model_id": "4780b568ec2e4f8883c5705470efde88",
       "version_major": 2,
       "version_minor": 0
      },
      "text/plain": [
       "Epoch 119/2000:   0%|          | 0/29 [00:00<?, ?batch/s]"
      ]
     },
     "metadata": {},
     "output_type": "display_data"
    },
    {
     "data": {
      "application/vnd.jupyter.widget-view+json": {
       "model_id": "2daa6280e89940adbbccd069fbe85886",
       "version_major": 2,
       "version_minor": 0
      },
      "text/plain": [
       "Epoch 120/2000:   0%|          | 0/29 [00:00<?, ?batch/s]"
      ]
     },
     "metadata": {},
     "output_type": "display_data"
    },
    {
     "data": {
      "application/vnd.jupyter.widget-view+json": {
       "model_id": "5e83340b17a5439f8b3661229a50b31b",
       "version_major": 2,
       "version_minor": 0
      },
      "text/plain": [
       "Epoch 121/2000:   0%|          | 0/29 [00:00<?, ?batch/s]"
      ]
     },
     "metadata": {},
     "output_type": "display_data"
    },
    {
     "data": {
      "application/vnd.jupyter.widget-view+json": {
       "model_id": "9a1d5decd5d146f0b77ccccbac3510ed",
       "version_major": 2,
       "version_minor": 0
      },
      "text/plain": [
       "Epoch 122/2000:   0%|          | 0/29 [00:00<?, ?batch/s]"
      ]
     },
     "metadata": {},
     "output_type": "display_data"
    },
    {
     "data": {
      "application/vnd.jupyter.widget-view+json": {
       "model_id": "3201383e480746b28064efa19b4b2ad8",
       "version_major": 2,
       "version_minor": 0
      },
      "text/plain": [
       "Epoch 123/2000:   0%|          | 0/29 [00:00<?, ?batch/s]"
      ]
     },
     "metadata": {},
     "output_type": "display_data"
    },
    {
     "data": {
      "application/vnd.jupyter.widget-view+json": {
       "model_id": "54fac373aa43433a984dd0adda9a0f6b",
       "version_major": 2,
       "version_minor": 0
      },
      "text/plain": [
       "Epoch 124/2000:   0%|          | 0/29 [00:00<?, ?batch/s]"
      ]
     },
     "metadata": {},
     "output_type": "display_data"
    },
    {
     "data": {
      "application/vnd.jupyter.widget-view+json": {
       "model_id": "107a523769cb417eb16591b894a79878",
       "version_major": 2,
       "version_minor": 0
      },
      "text/plain": [
       "Epoch 125/2000:   0%|          | 0/29 [00:00<?, ?batch/s]"
      ]
     },
     "metadata": {},
     "output_type": "display_data"
    },
    {
     "data": {
      "application/vnd.jupyter.widget-view+json": {
       "model_id": "1fabfb82cac54deca9821cdf2499a86d",
       "version_major": 2,
       "version_minor": 0
      },
      "text/plain": [
       "Epoch 126/2000:   0%|          | 0/29 [00:00<?, ?batch/s]"
      ]
     },
     "metadata": {},
     "output_type": "display_data"
    },
    {
     "data": {
      "application/vnd.jupyter.widget-view+json": {
       "model_id": "41fa0856f9fd4c21913caf1e335f92d6",
       "version_major": 2,
       "version_minor": 0
      },
      "text/plain": [
       "Epoch 127/2000:   0%|          | 0/29 [00:00<?, ?batch/s]"
      ]
     },
     "metadata": {},
     "output_type": "display_data"
    },
    {
     "data": {
      "application/vnd.jupyter.widget-view+json": {
       "model_id": "de7d518f473b4d1bbc5d9194479b8626",
       "version_major": 2,
       "version_minor": 0
      },
      "text/plain": [
       "Epoch 128/2000:   0%|          | 0/29 [00:00<?, ?batch/s]"
      ]
     },
     "metadata": {},
     "output_type": "display_data"
    },
    {
     "data": {
      "application/vnd.jupyter.widget-view+json": {
       "model_id": "3198c76e9ec44e9f9420b01783ff3a55",
       "version_major": 2,
       "version_minor": 0
      },
      "text/plain": [
       "Epoch 129/2000:   0%|          | 0/29 [00:00<?, ?batch/s]"
      ]
     },
     "metadata": {},
     "output_type": "display_data"
    },
    {
     "data": {
      "application/vnd.jupyter.widget-view+json": {
       "model_id": "5a75c4ac146f4e39a25f7d1dd2960da3",
       "version_major": 2,
       "version_minor": 0
      },
      "text/plain": [
       "Epoch 130/2000:   0%|          | 0/29 [00:00<?, ?batch/s]"
      ]
     },
     "metadata": {},
     "output_type": "display_data"
    },
    {
     "data": {
      "application/vnd.jupyter.widget-view+json": {
       "model_id": "76a36466c86549849d2c5b8bf4ab885e",
       "version_major": 2,
       "version_minor": 0
      },
      "text/plain": [
       "Epoch 131/2000:   0%|          | 0/29 [00:00<?, ?batch/s]"
      ]
     },
     "metadata": {},
     "output_type": "display_data"
    },
    {
     "data": {
      "application/vnd.jupyter.widget-view+json": {
       "model_id": "2486756c8d174df0b6dd8f7bf8b110ac",
       "version_major": 2,
       "version_minor": 0
      },
      "text/plain": [
       "Epoch 132/2000:   0%|          | 0/29 [00:00<?, ?batch/s]"
      ]
     },
     "metadata": {},
     "output_type": "display_data"
    },
    {
     "name": "stderr",
     "output_type": "stream",
     "text": [
      "IOPub message rate exceeded.\n",
      "The Jupyter server will temporarily stop sending output\n",
      "to the client in order to avoid crashing it.\n",
      "To change this limit, set the config variable\n",
      "`--ServerApp.iopub_msg_rate_limit`.\n",
      "\n",
      "Current values:\n",
      "ServerApp.iopub_msg_rate_limit=1000.0 (msgs/sec)\n",
      "ServerApp.rate_limit_window=3.0 (secs)\n",
      "\n"
     ]
    },
    {
     "data": {
      "application/vnd.jupyter.widget-view+json": {
       "model_id": "e7bf569475874fa5acad58908dfbc678",
       "version_major": 2,
       "version_minor": 0
      },
      "text/plain": [
       "Epoch 139/2000:   0%|          | 0/29 [00:00<?, ?batch/s]"
      ]
     },
     "metadata": {},
     "output_type": "display_data"
    },
    {
     "data": {
      "application/vnd.jupyter.widget-view+json": {
       "model_id": "6d9315eff7b047f39c6924b5df49dda2",
       "version_major": 2,
       "version_minor": 0
      },
      "text/plain": [
       "Epoch 140/2000:   0%|          | 0/29 [00:00<?, ?batch/s]"
      ]
     },
     "metadata": {},
     "output_type": "display_data"
    },
    {
     "data": {
      "application/vnd.jupyter.widget-view+json": {
       "model_id": "412a4fb271b34c2d8b3beb91c601261d",
       "version_major": 2,
       "version_minor": 0
      },
      "text/plain": [
       "Epoch 141/2000:   0%|          | 0/29 [00:00<?, ?batch/s]"
      ]
     },
     "metadata": {},
     "output_type": "display_data"
    },
    {
     "data": {
      "application/vnd.jupyter.widget-view+json": {
       "model_id": "23d1dea5a82d4c7fae60ffe1650a290f",
       "version_major": 2,
       "version_minor": 0
      },
      "text/plain": [
       "Epoch 142/2000:   0%|          | 0/29 [00:00<?, ?batch/s]"
      ]
     },
     "metadata": {},
     "output_type": "display_data"
    },
    {
     "data": {
      "application/vnd.jupyter.widget-view+json": {
       "model_id": "3871a6e3f11041b0b6a92a2a6651ab39",
       "version_major": 2,
       "version_minor": 0
      },
      "text/plain": [
       "Epoch 143/2000:   0%|          | 0/29 [00:00<?, ?batch/s]"
      ]
     },
     "metadata": {},
     "output_type": "display_data"
    },
    {
     "data": {
      "application/vnd.jupyter.widget-view+json": {
       "model_id": "1d2fb83fc22f49f9a8dfad96c615fbed",
       "version_major": 2,
       "version_minor": 0
      },
      "text/plain": [
       "Epoch 144/2000:   0%|          | 0/29 [00:00<?, ?batch/s]"
      ]
     },
     "metadata": {},
     "output_type": "display_data"
    },
    {
     "data": {
      "application/vnd.jupyter.widget-view+json": {
       "model_id": "4426dff3227843eebef71411d35b751f",
       "version_major": 2,
       "version_minor": 0
      },
      "text/plain": [
       "Epoch 145/2000:   0%|          | 0/29 [00:00<?, ?batch/s]"
      ]
     },
     "metadata": {},
     "output_type": "display_data"
    },
    {
     "data": {
      "application/vnd.jupyter.widget-view+json": {
       "model_id": "a985efe377da4d4aa458c17bc2dbe14b",
       "version_major": 2,
       "version_minor": 0
      },
      "text/plain": [
       "Epoch 146/2000:   0%|          | 0/29 [00:00<?, ?batch/s]"
      ]
     },
     "metadata": {},
     "output_type": "display_data"
    },
    {
     "data": {
      "application/vnd.jupyter.widget-view+json": {
       "model_id": "7b71192e2d1749afb4a1372fcb69790d",
       "version_major": 2,
       "version_minor": 0
      },
      "text/plain": [
       "Epoch 147/2000:   0%|          | 0/29 [00:00<?, ?batch/s]"
      ]
     },
     "metadata": {},
     "output_type": "display_data"
    },
    {
     "data": {
      "application/vnd.jupyter.widget-view+json": {
       "model_id": "11d10b57dfa44834823c7264caf09748",
       "version_major": 2,
       "version_minor": 0
      },
      "text/plain": [
       "Epoch 148/2000:   0%|          | 0/29 [00:00<?, ?batch/s]"
      ]
     },
     "metadata": {},
     "output_type": "display_data"
    },
    {
     "data": {
      "application/vnd.jupyter.widget-view+json": {
       "model_id": "5bb866cbc34348969dbf4a12dd6f4dfc",
       "version_major": 2,
       "version_minor": 0
      },
      "text/plain": [
       "Epoch 149/2000:   0%|          | 0/29 [00:00<?, ?batch/s]"
      ]
     },
     "metadata": {},
     "output_type": "display_data"
    },
    {
     "data": {
      "application/vnd.jupyter.widget-view+json": {
       "model_id": "461d420f09f7422abdc5a9227d901be2",
       "version_major": 2,
       "version_minor": 0
      },
      "text/plain": [
       "Epoch 150/2000:   0%|          | 0/29 [00:00<?, ?batch/s]"
      ]
     },
     "metadata": {},
     "output_type": "display_data"
    },
    {
     "data": {
      "application/vnd.jupyter.widget-view+json": {
       "model_id": "3c92d2eb9f2c404f82debf2ec3a332c9",
       "version_major": 2,
       "version_minor": 0
      },
      "text/plain": [
       "Epoch 151/2000:   0%|          | 0/29 [00:00<?, ?batch/s]"
      ]
     },
     "metadata": {},
     "output_type": "display_data"
    },
    {
     "data": {
      "application/vnd.jupyter.widget-view+json": {
       "model_id": "fe5ac12a8b7e4e76849597331a722b5f",
       "version_major": 2,
       "version_minor": 0
      },
      "text/plain": [
       "Epoch 152/2000:   0%|          | 0/29 [00:00<?, ?batch/s]"
      ]
     },
     "metadata": {},
     "output_type": "display_data"
    },
    {
     "data": {
      "application/vnd.jupyter.widget-view+json": {
       "model_id": "79431470a8e64dabb4756e16c36efbed",
       "version_major": 2,
       "version_minor": 0
      },
      "text/plain": [
       "Epoch 153/2000:   0%|          | 0/29 [00:00<?, ?batch/s]"
      ]
     },
     "metadata": {},
     "output_type": "display_data"
    },
    {
     "data": {
      "application/vnd.jupyter.widget-view+json": {
       "model_id": "c078ea583cd34844aea6ad2295ed9099",
       "version_major": 2,
       "version_minor": 0
      },
      "text/plain": [
       "Epoch 154/2000:   0%|          | 0/29 [00:00<?, ?batch/s]"
      ]
     },
     "metadata": {},
     "output_type": "display_data"
    },
    {
     "data": {
      "application/vnd.jupyter.widget-view+json": {
       "model_id": "ca84ce44ec0a4b95ae5fc9f8b3be6c82",
       "version_major": 2,
       "version_minor": 0
      },
      "text/plain": [
       "Epoch 155/2000:   0%|          | 0/29 [00:00<?, ?batch/s]"
      ]
     },
     "metadata": {},
     "output_type": "display_data"
    },
    {
     "data": {
      "application/vnd.jupyter.widget-view+json": {
       "model_id": "eaef7f42cd7c496c8f5088c3f794f7ae",
       "version_major": 2,
       "version_minor": 0
      },
      "text/plain": [
       "Epoch 156/2000:   0%|          | 0/29 [00:00<?, ?batch/s]"
      ]
     },
     "metadata": {},
     "output_type": "display_data"
    },
    {
     "name": "stdout",
     "output_type": "stream",
     "text": [
      "Early stopping triggered: patience threshold reached.\n"
     ]
    }
   ],
   "source": [
    "# initialize SHRED\n",
    "shred2 = SHRED(sequence='LSTM', decoder='SDN')\n",
    "# fit SHRED\n",
    "val_errors = shred2.fit(train_set_2, val_set_2, num_epochs=num_epochs, patience=100, verbose=True)"
   ]
  },
  {
   "cell_type": "code",
   "execution_count": 60,
   "id": "ef135eb5-3099-48c6-a93b-ef855dad568c",
   "metadata": {},
   "outputs": [
    {
     "data": {
      "text/html": [
       "<div>\n",
       "<style scoped>\n",
       "    .dataframe tbody tr th:only-of-type {\n",
       "        vertical-align: middle;\n",
       "    }\n",
       "\n",
       "    .dataframe tbody tr th {\n",
       "        vertical-align: top;\n",
       "    }\n",
       "\n",
       "    .dataframe thead th {\n",
       "        text-align: right;\n",
       "    }\n",
       "</style>\n",
       "<table border=\"1\" class=\"dataframe\">\n",
       "  <thead>\n",
       "    <tr style=\"text-align: right;\">\n",
       "      <th></th>\n",
       "      <th>ni_3D</th>\n",
       "    </tr>\n",
       "  </thead>\n",
       "  <tbody>\n",
       "    <tr>\n",
       "      <th>reconstruction</th>\n",
       "      <td>0.070300</td>\n",
       "    </tr>\n",
       "    <tr>\n",
       "      <th>prediction</th>\n",
       "      <td>0.131140</td>\n",
       "    </tr>\n",
       "    <tr>\n",
       "      <th>forecast</th>\n",
       "      <td>0.132813</td>\n",
       "    </tr>\n",
       "    <tr>\n",
       "      <th>sensor_forecast</th>\n",
       "      <td>0.104509</td>\n",
       "    </tr>\n",
       "  </tbody>\n",
       "</table>\n",
       "</div>"
      ],
      "text/plain": [
       "                    ni_3D\n",
       "reconstruction   0.070300\n",
       "prediction       0.131140\n",
       "forecast         0.132813\n",
       "sensor_forecast  0.104509"
      ]
     },
     "execution_count": 60,
     "metadata": {},
     "output_type": "execute_result"
    }
   ],
   "source": [
    "evaluate(shred = shred2, test_dataset=test_set_2, data_manager=manager2, uncompress=True, unscale = True)"
   ]
  },
  {
   "cell_type": "code",
   "execution_count": 61,
   "id": "ba9b1b9c-8221-4769-ba85-b2f5a51f86cf",
   "metadata": {},
   "outputs": [],
   "source": [
    "test_set_2.reconstructor_dataset.X = test_set_2.predictor_dataset.X\n",
    "test_set_2.reconstructor_dataset.Y = test_set_2.predictor_dataset.Y"
   ]
  },
  {
   "cell_type": "code",
   "execution_count": 62,
   "id": "ad7e2fad-2546-4ac8-9f74-9db77d1c4dc8",
   "metadata": {},
   "outputs": [
    {
     "data": {
      "text/html": [
       "<div>\n",
       "<style scoped>\n",
       "    .dataframe tbody tr th:only-of-type {\n",
       "        vertical-align: middle;\n",
       "    }\n",
       "\n",
       "    .dataframe tbody tr th {\n",
       "        vertical-align: top;\n",
       "    }\n",
       "\n",
       "    .dataframe thead th {\n",
       "        text-align: right;\n",
       "    }\n",
       "</style>\n",
       "<table border=\"1\" class=\"dataframe\">\n",
       "  <thead>\n",
       "    <tr style=\"text-align: right;\">\n",
       "      <th></th>\n",
       "      <th>ni_3D</th>\n",
       "    </tr>\n",
       "  </thead>\n",
       "  <tbody>\n",
       "    <tr>\n",
       "      <th>reconstruction</th>\n",
       "      <td>0.144771</td>\n",
       "    </tr>\n",
       "  </tbody>\n",
       "</table>\n",
       "</div>"
      ],
      "text/plain": [
       "                   ni_3D\n",
       "reconstruction  0.144771"
      ]
     },
     "execution_count": 62,
     "metadata": {},
     "output_type": "execute_result"
    }
   ],
   "source": [
    "# PREDICTION (NOT RECONSTRUCTION) WITH \"SINGLE_MODEL\" Version\n",
    "evaluate(shred = shred, test_dataset=test_set_2, data_manager=manager, uncompress=True, unscale = True)"
   ]
  },
  {
   "cell_type": "code",
   "execution_count": null,
   "id": "0121446e-501a-4f7d-827e-1a8eb7ad2c74",
   "metadata": {},
   "outputs": [],
   "source": []
  },
  {
   "cell_type": "code",
   "execution_count": null,
   "id": "a195a483-4d0c-44a9-826f-ccb3ae09023f",
   "metadata": {},
   "outputs": [],
   "source": []
  }
 ],
 "metadata": {
  "kernelspec": {
   "display_name": "Python 3 (ipykernel)",
   "language": "python",
   "name": "python3"
  },
  "language_info": {
   "codemirror_mode": {
    "name": "ipython",
    "version": 3
   },
   "file_extension": ".py",
   "mimetype": "text/x-python",
   "name": "python",
   "nbconvert_exporter": "python",
   "pygments_lexer": "ipython3",
   "version": "3.10.11"
  }
 },
 "nbformat": 4,
 "nbformat_minor": 5
}
