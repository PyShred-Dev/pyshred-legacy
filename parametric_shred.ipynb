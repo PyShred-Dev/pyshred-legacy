{
 "cells": [
  {
   "cell_type": "code",
   "execution_count": 65,
   "metadata": {},
   "outputs": [
    {
     "name": "stdout",
     "output_type": "stream",
     "text": [
      "The autoreload extension is already loaded. To reload it, use:\n",
      "  %reload_ext autoreload\n"
     ]
    }
   ],
   "source": [
    "import numpy as np\n",
    "import os\n",
    "import torch\n",
    "from misc.example_helper import *\n",
    "import importlib\n",
    "import processing\n",
    "import models\n",
    "%load_ext autoreload\n",
    "%autoreload 2\n",
    "importlib.reload(processing)\n",
    "importlib.reload(models)\n",
    "from processing.parametric_data_manager import ParametricSHREDDataManager\n",
    "from models.shred_models import SHRED"
   ]
  },
  {
   "cell_type": "code",
   "execution_count": 69,
   "metadata": {},
   "outputs": [
    {
     "name": "stdout",
     "output_type": "stream",
     "text": [
      "compressed full_state_data: (70350, 20)\n",
      "done generating dataset\n"
     ]
    }
   ],
   "source": [
    "import os\n",
    "\n",
    "# Initialize ParametricSHREDDataManager\n",
    "# manager = ParametricSHREDDataManager(\n",
    "#     lags = 20,\n",
    "#     train_size = 0.7,\n",
    "#     val_size = 0.15,\n",
    "#     test_size = 0.15,\n",
    "#     scaling = \"minmax\",\n",
    "#     compression = 20,\n",
    "#     time=np.arange(0, 201),\n",
    "#     )\n",
    "\n",
    "# Add data to manager (with sensors)\n",
    "dataset = np.load('kuramoto_sivashinsky\\KuramotoSivashinsky_data.npz')\n",
    "data = dataset['u'] # shape (500, 201, 100)\n",
    "mu = dataset['mu'] # shape (500, 201, 2)\n",
    "mobile_sensors = [\n",
    "    forward_backward_walk(start=0, end = data.shape[2], timesteps=data.shape[1], forward_first=True),\n",
    "    forward_backward_walk(start=0, end = data.shape[2], timesteps=data.shape[1], forward_first=False),\n",
    "]\n",
    "\n",
    "manager.add(\n",
    "    data=data,\n",
    "    random_sensors=2,\n",
    "    stationary_sensors=[(0,), (1,)],\n",
    "    # mobile_sensors=mobile_sensors,\n",
    "    params=mu,\n",
    "    id = 'KS'\n",
    ")\n"
   ]
  },
  {
   "cell_type": "code",
   "execution_count": null,
   "metadata": {},
   "outputs": [
    {
     "data": {
      "text/html": [
       "<div>\n",
       "<style scoped>\n",
       "    .dataframe tbody tr th:only-of-type {\n",
       "        vertical-align: middle;\n",
       "    }\n",
       "\n",
       "    .dataframe tbody tr th {\n",
       "        vertical-align: top;\n",
       "    }\n",
       "\n",
       "    .dataframe thead th {\n",
       "        text-align: right;\n",
       "    }\n",
       "</style>\n",
       "<table border=\"1\" class=\"dataframe\">\n",
       "  <thead>\n",
       "    <tr style=\"text-align: right;\">\n",
       "      <th></th>\n",
       "      <th>trajectory</th>\n",
       "      <th>time</th>\n",
       "      <th>KS2-0</th>\n",
       "      <th>KS2-1</th>\n",
       "      <th>KS2-2</th>\n",
       "      <th>KS2-3</th>\n",
       "      <th>KS2 param 0</th>\n",
       "      <th>KS2 param 1</th>\n",
       "      <th>KS-0</th>\n",
       "      <th>KS-1</th>\n",
       "      <th>KS-2</th>\n",
       "      <th>KS-3</th>\n",
       "      <th>KS param 0</th>\n",
       "      <th>KS param 1</th>\n",
       "    </tr>\n",
       "  </thead>\n",
       "  <tbody>\n",
       "    <tr>\n",
       "      <th>0</th>\n",
       "      <td>0</td>\n",
       "      <td>0</td>\n",
       "      <td>1.000000</td>\n",
       "      <td>1.093962</td>\n",
       "      <td>-0.113056</td>\n",
       "      <td>-0.747463</td>\n",
       "      <td>1.423285</td>\n",
       "      <td>1.568899</td>\n",
       "      <td>1.000000</td>\n",
       "      <td>1.093962</td>\n",
       "      <td>1.012799</td>\n",
       "      <td>1.122389</td>\n",
       "      <td>1.423285</td>\n",
       "      <td>1.568899</td>\n",
       "    </tr>\n",
       "    <tr>\n",
       "      <th>1</th>\n",
       "      <td>0</td>\n",
       "      <td>1</td>\n",
       "      <td>0.376289</td>\n",
       "      <td>0.546796</td>\n",
       "      <td>-0.116359</td>\n",
       "      <td>-0.219015</td>\n",
       "      <td>1.423285</td>\n",
       "      <td>1.568899</td>\n",
       "      <td>0.376289</td>\n",
       "      <td>0.546796</td>\n",
       "      <td>1.255018</td>\n",
       "      <td>1.374909</td>\n",
       "      <td>1.423285</td>\n",
       "      <td>1.568899</td>\n",
       "    </tr>\n",
       "    <tr>\n",
       "      <th>2</th>\n",
       "      <td>0</td>\n",
       "      <td>2</td>\n",
       "      <td>0.450057</td>\n",
       "      <td>0.619256</td>\n",
       "      <td>-0.059762</td>\n",
       "      <td>-0.145222</td>\n",
       "      <td>1.423285</td>\n",
       "      <td>1.568899</td>\n",
       "      <td>0.450057</td>\n",
       "      <td>0.619256</td>\n",
       "      <td>1.267902</td>\n",
       "      <td>1.406423</td>\n",
       "      <td>1.423285</td>\n",
       "      <td>1.568899</td>\n",
       "    </tr>\n",
       "    <tr>\n",
       "      <th>3</th>\n",
       "      <td>0</td>\n",
       "      <td>3</td>\n",
       "      <td>0.511200</td>\n",
       "      <td>0.682191</td>\n",
       "      <td>-0.017287</td>\n",
       "      <td>-0.089331</td>\n",
       "      <td>1.423285</td>\n",
       "      <td>1.568899</td>\n",
       "      <td>0.511200</td>\n",
       "      <td>0.682191</td>\n",
       "      <td>1.214194</td>\n",
       "      <td>1.372328</td>\n",
       "      <td>1.423285</td>\n",
       "      <td>1.568899</td>\n",
       "    </tr>\n",
       "    <tr>\n",
       "      <th>4</th>\n",
       "      <td>0</td>\n",
       "      <td>4</td>\n",
       "      <td>0.556852</td>\n",
       "      <td>0.728624</td>\n",
       "      <td>0.010436</td>\n",
       "      <td>-0.042774</td>\n",
       "      <td>1.423285</td>\n",
       "      <td>1.568899</td>\n",
       "      <td>0.556852</td>\n",
       "      <td>0.728624</td>\n",
       "      <td>1.106193</td>\n",
       "      <td>1.288485</td>\n",
       "      <td>1.423285</td>\n",
       "      <td>1.568899</td>\n",
       "    </tr>\n",
       "    <tr>\n",
       "      <th>...</th>\n",
       "      <td>...</td>\n",
       "      <td>...</td>\n",
       "      <td>...</td>\n",
       "      <td>...</td>\n",
       "      <td>...</td>\n",
       "      <td>...</td>\n",
       "      <td>...</td>\n",
       "      <td>...</td>\n",
       "      <td>...</td>\n",
       "      <td>...</td>\n",
       "      <td>...</td>\n",
       "      <td>...</td>\n",
       "      <td>...</td>\n",
       "      <td>...</td>\n",
       "    </tr>\n",
       "    <tr>\n",
       "      <th>100495</th>\n",
       "      <td>499</td>\n",
       "      <td>196</td>\n",
       "      <td>-0.658349</td>\n",
       "      <td>-0.446285</td>\n",
       "      <td>-0.332669</td>\n",
       "      <td>-1.145717</td>\n",
       "      <td>1.160304</td>\n",
       "      <td>1.782302</td>\n",
       "      <td>-0.658349</td>\n",
       "      <td>-0.446285</td>\n",
       "      <td>1.298624</td>\n",
       "      <td>1.141735</td>\n",
       "      <td>1.160304</td>\n",
       "      <td>1.782302</td>\n",
       "    </tr>\n",
       "    <tr>\n",
       "      <th>100496</th>\n",
       "      <td>499</td>\n",
       "      <td>197</td>\n",
       "      <td>-0.602322</td>\n",
       "      <td>-0.400786</td>\n",
       "      <td>-0.069085</td>\n",
       "      <td>-0.967043</td>\n",
       "      <td>1.160304</td>\n",
       "      <td>1.782302</td>\n",
       "      <td>-0.602322</td>\n",
       "      <td>-0.400786</td>\n",
       "      <td>0.864708</td>\n",
       "      <td>0.718628</td>\n",
       "      <td>1.160304</td>\n",
       "      <td>1.782302</td>\n",
       "    </tr>\n",
       "    <tr>\n",
       "      <th>100497</th>\n",
       "      <td>499</td>\n",
       "      <td>198</td>\n",
       "      <td>-0.181651</td>\n",
       "      <td>-0.137417</td>\n",
       "      <td>0.135359</td>\n",
       "      <td>-0.120816</td>\n",
       "      <td>1.160304</td>\n",
       "      <td>1.782302</td>\n",
       "      <td>-0.181651</td>\n",
       "      <td>-0.137417</td>\n",
       "      <td>0.507888</td>\n",
       "      <td>0.385593</td>\n",
       "      <td>1.160304</td>\n",
       "      <td>1.782302</td>\n",
       "    </tr>\n",
       "    <tr>\n",
       "      <th>100498</th>\n",
       "      <td>499</td>\n",
       "      <td>199</td>\n",
       "      <td>0.561369</td>\n",
       "      <td>0.286482</td>\n",
       "      <td>0.291639</td>\n",
       "      <td>1.265992</td>\n",
       "      <td>1.160304</td>\n",
       "      <td>1.782302</td>\n",
       "      <td>0.561369</td>\n",
       "      <td>0.286482</td>\n",
       "      <td>0.241034</td>\n",
       "      <td>0.147947</td>\n",
       "      <td>1.160304</td>\n",
       "      <td>1.782302</td>\n",
       "    </tr>\n",
       "    <tr>\n",
       "      <th>100499</th>\n",
       "      <td>499</td>\n",
       "      <td>200</td>\n",
       "      <td>1.107502</td>\n",
       "      <td>0.550033</td>\n",
       "      <td>0.403744</td>\n",
       "      <td>2.283155</td>\n",
       "      <td>1.160304</td>\n",
       "      <td>1.782302</td>\n",
       "      <td>1.107502</td>\n",
       "      <td>0.550033</td>\n",
       "      <td>0.046892</td>\n",
       "      <td>-0.015056</td>\n",
       "      <td>1.160304</td>\n",
       "      <td>1.782302</td>\n",
       "    </tr>\n",
       "  </tbody>\n",
       "</table>\n",
       "<p>100500 rows × 14 columns</p>\n",
       "</div>"
      ],
      "text/plain": [
       "        trajectory  time     KS2-0     KS2-1     KS2-2     KS2-3  KS2 param 0  \\\n",
       "0                0     0  1.000000  1.093962 -0.113056 -0.747463     1.423285   \n",
       "1                0     1  0.376289  0.546796 -0.116359 -0.219015     1.423285   \n",
       "2                0     2  0.450057  0.619256 -0.059762 -0.145222     1.423285   \n",
       "3                0     3  0.511200  0.682191 -0.017287 -0.089331     1.423285   \n",
       "4                0     4  0.556852  0.728624  0.010436 -0.042774     1.423285   \n",
       "...            ...   ...       ...       ...       ...       ...          ...   \n",
       "100495         499   196 -0.658349 -0.446285 -0.332669 -1.145717     1.160304   \n",
       "100496         499   197 -0.602322 -0.400786 -0.069085 -0.967043     1.160304   \n",
       "100497         499   198 -0.181651 -0.137417  0.135359 -0.120816     1.160304   \n",
       "100498         499   199  0.561369  0.286482  0.291639  1.265992     1.160304   \n",
       "100499         499   200  1.107502  0.550033  0.403744  2.283155     1.160304   \n",
       "\n",
       "        KS2 param 1      KS-0      KS-1      KS-2      KS-3  KS param 0  \\\n",
       "0          1.568899  1.000000  1.093962  1.012799  1.122389    1.423285   \n",
       "1          1.568899  0.376289  0.546796  1.255018  1.374909    1.423285   \n",
       "2          1.568899  0.450057  0.619256  1.267902  1.406423    1.423285   \n",
       "3          1.568899  0.511200  0.682191  1.214194  1.372328    1.423285   \n",
       "4          1.568899  0.556852  0.728624  1.106193  1.288485    1.423285   \n",
       "...             ...       ...       ...       ...       ...         ...   \n",
       "100495     1.782302 -0.658349 -0.446285  1.298624  1.141735    1.160304   \n",
       "100496     1.782302 -0.602322 -0.400786  0.864708  0.718628    1.160304   \n",
       "100497     1.782302 -0.181651 -0.137417  0.507888  0.385593    1.160304   \n",
       "100498     1.782302  0.561369  0.286482  0.241034  0.147947    1.160304   \n",
       "100499     1.782302  1.107502  0.550033  0.046892 -0.015056    1.160304   \n",
       "\n",
       "        KS param 1  \n",
       "0         1.568899  \n",
       "1         1.568899  \n",
       "2         1.568899  \n",
       "3         1.568899  \n",
       "4         1.568899  \n",
       "...            ...  \n",
       "100495    1.782302  \n",
       "100496    1.782302  \n",
       "100497    1.782302  \n",
       "100498    1.782302  \n",
       "100499    1.782302  \n",
       "\n",
       "[100500 rows x 14 columns]"
      ]
     },
     "execution_count": 70,
     "metadata": {},
     "output_type": "execute_result"
    }
   ],
   "source": [
    "#seperate sensors from params, so when user enters new data, it is clear what the sensor order is and what the param order is when there are sensor data and param data from multiple fields\n",
    "# do multiple fields make sense in parametric shred? \n",
    "# can different fields have different params? the result of 'mixing up' params of one field and keeping another field params constant to see effect??\n",
    "manager.sensor_measurements"
   ]
  },
  {
   "cell_type": "code",
   "execution_count": 14,
   "metadata": {},
   "outputs": [
    {
     "data": {
      "text/html": [
       "<div>\n",
       "<style scoped>\n",
       "    .dataframe tbody tr th:only-of-type {\n",
       "        vertical-align: middle;\n",
       "    }\n",
       "\n",
       "    .dataframe tbody tr th {\n",
       "        vertical-align: top;\n",
       "    }\n",
       "\n",
       "    .dataframe thead th {\n",
       "        text-align: right;\n",
       "    }\n",
       "</style>\n",
       "<table border=\"1\" class=\"dataframe\">\n",
       "  <thead>\n",
       "    <tr style=\"text-align: right;\">\n",
       "      <th></th>\n",
       "      <th>field id</th>\n",
       "      <th>sensor id</th>\n",
       "      <th>sensor type</th>\n",
       "      <th>location/trajectory</th>\n",
       "    </tr>\n",
       "  </thead>\n",
       "  <tbody>\n",
       "    <tr>\n",
       "      <th>0</th>\n",
       "      <td>KS2</td>\n",
       "      <td>KS2-0</td>\n",
       "      <td>stationary (user selected)</td>\n",
       "      <td>(0,)</td>\n",
       "    </tr>\n",
       "    <tr>\n",
       "      <th>1</th>\n",
       "      <td>KS2</td>\n",
       "      <td>KS2-1</td>\n",
       "      <td>stationary (user selected)</td>\n",
       "      <td>(1,)</td>\n",
       "    </tr>\n",
       "    <tr>\n",
       "      <th>2</th>\n",
       "      <td>KS2</td>\n",
       "      <td>KS2-2</td>\n",
       "      <td>stationary (user selected)</td>\n",
       "      <td>(79,)</td>\n",
       "    </tr>\n",
       "    <tr>\n",
       "      <th>3</th>\n",
       "      <td>KS2</td>\n",
       "      <td>KS2-3</td>\n",
       "      <td>stationary (user selected)</td>\n",
       "      <td>(6,)</td>\n",
       "    </tr>\n",
       "  </tbody>\n",
       "</table>\n",
       "</div>"
      ],
      "text/plain": [
       "  field id sensor id                 sensor type location/trajectory\n",
       "0      KS2     KS2-0  stationary (user selected)                (0,)\n",
       "1      KS2     KS2-1  stationary (user selected)                (1,)\n",
       "2      KS2     KS2-2  stationary (user selected)               (79,)\n",
       "3      KS2     KS2-3  stationary (user selected)                (6,)"
      ]
     },
     "execution_count": 14,
     "metadata": {},
     "output_type": "execute_result"
    }
   ],
   "source": [
    "manager.input_summary"
   ]
  },
  {
   "cell_type": "code",
   "execution_count": 15,
   "metadata": {},
   "outputs": [
    {
     "name": "stdout",
     "output_type": "stream",
     "text": [
      "Data Shapes:\n",
      "Reconstructor Data\n",
      "train X: torch.Size([70350, 21, 6])\n",
      "train Y: torch.Size([70350, 20])\n",
      "valid X: torch.Size([15075, 21, 6])\n",
      "valid Y: torch.Size([15075, 20])\n",
      "test X: torch.Size([15075, 21, 6])\n",
      "test Y: torch.Size([15075, 20])\n"
     ]
    }
   ],
   "source": [
    "# Get train/valid/test datasets\n",
    "train_set, valid_set, test_set = manager.preprocess()\n",
    "\n",
    "# Print dataset shapes\n",
    "print('Data Shapes:')\n",
    "print ('Reconstructor Data')\n",
    "print('train X:', train_set.reconstructor.X.shape)\n",
    "print('train Y:', train_set.reconstructor.Y.shape)\n",
    "print('valid X:', valid_set.reconstructor.X.shape)\n",
    "print('valid Y:', valid_set.reconstructor.Y.shape)\n",
    "print('test X:', test_set.reconstructor.X.shape)\n",
    "print('test Y:', test_set.reconstructor.Y.shape)"
   ]
  },
  {
   "cell_type": "code",
   "execution_count": 62,
   "metadata": {},
   "outputs": [
    {
     "name": "stdout",
     "output_type": "stream",
     "text": [
      "field_spatial_dim 20\n",
      "field_data.shape (70350, 20)\n"
     ]
    }
   ],
   "source": [
    "result = manager.postprocess(train_set.reconstructor.Y)"
   ]
  },
  {
   "cell_type": "code",
   "execution_count": 36,
   "metadata": {},
   "outputs": [],
   "source": [
    "r = result['KS']"
   ]
  },
  {
   "cell_type": "code",
   "execution_count": null,
   "metadata": {},
   "outputs": [
    {
     "data": {
      "text/plain": [
       "(70350, 100)"
      ]
     },
     "execution_count": 37,
     "metadata": {},
     "output_type": "execute_result"
    }
   ],
   "source": [
    "r.shape # further reshape"
   ]
  },
  {
   "cell_type": "code",
   "execution_count": null,
   "metadata": {},
   "outputs": [],
   "source": []
  },
  {
   "cell_type": "code",
   "execution_count": 27,
   "metadata": {},
   "outputs": [],
   "source": [
    "\n",
    "\n",
    "\n",
    "# shape (500, 201, 100)"
   ]
  },
  {
   "cell_type": "code",
   "execution_count": null,
   "metadata": {},
   "outputs": [
    {
     "name": "stderr",
     "output_type": "stream",
     "text": [
      "Epoch 2/10:  11%|█▏        | 126/1100 [00:14<00:10, 91.15batch/s, loss=0.00377, L2=0.133]"
     ]
    }
   ],
   "source": [
    "# initialize SHRED\n",
    "shred = SHRED(sequence='LSTM', decoder='SDN')\n",
    "# fit SHRED\n",
    "shred.fit(train_set, valid_set, num_epochs=10)"
   ]
  },
  {
   "cell_type": "code",
   "execution_count": null,
   "metadata": {},
   "outputs": [],
   "source": [
    "prediction = shred._reconstructor(test_set.reconstructor.X).detach().cpu().numpy()\n",
    "prediction.shape"
   ]
  },
  {
   "cell_type": "code",
   "execution_count": null,
   "metadata": {},
   "outputs": [],
   "source": [
    "### given sensor measurements of shape (ntraj, ntimes, nsensors) -> (ntraj*ntimes, lags, nsensors) and params of (ntraj, ntimes, nparams) -> (ntaj*ntimes, lags, nsensors)\n"
   ]
  },
  {
   "cell_type": "code",
   "execution_count": null,
   "metadata": {},
   "outputs": [],
   "source": [
    "# development testing\n",
    "train_set.reconstructor.X[201,:,0]"
   ]
  },
  {
   "cell_type": "code",
   "execution_count": null,
   "metadata": {},
   "outputs": [],
   "source": [
    "# NEW DATA\n",
    "# n_traj, n_times, nsensors\n",
    "# n_traj, n_times, nparams\n",
    "\n",
    "\n"
   ]
  }
 ],
 "metadata": {
  "kernelspec": {
   "display_name": "pyshred",
   "language": "python",
   "name": "python3"
  },
  "language_info": {
   "codemirror_mode": {
    "name": "ipython",
    "version": 3
   },
   "file_extension": ".py",
   "mimetype": "text/x-python",
   "name": "python",
   "nbconvert_exporter": "python",
   "pygments_lexer": "ipython3",
   "version": "3.10.16"
  }
 },
 "nbformat": 4,
 "nbformat_minor": 2
}
